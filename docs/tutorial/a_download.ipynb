{
 "cells": [
  {
   "cell_type": "markdown",
   "source": [
    "# DOWNLOAD dei dati censuari grezzi"
   ],
   "metadata": {
    "collapsed": false
   }
  },
  {
   "cell_type": "markdown",
   "source": [
    "L'installazione di ISTAT Cell Data si effettua con il classico `pip install istatcelldata`. Se si ha la necessità di installare una versione specifica si può fare riferimento [qui](istatcelldata)."
   ],
   "metadata": {
    "collapsed": false
   }
  },
  {
   "cell_type": "markdown",
   "source": [
    "## Import delle librerie"
   ],
   "metadata": {
    "collapsed": false
   }
  },
  {
   "cell_type": "code",
   "execution_count": 5,
   "outputs": [],
   "source": [
    "from pathlib import Path\n",
    "from istatcelldata.processes import download_raw_data"
   ],
   "metadata": {
    "collapsed": false,
    "ExecuteTime": {
     "start_time": "2023-04-14T13:20:01.945388Z",
     "end_time": "2023-04-14T13:20:01.999768Z"
    }
   }
  },
  {
   "cell_type": "markdown",
   "source": [
    "## Definizione del path di destinazione dei dati"
   ],
   "metadata": {
    "collapsed": false
   }
  },
  {
   "cell_type": "code",
   "execution_count": 6,
   "outputs": [],
   "source": [
    "output_path = Path('/home/max/Desktop/test')"
   ],
   "metadata": {
    "collapsed": false,
    "ExecuteTime": {
     "start_time": "2023-04-14T13:20:01.973909Z",
     "end_time": "2023-04-14T13:20:02.021753Z"
    }
   }
  },
  {
   "cell_type": "markdown",
   "source": [
    "## Download"
   ],
   "metadata": {
    "collapsed": false
   }
  },
  {
   "cell_type": "code",
   "execution_count": 7,
   "outputs": [
    {
     "name": "stderr",
     "output_type": "stream",
     "text": [
      "2023-04-14 13:20:01,975 | 36547 - Start analysis at 2023-04-14 13:20:01.975889\n",
      "2023-04-14 13:20:01,977 | 36547 - Start download census data for year 1991\n",
      "2023-04-14 13:20:01,977 | 36547 - Make folder for 1991' census data and geodata.\n",
      "2023-04-14 13:20:01,978 | 36547 - Download census data\n",
      "2023-04-14 13:20:01,978 | 36547 - Download census data | https://www.istat.it/storage/cartografia/variabili-censuarie/dati-cpa_1991.zip\n"
     ]
    },
    {
     "data": {
      "text/plain": "Downloading...:   0%|          | 0/63997644 [00:00<?, ?it/s]",
      "application/vnd.jupyter.widget-view+json": {
       "version_major": 2,
       "version_minor": 0,
       "model_id": "5090a59526b640308c70e395f8544479"
      }
     },
     "metadata": {},
     "output_type": "display_data"
    },
    {
     "name": "stderr",
     "output_type": "stream",
     "text": [
      "2023-04-14 13:20:14,031 | 36547 - Download completed\n",
      "2023-04-14 13:20:14,032 | 36547 - Unzip file\n",
      "2023-04-14 13:20:15,358 | 36547 - Deleting zip file | /home/max/Desktop/test/preprocessing/census_1991/data/dati-cpa_1991.zip\n",
      "2023-04-14 13:20:15,366 | 36547 - File deleted\n",
      "2023-04-14 13:20:15,370 | 36547 - Convert xls to csv for 1991\n",
      "2023-04-14 13:20:15,371 | 36547 - Read data from /home/max/Desktop/test/preprocessing/census_1991/data/dati-cpa_1991\\R13_DatiCPA_1991.xls\n",
      "2023-04-14 13:20:17,072 | 36547 - Save data to /home/max/Desktop/test/preprocessing/census_1991/data/Sezioni di Censimento/tracciato_1991_sezioni.csv\n",
      "2023-04-14 13:20:17,074 | 36547 - Read data from /home/max/Desktop/test/preprocessing/census_1991/data/dati-cpa_1991\\R13_DatiCPA_1991.xls\n",
      "100%|██████████| 7293/7293 [00:00<00:00, 254639.33it/s]\n",
      "2023-04-14 13:20:18,912 | 36547 - Make DataFrame\n",
      "2023-04-14 13:20:19,057 | 36547 - Save data to /home/max/Desktop/test/preprocessing/census_1991/data/Sezioni di Censimento/R13_DatiCPA_1991.csv\n",
      "2023-04-14 13:20:19,261 | 36547 - Read data from /home/max/Desktop/test/preprocessing/census_1991/data/dati-cpa_1991\\R03_DatiCPA_1991.xls\n",
      "100%|██████████| 37967/37967 [00:00<00:00, 174427.48it/s]\n",
      "2023-04-14 13:20:27,320 | 36547 - Make DataFrame\n",
      "2023-04-14 13:20:28,926 | 36547 - Save data to /home/max/Desktop/test/preprocessing/census_1991/data/Sezioni di Censimento/R03_DatiCPA_1991.csv\n",
      "2023-04-14 13:20:30,240 | 36547 - Read data from /home/max/Desktop/test/preprocessing/census_1991/data/dati-cpa_1991\\R06_DatiCPA_1991.xls\n",
      "100%|██████████| 5688/5688 [00:00<00:00, 261079.69it/s]\n",
      "2023-04-14 13:20:31,505 | 36547 - Make DataFrame\n",
      "2023-04-14 13:20:31,607 | 36547 - Save data to /home/max/Desktop/test/preprocessing/census_1991/data/Sezioni di Censimento/R06_DatiCPA_1991.csv\n",
      "2023-04-14 13:20:31,760 | 36547 - Read data from /home/max/Desktop/test/preprocessing/census_1991/data/dati-cpa_1991\\R11_DatiCPA_1991.xls\n",
      "100%|██████████| 9606/9606 [00:00<00:00, 267796.27it/s]\n",
      "2023-04-14 13:20:33,696 | 36547 - Make DataFrame\n",
      "2023-04-14 13:20:33,848 | 36547 - Save data to /home/max/Desktop/test/preprocessing/census_1991/data/Sezioni di Censimento/R11_DatiCPA_1991.csv\n",
      "2023-04-14 13:20:34,086 | 36547 - Read data from /home/max/Desktop/test/preprocessing/census_1991/data/dati-cpa_1991\\R02_DatiCPA_1991.xls\n",
      "100%|██████████| 1163/1163 [00:00<00:00, 634079.75it/s]\n",
      "2023-04-14 13:20:34,332 | 36547 - Make DataFrame\n",
      "2023-04-14 13:20:34,345 | 36547 - Save data to /home/max/Desktop/test/preprocessing/census_1991/data/Sezioni di Censimento/R02_DatiCPA_1991.csv\n",
      "2023-04-14 13:20:34,375 | 36547 - Read data from /home/max/Desktop/test/preprocessing/census_1991/data/dati-cpa_1991\\R09_DatiCPA_1991.xls\n",
      "100%|██████████| 22875/22875 [00:00<00:00, 237562.75it/s]\n",
      "2023-04-14 13:20:39,306 | 36547 - Make DataFrame\n",
      "2023-04-14 13:20:39,770 | 36547 - Save data to /home/max/Desktop/test/preprocessing/census_1991/data/Sezioni di Censimento/R09_DatiCPA_1991.csv\n",
      "2023-04-14 13:20:40,317 | 36547 - Read data from /home/max/Desktop/test/preprocessing/census_1991/data/dati-cpa_1991\\R17_DatiCPA_1991.xls\n",
      "100%|██████████| 3204/3204 [00:00<00:00, 14718.95it/s]\n",
      "2023-04-14 13:20:41,239 | 36547 - Make DataFrame\n",
      "2023-04-14 13:20:41,298 | 36547 - Save data to /home/max/Desktop/test/preprocessing/census_1991/data/Sezioni di Censimento/R17_DatiCPA_1991.csv\n",
      "2023-04-14 13:20:41,383 | 36547 - Read data from /home/max/Desktop/test/preprocessing/census_1991/data/dati-cpa_1991\\R01_DatiCPA_1991.xls\n",
      "100%|██████████| 25658/25658 [00:00<00:00, 202748.44it/s]\n",
      "2023-04-14 13:20:46,997 | 36547 - Make DataFrame\n",
      "2023-04-14 13:20:47,549 | 36547 - Save data to /home/max/Desktop/test/preprocessing/census_1991/data/Sezioni di Censimento/R01_DatiCPA_1991.csv\n",
      "2023-04-14 13:20:48,462 | 36547 - Read data from /home/max/Desktop/test/preprocessing/census_1991/data/dati-cpa_1991\\R04_DatiCPA_1991.xls\n",
      "100%|██████████| 8424/8424 [00:00<00:00, 245537.30it/s]\n",
      "2023-04-14 13:20:50,368 | 36547 - Make DataFrame\n",
      "2023-04-14 13:20:50,495 | 36547 - Save data to /home/max/Desktop/test/preprocessing/census_1991/data/Sezioni di Censimento/R04_DatiCPA_1991.csv\n",
      "2023-04-14 13:20:50,728 | 36547 - Read data from /home/max/Desktop/test/preprocessing/census_1991/data/dati-cpa_1991\\R16_DatiCPA_1991.xls\n",
      "100%|██████████| 17046/17046 [00:00<00:00, 46375.99it/s]\n",
      "2023-04-14 13:20:54,927 | 36547 - Make DataFrame\n",
      "2023-04-14 13:20:55,213 | 36547 - Save data to /home/max/Desktop/test/preprocessing/census_1991/data/Sezioni di Censimento/R16_DatiCPA_1991.csv\n",
      "2023-04-14 13:20:55,649 | 36547 - Read data from /home/max/Desktop/test/preprocessing/census_1991/data/dati-cpa_1991\\R15_DatiCPA_1991.xls\n",
      "100%|██████████| 19317/19317 [00:00<00:00, 58055.36it/s]\n",
      "2023-04-14 13:20:59,875 | 36547 - Make DataFrame\n",
      "2023-04-14 13:21:00,347 | 36547 - Save data to /home/max/Desktop/test/preprocessing/census_1991/data/Sezioni di Censimento/R15_DatiCPA_1991.csv\n",
      "2023-04-14 13:21:00,915 | 36547 - Read data from /home/max/Desktop/test/preprocessing/census_1991/data/dati-cpa_1991\\R20_DatiCPA_1991.xls\n",
      "100%|██████████| 7197/7197 [00:00<00:00, 219647.72it/s]\n",
      "2023-04-14 13:21:02,401 | 36547 - Make DataFrame\n",
      "2023-04-14 13:21:02,532 | 36547 - Save data to /home/max/Desktop/test/preprocessing/census_1991/data/Sezioni di Censimento/R20_DatiCPA_1991.csv\n",
      "2023-04-14 13:21:02,735 | 36547 - Read data from /home/max/Desktop/test/preprocessing/census_1991/data/dati-cpa_1991\\R10_DatiCPA_1991.xls\n",
      "100%|██████████| 5997/5997 [00:00<00:00, 283174.31it/s]\n",
      "2023-04-14 13:21:03,953 | 36547 - Make DataFrame\n",
      "2023-04-14 13:21:04,062 | 36547 - Save data to /home/max/Desktop/test/preprocessing/census_1991/data/Sezioni di Censimento/R10_DatiCPA_1991.csv\n",
      "2023-04-14 13:21:04,246 | 36547 - Read data from /home/max/Desktop/test/preprocessing/census_1991/data/dati-cpa_1991\\R18_DatiCPA_1991.xls\n",
      "100%|██████████| 8782/8782 [00:00<00:00, 263102.70it/s]\n",
      "2023-04-14 13:21:06,278 | 36547 - Make DataFrame\n",
      "2023-04-14 13:21:06,413 | 36547 - Save data to /home/max/Desktop/test/preprocessing/census_1991/data/Sezioni di Censimento/R18_DatiCPA_1991.csv\n",
      "2023-04-14 13:21:06,652 | 36547 - Read data from /home/max/Desktop/test/preprocessing/census_1991/data/dati-cpa_1991\\R05_DatiCPA_1991.xls\n",
      "100%|██████████| 27713/27713 [00:00<00:00, 77781.81it/s]\n",
      "2023-04-14 13:21:13,380 | 36547 - Make DataFrame\n",
      "2023-04-14 13:21:14,056 | 36547 - Save data to /home/max/Desktop/test/preprocessing/census_1991/data/Sezioni di Censimento/R05_DatiCPA_1991.csv\n",
      "2023-04-14 13:21:14,811 | 36547 - Read data from /home/max/Desktop/test/preprocessing/census_1991/data/dati-cpa_1991\\R14_DatiCPA_1991.xls\n",
      "100%|██████████| 1602/1602 [00:00<00:00, 127172.29it/s]\n",
      "2023-04-14 13:21:15,252 | 36547 - Make DataFrame\n",
      "2023-04-14 13:21:15,294 | 36547 - Save data to /home/max/Desktop/test/preprocessing/census_1991/data/Sezioni di Censimento/R14_DatiCPA_1991.csv\n",
      "2023-04-14 13:21:15,353 | 36547 - Read data from /home/max/Desktop/test/preprocessing/census_1991/data/dati-cpa_1991\\R08_DatiCPA_1991.xls\n",
      "100%|██████████| 30766/30766 [00:00<00:00, 232344.76it/s]\n",
      "2023-04-14 13:21:23,252 | 36547 - Make DataFrame\n",
      "2023-04-14 13:21:23,982 | 36547 - Save data to /home/max/Desktop/test/preprocessing/census_1991/data/Sezioni di Censimento/R08_DatiCPA_1991.csv\n",
      "2023-04-14 13:21:24,711 | 36547 - Read data from /home/max/Desktop/test/preprocessing/census_1991/data/dati-cpa_1991\\R07_DatiCPA_1991.xls\n",
      "100%|██████████| 9664/9664 [00:00<00:00, 168036.46it/s]\n",
      "2023-04-14 13:21:27,117 | 36547 - Make DataFrame\n",
      "2023-04-14 13:21:27,328 | 36547 - Save data to /home/max/Desktop/test/preprocessing/census_1991/data/Sezioni di Censimento/R07_DatiCPA_1991.csv\n",
      "2023-04-14 13:21:27,591 | 36547 - Read data from /home/max/Desktop/test/preprocessing/census_1991/data/dati-cpa_1991\\R19_DatiCPA_1991.xls\n",
      "100%|██████████| 27546/27546 [00:00<00:00, 86133.06it/s] \n",
      "2023-04-14 13:21:33,551 | 36547 - Make DataFrame\n",
      "2023-04-14 13:21:34,088 | 36547 - Save data to /home/max/Desktop/test/preprocessing/census_1991/data/Sezioni di Censimento/R19_DatiCPA_1991.csv\n",
      "2023-04-14 13:21:34,822 | 36547 - Read data from /home/max/Desktop/test/preprocessing/census_1991/data/dati-cpa_1991\\R12_DatiCPA_1991.xls\n",
      "100%|██████████| 22477/22477 [00:00<00:00, 191227.93it/s]\n",
      "2023-04-14 13:21:39,840 | 36547 - Make DataFrame\n",
      "2023-04-14 13:21:40,285 | 36547 - Save data to /home/max/Desktop/test/preprocessing/census_1991/data/Sezioni di Censimento/R12_DatiCPA_1991.csv\n",
      "2023-04-14 13:21:40,935 | 36547 - Download census data completed\n",
      "2023-04-14 13:21:40,936 | 36547 - Make folder for 1991' census data and geodata.\n"
     ]
    },
    {
     "data": {
      "text/plain": "  0%|          | 0/20 [00:00<?, ?it/s]",
      "application/vnd.jupyter.widget-view+json": {
       "version_major": 2,
       "version_minor": 0,
       "model_id": "0fa9867c891a48559f09bd67b94ae549"
      }
     },
     "metadata": {},
     "output_type": "display_data"
    },
    {
     "name": "stderr",
     "output_type": "stream",
     "text": [
      "2023-04-14 13:21:40,945 | 36547 - Download census geodata\n",
      "2023-04-14 13:21:40,945 | 36547 - Download census data | https://www.istat.it/storage/cartografia/basi_territoriali/WGS_84_UTM/1991/R01_91_WGS84.zip\n"
     ]
    },
    {
     "data": {
      "text/plain": "Downloading...:   0%|          | 0/16783978 [00:00<?, ?it/s]",
      "application/vnd.jupyter.widget-view+json": {
       "version_major": 2,
       "version_minor": 0,
       "model_id": "ff79299d828a49fe9dee4c91727fe169"
      }
     },
     "metadata": {},
     "output_type": "display_data"
    },
    {
     "name": "stderr",
     "output_type": "stream",
     "text": [
      "2023-04-14 13:21:44,033 | 36547 - Download completed\n",
      "2023-04-14 13:21:44,034 | 36547 - Unzip file\n",
      "2023-04-14 13:21:44,253 | 36547 - Deleting zip file | /home/max/Desktop/test/preprocessing/census_1991/geodata/R01_91_WGS84.zip\n",
      "2023-04-14 13:21:44,255 | 36547 - File deleted\n",
      "2023-04-14 13:21:44,258 | 36547 - Download census data | https://www.istat.it/storage/cartografia/basi_territoriali/WGS_84_UTM/1991/R02_91_WGS84.zip\n"
     ]
    },
    {
     "data": {
      "text/plain": "Downloading...:   0%|          | 0/1144837 [00:00<?, ?it/s]",
      "application/vnd.jupyter.widget-view+json": {
       "version_major": 2,
       "version_minor": 0,
       "model_id": "1cfa26a5132c4fce95ec039e2a6b29ae"
      }
     },
     "metadata": {},
     "output_type": "display_data"
    },
    {
     "name": "stderr",
     "output_type": "stream",
     "text": [
      "2023-04-14 13:21:44,604 | 36547 - Download completed\n",
      "2023-04-14 13:21:44,604 | 36547 - Unzip file\n",
      "2023-04-14 13:21:44,621 | 36547 - Deleting zip file | /home/max/Desktop/test/preprocessing/census_1991/geodata/R02_91_WGS84.zip\n",
      "2023-04-14 13:21:44,622 | 36547 - File deleted\n",
      "2023-04-14 13:21:44,624 | 36547 - Download census data | https://www.istat.it/storage/cartografia/basi_territoriali/WGS_84_UTM/1991/R03_91_WGS84.zip\n"
     ]
    },
    {
     "data": {
      "text/plain": "Downloading...:   0%|          | 0/22494962 [00:00<?, ?it/s]",
      "application/vnd.jupyter.widget-view+json": {
       "version_major": 2,
       "version_minor": 0,
       "model_id": "922ceaee5d204d21b07246ca0ad75aaf"
      }
     },
     "metadata": {},
     "output_type": "display_data"
    },
    {
     "name": "stderr",
     "output_type": "stream",
     "text": [
      "2023-04-14 13:21:48,248 | 36547 - Download completed\n",
      "2023-04-14 13:21:48,249 | 36547 - Unzip file\n",
      "2023-04-14 13:21:48,529 | 36547 - Deleting zip file | /home/max/Desktop/test/preprocessing/census_1991/geodata/R03_91_WGS84.zip\n",
      "2023-04-14 13:21:48,532 | 36547 - File deleted\n",
      "2023-04-14 13:21:48,534 | 36547 - Download census data | https://www.istat.it/storage/cartografia/basi_territoriali/WGS_84_UTM/1991/R04_91_WGS84.zip\n"
     ]
    },
    {
     "data": {
      "text/plain": "Downloading...:   0%|          | 0/10064858 [00:00<?, ?it/s]",
      "application/vnd.jupyter.widget-view+json": {
       "version_major": 2,
       "version_minor": 0,
       "model_id": "b7cb03640be047fa8cdc9aa5dec3bcd4"
      }
     },
     "metadata": {},
     "output_type": "display_data"
    },
    {
     "name": "stderr",
     "output_type": "stream",
     "text": [
      "2023-04-14 13:21:50,531 | 36547 - Download completed\n",
      "2023-04-14 13:21:50,531 | 36547 - Unzip file\n",
      "2023-04-14 13:21:50,657 | 36547 - Deleting zip file | /home/max/Desktop/test/preprocessing/census_1991/geodata/R04_91_WGS84.zip\n",
      "2023-04-14 13:21:50,659 | 36547 - File deleted\n",
      "2023-04-14 13:21:50,661 | 36547 - Download census data | https://www.istat.it/storage/cartografia/basi_territoriali/WGS_84_UTM/1991/R05_91_WGS84.zip\n"
     ]
    },
    {
     "data": {
      "text/plain": "Downloading...:   0%|          | 0/19433644 [00:00<?, ?it/s]",
      "application/vnd.jupyter.widget-view+json": {
       "version_major": 2,
       "version_minor": 0,
       "model_id": "7f35dde885be4cca89a9d6502dbae594"
      }
     },
     "metadata": {},
     "output_type": "display_data"
    },
    {
     "name": "stderr",
     "output_type": "stream",
     "text": [
      "2023-04-14 13:21:54,262 | 36547 - Download completed\n",
      "2023-04-14 13:21:54,262 | 36547 - Unzip file\n",
      "2023-04-14 13:21:54,508 | 36547 - Deleting zip file | /home/max/Desktop/test/preprocessing/census_1991/geodata/R05_91_WGS84.zip\n",
      "2023-04-14 13:21:54,512 | 36547 - File deleted\n",
      "2023-04-14 13:21:54,514 | 36547 - Download census data | https://www.istat.it/storage/cartografia/basi_territoriali/WGS_84_UTM/1991/R06_91_WGS84.zip\n"
     ]
    },
    {
     "data": {
      "text/plain": "Downloading...:   0%|          | 0/5717246 [00:00<?, ?it/s]",
      "application/vnd.jupyter.widget-view+json": {
       "version_major": 2,
       "version_minor": 0,
       "model_id": "9dfa66fb0254421f841b5bb8863540ea"
      }
     },
     "metadata": {},
     "output_type": "display_data"
    },
    {
     "name": "stderr",
     "output_type": "stream",
     "text": [
      "2023-04-14 13:21:55,680 | 36547 - Download completed\n",
      "2023-04-14 13:21:55,681 | 36547 - Unzip file\n",
      "2023-04-14 13:21:55,755 | 36547 - Deleting zip file | /home/max/Desktop/test/preprocessing/census_1991/geodata/R06_91_WGS84.zip\n",
      "2023-04-14 13:21:55,756 | 36547 - File deleted\n",
      "2023-04-14 13:21:55,758 | 36547 - Download census data | https://www.istat.it/storage/cartografia/basi_territoriali/WGS_84_UTM/1991/R07_91_WGS84.zip\n"
     ]
    },
    {
     "data": {
      "text/plain": "Downloading...:   0%|          | 0/8100372 [00:00<?, ?it/s]",
      "application/vnd.jupyter.widget-view+json": {
       "version_major": 2,
       "version_minor": 0,
       "model_id": "dcacf2d5620544e3ae8bd1c60271c041"
      }
     },
     "metadata": {},
     "output_type": "display_data"
    },
    {
     "name": "stderr",
     "output_type": "stream",
     "text": [
      "2023-04-14 13:21:57,119 | 36547 - Download completed\n",
      "2023-04-14 13:21:57,120 | 36547 - Unzip file\n",
      "2023-04-14 13:21:57,228 | 36547 - Deleting zip file | /home/max/Desktop/test/preprocessing/census_1991/geodata/R07_91_WGS84.zip\n",
      "2023-04-14 13:21:57,229 | 36547 - File deleted\n",
      "2023-04-14 13:21:57,231 | 36547 - Download census data | https://www.istat.it/storage/cartografia/basi_territoriali/WGS_84_UTM/1991/R08_91_WGS84.zip\n"
     ]
    },
    {
     "data": {
      "text/plain": "Downloading...:   0%|          | 0/15928815 [00:00<?, ?it/s]",
      "application/vnd.jupyter.widget-view+json": {
       "version_major": 2,
       "version_minor": 0,
       "model_id": "51f0157120bb47dda18a64d5beced980"
      }
     },
     "metadata": {},
     "output_type": "display_data"
    },
    {
     "name": "stderr",
     "output_type": "stream",
     "text": [
      "2023-04-14 13:21:59,768 | 36547 - Download completed\n",
      "2023-04-14 13:21:59,768 | 36547 - Unzip file\n",
      "2023-04-14 13:21:59,973 | 36547 - Deleting zip file | /home/max/Desktop/test/preprocessing/census_1991/geodata/R08_91_WGS84.zip\n",
      "2023-04-14 13:21:59,976 | 36547 - File deleted\n",
      "2023-04-14 13:21:59,978 | 36547 - Download census data | https://www.istat.it/storage/cartografia/basi_territoriali/WGS_84_UTM/1991/R09_91_WGS84.zip\n"
     ]
    },
    {
     "data": {
      "text/plain": "Downloading...:   0%|          | 0/17239699 [00:00<?, ?it/s]",
      "application/vnd.jupyter.widget-view+json": {
       "version_major": 2,
       "version_minor": 0,
       "model_id": "a3a18e79b1b54a71852658831e57131d"
      }
     },
     "metadata": {},
     "output_type": "display_data"
    },
    {
     "name": "stderr",
     "output_type": "stream",
     "text": [
      "2023-04-14 13:22:02,673 | 36547 - Download completed\n",
      "2023-04-14 13:22:02,674 | 36547 - Unzip file\n",
      "2023-04-14 13:22:02,888 | 36547 - Deleting zip file | /home/max/Desktop/test/preprocessing/census_1991/geodata/R09_91_WGS84.zip\n",
      "2023-04-14 13:22:02,890 | 36547 - File deleted\n",
      "2023-04-14 13:22:02,892 | 36547 - Download census data | https://www.istat.it/storage/cartografia/basi_territoriali/WGS_84_UTM/1991/R10_91_WGS84.zip\n"
     ]
    },
    {
     "data": {
      "text/plain": "Downloading...:   0%|          | 0/6250745 [00:00<?, ?it/s]",
      "application/vnd.jupyter.widget-view+json": {
       "version_major": 2,
       "version_minor": 0,
       "model_id": "ea42f608128244e0a54721097cb1c12a"
      }
     },
     "metadata": {},
     "output_type": "display_data"
    },
    {
     "name": "stderr",
     "output_type": "stream",
     "text": [
      "2023-04-14 13:22:04,015 | 36547 - Download completed\n",
      "2023-04-14 13:22:04,016 | 36547 - Unzip file\n",
      "2023-04-14 13:22:04,111 | 36547 - Deleting zip file | /home/max/Desktop/test/preprocessing/census_1991/geodata/R10_91_WGS84.zip\n",
      "2023-04-14 13:22:04,113 | 36547 - File deleted\n",
      "2023-04-14 13:22:04,115 | 36547 - Download census data | https://www.istat.it/storage/cartografia/basi_territoriali/WGS_84_UTM/1991/R11_91_WGS84.zip\n"
     ]
    },
    {
     "data": {
      "text/plain": "Downloading...:   0%|          | 0/8048495 [00:00<?, ?it/s]",
      "application/vnd.jupyter.widget-view+json": {
       "version_major": 2,
       "version_minor": 0,
       "model_id": "1ba9334b1adc4f7fb7e662a5f7fe9b59"
      }
     },
     "metadata": {},
     "output_type": "display_data"
    },
    {
     "name": "stderr",
     "output_type": "stream",
     "text": [
      "2023-04-14 13:22:05,424 | 36547 - Download completed\n",
      "2023-04-14 13:22:05,425 | 36547 - Unzip file\n",
      "2023-04-14 13:22:05,533 | 36547 - Deleting zip file | /home/max/Desktop/test/preprocessing/census_1991/geodata/R11_91_WGS84.zip\n",
      "2023-04-14 13:22:05,535 | 36547 - File deleted\n",
      "2023-04-14 13:22:05,537 | 36547 - Download census data | https://www.istat.it/storage/cartografia/basi_territoriali/WGS_84_UTM/1991/R12_91_WGS84.zip\n"
     ]
    },
    {
     "data": {
      "text/plain": "Downloading...:   0%|          | 0/12637963 [00:00<?, ?it/s]",
      "application/vnd.jupyter.widget-view+json": {
       "version_major": 2,
       "version_minor": 0,
       "model_id": "02972e916dc242f4a827e13218bbdbdf"
      }
     },
     "metadata": {},
     "output_type": "display_data"
    },
    {
     "name": "stderr",
     "output_type": "stream",
     "text": [
      "2023-04-14 13:22:07,927 | 36547 - Download completed\n",
      "2023-04-14 13:22:07,927 | 36547 - Unzip file\n",
      "2023-04-14 13:22:08,092 | 36547 - Deleting zip file | /home/max/Desktop/test/preprocessing/census_1991/geodata/R12_91_WGS84.zip\n",
      "2023-04-14 13:22:08,094 | 36547 - File deleted\n",
      "2023-04-14 13:22:08,095 | 36547 - Download census data | https://www.istat.it/storage/cartografia/basi_territoriali/WGS_84_UTM/1991/R13_91_WGS84.zip\n"
     ]
    },
    {
     "data": {
      "text/plain": "Downloading...:   0%|          | 0/6151356 [00:00<?, ?it/s]",
      "application/vnd.jupyter.widget-view+json": {
       "version_major": 2,
       "version_minor": 0,
       "model_id": "3c643a72a0b14edd91431cd32a9b1fc9"
      }
     },
     "metadata": {},
     "output_type": "display_data"
    },
    {
     "name": "stderr",
     "output_type": "stream",
     "text": [
      "2023-04-14 13:22:09,232 | 36547 - Download completed\n",
      "2023-04-14 13:22:09,233 | 36547 - Unzip file\n",
      "2023-04-14 13:22:09,311 | 36547 - Deleting zip file | /home/max/Desktop/test/preprocessing/census_1991/geodata/R13_91_WGS84.zip\n",
      "2023-04-14 13:22:09,313 | 36547 - File deleted\n",
      "2023-04-14 13:22:09,316 | 36547 - Download census data | https://www.istat.it/storage/cartografia/basi_territoriali/WGS_84_UTM/1991/R14_91_WGS84.zip\n"
     ]
    },
    {
     "data": {
      "text/plain": "Downloading...:   0%|          | 0/2318204 [00:00<?, ?it/s]",
      "application/vnd.jupyter.widget-view+json": {
       "version_major": 2,
       "version_minor": 0,
       "model_id": "e60c8bf9a5494ddca741ca871079fdee"
      }
     },
     "metadata": {},
     "output_type": "display_data"
    },
    {
     "name": "stderr",
     "output_type": "stream",
     "text": [
      "2023-04-14 13:22:09,898 | 36547 - Download completed\n",
      "2023-04-14 13:22:09,899 | 36547 - Unzip file\n",
      "2023-04-14 13:22:09,926 | 36547 - Deleting zip file | /home/max/Desktop/test/preprocessing/census_1991/geodata/R14_91_WGS84.zip\n",
      "2023-04-14 13:22:09,927 | 36547 - File deleted\n",
      "2023-04-14 13:22:09,930 | 36547 - Download census data | https://www.istat.it/storage/cartografia/basi_territoriali/WGS_84_UTM/1991/R15_91_WGS84.zip\n"
     ]
    },
    {
     "data": {
      "text/plain": "Downloading...:   0%|          | 0/11061001 [00:00<?, ?it/s]",
      "application/vnd.jupyter.widget-view+json": {
       "version_major": 2,
       "version_minor": 0,
       "model_id": "041b56d397c144aa90d344ee32b49aff"
      }
     },
     "metadata": {},
     "output_type": "display_data"
    },
    {
     "name": "stderr",
     "output_type": "stream",
     "text": [
      "2023-04-14 13:22:11,982 | 36547 - Download completed\n",
      "2023-04-14 13:22:11,983 | 36547 - Unzip file\n",
      "2023-04-14 13:22:12,128 | 36547 - Deleting zip file | /home/max/Desktop/test/preprocessing/census_1991/geodata/R15_91_WGS84.zip\n",
      "2023-04-14 13:22:12,130 | 36547 - File deleted\n",
      "2023-04-14 13:22:12,132 | 36547 - Download census data | https://www.istat.it/storage/cartografia/basi_territoriali/WGS_84_UTM/1991/R16_91_WGS84.zip\n"
     ]
    },
    {
     "data": {
      "text/plain": "Downloading...:   0%|          | 0/7772086 [00:00<?, ?it/s]",
      "application/vnd.jupyter.widget-view+json": {
       "version_major": 2,
       "version_minor": 0,
       "model_id": "e5dedd366659491b86f22c93d40f1008"
      }
     },
     "metadata": {},
     "output_type": "display_data"
    },
    {
     "name": "stderr",
     "output_type": "stream",
     "text": [
      "2023-04-14 13:22:13,838 | 36547 - Download completed\n",
      "2023-04-14 13:22:13,838 | 36547 - Unzip file\n",
      "2023-04-14 13:22:13,952 | 36547 - Deleting zip file | /home/max/Desktop/test/preprocessing/census_1991/geodata/R16_91_WGS84.zip\n",
      "2023-04-14 13:22:13,954 | 36547 - File deleted\n",
      "2023-04-14 13:22:13,956 | 36547 - Download census data | https://www.istat.it/storage/cartografia/basi_territoriali/WGS_84_UTM/1991/R17_91_WGS84.zip\n"
     ]
    },
    {
     "data": {
      "text/plain": "Downloading...:   0%|          | 0/3870645 [00:00<?, ?it/s]",
      "application/vnd.jupyter.widget-view+json": {
       "version_major": 2,
       "version_minor": 0,
       "model_id": "6cb4a5262fef49e6b6b91f543f4c543d"
      }
     },
     "metadata": {},
     "output_type": "display_data"
    },
    {
     "name": "stderr",
     "output_type": "stream",
     "text": [
      "2023-04-14 13:22:14,736 | 36547 - Download completed\n",
      "2023-04-14 13:22:14,736 | 36547 - Unzip file\n",
      "2023-04-14 13:22:14,790 | 36547 - Deleting zip file | /home/max/Desktop/test/preprocessing/census_1991/geodata/R17_91_WGS84.zip\n",
      "2023-04-14 13:22:14,792 | 36547 - File deleted\n",
      "2023-04-14 13:22:14,795 | 36547 - Download census data | https://www.istat.it/storage/cartografia/basi_territoriali/WGS_84_UTM/1991/R18_91_WGS84.zip\n"
     ]
    },
    {
     "data": {
      "text/plain": "Downloading...:   0%|          | 0/9987637 [00:00<?, ?it/s]",
      "application/vnd.jupyter.widget-view+json": {
       "version_major": 2,
       "version_minor": 0,
       "model_id": "b1cd01b2d0074709b6b7cf06d293ad54"
      }
     },
     "metadata": {},
     "output_type": "display_data"
    },
    {
     "name": "stderr",
     "output_type": "stream",
     "text": [
      "2023-04-14 13:22:16,439 | 36547 - Download completed\n",
      "2023-04-14 13:22:16,439 | 36547 - Unzip file\n",
      "2023-04-14 13:22:16,559 | 36547 - Deleting zip file | /home/max/Desktop/test/preprocessing/census_1991/geodata/R18_91_WGS84.zip\n",
      "2023-04-14 13:22:16,561 | 36547 - File deleted\n",
      "2023-04-14 13:22:16,563 | 36547 - Download census data | https://www.istat.it/storage/cartografia/basi_territoriali/WGS_84_UTM/1991/R19_91_WGS84.zip\n"
     ]
    },
    {
     "data": {
      "text/plain": "Downloading...:   0%|          | 0/13739150 [00:00<?, ?it/s]",
      "application/vnd.jupyter.widget-view+json": {
       "version_major": 2,
       "version_minor": 0,
       "model_id": "b61472d7ffdf419099fff92db71f3fb3"
      }
     },
     "metadata": {},
     "output_type": "display_data"
    },
    {
     "name": "stderr",
     "output_type": "stream",
     "text": [
      "2023-04-14 13:22:19,309 | 36547 - Download completed\n",
      "2023-04-14 13:22:19,309 | 36547 - Unzip file\n",
      "2023-04-14 13:22:19,486 | 36547 - Deleting zip file | /home/max/Desktop/test/preprocessing/census_1991/geodata/R19_91_WGS84.zip\n",
      "2023-04-14 13:22:19,488 | 36547 - File deleted\n",
      "2023-04-14 13:22:19,490 | 36547 - Download census data | https://www.istat.it/storage/cartografia/basi_territoriali/WGS_84_UTM/1991/R20_91_WGS84.zip\n"
     ]
    },
    {
     "data": {
      "text/plain": "Downloading...:   0%|          | 0/6642049 [00:00<?, ?it/s]",
      "application/vnd.jupyter.widget-view+json": {
       "version_major": 2,
       "version_minor": 0,
       "model_id": "8ecd9a6d2f854995965d2b2f788bfa47"
      }
     },
     "metadata": {},
     "output_type": "display_data"
    },
    {
     "name": "stderr",
     "output_type": "stream",
     "text": [
      "2023-04-14 13:22:20,819 | 36547 - Download completed\n",
      "2023-04-14 13:22:20,819 | 36547 - Unzip file\n",
      "2023-04-14 13:22:20,909 | 36547 - Deleting zip file | /home/max/Desktop/test/preprocessing/census_1991/geodata/R20_91_WGS84.zip\n",
      "2023-04-14 13:22:20,911 | 36547 - File deleted\n",
      "2023-04-14 13:22:20,913 | 36547 - Download census geodata completed\n",
      "2023-04-14 13:22:20,914 | 36547 - Make folder for 1991' census data and geodata.\n",
      "2023-04-14 13:22:20,915 | 36547 - Download administrative boundaries\n",
      "2023-04-14 13:22:20,915 | 36547 - Download census data | https://www.istat.it/storage/cartografia/confini_amministrativi/non_generalizzati/Limiti1991.zip\n"
     ]
    },
    {
     "data": {
      "text/plain": "Downloading...:   0%|          | 0/54627059 [00:00<?, ?it/s]",
      "application/vnd.jupyter.widget-view+json": {
       "version_major": 2,
       "version_minor": 0,
       "model_id": "e30ffc34d2374de8893e7ae5caff9da2"
      }
     },
     "metadata": {},
     "output_type": "display_data"
    },
    {
     "name": "stderr",
     "output_type": "stream",
     "text": [
      "2023-04-14 13:22:30,215 | 36547 - Download completed\n",
      "2023-04-14 13:22:30,216 | 36547 - Unzip file\n",
      "2023-04-14 13:22:30,867 | 36547 - Deleting zip file | /home/max/Desktop/test/preprocessing/census_1991/administrative_boundaries/Limiti1991.zip\n",
      "2023-04-14 13:22:30,875 | 36547 - File deleted\n",
      "2023-04-14 13:22:30,876 | 36547 - Download administrative boundaries completed\n",
      "2023-04-14 13:22:30,877 | 36547 - Start download census data for year 2001\n",
      "2023-04-14 13:22:30,878 | 36547 - Make folder for 2001' census data and geodata.\n",
      "2023-04-14 13:22:30,878 | 36547 - Download census data\n",
      "2023-04-14 13:22:30,878 | 36547 - Download census data | https://www.istat.it/storage/cartografia/variabili-censuarie/dati-cpa_2001.zip\n"
     ]
    },
    {
     "data": {
      "text/plain": "Downloading...:   0%|          | 0/74237908 [00:00<?, ?it/s]",
      "application/vnd.jupyter.widget-view+json": {
       "version_major": 2,
       "version_minor": 0,
       "model_id": "a99501410c5d4e5092e154766cfad07a"
      }
     },
     "metadata": {},
     "output_type": "display_data"
    },
    {
     "name": "stderr",
     "output_type": "stream",
     "text": [
      "2023-04-14 13:22:42,143 | 36547 - Download completed\n",
      "2023-04-14 13:22:42,143 | 36547 - Unzip file\n",
      "2023-04-14 13:22:43,825 | 36547 - Deleting zip file | /home/max/Desktop/test/preprocessing/census_2001/data/dati-cpa_2001.zip\n",
      "2023-04-14 13:22:43,835 | 36547 - File deleted\n",
      "2023-04-14 13:22:43,839 | 36547 - Convert xls to csv for 2001\n",
      "2023-04-14 13:22:43,840 | 36547 - Read data from /home/max/Desktop/test/preprocessing/census_2001/data/dati-cpa_2001\\R02_DatiCPA_2001.xls\n",
      "2023-04-14 13:22:44,176 | 36547 - Save data to /home/max/Desktop/test/preprocessing/census_2001/data/Sezioni di Censimento/tracciato_2001_sezioni.csv\n",
      "2023-04-14 13:22:44,178 | 36547 - Read data from /home/max/Desktop/test/preprocessing/census_2001/data/dati-cpa_2001\\R02_DatiCPA_2001.xls\n",
      "100%|██████████| 1463/1463 [00:00<00:00, 384140.90it/s]\n",
      "2023-04-14 13:22:44,517 | 36547 - Make DataFrame\n",
      "2023-04-14 13:22:44,551 | 36547 - Save data to /home/max/Desktop/test/preprocessing/census_2001/data/Sezioni di Censimento/R02_DatiCPA_2001.csv\n",
      "2023-04-14 13:22:44,597 | 36547 - Read data from /home/max/Desktop/test/preprocessing/census_2001/data/dati-cpa_2001\\R08_DatiCPA_2001.xls\n",
      "100%|██████████| 34921/34921 [00:00<00:00, 219725.25it/s]\n",
      "2023-04-14 13:22:52,539 | 36547 - Make DataFrame\n",
      "2023-04-14 13:22:53,643 | 36547 - Save data to /home/max/Desktop/test/preprocessing/census_2001/data/Sezioni di Censimento/R08_DatiCPA_2001.csv\n",
      "2023-04-14 13:22:54,806 | 36547 - Read data from /home/max/Desktop/test/preprocessing/census_2001/data/dati-cpa_2001\\R20_DatiCPA_2001.xls\n",
      "100%|██████████| 10296/10296 [00:00<00:00, 240776.97it/s]\n",
      "2023-04-14 13:22:57,091 | 36547 - Make DataFrame\n",
      "2023-04-14 13:22:57,252 | 36547 - Save data to /home/max/Desktop/test/preprocessing/census_2001/data/Sezioni di Censimento/R20_DatiCPA_2001.csv\n",
      "2023-04-14 13:22:57,520 | 36547 - Read data from /home/max/Desktop/test/preprocessing/census_2001/data/dati-cpa_2001\\R15_DatiCPA_2001.xls\n",
      "100%|██████████| 21632/21632 [00:00<00:00, 239276.31it/s]\n",
      "2023-04-14 13:23:02,125 | 36547 - Make DataFrame\n",
      "2023-04-14 13:23:02,671 | 36547 - Save data to /home/max/Desktop/test/preprocessing/census_2001/data/Sezioni di Censimento/R15_DatiCPA_2001.csv\n",
      "2023-04-14 13:23:03,213 | 36547 - Read data from /home/max/Desktop/test/preprocessing/census_2001/data/dati-cpa_2001\\R01_DatiCPA_2001.xls\n",
      "100%|██████████| 29805/29805 [00:00<00:00, 222473.96it/s]\n",
      "2023-04-14 13:23:10,692 | 36547 - Make DataFrame\n",
      "2023-04-14 13:23:11,390 | 36547 - Save data to /home/max/Desktop/test/preprocessing/census_2001/data/Sezioni di Censimento/R01_DatiCPA_2001.csv\n",
      "2023-04-14 13:23:12,192 | 36547 - Read data from /home/max/Desktop/test/preprocessing/census_2001/data/dati-cpa_2001\\R17_DatiCPA_2001.xls\n",
      "100%|██████████| 4284/4284 [00:00<00:00, 109964.37it/s]\n",
      "2023-04-14 13:23:13,145 | 36547 - Make DataFrame\n",
      "2023-04-14 13:23:13,595 | 36547 - Save data to /home/max/Desktop/test/preprocessing/census_2001/data/Sezioni di Censimento/R17_DatiCPA_2001.csv\n",
      "2023-04-14 13:23:13,727 | 36547 - Read data from /home/max/Desktop/test/preprocessing/census_2001/data/dati-cpa_2001\\R12_DatiCPA_2001.xls\n",
      "100%|██████████| 27876/27876 [00:00<00:00, 79122.71it/s] \n",
      "2023-04-14 13:23:20,016 | 36547 - Make DataFrame\n",
      "2023-04-14 13:23:20,708 | 36547 - Save data to /home/max/Desktop/test/preprocessing/census_2001/data/Sezioni di Censimento/R12_DatiCPA_2001.csv\n",
      "2023-04-14 13:23:21,421 | 36547 - Read data from /home/max/Desktop/test/preprocessing/census_2001/data/dati-cpa_2001\\R11_DatiCPA_2001.xls\n",
      "100%|██████████| 10653/10653 [00:00<00:00, 242291.37it/s]\n",
      "2023-04-14 13:23:23,698 | 36547 - Make DataFrame\n",
      "2023-04-14 13:23:23,870 | 36547 - Save data to /home/max/Desktop/test/preprocessing/census_2001/data/Sezioni di Censimento/R11_DatiCPA_2001.csv\n",
      "2023-04-14 13:23:24,148 | 36547 - Read data from /home/max/Desktop/test/preprocessing/census_2001/data/dati-cpa_2001\\R03_DatiCPA_2001.xls\n",
      "100%|██████████| 45129/45129 [00:00<00:00, 95213.70it/s] \n",
      "2023-04-14 13:23:33,850 | 36547 - Make DataFrame\n",
      "2023-04-14 13:23:35,840 | 36547 - Save data to /home/max/Desktop/test/preprocessing/census_2001/data/Sezioni di Censimento/R03_DatiCPA_2001.csv\n",
      "2023-04-14 13:23:36,924 | 36547 - Read data from /home/max/Desktop/test/preprocessing/census_2001/data/dati-cpa_2001\\R10_DatiCPA_2001.xls\n",
      "100%|██████████| 6808/6808 [00:00<00:00, 256414.41it/s]\n",
      "2023-04-14 13:23:38,336 | 36547 - Make DataFrame\n",
      "2023-04-14 13:23:38,433 | 36547 - Save data to /home/max/Desktop/test/preprocessing/census_2001/data/Sezioni di Censimento/R10_DatiCPA_2001.csv\n",
      "2023-04-14 13:23:38,611 | 36547 - Read data from /home/max/Desktop/test/preprocessing/census_2001/data/dati-cpa_2001\\R06_DatiCPA_2001.xls\n",
      "100%|██████████| 6933/6933 [00:00<00:00, 193158.92it/s]\n",
      "2023-04-14 13:23:40,120 | 36547 - Make DataFrame\n",
      "2023-04-14 13:23:40,223 | 36547 - Save data to /home/max/Desktop/test/preprocessing/census_2001/data/Sezioni di Censimento/R06_DatiCPA_2001.csv\n",
      "2023-04-14 13:23:40,396 | 36547 - Read data from /home/max/Desktop/test/preprocessing/census_2001/data/dati-cpa_2001\\R09_DatiCPA_2001.xls\n",
      "100%|██████████| 27081/27081 [00:00<00:00, 141184.56it/s]\n",
      "2023-04-14 13:23:46,483 | 36547 - Make DataFrame\n",
      "2023-04-14 13:23:47,381 | 36547 - Save data to /home/max/Desktop/test/preprocessing/census_2001/data/Sezioni di Censimento/R09_DatiCPA_2001.csv\n",
      "2023-04-14 13:23:48,349 | 36547 - Read data from /home/max/Desktop/test/preprocessing/census_2001/data/dati-cpa_2001\\R18_DatiCPA_2001.xls\n",
      "100%|██████████| 11258/11258 [00:00<00:00, 287506.39it/s]\n",
      "2023-04-14 13:23:50,649 | 36547 - Make DataFrame\n",
      "2023-04-14 13:23:50,855 | 36547 - Save data to /home/max/Desktop/test/preprocessing/census_2001/data/Sezioni di Censimento/R18_DatiCPA_2001.csv\n",
      "2023-04-14 13:23:51,164 | 36547 - Read data from /home/max/Desktop/test/preprocessing/census_2001/data/dati-cpa_2001\\R16_DatiCPA_2001.xls\n",
      "100%|██████████| 20050/20050 [00:00<00:00, 47547.64it/s]\n",
      "2023-04-14 13:23:55,500 | 36547 - Make DataFrame\n",
      "2023-04-14 13:23:56,037 | 36547 - Save data to /home/max/Desktop/test/preprocessing/census_2001/data/Sezioni di Censimento/R16_DatiCPA_2001.csv\n",
      "2023-04-14 13:23:56,574 | 36547 - Read data from /home/max/Desktop/test/preprocessing/census_2001/data/dati-cpa_2001\\R13_DatiCPA_2001.xls\n",
      "100%|██████████| 7972/7972 [00:00<00:00, 174392.60it/s]\n",
      "2023-04-14 13:23:58,261 | 36547 - Make DataFrame\n",
      "2023-04-14 13:23:58,399 | 36547 - Save data to /home/max/Desktop/test/preprocessing/census_2001/data/Sezioni di Censimento/R13_DatiCPA_2001.csv\n",
      "2023-04-14 13:23:58,619 | 36547 - Read data from /home/max/Desktop/test/preprocessing/census_2001/data/dati-cpa_2001\\R14_DatiCPA_2001.xls\n",
      "100%|██████████| 2226/2226 [00:00<00:00, 426929.48it/s]\n",
      "2023-04-14 13:23:59,102 | 36547 - Make DataFrame\n",
      "2023-04-14 13:23:59,137 | 36547 - Save data to /home/max/Desktop/test/preprocessing/census_2001/data/Sezioni di Censimento/R14_DatiCPA_2001.csv\n",
      "2023-04-14 13:23:59,203 | 36547 - Read data from /home/max/Desktop/test/preprocessing/census_2001/data/dati-cpa_2001\\R04_DatiCPA_2001.xls\n",
      "100%|██████████| 9805/9805 [00:00<00:00, 265511.98it/s]\n",
      "2023-04-14 13:24:01,512 | 36547 - Make DataFrame\n",
      "2023-04-14 13:24:01,713 | 36547 - Save data to /home/max/Desktop/test/preprocessing/census_2001/data/Sezioni di Censimento/R04_DatiCPA_2001.csv\n",
      "2023-04-14 13:24:01,977 | 36547 - Read data from /home/max/Desktop/test/preprocessing/census_2001/data/dati-cpa_2001\\R19_DatiCPA_2001.xls\n",
      "100%|██████████| 33129/33129 [00:00<00:00, 201939.71it/s]\n",
      "2023-04-14 13:24:09,876 | 36547 - Make DataFrame\n",
      "2023-04-14 13:24:11,022 | 36547 - Save data to /home/max/Desktop/test/preprocessing/census_2001/data/Sezioni di Censimento/R19_DatiCPA_2001.csv\n",
      "2023-04-14 13:24:11,945 | 36547 - Read data from /home/max/Desktop/test/preprocessing/census_2001/data/dati-cpa_2001\\R07_DatiCPA_2001.xls\n",
      "100%|██████████| 10192/10192 [00:00<00:00, 28028.32it/s]\n",
      "2023-04-14 13:24:14,655 | 36547 - Make DataFrame\n",
      "2023-04-14 13:24:14,833 | 36547 - Save data to /home/max/Desktop/test/preprocessing/census_2001/data/Sezioni di Censimento/R07_DatiCPA_2001.csv\n",
      "2023-04-14 13:24:15,102 | 36547 - Read data from /home/max/Desktop/test/preprocessing/census_2001/data/dati-cpa_2001\\R05_DatiCPA_2001.xls\n",
      "100%|██████████| 30645/30645 [00:00<00:00, 78905.49it/s]\n",
      "2023-04-14 13:24:22,578 | 36547 - Make DataFrame\n",
      "2023-04-14 13:24:23,566 | 36547 - Save data to /home/max/Desktop/test/preprocessing/census_2001/data/Sezioni di Censimento/R05_DatiCPA_2001.csv\n",
      "2023-04-14 13:24:24,335 | 36547 - Download census data completed\n",
      "2023-04-14 13:24:24,336 | 36547 - Make folder for 2001' census data and geodata.\n"
     ]
    },
    {
     "data": {
      "text/plain": "  0%|          | 0/20 [00:00<?, ?it/s]",
      "application/vnd.jupyter.widget-view+json": {
       "version_major": 2,
       "version_minor": 0,
       "model_id": "a21cdbcde0c047b1ae6ab6bfc989dec9"
      }
     },
     "metadata": {},
     "output_type": "display_data"
    },
    {
     "name": "stderr",
     "output_type": "stream",
     "text": [
      "2023-04-14 13:24:24,343 | 36547 - Download census geodata\n",
      "2023-04-14 13:24:24,343 | 36547 - Download census data | https://www.istat.it/storage/cartografia/basi_territoriali/WGS_84_UTM/2001/R01_01_WGS84.zip\n"
     ]
    },
    {
     "data": {
      "text/plain": "Downloading...:   0%|          | 0/35226964 [00:00<?, ?it/s]",
      "application/vnd.jupyter.widget-view+json": {
       "version_major": 2,
       "version_minor": 0,
       "model_id": "7bd80aba707f4a55953f26d0c0490852"
      }
     },
     "metadata": {},
     "output_type": "display_data"
    },
    {
     "name": "stderr",
     "output_type": "stream",
     "text": [
      "2023-04-14 13:24:32,014 | 36547 - Download completed\n",
      "2023-04-14 13:24:32,014 | 36547 - Unzip file\n",
      "2023-04-14 13:24:32,409 | 36547 - Deleting zip file | /home/max/Desktop/test/preprocessing/census_2001/geodata/R01_01_WGS84.zip\n",
      "2023-04-14 13:24:32,414 | 36547 - File deleted\n",
      "2023-04-14 13:24:32,416 | 36547 - Download census data | https://www.istat.it/storage/cartografia/basi_territoriali/WGS_84_UTM/2001/R02_01_WGS84.zip\n"
     ]
    },
    {
     "data": {
      "text/plain": "Downloading...:   0%|          | 0/2603095 [00:00<?, ?it/s]",
      "application/vnd.jupyter.widget-view+json": {
       "version_major": 2,
       "version_minor": 0,
       "model_id": "2f6d62c705d444b3b804ff41b8ab2460"
      }
     },
     "metadata": {},
     "output_type": "display_data"
    },
    {
     "name": "stderr",
     "output_type": "stream",
     "text": [
      "2023-04-14 13:24:33,105 | 36547 - Download completed\n",
      "2023-04-14 13:24:33,106 | 36547 - Unzip file\n",
      "2023-04-14 13:24:33,135 | 36547 - Deleting zip file | /home/max/Desktop/test/preprocessing/census_2001/geodata/R02_01_WGS84.zip\n",
      "2023-04-14 13:24:33,136 | 36547 - File deleted\n",
      "2023-04-14 13:24:33,138 | 36547 - Download census data | https://www.istat.it/storage/cartografia/basi_territoriali/WGS_84_UTM/2001/R03_01_WGS84.zip\n"
     ]
    },
    {
     "data": {
      "text/plain": "Downloading...:   0%|          | 0/40116492 [00:00<?, ?it/s]",
      "application/vnd.jupyter.widget-view+json": {
       "version_major": 2,
       "version_minor": 0,
       "model_id": "9258f48fe6a44c499d7a9e6dc99d488e"
      }
     },
     "metadata": {},
     "output_type": "display_data"
    },
    {
     "name": "stderr",
     "output_type": "stream",
     "text": [
      "2023-04-14 13:24:40,537 | 36547 - Download completed\n",
      "2023-04-14 13:24:40,538 | 36547 - Unzip file\n",
      "2023-04-14 13:24:40,962 | 36547 - Deleting zip file | /home/max/Desktop/test/preprocessing/census_2001/geodata/R03_01_WGS84.zip\n",
      "2023-04-14 13:24:40,967 | 36547 - File deleted\n",
      "2023-04-14 13:24:40,969 | 36547 - Download census data | https://www.istat.it/storage/cartografia/basi_territoriali/WGS_84_UTM/2001/R04_01_WGS84.zip\n"
     ]
    },
    {
     "data": {
      "text/plain": "Downloading...:   0%|          | 0/15483258 [00:00<?, ?it/s]",
      "application/vnd.jupyter.widget-view+json": {
       "version_major": 2,
       "version_minor": 0,
       "model_id": "2add914920fb47068b7875baa2fd6854"
      }
     },
     "metadata": {},
     "output_type": "display_data"
    },
    {
     "name": "stderr",
     "output_type": "stream",
     "text": [
      "2023-04-14 13:24:44,074 | 36547 - Download completed\n",
      "2023-04-14 13:24:44,075 | 36547 - Unzip file\n",
      "2023-04-14 13:24:44,238 | 36547 - Deleting zip file | /home/max/Desktop/test/preprocessing/census_2001/geodata/R04_01_WGS84.zip\n",
      "2023-04-14 13:24:44,241 | 36547 - File deleted\n",
      "2023-04-14 13:24:44,243 | 36547 - Download census data | https://www.istat.it/storage/cartografia/basi_territoriali/WGS_84_UTM/2001/R05_01_WGS84.zip\n"
     ]
    },
    {
     "data": {
      "text/plain": "Downloading...:   0%|          | 0/24240855 [00:00<?, ?it/s]",
      "application/vnd.jupyter.widget-view+json": {
       "version_major": 2,
       "version_minor": 0,
       "model_id": "ad75f073197c44289e7959ad5020d4bd"
      }
     },
     "metadata": {},
     "output_type": "display_data"
    },
    {
     "name": "stderr",
     "output_type": "stream",
     "text": [
      "2023-04-14 13:24:48,935 | 36547 - Download completed\n",
      "2023-04-14 13:24:48,936 | 36547 - Unzip file\n",
      "2023-04-14 13:24:49,198 | 36547 - Deleting zip file | /home/max/Desktop/test/preprocessing/census_2001/geodata/R05_01_WGS84.zip\n",
      "2023-04-14 13:24:49,202 | 36547 - File deleted\n",
      "2023-04-14 13:24:49,203 | 36547 - Download census data | https://www.istat.it/storage/cartografia/basi_territoriali/WGS_84_UTM/2001/R06_01_WGS84.zip\n"
     ]
    },
    {
     "data": {
      "text/plain": "Downloading...:   0%|          | 0/9590200 [00:00<?, ?it/s]",
      "application/vnd.jupyter.widget-view+json": {
       "version_major": 2,
       "version_minor": 0,
       "model_id": "38ed9ae799744977aaa567494448160d"
      }
     },
     "metadata": {},
     "output_type": "display_data"
    },
    {
     "name": "stderr",
     "output_type": "stream",
     "text": [
      "2023-04-14 13:24:50,937 | 36547 - Download completed\n",
      "2023-04-14 13:24:50,938 | 36547 - Unzip file\n",
      "2023-04-14 13:24:51,043 | 36547 - Deleting zip file | /home/max/Desktop/test/preprocessing/census_2001/geodata/R06_01_WGS84.zip\n",
      "2023-04-14 13:24:51,045 | 36547 - File deleted\n",
      "2023-04-14 13:24:51,047 | 36547 - Download census data | https://www.istat.it/storage/cartografia/basi_territoriali/WGS_84_UTM/2001/R07_01_WGS84.zip\n"
     ]
    },
    {
     "data": {
      "text/plain": "Downloading...:   0%|          | 0/10581411 [00:00<?, ?it/s]",
      "application/vnd.jupyter.widget-view+json": {
       "version_major": 2,
       "version_minor": 0,
       "model_id": "184d144bd0844fc2b66eaf8a41b68f7d"
      }
     },
     "metadata": {},
     "output_type": "display_data"
    },
    {
     "name": "stderr",
     "output_type": "stream",
     "text": [
      "2023-04-14 13:24:52,807 | 36547 - Download completed\n",
      "2023-04-14 13:24:52,808 | 36547 - Unzip file\n",
      "2023-04-14 13:24:52,924 | 36547 - Deleting zip file | /home/max/Desktop/test/preprocessing/census_2001/geodata/R07_01_WGS84.zip\n",
      "2023-04-14 13:24:52,926 | 36547 - File deleted\n",
      "2023-04-14 13:24:52,928 | 36547 - Download census data | https://www.istat.it/storage/cartografia/basi_territoriali/WGS_84_UTM/2001/R08_01_WGS84.zip\n"
     ]
    },
    {
     "data": {
      "text/plain": "Downloading...:   0%|          | 0/27416358 [00:00<?, ?it/s]",
      "application/vnd.jupyter.widget-view+json": {
       "version_major": 2,
       "version_minor": 0,
       "model_id": "452cd8fd547547f89320b20c5b291f88"
      }
     },
     "metadata": {},
     "output_type": "display_data"
    },
    {
     "name": "stderr",
     "output_type": "stream",
     "text": [
      "2023-04-14 13:24:57,182 | 36547 - Download completed\n",
      "2023-04-14 13:24:57,183 | 36547 - Unzip file\n",
      "2023-04-14 13:24:57,508 | 36547 - Deleting zip file | /home/max/Desktop/test/preprocessing/census_2001/geodata/R08_01_WGS84.zip\n",
      "2023-04-14 13:24:57,511 | 36547 - File deleted\n",
      "2023-04-14 13:24:57,513 | 36547 - Download census data | https://www.istat.it/storage/cartografia/basi_territoriali/WGS_84_UTM/2001/R09_01_WGS84.zip\n"
     ]
    },
    {
     "data": {
      "text/plain": "Downloading...:   0%|          | 0/30744548 [00:00<?, ?it/s]",
      "application/vnd.jupyter.widget-view+json": {
       "version_major": 2,
       "version_minor": 0,
       "model_id": "014e29488aab4d2895169751915d1a9d"
      }
     },
     "metadata": {},
     "output_type": "display_data"
    },
    {
     "name": "stderr",
     "output_type": "stream",
     "text": [
      "2023-04-14 13:25:02,050 | 36547 - Download completed\n",
      "2023-04-14 13:25:02,051 | 36547 - Unzip file\n",
      "2023-04-14 13:25:02,371 | 36547 - Deleting zip file | /home/max/Desktop/test/preprocessing/census_2001/geodata/R09_01_WGS84.zip\n",
      "2023-04-14 13:25:02,375 | 36547 - File deleted\n",
      "2023-04-14 13:25:02,377 | 36547 - Download census data | https://www.istat.it/storage/cartografia/basi_territoriali/WGS_84_UTM/2001/R10_01_WGS84.zip\n"
     ]
    },
    {
     "data": {
      "text/plain": "Downloading...:   0%|          | 0/11305137 [00:00<?, ?it/s]",
      "application/vnd.jupyter.widget-view+json": {
       "version_major": 2,
       "version_minor": 0,
       "model_id": "020f0f8f2db14a3e8ddff6436299b8b2"
      }
     },
     "metadata": {},
     "output_type": "display_data"
    },
    {
     "name": "stderr",
     "output_type": "stream",
     "text": [
      "2023-04-14 13:25:04,902 | 36547 - Download completed\n",
      "2023-04-14 13:25:04,902 | 36547 - Unzip file\n",
      "2023-04-14 13:25:05,028 | 36547 - Deleting zip file | /home/max/Desktop/test/preprocessing/census_2001/geodata/R10_01_WGS84.zip\n",
      "2023-04-14 13:25:05,031 | 36547 - File deleted\n",
      "2023-04-14 13:25:05,033 | 36547 - Download census data | https://www.istat.it/storage/cartografia/basi_territoriali/WGS_84_UTM/2001/R11_01_WGS84.zip\n"
     ]
    },
    {
     "data": {
      "text/plain": "Downloading...:   0%|          | 0/12080909 [00:00<?, ?it/s]",
      "application/vnd.jupyter.widget-view+json": {
       "version_major": 2,
       "version_minor": 0,
       "model_id": "16ba603b25244afd9754debda6dc641a"
      }
     },
     "metadata": {},
     "output_type": "display_data"
    },
    {
     "name": "stderr",
     "output_type": "stream",
     "text": [
      "2023-04-14 13:25:07,473 | 36547 - Download completed\n",
      "2023-04-14 13:25:07,474 | 36547 - Unzip file\n",
      "2023-04-14 13:25:07,605 | 36547 - Deleting zip file | /home/max/Desktop/test/preprocessing/census_2001/geodata/R11_01_WGS84.zip\n",
      "2023-04-14 13:25:07,607 | 36547 - File deleted\n",
      "2023-04-14 13:25:07,609 | 36547 - Download census data | https://www.istat.it/storage/cartografia/basi_territoriali/WGS_84_UTM/2001/R12_01_WGS84.zip\n"
     ]
    },
    {
     "data": {
      "text/plain": "Downloading...:   0%|          | 0/27576080 [00:00<?, ?it/s]",
      "application/vnd.jupyter.widget-view+json": {
       "version_major": 2,
       "version_minor": 0,
       "model_id": "b7f016eb39fb4be085ba9e1e302a2af9"
      }
     },
     "metadata": {},
     "output_type": "display_data"
    },
    {
     "name": "stderr",
     "output_type": "stream",
     "text": [
      "2023-04-14 13:25:11,844 | 36547 - Download completed\n",
      "2023-04-14 13:25:11,845 | 36547 - Unzip file\n",
      "2023-04-14 13:25:12,150 | 36547 - Deleting zip file | /home/max/Desktop/test/preprocessing/census_2001/geodata/R12_01_WGS84.zip\n",
      "2023-04-14 13:25:12,154 | 36547 - File deleted\n",
      "2023-04-14 13:25:12,156 | 36547 - Download census data | https://www.istat.it/storage/cartografia/basi_territoriali/WGS_84_UTM/2001/R13_01_WGS84.zip\n"
     ]
    },
    {
     "data": {
      "text/plain": "Downloading...:   0%|          | 0/11266851 [00:00<?, ?it/s]",
      "application/vnd.jupyter.widget-view+json": {
       "version_major": 2,
       "version_minor": 0,
       "model_id": "574d4be6db80491f8843047b496561c8"
      }
     },
     "metadata": {},
     "output_type": "display_data"
    },
    {
     "name": "stderr",
     "output_type": "stream",
     "text": [
      "2023-04-14 13:25:13,907 | 36547 - Download completed\n",
      "2023-04-14 13:25:13,908 | 36547 - Unzip file\n",
      "2023-04-14 13:25:14,027 | 36547 - Deleting zip file | /home/max/Desktop/test/preprocessing/census_2001/geodata/R13_01_WGS84.zip\n",
      "2023-04-14 13:25:14,030 | 36547 - File deleted\n",
      "2023-04-14 13:25:14,031 | 36547 - Download census data | https://www.istat.it/storage/cartografia/basi_territoriali/WGS_84_UTM/2001/R14_01_WGS84.zip\n"
     ]
    },
    {
     "data": {
      "text/plain": "Downloading...:   0%|          | 0/4450590 [00:00<?, ?it/s]",
      "application/vnd.jupyter.widget-view+json": {
       "version_major": 2,
       "version_minor": 0,
       "model_id": "ca00e7f3dc6541b0b47d3497d61a6b46"
      }
     },
     "metadata": {},
     "output_type": "display_data"
    },
    {
     "name": "stderr",
     "output_type": "stream",
     "text": [
      "2023-04-14 13:25:14,997 | 36547 - Download completed\n",
      "2023-04-14 13:25:14,997 | 36547 - Unzip file\n",
      "2023-04-14 13:25:15,046 | 36547 - Deleting zip file | /home/max/Desktop/test/preprocessing/census_2001/geodata/R14_01_WGS84.zip\n",
      "2023-04-14 13:25:15,048 | 36547 - File deleted\n",
      "2023-04-14 13:25:15,050 | 36547 - Download census data | https://www.istat.it/storage/cartografia/basi_territoriali/WGS_84_UTM/2001/R15_01_WGS84.zip\n"
     ]
    },
    {
     "data": {
      "text/plain": "Downloading...:   0%|          | 0/19416397 [00:00<?, ?it/s]",
      "application/vnd.jupyter.widget-view+json": {
       "version_major": 2,
       "version_minor": 0,
       "model_id": "b510d386ea4d4ca0b09365966b5c03cc"
      }
     },
     "metadata": {},
     "output_type": "display_data"
    },
    {
     "name": "stderr",
     "output_type": "stream",
     "text": [
      "2023-04-14 13:25:18,866 | 36547 - Download completed\n",
      "2023-04-14 13:25:18,866 | 36547 - Unzip file\n",
      "2023-04-14 13:25:19,075 | 36547 - Deleting zip file | /home/max/Desktop/test/preprocessing/census_2001/geodata/R15_01_WGS84.zip\n",
      "2023-04-14 13:25:19,078 | 36547 - File deleted\n",
      "2023-04-14 13:25:19,080 | 36547 - Download census data | https://www.istat.it/storage/cartografia/basi_territoriali/WGS_84_UTM/2001/R16_01_WGS84.zip\n"
     ]
    },
    {
     "data": {
      "text/plain": "Downloading...:   0%|          | 0/12470450 [00:00<?, ?it/s]",
      "application/vnd.jupyter.widget-view+json": {
       "version_major": 2,
       "version_minor": 0,
       "model_id": "ca98e8f6be884852814afd225b3c520c"
      }
     },
     "metadata": {},
     "output_type": "display_data"
    },
    {
     "name": "stderr",
     "output_type": "stream",
     "text": [
      "2023-04-14 13:25:21,535 | 36547 - Download completed\n",
      "2023-04-14 13:25:21,536 | 36547 - Unzip file\n",
      "2023-04-14 13:25:21,690 | 36547 - Deleting zip file | /home/max/Desktop/test/preprocessing/census_2001/geodata/R16_01_WGS84.zip\n",
      "2023-04-14 13:25:21,692 | 36547 - File deleted\n",
      "2023-04-14 13:25:21,694 | 36547 - Download census data | https://www.istat.it/storage/cartografia/basi_territoriali/WGS_84_UTM/2001/R17_01_WGS84.zip\n"
     ]
    },
    {
     "data": {
      "text/plain": "Downloading...:   0%|          | 0/6906713 [00:00<?, ?it/s]",
      "application/vnd.jupyter.widget-view+json": {
       "version_major": 2,
       "version_minor": 0,
       "model_id": "af1b80e7bb4940efa7e45638c87aa95c"
      }
     },
     "metadata": {},
     "output_type": "display_data"
    },
    {
     "name": "stderr",
     "output_type": "stream",
     "text": [
      "2023-04-14 13:25:23,205 | 36547 - Download completed\n",
      "2023-04-14 13:25:23,206 | 36547 - Unzip file\n",
      "2023-04-14 13:25:23,277 | 36547 - Deleting zip file | /home/max/Desktop/test/preprocessing/census_2001/geodata/R17_01_WGS84.zip\n",
      "2023-04-14 13:25:23,278 | 36547 - File deleted\n",
      "2023-04-14 13:25:23,281 | 36547 - Download census data | https://www.istat.it/storage/cartografia/basi_territoriali/WGS_84_UTM/2001/R18_01_WGS84.zip\n"
     ]
    },
    {
     "data": {
      "text/plain": "Downloading...:   0%|          | 0/15933342 [00:00<?, ?it/s]",
      "application/vnd.jupyter.widget-view+json": {
       "version_major": 2,
       "version_minor": 0,
       "model_id": "f5c9a920b5a54f72950b828e2ba71dda"
      }
     },
     "metadata": {},
     "output_type": "display_data"
    },
    {
     "name": "stderr",
     "output_type": "stream",
     "text": [
      "2023-04-14 13:25:26,365 | 36547 - Download completed\n",
      "2023-04-14 13:25:26,365 | 36547 - Unzip file\n",
      "2023-04-14 13:25:26,545 | 36547 - Deleting zip file | /home/max/Desktop/test/preprocessing/census_2001/geodata/R18_01_WGS84.zip\n",
      "2023-04-14 13:25:26,548 | 36547 - File deleted\n",
      "2023-04-14 13:25:26,550 | 36547 - Download census data | https://www.istat.it/storage/cartografia/basi_territoriali/WGS_84_UTM/2001/R19_01_WGS84.zip\n"
     ]
    },
    {
     "data": {
      "text/plain": "Downloading...:   0%|          | 0/24858190 [00:00<?, ?it/s]",
      "application/vnd.jupyter.widget-view+json": {
       "version_major": 2,
       "version_minor": 0,
       "model_id": "045186208ff04b788ef8044c38dab14b"
      }
     },
     "metadata": {},
     "output_type": "display_data"
    },
    {
     "name": "stderr",
     "output_type": "stream",
     "text": [
      "2023-04-14 13:25:30,218 | 36547 - Download completed\n",
      "2023-04-14 13:25:30,218 | 36547 - Unzip file\n",
      "2023-04-14 13:25:30,497 | 36547 - Deleting zip file | /home/max/Desktop/test/preprocessing/census_2001/geodata/R19_01_WGS84.zip\n",
      "2023-04-14 13:25:30,501 | 36547 - File deleted\n",
      "2023-04-14 13:25:30,502 | 36547 - Download census data | https://www.istat.it/storage/cartografia/basi_territoriali/WGS_84_UTM/2001/R20_01_WGS84.zip\n"
     ]
    },
    {
     "data": {
      "text/plain": "Downloading...:   0%|          | 0/21536050 [00:00<?, ?it/s]",
      "application/vnd.jupyter.widget-view+json": {
       "version_major": 2,
       "version_minor": 0,
       "model_id": "8e9aca23285d4c768a097faa5f8e983c"
      }
     },
     "metadata": {},
     "output_type": "display_data"
    },
    {
     "name": "stderr",
     "output_type": "stream",
     "text": [
      "2023-04-14 13:25:34,063 | 36547 - Download completed\n",
      "2023-04-14 13:25:34,064 | 36547 - Unzip file\n",
      "2023-04-14 13:25:34,301 | 36547 - Deleting zip file | /home/max/Desktop/test/preprocessing/census_2001/geodata/R20_01_WGS84.zip\n",
      "2023-04-14 13:25:34,305 | 36547 - File deleted\n",
      "2023-04-14 13:25:34,307 | 36547 - Download census geodata completed\n",
      "2023-04-14 13:25:34,308 | 36547 - Make folder for 2001' census data and geodata.\n",
      "2023-04-14 13:25:34,309 | 36547 - Download administrative boundaries\n",
      "2023-04-14 13:25:34,309 | 36547 - Download census data | https://www.istat.it/storage/cartografia/confini_amministrativi/non_generalizzati/Limiti2001.zip\n"
     ]
    },
    {
     "data": {
      "text/plain": "Downloading...:   0%|          | 0/76798785 [00:00<?, ?it/s]",
      "application/vnd.jupyter.widget-view+json": {
       "version_major": 2,
       "version_minor": 0,
       "model_id": "7b86a32749e242a98f384f044f213524"
      }
     },
     "metadata": {},
     "output_type": "display_data"
    },
    {
     "name": "stderr",
     "output_type": "stream",
     "text": [
      "2023-04-14 13:25:48,097 | 36547 - Download completed\n",
      "2023-04-14 13:25:48,098 | 36547 - Unzip file\n",
      "2023-04-14 13:25:48,798 | 36547 - Deleting zip file | /home/max/Desktop/test/preprocessing/census_2001/administrative_boundaries/Limiti2001.zip\n",
      "2023-04-14 13:25:48,807 | 36547 - File deleted\n",
      "2023-04-14 13:25:48,811 | 36547 - Download administrative boundaries completed\n",
      "2023-04-14 13:25:48,812 | 36547 - Start download census data for year 2011\n",
      "2023-04-14 13:25:48,813 | 36547 - Make folder for 2011' census data and geodata.\n",
      "2023-04-14 13:25:48,814 | 36547 - Download census data\n",
      "2023-04-14 13:25:48,814 | 36547 - Download census data | https://www.istat.it/storage/cartografia/variabili-censuarie/dati-cpa_2011.zip\n"
     ]
    },
    {
     "data": {
      "text/plain": "Downloading...:   0%|          | 0/52442848 [00:00<?, ?it/s]",
      "application/vnd.jupyter.widget-view+json": {
       "version_major": 2,
       "version_minor": 0,
       "model_id": "269f6a57a18844b1a1f0774716554c3c"
      }
     },
     "metadata": {},
     "output_type": "display_data"
    },
    {
     "name": "stderr",
     "output_type": "stream",
     "text": [
      "2023-04-14 13:25:58,348 | 36547 - Download completed\n",
      "2023-04-14 13:25:58,348 | 36547 - Unzip file\n",
      "2023-04-14 13:25:59,220 | 36547 - Deleting zip file | /home/max/Desktop/test/preprocessing/census_2011/data/dati-cpa_2011.zip\n",
      "2023-04-14 13:25:59,227 | 36547 - File deleted\n",
      "2023-04-14 13:25:59,228 | 36547 - Download census data completed\n",
      "2023-04-14 13:25:59,229 | 36547 - Make folder for 2011' census data and geodata.\n"
     ]
    },
    {
     "data": {
      "text/plain": "  0%|          | 0/20 [00:00<?, ?it/s]",
      "application/vnd.jupyter.widget-view+json": {
       "version_major": 2,
       "version_minor": 0,
       "model_id": "7de5bb6a2e2949ce8049a8837ea6709f"
      }
     },
     "metadata": {},
     "output_type": "display_data"
    },
    {
     "name": "stderr",
     "output_type": "stream",
     "text": [
      "2023-04-14 13:25:59,235 | 36547 - Download census geodata\n",
      "2023-04-14 13:25:59,236 | 36547 - Download census data | https://www.istat.it/storage/cartografia/basi_territoriali/WGS_84_UTM/2011/R01_11_WGS84.zip\n"
     ]
    },
    {
     "data": {
      "text/plain": "Downloading...:   0%|          | 0/43392363 [00:00<?, ?it/s]",
      "application/vnd.jupyter.widget-view+json": {
       "version_major": 2,
       "version_minor": 0,
       "model_id": "1faa5c1986734d528633c252e10d114c"
      }
     },
     "metadata": {},
     "output_type": "display_data"
    },
    {
     "name": "stderr",
     "output_type": "stream",
     "text": [
      "2023-04-14 13:26:07,004 | 36547 - Download completed\n",
      "2023-04-14 13:26:07,005 | 36547 - Unzip file\n",
      "2023-04-14 13:26:07,389 | 36547 - Deleting zip file | /home/max/Desktop/test/preprocessing/census_2011/geodata/R01_11_WGS84.zip\n",
      "2023-04-14 13:26:07,395 | 36547 - File deleted\n",
      "2023-04-14 13:26:07,397 | 36547 - Download census data | https://www.istat.it/storage/cartografia/basi_territoriali/WGS_84_UTM/2011/R02_11_WGS84.zip\n"
     ]
    },
    {
     "data": {
      "text/plain": "Downloading...:   0%|          | 0/3152273 [00:00<?, ?it/s]",
      "application/vnd.jupyter.widget-view+json": {
       "version_major": 2,
       "version_minor": 0,
       "model_id": "d3a8b4be5b724463b7d8e4410e059fc4"
      }
     },
     "metadata": {},
     "output_type": "display_data"
    },
    {
     "name": "stderr",
     "output_type": "stream",
     "text": [
      "2023-04-14 13:26:08,153 | 36547 - Download completed\n",
      "2023-04-14 13:26:08,153 | 36547 - Unzip file\n",
      "2023-04-14 13:26:08,183 | 36547 - Deleting zip file | /home/max/Desktop/test/preprocessing/census_2011/geodata/R02_11_WGS84.zip\n",
      "2023-04-14 13:26:08,185 | 36547 - File deleted\n",
      "2023-04-14 13:26:08,187 | 36547 - Download census data | https://www.istat.it/storage/cartografia/basi_territoriali/WGS_84_UTM/2011/R03_11_WGS84.zip\n"
     ]
    },
    {
     "data": {
      "text/plain": "Downloading...:   0%|          | 0/46339888 [00:00<?, ?it/s]",
      "application/vnd.jupyter.widget-view+json": {
       "version_major": 2,
       "version_minor": 0,
       "model_id": "e6eb301cb6c74ee18ce1786caa079da1"
      }
     },
     "metadata": {},
     "output_type": "display_data"
    },
    {
     "name": "stderr",
     "output_type": "stream",
     "text": [
      "2023-04-14 13:26:15,250 | 36547 - Download completed\n",
      "2023-04-14 13:26:15,251 | 36547 - Unzip file\n",
      "2023-04-14 13:26:15,687 | 36547 - Deleting zip file | /home/max/Desktop/test/preprocessing/census_2011/geodata/R03_11_WGS84.zip\n",
      "2023-04-14 13:26:15,693 | 36547 - File deleted\n",
      "2023-04-14 13:26:15,695 | 36547 - Download census data | https://www.istat.it/storage/cartografia/basi_territoriali/WGS_84_UTM/2011/R04_11_WGS84.zip\n"
     ]
    },
    {
     "data": {
      "text/plain": "Downloading...:   0%|          | 0/16764662 [00:00<?, ?it/s]",
      "application/vnd.jupyter.widget-view+json": {
       "version_major": 2,
       "version_minor": 0,
       "model_id": "ad366640ec314c11a159da80473f1675"
      }
     },
     "metadata": {},
     "output_type": "display_data"
    },
    {
     "name": "stderr",
     "output_type": "stream",
     "text": [
      "2023-04-14 13:26:18,900 | 36547 - Download completed\n",
      "2023-04-14 13:26:18,901 | 36547 - Unzip file\n",
      "2023-04-14 13:26:19,062 | 36547 - Deleting zip file | /home/max/Desktop/test/preprocessing/census_2011/geodata/R04_11_WGS84.zip\n",
      "2023-04-14 13:26:19,064 | 36547 - File deleted\n",
      "2023-04-14 13:26:19,067 | 36547 - Download census data | https://www.istat.it/storage/cartografia/basi_territoriali/WGS_84_UTM/2011/R05_11_WGS84.zip\n"
     ]
    },
    {
     "data": {
      "text/plain": "Downloading...:   0%|          | 0/26822603 [00:00<?, ?it/s]",
      "application/vnd.jupyter.widget-view+json": {
       "version_major": 2,
       "version_minor": 0,
       "model_id": "30493f5d649245859080c93b35d88b0c"
      }
     },
     "metadata": {},
     "output_type": "display_data"
    },
    {
     "name": "stderr",
     "output_type": "stream",
     "text": [
      "2023-04-14 13:26:23,020 | 36547 - Download completed\n",
      "2023-04-14 13:26:23,021 | 36547 - Unzip file\n",
      "2023-04-14 13:26:23,276 | 36547 - Deleting zip file | /home/max/Desktop/test/preprocessing/census_2011/geodata/R05_11_WGS84.zip\n",
      "2023-04-14 13:26:23,280 | 36547 - File deleted\n",
      "2023-04-14 13:26:23,282 | 36547 - Download census data | https://www.istat.it/storage/cartografia/basi_territoriali/WGS_84_UTM/2011/R06_11_WGS84.zip\n"
     ]
    },
    {
     "data": {
      "text/plain": "Downloading...:   0%|          | 0/11737075 [00:00<?, ?it/s]",
      "application/vnd.jupyter.widget-view+json": {
       "version_major": 2,
       "version_minor": 0,
       "model_id": "1579648c9ed246a29a0209100468e9b5"
      }
     },
     "metadata": {},
     "output_type": "display_data"
    },
    {
     "name": "stderr",
     "output_type": "stream",
     "text": [
      "2023-04-14 13:26:25,699 | 36547 - Download completed\n",
      "2023-04-14 13:26:25,700 | 36547 - Unzip file\n",
      "2023-04-14 13:26:25,808 | 36547 - Deleting zip file | /home/max/Desktop/test/preprocessing/census_2011/geodata/R06_11_WGS84.zip\n",
      "2023-04-14 13:26:25,811 | 36547 - File deleted\n",
      "2023-04-14 13:26:25,815 | 36547 - Download census data | https://www.istat.it/storage/cartografia/basi_territoriali/WGS_84_UTM/2011/R07_11_WGS84.zip\n"
     ]
    },
    {
     "data": {
      "text/plain": "Downloading...:   0%|          | 0/11680281 [00:00<?, ?it/s]",
      "application/vnd.jupyter.widget-view+json": {
       "version_major": 2,
       "version_minor": 0,
       "model_id": "481b4bfa6259475490b8a5935b7bd43e"
      }
     },
     "metadata": {},
     "output_type": "display_data"
    },
    {
     "name": "stderr",
     "output_type": "stream",
     "text": [
      "2023-04-14 13:26:27,614 | 36547 - Download completed\n",
      "2023-04-14 13:26:27,615 | 36547 - Unzip file\n",
      "2023-04-14 13:26:27,735 | 36547 - Deleting zip file | /home/max/Desktop/test/preprocessing/census_2011/geodata/R07_11_WGS84.zip\n",
      "2023-04-14 13:26:27,737 | 36547 - File deleted\n",
      "2023-04-14 13:26:27,739 | 36547 - Download census data | https://www.istat.it/storage/cartografia/basi_territoriali/WGS_84_UTM/2011/R08_11_WGS84.zip\n"
     ]
    },
    {
     "data": {
      "text/plain": "Downloading...:   0%|          | 0/33051613 [00:00<?, ?it/s]",
      "application/vnd.jupyter.widget-view+json": {
       "version_major": 2,
       "version_minor": 0,
       "model_id": "7f14fc387a754e24a0ef45521b87e275"
      }
     },
     "metadata": {},
     "output_type": "display_data"
    },
    {
     "name": "stderr",
     "output_type": "stream",
     "text": [
      "2023-04-14 13:26:32,685 | 36547 - Download completed\n",
      "2023-04-14 13:26:32,686 | 36547 - Unzip file\n",
      "2023-04-14 13:26:32,985 | 36547 - Deleting zip file | /home/max/Desktop/test/preprocessing/census_2011/geodata/R08_11_WGS84.zip\n",
      "2023-04-14 13:26:32,990 | 36547 - File deleted\n",
      "2023-04-14 13:26:32,991 | 36547 - Download census data | https://www.istat.it/storage/cartografia/basi_territoriali/WGS_84_UTM/2011/R09_11_WGS84.zip\n"
     ]
    },
    {
     "data": {
      "text/plain": "Downloading...:   0%|          | 0/34664400 [00:00<?, ?it/s]",
      "application/vnd.jupyter.widget-view+json": {
       "version_major": 2,
       "version_minor": 0,
       "model_id": "0ba6ec981d164957bc397ce366544c45"
      }
     },
     "metadata": {},
     "output_type": "display_data"
    },
    {
     "name": "stderr",
     "output_type": "stream",
     "text": [
      "2023-04-14 13:26:39,068 | 36547 - Download completed\n",
      "2023-04-14 13:26:39,069 | 36547 - Unzip file\n",
      "2023-04-14 13:26:39,383 | 36547 - Deleting zip file | /home/max/Desktop/test/preprocessing/census_2011/geodata/R09_11_WGS84.zip\n",
      "2023-04-14 13:26:39,387 | 36547 - File deleted\n",
      "2023-04-14 13:26:39,389 | 36547 - Download census data | https://www.istat.it/storage/cartografia/basi_territoriali/WGS_84_UTM/2011/R10_11_WGS84.zip\n"
     ]
    },
    {
     "data": {
      "text/plain": "Downloading...:   0%|          | 0/12301253 [00:00<?, ?it/s]",
      "application/vnd.jupyter.widget-view+json": {
       "version_major": 2,
       "version_minor": 0,
       "model_id": "ec8582e8bbcb4cbdaede1ae65decac53"
      }
     },
     "metadata": {},
     "output_type": "display_data"
    },
    {
     "name": "stderr",
     "output_type": "stream",
     "text": [
      "2023-04-14 13:26:41,332 | 36547 - Download completed\n",
      "2023-04-14 13:26:41,332 | 36547 - Unzip file\n",
      "2023-04-14 13:26:41,443 | 36547 - Deleting zip file | /home/max/Desktop/test/preprocessing/census_2011/geodata/R10_11_WGS84.zip\n",
      "2023-04-14 13:26:41,446 | 36547 - File deleted\n",
      "2023-04-14 13:26:41,448 | 36547 - Download census data | https://www.istat.it/storage/cartografia/basi_territoriali/WGS_84_UTM/2011/R11_11_WGS84.zip\n"
     ]
    },
    {
     "data": {
      "text/plain": "Downloading...:   0%|          | 0/13475392 [00:00<?, ?it/s]",
      "application/vnd.jupyter.widget-view+json": {
       "version_major": 2,
       "version_minor": 0,
       "model_id": "f9ad39f055b34d26a4e8ee176b8dd08b"
      }
     },
     "metadata": {},
     "output_type": "display_data"
    },
    {
     "name": "stderr",
     "output_type": "stream",
     "text": [
      "2023-04-14 13:26:44,315 | 36547 - Download completed\n",
      "2023-04-14 13:26:44,316 | 36547 - Unzip file\n",
      "2023-04-14 13:26:44,445 | 36547 - Deleting zip file | /home/max/Desktop/test/preprocessing/census_2011/geodata/R11_11_WGS84.zip\n",
      "2023-04-14 13:26:44,447 | 36547 - File deleted\n",
      "2023-04-14 13:26:44,450 | 36547 - Download census data | https://www.istat.it/storage/cartografia/basi_territoriali/WGS_84_UTM/2011/R12_11_WGS84.zip\n"
     ]
    },
    {
     "data": {
      "text/plain": "Downloading...:   0%|          | 0/31449465 [00:00<?, ?it/s]",
      "application/vnd.jupyter.widget-view+json": {
       "version_major": 2,
       "version_minor": 0,
       "model_id": "bd08d9d4bade4edb9438a413e844685d"
      }
     },
     "metadata": {},
     "output_type": "display_data"
    },
    {
     "name": "stderr",
     "output_type": "stream",
     "text": [
      "2023-04-14 13:26:49,073 | 36547 - Download completed\n",
      "2023-04-14 13:26:49,074 | 36547 - Unzip file\n",
      "2023-04-14 13:26:49,352 | 36547 - Deleting zip file | /home/max/Desktop/test/preprocessing/census_2011/geodata/R12_11_WGS84.zip\n",
      "2023-04-14 13:26:49,356 | 36547 - File deleted\n",
      "2023-04-14 13:26:49,358 | 36547 - Download census data | https://www.istat.it/storage/cartografia/basi_territoriali/WGS_84_UTM/2011/R13_11_WGS84.zip\n"
     ]
    },
    {
     "data": {
      "text/plain": "Downloading...:   0%|          | 0/12327881 [00:00<?, ?it/s]",
      "application/vnd.jupyter.widget-view+json": {
       "version_major": 2,
       "version_minor": 0,
       "model_id": "ea6baba036154e70807f31d9068d0193"
      }
     },
     "metadata": {},
     "output_type": "display_data"
    },
    {
     "name": "stderr",
     "output_type": "stream",
     "text": [
      "2023-04-14 13:26:51,413 | 36547 - Download completed\n",
      "2023-04-14 13:26:51,413 | 36547 - Unzip file\n",
      "2023-04-14 13:26:51,544 | 36547 - Deleting zip file | /home/max/Desktop/test/preprocessing/census_2011/geodata/R13_11_WGS84.zip\n",
      "2023-04-14 13:26:51,547 | 36547 - File deleted\n",
      "2023-04-14 13:26:51,549 | 36547 - Download census data | https://www.istat.it/storage/cartografia/basi_territoriali/WGS_84_UTM/2011/R14_11_WGS84.zip\n"
     ]
    },
    {
     "data": {
      "text/plain": "Downloading...:   0%|          | 0/5299205 [00:00<?, ?it/s]",
      "application/vnd.jupyter.widget-view+json": {
       "version_major": 2,
       "version_minor": 0,
       "model_id": "02624c4ace3e4269860f72d81d16b6d7"
      }
     },
     "metadata": {},
     "output_type": "display_data"
    },
    {
     "name": "stderr",
     "output_type": "stream",
     "text": [
      "2023-04-14 13:26:52,699 | 36547 - Download completed\n",
      "2023-04-14 13:26:52,700 | 36547 - Unzip file\n",
      "2023-04-14 13:26:52,746 | 36547 - Deleting zip file | /home/max/Desktop/test/preprocessing/census_2011/geodata/R14_11_WGS84.zip\n",
      "2023-04-14 13:26:52,748 | 36547 - File deleted\n",
      "2023-04-14 13:26:52,750 | 36547 - Download census data | https://www.istat.it/storage/cartografia/basi_territoriali/WGS_84_UTM/2011/R15_11_WGS84.zip\n"
     ]
    },
    {
     "data": {
      "text/plain": "Downloading...:   0%|          | 0/21913253 [00:00<?, ?it/s]",
      "application/vnd.jupyter.widget-view+json": {
       "version_major": 2,
       "version_minor": 0,
       "model_id": "dd01977387634361bfd38d456d274e95"
      }
     },
     "metadata": {},
     "output_type": "display_data"
    },
    {
     "name": "stderr",
     "output_type": "stream",
     "text": [
      "2023-04-14 13:26:56,587 | 36547 - Download completed\n",
      "2023-04-14 13:26:56,588 | 36547 - Unzip file\n",
      "2023-04-14 13:26:56,799 | 36547 - Deleting zip file | /home/max/Desktop/test/preprocessing/census_2011/geodata/R15_11_WGS84.zip\n",
      "2023-04-14 13:26:56,802 | 36547 - File deleted\n",
      "2023-04-14 13:26:56,804 | 36547 - Download census data | https://www.istat.it/storage/cartografia/basi_territoriali/WGS_84_UTM/2011/R16_11_WGS84.zip\n"
     ]
    },
    {
     "data": {
      "text/plain": "Downloading...:   0%|          | 0/13731992 [00:00<?, ?it/s]",
      "application/vnd.jupyter.widget-view+json": {
       "version_major": 2,
       "version_minor": 0,
       "model_id": "57ac0ba90c794243a877579d28f0d426"
      }
     },
     "metadata": {},
     "output_type": "display_data"
    },
    {
     "name": "stderr",
     "output_type": "stream",
     "text": [
      "2023-04-14 13:26:58,878 | 36547 - Download completed\n",
      "2023-04-14 13:26:58,879 | 36547 - Unzip file\n",
      "2023-04-14 13:26:59,020 | 36547 - Deleting zip file | /home/max/Desktop/test/preprocessing/census_2011/geodata/R16_11_WGS84.zip\n",
      "2023-04-14 13:26:59,023 | 36547 - File deleted\n",
      "2023-04-14 13:26:59,024 | 36547 - Download census data | https://www.istat.it/storage/cartografia/basi_territoriali/WGS_84_UTM/2011/R17_11_WGS84.zip\n"
     ]
    },
    {
     "data": {
      "text/plain": "Downloading...:   0%|          | 0/7721311 [00:00<?, ?it/s]",
      "application/vnd.jupyter.widget-view+json": {
       "version_major": 2,
       "version_minor": 0,
       "model_id": "e6c908ab7ccc427bbfd1687a47a67c49"
      }
     },
     "metadata": {},
     "output_type": "display_data"
    },
    {
     "name": "stderr",
     "output_type": "stream",
     "text": [
      "2023-04-14 13:27:00,571 | 36547 - Download completed\n",
      "2023-04-14 13:27:00,572 | 36547 - Unzip file\n",
      "2023-04-14 13:27:00,649 | 36547 - Deleting zip file | /home/max/Desktop/test/preprocessing/census_2011/geodata/R17_11_WGS84.zip\n",
      "2023-04-14 13:27:00,651 | 36547 - File deleted\n",
      "2023-04-14 13:27:00,655 | 36547 - Download census data | https://www.istat.it/storage/cartografia/basi_territoriali/WGS_84_UTM/2011/R18_11_WGS84.zip\n"
     ]
    },
    {
     "data": {
      "text/plain": "Downloading...:   0%|          | 0/18609079 [00:00<?, ?it/s]",
      "application/vnd.jupyter.widget-view+json": {
       "version_major": 2,
       "version_minor": 0,
       "model_id": "3385bd641bae4068a337524e9d187944"
      }
     },
     "metadata": {},
     "output_type": "display_data"
    },
    {
     "name": "stderr",
     "output_type": "stream",
     "text": [
      "2023-04-14 13:27:03,534 | 36547 - Download completed\n",
      "2023-04-14 13:27:03,534 | 36547 - Unzip file\n",
      "2023-04-14 13:27:03,698 | 36547 - Deleting zip file | /home/max/Desktop/test/preprocessing/census_2011/geodata/R18_11_WGS84.zip\n",
      "2023-04-14 13:27:03,701 | 36547 - File deleted\n",
      "2023-04-14 13:27:03,702 | 36547 - Download census data | https://www.istat.it/storage/cartografia/basi_territoriali/WGS_84_UTM/2011/R19_11_WGS84.zip\n"
     ]
    },
    {
     "data": {
      "text/plain": "Downloading...:   0%|          | 0/27730196 [00:00<?, ?it/s]",
      "application/vnd.jupyter.widget-view+json": {
       "version_major": 2,
       "version_minor": 0,
       "model_id": "00d911a638904579801e24af082eef9b"
      }
     },
     "metadata": {},
     "output_type": "display_data"
    },
    {
     "name": "stderr",
     "output_type": "stream",
     "text": [
      "2023-04-14 13:27:07,841 | 36547 - Download completed\n",
      "2023-04-14 13:27:07,841 | 36547 - Unzip file\n",
      "2023-04-14 13:27:08,108 | 36547 - Deleting zip file | /home/max/Desktop/test/preprocessing/census_2011/geodata/R19_11_WGS84.zip\n",
      "2023-04-14 13:27:08,112 | 36547 - File deleted\n",
      "2023-04-14 13:27:08,115 | 36547 - Download census data | https://www.istat.it/storage/cartografia/basi_territoriali/WGS_84_UTM/2011/R20_11_WGS84.zip\n"
     ]
    },
    {
     "data": {
      "text/plain": "Downloading...:   0%|          | 0/24091365 [00:00<?, ?it/s]",
      "application/vnd.jupyter.widget-view+json": {
       "version_major": 2,
       "version_minor": 0,
       "model_id": "711b902fd4b941959cfc814d87ed2e76"
      }
     },
     "metadata": {},
     "output_type": "display_data"
    },
    {
     "name": "stderr",
     "output_type": "stream",
     "text": [
      "2023-04-14 13:27:12,677 | 36547 - Download completed\n",
      "2023-04-14 13:27:12,678 | 36547 - Unzip file\n",
      "2023-04-14 13:27:12,900 | 36547 - Deleting zip file | /home/max/Desktop/test/preprocessing/census_2011/geodata/R20_11_WGS84.zip\n",
      "2023-04-14 13:27:12,903 | 36547 - File deleted\n",
      "2023-04-14 13:27:12,905 | 36547 - Download census geodata completed\n",
      "2023-04-14 13:27:12,906 | 36547 - Make folder for 2011' census data and geodata.\n",
      "2023-04-14 13:27:12,907 | 36547 - Download administrative boundaries\n",
      "2023-04-14 13:27:12,907 | 36547 - Download census data | https://www.istat.it/storage/cartografia/confini_amministrativi/non_generalizzati/Limiti2011.zip\n"
     ]
    },
    {
     "data": {
      "text/plain": "Downloading...:   0%|          | 0/67263737 [00:00<?, ?it/s]",
      "application/vnd.jupyter.widget-view+json": {
       "version_major": 2,
       "version_minor": 0,
       "model_id": "179d03c5e17d4e68ba1774c2ae209260"
      }
     },
     "metadata": {},
     "output_type": "display_data"
    },
    {
     "name": "stderr",
     "output_type": "stream",
     "text": [
      "2023-04-14 13:27:25,922 | 36547 - Download completed\n",
      "2023-04-14 13:27:25,923 | 36547 - Unzip file\n",
      "2023-04-14 13:27:26,791 | 36547 - Deleting zip file | /home/max/Desktop/test/preprocessing/census_2011/administrative_boundaries/Limiti2011.zip\n",
      "2023-04-14 13:27:26,801 | 36547 - File deleted\n",
      "2023-04-14 13:27:26,806 | 36547 - Download administrative boundaries completed\n",
      "2023-04-14 13:27:26,807 | 36547 - End analysis in 0:07:24.831083\n"
     ]
    }
   ],
   "source": [
    "download_raw_data(output_path)"
   ],
   "metadata": {
    "collapsed": false,
    "ExecuteTime": {
     "start_time": "2023-04-14T13:20:02.017512Z",
     "end_time": "2023-04-14T13:27:26.812696Z"
    }
   }
  },
  {
   "cell_type": "markdown",
   "source": [
    "## Conclusione"
   ],
   "metadata": {
    "collapsed": false
   }
  },
  {
   "cell_type": "markdown",
   "source": [
    "Al termine del processo di download tutti i dati grezzi saranno visibili nel path di destinazione."
   ],
   "metadata": {
    "collapsed": false
   }
  }
 ],
 "metadata": {
  "kernelspec": {
   "display_name": "Python 3",
   "language": "python",
   "name": "python3"
  },
  "language_info": {
   "codemirror_mode": {
    "name": "ipython",
    "version": 2
   },
   "file_extension": ".py",
   "mimetype": "text/x-python",
   "name": "python",
   "nbconvert_exporter": "python",
   "pygments_lexer": "ipython2",
   "version": "2.7.6"
  }
 },
 "nbformat": 4,
 "nbformat_minor": 0
}
