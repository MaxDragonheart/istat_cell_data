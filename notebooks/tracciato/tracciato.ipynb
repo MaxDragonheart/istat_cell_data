{
 "cells": [
  {
   "cell_type": "code",
   "source": [
    "from pathlib import Path\n",
    "\n",
    "main_folder = Path('/home/max/Desktop/census')\n",
    "data_folder = main_folder.joinpath('preprocessing')\n",
    "csv_data_1991 = data_folder.joinpath('census_1991', 'data', 'Sezioni di Censimento')\n",
    "csv_data_2001 = data_folder.joinpath('census_2001', 'data', 'Sezioni di Censimento')\n",
    "csv_data_2011 = data_folder.joinpath('census_2011', 'data', 'Sezioni di Censimento')\n",
    "output_folder = main_folder\n",
    "\n"
   ],
   "metadata": {
    "collapsed": false,
    "ExecuteTime": {
     "end_time": "2024-06-02T18:45:08.659597Z",
     "start_time": "2024-06-02T18:45:08.655573Z"
    }
   },
   "outputs": [
    {
     "data": {
      "text/plain": [
       "(True,\n",
       " PosixPath('/home/max/Desktop/census/preprocessing'),\n",
       " PosixPath('/home/max/Desktop/census'))"
      ]
     },
     "execution_count": 2,
     "metadata": {},
     "output_type": "execute_result"
    }
   ],
   "execution_count": 2
  },
  {
   "metadata": {
    "ExecuteTime": {
     "end_time": "2024-06-02T19:33:32.316548Z",
     "start_time": "2024-06-02T19:33:32.240662Z"
    }
   },
   "cell_type": "code",
   "source": [
    "import pandas as pd\n",
    "\n",
    "year_list = [1991, 2001, 2011]\n",
    "\n",
    "for year in year_list:\n",
    "    csv_data = data_folder.joinpath(f'census_{year}', 'data', 'Sezioni di Censimento')\n",
    "    file_list = list(csv_data.rglob(\"*.csv\"))\n",
    "    \n",
    "    year_columns = []\n",
    "    \n",
    "    for file in file_list:\n",
    "                \n",
    "        if file.stem.startswith(\"R\"):\n",
    "            df = pd.read_csv(file)\n",
    "            df_columns = list(df.columns)[0].split(\";\")\n",
    "            #print({file.stem: df_columns})\n",
    "            df_file_columns = pd.DataFrame(data=df_columns, columns=[file.stem]).transpose()\n",
    "            #print(df_file_columns)\n",
    "            year_columns.append(df_file_columns)\n",
    "\n",
    "            break\n",
    "\n",
    "    #print(year_columns)\n",
    "    \n",
    "    df_columns_year = pd.concat(year_columns)\n",
    "    print(df_columns_year)\n",
    "    \n",
    "    break\n"
   ],
   "outputs": [
    {
     "name": "stdout",
     "output_type": "stream",
     "text": [
      "                      0        1        2        3        4   5   6   7   8    \\\n",
      "R09_DatiCPA_1991  sez1991  cod_pro  cod_com  pro_com  sezione  p1  p2  p3  p4   \n",
      "\n",
      "                 9    ...  197   198  199  200  201   202   203   204   205  \\\n",
      "R09_DatiCPA_1991  p5  ...  pf9  pf10  st1  st6  st9  st12  st13  st14  st15   \n",
      "\n",
      "                   206  \n",
      "R09_DatiCPA_1991  st16  \n",
      "\n",
      "[1 rows x 207 columns]\n"
     ]
    }
   ],
   "execution_count": 49
  },
  {
   "cell_type": "code",
   "source": [
    "file_list = list(data_folder.rglob(\"*.csv\"))\n",
    "file_list"
   ],
   "metadata": {
    "collapsed": false,
    "ExecuteTime": {
     "end_time": "2024-06-02T18:46:28.960373Z",
     "start_time": "2024-06-02T18:46:28.953316Z"
    }
   },
   "outputs": [
    {
     "data": {
      "text/plain": [
       "[PosixPath('/home/max/Desktop/census/preprocessing/census_2011/data2011.csv'),\n",
       " PosixPath('/home/max/Desktop/census/preprocessing/census_2011/data/Sezioni di Censimento/R09_indicatori_2011_sezioni.csv'),\n",
       " PosixPath('/home/max/Desktop/census/preprocessing/census_2011/data/Sezioni di Censimento/R13_indicatori_2011_sezioni.csv'),\n",
       " PosixPath('/home/max/Desktop/census/preprocessing/census_2011/data/Sezioni di Censimento/R07_indicatori_2011_sezioni.csv'),\n",
       " PosixPath('/home/max/Desktop/census/preprocessing/census_2011/data/Sezioni di Censimento/R14_indicatori_2011_sezioni.csv'),\n",
       " PosixPath('/home/max/Desktop/census/preprocessing/census_2011/data/Sezioni di Censimento/R01_indicatori_2011_sezioni.csv'),\n",
       " PosixPath('/home/max/Desktop/census/preprocessing/census_2011/data/Sezioni di Censimento/R19_indicatori_2011_sezioni.csv'),\n",
       " PosixPath('/home/max/Desktop/census/preprocessing/census_2011/data/Sezioni di Censimento/R16_indicatori_2011_sezioni.csv'),\n",
       " PosixPath('/home/max/Desktop/census/preprocessing/census_2011/data/Sezioni di Censimento/R18_indicatori_2011_sezioni.csv'),\n",
       " PosixPath('/home/max/Desktop/census/preprocessing/census_2011/data/Sezioni di Censimento/R04_indicatori_2011_sezioni.csv'),\n",
       " PosixPath('/home/max/Desktop/census/preprocessing/census_2011/data/Sezioni di Censimento/R15_indicatori_2011_sezioni.csv'),\n",
       " PosixPath('/home/max/Desktop/census/preprocessing/census_2011/data/Sezioni di Censimento/R02_indicatori_2011_sezioni.csv'),\n",
       " PosixPath('/home/max/Desktop/census/preprocessing/census_2011/data/Sezioni di Censimento/R20_indicatori_2011_sezioni.csv'),\n",
       " PosixPath('/home/max/Desktop/census/preprocessing/census_2011/data/Sezioni di Censimento/tracciato_2011_sezioni.csv'),\n",
       " PosixPath('/home/max/Desktop/census/preprocessing/census_2011/data/Sezioni di Censimento/R05_indicatori_2011_sezioni.csv'),\n",
       " PosixPath('/home/max/Desktop/census/preprocessing/census_2011/data/Sezioni di Censimento/R12_indicatori_2011_sezioni.csv'),\n",
       " PosixPath('/home/max/Desktop/census/preprocessing/census_2011/data/Sezioni di Censimento/R03_indicatori_2011_sezioni.csv'),\n",
       " PosixPath('/home/max/Desktop/census/preprocessing/census_2011/data/Sezioni di Censimento/R06_indicatori_2011_sezioni.csv'),\n",
       " PosixPath('/home/max/Desktop/census/preprocessing/census_2011/data/Sezioni di Censimento/R08_indicatori_2011_sezioni.csv'),\n",
       " PosixPath('/home/max/Desktop/census/preprocessing/census_2011/data/Sezioni di Censimento/R11_indicatori_2011_sezioni.csv'),\n",
       " PosixPath('/home/max/Desktop/census/preprocessing/census_2011/data/Sezioni di Censimento/R10_indicatori_2011_sezioni.csv'),\n",
       " PosixPath('/home/max/Desktop/census/preprocessing/census_2011/data/Sezioni di Censimento/R17_indicatori_2011_sezioni.csv'),\n",
       " PosixPath('/home/max/Desktop/census/preprocessing/census_2011/data/Località/R19_indicatori_2011_localita.csv'),\n",
       " PosixPath('/home/max/Desktop/census/preprocessing/census_2011/data/Località/R10_indicatori_2011_localita.csv'),\n",
       " PosixPath('/home/max/Desktop/census/preprocessing/census_2011/data/Località/R01_indicatori_2011_localita.csv'),\n",
       " PosixPath('/home/max/Desktop/census/preprocessing/census_2011/data/Località/R04_indicatori_2011_localita.csv'),\n",
       " PosixPath('/home/max/Desktop/census/preprocessing/census_2011/data/Località/R15_indicatori_2011_localita.csv'),\n",
       " PosixPath('/home/max/Desktop/census/preprocessing/census_2011/data/Località/R12_indicatori_2011_localita.csv'),\n",
       " PosixPath('/home/max/Desktop/census/preprocessing/census_2011/data/Località/R11_indicatori_2011_localita.csv'),\n",
       " PosixPath('/home/max/Desktop/census/preprocessing/census_2011/data/Località/R16_indicatori_2011_localita.csv'),\n",
       " PosixPath('/home/max/Desktop/census/preprocessing/census_2011/data/Località/R02_indicatori_2011_localita.csv'),\n",
       " PosixPath('/home/max/Desktop/census/preprocessing/census_2011/data/Località/R20_indicatori_2011_localita.csv'),\n",
       " PosixPath('/home/max/Desktop/census/preprocessing/census_2011/data/Località/R06_indicatori_2011_localita.csv'),\n",
       " PosixPath('/home/max/Desktop/census/preprocessing/census_2011/data/Località/R09_indicatori_2011_localita.csv'),\n",
       " PosixPath('/home/max/Desktop/census/preprocessing/census_2011/data/Località/R13_indicatori_2011_localita.csv'),\n",
       " PosixPath('/home/max/Desktop/census/preprocessing/census_2011/data/Località/tracciato_2011_localita.csv'),\n",
       " PosixPath('/home/max/Desktop/census/preprocessing/census_2011/data/Località/R03_indicatori_2011_localita.csv'),\n",
       " PosixPath('/home/max/Desktop/census/preprocessing/census_2011/data/Località/R18_indicatori_2011_localita.csv'),\n",
       " PosixPath('/home/max/Desktop/census/preprocessing/census_2011/data/Località/R08_indicatori_2011_localita.csv'),\n",
       " PosixPath('/home/max/Desktop/census/preprocessing/census_2011/data/Località/R14_indicatori_2011_localita.csv'),\n",
       " PosixPath('/home/max/Desktop/census/preprocessing/census_2011/data/Località/R05_indicatori_2011_localita.csv'),\n",
       " PosixPath('/home/max/Desktop/census/preprocessing/census_2011/data/Località/R07_indicatori_2011_localita.csv'),\n",
       " PosixPath('/home/max/Desktop/census/preprocessing/census_2011/data/Località/R17_indicatori_2011_localita.csv'),\n",
       " PosixPath('/home/max/Desktop/census/preprocessing/census_2011/data/Aree Subcomunali/R19_indicatori_2011_areesubcomunali.csv'),\n",
       " PosixPath('/home/max/Desktop/census/preprocessing/census_2011/data/Aree Subcomunali/R12_indicatori_2011_areesubcomunali.csv'),\n",
       " PosixPath('/home/max/Desktop/census/preprocessing/census_2011/data/Aree Subcomunali/R07_indicatori_2011_areesubcomunali.csv'),\n",
       " PosixPath('/home/max/Desktop/census/preprocessing/census_2011/data/Aree Subcomunali/R18_indicatori_2011_areesubcomunali.csv'),\n",
       " PosixPath('/home/max/Desktop/census/preprocessing/census_2011/data/Aree Subcomunali/R03_indicatori_2011_areesubcomunali.csv'),\n",
       " PosixPath('/home/max/Desktop/census/preprocessing/census_2011/data/Aree Subcomunali/R20_indicatori_2011_areesubcomunali.csv'),\n",
       " PosixPath('/home/max/Desktop/census/preprocessing/census_2011/data/Aree Subcomunali/R05_indicatori_2011_areesubcomunali.csv'),\n",
       " PosixPath('/home/max/Desktop/census/preprocessing/census_2011/data/Aree Subcomunali/R13_indicatori_2011_areesubcomunali.csv'),\n",
       " PosixPath('/home/max/Desktop/census/preprocessing/census_2011/data/Aree Subcomunali/tracciato_2011_areesubcomunali.csv'),\n",
       " PosixPath('/home/max/Desktop/census/preprocessing/census_2011/data/Aree Subcomunali/R06_indicatori_2011_areesubcomunali.csv'),\n",
       " PosixPath('/home/max/Desktop/census/preprocessing/census_2011/data/Aree Subcomunali/R01_indicatori_2011_areesubcomunali.csv'),\n",
       " PosixPath('/home/max/Desktop/census/preprocessing/census_2011/data/Aree Subcomunali/R10_indicatori_2011_areesubcomunali.csv'),\n",
       " PosixPath('/home/max/Desktop/census/preprocessing/census_2011/data/Aree Subcomunali/R09_indicatori_2011_areesubcomunali.csv'),\n",
       " PosixPath('/home/max/Desktop/census/preprocessing/census_2011/data/Aree Subcomunali/R15_indicatori_2011_areesubcomunali.csv'),\n",
       " PosixPath('/home/max/Desktop/census/preprocessing/census_2011/data/Aree Subcomunali/R16_indicatori_2011_areesubcomunali.csv'),\n",
       " PosixPath('/home/max/Desktop/census/preprocessing/census_2011/data/Aree Subcomunali/R08_indicatori_2011_areesubcomunali.csv'),\n",
       " PosixPath('/home/max/Desktop/census/preprocessing/census_2011/data/Aree di Censimento/R12_indicatori_2011_areecensimento.csv'),\n",
       " PosixPath('/home/max/Desktop/census/preprocessing/census_2011/data/Aree di Censimento/R19_indicatori_2011_areecensimento.csv'),\n",
       " PosixPath('/home/max/Desktop/census/preprocessing/census_2011/data/Aree di Censimento/R08_indicatori_2011_areecensimento.csv'),\n",
       " PosixPath('/home/max/Desktop/census/preprocessing/census_2011/data/Aree di Censimento/R10_indicatori_2011_areecensimento.csv'),\n",
       " PosixPath('/home/max/Desktop/census/preprocessing/census_2011/data/Aree di Censimento/R16_indicatori_2011_areecensimento.csv'),\n",
       " PosixPath('/home/max/Desktop/census/preprocessing/census_2011/data/Aree di Censimento/R11_indicatori_2011_areecensimento.csv'),\n",
       " PosixPath('/home/max/Desktop/census/preprocessing/census_2011/data/Aree di Censimento/R04_indicatori_2011_areecensimento.csv'),\n",
       " PosixPath('/home/max/Desktop/census/preprocessing/census_2011/data/Aree di Censimento/R07_indicatori_2011_areecensimento.csv'),\n",
       " PosixPath('/home/max/Desktop/census/preprocessing/census_2011/data/Aree di Censimento/R01_indicatori_2011_areecensimento.csv'),\n",
       " PosixPath('/home/max/Desktop/census/preprocessing/census_2011/data/Aree di Censimento/R15_indicatori_2011_areecensimento.csv'),\n",
       " PosixPath('/home/max/Desktop/census/preprocessing/census_2011/data/Aree di Censimento/R06_indicatori_2011_areecensimento.csv'),\n",
       " PosixPath('/home/max/Desktop/census/preprocessing/census_2011/data/Aree di Censimento/R09_indicatori_2011_areecensimento.csv'),\n",
       " PosixPath('/home/max/Desktop/census/preprocessing/census_2011/data/Aree di Censimento/R20_indicatori_2011_areecensimento.csv'),\n",
       " PosixPath('/home/max/Desktop/census/preprocessing/census_2011/data/Aree di Censimento/R13_indicatori_2011_areecensimento.csv'),\n",
       " PosixPath('/home/max/Desktop/census/preprocessing/census_2011/data/Aree di Censimento/R05_indicatori_2011_areecensimento.csv'),\n",
       " PosixPath('/home/max/Desktop/census/preprocessing/census_2011/data/Aree di Censimento/R14_indicatori_2011_areecensimento.csv'),\n",
       " PosixPath('/home/max/Desktop/census/preprocessing/census_2011/data/Aree di Censimento/R03_indicatori_2011_areecensimento.csv'),\n",
       " PosixPath('/home/max/Desktop/census/preprocessing/census_2011/data/Aree di Censimento/R18_indicatori_2011_areecensimento.csv'),\n",
       " PosixPath('/home/max/Desktop/census/preprocessing/census_2011/data/Aree di Censimento/tracciato_2011_areecensimento.csv'),\n",
       " PosixPath('/home/max/Desktop/census/preprocessing/census_2011/data/Aree di Censimento/R02_indicatori_2011_areecensimento.csv'),\n",
       " PosixPath('/home/max/Desktop/census/preprocessing/census_2011/data/Aree di Censimento/R17_indicatori_2011_areecensimento.csv'),\n",
       " PosixPath('/home/max/Desktop/census/preprocessing/census_2001/data2001.csv'),\n",
       " PosixPath('/home/max/Desktop/census/preprocessing/census_2001/data/Sezioni di Censimento/R17_DatiCPA_2001.csv'),\n",
       " PosixPath('/home/max/Desktop/census/preprocessing/census_2001/data/Sezioni di Censimento/R07_DatiCPA_2001.csv'),\n",
       " PosixPath('/home/max/Desktop/census/preprocessing/census_2001/data/Sezioni di Censimento/R11_DatiCPA_2001.csv'),\n",
       " PosixPath('/home/max/Desktop/census/preprocessing/census_2001/data/Sezioni di Censimento/R06_DatiCPA_2001.csv'),\n",
       " PosixPath('/home/max/Desktop/census/preprocessing/census_2001/data/Sezioni di Censimento/R12_DatiCPA_2001.csv'),\n",
       " PosixPath('/home/max/Desktop/census/preprocessing/census_2001/data/Sezioni di Censimento/R01_DatiCPA_2001.csv'),\n",
       " PosixPath('/home/max/Desktop/census/preprocessing/census_2001/data/Sezioni di Censimento/R14_DatiCPA_2001.csv'),\n",
       " PosixPath('/home/max/Desktop/census/preprocessing/census_2001/data/Sezioni di Censimento/tracciato_2001_sezioni.csv'),\n",
       " PosixPath('/home/max/Desktop/census/preprocessing/census_2001/data/Sezioni di Censimento/R15_DatiCPA_2001.csv'),\n",
       " PosixPath('/home/max/Desktop/census/preprocessing/census_2001/data/Sezioni di Censimento/R02_DatiCPA_2001.csv'),\n",
       " PosixPath('/home/max/Desktop/census/preprocessing/census_2001/data/Sezioni di Censimento/R19_DatiCPA_2001.csv'),\n",
       " PosixPath('/home/max/Desktop/census/preprocessing/census_2001/data/Sezioni di Censimento/R16_DatiCPA_2001.csv'),\n",
       " PosixPath('/home/max/Desktop/census/preprocessing/census_2001/data/Sezioni di Censimento/R08_DatiCPA_2001.csv'),\n",
       " PosixPath('/home/max/Desktop/census/preprocessing/census_2001/data/Sezioni di Censimento/R03_DatiCPA_2001.csv'),\n",
       " PosixPath('/home/max/Desktop/census/preprocessing/census_2001/data/Sezioni di Censimento/R20_DatiCPA_2001.csv'),\n",
       " PosixPath('/home/max/Desktop/census/preprocessing/census_2001/data/Sezioni di Censimento/R13_DatiCPA_2001.csv'),\n",
       " PosixPath('/home/max/Desktop/census/preprocessing/census_2001/data/Sezioni di Censimento/R10_DatiCPA_2001.csv'),\n",
       " PosixPath('/home/max/Desktop/census/preprocessing/census_2001/data/Sezioni di Censimento/R04_DatiCPA_2001.csv'),\n",
       " PosixPath('/home/max/Desktop/census/preprocessing/census_2001/data/Sezioni di Censimento/R05_DatiCPA_2001.csv'),\n",
       " PosixPath('/home/max/Desktop/census/preprocessing/census_2001/data/Sezioni di Censimento/R09_DatiCPA_2001.csv'),\n",
       " PosixPath('/home/max/Desktop/census/preprocessing/census_2001/data/Sezioni di Censimento/R18_DatiCPA_2001.csv'),\n",
       " PosixPath('/home/max/Desktop/census/preprocessing/census_1991/data1991.csv'),\n",
       " PosixPath('/home/max/Desktop/census/preprocessing/census_1991/data/Sezioni di Censimento/R09_DatiCPA_1991.csv'),\n",
       " PosixPath('/home/max/Desktop/census/preprocessing/census_1991/data/Sezioni di Censimento/R01_DatiCPA_1991.csv'),\n",
       " PosixPath('/home/max/Desktop/census/preprocessing/census_1991/data/Sezioni di Censimento/R10_DatiCPA_1991.csv'),\n",
       " PosixPath('/home/max/Desktop/census/preprocessing/census_1991/data/Sezioni di Censimento/R03_DatiCPA_1991.csv'),\n",
       " PosixPath('/home/max/Desktop/census/preprocessing/census_1991/data/Sezioni di Censimento/R08_DatiCPA_1991.csv'),\n",
       " PosixPath('/home/max/Desktop/census/preprocessing/census_1991/data/Sezioni di Censimento/R15_DatiCPA_1991.csv'),\n",
       " PosixPath('/home/max/Desktop/census/preprocessing/census_1991/data/Sezioni di Censimento/R06_DatiCPA_1991.csv'),\n",
       " PosixPath('/home/max/Desktop/census/preprocessing/census_1991/data/Sezioni di Censimento/R14_DatiCPA_1991.csv'),\n",
       " PosixPath('/home/max/Desktop/census/preprocessing/census_1991/data/Sezioni di Censimento/R11_DatiCPA_1991.csv'),\n",
       " PosixPath('/home/max/Desktop/census/preprocessing/census_1991/data/Sezioni di Censimento/R20_DatiCPA_1991.csv'),\n",
       " PosixPath('/home/max/Desktop/census/preprocessing/census_1991/data/Sezioni di Censimento/R19_DatiCPA_1991.csv'),\n",
       " PosixPath('/home/max/Desktop/census/preprocessing/census_1991/data/Sezioni di Censimento/R16_DatiCPA_1991.csv'),\n",
       " PosixPath('/home/max/Desktop/census/preprocessing/census_1991/data/Sezioni di Censimento/R18_DatiCPA_1991.csv'),\n",
       " PosixPath('/home/max/Desktop/census/preprocessing/census_1991/data/Sezioni di Censimento/tracciato_1991_sezioni.csv'),\n",
       " PosixPath('/home/max/Desktop/census/preprocessing/census_1991/data/Sezioni di Censimento/R13_DatiCPA_1991.csv'),\n",
       " PosixPath('/home/max/Desktop/census/preprocessing/census_1991/data/Sezioni di Censimento/R04_DatiCPA_1991.csv'),\n",
       " PosixPath('/home/max/Desktop/census/preprocessing/census_1991/data/Sezioni di Censimento/R12_DatiCPA_1991.csv'),\n",
       " PosixPath('/home/max/Desktop/census/preprocessing/census_1991/data/Sezioni di Censimento/R02_DatiCPA_1991.csv'),\n",
       " PosixPath('/home/max/Desktop/census/preprocessing/census_1991/data/Sezioni di Censimento/R17_DatiCPA_1991.csv'),\n",
       " PosixPath('/home/max/Desktop/census/preprocessing/census_1991/data/Sezioni di Censimento/R07_DatiCPA_1991.csv'),\n",
       " PosixPath('/home/max/Desktop/census/preprocessing/census_1991/data/Sezioni di Censimento/R05_DatiCPA_1991.csv')]"
      ]
     },
     "execution_count": 4,
     "metadata": {},
     "output_type": "execute_result"
    }
   ],
   "execution_count": 4
  },
  {
   "cell_type": "code",
   "execution_count": 4,
   "outputs": [
    {
     "data": {
      "text/plain": "                                                           0   \\\nid                                           R01_DatiCPA_2001   \ncod_pro                                      Codice Provincia   \ncod_com                                         Codice Comune   \npro_com     Codice che identifica univocamente il 'comune'...   \nsez2001     Codice che identifica univocamente la sezione ...   \n...                                                       ...   \nst14                                                      NaN   \nst15                                                      NaN   \nst16                                                      NaN   \nisolato                                                   NaN   \nUnnamed: 0                                                NaN   \n\n                                                           1   \\\nid                                           R02_DatiCPA_2001   \ncod_pro                       Codice numerico della Provincia   \ncod_com                            Codice numerico del Comune   \npro_com     Codice numerico che identifica univocamente il...   \nsez2001     Codice che identifica univocamente la sezione ...   \n...                                                       ...   \nst14                                                      NaN   \nst15                                                      NaN   \nst16                                                      NaN   \nisolato                                                   NaN   \nUnnamed: 0                                                NaN   \n\n                                                           2   \\\nid                                           R03_DatiCPA_2001   \ncod_pro                       Codice numerico della Provincia   \ncod_com                            Codice numerico del Comune   \npro_com     Codice numerico che identifica univocamente il...   \nsez2001     Codice che identifica univocamente la sezione ...   \n...                                                       ...   \nst14                                                      NaN   \nst15                                                      NaN   \nst16                                                      NaN   \nisolato                                                   NaN   \nUnnamed: 0                                                NaN   \n\n                                                           3   \\\nid                                           R04_DatiCPA_2001   \ncod_pro                       Codice numerico della Provincia   \ncod_com                            Codice numerico del Comune   \npro_com     Codice numerico che identifica univocamente il...   \nsez2001     Codice che identifica univocamente la sezione ...   \n...                                                       ...   \nst14                                                      NaN   \nst15                                                      NaN   \nst16                                                      NaN   \nisolato                                                   NaN   \nUnnamed: 0                                                NaN   \n\n                                                           4   \\\nid                                           R05_DatiCPA_2001   \ncod_pro                       Codice numerico della Provincia   \ncod_com                            Codice numerico del Comune   \npro_com     Codice numerico che identifica univocamente il...   \nsez2001                                                   NaN   \n...                                                       ...   \nst14                                                      NaN   \nst15                                                      NaN   \nst16                                                      NaN   \nisolato                                                   NaN   \nUnnamed: 0                                                NaN   \n\n                                                           5   \\\nid                                           R06_DatiCPA_2001   \ncod_pro                       Codice numerico della Provincia   \ncod_com                            Codice numerico del Comune   \npro_com     Codice numerico che identifica univocamente il...   \nsez2001     Codice che identifica univocamente la sezione ...   \n...                                                       ...   \nst14                                                      NaN   \nst15                                                      NaN   \nst16                                                      NaN   \nisolato                                                   NaN   \nUnnamed: 0                                                NaN   \n\n                                                           6   \\\nid                                           R07_DatiCPA_2001   \ncod_pro                       Codice numerico della Provincia   \ncod_com                            Codice numerico del Comune   \npro_com     Codice numerico che identifica univocamente il...   \nsez2001     Codice che identifica univocamente la sezione ...   \n...                                                       ...   \nst14                                                      NaN   \nst15                                                      NaN   \nst16                                                      NaN   \nisolato                                                   NaN   \nUnnamed: 0                                                NaN   \n\n                                                           7   \\\nid                                           R08_DatiCPA_2001   \ncod_pro                       Codice numerico della Provincia   \ncod_com                            Codice numerico del Comune   \npro_com     Codice numerico che identifica univocamente il...   \nsez2001     Codice che identifica univocamente la sezione ...   \n...                                                       ...   \nst14                                                      NaN   \nst15                                                      NaN   \nst16                                                      NaN   \nisolato                                                   NaN   \nUnnamed: 0                                                NaN   \n\n                                                           8   \\\nid                                           R09_DatiCPA_2001   \ncod_pro                       Codice numerico della Provincia   \ncod_com                            Codice numerico del Comune   \npro_com     Codice numerico che identifica univocamente il...   \nsez2001     Codice che identifica univocamente la sezione ...   \n...                                                       ...   \nst14                                                      NaN   \nst15                                                      NaN   \nst16                                                      NaN   \nisolato                                                   NaN   \nUnnamed: 0                                                NaN   \n\n                                                           9   ...  \\\nid                                           R10_DatiCPA_2001  ...   \ncod_pro                       Codice numerico della Provincia  ...   \ncod_com                            Codice numerico del Comune  ...   \npro_com     Codice numerico che identifica univocamente il...  ...   \nsez2001     Codice che identifica univocamente la sezione ...  ...   \n...                                                       ...  ...   \nst14                                                      NaN  ...   \nst15                                                      NaN  ...   \nst16                                                      NaN  ...   \nisolato                                                   NaN  ...   \nUnnamed: 0                                                NaN  ...   \n\n                                                           30  \\\nid                                           R11_DatiCPA_1991   \ncod_pro                                      Codice Provincia   \ncod_com                                         Codice Comune   \npro_com     Codice che identifica univocamente il 'comune'...   \nsez2001                                                   NaN   \n...                                                       ...   \nst14                     Numero totale di stranieri - Apolidi   \nst15                               Numero totale di stranieri   \nst16                Stranieri residenti totali                  \nisolato                                                   NaN   \nUnnamed: 0                                               10.0   \n\n                                                           31  \\\nid                                           R12_DatiCPA_1991   \ncod_pro                                      Codice Provincia   \ncod_com                                         Codice Comune   \npro_com     Codice che identifica univocamente il 'comune'...   \nsez2001                                                   NaN   \n...                                                       ...   \nst14                     Numero totale di stranieri - Apolidi   \nst15                               Numero totale di stranieri   \nst16                Stranieri residenti totali                  \nisolato     Sezione di censimento distinta per isolato e v...   \nUnnamed: 0                                               11.0   \n\n                                                           32  \\\nid                                           R13_DatiCPA_1991   \ncod_pro                                      Codice Provincia   \ncod_com                                         Codice Comune   \npro_com     Codice che identifica univocamente il 'comune'...   \nsez2001                                                   NaN   \n...                                                       ...   \nst14                     Numero totale di stranieri - Apolidi   \nst15                               Numero totale di stranieri   \nst16                Stranieri residenti totali                  \nisolato                                                   NaN   \nUnnamed: 0                                               12.0   \n\n                                                           33  \\\nid                                           R14_DatiCPA_1991   \ncod_pro                                      Codice Provincia   \ncod_com                                         Codice Comune   \npro_com     Codice che identifica univocamente il 'comune'...   \nsez2001                                                   NaN   \n...                                                       ...   \nst14                     Numero totale di stranieri - Apolidi   \nst15                               Numero totale di stranieri   \nst16                Stranieri residenti totali                  \nisolato                                                   NaN   \nUnnamed: 0                                               13.0   \n\n                                                           34  \\\nid                                           R15_DatiCPA_1991   \ncod_pro                                      Codice Provincia   \ncod_com                                         Codice Comune   \npro_com     Codice che identifica univocamente il 'comune'...   \nsez2001                                                   NaN   \n...                                                       ...   \nst14                     Numero totale di stranieri - Apolidi   \nst15                               Numero totale di stranieri   \nst16                Stranieri residenti totali                  \nisolato                                                   NaN   \nUnnamed: 0                                               14.0   \n\n                                                           35  \\\nid                                           R16_DatiCPA_1991   \ncod_pro                                      Codice Provincia   \ncod_com                                         Codice Comune   \npro_com     Codice che identifica univocamente il 'comune'...   \nsez2001                                                   NaN   \n...                                                       ...   \nst14                     Numero totale di stranieri - Apolidi   \nst15                               Numero totale di stranieri   \nst16                Stranieri residenti totali                  \nisolato                                                   NaN   \nUnnamed: 0                                               15.0   \n\n                                                           36  \\\nid                                           R17_DatiCPA_1991   \ncod_pro                                      Codice Provincia   \ncod_com                                         Codice Comune   \npro_com     Codice che identifica univocamente il 'comune'...   \nsez2001                                                   NaN   \n...                                                       ...   \nst14                     Numero totale di stranieri - Apolidi   \nst15                               Numero totale di stranieri   \nst16                Stranieri residenti totali                  \nisolato                                                   NaN   \nUnnamed: 0                                               16.0   \n\n                                                           37  \\\nid                                           R18_DatiCPA_1991   \ncod_pro                                      Codice Provincia   \ncod_com                                         Codice Comune   \npro_com     Codice che identifica univocamente il 'comune'...   \nsez2001                                                   NaN   \n...                                                       ...   \nst14                     Numero totale di stranieri - Apolidi   \nst15                               Numero totale di stranieri   \nst16                Stranieri residenti totali                  \nisolato                                                   NaN   \nUnnamed: 0                                               17.0   \n\n                                                           38  \\\nid                                           R19_DatiCPA_1991   \ncod_pro                                      Codice Provincia   \ncod_com                                         Codice Comune   \npro_com     Codice che identifica univocamente il 'comune'...   \nsez2001                                                   NaN   \n...                                                       ...   \nst14                     Numero totale di stranieri - Apolidi   \nst15                               Numero totale di stranieri   \nst16                Stranieri residenti totali                  \nisolato                                                   NaN   \nUnnamed: 0                                               18.0   \n\n                                                           39  \nid                                           R20_DatiCPA_1991  \ncod_pro                                      Codice Provincia  \ncod_com                                         Codice Comune  \npro_com     Codice che identifica univocamente il 'comune'...  \nsez2001                                                   NaN  \n...                                                       ...  \nst14                     Numero totale di stranieri - Apolidi  \nst15                               Numero totale di stranieri  \nst16                Stranieri residenti totali                 \nisolato                                                   NaN  \nUnnamed: 0                                               19.0  \n\n[246 rows x 80 columns]",
      "text/html": "<div>\n<style scoped>\n    .dataframe tbody tr th:only-of-type {\n        vertical-align: middle;\n    }\n\n    .dataframe tbody tr th {\n        vertical-align: top;\n    }\n\n    .dataframe thead th {\n        text-align: right;\n    }\n</style>\n<table border=\"1\" class=\"dataframe\">\n  <thead>\n    <tr style=\"text-align: right;\">\n      <th></th>\n      <th>0</th>\n      <th>1</th>\n      <th>2</th>\n      <th>3</th>\n      <th>4</th>\n      <th>5</th>\n      <th>6</th>\n      <th>7</th>\n      <th>8</th>\n      <th>9</th>\n      <th>...</th>\n      <th>30</th>\n      <th>31</th>\n      <th>32</th>\n      <th>33</th>\n      <th>34</th>\n      <th>35</th>\n      <th>36</th>\n      <th>37</th>\n      <th>38</th>\n      <th>39</th>\n    </tr>\n  </thead>\n  <tbody>\n    <tr>\n      <th>id</th>\n      <td>R01_DatiCPA_2001</td>\n      <td>R02_DatiCPA_2001</td>\n      <td>R03_DatiCPA_2001</td>\n      <td>R04_DatiCPA_2001</td>\n      <td>R05_DatiCPA_2001</td>\n      <td>R06_DatiCPA_2001</td>\n      <td>R07_DatiCPA_2001</td>\n      <td>R08_DatiCPA_2001</td>\n      <td>R09_DatiCPA_2001</td>\n      <td>R10_DatiCPA_2001</td>\n      <td>...</td>\n      <td>R11_DatiCPA_1991</td>\n      <td>R12_DatiCPA_1991</td>\n      <td>R13_DatiCPA_1991</td>\n      <td>R14_DatiCPA_1991</td>\n      <td>R15_DatiCPA_1991</td>\n      <td>R16_DatiCPA_1991</td>\n      <td>R17_DatiCPA_1991</td>\n      <td>R18_DatiCPA_1991</td>\n      <td>R19_DatiCPA_1991</td>\n      <td>R20_DatiCPA_1991</td>\n    </tr>\n    <tr>\n      <th>cod_pro</th>\n      <td>Codice Provincia</td>\n      <td>Codice numerico della Provincia</td>\n      <td>Codice numerico della Provincia</td>\n      <td>Codice numerico della Provincia</td>\n      <td>Codice numerico della Provincia</td>\n      <td>Codice numerico della Provincia</td>\n      <td>Codice numerico della Provincia</td>\n      <td>Codice numerico della Provincia</td>\n      <td>Codice numerico della Provincia</td>\n      <td>Codice numerico della Provincia</td>\n      <td>...</td>\n      <td>Codice Provincia</td>\n      <td>Codice Provincia</td>\n      <td>Codice Provincia</td>\n      <td>Codice Provincia</td>\n      <td>Codice Provincia</td>\n      <td>Codice Provincia</td>\n      <td>Codice Provincia</td>\n      <td>Codice Provincia</td>\n      <td>Codice Provincia</td>\n      <td>Codice Provincia</td>\n    </tr>\n    <tr>\n      <th>cod_com</th>\n      <td>Codice Comune</td>\n      <td>Codice numerico del Comune</td>\n      <td>Codice numerico del Comune</td>\n      <td>Codice numerico del Comune</td>\n      <td>Codice numerico del Comune</td>\n      <td>Codice numerico del Comune</td>\n      <td>Codice numerico del Comune</td>\n      <td>Codice numerico del Comune</td>\n      <td>Codice numerico del Comune</td>\n      <td>Codice numerico del Comune</td>\n      <td>...</td>\n      <td>Codice Comune</td>\n      <td>Codice Comune</td>\n      <td>Codice Comune</td>\n      <td>Codice Comune</td>\n      <td>Codice Comune</td>\n      <td>Codice Comune</td>\n      <td>Codice Comune</td>\n      <td>Codice Comune</td>\n      <td>Codice Comune</td>\n      <td>Codice Comune</td>\n    </tr>\n    <tr>\n      <th>pro_com</th>\n      <td>Codice che identifica univocamente il 'comune'...</td>\n      <td>Codice numerico che identifica univocamente il...</td>\n      <td>Codice numerico che identifica univocamente il...</td>\n      <td>Codice numerico che identifica univocamente il...</td>\n      <td>Codice numerico che identifica univocamente il...</td>\n      <td>Codice numerico che identifica univocamente il...</td>\n      <td>Codice numerico che identifica univocamente il...</td>\n      <td>Codice numerico che identifica univocamente il...</td>\n      <td>Codice numerico che identifica univocamente il...</td>\n      <td>Codice numerico che identifica univocamente il...</td>\n      <td>...</td>\n      <td>Codice che identifica univocamente il 'comune'...</td>\n      <td>Codice che identifica univocamente il 'comune'...</td>\n      <td>Codice che identifica univocamente il 'comune'...</td>\n      <td>Codice che identifica univocamente il 'comune'...</td>\n      <td>Codice che identifica univocamente il 'comune'...</td>\n      <td>Codice che identifica univocamente il 'comune'...</td>\n      <td>Codice che identifica univocamente il 'comune'...</td>\n      <td>Codice che identifica univocamente il 'comune'...</td>\n      <td>Codice che identifica univocamente il 'comune'...</td>\n      <td>Codice che identifica univocamente il 'comune'...</td>\n    </tr>\n    <tr>\n      <th>sez2001</th>\n      <td>Codice che identifica univocamente la sezione ...</td>\n      <td>Codice che identifica univocamente la sezione ...</td>\n      <td>Codice che identifica univocamente la sezione ...</td>\n      <td>Codice che identifica univocamente la sezione ...</td>\n      <td>NaN</td>\n      <td>Codice che identifica univocamente la sezione ...</td>\n      <td>Codice che identifica univocamente la sezione ...</td>\n      <td>Codice che identifica univocamente la sezione ...</td>\n      <td>Codice che identifica univocamente la sezione ...</td>\n      <td>Codice che identifica univocamente la sezione ...</td>\n      <td>...</td>\n      <td>NaN</td>\n      <td>NaN</td>\n      <td>NaN</td>\n      <td>NaN</td>\n      <td>NaN</td>\n      <td>NaN</td>\n      <td>NaN</td>\n      <td>NaN</td>\n      <td>NaN</td>\n      <td>NaN</td>\n    </tr>\n    <tr>\n      <th>...</th>\n      <td>...</td>\n      <td>...</td>\n      <td>...</td>\n      <td>...</td>\n      <td>...</td>\n      <td>...</td>\n      <td>...</td>\n      <td>...</td>\n      <td>...</td>\n      <td>...</td>\n      <td>...</td>\n      <td>...</td>\n      <td>...</td>\n      <td>...</td>\n      <td>...</td>\n      <td>...</td>\n      <td>...</td>\n      <td>...</td>\n      <td>...</td>\n      <td>...</td>\n      <td>...</td>\n    </tr>\n    <tr>\n      <th>st14</th>\n      <td>NaN</td>\n      <td>NaN</td>\n      <td>NaN</td>\n      <td>NaN</td>\n      <td>NaN</td>\n      <td>NaN</td>\n      <td>NaN</td>\n      <td>NaN</td>\n      <td>NaN</td>\n      <td>NaN</td>\n      <td>...</td>\n      <td>Numero totale di stranieri - Apolidi</td>\n      <td>Numero totale di stranieri - Apolidi</td>\n      <td>Numero totale di stranieri - Apolidi</td>\n      <td>Numero totale di stranieri - Apolidi</td>\n      <td>Numero totale di stranieri - Apolidi</td>\n      <td>Numero totale di stranieri - Apolidi</td>\n      <td>Numero totale di stranieri - Apolidi</td>\n      <td>Numero totale di stranieri - Apolidi</td>\n      <td>Numero totale di stranieri - Apolidi</td>\n      <td>Numero totale di stranieri - Apolidi</td>\n    </tr>\n    <tr>\n      <th>st15</th>\n      <td>NaN</td>\n      <td>NaN</td>\n      <td>NaN</td>\n      <td>NaN</td>\n      <td>NaN</td>\n      <td>NaN</td>\n      <td>NaN</td>\n      <td>NaN</td>\n      <td>NaN</td>\n      <td>NaN</td>\n      <td>...</td>\n      <td>Numero totale di stranieri</td>\n      <td>Numero totale di stranieri</td>\n      <td>Numero totale di stranieri</td>\n      <td>Numero totale di stranieri</td>\n      <td>Numero totale di stranieri</td>\n      <td>Numero totale di stranieri</td>\n      <td>Numero totale di stranieri</td>\n      <td>Numero totale di stranieri</td>\n      <td>Numero totale di stranieri</td>\n      <td>Numero totale di stranieri</td>\n    </tr>\n    <tr>\n      <th>st16</th>\n      <td>NaN</td>\n      <td>NaN</td>\n      <td>NaN</td>\n      <td>NaN</td>\n      <td>NaN</td>\n      <td>NaN</td>\n      <td>NaN</td>\n      <td>NaN</td>\n      <td>NaN</td>\n      <td>NaN</td>\n      <td>...</td>\n      <td>Stranieri residenti totali</td>\n      <td>Stranieri residenti totali</td>\n      <td>Stranieri residenti totali</td>\n      <td>Stranieri residenti totali</td>\n      <td>Stranieri residenti totali</td>\n      <td>Stranieri residenti totali</td>\n      <td>Stranieri residenti totali</td>\n      <td>Stranieri residenti totali</td>\n      <td>Stranieri residenti totali</td>\n      <td>Stranieri residenti totali</td>\n    </tr>\n    <tr>\n      <th>isolato</th>\n      <td>NaN</td>\n      <td>NaN</td>\n      <td>NaN</td>\n      <td>NaN</td>\n      <td>NaN</td>\n      <td>NaN</td>\n      <td>NaN</td>\n      <td>NaN</td>\n      <td>NaN</td>\n      <td>NaN</td>\n      <td>...</td>\n      <td>NaN</td>\n      <td>Sezione di censimento distinta per isolato e v...</td>\n      <td>NaN</td>\n      <td>NaN</td>\n      <td>NaN</td>\n      <td>NaN</td>\n      <td>NaN</td>\n      <td>NaN</td>\n      <td>NaN</td>\n      <td>NaN</td>\n    </tr>\n    <tr>\n      <th>Unnamed: 0</th>\n      <td>NaN</td>\n      <td>NaN</td>\n      <td>NaN</td>\n      <td>NaN</td>\n      <td>NaN</td>\n      <td>NaN</td>\n      <td>NaN</td>\n      <td>NaN</td>\n      <td>NaN</td>\n      <td>NaN</td>\n      <td>...</td>\n      <td>10.0</td>\n      <td>11.0</td>\n      <td>12.0</td>\n      <td>13.0</td>\n      <td>14.0</td>\n      <td>15.0</td>\n      <td>16.0</td>\n      <td>17.0</td>\n      <td>18.0</td>\n      <td>19.0</td>\n    </tr>\n  </tbody>\n</table>\n<p>246 rows × 80 columns</p>\n</div>"
     },
     "execution_count": 4,
     "metadata": {},
     "output_type": "execute_result"
    }
   ],
   "source": [
    "import pandas as pd\n",
    "\n",
    "data_list = []\n",
    "for file in file_list:\n",
    "    df = pd.read_csv(file)\n",
    "    data_list.append(df)\n",
    "\n",
    "df_final = pd.concat(data_list)\n",
    "df_final.to_csv(data_folder.joinpath('compare_1991_2001.csv'))\n",
    "df_final.transpose()"
   ],
   "metadata": {
    "collapsed": false
   }
  }
 ],
 "metadata": {
  "kernelspec": {
   "display_name": "Python 3",
   "language": "python",
   "name": "python3"
  },
  "language_info": {
   "codemirror_mode": {
    "name": "ipython",
    "version": 2
   },
   "file_extension": ".py",
   "mimetype": "text/x-python",
   "name": "python",
   "nbconvert_exporter": "python",
   "pygments_lexer": "ipython2",
   "version": "2.7.6"
  }
 },
 "nbformat": 4,
 "nbformat_minor": 0
}
