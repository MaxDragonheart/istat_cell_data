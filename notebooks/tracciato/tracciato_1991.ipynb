{
 "cells": [
  {
   "cell_type": "code",
   "execution_count": 14,
   "metadata": {
    "collapsed": true
   },
   "outputs": [
    {
     "data": {
      "text/plain": "PosixPath('/home/max/Desktop/census_istat/output/census_2001/data')"
     },
     "execution_count": 14,
     "metadata": {},
     "output_type": "execute_result"
    }
   ],
   "source": [
    "from pathlib import Path\n",
    "\n",
    "import pandas as pd\n",
    "\n",
    "data_path = Path('/home/max/Desktop/census_istat/output/census_2001/data')\n",
    "data_path"
   ]
  },
  {
   "cell_type": "code",
   "execution_count": 15,
   "outputs": [
    {
     "data": {
      "text/plain": "[PosixPath('/home/max/Desktop/census_istat/output/census_2001/data/dati-cpa_2001\\\\R03_DatiCPA_2001.xls'),\n PosixPath('/home/max/Desktop/census_istat/output/census_2001/data/dati-cpa_2001\\\\R08_DatiCPA_2001.xls'),\n PosixPath('/home/max/Desktop/census_istat/output/census_2001/data/dati-cpa_2001\\\\R17_DatiCPA_2001.xls'),\n PosixPath('/home/max/Desktop/census_istat/output/census_2001/data/dati-cpa_2001\\\\R18_DatiCPA_2001.xls'),\n PosixPath('/home/max/Desktop/census_istat/output/census_2001/data/dati-cpa_2001\\\\R10_DatiCPA_2001.xls'),\n PosixPath('/home/max/Desktop/census_istat/output/census_2001/data/dati-cpa_2001\\\\R15_DatiCPA_2001.xls'),\n PosixPath('/home/max/Desktop/census_istat/output/census_2001/data/dati-cpa_2001\\\\R13_DatiCPA_2001.xls'),\n PosixPath('/home/max/Desktop/census_istat/output/census_2001/data/dati-cpa_2001\\\\R12_DatiCPA_2001.xls'),\n PosixPath('/home/max/Desktop/census_istat/output/census_2001/data/dati-cpa_2001\\\\R16_DatiCPA_2001.xls'),\n PosixPath('/home/max/Desktop/census_istat/output/census_2001/data/dati-cpa_2001\\\\R06_DatiCPA_2001.xls'),\n PosixPath('/home/max/Desktop/census_istat/output/census_2001/data/dati-cpa_2001\\\\R05_DatiCPA_2001.xls'),\n PosixPath('/home/max/Desktop/census_istat/output/census_2001/data/dati-cpa_2001\\\\R14_DatiCPA_2001.xls'),\n PosixPath('/home/max/Desktop/census_istat/output/census_2001/data/dati-cpa_2001\\\\R07_DatiCPA_2001.xls'),\n PosixPath('/home/max/Desktop/census_istat/output/census_2001/data/dati-cpa_2001\\\\R11_DatiCPA_2001.xls'),\n PosixPath('/home/max/Desktop/census_istat/output/census_2001/data/dati-cpa_2001\\\\R02_DatiCPA_2001.xls'),\n PosixPath('/home/max/Desktop/census_istat/output/census_2001/data/dati-cpa_2001\\\\R09_DatiCPA_2001.xls'),\n PosixPath('/home/max/Desktop/census_istat/output/census_2001/data/dati-cpa_2001\\\\R04_DatiCPA_2001.xls'),\n PosixPath('/home/max/Desktop/census_istat/output/census_2001/data/dati-cpa_2001\\\\R20_DatiCPA_2001.xls'),\n PosixPath('/home/max/Desktop/census_istat/output/census_2001/data/dati-cpa_2001\\\\R19_DatiCPA_2001.xls'),\n PosixPath('/home/max/Desktop/census_istat/output/census_2001/data/dati-cpa_2001\\\\R01_DatiCPA_2001.xls')]"
     },
     "execution_count": 15,
     "metadata": {},
     "output_type": "execute_result"
    }
   ],
   "source": [
    "census = list(data_path.rglob(\"*.xls\"))\n",
    "census"
   ],
   "metadata": {
    "collapsed": false
   }
  },
  {
   "cell_type": "code",
   "execution_count": 16,
   "outputs": [
    {
     "data": {
      "text/plain": "Sheet  1:<Metadati>"
     },
     "execution_count": 16,
     "metadata": {},
     "output_type": "execute_result"
    }
   ],
   "source": [
    "import xlrd\n",
    "\n",
    "region = census[0]\n",
    "\n",
    "read_data = xlrd.open_workbook(region)\n",
    "get_sheet = read_data.sheet_by_name('Metadati')\n",
    "get_sheet"
   ],
   "metadata": {
    "collapsed": false
   }
  },
  {
   "cell_type": "code",
   "execution_count": 24,
   "outputs": [
    {
     "data": {
      "text/plain": "[['NOME CAMPO', 'DEFINIZIONE'],\n ['COD_PRO', 'Codice numerico della Provincia'],\n ['COD_COM', 'Codice numerico del Comune'],\n ['PRO_COM',\n  \"Codice numerico che identifica univocamente il 'comune' nell’ambito del territorio nazionale. Il valore è ottenuto dalla concatenazione del codice provinciale e comunale\"],\n ['SEZ2001',\n  'Codice che identifica univocamente la sezione di censimento 2001 nell’ambito del territorio nazionale. Il valore è ottenuto dalla concatenazione del PRO_COM con il campo SEZIONE'],\n ['SEZIONE',\n  'Codice che identifica univocamente la sezione di censimento 2011 nell’ambito di ciascun comune.'],\n ['P1', 'Popolazione residente - TOTALE'],\n ['P2', 'Popolazione residente - Maschi'],\n ['P3', 'Popolazione residente - Femmine'],\n ['P4', 'Popolazione residente - Celibi/nubili'],\n ['P5', 'Popolazione residente - Coniugati/e'],\n ['P6', 'Popolazione residente - Separati/e legalmente'],\n ['P7', 'Popolazione residente - Vedovi/e'],\n ['P8', 'Popolazione residente - Divorziati/e'],\n ['P9', 'Popolazione residente - Maschi celibi'],\n ['P10', 'Popolazione residente - Maschi coniugati o separati di fatto'],\n ['P11', 'Popolazione residente - Maschi separati legalmente'],\n ['P12', 'Popolazione residente - Maschi vedovi'],\n ['P13', 'Popolazione residente - Maschi divorziati'],\n ['P14', 'Popolazione residente - età < 5 anni'],\n ['P15', 'Popolazione residente - età 5 - 9 anni'],\n ['P16', 'Popolazione residente - età 10 - 14 anni'],\n ['P17', 'Popolazione residente - età 15 - 19 anni'],\n ['P18', 'Popolazione residente - età 20 - 24 anni'],\n ['P19', 'Popolazione residente - età 25 - 29 anni'],\n ['P20', 'Popolazione residente - età 30 - 34 anni'],\n ['P21', 'Popolazione residente - età 35 - 39 anni'],\n ['P22', 'Popolazione residente - età 40 - 44 anni'],\n ['P23', 'Popolazione residente - età 45 - 49 anni'],\n ['P24', 'Popolazione residente - età 50 - 54 anni'],\n ['P25', 'Popolazione residente - età 55 - 59 anni'],\n ['P26', 'Popolazione residente - età 60 - 64 anni'],\n ['P27', 'Popolazione residente - età 65 - 69 anni'],\n ['P28', 'Popolazione residente - età 70 - 74 anni'],\n ['P29', 'Popolazione residente - età > 74 anni'],\n ['P30', 'Popolazione residente - Maschi - età < 5 anni'],\n ['P31', 'Popolazione residente - Maschi - età 5 - 9 anni'],\n ['P32', 'Popolazione residente - Maschi - età 10 - 14 anni'],\n ['P33', 'Popolazione residente - Maschi - età 15 - 19 anni'],\n ['P34', 'Popolazione residente - Maschi - età 20 - 24 anni'],\n ['P35', 'Popolazione residente - Maschi - età 25 - 29 anni'],\n ['P36', 'Popolazione residente - Maschi - età 30 - 34 anni'],\n ['P37', 'Popolazione residente - Maschi - età 35 - 39 anni'],\n ['P38', 'Popolazione residente - Maschi - età 40 - 44 anni'],\n ['P39', 'Popolazione residente - Maschi - età 45 - 49 anni'],\n ['P40', 'Popolazione residente - Maschi - età 50 - 54 anni'],\n ['P41', 'Popolazione residente - Maschi - età 55 - 59 anni'],\n ['P42', 'Popolazione residente - Maschi - età 60 - 64 anni'],\n ['P43', 'Popolazione residente - Maschi - età 65 - 69 anni'],\n ['P44', 'Popolazione residente - Maschi - età 70 - 74 anni'],\n ['P45', 'Popolazione residente - Maschi - età > 74 anni'],\n ['P46', 'Popolazione residente di 6 anni e più -TOTALE'],\n ['P47',\n  'Popolazione residente di 6 anni e più - Laurea o diploma universitario o terziario di tipo non universitario'],\n ['P48',\n  'Popolazione residente di 6 anni e più - Diploma di scuola secondaria superiore'],\n ['P49', 'Popolazione residente di 6 anni e più - Media inferiore'],\n ['P50', 'Popolazione residente di 6 anni e più - Licenza elementare'],\n ['P51', 'Popolazione residente di 6 anni e più - Alfabeti'],\n ['P52', 'Popolazione residente di 6 anni e più - Analfabeti'],\n ['P53', 'Popolazione residente di 6 anni e più - Maschi - TOTALE'],\n ['P54',\n  'Popolazione residente di 6 anni e più - Maschi - Laurea o diploma universitario o terziario di tipo non universitario'],\n ['P55',\n  'Popolazione residente di 6 anni e più - Maschi - Diploma di scuola secondaria superiore'],\n ['P56', 'Popolazione residente di 6 anni e più - Maschi - Media inferiore'],\n ['P57',\n  'Popolazione residente di 6 anni e più - Maschi - Licenza elementare'],\n ['P58', 'Popolazione residente di 6 anni e più - Maschi - Alfabeti'],\n ['P59', 'Popolazione residente di 6 anni e più - Maschi - Analfabeti'],\n ['P60', 'Forze lavoro - TOTALE'],\n ['P61', 'Forze lavoro - Occupati'],\n ['P62', 'Forze lavoro - Disoccupati e altre persone in cerca di occupazione'],\n ['P64', 'Forze lavoro - Maschi'],\n ['P65', 'Forze lavoro - Maschi - Occupati'],\n ['P66',\n  'Forze lavoro - Maschi - Disoccupati e altre persone in cerca di occupazione'],\n ['P68', 'Occupati per sez A,B - Agricoltura Totale'],\n ['P69', 'Occupati per sez C,E - Industria (Estrazione, Produzione energia)'],\n ['P70', 'Occupati per sez D - Industria (Manifatturiere)'],\n ['P71', 'Occupati per sez F - Industria (Costruzioni)'],\n ['P72', 'Occupati - Industria Totale'],\n ['P73',\n  'Occupati per sez G,H - Altre attività (Commercio/riparazioni, Alberghi/ristoranti)'],\n ['P74', 'Occupati per sez I - Altre attività (Trasporti/comunicazioni)'],\n ['P75', 'Occupati per sez J - Altre attività (Intermediazione)'],\n ['P76',\n  'Occupati per sez K - Altre attività (Immobiliari, professionali, imprenditoriali)'],\n ['P77',\n  'Occupati per sez L - Altre attività (Pubblica Amm., difesa, assicur. sociale)'],\n ['P78', 'Occupati per sez M - Altre attività (Istruzione)'],\n ['P79', 'Occupati per sez N - Altre Attività (Sanità, Servizi sociali)'],\n ['P80',\n  'Occupati per sez O,P,Q - Altre attività (Servizi pubblici/domestici, org. extraterritoriali)'],\n ['P81', 'Occupati per sez - Altre attività Totale'],\n ['P82', 'Occupati - Maschi -per sez A,B - Agricoltura totale'],\n ['P83',\n  'Occupati - Maschi -per sez C,E - Industria (Estrazione, Produzione energia)'],\n ['P84', 'Occupati - Maschi -per sez D - Industria (Manifatturiere)'],\n ['P85', 'Occupati - Maschi -per sez F - Industria (Costruzioni)'],\n ['P86', 'Occupati - Maschi -- Industria totale'],\n ['P87',\n  'Occupati - Maschi -per sez G,H - Altre attività (Commercio/riparazioni, Alberghi/ristoranti)'],\n ['P88',\n  'Occupati - Maschi -per sez I - Altre attività (Trasporti/comunicazioni)'],\n ['P89', 'Occupati - Maschi -per sez J - Altre attività (Intermediazione)'],\n ['P90',\n  'Occupati - Maschi -per sez K - Altre attività (Immobiliari, professionali, imprenditoriali)'],\n ['P91',\n  'Occupati - Maschi -per sez L - Altre attività (Pubblica Amm., difesa, assicur. sociale)'],\n ['P92', 'Occupati - Maschi -per sez M - Altre attività (Istruzione)'],\n ['P93',\n  'Occupati - Maschi -per sez N - Altre Attività (Sanità, Servizi sociali)'],\n ['P94',\n  'Occupati - Maschi -per sez O,P,Q - Altre attività (Servizi pubblici/domestici, org. extraterritoriali)'],\n ['P95', 'Occupati - Maschi -- Altre attività Totale'],\n ['P96', 'Occupati - Imprenditori e liberi professionisti'],\n ['P97', 'Occupati - Lavoratori in proprio'],\n ['P98', 'Occupati - Coadiuvanti'],\n ['P99', 'Occupati - Lavoratori dipendenti'],\n ['P100', 'Occupati - Imprenditori e liberi professionisti in Agricoltura'],\n ['P101', 'Occupati - Lavoratori in proprio in Agricoltura'],\n ['P102', 'Occupati - Coadiuvanti in Agricoltura'],\n ['P103', 'Occupati - Lavoratori dipendenti in Agricoltura'],\n ['P104', 'Occupati - Imprenditori e liberi professionisti in Industria'],\n ['P105', 'Occupati - Lavoratori in proprio in Industria'],\n ['P106', 'Occupati - Coadiuvanti in Industria'],\n ['P107', 'Occupati - Lavoratori dipendenti in Industria'],\n ['P108', 'Occupati - Imprenditori e liberi professionisti in Altre attività'],\n ['P109', 'Occupati - Lavoratori in proprio in Altre attività'],\n ['P110', 'Occupati - Coadiuvanti in Altre attività'],\n ['P111', 'Occupati - Lavoratori dipendenti in Altre attività'],\n ['P112', 'Occupati - Maschi - Imprenditori e liberi professionisti'],\n ['P113', 'Occupati - Maschi - Lavoratori in proprio'],\n ['P114', 'Occupati - Maschi - Coadiuvanti'],\n ['P115', 'Occupati - Maschi - Lavoratori dipendenti'],\n ['P116',\n  'Occupati - Maschi - Imprendenditori e liberi professionisti in Agricoltura'],\n ['P117', 'Occupati - Maschi - Lavoratori in proprio in Agricoltura'],\n ['P118', 'Occupati - Maschi - Coadiuvanti in Agricoltura'],\n ['P119', 'Occupati - Maschi - Lavoratori dipendenti in Agricoltura'],\n ['P120',\n  'Occupati - Maschi - Imprenditori e liberi professionisti in Industria'],\n ['P121', 'Occupati - Maschi - Lavoratori in proprio in Industria'],\n ['P122', 'Occupati - Maschi - Coadiuvanti in Industria'],\n ['P123', 'Occupati - Maschi - Lavoratori dipendenti in Industria'],\n ['P124',\n  'Occupati - Maschi - Imprenditori e liberi professionisti in Altre attività'],\n ['P125', 'Occupati - Maschi - Lavoratori in proprio in Altre attività'],\n ['P126', 'Occupati - Maschi - Coadiuvanti in Altre attività'],\n ['P127', 'Occupati -Maschi - Lavoratori dipendenti in Altre attività'],\n ['P128', 'Non appartenente alle forze lavoro - TOTALE'],\n ['P129', 'Non appartenente alle forze lavoro - Maschi'],\n ['P130', 'Non forze lavoro - casalinghi/e'],\n ['P131', 'Non forze lavoro - studenti'],\n ['P132', 'Non forze lavoro - Maschi - Studenti'],\n ['P133', 'Non forze lavoro - Ritirati dal lavoro'],\n ['P134', 'Non forze lavoro - Maschi - Ritirati dal lavoro'],\n ['P135', 'Non forze lavoro - Altra condizione'],\n ['P136', 'Non forze lavoro - Maschi - Altra condizione'],\n ['P137',\n  'Popolazione residente che si sposta giornalmente nel comune di dimora abituale'],\n ['P138',\n  'Popolazione residente che si sposta giornalmente fuori del comune di dimora abituale'],\n ['A1', 'Abitazioni totali'],\n ['A2', 'Abitazioni occupate da persone residenti'],\n ['A3', 'Abitazioni occupate solo da persone non residenti'],\n ['A4', 'Abitazioni vuote'],\n ['A5', 'Altri tipi di alloggio-TOTALE'],\n ['A6', 'Stanze in totale'],\n ['A7', 'Stanze in abitazioni occupate da persone residenti'],\n ['A9', 'Abitazioni occupate da persone residenti in proprietà'],\n ['A10', 'Abitazioni occupate da persone residenti in affitto'],\n ['A11', 'Abitazioni occupate da persone residenti ad altro titolo'],\n ['A12', 'Abitazioni occupate da persone residenti con una stanza'],\n ['A13', 'Abitazioni occupate da persone residenti con 2 stanze'],\n ['A14', 'Abitazioni occupate da persone residenti con 3 stanze'],\n ['A15', 'Abitazioni occupate da persone residenti con 4 stanze'],\n ['A16', 'Abitazioni occupate da persone residenti con 5 stanze'],\n ['A17', 'Abitazioni occupate da persone residenti con 6 o più stanze'],\n ['A18', 'Abitazioni totali fornite acqua potabile'],\n ['A19', 'Abitazioni totali fornite di gabinetto'],\n ['A20', 'Abitazioni totali fornite di vasca da bagno e/o doccia'],\n ['A21',\n  'Abitazioni occupate da persone residenti fornite di una linea telefonica fissa attiva'],\n ['A22', 'Abitazioni totali senza acqua potabile e gabinetto'],\n ['A23', 'Superficie delle abitazioni totali'],\n ['A24',\n  'Abitazioni occupate da persone residenti fornite di impianto di riscaldamento - TOTALE'],\n ['A25',\n  'Abitazioni totali fornite di impianto di riscaldamento centralizzato'],\n ['A44', 'Superficie delle abitazioni occupate da persone residenti'],\n ['E1', 'Edifici e complessi di edifici - Totale'],\n ['E2', 'Edifici e complessi di edifici utilizzati'],\n ['E3', 'Edifici ad uso abitativo'],\n ['E4',\n  'Edifici e complessi di edifici (utilizzati) per alberghi, uffici, commercio e industria, comunicazioni e trasporti'],\n ['E6', 'Edifici ad uso abitativo in muratura portante'],\n ['E7', 'Edifici ad uso abitativo in calcestruzzo armato'],\n ['E9', 'Edifici ad uso abitativo costruiti prima del 1919'],\n ['E10', 'Edifici ad uso abitativo costruiti tra il 1919 e il 1945'],\n ['E11', 'Edifici ad uso abitativo costruiti tra il 1946 e il 1961'],\n ['E12', 'Edifici ad uso abitativo costruiti tra il 1962 e il 1971'],\n ['E13', 'Edifici ad uso abitativo costruiti tra il 1972 e il 1981'],\n ['E14', 'Edifici ad uso abitativo costruiti tra il 1982 e il 1991'],\n ['E15', 'Edifici ad uso abitativo costruiti dopo il 1991'],\n ['E16', 'Edifici ad uso abitativo con un piano'],\n ['E17', 'Edifici ad uso abitativo con 2 piani'],\n ['E18', 'Edifici ad uso abitativo con 3 piani'],\n ['E19', 'Edifici ad uso abitativo con 4 piani o più'],\n ['E20', 'Edifici ad uso abitativo con un interno'],\n ['E21', 'Edifici ad uso abitativo con 2 interni'],\n ['E22', 'Edifici ad uso abitativo da 3 a 10 interni'],\n ['E23', 'Edifici ad uso abitativo con più di dieci interni'],\n ['E24', 'Totale interni in edifici ad uso abitativo'],\n ['PF1', 'Famiglie totale'],\n ['PF2', 'Totale componenti delle famiglie'],\n ['PF3', 'Famiglie 1 componente'],\n ['PF4', 'Famiglie 2 componenti'],\n ['PF5', 'Famiglie 3 componenti'],\n ['PF6', 'Famiglie 4 componenti'],\n ['PF7', 'Famiglie 5 componenti'],\n ['PF8', 'Famiglie 6 e oltre componenti'],\n ['PF9', 'Componenti delle famiglie residenti di 6 e oltre componenti'],\n ['ST01', 'Stranieri residenti in Italia - Europa'],\n ['ST02', 'Stranieri residenti in Italia - Africa'],\n ['ST03', 'Stranieri residenti in Italia - America'],\n ['ST04', 'Stranieri in Italia - Asia'],\n ['ST05', 'Stranieri in Italia - Oceania'],\n ['ST06', 'Apolidi residenti in Italia'],\n ['ST07', 'Stranieri residenti in Italia - Totale']]"
     },
     "execution_count": 24,
     "metadata": {},
     "output_type": "execute_result"
    }
   ],
   "source": [
    "dataset = []\n",
    "for row_id in range(get_sheet.nrows):\n",
    "    dataset.append(get_sheet.row_values(row_id)[:2])\n",
    "\n",
    "dataset = dataset[7:]\n",
    "dataset"
   ],
   "metadata": {
    "collapsed": false
   }
  },
  {
   "cell_type": "code",
   "execution_count": 27,
   "outputs": [
    {
     "data": {
      "text/plain": "['NOME CAMPO', 'DEFINIZIONE']"
     },
     "execution_count": 27,
     "metadata": {},
     "output_type": "execute_result"
    }
   ],
   "source": [
    "# Make DataFrame columns\n",
    "df_columns = [column_name for column_name in dataset[0]]\n",
    "df_columns"
   ],
   "metadata": {
    "collapsed": false
   }
  },
  {
   "cell_type": "code",
   "execution_count": 26,
   "outputs": [
    {
     "data": {
      "text/plain": "[['COD_PRO', 'Codice numerico della Provincia'],\n ['COD_COM', 'Codice numerico del Comune'],\n ['PRO_COM',\n  \"Codice numerico che identifica univocamente il 'comune' nell’ambito del territorio nazionale. Il valore è ottenuto dalla concatenazione del codice provinciale e comunale\"],\n ['SEZ2001',\n  'Codice che identifica univocamente la sezione di censimento 2001 nell’ambito del territorio nazionale. Il valore è ottenuto dalla concatenazione del PRO_COM con il campo SEZIONE'],\n ['SEZIONE',\n  'Codice che identifica univocamente la sezione di censimento 2011 nell’ambito di ciascun comune.'],\n ['P1', 'Popolazione residente - TOTALE'],\n ['P2', 'Popolazione residente - Maschi'],\n ['P3', 'Popolazione residente - Femmine'],\n ['P4', 'Popolazione residente - Celibi/nubili'],\n ['P5', 'Popolazione residente - Coniugati/e'],\n ['P6', 'Popolazione residente - Separati/e legalmente'],\n ['P7', 'Popolazione residente - Vedovi/e'],\n ['P8', 'Popolazione residente - Divorziati/e'],\n ['P9', 'Popolazione residente - Maschi celibi'],\n ['P10', 'Popolazione residente - Maschi coniugati o separati di fatto'],\n ['P11', 'Popolazione residente - Maschi separati legalmente'],\n ['P12', 'Popolazione residente - Maschi vedovi'],\n ['P13', 'Popolazione residente - Maschi divorziati'],\n ['P14', 'Popolazione residente - età < 5 anni'],\n ['P15', 'Popolazione residente - età 5 - 9 anni'],\n ['P16', 'Popolazione residente - età 10 - 14 anni'],\n ['P17', 'Popolazione residente - età 15 - 19 anni'],\n ['P18', 'Popolazione residente - età 20 - 24 anni'],\n ['P19', 'Popolazione residente - età 25 - 29 anni'],\n ['P20', 'Popolazione residente - età 30 - 34 anni'],\n ['P21', 'Popolazione residente - età 35 - 39 anni'],\n ['P22', 'Popolazione residente - età 40 - 44 anni'],\n ['P23', 'Popolazione residente - età 45 - 49 anni'],\n ['P24', 'Popolazione residente - età 50 - 54 anni'],\n ['P25', 'Popolazione residente - età 55 - 59 anni'],\n ['P26', 'Popolazione residente - età 60 - 64 anni'],\n ['P27', 'Popolazione residente - età 65 - 69 anni'],\n ['P28', 'Popolazione residente - età 70 - 74 anni'],\n ['P29', 'Popolazione residente - età > 74 anni'],\n ['P30', 'Popolazione residente - Maschi - età < 5 anni'],\n ['P31', 'Popolazione residente - Maschi - età 5 - 9 anni'],\n ['P32', 'Popolazione residente - Maschi - età 10 - 14 anni'],\n ['P33', 'Popolazione residente - Maschi - età 15 - 19 anni'],\n ['P34', 'Popolazione residente - Maschi - età 20 - 24 anni'],\n ['P35', 'Popolazione residente - Maschi - età 25 - 29 anni'],\n ['P36', 'Popolazione residente - Maschi - età 30 - 34 anni'],\n ['P37', 'Popolazione residente - Maschi - età 35 - 39 anni'],\n ['P38', 'Popolazione residente - Maschi - età 40 - 44 anni'],\n ['P39', 'Popolazione residente - Maschi - età 45 - 49 anni'],\n ['P40', 'Popolazione residente - Maschi - età 50 - 54 anni'],\n ['P41', 'Popolazione residente - Maschi - età 55 - 59 anni'],\n ['P42', 'Popolazione residente - Maschi - età 60 - 64 anni'],\n ['P43', 'Popolazione residente - Maschi - età 65 - 69 anni'],\n ['P44', 'Popolazione residente - Maschi - età 70 - 74 anni'],\n ['P45', 'Popolazione residente - Maschi - età > 74 anni'],\n ['P46', 'Popolazione residente di 6 anni e più -TOTALE'],\n ['P47',\n  'Popolazione residente di 6 anni e più - Laurea o diploma universitario o terziario di tipo non universitario'],\n ['P48',\n  'Popolazione residente di 6 anni e più - Diploma di scuola secondaria superiore'],\n ['P49', 'Popolazione residente di 6 anni e più - Media inferiore'],\n ['P50', 'Popolazione residente di 6 anni e più - Licenza elementare'],\n ['P51', 'Popolazione residente di 6 anni e più - Alfabeti'],\n ['P52', 'Popolazione residente di 6 anni e più - Analfabeti'],\n ['P53', 'Popolazione residente di 6 anni e più - Maschi - TOTALE'],\n ['P54',\n  'Popolazione residente di 6 anni e più - Maschi - Laurea o diploma universitario o terziario di tipo non universitario'],\n ['P55',\n  'Popolazione residente di 6 anni e più - Maschi - Diploma di scuola secondaria superiore'],\n ['P56', 'Popolazione residente di 6 anni e più - Maschi - Media inferiore'],\n ['P57',\n  'Popolazione residente di 6 anni e più - Maschi - Licenza elementare'],\n ['P58', 'Popolazione residente di 6 anni e più - Maschi - Alfabeti'],\n ['P59', 'Popolazione residente di 6 anni e più - Maschi - Analfabeti'],\n ['P60', 'Forze lavoro - TOTALE'],\n ['P61', 'Forze lavoro - Occupati'],\n ['P62', 'Forze lavoro - Disoccupati e altre persone in cerca di occupazione'],\n ['P64', 'Forze lavoro - Maschi'],\n ['P65', 'Forze lavoro - Maschi - Occupati'],\n ['P66',\n  'Forze lavoro - Maschi - Disoccupati e altre persone in cerca di occupazione'],\n ['P68', 'Occupati per sez A,B - Agricoltura Totale'],\n ['P69', 'Occupati per sez C,E - Industria (Estrazione, Produzione energia)'],\n ['P70', 'Occupati per sez D - Industria (Manifatturiere)'],\n ['P71', 'Occupati per sez F - Industria (Costruzioni)'],\n ['P72', 'Occupati - Industria Totale'],\n ['P73',\n  'Occupati per sez G,H - Altre attività (Commercio/riparazioni, Alberghi/ristoranti)'],\n ['P74', 'Occupati per sez I - Altre attività (Trasporti/comunicazioni)'],\n ['P75', 'Occupati per sez J - Altre attività (Intermediazione)'],\n ['P76',\n  'Occupati per sez K - Altre attività (Immobiliari, professionali, imprenditoriali)'],\n ['P77',\n  'Occupati per sez L - Altre attività (Pubblica Amm., difesa, assicur. sociale)'],\n ['P78', 'Occupati per sez M - Altre attività (Istruzione)'],\n ['P79', 'Occupati per sez N - Altre Attività (Sanità, Servizi sociali)'],\n ['P80',\n  'Occupati per sez O,P,Q - Altre attività (Servizi pubblici/domestici, org. extraterritoriali)'],\n ['P81', 'Occupati per sez - Altre attività Totale'],\n ['P82', 'Occupati - Maschi -per sez A,B - Agricoltura totale'],\n ['P83',\n  'Occupati - Maschi -per sez C,E - Industria (Estrazione, Produzione energia)'],\n ['P84', 'Occupati - Maschi -per sez D - Industria (Manifatturiere)'],\n ['P85', 'Occupati - Maschi -per sez F - Industria (Costruzioni)'],\n ['P86', 'Occupati - Maschi -- Industria totale'],\n ['P87',\n  'Occupati - Maschi -per sez G,H - Altre attività (Commercio/riparazioni, Alberghi/ristoranti)'],\n ['P88',\n  'Occupati - Maschi -per sez I - Altre attività (Trasporti/comunicazioni)'],\n ['P89', 'Occupati - Maschi -per sez J - Altre attività (Intermediazione)'],\n ['P90',\n  'Occupati - Maschi -per sez K - Altre attività (Immobiliari, professionali, imprenditoriali)'],\n ['P91',\n  'Occupati - Maschi -per sez L - Altre attività (Pubblica Amm., difesa, assicur. sociale)'],\n ['P92', 'Occupati - Maschi -per sez M - Altre attività (Istruzione)'],\n ['P93',\n  'Occupati - Maschi -per sez N - Altre Attività (Sanità, Servizi sociali)'],\n ['P94',\n  'Occupati - Maschi -per sez O,P,Q - Altre attività (Servizi pubblici/domestici, org. extraterritoriali)'],\n ['P95', 'Occupati - Maschi -- Altre attività Totale'],\n ['P96', 'Occupati - Imprenditori e liberi professionisti'],\n ['P97', 'Occupati - Lavoratori in proprio'],\n ['P98', 'Occupati - Coadiuvanti'],\n ['P99', 'Occupati - Lavoratori dipendenti'],\n ['P100', 'Occupati - Imprenditori e liberi professionisti in Agricoltura'],\n ['P101', 'Occupati - Lavoratori in proprio in Agricoltura'],\n ['P102', 'Occupati - Coadiuvanti in Agricoltura'],\n ['P103', 'Occupati - Lavoratori dipendenti in Agricoltura'],\n ['P104', 'Occupati - Imprenditori e liberi professionisti in Industria'],\n ['P105', 'Occupati - Lavoratori in proprio in Industria'],\n ['P106', 'Occupati - Coadiuvanti in Industria'],\n ['P107', 'Occupati - Lavoratori dipendenti in Industria'],\n ['P108', 'Occupati - Imprenditori e liberi professionisti in Altre attività'],\n ['P109', 'Occupati - Lavoratori in proprio in Altre attività'],\n ['P110', 'Occupati - Coadiuvanti in Altre attività'],\n ['P111', 'Occupati - Lavoratori dipendenti in Altre attività'],\n ['P112', 'Occupati - Maschi - Imprenditori e liberi professionisti'],\n ['P113', 'Occupati - Maschi - Lavoratori in proprio'],\n ['P114', 'Occupati - Maschi - Coadiuvanti'],\n ['P115', 'Occupati - Maschi - Lavoratori dipendenti'],\n ['P116',\n  'Occupati - Maschi - Imprendenditori e liberi professionisti in Agricoltura'],\n ['P117', 'Occupati - Maschi - Lavoratori in proprio in Agricoltura'],\n ['P118', 'Occupati - Maschi - Coadiuvanti in Agricoltura'],\n ['P119', 'Occupati - Maschi - Lavoratori dipendenti in Agricoltura'],\n ['P120',\n  'Occupati - Maschi - Imprenditori e liberi professionisti in Industria'],\n ['P121', 'Occupati - Maschi - Lavoratori in proprio in Industria'],\n ['P122', 'Occupati - Maschi - Coadiuvanti in Industria'],\n ['P123', 'Occupati - Maschi - Lavoratori dipendenti in Industria'],\n ['P124',\n  'Occupati - Maschi - Imprenditori e liberi professionisti in Altre attività'],\n ['P125', 'Occupati - Maschi - Lavoratori in proprio in Altre attività'],\n ['P126', 'Occupati - Maschi - Coadiuvanti in Altre attività'],\n ['P127', 'Occupati -Maschi - Lavoratori dipendenti in Altre attività'],\n ['P128', 'Non appartenente alle forze lavoro - TOTALE'],\n ['P129', 'Non appartenente alle forze lavoro - Maschi'],\n ['P130', 'Non forze lavoro - casalinghi/e'],\n ['P131', 'Non forze lavoro - studenti'],\n ['P132', 'Non forze lavoro - Maschi - Studenti'],\n ['P133', 'Non forze lavoro - Ritirati dal lavoro'],\n ['P134', 'Non forze lavoro - Maschi - Ritirati dal lavoro'],\n ['P135', 'Non forze lavoro - Altra condizione'],\n ['P136', 'Non forze lavoro - Maschi - Altra condizione'],\n ['P137',\n  'Popolazione residente che si sposta giornalmente nel comune di dimora abituale'],\n ['P138',\n  'Popolazione residente che si sposta giornalmente fuori del comune di dimora abituale'],\n ['A1', 'Abitazioni totali'],\n ['A2', 'Abitazioni occupate da persone residenti'],\n ['A3', 'Abitazioni occupate solo da persone non residenti'],\n ['A4', 'Abitazioni vuote'],\n ['A5', 'Altri tipi di alloggio-TOTALE'],\n ['A6', 'Stanze in totale'],\n ['A7', 'Stanze in abitazioni occupate da persone residenti'],\n ['A9', 'Abitazioni occupate da persone residenti in proprietà'],\n ['A10', 'Abitazioni occupate da persone residenti in affitto'],\n ['A11', 'Abitazioni occupate da persone residenti ad altro titolo'],\n ['A12', 'Abitazioni occupate da persone residenti con una stanza'],\n ['A13', 'Abitazioni occupate da persone residenti con 2 stanze'],\n ['A14', 'Abitazioni occupate da persone residenti con 3 stanze'],\n ['A15', 'Abitazioni occupate da persone residenti con 4 stanze'],\n ['A16', 'Abitazioni occupate da persone residenti con 5 stanze'],\n ['A17', 'Abitazioni occupate da persone residenti con 6 o più stanze'],\n ['A18', 'Abitazioni totali fornite acqua potabile'],\n ['A19', 'Abitazioni totali fornite di gabinetto'],\n ['A20', 'Abitazioni totali fornite di vasca da bagno e/o doccia'],\n ['A21',\n  'Abitazioni occupate da persone residenti fornite di una linea telefonica fissa attiva'],\n ['A22', 'Abitazioni totali senza acqua potabile e gabinetto'],\n ['A23', 'Superficie delle abitazioni totali'],\n ['A24',\n  'Abitazioni occupate da persone residenti fornite di impianto di riscaldamento - TOTALE'],\n ['A25',\n  'Abitazioni totali fornite di impianto di riscaldamento centralizzato'],\n ['A44', 'Superficie delle abitazioni occupate da persone residenti'],\n ['E1', 'Edifici e complessi di edifici - Totale'],\n ['E2', 'Edifici e complessi di edifici utilizzati'],\n ['E3', 'Edifici ad uso abitativo'],\n ['E4',\n  'Edifici e complessi di edifici (utilizzati) per alberghi, uffici, commercio e industria, comunicazioni e trasporti'],\n ['E6', 'Edifici ad uso abitativo in muratura portante'],\n ['E7', 'Edifici ad uso abitativo in calcestruzzo armato'],\n ['E9', 'Edifici ad uso abitativo costruiti prima del 1919'],\n ['E10', 'Edifici ad uso abitativo costruiti tra il 1919 e il 1945'],\n ['E11', 'Edifici ad uso abitativo costruiti tra il 1946 e il 1961'],\n ['E12', 'Edifici ad uso abitativo costruiti tra il 1962 e il 1971'],\n ['E13', 'Edifici ad uso abitativo costruiti tra il 1972 e il 1981'],\n ['E14', 'Edifici ad uso abitativo costruiti tra il 1982 e il 1991'],\n ['E15', 'Edifici ad uso abitativo costruiti dopo il 1991'],\n ['E16', 'Edifici ad uso abitativo con un piano'],\n ['E17', 'Edifici ad uso abitativo con 2 piani'],\n ['E18', 'Edifici ad uso abitativo con 3 piani'],\n ['E19', 'Edifici ad uso abitativo con 4 piani o più'],\n ['E20', 'Edifici ad uso abitativo con un interno'],\n ['E21', 'Edifici ad uso abitativo con 2 interni'],\n ['E22', 'Edifici ad uso abitativo da 3 a 10 interni'],\n ['E23', 'Edifici ad uso abitativo con più di dieci interni'],\n ['E24', 'Totale interni in edifici ad uso abitativo'],\n ['PF1', 'Famiglie totale'],\n ['PF2', 'Totale componenti delle famiglie'],\n ['PF3', 'Famiglie 1 componente'],\n ['PF4', 'Famiglie 2 componenti'],\n ['PF5', 'Famiglie 3 componenti'],\n ['PF6', 'Famiglie 4 componenti'],\n ['PF7', 'Famiglie 5 componenti'],\n ['PF8', 'Famiglie 6 e oltre componenti'],\n ['PF9', 'Componenti delle famiglie residenti di 6 e oltre componenti'],\n ['ST01', 'Stranieri residenti in Italia - Europa'],\n ['ST02', 'Stranieri residenti in Italia - Africa'],\n ['ST03', 'Stranieri residenti in Italia - America'],\n ['ST04', 'Stranieri in Italia - Asia'],\n ['ST05', 'Stranieri in Italia - Oceania'],\n ['ST06', 'Apolidi residenti in Italia'],\n ['ST07', 'Stranieri residenti in Italia - Totale']]"
     },
     "execution_count": 26,
     "metadata": {},
     "output_type": "execute_result"
    }
   ],
   "source": [
    "# Make DataFrame data\n",
    "df_data = dataset[1:]\n",
    "df_data"
   ],
   "metadata": {
    "collapsed": false
   }
  },
  {
   "cell_type": "code",
   "execution_count": 31,
   "outputs": [
    {
     "data": {
      "text/plain": "                                                  DEFINIZIONE\nNOME CAMPO                                                   \nCOD_PRO                       Codice numerico della Provincia\nCOD_COM                            Codice numerico del Comune\nPRO_COM     Codice numerico che identifica univocamente il...\nSEZ2001     Codice che identifica univocamente la sezione ...\nSEZIONE     Codice che identifica univocamente la sezione ...\n...                                                       ...\nST03                  Stranieri residenti in Italia - America\nST04                               Stranieri in Italia - Asia\nST05                            Stranieri in Italia - Oceania\nST06                              Apolidi residenti in Italia\nST07                   Stranieri residenti in Italia - Totale\n\n[204 rows x 1 columns]",
      "text/html": "<div>\n<style scoped>\n    .dataframe tbody tr th:only-of-type {\n        vertical-align: middle;\n    }\n\n    .dataframe tbody tr th {\n        vertical-align: top;\n    }\n\n    .dataframe thead th {\n        text-align: right;\n    }\n</style>\n<table border=\"1\" class=\"dataframe\">\n  <thead>\n    <tr style=\"text-align: right;\">\n      <th></th>\n      <th>DEFINIZIONE</th>\n    </tr>\n    <tr>\n      <th>NOME CAMPO</th>\n      <th></th>\n    </tr>\n  </thead>\n  <tbody>\n    <tr>\n      <th>COD_PRO</th>\n      <td>Codice numerico della Provincia</td>\n    </tr>\n    <tr>\n      <th>COD_COM</th>\n      <td>Codice numerico del Comune</td>\n    </tr>\n    <tr>\n      <th>PRO_COM</th>\n      <td>Codice numerico che identifica univocamente il...</td>\n    </tr>\n    <tr>\n      <th>SEZ2001</th>\n      <td>Codice che identifica univocamente la sezione ...</td>\n    </tr>\n    <tr>\n      <th>SEZIONE</th>\n      <td>Codice che identifica univocamente la sezione ...</td>\n    </tr>\n    <tr>\n      <th>...</th>\n      <td>...</td>\n    </tr>\n    <tr>\n      <th>ST03</th>\n      <td>Stranieri residenti in Italia - America</td>\n    </tr>\n    <tr>\n      <th>ST04</th>\n      <td>Stranieri in Italia - Asia</td>\n    </tr>\n    <tr>\n      <th>ST05</th>\n      <td>Stranieri in Italia - Oceania</td>\n    </tr>\n    <tr>\n      <th>ST06</th>\n      <td>Apolidi residenti in Italia</td>\n    </tr>\n    <tr>\n      <th>ST07</th>\n      <td>Stranieri residenti in Italia - Totale</td>\n    </tr>\n  </tbody>\n</table>\n<p>204 rows × 1 columns</p>\n</div>"
     },
     "execution_count": 31,
     "metadata": {},
     "output_type": "execute_result"
    }
   ],
   "source": [
    "df = pd.DataFrame(data=df_data, columns=df_columns)\n",
    "df.set_index('NOME CAMPO', inplace=True)\n",
    "df.to_csv(data_path.joinpath('tracciato.csv'))\n",
    "df"
   ],
   "metadata": {
    "collapsed": false
   }
  }
 ],
 "metadata": {
  "kernelspec": {
   "display_name": "Python 3",
   "language": "python",
   "name": "python3"
  },
  "language_info": {
   "codemirror_mode": {
    "name": "ipython",
    "version": 2
   },
   "file_extension": ".py",
   "mimetype": "text/x-python",
   "name": "python",
   "nbconvert_exporter": "python",
   "pygments_lexer": "ipython2",
   "version": "2.7.6"
  }
 },
 "nbformat": 4,
 "nbformat_minor": 0
}
