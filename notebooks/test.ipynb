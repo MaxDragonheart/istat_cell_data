{
 "cells": [
  {
   "cell_type": "code",
   "execution_count": 1,
   "outputs": [],
   "source": [
    "from census_istat.data.manage_data import read_csv"
   ],
   "metadata": {
    "collapsed": false,
    "ExecuteTime": {
     "start_time": "2023-04-14T09:08:00.054463Z",
     "end_time": "2023-04-14T09:08:00.351965Z"
    }
   }
  },
  {
   "cell_type": "code",
   "execution_count": 2,
   "outputs": [
    {
     "data": {
      "text/plain": "'Lettura di un csv e conversione in DataFrame.\\n\\n    Args:\\n        csv_path: Union[Path, PosixPath]\\n        separator: str\\n\\n    Returns:\\n        DataFrame\\n    '"
     },
     "execution_count": 2,
     "metadata": {},
     "output_type": "execute_result"
    }
   ],
   "source": [
    "read_csv.__doc__"
   ],
   "metadata": {
    "collapsed": false,
    "ExecuteTime": {
     "start_time": "2023-04-14T09:08:00.365141Z",
     "end_time": "2023-04-14T09:08:00.382448Z"
    }
   }
  },
  {
   "cell_type": "code",
   "execution_count": 3,
   "outputs": [
    {
     "name": "stdout",
     "output_type": "stream",
     "text": [
      "Help on function read_csv in module census_istat.data.manage_data:\n",
      "\n",
      "read_csv(csv_path: Union[pathlib.Path, pathlib.PosixPath], separator: str = ';') -> pandas.core.frame.DataFrame\n",
      "    Lettura di un csv e conversione in DataFrame.\n",
      "    \n",
      "    Args:\n",
      "        csv_path: Union[Path, PosixPath]\n",
      "        separator: str\n",
      "    \n",
      "    Returns:\n",
      "        DataFrame\n",
      "\n"
     ]
    }
   ],
   "source": [
    "help(read_csv)"
   ],
   "metadata": {
    "collapsed": false,
    "ExecuteTime": {
     "start_time": "2023-04-14T09:08:00.365998Z",
     "end_time": "2023-04-14T09:08:00.383642Z"
    }
   }
  },
  {
   "cell_type": "code",
   "execution_count": 4,
   "outputs": [
    {
     "name": "stdout",
     "output_type": "stream",
     "text": [
      "Help on function read_xls in module census_istat.data.census_1991_2001:\n",
      "\n",
      "read_xls(file_path: pathlib.Path, census_code: str = 'sez1991', output_path: pathlib.Path = None, metadata: bool = False) -> Union[pandas.core.frame.DataFrame, pathlib.Path]\n",
      "    Lettura dei dati censuari relativi agli anni 1991 e 2011\n",
      "    e costruzione di un DataFrame.\n",
      "    \n",
      "    Args:\n",
      "        file_path: Path\n",
      "        census_code: str\n",
      "        output_path: Path\n",
      "        metadata: bool\n",
      "    \n",
      "    Returns:\n",
      "        Union[DataFrame, Path]\n",
      "\n"
     ]
    }
   ],
   "source": [
    "from census_istat.data.census_1991_2001 import read_xls\n",
    "\n",
    "help(read_xls)"
   ],
   "metadata": {
    "collapsed": false,
    "ExecuteTime": {
     "start_time": "2023-04-14T09:08:00.367540Z",
     "end_time": "2023-04-14T09:08:00.451680Z"
    }
   }
  }
 ],
 "metadata": {
  "kernelspec": {
   "display_name": "Python 3",
   "language": "python",
   "name": "python3"
  },
  "language_info": {
   "codemirror_mode": {
    "name": "ipython",
    "version": 2
   },
   "file_extension": ".py",
   "mimetype": "text/x-python",
   "name": "python",
   "nbconvert_exporter": "python",
   "pygments_lexer": "ipython2",
   "version": "2.7.6"
  }
 },
 "nbformat": 4,
 "nbformat_minor": 0
}
