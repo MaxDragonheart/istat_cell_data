{
 "cells": [
  {
   "cell_type": "code",
   "execution_count": 1,
   "outputs": [],
   "source": [
    "from census_istat.data.manage_data import read_csv"
   ],
   "metadata": {
    "collapsed": false
   }
  },
  {
   "cell_type": "code",
   "execution_count": 3,
   "outputs": [
    {
     "data": {
      "text/plain": "'Read csv using Dask and return a Dask DataFrame.\\n\\n    Args:\\n        csv_path: Union[Path, PosixPath]\\n        separator: str\\n\\n    Returns:\\n        DataFrame\\n    '"
     },
     "execution_count": 3,
     "metadata": {},
     "output_type": "execute_result"
    }
   ],
   "source": [
    "read_csv.__doc__"
   ],
   "metadata": {
    "collapsed": false
   }
  },
  {
   "cell_type": "code",
   "execution_count": 7,
   "outputs": [
    {
     "name": "stdout",
     "output_type": "stream",
     "text": [
      "Help on function read_csv in module census_istat.data.manage_data:\n",
      "\n",
      "read_csv(csv_path: Union[pathlib.Path, pathlib.PosixPath], separator: str = ';') -> pandas.core.frame.DataFrame\n",
      "    Read csv using Dask and return a Dask DataFrame.\n",
      "    \n",
      "    Args:\n",
      "        csv_path: Union[Path, PosixPath]\n",
      "        separator: str\n",
      "    \n",
      "    Returns:\n",
      "        DataFrame\n",
      "\n"
     ]
    }
   ],
   "source": [
    "help(read_csv)"
   ],
   "metadata": {
    "collapsed": false
   }
  },
  {
   "cell_type": "code",
   "execution_count": 8,
   "outputs": [
    {
     "name": "stdout",
     "output_type": "stream",
     "text": [
      "Help on function read_xls in module census_istat.data.census_1991_2001:\n",
      "\n",
      "read_xls(file_path: Union[pathlib.Path, pathlib.PosixPath], census_code: str = 'sez1991', output_path: Union[pathlib.Path, pathlib.PosixPath] = None, metadata: bool = False) -> Union[pandas.core.frame.DataFrame, pathlib.Path, pathlib.PosixPath]\n",
      "    Read census data for years 1991 and 2001 and return\n",
      "    DataFrame or csv.\n",
      "    \n",
      "    Args:\n",
      "        file_path: Union[Path, PosixPath]\n",
      "        census_code: str\n",
      "        output_path: Union[Path, PosixPath]\n",
      "        metadata: bool\n",
      "    \n",
      "    Returns:\n",
      "        Union[DataFrame, Path, PosixPath]\n",
      "\n"
     ]
    }
   ],
   "source": [
    "from census_istat.data.census_1991_2001 import read_xls\n",
    "\n",
    "help(read_xls)"
   ],
   "metadata": {
    "collapsed": false
   }
  }
 ],
 "metadata": {
  "kernelspec": {
   "display_name": "Python 3",
   "language": "python",
   "name": "python3"
  },
  "language_info": {
   "codemirror_mode": {
    "name": "ipython",
    "version": 2
   },
   "file_extension": ".py",
   "mimetype": "text/x-python",
   "name": "python",
   "nbconvert_exporter": "python",
   "pygments_lexer": "ipython2",
   "version": "2.7.6"
  }
 },
 "nbformat": 4,
 "nbformat_minor": 0
}
