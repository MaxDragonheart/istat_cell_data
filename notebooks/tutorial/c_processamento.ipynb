{
 "cells": [
  {
   "cell_type": "markdown",
   "source": [
    "# PROCESSAMENTO finale"
   ],
   "metadata": {
    "collapsed": false
   }
  },
  {
   "cell_type": "markdown",
   "source": [
    "L'installazione di ISTAT Cell Data si effettua con il classico `pip install istatcelldata`. Se si ha la necessità di installare una versione specifica si può fare riferimento [qui](istatcelldata)."
   ],
   "metadata": {
    "collapsed": false
   }
  },
  {
   "cell_type": "markdown",
   "source": [
    "## Import delle librerie"
   ],
   "metadata": {
    "collapsed": false
   }
  },
  {
   "cell_type": "code",
   "source": [
    "from pathlib import Path\n",
    "from istatcelldata.executor.process import finalize_census_data"
   ],
   "metadata": {
    "collapsed": false,
    "ExecuteTime": {
     "end_time": "2024-10-10T16:14:04.751332Z",
     "start_time": "2024-10-10T16:14:04.518460Z"
    }
   },
   "outputs": [],
   "execution_count": 1
  },
  {
   "cell_type": "markdown",
   "source": [
    "## Definizione del path di destinazione dei dati"
   ],
   "metadata": {
    "collapsed": false
   }
  },
  {
   "cell_type": "markdown",
   "source": [
    "Il path di destinazione dei dati è sia il path in cui *devono* essere presenti i dati precedentemente preprocessati, sia il path in cui verranno creti i dati definitivi."
   ],
   "metadata": {
    "collapsed": false
   }
  },
  {
   "cell_type": "code",
   "source": "output_path = Path('/home/max/Desktop/census_tutorial')",
   "metadata": {
    "collapsed": false,
    "ExecuteTime": {
     "end_time": "2024-10-10T16:14:04.757081Z",
     "start_time": "2024-10-10T16:14:04.755109Z"
    }
   },
   "outputs": [],
   "execution_count": 2
  },
  {
   "cell_type": "markdown",
   "source": [
    "## Processamento"
   ],
   "metadata": {
    "collapsed": false
   }
  },
  {
   "cell_type": "markdown",
   "source": [
    "Di default i dati e le analisi intermedie verranno eliminati ma se si pone `delete_process_folder=False` questi verranno mantenuti."
   ],
   "metadata": {
    "collapsed": false
   }
  },
  {
   "cell_type": "code",
   "source": [
    "%%time\n",
    "\n",
    "finalize_census_data(\n",
    "    census_data=output_path,\n",
    "    years=[1991, 2001, 2011, 2021],\n",
    "    delete_preprocessed_data=True\n",
    ")"
   ],
   "metadata": {
    "collapsed": false,
    "ExecuteTime": {
     "end_time": "2024-10-10T16:15:17.221767Z",
     "start_time": "2024-10-10T16:14:04.851175Z"
    }
   },
   "outputs": [
    {
     "name": "stdout",
     "output_type": "stream",
     "text": [
      "INFO | 48799 | 2024-10-10 18:14:04,852 | root | Inizio preprocessing del censimento alle 2024-10-10 18:14:04.852066 per gli anni: [1991, 2001, 2011, 2021]\n",
      "INFO | 48799 | 2024-10-10 18:14:04,852 | root | Inizio finalizzazione dei dati del censimento per l'anno 1991\n",
      "INFO | 48799 | 2024-10-10 18:14:04,853 | root | Caricamento dei dati geografici dal layer 'census1991'\n",
      "INFO | 48799 | 2024-10-10 18:14:04,963 | root | Caricamento dei dati tabellari dal layer 'data1991'\n",
      "INFO | 48799 | 2024-10-10 18:14:21,513 | root | Unione dei dati sui campi 'SEZ1991'\n",
      "INFO | 48799 | 2024-10-10 18:14:21,674 | root | Colonna 'index' rimossa dai dati\n",
      "INFO | 48799 | 2024-10-10 18:14:21,688 | root | Dati ordinati per la colonna 'SEZ1991'\n",
      "INFO | 48799 | 2024-10-10 18:14:21,689 | root | Salvataggio dei dati finali nel file /home/max/Desktop/census_tutorial/census_data.gpkg\n",
      "INFO | 48799 | 2024-10-10 18:14:23,271 | pyogrio._io | Created 20,610 records\n",
      "INFO | 48799 | 2024-10-10 18:14:23,301 | root | Inizio finalizzazione dei dati del censimento per l'anno 2001\n",
      "INFO | 48799 | 2024-10-10 18:14:23,302 | root | Caricamento dei dati geografici dal layer 'census2001'\n",
      "INFO | 48799 | 2024-10-10 18:14:23,440 | root | Caricamento dei dati tabellari dal layer 'data2001'\n",
      "INFO | 48799 | 2024-10-10 18:14:41,800 | root | Unione dei dati sui campi 'SEZ2001'\n",
      "INFO | 48799 | 2024-10-10 18:14:41,898 | root | Colonna 'index' rimossa dai dati\n",
      "INFO | 48799 | 2024-10-10 18:14:41,909 | root | Dati ordinati per la colonna 'SEZ2001'\n",
      "INFO | 48799 | 2024-10-10 18:14:41,920 | root | Salvataggio dei dati finali nel file /home/max/Desktop/census_tutorial/census_data.gpkg\n",
      "INFO | 48799 | 2024-10-10 18:14:43,658 | pyogrio._io | Created 23,315 records\n",
      "INFO | 48799 | 2024-10-10 18:14:43,710 | root | Inizio finalizzazione dei dati del censimento per l'anno 2011\n",
      "INFO | 48799 | 2024-10-10 18:14:43,711 | root | Caricamento dei dati geografici dal layer 'census2011'\n",
      "INFO | 48799 | 2024-10-10 18:14:43,839 | root | Caricamento dei dati tabellari dal layer 'data2011'\n",
      "INFO | 48799 | 2024-10-10 18:14:58,125 | root | Unione dei dati sui campi 'SEZ2011'\n",
      "INFO | 48799 | 2024-10-10 18:14:58,197 | root | Colonna 'index' rimossa dai dati\n",
      "INFO | 48799 | 2024-10-10 18:14:58,206 | root | Dati ordinati per la colonna 'SEZ2011'\n",
      "INFO | 48799 | 2024-10-10 18:14:58,218 | root | Salvataggio dei dati finali nel file /home/max/Desktop/census_tutorial/census_data.gpkg\n",
      "INFO | 48799 | 2024-10-10 18:14:59,602 | pyogrio._io | Created 24,323 records\n",
      "INFO | 48799 | 2024-10-10 18:14:59,677 | root | Inizio finalizzazione dei dati del censimento per l'anno 2021\n",
      "INFO | 48799 | 2024-10-10 18:14:59,679 | root | Caricamento dei dati geografici dal layer 'census2021'\n",
      "INFO | 48799 | 2024-10-10 18:14:59,913 | root | Caricamento dei dati tabellari dal layer 'data2021'\n",
      "INFO | 48799 | 2024-10-10 18:15:14,510 | root | Unione dei dati sui campi 'SEZ2021'\n",
      "INFO | 48799 | 2024-10-10 18:15:14,609 | root | Colonna 'index' rimossa dai dati\n",
      "INFO | 48799 | 2024-10-10 18:15:14,613 | root | Dati ordinati per la colonna 'SEZ2021'\n",
      "INFO | 48799 | 2024-10-10 18:15:14,628 | root | Salvataggio dei dati finali nel file /home/max/Desktop/census_tutorial/census_data.gpkg\n",
      "INFO | 48799 | 2024-10-10 18:15:17,014 | pyogrio._io | Created 49,716 records\n",
      "INFO | 48799 | 2024-10-10 18:15:17,102 | root | Eliminazione del file pre-processato: /home/max/Desktop/census_tutorial/census.gpkg\n",
      "INFO | 48799 | 2024-10-10 18:15:17,155 | root | Preprocessing completato in 0:01:12.303517.\n",
      "CPU times: user 1min 11s, sys: 1.69 s, total: 1min 12s\n",
      "Wall time: 1min 12s\n"
     ]
    }
   ],
   "execution_count": 3
  },
  {
   "cell_type": "markdown",
   "source": [
    "## Conclusione"
   ],
   "metadata": {
    "collapsed": false
   }
  },
  {
   "cell_type": "markdown",
   "source": [
    "Al termine del processo tutti i dati saranno visibili nel path di destinazione."
   ],
   "metadata": {
    "collapsed": false
   }
  }
 ],
 "metadata": {
  "kernelspec": {
   "display_name": "Python 3",
   "language": "python",
   "name": "python3"
  },
  "language_info": {
   "codemirror_mode": {
    "name": "ipython",
    "version": 2
   },
   "file_extension": ".py",
   "mimetype": "text/x-python",
   "name": "python",
   "nbconvert_exporter": "python",
   "pygments_lexer": "ipython2",
   "version": "2.7.6"
  }
 },
 "nbformat": 4,
 "nbformat_minor": 0
}
