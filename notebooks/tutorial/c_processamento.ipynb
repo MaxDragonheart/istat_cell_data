{
 "cells": [
  {
   "cell_type": "markdown",
   "source": [
    "# PROCESSAMENTO finale"
   ],
   "metadata": {
    "collapsed": false
   }
  },
  {
   "cell_type": "markdown",
   "source": [
    "L'installazione di ISTAT Cell Data si effettua con il classico `pip install istatcelldata`. Se si ha la necessità di installare una versione specifica si può fare riferimento [qui](istatcelldata)."
   ],
   "metadata": {
    "collapsed": false
   }
  },
  {
   "cell_type": "markdown",
   "source": [
    "## Import delle librerie"
   ],
   "metadata": {
    "collapsed": false
   }
  },
  {
   "cell_type": "code",
   "source": [
    "from pathlib import Path\n",
    "from istatcelldata.processes import process_data"
   ],
   "metadata": {
    "collapsed": false,
    "ExecuteTime": {
     "end_time": "2024-06-02T18:26:04.860521Z",
     "start_time": "2024-06-02T18:26:04.497925Z"
    }
   },
   "outputs": [],
   "execution_count": 1
  },
  {
   "cell_type": "markdown",
   "source": [
    "## Definizione del path di destinazione dei dati"
   ],
   "metadata": {
    "collapsed": false
   }
  },
  {
   "cell_type": "markdown",
   "source": [
    "Il path di destinazione dei dati è sia il path in cui *devono* essere presenti i dati precedentemente preprocessati, sia il path in cui verranno creti i dati definitivi."
   ],
   "metadata": {
    "collapsed": false
   }
  },
  {
   "cell_type": "code",
   "source": "output_path = Path('/home/max/Desktop/census')",
   "metadata": {
    "collapsed": false,
    "ExecuteTime": {
     "end_time": "2024-06-02T18:26:04.863777Z",
     "start_time": "2024-06-02T18:26:04.861872Z"
    }
   },
   "outputs": [],
   "execution_count": 2
  },
  {
   "cell_type": "markdown",
   "source": [
    "## Processamento"
   ],
   "metadata": {
    "collapsed": false
   }
  },
  {
   "cell_type": "markdown",
   "source": [
    "Di default i dati e le analisi intermedie verranno eliminati ma se si pone `delete_process_folder=False` questi verranno mantenuti."
   ],
   "metadata": {
    "collapsed": false
   }
  },
  {
   "cell_type": "code",
   "source": [
    "%%time\n",
    "\n",
    "process_data(output_data_folder=output_path, only_shared=False, delete_process_folder=False)"
   ],
   "metadata": {
    "collapsed": false,
    "ExecuteTime": {
     "end_time": "2024-06-02T18:57:12.530714Z",
     "start_time": "2024-06-02T18:26:04.864402Z"
    }
   },
   "outputs": [
    {
     "name": "stderr",
     "output_type": "stream",
     "text": [
      "2024-06-02 20:26:04,866 | 7065 - Start analysis at 2024-06-02 20:26:04.866173\n",
      "2024-06-02 20:26:04,866 | 7065 - Process census for 1991\n",
      "2024-06-02 20:26:04,866 | 7065 - Get encoding\n",
      "2024-06-02 20:26:04,899 | 7065 - Read data\n",
      "2024-06-02 20:26:06,838 | 7065 - Read geodata\n",
      "2024-06-02 20:26:08,739 | 7065 - Join all\n",
      "2024-06-02 20:26:09,037 | 7065 - Save data to /home/max/Desktop/census/census_1991.gpkg\n",
      "2024-06-02 20:37:06,992 | 7065 - Process census for 2001\n",
      "2024-06-02 20:37:06,993 | 7065 - Get encoding\n",
      "2024-06-02 20:37:07,023 | 7065 - Read data\n",
      "2024-06-02 20:37:09,027 | 7065 - Read geodata\n",
      "2024-06-02 20:37:11,337 | 7065 - Join all\n",
      "2024-06-02 20:37:11,634 | 7065 - Save data to /home/max/Desktop/census/census_2001.gpkg\n",
      "2024-06-02 20:49:44,795 | 7065 - Process census for 2011\n",
      "2024-06-02 20:49:44,796 | 7065 - Get encoding\n",
      "2024-06-02 20:49:44,868 | 7065 - Read data\n",
      "2024-06-02 20:49:46,399 | 7065 - Read geodata\n",
      "2024-06-02 20:49:48,826 | 7065 - Join all\n",
      "2024-06-02 20:49:49,079 | 7065 - Save data to /home/max/Desktop/census/census_2011.gpkg\n",
      "2024-06-02 20:57:12,525 | 7065 - End analysis in 0:31:07.659415\n"
     ]
    },
    {
     "name": "stdout",
     "output_type": "stream",
     "text": [
      "CPU times: user 31min 1s, sys: 4.61 s, total: 31min 6s\n",
      "Wall time: 31min 7s\n"
     ]
    },
    {
     "data": {
      "text/plain": [
       "PosixPath('/home/max/Desktop/census')"
      ]
     },
     "execution_count": 3,
     "metadata": {},
     "output_type": "execute_result"
    }
   ],
   "execution_count": 3
  },
  {
   "cell_type": "markdown",
   "source": [
    "## Conclusione"
   ],
   "metadata": {
    "collapsed": false
   }
  },
  {
   "cell_type": "markdown",
   "source": [
    "Al termine del processo tutti i dati saranno visibili nel path di destinazione."
   ],
   "metadata": {
    "collapsed": false
   }
  }
 ],
 "metadata": {
  "kernelspec": {
   "display_name": "Python 3",
   "language": "python",
   "name": "python3"
  },
  "language_info": {
   "codemirror_mode": {
    "name": "ipython",
    "version": 2
   },
   "file_extension": ".py",
   "mimetype": "text/x-python",
   "name": "python",
   "nbconvert_exporter": "python",
   "pygments_lexer": "ipython2",
   "version": "2.7.6"
  }
 },
 "nbformat": 4,
 "nbformat_minor": 0
}
