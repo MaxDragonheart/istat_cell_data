{
 "cells": [
  {
   "cell_type": "markdown",
   "source": [
    "# PROCESSAMENTO finale"
   ],
   "metadata": {
    "collapsed": false
   }
  },
  {
   "cell_type": "markdown",
   "source": [
    "L'installazione di ISTAT Cell Data si effettua con il classico `pip install istatcelldata`. Se si ha la necessità di installare una versione specifica si può fare riferimento [qui](istatcelldata)."
   ],
   "metadata": {
    "collapsed": false
   }
  },
  {
   "cell_type": "markdown",
   "source": [
    "## Import delle librerie"
   ],
   "metadata": {
    "collapsed": false
   }
  },
  {
   "cell_type": "code",
   "execution_count": 1,
   "outputs": [],
   "source": [
    "from pathlib import Path\n",
    "from istatcelldata.processes import process_data"
   ],
   "metadata": {
    "collapsed": false,
    "ExecuteTime": {
     "start_time": "2023-04-14T13:41:46.153416Z",
     "end_time": "2023-04-14T13:41:46.543066Z"
    }
   }
  },
  {
   "cell_type": "markdown",
   "source": [
    "## Definizione del path di destinazione dei dati"
   ],
   "metadata": {
    "collapsed": false
   }
  },
  {
   "cell_type": "markdown",
   "source": [
    "Il path di destinazione dei dati è sia il path in cui *devono* essere presenti i dati precedentemente preprocessati, sia il path in cui verranno creti i dati definitivi."
   ],
   "metadata": {
    "collapsed": false
   }
  },
  {
   "cell_type": "code",
   "execution_count": 2,
   "outputs": [],
   "source": [
    "output_path = Path('/home/max/Desktop/test')"
   ],
   "metadata": {
    "collapsed": false,
    "ExecuteTime": {
     "start_time": "2023-04-14T13:41:46.545946Z",
     "end_time": "2023-04-14T13:41:46.548880Z"
    }
   }
  },
  {
   "cell_type": "markdown",
   "source": [
    "## Processamento"
   ],
   "metadata": {
    "collapsed": false
   }
  },
  {
   "cell_type": "markdown",
   "source": [
    "Di default i dati e le analisi intermedie verranno eliminati ma se si pone `delete_process_folder=False` questi verranno mantenuti."
   ],
   "metadata": {
    "collapsed": false
   }
  },
  {
   "cell_type": "code",
   "execution_count": 3,
   "outputs": [
    {
     "name": "stderr",
     "output_type": "stream",
     "text": [
      "2023-04-14 13:41:46,553 | 38652 - Start analysis at 2023-04-14 13:41:46.553408\n",
      "2023-04-14 13:41:46,554 | 38652 - Process census for 1991\n",
      "2023-04-14 13:41:46,554 | 38652 - Get encoding\n",
      "2023-04-14 13:41:46,607 | 38652 - Read data\n",
      "2023-04-14 13:41:49,800 | 38652 - Read geodata\n",
      "2023-04-14 13:42:49,110 | 38652 - Join all\n",
      "2023-04-14 13:42:49,522 | 38652 - Delete data path /home/max/Desktop/test/preprocessing/census_1991\n",
      "2023-04-14 13:42:49,671 | 38652 - Save data to /home/max/Desktop/test/census_1991.gpkg\n",
      "2023-04-14 13:45:48,638 | 38652 - Process census for 2001\n",
      "2023-04-14 13:45:48,639 | 38652 - Get encoding\n",
      "2023-04-14 13:45:48,689 | 38652 - Read data\n",
      "2023-04-14 13:45:55,217 | 38652 - Read geodata\n",
      "2023-04-14 13:47:08,021 | 38652 - Join all\n",
      "2023-04-14 13:47:08,498 | 38652 - Delete data path /home/max/Desktop/test/preprocessing/census_2001\n",
      "2023-04-14 13:47:08,695 | 38652 - Save data to /home/max/Desktop/test/census_2001.gpkg\n",
      "2023-04-14 13:49:53,618 | 38652 - Process census for 2011\n",
      "2023-04-14 13:49:53,619 | 38652 - Get encoding\n",
      "2023-04-14 13:49:53,733 | 38652 - Read data\n",
      "2023-04-14 13:49:56,010 | 38652 - Read geodata\n",
      "2023-04-14 13:51:03,923 | 38652 - Join all\n",
      "2023-04-14 13:51:04,349 | 38652 - Delete data path /home/max/Desktop/test/preprocessing/census_2011\n",
      "2023-04-14 13:51:04,555 | 38652 - Save data to /home/max/Desktop/test/census_2011.gpkg\n",
      "2023-04-14 13:53:49,985 | 38652 - Delete data path /home/max/Desktop/test/preprocessing\n",
      "2023-04-14 13:53:49,986 | 38652 - End analysis in 0:12:03.433261\n"
     ]
    }
   ],
   "source": [
    "process_data(output_path)"
   ],
   "metadata": {
    "collapsed": false,
    "ExecuteTime": {
     "start_time": "2023-04-14T13:41:46.548870Z",
     "end_time": "2023-04-14T13:53:50.029766Z"
    }
   }
  },
  {
   "cell_type": "markdown",
   "source": [
    "## Conclusione"
   ],
   "metadata": {
    "collapsed": false
   }
  },
  {
   "cell_type": "markdown",
   "source": [
    "Al termine del processo tutti i dati saranno visibili nel path di destinazione."
   ],
   "metadata": {
    "collapsed": false
   }
  }
 ],
 "metadata": {
  "kernelspec": {
   "display_name": "Python 3",
   "language": "python",
   "name": "python3"
  },
  "language_info": {
   "codemirror_mode": {
    "name": "ipython",
    "version": 2
   },
   "file_extension": ".py",
   "mimetype": "text/x-python",
   "name": "python",
   "nbconvert_exporter": "python",
   "pygments_lexer": "ipython2",
   "version": "2.7.6"
  }
 },
 "nbformat": 4,
 "nbformat_minor": 0
}
