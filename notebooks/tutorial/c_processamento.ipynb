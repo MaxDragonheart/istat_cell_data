{
 "cells": [
  {
   "cell_type": "markdown",
   "source": [
    "# PROCESSAMENTO finale"
   ],
   "metadata": {
    "collapsed": false
   }
  },
  {
   "cell_type": "markdown",
   "source": [
    "L'installazione di ISTAT Cell Data si effettua con il classico `pip install istatcelldata`. Se si ha la necessità di installare una versione specifica si può fare riferimento [qui](istatcelldata)."
   ],
   "metadata": {
    "collapsed": false
   }
  },
  {
   "cell_type": "markdown",
   "source": [
    "## Import delle librerie"
   ],
   "metadata": {
    "collapsed": false
   }
  },
  {
   "cell_type": "code",
   "execution_count": 1,
   "outputs": [],
   "source": [
    "from pathlib import Path\n",
    "from istatcelldata.processes import process_data"
   ],
   "metadata": {
    "collapsed": false,
    "ExecuteTime": {
     "end_time": "2023-05-06T19:00:10.784953369Z",
     "start_time": "2023-05-06T19:00:10.457207140Z"
    }
   }
  },
  {
   "cell_type": "markdown",
   "source": [
    "## Definizione del path di destinazione dei dati"
   ],
   "metadata": {
    "collapsed": false
   }
  },
  {
   "cell_type": "markdown",
   "source": [
    "Il path di destinazione dei dati è sia il path in cui *devono* essere presenti i dati precedentemente preprocessati, sia il path in cui verranno creti i dati definitivi."
   ],
   "metadata": {
    "collapsed": false
   }
  },
  {
   "cell_type": "code",
   "execution_count": 2,
   "outputs": [],
   "source": [
    "output_path = Path('/home/max/Desktop')"
   ],
   "metadata": {
    "collapsed": false,
    "ExecuteTime": {
     "end_time": "2023-05-06T19:00:10.787882404Z",
     "start_time": "2023-05-06T19:00:10.786377566Z"
    }
   }
  },
  {
   "cell_type": "markdown",
   "source": [
    "## Processamento"
   ],
   "metadata": {
    "collapsed": false
   }
  },
  {
   "cell_type": "markdown",
   "source": [
    "Di default i dati e le analisi intermedie verranno eliminati ma se si pone `delete_process_folder=False` questi verranno mantenuti."
   ],
   "metadata": {
    "collapsed": false
   }
  },
  {
   "cell_type": "code",
   "execution_count": 3,
   "outputs": [
    {
     "name": "stderr",
     "output_type": "stream",
     "text": [
      "2023-05-06 21:00:10,793 | 28100 - Start analysis at 2023-05-06 21:00:10.793419\n",
      "2023-05-06 21:00:10,794 | 28100 - Process census for 2011\n",
      "2023-05-06 21:00:10,794 | 28100 - Get encoding\n",
      "2023-05-06 21:00:10,842 | 28100 - Read data\n",
      "2023-05-06 21:00:11,049 | 28100 - Read geodata\n",
      "2023-05-06 21:00:15,985 | 28100 - Join all\n",
      "2023-05-06 21:00:16,016 | 28100 - Delete data path /home/max/Desktop/preprocessing/census_2011\n",
      "2023-05-06 21:00:16,064 | 28100 - Save data to /home/max/Desktop/census_2011.gpkg\n",
      "2023-05-06 21:00:28,219 | 28100 - Delete data path /home/max/Desktop/preprocessing\n",
      "2023-05-06 21:00:28,220 | 28100 - End analysis in 0:00:17.426678\n"
     ]
    }
   ],
   "source": [
    "process_data(output_data_folder=output_path)"
   ],
   "metadata": {
    "collapsed": false,
    "ExecuteTime": {
     "end_time": "2023-05-06T19:00:28.223577618Z",
     "start_time": "2023-05-06T19:00:10.789523789Z"
    }
   }
  },
  {
   "cell_type": "markdown",
   "source": [
    "## Conclusione"
   ],
   "metadata": {
    "collapsed": false
   }
  },
  {
   "cell_type": "markdown",
   "source": [
    "Al termine del processo tutti i dati saranno visibili nel path di destinazione."
   ],
   "metadata": {
    "collapsed": false
   }
  }
 ],
 "metadata": {
  "kernelspec": {
   "display_name": "Python 3",
   "language": "python",
   "name": "python3"
  },
  "language_info": {
   "codemirror_mode": {
    "name": "ipython",
    "version": 2
   },
   "file_extension": ".py",
   "mimetype": "text/x-python",
   "name": "python",
   "nbconvert_exporter": "python",
   "pygments_lexer": "ipython2",
   "version": "2.7.6"
  }
 },
 "nbformat": 4,
 "nbformat_minor": 0
}
