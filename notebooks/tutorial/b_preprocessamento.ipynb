{
 "cells": [
  {
   "cell_type": "markdown",
   "source": [
    "# PREPROCESSAMENTO dei dati censuari grezzi"
   ],
   "metadata": {
    "collapsed": false
   }
  },
  {
   "cell_type": "markdown",
   "source": [
    "L'installazione di ISTAT Cell Data si effettua con il classico `pip install istatcelldata`. Se si ha la necessità di installare una versione specifica si può fare riferimento [qui](istatcelldata)."
   ],
   "metadata": {
    "collapsed": false
   }
  },
  {
   "cell_type": "markdown",
   "source": [
    "## Import delle librerie"
   ],
   "metadata": {
    "collapsed": false
   }
  },
  {
   "cell_type": "code",
   "source": [
    "from pathlib import Path\n",
    "from istatcelldata.processes import process_raw_data"
   ],
   "metadata": {
    "collapsed": false,
    "ExecuteTime": {
     "end_time": "2024-06-02T18:24:30.304744Z",
     "start_time": "2024-06-02T18:24:30.302118Z"
    }
   },
   "outputs": [],
   "execution_count": 4
  },
  {
   "cell_type": "markdown",
   "source": [
    "## Definizione del path di destinazione dei dati"
   ],
   "metadata": {
    "collapsed": false
   }
  },
  {
   "cell_type": "markdown",
   "source": [
    "Il path di destinazione dei dati è sia il path in cui *devono* essere presenti i dati grezzi precedentemente scaricati, sia il path in cui verranno creti i dati preprocessati."
   ],
   "metadata": {
    "collapsed": false
   }
  },
  {
   "cell_type": "code",
   "source": "output_path = Path('/home/max/Desktop/census')",
   "metadata": {
    "collapsed": false,
    "ExecuteTime": {
     "end_time": "2024-06-02T18:24:30.308504Z",
     "start_time": "2024-06-02T18:24:30.306137Z"
    }
   },
   "outputs": [],
   "execution_count": 5
  },
  {
   "cell_type": "markdown",
   "source": [
    "## Processamento"
   ],
   "metadata": {
    "collapsed": false
   }
  },
  {
   "cell_type": "code",
   "source": [
    "%%time\n",
    "\n",
    "process_raw_data(output_data_folder=output_path, region_list=[])"
   ],
   "metadata": {
    "collapsed": false,
    "ExecuteTime": {
     "end_time": "2024-06-02T18:25:19.632674Z",
     "start_time": "2024-06-02T18:24:30.317053Z"
    }
   },
   "outputs": [
    {
     "name": "stderr",
     "output_type": "stream",
     "text": [
      "2024-06-02 20:24:30,318 | 6916 - Start analysis at 2024-06-02 20:24:30.318698\n",
      "2024-06-02 20:24:30,319 | 6916 - Process data 1991\n",
      "2024-06-02 20:24:30,563 | 6916 - Get encoding\n",
      "2024-06-02 20:24:30,593 | 6916 - Read data\n",
      "2024-06-02 20:24:30,712 | 6916 - Get encoding\n",
      "2024-06-02 20:24:30,742 | 6916 - Read data\n",
      "2024-06-02 20:24:30,869 | 6916 - Get encoding\n",
      "2024-06-02 20:24:30,908 | 6916 - Read data\n",
      "2024-06-02 20:24:30,941 | 6916 - Get encoding\n",
      "2024-06-02 20:24:30,971 | 6916 - Read data\n",
      "2024-06-02 20:24:31,179 | 6916 - Get encoding\n",
      "2024-06-02 20:24:31,210 | 6916 - Read data\n",
      "2024-06-02 20:24:31,359 | 6916 - Get encoding\n",
      "2024-06-02 20:24:31,389 | 6916 - Read data\n",
      "2024-06-02 20:24:31,490 | 6916 - Get encoding\n",
      "2024-06-02 20:24:31,520 | 6916 - Read data\n",
      "2024-06-02 20:24:31,552 | 6916 - Get encoding\n",
      "2024-06-02 20:24:31,583 | 6916 - Read data\n",
      "2024-06-02 20:24:31,595 | 6916 - Get encoding\n",
      "2024-06-02 20:24:31,625 | 6916 - Read data\n",
      "2024-06-02 20:24:31,675 | 6916 - Get encoding\n",
      "2024-06-02 20:24:31,704 | 6916 - Read data\n",
      "2024-06-02 20:24:31,744 | 6916 - Get encoding\n",
      "2024-06-02 20:24:31,774 | 6916 - Read data\n",
      "2024-06-02 20:24:31,909 | 6916 - Get encoding\n",
      "2024-06-02 20:24:31,939 | 6916 - Read data\n",
      "2024-06-02 20:24:32,035 | 6916 - Get encoding\n",
      "2024-06-02 20:24:32,065 | 6916 - Read data\n",
      "2024-06-02 20:24:32,113 | 6916 - Get encoding\n",
      "2024-06-02 20:24:32,143 | 6916 - Read data\n",
      "2024-06-02 20:24:32,182 | 6916 - Get encoding\n",
      "2024-06-02 20:24:32,214 | 6916 - Read data\n",
      "2024-06-02 20:24:32,258 | 6916 - Get encoding\n",
      "2024-06-02 20:24:32,289 | 6916 - Read data\n",
      "2024-06-02 20:24:32,409 | 6916 - Get encoding\n",
      "2024-06-02 20:24:32,438 | 6916 - Read data\n",
      "2024-06-02 20:24:32,446 | 6916 - Get encoding\n",
      "2024-06-02 20:24:32,476 | 6916 - Read data\n",
      "2024-06-02 20:24:32,494 | 6916 - Get encoding\n",
      "2024-06-02 20:24:32,524 | 6916 - Read data\n",
      "2024-06-02 20:24:32,575 | 6916 - Get encoding\n",
      "2024-06-02 20:24:32,605 | 6916 - Read data\n",
      "2024-06-02 20:24:32,749 | 6916 - Make DataFrame\n",
      "2024-06-02 20:24:33,398 | 6916 - Save data to /home/max/Desktop/census/preprocessing/census_1991/data1991.csv\n",
      "2024-06-02 20:24:38,808 | 6916 - List all geodata\n",
      "  0%|          | 0/1 [00:00<?, ?it/s]\n",
      "0it [00:00, ?it/s]\u001B[A\n",
      "1806it [00:00, 18057.00it/s]\u001B[A\n",
      "4076it [00:00, 20786.84it/s]\u001B[A\n",
      "6438it [00:00, 22080.03it/s]\u001B[A\n",
      "8805it [00:00, 22705.36it/s]\u001B[A\n",
      "11076it [00:00, 22054.88it/s]\u001B[A\n",
      "13285it [00:00, 21101.03it/s]\u001B[A\n",
      "15451it [00:00, 21105.68it/s]\u001B[A\n",
      "17567it [00:00, 20736.07it/s]\u001B[A\n",
      "20610it [00:00, 21141.10it/s]\u001B[A\n",
      "100%|██████████| 1/1 [00:03<00:00,  3.94s/it]\n",
      "2024-06-02 20:24:42,755 | 6916 - Make GeoDataFrame for 1991\n",
      "2024-06-02 20:24:42,765 | 6916 - Save data to /home/max/Desktop/census/preprocessing/census_1991/geodata1991.gpkg\n",
      "2024-06-02 20:24:45,039 | 6916 - Process data 2001\n",
      "2024-06-02 20:24:45,269 | 6916 - Get encoding\n",
      "2024-06-02 20:24:45,300 | 6916 - Read data\n",
      "2024-06-02 20:24:45,324 | 6916 - Get encoding\n",
      "2024-06-02 20:24:45,354 | 6916 - Read data\n",
      "2024-06-02 20:24:45,407 | 6916 - Get encoding\n",
      "2024-06-02 20:24:45,437 | 6916 - Read data\n",
      "2024-06-02 20:24:45,491 | 6916 - Get encoding\n",
      "2024-06-02 20:24:45,521 | 6916 - Read data\n",
      "2024-06-02 20:24:45,561 | 6916 - Get encoding\n",
      "2024-06-02 20:24:45,592 | 6916 - Read data\n",
      "2024-06-02 20:24:45,744 | 6916 - Get encoding\n",
      "2024-06-02 20:24:45,775 | 6916 - Read data\n",
      "2024-06-02 20:24:45,942 | 6916 - Get encoding\n",
      "2024-06-02 20:24:45,972 | 6916 - Read data\n",
      "2024-06-02 20:24:45,987 | 6916 - Get encoding\n",
      "2024-06-02 20:24:46,017 | 6916 - Read data\n",
      "2024-06-02 20:24:46,147 | 6916 - Get encoding\n",
      "2024-06-02 20:24:46,177 | 6916 - Read data\n",
      "2024-06-02 20:24:46,188 | 6916 - Get encoding\n",
      "2024-06-02 20:24:46,218 | 6916 - Read data\n",
      "2024-06-02 20:24:46,400 | 6916 - Get encoding\n",
      "2024-06-02 20:24:46,429 | 6916 - Read data\n",
      "2024-06-02 20:24:46,547 | 6916 - Get encoding\n",
      "2024-06-02 20:24:46,577 | 6916 - Read data\n",
      "2024-06-02 20:24:46,762 | 6916 - Get encoding\n",
      "2024-06-02 20:24:46,792 | 6916 - Read data\n",
      "2024-06-02 20:24:47,047 | 6916 - Get encoding\n",
      "2024-06-02 20:24:47,077 | 6916 - Read data\n",
      "2024-06-02 20:24:47,140 | 6916 - Get encoding\n",
      "2024-06-02 20:24:47,169 | 6916 - Read data\n",
      "2024-06-02 20:24:47,215 | 6916 - Get encoding\n",
      "2024-06-02 20:24:47,245 | 6916 - Read data\n",
      "2024-06-02 20:24:47,286 | 6916 - Get encoding\n",
      "2024-06-02 20:24:47,315 | 6916 - Read data\n",
      "2024-06-02 20:24:47,380 | 6916 - Get encoding\n",
      "2024-06-02 20:24:47,410 | 6916 - Read data\n",
      "2024-06-02 20:24:47,570 | 6916 - Get encoding\n",
      "2024-06-02 20:24:47,600 | 6916 - Read data\n",
      "2024-06-02 20:24:47,732 | 6916 - Get encoding\n",
      "2024-06-02 20:24:47,768 | 6916 - Read data\n",
      "2024-06-02 20:24:47,839 | 6916 - Make DataFrame\n",
      "2024-06-02 20:24:48,250 | 6916 - Save data to /home/max/Desktop/census/preprocessing/census_2001/data2001.csv\n",
      "2024-06-02 20:24:54,158 | 6916 - List all geodata\n",
      "  0%|          | 0/1 [00:00<?, ?it/s]\n",
      "0it [00:00, ?it/s]\u001B[A\n",
      "1895it [00:00, 18946.86it/s]\u001B[A\n",
      "3826it [00:00, 19159.39it/s]\u001B[A\n",
      "5742it [00:00, 18327.30it/s]\u001B[A\n",
      "7719it [00:00, 18880.73it/s]\u001B[A\n",
      "9612it [00:00, 18758.65it/s]\u001B[A\n",
      "11727it [00:00, 19556.82it/s]\u001B[A\n",
      "13687it [00:00, 19567.98it/s]\u001B[A\n",
      "15646it [00:00, 19241.41it/s]\u001B[A\n",
      "17612it [00:00, 19369.56it/s]\u001B[A\n",
      "19551it [00:01, 18191.81it/s]\u001B[A\n",
      "21448it [00:01, 18416.50it/s]\u001B[A\n",
      "23315it [00:01, 18788.73it/s]\u001B[A\n",
      "100%|██████████| 1/1 [00:05<00:00,  5.90s/it]\n",
      "2024-06-02 20:25:00,061 | 6916 - Make GeoDataFrame for 2001\n",
      "2024-06-02 20:25:00,075 | 6916 - Save data to /home/max/Desktop/census/preprocessing/census_2001/geodata2001.gpkg\n",
      "2024-06-02 20:25:02,762 | 6916 - Process data 2011\n",
      "2024-06-02 20:25:02,763 | 6916 - Get encoding\n",
      "2024-06-02 20:25:02,794 | 6916 - Read data\n",
      "2024-06-02 20:25:02,914 | 6916 - Get encoding\n",
      "2024-06-02 20:25:02,943 | 6916 - Read data\n",
      "2024-06-02 20:25:02,983 | 6916 - Get encoding\n",
      "2024-06-02 20:25:03,013 | 6916 - Read data\n",
      "2024-06-02 20:25:03,060 | 6916 - Get encoding\n",
      "2024-06-02 20:25:03,090 | 6916 - Read data\n",
      "2024-06-02 20:25:03,103 | 6916 - Get encoding\n",
      "2024-06-02 20:25:03,273 | 6916 - Read data\n",
      "2024-06-02 20:25:03,414 | 6916 - Get encoding\n",
      "2024-06-02 20:25:03,444 | 6916 - Read data\n",
      "2024-06-02 20:25:03,592 | 6916 - Get encoding\n",
      "2024-06-02 20:25:03,621 | 6916 - Read data\n",
      "2024-06-02 20:25:03,710 | 6916 - Get encoding\n",
      "2024-06-02 20:25:03,740 | 6916 - Read data\n",
      "2024-06-02 20:25:03,793 | 6916 - Get encoding\n",
      "2024-06-02 20:25:04,141 | 6916 - Read data\n",
      "2024-06-02 20:25:04,186 | 6916 - Get encoding\n",
      "2024-06-02 20:25:04,215 | 6916 - Read data\n",
      "2024-06-02 20:25:04,321 | 6916 - Get encoding\n",
      "2024-06-02 20:25:04,512 | 6916 - Read data\n",
      "2024-06-02 20:25:04,522 | 6916 - Get encoding\n",
      "2024-06-02 20:25:04,551 | 6916 - Read data\n",
      "2024-06-02 20:25:04,599 | 6916 - Get encoding\n",
      "2024-06-02 20:25:04,630 | 6916 - Read data\n",
      "2024-06-02 20:25:04,774 | 6916 - Get encoding\n",
      "2024-06-02 20:25:04,804 | 6916 - Read data\n",
      "2024-06-02 20:25:04,931 | 6916 - Get encoding\n",
      "2024-06-02 20:25:04,960 | 6916 - Read data\n",
      "2024-06-02 20:25:05,183 | 6916 - Get encoding\n",
      "2024-06-02 20:25:05,212 | 6916 - Read data\n",
      "2024-06-02 20:25:05,247 | 6916 - Get encoding\n",
      "2024-06-02 20:25:05,276 | 6916 - Read data\n",
      "2024-06-02 20:25:05,441 | 6916 - Get encoding\n",
      "2024-06-02 20:25:05,470 | 6916 - Read data\n",
      "2024-06-02 20:25:05,521 | 6916 - Get encoding\n",
      "2024-06-02 20:25:05,551 | 6916 - Read data\n",
      "2024-06-02 20:25:05,588 | 6916 - Get encoding\n",
      "2024-06-02 20:25:05,619 | 6916 - Read data\n",
      "2024-06-02 20:25:05,641 | 6916 - Make DataFrame\n",
      "2024-06-02 20:25:05,829 | 6916 - Save data to /home/max/Desktop/census/preprocessing/census_2011/data2011.csv\n",
      "2024-06-02 20:25:10,611 | 6916 - List all geodata\n",
      "  0%|          | 0/1 [00:00<?, ?it/s]\n",
      "0it [00:00, ?it/s]\u001B[A\n",
      "1959it [00:00, 19589.18it/s]\u001B[A\n",
      "4192it [00:00, 21198.73it/s]\u001B[A\n",
      "6312it [00:00, 20806.98it/s]\u001B[A\n",
      "8394it [00:00, 20254.34it/s]\u001B[A\n",
      "10422it [00:00, 17472.21it/s]\u001B[A\n",
      "12447it [00:00, 18309.47it/s]\u001B[A\n",
      "14437it [00:00, 18785.61it/s]\u001B[A\n",
      "16350it [00:00, 18811.00it/s]\u001B[A\n",
      "18255it [00:00, 18328.17it/s]\u001B[A\n",
      "20106it [00:01, 17379.64it/s]\u001B[A\n",
      "21863it [00:01, 16735.06it/s]\u001B[A\n",
      "24323it [00:01, 17997.04it/s]\u001B[A\n",
      "100%|██████████| 1/1 [00:06<00:00,  6.22s/it]\n",
      "2024-06-02 20:25:16,836 | 6916 - Make GeoDataFrame for 2011\n",
      "2024-06-02 20:25:16,849 | 6916 - Save data to /home/max/Desktop/census/preprocessing/census_2011/geodata2011.gpkg\n",
      "2024-06-02 20:25:19,630 | 6916 - End analysis in 0:00:49.311847\n"
     ]
    },
    {
     "name": "stdout",
     "output_type": "stream",
     "text": [
      "CPU times: user 47.7 s, sys: 1.61 s, total: 49.4 s\n",
      "Wall time: 49.3 s\n"
     ]
    }
   ],
   "execution_count": 6
  },
  {
   "cell_type": "markdown",
   "source": [
    "## Conclusione"
   ],
   "metadata": {
    "collapsed": false
   }
  },
  {
   "cell_type": "markdown",
   "source": [
    "Al termine del preprocessamento tutti i dati saranno visibili nel path di destinazione."
   ],
   "metadata": {
    "collapsed": false
   }
  }
 ],
 "metadata": {
  "kernelspec": {
   "display_name": "Python 3",
   "language": "python",
   "name": "python3"
  },
  "language_info": {
   "codemirror_mode": {
    "name": "ipython",
    "version": 2
   },
   "file_extension": ".py",
   "mimetype": "text/x-python",
   "name": "python",
   "nbconvert_exporter": "python",
   "pygments_lexer": "ipython2",
   "version": "2.7.6"
  }
 },
 "nbformat": 4,
 "nbformat_minor": 0
}
