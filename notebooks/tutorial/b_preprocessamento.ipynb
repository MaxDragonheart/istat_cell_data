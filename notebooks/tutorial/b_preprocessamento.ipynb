{
 "cells": [
  {
   "cell_type": "markdown",
   "source": [
    "# PREPROCESSAMENTO dei dati censuari grezzi"
   ],
   "metadata": {
    "collapsed": false
   }
  },
  {
   "cell_type": "markdown",
   "source": [
    "L'installazione di ISTAT Cell Data si effettua con il classico `pip install istatcelldata`. Se si ha la necessità di installare una versione specifica si può fare riferimento [qui](istatcelldata)."
   ],
   "metadata": {
    "collapsed": false
   }
  },
  {
   "cell_type": "markdown",
   "source": [
    "## Import delle librerie"
   ],
   "metadata": {
    "collapsed": false
   }
  },
  {
   "cell_type": "code",
   "execution_count": 1,
   "outputs": [],
   "source": [
    "from pathlib import Path\n",
    "from istatcelldata.processes import process_raw_data"
   ],
   "metadata": {
    "collapsed": false,
    "ExecuteTime": {
     "end_time": "2023-05-06T18:58:41.292039035Z",
     "start_time": "2023-05-06T18:58:40.969374089Z"
    }
   }
  },
  {
   "cell_type": "markdown",
   "source": [
    "## Definizione del path di destinazione dei dati"
   ],
   "metadata": {
    "collapsed": false
   }
  },
  {
   "cell_type": "markdown",
   "source": [
    "Il path di destinazione dei dati è sia il path in cui *devono* essere presenti i dati grezzi precedentemente scaricati, sia il path in cui verranno creti i dati preprocessati."
   ],
   "metadata": {
    "collapsed": false
   }
  },
  {
   "cell_type": "code",
   "execution_count": 2,
   "outputs": [],
   "source": [
    "output_path = Path('/home/max/Desktop')"
   ],
   "metadata": {
    "collapsed": false,
    "ExecuteTime": {
     "end_time": "2023-05-06T18:58:41.295038094Z",
     "start_time": "2023-05-06T18:58:41.293820835Z"
    }
   }
  },
  {
   "cell_type": "markdown",
   "source": [
    "## Processamento"
   ],
   "metadata": {
    "collapsed": false
   }
  },
  {
   "cell_type": "code",
   "execution_count": 3,
   "outputs": [
    {
     "name": "stderr",
     "output_type": "stream",
     "text": [
      "2023-05-06 20:58:41,301 | 27997 - Start analysis at 2023-05-06 20:58:41.301607\n",
      "2023-05-06 20:58:41,302 | 27997 - Process data 1991\n",
      "2023-05-06 20:58:41,302 | 27997 - Process data 2001\n",
      "2023-05-06 20:58:41,303 | 27997 - Process data 2011\n",
      "2023-05-06 20:58:41,304 | 27997 - Get encoding\n",
      "2023-05-06 20:58:41,352 | 27997 - Read data\n",
      "2023-05-06 20:58:41,378 | 27997 - Get encoding\n",
      "2023-05-06 20:58:41,424 | 27997 - Read data\n",
      "2023-05-06 20:58:41,670 | 27997 - Get encoding\n",
      "2023-05-06 20:58:41,716 | 27997 - Read data\n",
      "2023-05-06 20:58:41,793 | 27997 - Get encoding\n",
      "2023-05-06 20:58:41,839 | 27997 - Read data\n",
      "2023-05-06 20:58:42,174 | 27997 - Get encoding\n",
      "2023-05-06 20:58:42,220 | 27997 - Read data\n",
      "2023-05-06 20:58:42,399 | 27997 - Get encoding\n",
      "2023-05-06 20:58:42,445 | 27997 - Read data\n",
      "2023-05-06 20:58:42,505 | 27997 - Get encoding\n",
      "2023-05-06 20:58:42,550 | 27997 - Read data\n",
      "2023-05-06 20:58:42,602 | 27997 - Get encoding\n",
      "2023-05-06 20:58:42,648 | 27997 - Read data\n",
      "2023-05-06 20:58:42,900 | 27997 - Get encoding\n",
      "2023-05-06 20:58:42,945 | 27997 - Read data\n",
      "2023-05-06 20:58:43,001 | 27997 - Get encoding\n",
      "2023-05-06 20:58:43,047 | 27997 - Read data\n",
      "2023-05-06 20:58:43,081 | 27997 - Get encoding\n",
      "2023-05-06 20:58:43,126 | 27997 - Read data\n",
      "2023-05-06 20:58:43,210 | 27997 - Get encoding\n",
      "2023-05-06 20:58:43,445 | 27997 - Read data\n",
      "2023-05-06 20:58:43,647 | 27997 - Get encoding\n",
      "2023-05-06 20:58:43,692 | 27997 - Read data\n",
      "2023-05-06 20:58:43,917 | 27997 - Get encoding\n",
      "2023-05-06 20:58:44,420 | 27997 - Read data\n",
      "2023-05-06 20:58:44,489 | 27997 - Get encoding\n",
      "2023-05-06 20:58:44,536 | 27997 - Read data\n",
      "2023-05-06 20:58:44,608 | 27997 - Get encoding\n",
      "2023-05-06 20:58:44,888 | 27997 - Read data\n",
      "2023-05-06 20:58:44,903 | 27997 - Get encoding\n",
      "2023-05-06 20:58:44,947 | 27997 - Read data\n",
      "2023-05-06 20:58:45,103 | 27997 - Get encoding\n",
      "2023-05-06 20:58:45,148 | 27997 - Read data\n",
      "2023-05-06 20:58:45,227 | 27997 - Get encoding\n",
      "2023-05-06 20:58:45,272 | 27997 - Read data\n",
      "2023-05-06 20:58:45,416 | 27997 - Get encoding\n",
      "2023-05-06 20:58:45,461 | 27997 - Read data\n",
      "2023-05-06 20:58:45,647 | 27997 - Make DataFrame\n",
      "2023-05-06 20:58:45,944 | 27997 - Save data to /home/max/Desktop/preprocessing/census_2011/data2011.csv\n",
      "2023-05-06 20:58:46,386 | 27997 - List all geodata\n",
      "  0%|          | 0/2 [00:00<?, ?it/s]\n",
      "0it [00:00, ?it/s]\u001B[A\n",
      "873it [00:00, 8726.35it/s]\u001B[A\n",
      "1790it [00:00, 8984.37it/s]\u001B[A\n",
      "2761it [00:00, 9313.30it/s]\u001B[A\n",
      "3782it [00:00, 9664.03it/s]\u001B[A\n",
      "4806it [00:00, 9869.70it/s]\u001B[A\n",
      "5793it [00:00, 9827.95it/s]\u001B[A\n",
      "6776it [00:00, 9596.61it/s]\u001B[A\n",
      "7748it [00:00, 9634.27it/s]\u001B[A\n",
      "8713it [00:00, 9475.93it/s]\u001B[A\n",
      "9676it [00:01, 9521.13it/s]\u001B[A\n",
      "10700it [00:01, 9736.05it/s]\u001B[A\n",
      "11711it [00:01, 9846.07it/s]\u001B[A\n",
      "12697it [00:01, 9748.79it/s]\u001B[A\n",
      "13675it [00:01, 9756.36it/s]\u001B[A\n",
      "14652it [00:01, 9666.30it/s]\u001B[A\n",
      "15620it [00:01, 9576.38it/s]\u001B[A\n",
      "16579it [00:01, 9455.18it/s]\u001B[A\n",
      "17525it [00:01, 9202.25it/s]\u001B[A\n",
      "18447it [00:01, 9085.20it/s]\u001B[A\n",
      "19357it [00:02, 8805.90it/s]\u001B[A\n",
      "20240it [00:02, 8578.85it/s]\u001B[A\n",
      "21100it [00:02, 8359.13it/s]\u001B[A\n",
      "21938it [00:02, 8229.45it/s]\u001B[A\n",
      "22762it [00:02, 8038.65it/s]\u001B[A\n",
      "24323it [00:02, 9111.64it/s]\u001B[A\n",
      " 50%|█████     | 1/2 [00:09<00:09,  9.66s/it]\n",
      "0it [00:00, ?it/s]\u001B[A\n",
      "712it [00:00, 5694.49it/s]\u001B[A\n",
      "1414it [00:00, 6399.69it/s]\u001B[A\n",
      "2339it [00:00, 7629.22it/s]\u001B[A\n",
      "3302it [00:00, 8390.40it/s]\u001B[A\n",
      "5107it [00:00, 8167.24it/s]\u001B[A\n",
      "100%|██████████| 2/2 [00:12<00:00,  6.00s/it]\n",
      "2023-05-06 20:58:58,403 | 27997 - Make GeoDataFrame for 2011\n",
      "2023-05-06 20:58:58,421 | 27997 - Save data to /home/max/Desktop/preprocessing/census_2011/geodata2011.gpkg\n",
      "2023-05-06 20:59:04,069 | 27997 - End analysis in 0:00:22.768295\n"
     ]
    }
   ],
   "source": [
    "process_raw_data(output_data_folder=output_path, region_list=[15, 17])"
   ],
   "metadata": {
    "collapsed": false,
    "ExecuteTime": {
     "end_time": "2023-05-06T18:59:04.073495199Z",
     "start_time": "2023-05-06T18:58:41.296657550Z"
    }
   }
  },
  {
   "cell_type": "markdown",
   "source": [
    "## Conclusione"
   ],
   "metadata": {
    "collapsed": false
   }
  },
  {
   "cell_type": "markdown",
   "source": [
    "Al termine del preprocessamento tutti i dati saranno visibili nel path di destinazione."
   ],
   "metadata": {
    "collapsed": false
   }
  }
 ],
 "metadata": {
  "kernelspec": {
   "display_name": "Python 3",
   "language": "python",
   "name": "python3"
  },
  "language_info": {
   "codemirror_mode": {
    "name": "ipython",
    "version": 2
   },
   "file_extension": ".py",
   "mimetype": "text/x-python",
   "name": "python",
   "nbconvert_exporter": "python",
   "pygments_lexer": "ipython2",
   "version": "2.7.6"
  }
 },
 "nbformat": 4,
 "nbformat_minor": 0
}
