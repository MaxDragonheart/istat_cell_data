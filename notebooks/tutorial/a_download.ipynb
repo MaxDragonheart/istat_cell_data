{
 "cells": [
  {
   "cell_type": "markdown",
   "source": [
    "# DOWNLOAD dei dati censuari grezzi"
   ],
   "metadata": {
    "collapsed": false
   }
  },
  {
   "cell_type": "markdown",
   "source": [
    "L'installazione di ISTAT Cell Data si effettua con il classico `pip install istatcelldata`. Se si ha la necessità di installare una versione specifica si può fare riferimento [qui](istatcelldata)."
   ],
   "metadata": {
    "collapsed": false
   }
  },
  {
   "cell_type": "markdown",
   "source": [
    "## Import delle librerie"
   ],
   "metadata": {
    "collapsed": false
   }
  },
  {
   "cell_type": "code",
   "source": [
    "from pathlib import Path\n",
    "from istatcelldata.processes import download_raw_data"
   ],
   "metadata": {
    "collapsed": false,
    "ExecuteTime": {
     "end_time": "2024-06-02T18:18:03.313343Z",
     "start_time": "2024-06-02T18:18:02.957030Z"
    }
   },
   "outputs": [],
   "execution_count": 1
  },
  {
   "cell_type": "markdown",
   "source": [
    "## Definizione del path di destinazione dei dati"
   ],
   "metadata": {
    "collapsed": false
   }
  },
  {
   "cell_type": "code",
   "source": "output_path = Path('/home/max/Desktop/census')",
   "metadata": {
    "collapsed": false,
    "ExecuteTime": {
     "end_time": "2024-06-02T18:18:03.316167Z",
     "start_time": "2024-06-02T18:18:03.314410Z"
    }
   },
   "outputs": [],
   "execution_count": 2
  },
  {
   "cell_type": "markdown",
   "source": [
    "## Download"
   ],
   "metadata": {
    "collapsed": false
   }
  },
  {
   "cell_type": "code",
   "source": [
    "%%time\n",
    "\n",
    "download_raw_data(output_data_folder=output_path, year_list=[1991, 2001, 2011], region_list=[15])"
   ],
   "metadata": {
    "collapsed": false,
    "ExecuteTime": {
     "end_time": "2024-06-02T18:22:46.621834Z",
     "start_time": "2024-06-02T18:18:03.317316Z"
    }
   },
   "outputs": [
    {
     "name": "stderr",
     "output_type": "stream",
     "text": [
      "2024-06-02 20:18:03,319 | 6540 - Start analysis at 2024-06-02 20:18:03.319427\n",
      "2024-06-02 20:18:03,319 | 6540 - Start download census data for year 1991\n",
      "2024-06-02 20:18:03,320 | 6540 - Make folder for 1991' census data and geodata.\n",
      "2024-06-02 20:18:03,321 | 6540 - Folder created at /home/max/Desktop/census/preprocessing/census_1991.\n",
      "2024-06-02 20:18:03,321 | 6540 - Download census data\n",
      "2024-06-02 20:18:03,322 | 6540 - Download census data | https://www.istat.it/storage/cartografia/variabili-censuarie/dati-cpa_1991.zip\n"
     ]
    },
    {
     "data": {
      "text/plain": [
       "Downloading...:   0%|          | 0/63997644 [00:00<?, ?it/s]"
      ],
      "application/vnd.jupyter.widget-view+json": {
       "version_major": 2,
       "version_minor": 0,
       "model_id": "63e4bf6b8df6451890d5e8db79de2fe1"
      }
     },
     "metadata": {},
     "output_type": "display_data"
    },
    {
     "name": "stderr",
     "output_type": "stream",
     "text": [
      "2024-06-02 20:18:26,990 | 6540 - Download completed\n",
      "2024-06-02 20:18:26,990 | 6540 - Unzip file\n",
      "2024-06-02 20:18:28,140 | 6540 - Deleting zip file | /home/max/Desktop/census/preprocessing/census_1991/data/dati-cpa_1991.zip\n",
      "2024-06-02 20:18:28,146 | 6540 - File deleted\n",
      "2024-06-02 20:18:28,148 | 6540 - Convert xls to csv for 1991\n",
      "2024-06-02 20:18:28,150 | 6540 - Read data from /home/max/Desktop/census/preprocessing/census_1991/data/dati-cpa_1991\\R05_DatiCPA_1991.xls\n",
      "2024-06-02 20:18:32,421 | 6540 - Save data to /home/max/Desktop/census/preprocessing/census_1991/data/Sezioni di Censimento/tracciato_1991_sezioni.csv\n",
      "2024-06-02 20:18:32,424 | 6540 - Read data from /home/max/Desktop/census/preprocessing/census_1991/data/dati-cpa_1991\\R05_DatiCPA_1991.xls\n",
      "100%|██████████| 27713/27713 [00:00<00:00, 127310.88it/s]\n",
      "2024-06-02 20:18:36,836 | 6540 - Make DataFrame\n",
      "2024-06-02 20:18:37,158 | 6540 - Save data to /home/max/Desktop/census/preprocessing/census_1991/data/Sezioni di Censimento/R05_DatiCPA_1991.csv\n",
      "2024-06-02 20:18:37,776 | 6540 - Read data from /home/max/Desktop/census/preprocessing/census_1991/data/dati-cpa_1991\\R07_DatiCPA_1991.xls\n",
      "100%|██████████| 9664/9664 [00:00<00:00, 400673.70it/s]\n",
      "2024-06-02 20:18:39,256 | 6540 - Make DataFrame\n",
      "2024-06-02 20:18:39,340 | 6540 - Save data to /home/max/Desktop/census/preprocessing/census_1991/data/Sezioni di Censimento/R07_DatiCPA_1991.csv\n",
      "2024-06-02 20:18:39,533 | 6540 - Read data from /home/max/Desktop/census/preprocessing/census_1991/data/dati-cpa_1991\\R14_DatiCPA_1991.xls\n",
      "100%|██████████| 1602/1602 [00:00<00:00, 602409.45it/s]\n",
      "2024-06-02 20:18:39,781 | 6540 - Make DataFrame\n",
      "2024-06-02 20:18:39,810 | 6540 - Save data to /home/max/Desktop/census/preprocessing/census_1991/data/Sezioni di Censimento/R14_DatiCPA_1991.csv\n",
      "2024-06-02 20:18:39,848 | 6540 - Read data from /home/max/Desktop/census/preprocessing/census_1991/data/dati-cpa_1991\\R12_DatiCPA_1991.xls\n",
      "100%|██████████| 22477/22477 [00:00<00:00, 351621.58it/s]\n",
      "2024-06-02 20:18:43,429 | 6540 - Make DataFrame\n",
      "2024-06-02 20:18:43,688 | 6540 - Save data to /home/max/Desktop/census/preprocessing/census_1991/data/Sezioni di Censimento/R12_DatiCPA_1991.csv\n",
      "2024-06-02 20:18:44,217 | 6540 - Read data from /home/max/Desktop/census/preprocessing/census_1991/data/dati-cpa_1991\\R11_DatiCPA_1991.xls\n",
      "100%|██████████| 9606/9606 [00:00<00:00, 433501.37it/s]\n",
      "2024-06-02 20:18:45,684 | 6540 - Make DataFrame\n",
      "2024-06-02 20:18:45,767 | 6540 - Save data to /home/max/Desktop/census/preprocessing/census_1991/data/Sezioni di Censimento/R11_DatiCPA_1991.csv\n",
      "2024-06-02 20:18:45,959 | 6540 - Read data from /home/max/Desktop/census/preprocessing/census_1991/data/dati-cpa_1991\\R01_DatiCPA_1991.xls\n",
      "100%|██████████| 25658/25658 [00:00<00:00, 399127.15it/s]\n",
      "2024-06-02 20:18:50,065 | 6540 - Make DataFrame\n",
      "2024-06-02 20:18:50,307 | 6540 - Save data to /home/max/Desktop/census/preprocessing/census_1991/data/Sezioni di Censimento/R01_DatiCPA_1991.csv\n",
      "2024-06-02 20:18:50,885 | 6540 - Read data from /home/max/Desktop/census/preprocessing/census_1991/data/dati-cpa_1991\\R04_DatiCPA_1991.xls\n",
      "100%|██████████| 8424/8424 [00:00<00:00, 449007.09it/s]\n",
      "2024-06-02 20:18:52,170 | 6540 - Make DataFrame\n",
      "2024-06-02 20:18:52,235 | 6540 - Save data to /home/max/Desktop/census/preprocessing/census_1991/data/Sezioni di Censimento/R04_DatiCPA_1991.csv\n",
      "2024-06-02 20:18:52,402 | 6540 - Read data from /home/max/Desktop/census/preprocessing/census_1991/data/dati-cpa_1991\\R20_DatiCPA_1991.xls\n",
      "100%|██████████| 7197/7197 [00:00<00:00, 463536.22it/s]\n",
      "2024-06-02 20:18:53,593 | 6540 - Make DataFrame\n",
      "2024-06-02 20:18:53,650 | 6540 - Save data to /home/max/Desktop/census/preprocessing/census_1991/data/Sezioni di Censimento/R20_DatiCPA_1991.csv\n",
      "2024-06-02 20:18:53,797 | 6540 - Read data from /home/max/Desktop/census/preprocessing/census_1991/data/dati-cpa_1991\\R10_DatiCPA_1991.xls\n",
      "100%|██████████| 5997/5997 [00:00<00:00, 416031.11it/s]\n",
      "2024-06-02 20:18:54,703 | 6540 - Make DataFrame\n",
      "2024-06-02 20:18:54,753 | 6540 - Save data to /home/max/Desktop/census/preprocessing/census_1991/data/Sezioni di Censimento/R10_DatiCPA_1991.csv\n",
      "2024-06-02 20:18:54,874 | 6540 - Read data from /home/max/Desktop/census/preprocessing/census_1991/data/dati-cpa_1991\\R15_DatiCPA_1991.xls\n",
      "100%|██████████| 19317/19317 [00:00<00:00, 352597.96it/s]\n",
      "2024-06-02 20:18:57,874 | 6540 - Make DataFrame\n",
      "2024-06-02 20:18:58,180 | 6540 - Save data to /home/max/Desktop/census/preprocessing/census_1991/data/Sezioni di Censimento/R15_DatiCPA_1991.csv\n",
      "2024-06-02 20:18:58,630 | 6540 - Read data from /home/max/Desktop/census/preprocessing/census_1991/data/dati-cpa_1991\\R13_DatiCPA_1991.xls\n",
      "100%|██████████| 7293/7293 [00:00<00:00, 385432.24it/s]\n",
      "2024-06-02 20:18:59,742 | 6540 - Make DataFrame\n",
      "2024-06-02 20:18:59,852 | 6540 - Save data to /home/max/Desktop/census/preprocessing/census_1991/data/Sezioni di Censimento/R13_DatiCPA_1991.csv\n",
      "2024-06-02 20:19:00,001 | 6540 - Read data from /home/max/Desktop/census/preprocessing/census_1991/data/dati-cpa_1991\\R17_DatiCPA_1991.xls\n",
      "100%|██████████| 3204/3204 [00:00<00:00, 682679.71it/s]\n",
      "2024-06-02 20:19:00,489 | 6540 - Make DataFrame\n",
      "2024-06-02 20:19:00,518 | 6540 - Save data to /home/max/Desktop/census/preprocessing/census_1991/data/Sezioni di Censimento/R17_DatiCPA_1991.csv\n",
      "2024-06-02 20:19:00,588 | 6540 - Read data from /home/max/Desktop/census/preprocessing/census_1991/data/dati-cpa_1991\\R19_DatiCPA_1991.xls\n",
      "100%|██████████| 27546/27546 [00:00<00:00, 352053.76it/s]\n",
      "2024-06-02 20:19:04,916 | 6540 - Make DataFrame\n",
      "2024-06-02 20:19:05,187 | 6540 - Save data to /home/max/Desktop/census/preprocessing/census_1991/data/Sezioni di Censimento/R19_DatiCPA_1991.csv\n",
      "2024-06-02 20:19:05,815 | 6540 - Read data from /home/max/Desktop/census/preprocessing/census_1991/data/dati-cpa_1991\\R06_DatiCPA_1991.xls\n",
      "100%|██████████| 5688/5688 [00:00<00:00, 353356.26it/s]\n",
      "2024-06-02 20:19:06,685 | 6540 - Make DataFrame\n",
      "2024-06-02 20:19:06,748 | 6540 - Save data to /home/max/Desktop/census/preprocessing/census_1991/data/Sezioni di Censimento/R06_DatiCPA_1991.csv\n",
      "2024-06-02 20:19:06,865 | 6540 - Read data from /home/max/Desktop/census/preprocessing/census_1991/data/dati-cpa_1991\\R08_DatiCPA_1991.xls\n",
      "100%|██████████| 30766/30766 [00:00<00:00, 382504.07it/s]\n",
      "2024-06-02 20:19:11,684 | 6540 - Make DataFrame\n",
      "2024-06-02 20:19:12,206 | 6540 - Save data to /home/max/Desktop/census/preprocessing/census_1991/data/Sezioni di Censimento/R08_DatiCPA_1991.csv\n",
      "2024-06-02 20:19:12,905 | 6540 - Read data from /home/max/Desktop/census/preprocessing/census_1991/data/dati-cpa_1991\\R18_DatiCPA_1991.xls\n",
      "100%|██████████| 8782/8782 [00:00<00:00, 388581.08it/s]\n",
      "2024-06-02 20:19:14,244 | 6540 - Make DataFrame\n",
      "2024-06-02 20:19:14,318 | 6540 - Save data to /home/max/Desktop/census/preprocessing/census_1991/data/Sezioni di Censimento/R18_DatiCPA_1991.csv\n",
      "2024-06-02 20:19:14,497 | 6540 - Read data from /home/max/Desktop/census/preprocessing/census_1991/data/dati-cpa_1991\\R02_DatiCPA_1991.xls\n",
      "100%|██████████| 1163/1163 [00:00<00:00, 833272.22it/s]\n",
      "2024-06-02 20:19:14,677 | 6540 - Make DataFrame\n",
      "2024-06-02 20:19:14,694 | 6540 - Save data to /home/max/Desktop/census/preprocessing/census_1991/data/Sezioni di Censimento/R02_DatiCPA_1991.csv\n",
      "2024-06-02 20:19:14,842 | 6540 - Read data from /home/max/Desktop/census/preprocessing/census_1991/data/dati-cpa_1991\\R09_DatiCPA_1991.xls\n",
      "100%|██████████| 22875/22875 [00:00<00:00, 367033.29it/s]\n",
      "2024-06-02 20:19:18,358 | 6540 - Make DataFrame\n",
      "2024-06-02 20:19:18,557 | 6540 - Save data to /home/max/Desktop/census/preprocessing/census_1991/data/Sezioni di Censimento/R09_DatiCPA_1991.csv\n",
      "2024-06-02 20:19:19,085 | 6540 - Read data from /home/max/Desktop/census/preprocessing/census_1991/data/dati-cpa_1991\\R03_DatiCPA_1991.xls\n",
      "100%|██████████| 37967/37967 [00:00<00:00, 359499.06it/s]\n",
      "2024-06-02 20:19:25,082 | 6540 - Make DataFrame\n",
      "2024-06-02 20:19:25,480 | 6540 - Save data to /home/max/Desktop/census/preprocessing/census_1991/data/Sezioni di Censimento/R03_DatiCPA_1991.csv\n",
      "2024-06-02 20:19:26,330 | 6540 - Read data from /home/max/Desktop/census/preprocessing/census_1991/data/dati-cpa_1991\\R16_DatiCPA_1991.xls\n",
      "100%|██████████| 17046/17046 [00:00<00:00, 81532.89it/s]\n",
      "2024-06-02 20:19:29,112 | 6540 - Make DataFrame\n",
      "2024-06-02 20:19:29,308 | 6540 - Save data to /home/max/Desktop/census/preprocessing/census_1991/data/Sezioni di Censimento/R16_DatiCPA_1991.csv\n",
      "2024-06-02 20:19:29,667 | 6540 - Download census data completed and saved to /home/max/Desktop/census/preprocessing/census_1991\n",
      "2024-06-02 20:19:29,668 | 6540 - Make folder for 1991' census data and geodata.\n",
      "2024-06-02 20:19:29,668 | 6540 - Folder created at /home/max/Desktop/census/preprocessing/census_1991.\n",
      "2024-06-02 20:19:29,668 | 6540 - Download census geodata\n",
      "2024-06-02 20:19:29,669 | 6540 - Download census data | https://www.istat.it/storage/cartografia/basi_territoriali/WGS_84_UTM/1991/R15_91_WGS84.zip\n"
     ]
    },
    {
     "data": {
      "text/plain": [
       "Downloading...:   0%|          | 0/11061001 [00:00<?, ?it/s]"
      ],
      "application/vnd.jupyter.widget-view+json": {
       "version_major": 2,
       "version_minor": 0,
       "model_id": "31120f7824ea4c6c9e1861738588506c"
      }
     },
     "metadata": {},
     "output_type": "display_data"
    },
    {
     "name": "stderr",
     "output_type": "stream",
     "text": [
      "2024-06-02 20:19:33,786 | 6540 - Download completed\n",
      "2024-06-02 20:19:33,786 | 6540 - Unzip file\n",
      "2024-06-02 20:19:33,919 | 6540 - Deleting zip file | /home/max/Desktop/census/preprocessing/census_1991/geodata/R15_91_WGS84.zip\n",
      "2024-06-02 20:19:33,921 | 6540 - File deleted\n",
      "2024-06-02 20:19:33,921 | 6540 - Download census geodata completed and saved to /home/max/Desktop/census/preprocessing/census_1991/geodata\n",
      "2024-06-02 20:19:33,922 | 6540 - Make folder for 1991' census data and geodata.\n",
      "2024-06-02 20:19:33,922 | 6540 - Folder created at /home/max/Desktop/census/preprocessing/census_1991.\n",
      "2024-06-02 20:19:33,923 | 6540 - Download administrative boundaries\n",
      "2024-06-02 20:19:33,924 | 6540 - Download census data | https://www.istat.it/storage/cartografia/confini_amministrativi/non_generalizzati/Limiti1991.zip\n"
     ]
    },
    {
     "data": {
      "text/plain": [
       "Downloading...:   0%|          | 0/54627059 [00:00<?, ?it/s]"
      ],
      "application/vnd.jupyter.widget-view+json": {
       "version_major": 2,
       "version_minor": 0,
       "model_id": "d5009a8d152b4585bf05b46d133e08ed"
      }
     },
     "metadata": {},
     "output_type": "display_data"
    },
    {
     "name": "stderr",
     "output_type": "stream",
     "text": [
      "2024-06-02 20:19:54,487 | 6540 - Download completed\n",
      "2024-06-02 20:19:54,488 | 6540 - Unzip file\n",
      "2024-06-02 20:19:55,080 | 6540 - Deleting zip file | /home/max/Desktop/census/preprocessing/census_1991/administrative_boundaries/Limiti1991.zip\n",
      "2024-06-02 20:19:55,085 | 6540 - File deleted\n",
      "2024-06-02 20:19:55,086 | 6540 - Download administrative boundaries completed and saved to /home/max/Desktop/census/preprocessing/census_1991\n",
      "2024-06-02 20:19:55,086 | 6540 - Start download census data for year 2001\n",
      "2024-06-02 20:19:55,086 | 6540 - Make folder for 2001' census data and geodata.\n",
      "2024-06-02 20:19:55,086 | 6540 - Folder created at /home/max/Desktop/census/preprocessing/census_2001.\n",
      "2024-06-02 20:19:55,087 | 6540 - Download census data\n",
      "2024-06-02 20:19:55,087 | 6540 - Download census data | https://www.istat.it/storage/cartografia/variabili-censuarie/dati-cpa_2001.zip\n"
     ]
    },
    {
     "data": {
      "text/plain": [
       "Downloading...:   0%|          | 0/74237908 [00:00<?, ?it/s]"
      ],
      "application/vnd.jupyter.widget-view+json": {
       "version_major": 2,
       "version_minor": 0,
       "model_id": "001fe80d47ca454aada546ef3c394426"
      }
     },
     "metadata": {},
     "output_type": "display_data"
    },
    {
     "name": "stderr",
     "output_type": "stream",
     "text": [
      "2024-06-02 20:20:22,539 | 6540 - Download completed\n",
      "2024-06-02 20:20:22,540 | 6540 - Unzip file\n",
      "2024-06-02 20:20:23,865 | 6540 - Deleting zip file | /home/max/Desktop/census/preprocessing/census_2001/data/dati-cpa_2001.zip\n",
      "2024-06-02 20:20:23,872 | 6540 - File deleted\n",
      "2024-06-02 20:20:23,875 | 6540 - Convert xls to csv for 2001\n",
      "2024-06-02 20:20:23,875 | 6540 - Read data from /home/max/Desktop/census/preprocessing/census_2001/data/dati-cpa_2001\\R20_DatiCPA_2001.xls\n",
      "2024-06-02 20:20:25,389 | 6540 - Save data to /home/max/Desktop/census/preprocessing/census_2001/data/Sezioni di Censimento/tracciato_2001_sezioni.csv\n",
      "2024-06-02 20:20:25,391 | 6540 - Read data from /home/max/Desktop/census/preprocessing/census_2001/data/dati-cpa_2001\\R20_DatiCPA_2001.xls\n",
      "100%|██████████| 10296/10296 [00:00<00:00, 439059.28it/s]\n",
      "2024-06-02 20:20:27,022 | 6540 - Make DataFrame\n",
      "2024-06-02 20:20:27,098 | 6540 - Save data to /home/max/Desktop/census/preprocessing/census_2001/data/Sezioni di Censimento/R20_DatiCPA_2001.csv\n",
      "2024-06-02 20:20:27,301 | 6540 - Read data from /home/max/Desktop/census/preprocessing/census_2001/data/dati-cpa_2001\\R12_DatiCPA_2001.xls\n",
      "100%|██████████| 27876/27876 [00:00<00:00, 381479.51it/s]\n",
      "2024-06-02 20:20:31,560 | 6540 - Make DataFrame\n",
      "2024-06-02 20:20:31,808 | 6540 - Save data to /home/max/Desktop/census/preprocessing/census_2001/data/Sezioni di Censimento/R12_DatiCPA_2001.csv\n",
      "2024-06-02 20:20:32,428 | 6540 - Read data from /home/max/Desktop/census/preprocessing/census_2001/data/dati-cpa_2001\\R18_DatiCPA_2001.xls\n",
      "100%|██████████| 11258/11258 [00:00<00:00, 365540.88it/s]\n",
      "2024-06-02 20:20:34,118 | 6540 - Make DataFrame\n",
      "2024-06-02 20:20:34,203 | 6540 - Save data to /home/max/Desktop/census/preprocessing/census_2001/data/Sezioni di Censimento/R18_DatiCPA_2001.csv\n",
      "2024-06-02 20:20:34,417 | 6540 - Read data from /home/max/Desktop/census/preprocessing/census_2001/data/dati-cpa_2001\\R15_DatiCPA_2001.xls\n",
      "100%|██████████| 21632/21632 [00:00<00:00, 379583.92it/s]\n",
      "2024-06-02 20:20:37,776 | 6540 - Make DataFrame\n",
      "2024-06-02 20:20:37,957 | 6540 - Save data to /home/max/Desktop/census/preprocessing/census_2001/data/Sezioni di Censimento/R15_DatiCPA_2001.csv\n",
      "2024-06-02 20:20:38,447 | 6540 - Read data from /home/max/Desktop/census/preprocessing/census_2001/data/dati-cpa_2001\\R04_DatiCPA_2001.xls\n",
      "100%|██████████| 9805/9805 [00:00<00:00, 435223.62it/s]\n",
      "2024-06-02 20:20:39,923 | 6540 - Make DataFrame\n",
      "2024-06-02 20:20:40,000 | 6540 - Save data to /home/max/Desktop/census/preprocessing/census_2001/data/Sezioni di Censimento/R04_DatiCPA_2001.csv\n",
      "2024-06-02 20:20:40,188 | 6540 - Read data from /home/max/Desktop/census/preprocessing/census_2001/data/dati-cpa_2001\\R19_DatiCPA_2001.xls\n",
      "100%|██████████| 33129/33129 [00:00<00:00, 392030.07it/s]\n",
      "2024-06-02 20:20:45,254 | 6540 - Make DataFrame\n",
      "2024-06-02 20:20:45,554 | 6540 - Save data to /home/max/Desktop/census/preprocessing/census_2001/data/Sezioni di Censimento/R19_DatiCPA_2001.csv\n",
      "2024-06-02 20:20:46,287 | 6540 - Read data from /home/max/Desktop/census/preprocessing/census_2001/data/dati-cpa_2001\\R08_DatiCPA_2001.xls\n",
      "100%|██████████| 34921/34921 [00:00<00:00, 352875.13it/s]\n",
      "2024-06-02 20:20:51,708 | 6540 - Make DataFrame\n",
      "2024-06-02 20:20:52,015 | 6540 - Save data to /home/max/Desktop/census/preprocessing/census_2001/data/Sezioni di Censimento/R08_DatiCPA_2001.csv\n",
      "2024-06-02 20:20:52,776 | 6540 - Read data from /home/max/Desktop/census/preprocessing/census_2001/data/dati-cpa_2001\\R07_DatiCPA_2001.xls\n",
      "100%|██████████| 10192/10192 [00:00<00:00, 447856.45it/s]\n",
      "2024-06-02 20:20:54,322 | 6540 - Make DataFrame\n",
      "2024-06-02 20:20:54,395 | 6540 - Save data to /home/max/Desktop/census/preprocessing/census_2001/data/Sezioni di Censimento/R07_DatiCPA_2001.csv\n",
      "2024-06-02 20:20:54,594 | 6540 - Read data from /home/max/Desktop/census/preprocessing/census_2001/data/dati-cpa_2001\\R02_DatiCPA_2001.xls\n",
      "100%|██████████| 1463/1463 [00:00<00:00, 884825.78it/s]\n",
      "2024-06-02 20:20:54,816 | 6540 - Make DataFrame\n",
      "2024-06-02 20:20:54,830 | 6540 - Save data to /home/max/Desktop/census/preprocessing/census_2001/data/Sezioni di Censimento/R02_DatiCPA_2001.csv\n",
      "2024-06-02 20:20:54,858 | 6540 - Read data from /home/max/Desktop/census/preprocessing/census_2001/data/dati-cpa_2001\\R09_DatiCPA_2001.xls\n",
      "100%|██████████| 27081/27081 [00:00<00:00, 419807.10it/s]\n",
      "2024-06-02 20:20:59,065 | 6540 - Make DataFrame\n",
      "2024-06-02 20:20:59,303 | 6540 - Save data to /home/max/Desktop/census/preprocessing/census_2001/data/Sezioni di Censimento/R09_DatiCPA_2001.csv\n",
      "2024-06-02 20:20:59,909 | 6540 - Read data from /home/max/Desktop/census/preprocessing/census_2001/data/dati-cpa_2001\\R14_DatiCPA_2001.xls\n",
      "100%|██████████| 2226/2226 [00:00<00:00, 659126.06it/s]\n",
      "2024-06-02 20:21:00,245 | 6540 - Make DataFrame\n",
      "2024-06-02 20:21:00,266 | 6540 - Save data to /home/max/Desktop/census/preprocessing/census_2001/data/Sezioni di Censimento/R14_DatiCPA_2001.csv\n",
      "2024-06-02 20:21:00,310 | 6540 - Read data from /home/max/Desktop/census/preprocessing/census_2001/data/dati-cpa_2001\\R01_DatiCPA_2001.xls\n",
      "100%|██████████| 29805/29805 [00:00<00:00, 148176.56it/s]\n",
      "2024-06-02 20:21:05,092 | 6540 - Make DataFrame\n",
      "2024-06-02 20:21:05,380 | 6540 - Save data to /home/max/Desktop/census/preprocessing/census_2001/data/Sezioni di Censimento/R01_DatiCPA_2001.csv\n",
      "2024-06-02 20:21:05,952 | 6540 - Read data from /home/max/Desktop/census/preprocessing/census_2001/data/dati-cpa_2001\\R16_DatiCPA_2001.xls\n",
      "100%|██████████| 20050/20050 [00:00<00:00, 342554.65it/s]\n",
      "2024-06-02 20:21:09,060 | 6540 - Make DataFrame\n",
      "2024-06-02 20:21:09,220 | 6540 - Save data to /home/max/Desktop/census/preprocessing/census_2001/data/Sezioni di Censimento/R16_DatiCPA_2001.csv\n",
      "2024-06-02 20:21:09,610 | 6540 - Read data from /home/max/Desktop/census/preprocessing/census_2001/data/dati-cpa_2001\\R05_DatiCPA_2001.xls\n",
      "100%|██████████| 30645/30645 [00:00<00:00, 389458.20it/s]\n",
      "2024-06-02 20:21:14,287 | 6540 - Make DataFrame\n",
      "2024-06-02 20:21:14,562 | 6540 - Save data to /home/max/Desktop/census/preprocessing/census_2001/data/Sezioni di Censimento/R05_DatiCPA_2001.csv\n",
      "2024-06-02 20:21:15,244 | 6540 - Read data from /home/max/Desktop/census/preprocessing/census_2001/data/dati-cpa_2001\\R03_DatiCPA_2001.xls\n",
      "100%|██████████| 45129/45129 [00:00<00:00, 406459.09it/s]\n",
      "2024-06-02 20:21:22,265 | 6540 - Make DataFrame\n",
      "2024-06-02 20:21:22,763 | 6540 - Save data to /home/max/Desktop/census/preprocessing/census_2001/data/Sezioni di Censimento/R03_DatiCPA_2001.csv\n",
      "2024-06-02 20:21:23,748 | 6540 - Read data from /home/max/Desktop/census/preprocessing/census_2001/data/dati-cpa_2001\\R06_DatiCPA_2001.xls\n",
      "100%|██████████| 6933/6933 [00:00<00:00, 483017.62it/s]\n",
      "2024-06-02 20:21:24,792 | 6540 - Make DataFrame\n",
      "2024-06-02 20:21:24,846 | 6540 - Save data to /home/max/Desktop/census/preprocessing/census_2001/data/Sezioni di Censimento/R06_DatiCPA_2001.csv\n",
      "2024-06-02 20:21:24,994 | 6540 - Read data from /home/max/Desktop/census/preprocessing/census_2001/data/dati-cpa_2001\\R10_DatiCPA_2001.xls\n",
      "100%|██████████| 6808/6808 [00:00<00:00, 592435.98it/s]\n",
      "2024-06-02 20:21:26,151 | 6540 - Make DataFrame\n",
      "2024-06-02 20:21:26,205 | 6540 - Save data to /home/max/Desktop/census/preprocessing/census_2001/data/Sezioni di Censimento/R10_DatiCPA_2001.csv\n",
      "2024-06-02 20:21:26,335 | 6540 - Read data from /home/max/Desktop/census/preprocessing/census_2001/data/dati-cpa_2001\\R13_DatiCPA_2001.xls\n",
      "100%|██████████| 7972/7972 [00:00<00:00, 413419.94it/s]\n",
      "2024-06-02 20:21:27,521 | 6540 - Make DataFrame\n",
      "2024-06-02 20:21:27,608 | 6540 - Save data to /home/max/Desktop/census/preprocessing/census_2001/data/Sezioni di Censimento/R13_DatiCPA_2001.csv\n",
      "2024-06-02 20:21:27,768 | 6540 - Read data from /home/max/Desktop/census/preprocessing/census_2001/data/dati-cpa_2001\\R17_DatiCPA_2001.xls\n",
      "100%|██████████| 4284/4284 [00:00<00:00, 403521.26it/s]\n",
      "2024-06-02 20:21:28,416 | 6540 - Make DataFrame\n",
      "2024-06-02 20:21:28,452 | 6540 - Save data to /home/max/Desktop/census/preprocessing/census_2001/data/Sezioni di Censimento/R17_DatiCPA_2001.csv\n",
      "2024-06-02 20:21:28,602 | 6540 - Read data from /home/max/Desktop/census/preprocessing/census_2001/data/dati-cpa_2001\\R11_DatiCPA_2001.xls\n",
      "100%|██████████| 10653/10653 [00:00<00:00, 453973.83it/s]\n",
      "2024-06-02 20:21:30,181 | 6540 - Make DataFrame\n",
      "2024-06-02 20:21:30,281 | 6540 - Save data to /home/max/Desktop/census/preprocessing/census_2001/data/Sezioni di Censimento/R11_DatiCPA_2001.csv\n",
      "2024-06-02 20:21:30,515 | 6540 - Download census data completed and saved to /home/max/Desktop/census/preprocessing/census_2001\n",
      "2024-06-02 20:21:30,516 | 6540 - Make folder for 2001' census data and geodata.\n",
      "2024-06-02 20:21:30,516 | 6540 - Folder created at /home/max/Desktop/census/preprocessing/census_2001.\n",
      "2024-06-02 20:21:30,517 | 6540 - Download census geodata\n",
      "2024-06-02 20:21:30,517 | 6540 - Download census data | https://www.istat.it/storage/cartografia/basi_territoriali/WGS_84_UTM/2001/R15_01_WGS84.zip\n"
     ]
    },
    {
     "data": {
      "text/plain": [
       "Downloading...:   0%|          | 0/19416397 [00:00<?, ?it/s]"
      ],
      "application/vnd.jupyter.widget-view+json": {
       "version_major": 2,
       "version_minor": 0,
       "model_id": "e0457c8bcaaa4583abe7f7dfac3e7481"
      }
     },
     "metadata": {},
     "output_type": "display_data"
    },
    {
     "name": "stderr",
     "output_type": "stream",
     "text": [
      "2024-06-02 20:21:35,539 | 6540 - Download completed\n",
      "2024-06-02 20:21:35,539 | 6540 - Unzip file\n",
      "2024-06-02 20:21:35,744 | 6540 - Deleting zip file | /home/max/Desktop/census/preprocessing/census_2001/geodata/R15_01_WGS84.zip\n",
      "2024-06-02 20:21:35,747 | 6540 - File deleted\n",
      "2024-06-02 20:21:35,747 | 6540 - Download census geodata completed and saved to /home/max/Desktop/census/preprocessing/census_2001/geodata\n",
      "2024-06-02 20:21:35,748 | 6540 - Make folder for 2001' census data and geodata.\n",
      "2024-06-02 20:21:35,748 | 6540 - Folder created at /home/max/Desktop/census/preprocessing/census_2001.\n",
      "2024-06-02 20:21:35,749 | 6540 - Download administrative boundaries\n",
      "2024-06-02 20:21:35,750 | 6540 - Download census data | https://www.istat.it/storage/cartografia/confini_amministrativi/non_generalizzati/Limiti2001.zip\n"
     ]
    },
    {
     "data": {
      "text/plain": [
       "Downloading...:   0%|          | 0/76798785 [00:00<?, ?it/s]"
      ],
      "application/vnd.jupyter.widget-view+json": {
       "version_major": 2,
       "version_minor": 0,
       "model_id": "c65b0d627d7d4901b5696430a1f7be97"
      }
     },
     "metadata": {},
     "output_type": "display_data"
    },
    {
     "name": "stderr",
     "output_type": "stream",
     "text": [
      "2024-06-02 20:22:03,154 | 6540 - Download completed\n",
      "2024-06-02 20:22:03,155 | 6540 - Unzip file\n",
      "2024-06-02 20:22:03,808 | 6540 - Deleting zip file | /home/max/Desktop/census/preprocessing/census_2001/administrative_boundaries/Limiti2001.zip\n",
      "2024-06-02 20:22:03,815 | 6540 - File deleted\n",
      "2024-06-02 20:22:03,820 | 6540 - Download administrative boundaries completed and saved to /home/max/Desktop/census/preprocessing/census_2001\n",
      "2024-06-02 20:22:03,820 | 6540 - Start download census data for year 2011\n",
      "2024-06-02 20:22:03,821 | 6540 - Make folder for 2011' census data and geodata.\n",
      "2024-06-02 20:22:03,821 | 6540 - Folder created at /home/max/Desktop/census/preprocessing/census_2011.\n",
      "2024-06-02 20:22:03,822 | 6540 - Download census data\n",
      "2024-06-02 20:22:03,822 | 6540 - Download census data | https://www.istat.it/storage/cartografia/variabili-censuarie/dati-cpa_2011.zip\n"
     ]
    },
    {
     "data": {
      "text/plain": [
       "Downloading...:   0%|          | 0/52442848 [00:00<?, ?it/s]"
      ],
      "application/vnd.jupyter.widget-view+json": {
       "version_major": 2,
       "version_minor": 0,
       "model_id": "8885298d611f469e947685bc19ae1daa"
      }
     },
     "metadata": {},
     "output_type": "display_data"
    },
    {
     "name": "stderr",
     "output_type": "stream",
     "text": [
      "2024-06-02 20:22:22,612 | 6540 - Download completed\n",
      "2024-06-02 20:22:22,612 | 6540 - Unzip file\n",
      "2024-06-02 20:22:23,355 | 6540 - Deleting zip file | /home/max/Desktop/census/preprocessing/census_2011/data/dati-cpa_2011.zip\n",
      "2024-06-02 20:22:23,361 | 6540 - File deleted\n",
      "2024-06-02 20:22:23,363 | 6540 - Download census data completed and saved to /home/max/Desktop/census/preprocessing/census_2011\n",
      "2024-06-02 20:22:23,364 | 6540 - Make folder for 2011' census data and geodata.\n",
      "2024-06-02 20:22:23,364 | 6540 - Folder created at /home/max/Desktop/census/preprocessing/census_2011.\n",
      "2024-06-02 20:22:23,364 | 6540 - Download census geodata\n",
      "2024-06-02 20:22:23,365 | 6540 - Download census data | https://www.istat.it/storage/cartografia/basi_territoriali/WGS_84_UTM/2011/R15_11_WGS84.zip\n"
     ]
    },
    {
     "data": {
      "text/plain": [
       "Downloading...:   0%|          | 0/21913253 [00:00<?, ?it/s]"
      ],
      "application/vnd.jupyter.widget-view+json": {
       "version_major": 2,
       "version_minor": 0,
       "model_id": "5c4e9f8c559c457685f5f012bf8384ec"
      }
     },
     "metadata": {},
     "output_type": "display_data"
    },
    {
     "name": "stderr",
     "output_type": "stream",
     "text": [
      "2024-06-02 20:22:29,093 | 6540 - Download completed\n",
      "2024-06-02 20:22:29,094 | 6540 - Unzip file\n",
      "2024-06-02 20:22:29,284 | 6540 - Deleting zip file | /home/max/Desktop/census/preprocessing/census_2011/geodata/R15_11_WGS84.zip\n",
      "2024-06-02 20:22:29,287 | 6540 - File deleted\n",
      "2024-06-02 20:22:29,287 | 6540 - Download census geodata completed and saved to /home/max/Desktop/census/preprocessing/census_2011/geodata\n",
      "2024-06-02 20:22:29,288 | 6540 - Make folder for 2011' census data and geodata.\n",
      "2024-06-02 20:22:29,289 | 6540 - Folder created at /home/max/Desktop/census/preprocessing/census_2011.\n",
      "2024-06-02 20:22:29,289 | 6540 - Download administrative boundaries\n",
      "2024-06-02 20:22:29,289 | 6540 - Download census data | https://www.istat.it/storage/cartografia/confini_amministrativi/non_generalizzati/Limiti2011.zip\n"
     ]
    },
    {
     "data": {
      "text/plain": [
       "Downloading...:   0%|          | 0/67263737 [00:00<?, ?it/s]"
      ],
      "application/vnd.jupyter.widget-view+json": {
       "version_major": 2,
       "version_minor": 0,
       "model_id": "404fce677255449dae6cdfad33571150"
      }
     },
     "metadata": {},
     "output_type": "display_data"
    },
    {
     "name": "stderr",
     "output_type": "stream",
     "text": [
      "2024-06-02 20:22:45,871 | 6540 - Download completed\n",
      "2024-06-02 20:22:45,871 | 6540 - Unzip file\n",
      "2024-06-02 20:22:46,610 | 6540 - Deleting zip file | /home/max/Desktop/census/preprocessing/census_2011/administrative_boundaries/Limiti2011.zip\n",
      "2024-06-02 20:22:46,616 | 6540 - File deleted\n",
      "2024-06-02 20:22:46,618 | 6540 - Download administrative boundaries completed and saved to /home/max/Desktop/census/preprocessing/census_2011\n",
      "2024-06-02 20:22:46,619 | 6540 - End analysis in 0:04:43.299967\n",
      "2024-06-02 20:22:46,619 | 6540 - Census data downloaded to /home/max/Desktop/census\n"
     ]
    },
    {
     "name": "stdout",
     "output_type": "stream",
     "text": [
      "CPU times: user 2min 17s, sys: 7.38 s, total: 2min 25s\n",
      "Wall time: 4min 43s\n"
     ]
    },
    {
     "data": {
      "text/plain": [
       "PosixPath('/home/max/Desktop/census')"
      ]
     },
     "execution_count": 3,
     "metadata": {},
     "output_type": "execute_result"
    }
   ],
   "execution_count": 3
  },
  {
   "cell_type": "markdown",
   "source": [
    "## Conclusione"
   ],
   "metadata": {
    "collapsed": false
   }
  },
  {
   "cell_type": "markdown",
   "source": [
    "Al termine del processo di download tutti i dati grezzi saranno visibili nel path di destinazione."
   ],
   "metadata": {
    "collapsed": false
   }
  }
 ],
 "metadata": {
  "kernelspec": {
   "display_name": "Python 3",
   "language": "python",
   "name": "python3"
  },
  "language_info": {
   "codemirror_mode": {
    "name": "ipython",
    "version": 2
   },
   "file_extension": ".py",
   "mimetype": "text/x-python",
   "name": "python",
   "nbconvert_exporter": "python",
   "pygments_lexer": "ipython2",
   "version": "2.7.6"
  }
 },
 "nbformat": 4,
 "nbformat_minor": 0
}
