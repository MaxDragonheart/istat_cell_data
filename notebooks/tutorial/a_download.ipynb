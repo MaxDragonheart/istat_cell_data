{
 "cells": [
  {
   "cell_type": "markdown",
   "source": [
    "# DOWNLOAD dei dati censuari grezzi"
   ],
   "metadata": {
    "collapsed": false
   }
  },
  {
   "cell_type": "markdown",
   "source": [
    "L'installazione di ISTAT Cell Data si effettua con il classico `pip install istatcelldata`. Se si ha la necessità di installare una versione specifica si può fare riferimento [qui](istatcelldata)."
   ],
   "metadata": {
    "collapsed": false
   }
  },
  {
   "cell_type": "markdown",
   "source": [
    "## Import delle librerie"
   ],
   "metadata": {
    "collapsed": false
   }
  },
  {
   "cell_type": "code",
   "source": [
    "from pathlib import Path\n",
    "from istatcelldata.executor.download import download_census"
   ],
   "metadata": {
    "collapsed": false,
    "ExecuteTime": {
     "end_time": "2024-10-10T15:56:00.162829Z",
     "start_time": "2024-10-10T15:55:59.890946Z"
    }
   },
   "outputs": [],
   "execution_count": 1
  },
  {
   "cell_type": "markdown",
   "source": [
    "## Definizione del path di destinazione dei dati"
   ],
   "metadata": {
    "collapsed": false
   }
  },
  {
   "cell_type": "code",
   "source": "output_path = Path('/home/max/Desktop/census_tutorial')",
   "metadata": {
    "collapsed": false,
    "ExecuteTime": {
     "end_time": "2024-10-10T15:56:00.173577Z",
     "start_time": "2024-10-10T15:56:00.170682Z"
    }
   },
   "outputs": [],
   "execution_count": 2
  },
  {
   "cell_type": "markdown",
   "source": [
    "## Download"
   ],
   "metadata": {
    "collapsed": false
   }
  },
  {
   "cell_type": "code",
   "source": [
    "%%time\n",
    "\n",
    "download_census(years=[1991, 2001, 2011, 2021], region_list=[15], output_data_folder=output_path)"
   ],
   "metadata": {
    "collapsed": false,
    "jupyter": {
     "is_executing": true
    },
    "ExecuteTime": {
     "start_time": "2024-10-10T15:56:00.287850Z"
    }
   },
   "outputs": [
    {
     "name": "stdout",
     "output_type": "stream",
     "text": [
      "INFO | 47484 | 2024-10-10 17:56:00,288 | root | Inizio dell'analisi alle 2024-10-10 17:56:00.288777\n",
      "INFO | 47484 | 2024-10-10 17:56:00,288 | root | Inizio dell'analisi alle 2024-10-10 17:56:00.288777\n",
      "INFO | 47484 | 2024-10-10 17:56:00,288 | root | Inizio dell'analisi alle 2024-10-10 17:56:00.288777\n",
      "INFO | 47484 | 2024-10-10 17:56:00,288 | root | Inizio dell'analisi alle 2024-10-10 17:56:00.288777\n",
      "INFO | 47484 | 2024-10-10 17:56:00,288 | root | Inizio dell'analisi alle 2024-10-10 17:56:00.288777\n",
      "INFO | 47484 | 2024-10-10 17:56:00,288 | root | Inizio dell'analisi alle 2024-10-10 17:56:00.288777\n",
      "INFO | 47484 | 2024-10-10 17:56:00,288 | root | Inizio dell'analisi alle 2024-10-10 17:56:00.288777\n",
      "INFO | 47484 | 2024-10-10 17:56:00,288 | root | Inizio dell'analisi alle 2024-10-10 17:56:00.288777\n",
      "INFO | 47484 | 2024-10-10 17:56:00,291 | root | Scarico i dati per il censimento del 1991\n",
      "INFO | 47484 | 2024-10-10 17:56:00,291 | root | Scarico i dati per il censimento del 1991\n",
      "INFO | 47484 | 2024-10-10 17:56:00,291 | root | Scarico i dati per il censimento del 1991\n",
      "INFO | 47484 | 2024-10-10 17:56:00,291 | root | Scarico i dati per il censimento del 1991\n",
      "INFO | 47484 | 2024-10-10 17:56:00,291 | root | Scarico i dati per il censimento del 1991\n",
      "INFO | 47484 | 2024-10-10 17:56:00,291 | root | Scarico i dati per il censimento del 1991\n",
      "INFO | 47484 | 2024-10-10 17:56:00,291 | root | Scarico i dati per il censimento del 1991\n",
      "INFO | 47484 | 2024-10-10 17:56:00,291 | root | Scarico i dati per il censimento del 1991\n",
      "INFO | 47484 | 2024-10-10 17:56:00,293 | root | Creazione della cartella di destinazione per i dati in /home/max/Desktop/census_tutorial/preprocessing\n",
      "INFO | 47484 | 2024-10-10 17:56:00,293 | root | Creazione della cartella di destinazione per i dati in /home/max/Desktop/census_tutorial/preprocessing\n",
      "INFO | 47484 | 2024-10-10 17:56:00,293 | root | Creazione della cartella di destinazione per i dati in /home/max/Desktop/census_tutorial/preprocessing\n",
      "INFO | 47484 | 2024-10-10 17:56:00,293 | root | Creazione della cartella di destinazione per i dati in /home/max/Desktop/census_tutorial/preprocessing\n",
      "INFO | 47484 | 2024-10-10 17:56:00,293 | root | Creazione della cartella di destinazione per i dati in /home/max/Desktop/census_tutorial/preprocessing\n",
      "INFO | 47484 | 2024-10-10 17:56:00,293 | root | Creazione della cartella di destinazione per i dati in /home/max/Desktop/census_tutorial/preprocessing\n",
      "INFO | 47484 | 2024-10-10 17:56:00,293 | root | Creazione della cartella di destinazione per i dati in /home/max/Desktop/census_tutorial/preprocessing\n",
      "INFO | 47484 | 2024-10-10 17:56:00,293 | root | Creazione della cartella di destinazione per i dati in /home/max/Desktop/census_tutorial/preprocessing\n",
      "INFO | 47484 | 2024-10-10 17:56:00,296 | root | Creazione della cartella per i dati del censimento 1991.\n",
      "INFO | 47484 | 2024-10-10 17:56:00,296 | root | Creazione della cartella per i dati del censimento 1991.\n",
      "INFO | 47484 | 2024-10-10 17:56:00,296 | root | Creazione della cartella per i dati del censimento 1991.\n",
      "INFO | 47484 | 2024-10-10 17:56:00,296 | root | Creazione della cartella per i dati del censimento 1991.\n",
      "INFO | 47484 | 2024-10-10 17:56:00,296 | root | Creazione della cartella per i dati del censimento 1991.\n",
      "INFO | 47484 | 2024-10-10 17:56:00,296 | root | Creazione della cartella per i dati del censimento 1991.\n",
      "INFO | 47484 | 2024-10-10 17:56:00,296 | root | Creazione della cartella per i dati del censimento 1991.\n",
      "INFO | 47484 | 2024-10-10 17:56:00,296 | root | Creazione della cartella per i dati del censimento 1991.\n",
      "INFO | 47484 | 2024-10-10 17:56:00,298 | root | Cartella creata o già esistente: /home/max/Desktop/census_tutorial/preprocessing/census_1991\n",
      "INFO | 47484 | 2024-10-10 17:56:00,298 | root | Cartella creata o già esistente: /home/max/Desktop/census_tutorial/preprocessing/census_1991\n",
      "INFO | 47484 | 2024-10-10 17:56:00,298 | root | Cartella creata o già esistente: /home/max/Desktop/census_tutorial/preprocessing/census_1991\n",
      "INFO | 47484 | 2024-10-10 17:56:00,298 | root | Cartella creata o già esistente: /home/max/Desktop/census_tutorial/preprocessing/census_1991\n",
      "INFO | 47484 | 2024-10-10 17:56:00,298 | root | Cartella creata o già esistente: /home/max/Desktop/census_tutorial/preprocessing/census_1991\n",
      "INFO | 47484 | 2024-10-10 17:56:00,298 | root | Cartella creata o già esistente: /home/max/Desktop/census_tutorial/preprocessing/census_1991\n",
      "INFO | 47484 | 2024-10-10 17:56:00,298 | root | Cartella creata o già esistente: /home/max/Desktop/census_tutorial/preprocessing/census_1991\n",
      "INFO | 47484 | 2024-10-10 17:56:00,298 | root | Cartella creata o già esistente: /home/max/Desktop/census_tutorial/preprocessing/census_1991\n",
      "INFO | 47484 | 2024-10-10 17:56:00,300 | root | Download dei dati da https://www.istat.it/storage/cartografia/variabili-censuarie/dati-cpa_1991.zip\n",
      "INFO | 47484 | 2024-10-10 17:56:00,300 | root | Download dei dati da https://www.istat.it/storage/cartografia/variabili-censuarie/dati-cpa_1991.zip\n",
      "INFO | 47484 | 2024-10-10 17:56:00,300 | root | Download dei dati da https://www.istat.it/storage/cartografia/variabili-censuarie/dati-cpa_1991.zip\n",
      "INFO | 47484 | 2024-10-10 17:56:00,300 | root | Download dei dati da https://www.istat.it/storage/cartografia/variabili-censuarie/dati-cpa_1991.zip\n",
      "INFO | 47484 | 2024-10-10 17:56:00,300 | root | Download dei dati da https://www.istat.it/storage/cartografia/variabili-censuarie/dati-cpa_1991.zip\n",
      "INFO | 47484 | 2024-10-10 17:56:00,300 | root | Download dei dati da https://www.istat.it/storage/cartografia/variabili-censuarie/dati-cpa_1991.zip\n",
      "INFO | 47484 | 2024-10-10 17:56:00,300 | root | Download dei dati da https://www.istat.it/storage/cartografia/variabili-censuarie/dati-cpa_1991.zip\n",
      "INFO | 47484 | 2024-10-10 17:56:00,300 | root | Download dei dati da https://www.istat.it/storage/cartografia/variabili-censuarie/dati-cpa_1991.zip\n",
      "INFO | 47484 | 2024-10-10 17:56:00,302 | root | Inizio download dei dati dal link: https://www.istat.it/storage/cartografia/variabili-censuarie/dati-cpa_1991.zip\n",
      "INFO | 47484 | 2024-10-10 17:56:00,302 | root | Inizio download dei dati dal link: https://www.istat.it/storage/cartografia/variabili-censuarie/dati-cpa_1991.zip\n",
      "INFO | 47484 | 2024-10-10 17:56:00,302 | root | Inizio download dei dati dal link: https://www.istat.it/storage/cartografia/variabili-censuarie/dati-cpa_1991.zip\n",
      "INFO | 47484 | 2024-10-10 17:56:00,302 | root | Inizio download dei dati dal link: https://www.istat.it/storage/cartografia/variabili-censuarie/dati-cpa_1991.zip\n",
      "INFO | 47484 | 2024-10-10 17:56:00,302 | root | Inizio download dei dati dal link: https://www.istat.it/storage/cartografia/variabili-censuarie/dati-cpa_1991.zip\n",
      "INFO | 47484 | 2024-10-10 17:56:00,302 | root | Inizio download dei dati dal link: https://www.istat.it/storage/cartografia/variabili-censuarie/dati-cpa_1991.zip\n",
      "INFO | 47484 | 2024-10-10 17:56:00,302 | root | Inizio download dei dati dal link: https://www.istat.it/storage/cartografia/variabili-censuarie/dati-cpa_1991.zip\n",
      "INFO | 47484 | 2024-10-10 17:56:00,302 | root | Inizio download dei dati dal link: https://www.istat.it/storage/cartografia/variabili-censuarie/dati-cpa_1991.zip\n"
     ]
    },
    {
     "name": "stderr",
     "output_type": "stream",
     "text": [
      "In download...: 100%|██████████| 61.0M/61.0M [00:07<00:00, 8.91MB/s]"
     ]
    },
    {
     "name": "stdout",
     "output_type": "stream",
     "text": [
      "INFO | 47484 | 2024-10-10 17:56:07,599 | root | Download completato con successo in 7.30 secondi.\n",
      "INFO | 47484 | 2024-10-10 17:56:07,599 | root | Download completato con successo in 7.30 secondi.\n",
      "INFO | 47484 | 2024-10-10 17:56:07,599 | root | Download completato con successo in 7.30 secondi.\n",
      "INFO | 47484 | 2024-10-10 17:56:07,599 | root | Download completato con successo in 7.30 secondi.\n",
      "INFO | 47484 | 2024-10-10 17:56:07,599 | root | Download completato con successo in 7.30 secondi.\n",
      "INFO | 47484 | 2024-10-10 17:56:07,599 | root | Download completato con successo in 7.30 secondi.\n",
      "INFO | 47484 | 2024-10-10 17:56:07,599 | root | Download completato con successo in 7.30 secondi.\n",
      "INFO | 47484 | 2024-10-10 17:56:07,599 | root | Download completato con successo in 7.30 secondi.\n",
      "INFO | 47484 | 2024-10-10 17:56:07,602 | root | Inizio estrazione del file ZIP.\n",
      "INFO | 47484 | 2024-10-10 17:56:07,602 | root | Inizio estrazione del file ZIP.\n",
      "INFO | 47484 | 2024-10-10 17:56:07,602 | root | Inizio estrazione del file ZIP.\n",
      "INFO | 47484 | 2024-10-10 17:56:07,602 | root | Inizio estrazione del file ZIP.\n",
      "INFO | 47484 | 2024-10-10 17:56:07,602 | root | Inizio estrazione del file ZIP.\n",
      "INFO | 47484 | 2024-10-10 17:56:07,602 | root | Inizio estrazione del file ZIP.\n",
      "INFO | 47484 | 2024-10-10 17:56:07,602 | root | Inizio estrazione del file ZIP.\n",
      "INFO | 47484 | 2024-10-10 17:56:07,602 | root | Inizio estrazione del file ZIP.\n",
      "INFO | 47484 | 2024-10-10 17:56:07,604 | root | Decompressione del file /home/max/Desktop/census_tutorial/preprocessing/census_1991/data/dati-cpa_1991.zip nella cartella /home/max/Desktop/census_tutorial/preprocessing/census_1991/data.\n",
      "INFO | 47484 | 2024-10-10 17:56:07,604 | root | Decompressione del file /home/max/Desktop/census_tutorial/preprocessing/census_1991/data/dati-cpa_1991.zip nella cartella /home/max/Desktop/census_tutorial/preprocessing/census_1991/data.\n",
      "INFO | 47484 | 2024-10-10 17:56:07,604 | root | Decompressione del file /home/max/Desktop/census_tutorial/preprocessing/census_1991/data/dati-cpa_1991.zip nella cartella /home/max/Desktop/census_tutorial/preprocessing/census_1991/data.\n",
      "INFO | 47484 | 2024-10-10 17:56:07,604 | root | Decompressione del file /home/max/Desktop/census_tutorial/preprocessing/census_1991/data/dati-cpa_1991.zip nella cartella /home/max/Desktop/census_tutorial/preprocessing/census_1991/data.\n",
      "INFO | 47484 | 2024-10-10 17:56:07,604 | root | Decompressione del file /home/max/Desktop/census_tutorial/preprocessing/census_1991/data/dati-cpa_1991.zip nella cartella /home/max/Desktop/census_tutorial/preprocessing/census_1991/data.\n",
      "INFO | 47484 | 2024-10-10 17:56:07,604 | root | Decompressione del file /home/max/Desktop/census_tutorial/preprocessing/census_1991/data/dati-cpa_1991.zip nella cartella /home/max/Desktop/census_tutorial/preprocessing/census_1991/data.\n",
      "INFO | 47484 | 2024-10-10 17:56:07,604 | root | Decompressione del file /home/max/Desktop/census_tutorial/preprocessing/census_1991/data/dati-cpa_1991.zip nella cartella /home/max/Desktop/census_tutorial/preprocessing/census_1991/data.\n",
      "INFO | 47484 | 2024-10-10 17:56:07,604 | root | Decompressione del file /home/max/Desktop/census_tutorial/preprocessing/census_1991/data/dati-cpa_1991.zip nella cartella /home/max/Desktop/census_tutorial/preprocessing/census_1991/data.\n"
     ]
    },
    {
     "name": "stderr",
     "output_type": "stream",
     "text": [
      "\n"
     ]
    },
    {
     "name": "stdout",
     "output_type": "stream",
     "text": [
      "INFO | 47484 | 2024-10-10 17:56:08,726 | root | Decompressione completata. File estratti in /home/max/Desktop/census_tutorial/preprocessing/census_1991/data.\n",
      "INFO | 47484 | 2024-10-10 17:56:08,726 | root | Decompressione completata. File estratti in /home/max/Desktop/census_tutorial/preprocessing/census_1991/data.\n",
      "INFO | 47484 | 2024-10-10 17:56:08,726 | root | Decompressione completata. File estratti in /home/max/Desktop/census_tutorial/preprocessing/census_1991/data.\n",
      "INFO | 47484 | 2024-10-10 17:56:08,726 | root | Decompressione completata. File estratti in /home/max/Desktop/census_tutorial/preprocessing/census_1991/data.\n",
      "INFO | 47484 | 2024-10-10 17:56:08,726 | root | Decompressione completata. File estratti in /home/max/Desktop/census_tutorial/preprocessing/census_1991/data.\n",
      "INFO | 47484 | 2024-10-10 17:56:08,726 | root | Decompressione completata. File estratti in /home/max/Desktop/census_tutorial/preprocessing/census_1991/data.\n",
      "INFO | 47484 | 2024-10-10 17:56:08,726 | root | Decompressione completata. File estratti in /home/max/Desktop/census_tutorial/preprocessing/census_1991/data.\n",
      "INFO | 47484 | 2024-10-10 17:56:08,726 | root | Decompressione completata. File estratti in /home/max/Desktop/census_tutorial/preprocessing/census_1991/data.\n",
      "INFO | 47484 | 2024-10-10 17:56:08,729 | root | Eliminazione del file ZIP | /home/max/Desktop/census_tutorial/preprocessing/census_1991/data/dati-cpa_1991.zip\n",
      "INFO | 47484 | 2024-10-10 17:56:08,729 | root | Eliminazione del file ZIP | /home/max/Desktop/census_tutorial/preprocessing/census_1991/data/dati-cpa_1991.zip\n",
      "INFO | 47484 | 2024-10-10 17:56:08,729 | root | Eliminazione del file ZIP | /home/max/Desktop/census_tutorial/preprocessing/census_1991/data/dati-cpa_1991.zip\n",
      "INFO | 47484 | 2024-10-10 17:56:08,729 | root | Eliminazione del file ZIP | /home/max/Desktop/census_tutorial/preprocessing/census_1991/data/dati-cpa_1991.zip\n",
      "INFO | 47484 | 2024-10-10 17:56:08,729 | root | Eliminazione del file ZIP | /home/max/Desktop/census_tutorial/preprocessing/census_1991/data/dati-cpa_1991.zip\n",
      "INFO | 47484 | 2024-10-10 17:56:08,729 | root | Eliminazione del file ZIP | /home/max/Desktop/census_tutorial/preprocessing/census_1991/data/dati-cpa_1991.zip\n",
      "INFO | 47484 | 2024-10-10 17:56:08,729 | root | Eliminazione del file ZIP | /home/max/Desktop/census_tutorial/preprocessing/census_1991/data/dati-cpa_1991.zip\n",
      "INFO | 47484 | 2024-10-10 17:56:08,729 | root | Eliminazione del file ZIP | /home/max/Desktop/census_tutorial/preprocessing/census_1991/data/dati-cpa_1991.zip\n",
      "INFO | 47484 | 2024-10-10 17:56:08,736 | root | File ZIP eliminato con successo.\n",
      "INFO | 47484 | 2024-10-10 17:56:08,736 | root | File ZIP eliminato con successo.\n",
      "INFO | 47484 | 2024-10-10 17:56:08,736 | root | File ZIP eliminato con successo.\n",
      "INFO | 47484 | 2024-10-10 17:56:08,736 | root | File ZIP eliminato con successo.\n",
      "INFO | 47484 | 2024-10-10 17:56:08,736 | root | File ZIP eliminato con successo.\n",
      "INFO | 47484 | 2024-10-10 17:56:08,736 | root | File ZIP eliminato con successo.\n",
      "INFO | 47484 | 2024-10-10 17:56:08,736 | root | File ZIP eliminato con successo.\n",
      "INFO | 47484 | 2024-10-10 17:56:08,736 | root | File ZIP eliminato con successo.\n",
      "INFO | 47484 | 2024-10-10 17:56:08,739 | root | Download dei dati censuari completato e salvato in /home/max/Desktop/census_tutorial/preprocessing/census_1991\n",
      "INFO | 47484 | 2024-10-10 17:56:08,739 | root | Download dei dati censuari completato e salvato in /home/max/Desktop/census_tutorial/preprocessing/census_1991\n",
      "INFO | 47484 | 2024-10-10 17:56:08,739 | root | Download dei dati censuari completato e salvato in /home/max/Desktop/census_tutorial/preprocessing/census_1991\n",
      "INFO | 47484 | 2024-10-10 17:56:08,739 | root | Download dei dati censuari completato e salvato in /home/max/Desktop/census_tutorial/preprocessing/census_1991\n",
      "INFO | 47484 | 2024-10-10 17:56:08,739 | root | Download dei dati censuari completato e salvato in /home/max/Desktop/census_tutorial/preprocessing/census_1991\n",
      "INFO | 47484 | 2024-10-10 17:56:08,739 | root | Download dei dati censuari completato e salvato in /home/max/Desktop/census_tutorial/preprocessing/census_1991\n",
      "INFO | 47484 | 2024-10-10 17:56:08,739 | root | Download dei dati censuari completato e salvato in /home/max/Desktop/census_tutorial/preprocessing/census_1991\n",
      "INFO | 47484 | 2024-10-10 17:56:08,739 | root | Download dei dati censuari completato e salvato in /home/max/Desktop/census_tutorial/preprocessing/census_1991\n",
      "INFO | 47484 | 2024-10-10 17:56:08,742 | root | Estrazione dei dati censuari in formato xls e conversione in csv.\n",
      "INFO | 47484 | 2024-10-10 17:56:08,742 | root | Estrazione dei dati censuari in formato xls e conversione in csv.\n",
      "INFO | 47484 | 2024-10-10 17:56:08,742 | root | Estrazione dei dati censuari in formato xls e conversione in csv.\n",
      "INFO | 47484 | 2024-10-10 17:56:08,742 | root | Estrazione dei dati censuari in formato xls e conversione in csv.\n",
      "INFO | 47484 | 2024-10-10 17:56:08,742 | root | Estrazione dei dati censuari in formato xls e conversione in csv.\n",
      "INFO | 47484 | 2024-10-10 17:56:08,742 | root | Estrazione dei dati censuari in formato xls e conversione in csv.\n",
      "INFO | 47484 | 2024-10-10 17:56:08,742 | root | Estrazione dei dati censuari in formato xls e conversione in csv.\n",
      "INFO | 47484 | 2024-10-10 17:56:08,742 | root | Estrazione dei dati censuari in formato xls e conversione in csv.\n",
      "INFO | 47484 | 2024-10-10 17:56:08,745 | root | Lettura del file Excel da /home/max/Desktop/census_tutorial/preprocessing/census_1991/data/dati-cpa_1991\\R05_DatiCPA_1991.xls\n",
      "INFO | 47484 | 2024-10-10 17:56:08,745 | root | Lettura del file Excel da /home/max/Desktop/census_tutorial/preprocessing/census_1991/data/dati-cpa_1991\\R05_DatiCPA_1991.xls\n",
      "INFO | 47484 | 2024-10-10 17:56:08,745 | root | Lettura del file Excel da /home/max/Desktop/census_tutorial/preprocessing/census_1991/data/dati-cpa_1991\\R05_DatiCPA_1991.xls\n",
      "INFO | 47484 | 2024-10-10 17:56:08,745 | root | Lettura del file Excel da /home/max/Desktop/census_tutorial/preprocessing/census_1991/data/dati-cpa_1991\\R05_DatiCPA_1991.xls\n",
      "INFO | 47484 | 2024-10-10 17:56:08,745 | root | Lettura del file Excel da /home/max/Desktop/census_tutorial/preprocessing/census_1991/data/dati-cpa_1991\\R05_DatiCPA_1991.xls\n",
      "INFO | 47484 | 2024-10-10 17:56:08,745 | root | Lettura del file Excel da /home/max/Desktop/census_tutorial/preprocessing/census_1991/data/dati-cpa_1991\\R05_DatiCPA_1991.xls\n",
      "INFO | 47484 | 2024-10-10 17:56:08,745 | root | Lettura del file Excel da /home/max/Desktop/census_tutorial/preprocessing/census_1991/data/dati-cpa_1991\\R05_DatiCPA_1991.xls\n",
      "INFO | 47484 | 2024-10-10 17:56:08,745 | root | Lettura del file Excel da /home/max/Desktop/census_tutorial/preprocessing/census_1991/data/dati-cpa_1991\\R05_DatiCPA_1991.xls\n"
     ]
    },
    {
     "name": "stderr",
     "output_type": "stream",
     "text": [
      "Lettura righe...: 100%|██████████| 27713/27713 [00:00<00:00, 354989.65it/s]\n"
     ]
    },
    {
     "name": "stdout",
     "output_type": "stream",
     "text": [
      "INFO | 47484 | 2024-10-10 17:56:13,520 | root | Salvataggio dei dati in /home/max/Desktop/census_tutorial/preprocessing/census_1991/data/Sezioni di Censimento/R05_DatiCPA_1991.csv\n",
      "INFO | 47484 | 2024-10-10 17:56:13,520 | root | Salvataggio dei dati in /home/max/Desktop/census_tutorial/preprocessing/census_1991/data/Sezioni di Censimento/R05_DatiCPA_1991.csv\n",
      "INFO | 47484 | 2024-10-10 17:56:13,520 | root | Salvataggio dei dati in /home/max/Desktop/census_tutorial/preprocessing/census_1991/data/Sezioni di Censimento/R05_DatiCPA_1991.csv\n",
      "INFO | 47484 | 2024-10-10 17:56:13,520 | root | Salvataggio dei dati in /home/max/Desktop/census_tutorial/preprocessing/census_1991/data/Sezioni di Censimento/R05_DatiCPA_1991.csv\n",
      "INFO | 47484 | 2024-10-10 17:56:13,520 | root | Salvataggio dei dati in /home/max/Desktop/census_tutorial/preprocessing/census_1991/data/Sezioni di Censimento/R05_DatiCPA_1991.csv\n",
      "INFO | 47484 | 2024-10-10 17:56:13,520 | root | Salvataggio dei dati in /home/max/Desktop/census_tutorial/preprocessing/census_1991/data/Sezioni di Censimento/R05_DatiCPA_1991.csv\n",
      "INFO | 47484 | 2024-10-10 17:56:13,520 | root | Salvataggio dei dati in /home/max/Desktop/census_tutorial/preprocessing/census_1991/data/Sezioni di Censimento/R05_DatiCPA_1991.csv\n",
      "INFO | 47484 | 2024-10-10 17:56:13,520 | root | Salvataggio dei dati in /home/max/Desktop/census_tutorial/preprocessing/census_1991/data/Sezioni di Censimento/R05_DatiCPA_1991.csv\n",
      "INFO | 47484 | 2024-10-10 17:56:14,145 | root | Lettura del file Excel da /home/max/Desktop/census_tutorial/preprocessing/census_1991/data/dati-cpa_1991\\R07_DatiCPA_1991.xls\n",
      "INFO | 47484 | 2024-10-10 17:56:14,145 | root | Lettura del file Excel da /home/max/Desktop/census_tutorial/preprocessing/census_1991/data/dati-cpa_1991\\R07_DatiCPA_1991.xls\n",
      "INFO | 47484 | 2024-10-10 17:56:14,145 | root | Lettura del file Excel da /home/max/Desktop/census_tutorial/preprocessing/census_1991/data/dati-cpa_1991\\R07_DatiCPA_1991.xls\n",
      "INFO | 47484 | 2024-10-10 17:56:14,145 | root | Lettura del file Excel da /home/max/Desktop/census_tutorial/preprocessing/census_1991/data/dati-cpa_1991\\R07_DatiCPA_1991.xls\n",
      "INFO | 47484 | 2024-10-10 17:56:14,145 | root | Lettura del file Excel da /home/max/Desktop/census_tutorial/preprocessing/census_1991/data/dati-cpa_1991\\R07_DatiCPA_1991.xls\n",
      "INFO | 47484 | 2024-10-10 17:56:14,145 | root | Lettura del file Excel da /home/max/Desktop/census_tutorial/preprocessing/census_1991/data/dati-cpa_1991\\R07_DatiCPA_1991.xls\n",
      "INFO | 47484 | 2024-10-10 17:56:14,145 | root | Lettura del file Excel da /home/max/Desktop/census_tutorial/preprocessing/census_1991/data/dati-cpa_1991\\R07_DatiCPA_1991.xls\n",
      "INFO | 47484 | 2024-10-10 17:56:14,145 | root | Lettura del file Excel da /home/max/Desktop/census_tutorial/preprocessing/census_1991/data/dati-cpa_1991\\R07_DatiCPA_1991.xls\n"
     ]
    },
    {
     "name": "stderr",
     "output_type": "stream",
     "text": [
      "Lettura righe...: 100%|██████████| 9664/9664 [00:00<00:00, 391566.16it/s]"
     ]
    },
    {
     "name": "stdout",
     "output_type": "stream",
     "text": [
      "INFO | 47484 | 2024-10-10 17:56:15,804 | root | Salvataggio dei dati in /home/max/Desktop/census_tutorial/preprocessing/census_1991/data/Sezioni di Censimento/R07_DatiCPA_1991.csv\n",
      "INFO | 47484 | 2024-10-10 17:56:15,804 | root | Salvataggio dei dati in /home/max/Desktop/census_tutorial/preprocessing/census_1991/data/Sezioni di Censimento/R07_DatiCPA_1991.csv\n",
      "INFO | 47484 | 2024-10-10 17:56:15,804 | root | Salvataggio dei dati in /home/max/Desktop/census_tutorial/preprocessing/census_1991/data/Sezioni di Censimento/R07_DatiCPA_1991.csv\n",
      "INFO | 47484 | 2024-10-10 17:56:15,804 | root | Salvataggio dei dati in /home/max/Desktop/census_tutorial/preprocessing/census_1991/data/Sezioni di Censimento/R07_DatiCPA_1991.csv\n",
      "INFO | 47484 | 2024-10-10 17:56:15,804 | root | Salvataggio dei dati in /home/max/Desktop/census_tutorial/preprocessing/census_1991/data/Sezioni di Censimento/R07_DatiCPA_1991.csv\n",
      "INFO | 47484 | 2024-10-10 17:56:15,804 | root | Salvataggio dei dati in /home/max/Desktop/census_tutorial/preprocessing/census_1991/data/Sezioni di Censimento/R07_DatiCPA_1991.csv\n",
      "INFO | 47484 | 2024-10-10 17:56:15,804 | root | Salvataggio dei dati in /home/max/Desktop/census_tutorial/preprocessing/census_1991/data/Sezioni di Censimento/R07_DatiCPA_1991.csv\n",
      "INFO | 47484 | 2024-10-10 17:56:15,804 | root | Salvataggio dei dati in /home/max/Desktop/census_tutorial/preprocessing/census_1991/data/Sezioni di Censimento/R07_DatiCPA_1991.csv\n"
     ]
    },
    {
     "name": "stderr",
     "output_type": "stream",
     "text": [
      "\n"
     ]
    },
    {
     "name": "stdout",
     "output_type": "stream",
     "text": [
      "INFO | 47484 | 2024-10-10 17:56:16,007 | root | Lettura del file Excel da /home/max/Desktop/census_tutorial/preprocessing/census_1991/data/dati-cpa_1991\\R14_DatiCPA_1991.xls\n",
      "INFO | 47484 | 2024-10-10 17:56:16,007 | root | Lettura del file Excel da /home/max/Desktop/census_tutorial/preprocessing/census_1991/data/dati-cpa_1991\\R14_DatiCPA_1991.xls\n",
      "INFO | 47484 | 2024-10-10 17:56:16,007 | root | Lettura del file Excel da /home/max/Desktop/census_tutorial/preprocessing/census_1991/data/dati-cpa_1991\\R14_DatiCPA_1991.xls\n",
      "INFO | 47484 | 2024-10-10 17:56:16,007 | root | Lettura del file Excel da /home/max/Desktop/census_tutorial/preprocessing/census_1991/data/dati-cpa_1991\\R14_DatiCPA_1991.xls\n",
      "INFO | 47484 | 2024-10-10 17:56:16,007 | root | Lettura del file Excel da /home/max/Desktop/census_tutorial/preprocessing/census_1991/data/dati-cpa_1991\\R14_DatiCPA_1991.xls\n",
      "INFO | 47484 | 2024-10-10 17:56:16,007 | root | Lettura del file Excel da /home/max/Desktop/census_tutorial/preprocessing/census_1991/data/dati-cpa_1991\\R14_DatiCPA_1991.xls\n",
      "INFO | 47484 | 2024-10-10 17:56:16,007 | root | Lettura del file Excel da /home/max/Desktop/census_tutorial/preprocessing/census_1991/data/dati-cpa_1991\\R14_DatiCPA_1991.xls\n",
      "INFO | 47484 | 2024-10-10 17:56:16,007 | root | Lettura del file Excel da /home/max/Desktop/census_tutorial/preprocessing/census_1991/data/dati-cpa_1991\\R14_DatiCPA_1991.xls\n"
     ]
    },
    {
     "name": "stderr",
     "output_type": "stream",
     "text": [
      "Lettura righe...: 100%|██████████| 1602/1602 [00:00<00:00, 659075.53it/s]"
     ]
    },
    {
     "name": "stdout",
     "output_type": "stream",
     "text": [
      "INFO | 47484 | 2024-10-10 17:56:16,405 | root | Salvataggio dei dati in /home/max/Desktop/census_tutorial/preprocessing/census_1991/data/Sezioni di Censimento/R14_DatiCPA_1991.csv\n",
      "INFO | 47484 | 2024-10-10 17:56:16,405 | root | Salvataggio dei dati in /home/max/Desktop/census_tutorial/preprocessing/census_1991/data/Sezioni di Censimento/R14_DatiCPA_1991.csv\n",
      "INFO | 47484 | 2024-10-10 17:56:16,405 | root | Salvataggio dei dati in /home/max/Desktop/census_tutorial/preprocessing/census_1991/data/Sezioni di Censimento/R14_DatiCPA_1991.csv\n",
      "INFO | 47484 | 2024-10-10 17:56:16,405 | root | Salvataggio dei dati in /home/max/Desktop/census_tutorial/preprocessing/census_1991/data/Sezioni di Censimento/R14_DatiCPA_1991.csv\n",
      "INFO | 47484 | 2024-10-10 17:56:16,405 | root | Salvataggio dei dati in /home/max/Desktop/census_tutorial/preprocessing/census_1991/data/Sezioni di Censimento/R14_DatiCPA_1991.csv\n",
      "INFO | 47484 | 2024-10-10 17:56:16,405 | root | Salvataggio dei dati in /home/max/Desktop/census_tutorial/preprocessing/census_1991/data/Sezioni di Censimento/R14_DatiCPA_1991.csv\n",
      "INFO | 47484 | 2024-10-10 17:56:16,405 | root | Salvataggio dei dati in /home/max/Desktop/census_tutorial/preprocessing/census_1991/data/Sezioni di Censimento/R14_DatiCPA_1991.csv\n",
      "INFO | 47484 | 2024-10-10 17:56:16,405 | root | Salvataggio dei dati in /home/max/Desktop/census_tutorial/preprocessing/census_1991/data/Sezioni di Censimento/R14_DatiCPA_1991.csv\n",
      "INFO | 47484 | 2024-10-10 17:56:16,445 | root | Lettura del file Excel da /home/max/Desktop/census_tutorial/preprocessing/census_1991/data/dati-cpa_1991\\R12_DatiCPA_1991.xls\n",
      "INFO | 47484 | 2024-10-10 17:56:16,445 | root | Lettura del file Excel da /home/max/Desktop/census_tutorial/preprocessing/census_1991/data/dati-cpa_1991\\R12_DatiCPA_1991.xls\n",
      "INFO | 47484 | 2024-10-10 17:56:16,445 | root | Lettura del file Excel da /home/max/Desktop/census_tutorial/preprocessing/census_1991/data/dati-cpa_1991\\R12_DatiCPA_1991.xls\n",
      "INFO | 47484 | 2024-10-10 17:56:16,445 | root | Lettura del file Excel da /home/max/Desktop/census_tutorial/preprocessing/census_1991/data/dati-cpa_1991\\R12_DatiCPA_1991.xls\n",
      "INFO | 47484 | 2024-10-10 17:56:16,445 | root | Lettura del file Excel da /home/max/Desktop/census_tutorial/preprocessing/census_1991/data/dati-cpa_1991\\R12_DatiCPA_1991.xls\n",
      "INFO | 47484 | 2024-10-10 17:56:16,445 | root | Lettura del file Excel da /home/max/Desktop/census_tutorial/preprocessing/census_1991/data/dati-cpa_1991\\R12_DatiCPA_1991.xls\n",
      "INFO | 47484 | 2024-10-10 17:56:16,445 | root | Lettura del file Excel da /home/max/Desktop/census_tutorial/preprocessing/census_1991/data/dati-cpa_1991\\R12_DatiCPA_1991.xls\n",
      "INFO | 47484 | 2024-10-10 17:56:16,445 | root | Lettura del file Excel da /home/max/Desktop/census_tutorial/preprocessing/census_1991/data/dati-cpa_1991\\R12_DatiCPA_1991.xls\n"
     ]
    },
    {
     "name": "stderr",
     "output_type": "stream",
     "text": [
      "\n",
      "Lettura righe...: 100%|██████████| 22477/22477 [00:00<00:00, 375295.56it/s]\n"
     ]
    },
    {
     "name": "stdout",
     "output_type": "stream",
     "text": [
      "INFO | 47484 | 2024-10-10 17:56:20,293 | root | Salvataggio dei dati in /home/max/Desktop/census_tutorial/preprocessing/census_1991/data/Sezioni di Censimento/R12_DatiCPA_1991.csv\n",
      "INFO | 47484 | 2024-10-10 17:56:20,293 | root | Salvataggio dei dati in /home/max/Desktop/census_tutorial/preprocessing/census_1991/data/Sezioni di Censimento/R12_DatiCPA_1991.csv\n",
      "INFO | 47484 | 2024-10-10 17:56:20,293 | root | Salvataggio dei dati in /home/max/Desktop/census_tutorial/preprocessing/census_1991/data/Sezioni di Censimento/R12_DatiCPA_1991.csv\n",
      "INFO | 47484 | 2024-10-10 17:56:20,293 | root | Salvataggio dei dati in /home/max/Desktop/census_tutorial/preprocessing/census_1991/data/Sezioni di Censimento/R12_DatiCPA_1991.csv\n",
      "INFO | 47484 | 2024-10-10 17:56:20,293 | root | Salvataggio dei dati in /home/max/Desktop/census_tutorial/preprocessing/census_1991/data/Sezioni di Censimento/R12_DatiCPA_1991.csv\n",
      "INFO | 47484 | 2024-10-10 17:56:20,293 | root | Salvataggio dei dati in /home/max/Desktop/census_tutorial/preprocessing/census_1991/data/Sezioni di Censimento/R12_DatiCPA_1991.csv\n",
      "INFO | 47484 | 2024-10-10 17:56:20,293 | root | Salvataggio dei dati in /home/max/Desktop/census_tutorial/preprocessing/census_1991/data/Sezioni di Censimento/R12_DatiCPA_1991.csv\n",
      "INFO | 47484 | 2024-10-10 17:56:20,293 | root | Salvataggio dei dati in /home/max/Desktop/census_tutorial/preprocessing/census_1991/data/Sezioni di Censimento/R12_DatiCPA_1991.csv\n",
      "INFO | 47484 | 2024-10-10 17:56:20,816 | root | Lettura del file Excel da /home/max/Desktop/census_tutorial/preprocessing/census_1991/data/dati-cpa_1991\\R11_DatiCPA_1991.xls\n",
      "INFO | 47484 | 2024-10-10 17:56:20,816 | root | Lettura del file Excel da /home/max/Desktop/census_tutorial/preprocessing/census_1991/data/dati-cpa_1991\\R11_DatiCPA_1991.xls\n",
      "INFO | 47484 | 2024-10-10 17:56:20,816 | root | Lettura del file Excel da /home/max/Desktop/census_tutorial/preprocessing/census_1991/data/dati-cpa_1991\\R11_DatiCPA_1991.xls\n",
      "INFO | 47484 | 2024-10-10 17:56:20,816 | root | Lettura del file Excel da /home/max/Desktop/census_tutorial/preprocessing/census_1991/data/dati-cpa_1991\\R11_DatiCPA_1991.xls\n",
      "INFO | 47484 | 2024-10-10 17:56:20,816 | root | Lettura del file Excel da /home/max/Desktop/census_tutorial/preprocessing/census_1991/data/dati-cpa_1991\\R11_DatiCPA_1991.xls\n",
      "INFO | 47484 | 2024-10-10 17:56:20,816 | root | Lettura del file Excel da /home/max/Desktop/census_tutorial/preprocessing/census_1991/data/dati-cpa_1991\\R11_DatiCPA_1991.xls\n",
      "INFO | 47484 | 2024-10-10 17:56:20,816 | root | Lettura del file Excel da /home/max/Desktop/census_tutorial/preprocessing/census_1991/data/dati-cpa_1991\\R11_DatiCPA_1991.xls\n",
      "INFO | 47484 | 2024-10-10 17:56:20,816 | root | Lettura del file Excel da /home/max/Desktop/census_tutorial/preprocessing/census_1991/data/dati-cpa_1991\\R11_DatiCPA_1991.xls\n"
     ]
    },
    {
     "name": "stderr",
     "output_type": "stream",
     "text": [
      "Lettura righe...: 100%|██████████| 9606/9606 [00:00<00:00, 319877.45it/s]"
     ]
    },
    {
     "name": "stdout",
     "output_type": "stream",
     "text": [
      "INFO | 47484 | 2024-10-10 17:56:22,440 | root | Salvataggio dei dati in /home/max/Desktop/census_tutorial/preprocessing/census_1991/data/Sezioni di Censimento/R11_DatiCPA_1991.csv\n",
      "INFO | 47484 | 2024-10-10 17:56:22,440 | root | Salvataggio dei dati in /home/max/Desktop/census_tutorial/preprocessing/census_1991/data/Sezioni di Censimento/R11_DatiCPA_1991.csv\n",
      "INFO | 47484 | 2024-10-10 17:56:22,440 | root | Salvataggio dei dati in /home/max/Desktop/census_tutorial/preprocessing/census_1991/data/Sezioni di Censimento/R11_DatiCPA_1991.csv\n",
      "INFO | 47484 | 2024-10-10 17:56:22,440 | root | Salvataggio dei dati in /home/max/Desktop/census_tutorial/preprocessing/census_1991/data/Sezioni di Censimento/R11_DatiCPA_1991.csv\n",
      "INFO | 47484 | 2024-10-10 17:56:22,440 | root | Salvataggio dei dati in /home/max/Desktop/census_tutorial/preprocessing/census_1991/data/Sezioni di Censimento/R11_DatiCPA_1991.csv\n",
      "INFO | 47484 | 2024-10-10 17:56:22,440 | root | Salvataggio dei dati in /home/max/Desktop/census_tutorial/preprocessing/census_1991/data/Sezioni di Censimento/R11_DatiCPA_1991.csv\n",
      "INFO | 47484 | 2024-10-10 17:56:22,440 | root | Salvataggio dei dati in /home/max/Desktop/census_tutorial/preprocessing/census_1991/data/Sezioni di Censimento/R11_DatiCPA_1991.csv\n",
      "INFO | 47484 | 2024-10-10 17:56:22,440 | root | Salvataggio dei dati in /home/max/Desktop/census_tutorial/preprocessing/census_1991/data/Sezioni di Censimento/R11_DatiCPA_1991.csv\n"
     ]
    },
    {
     "name": "stderr",
     "output_type": "stream",
     "text": [
      "\n"
     ]
    },
    {
     "name": "stdout",
     "output_type": "stream",
     "text": [
      "INFO | 47484 | 2024-10-10 17:56:22,755 | root | Lettura del file Excel da /home/max/Desktop/census_tutorial/preprocessing/census_1991/data/dati-cpa_1991\\R01_DatiCPA_1991.xls\n",
      "INFO | 47484 | 2024-10-10 17:56:22,755 | root | Lettura del file Excel da /home/max/Desktop/census_tutorial/preprocessing/census_1991/data/dati-cpa_1991\\R01_DatiCPA_1991.xls\n",
      "INFO | 47484 | 2024-10-10 17:56:22,755 | root | Lettura del file Excel da /home/max/Desktop/census_tutorial/preprocessing/census_1991/data/dati-cpa_1991\\R01_DatiCPA_1991.xls\n",
      "INFO | 47484 | 2024-10-10 17:56:22,755 | root | Lettura del file Excel da /home/max/Desktop/census_tutorial/preprocessing/census_1991/data/dati-cpa_1991\\R01_DatiCPA_1991.xls\n",
      "INFO | 47484 | 2024-10-10 17:56:22,755 | root | Lettura del file Excel da /home/max/Desktop/census_tutorial/preprocessing/census_1991/data/dati-cpa_1991\\R01_DatiCPA_1991.xls\n",
      "INFO | 47484 | 2024-10-10 17:56:22,755 | root | Lettura del file Excel da /home/max/Desktop/census_tutorial/preprocessing/census_1991/data/dati-cpa_1991\\R01_DatiCPA_1991.xls\n",
      "INFO | 47484 | 2024-10-10 17:56:22,755 | root | Lettura del file Excel da /home/max/Desktop/census_tutorial/preprocessing/census_1991/data/dati-cpa_1991\\R01_DatiCPA_1991.xls\n",
      "INFO | 47484 | 2024-10-10 17:56:22,755 | root | Lettura del file Excel da /home/max/Desktop/census_tutorial/preprocessing/census_1991/data/dati-cpa_1991\\R01_DatiCPA_1991.xls\n"
     ]
    },
    {
     "name": "stderr",
     "output_type": "stream",
     "text": [
      "Lettura righe...: 100%|██████████| 25658/25658 [00:00<00:00, 361224.51it/s]\n"
     ]
    },
    {
     "name": "stdout",
     "output_type": "stream",
     "text": [
      "INFO | 47484 | 2024-10-10 17:56:27,168 | root | Salvataggio dei dati in /home/max/Desktop/census_tutorial/preprocessing/census_1991/data/Sezioni di Censimento/R01_DatiCPA_1991.csv\n",
      "INFO | 47484 | 2024-10-10 17:56:27,168 | root | Salvataggio dei dati in /home/max/Desktop/census_tutorial/preprocessing/census_1991/data/Sezioni di Censimento/R01_DatiCPA_1991.csv\n",
      "INFO | 47484 | 2024-10-10 17:56:27,168 | root | Salvataggio dei dati in /home/max/Desktop/census_tutorial/preprocessing/census_1991/data/Sezioni di Censimento/R01_DatiCPA_1991.csv\n",
      "INFO | 47484 | 2024-10-10 17:56:27,168 | root | Salvataggio dei dati in /home/max/Desktop/census_tutorial/preprocessing/census_1991/data/Sezioni di Censimento/R01_DatiCPA_1991.csv\n",
      "INFO | 47484 | 2024-10-10 17:56:27,168 | root | Salvataggio dei dati in /home/max/Desktop/census_tutorial/preprocessing/census_1991/data/Sezioni di Censimento/R01_DatiCPA_1991.csv\n",
      "INFO | 47484 | 2024-10-10 17:56:27,168 | root | Salvataggio dei dati in /home/max/Desktop/census_tutorial/preprocessing/census_1991/data/Sezioni di Censimento/R01_DatiCPA_1991.csv\n",
      "INFO | 47484 | 2024-10-10 17:56:27,168 | root | Salvataggio dei dati in /home/max/Desktop/census_tutorial/preprocessing/census_1991/data/Sezioni di Censimento/R01_DatiCPA_1991.csv\n",
      "INFO | 47484 | 2024-10-10 17:56:27,168 | root | Salvataggio dei dati in /home/max/Desktop/census_tutorial/preprocessing/census_1991/data/Sezioni di Censimento/R01_DatiCPA_1991.csv\n",
      "INFO | 47484 | 2024-10-10 17:56:27,786 | root | Lettura del file Excel da /home/max/Desktop/census_tutorial/preprocessing/census_1991/data/dati-cpa_1991\\R04_DatiCPA_1991.xls\n",
      "INFO | 47484 | 2024-10-10 17:56:27,786 | root | Lettura del file Excel da /home/max/Desktop/census_tutorial/preprocessing/census_1991/data/dati-cpa_1991\\R04_DatiCPA_1991.xls\n",
      "INFO | 47484 | 2024-10-10 17:56:27,786 | root | Lettura del file Excel da /home/max/Desktop/census_tutorial/preprocessing/census_1991/data/dati-cpa_1991\\R04_DatiCPA_1991.xls\n",
      "INFO | 47484 | 2024-10-10 17:56:27,786 | root | Lettura del file Excel da /home/max/Desktop/census_tutorial/preprocessing/census_1991/data/dati-cpa_1991\\R04_DatiCPA_1991.xls\n",
      "INFO | 47484 | 2024-10-10 17:56:27,786 | root | Lettura del file Excel da /home/max/Desktop/census_tutorial/preprocessing/census_1991/data/dati-cpa_1991\\R04_DatiCPA_1991.xls\n",
      "INFO | 47484 | 2024-10-10 17:56:27,786 | root | Lettura del file Excel da /home/max/Desktop/census_tutorial/preprocessing/census_1991/data/dati-cpa_1991\\R04_DatiCPA_1991.xls\n",
      "INFO | 47484 | 2024-10-10 17:56:27,786 | root | Lettura del file Excel da /home/max/Desktop/census_tutorial/preprocessing/census_1991/data/dati-cpa_1991\\R04_DatiCPA_1991.xls\n",
      "INFO | 47484 | 2024-10-10 17:56:27,786 | root | Lettura del file Excel da /home/max/Desktop/census_tutorial/preprocessing/census_1991/data/dati-cpa_1991\\R04_DatiCPA_1991.xls\n"
     ]
    },
    {
     "name": "stderr",
     "output_type": "stream",
     "text": [
      "Lettura righe...: 100%|██████████| 8424/8424 [00:00<00:00, 412679.77it/s]"
     ]
    },
    {
     "name": "stdout",
     "output_type": "stream",
     "text": [
      "INFO | 47484 | 2024-10-10 17:56:29,236 | root | Salvataggio dei dati in /home/max/Desktop/census_tutorial/preprocessing/census_1991/data/Sezioni di Censimento/R04_DatiCPA_1991.csv\n",
      "INFO | 47484 | 2024-10-10 17:56:29,236 | root | Salvataggio dei dati in /home/max/Desktop/census_tutorial/preprocessing/census_1991/data/Sezioni di Censimento/R04_DatiCPA_1991.csv\n",
      "INFO | 47484 | 2024-10-10 17:56:29,236 | root | Salvataggio dei dati in /home/max/Desktop/census_tutorial/preprocessing/census_1991/data/Sezioni di Censimento/R04_DatiCPA_1991.csv\n",
      "INFO | 47484 | 2024-10-10 17:56:29,236 | root | Salvataggio dei dati in /home/max/Desktop/census_tutorial/preprocessing/census_1991/data/Sezioni di Censimento/R04_DatiCPA_1991.csv\n",
      "INFO | 47484 | 2024-10-10 17:56:29,236 | root | Salvataggio dei dati in /home/max/Desktop/census_tutorial/preprocessing/census_1991/data/Sezioni di Censimento/R04_DatiCPA_1991.csv\n",
      "INFO | 47484 | 2024-10-10 17:56:29,236 | root | Salvataggio dei dati in /home/max/Desktop/census_tutorial/preprocessing/census_1991/data/Sezioni di Censimento/R04_DatiCPA_1991.csv\n",
      "INFO | 47484 | 2024-10-10 17:56:29,236 | root | Salvataggio dei dati in /home/max/Desktop/census_tutorial/preprocessing/census_1991/data/Sezioni di Censimento/R04_DatiCPA_1991.csv\n",
      "INFO | 47484 | 2024-10-10 17:56:29,236 | root | Salvataggio dei dati in /home/max/Desktop/census_tutorial/preprocessing/census_1991/data/Sezioni di Censimento/R04_DatiCPA_1991.csv\n"
     ]
    },
    {
     "name": "stderr",
     "output_type": "stream",
     "text": [
      "\n"
     ]
    },
    {
     "name": "stdout",
     "output_type": "stream",
     "text": [
      "INFO | 47484 | 2024-10-10 17:56:29,520 | root | Lettura del file Excel da /home/max/Desktop/census_tutorial/preprocessing/census_1991/data/dati-cpa_1991\\R20_DatiCPA_1991.xls\n",
      "INFO | 47484 | 2024-10-10 17:56:29,520 | root | Lettura del file Excel da /home/max/Desktop/census_tutorial/preprocessing/census_1991/data/dati-cpa_1991\\R20_DatiCPA_1991.xls\n",
      "INFO | 47484 | 2024-10-10 17:56:29,520 | root | Lettura del file Excel da /home/max/Desktop/census_tutorial/preprocessing/census_1991/data/dati-cpa_1991\\R20_DatiCPA_1991.xls\n",
      "INFO | 47484 | 2024-10-10 17:56:29,520 | root | Lettura del file Excel da /home/max/Desktop/census_tutorial/preprocessing/census_1991/data/dati-cpa_1991\\R20_DatiCPA_1991.xls\n",
      "INFO | 47484 | 2024-10-10 17:56:29,520 | root | Lettura del file Excel da /home/max/Desktop/census_tutorial/preprocessing/census_1991/data/dati-cpa_1991\\R20_DatiCPA_1991.xls\n",
      "INFO | 47484 | 2024-10-10 17:56:29,520 | root | Lettura del file Excel da /home/max/Desktop/census_tutorial/preprocessing/census_1991/data/dati-cpa_1991\\R20_DatiCPA_1991.xls\n",
      "INFO | 47484 | 2024-10-10 17:56:29,520 | root | Lettura del file Excel da /home/max/Desktop/census_tutorial/preprocessing/census_1991/data/dati-cpa_1991\\R20_DatiCPA_1991.xls\n",
      "INFO | 47484 | 2024-10-10 17:56:29,520 | root | Lettura del file Excel da /home/max/Desktop/census_tutorial/preprocessing/census_1991/data/dati-cpa_1991\\R20_DatiCPA_1991.xls\n"
     ]
    },
    {
     "name": "stderr",
     "output_type": "stream",
     "text": [
      "Lettura righe...: 100%|██████████| 7197/7197 [00:00<00:00, 353073.90it/s]"
     ]
    },
    {
     "name": "stdout",
     "output_type": "stream",
     "text": [
      "INFO | 47484 | 2024-10-10 17:56:30,738 | root | Salvataggio dei dati in /home/max/Desktop/census_tutorial/preprocessing/census_1991/data/Sezioni di Censimento/R20_DatiCPA_1991.csv\n",
      "INFO | 47484 | 2024-10-10 17:56:30,738 | root | Salvataggio dei dati in /home/max/Desktop/census_tutorial/preprocessing/census_1991/data/Sezioni di Censimento/R20_DatiCPA_1991.csv\n",
      "INFO | 47484 | 2024-10-10 17:56:30,738 | root | Salvataggio dei dati in /home/max/Desktop/census_tutorial/preprocessing/census_1991/data/Sezioni di Censimento/R20_DatiCPA_1991.csv\n",
      "INFO | 47484 | 2024-10-10 17:56:30,738 | root | Salvataggio dei dati in /home/max/Desktop/census_tutorial/preprocessing/census_1991/data/Sezioni di Censimento/R20_DatiCPA_1991.csv\n",
      "INFO | 47484 | 2024-10-10 17:56:30,738 | root | Salvataggio dei dati in /home/max/Desktop/census_tutorial/preprocessing/census_1991/data/Sezioni di Censimento/R20_DatiCPA_1991.csv\n",
      "INFO | 47484 | 2024-10-10 17:56:30,738 | root | Salvataggio dei dati in /home/max/Desktop/census_tutorial/preprocessing/census_1991/data/Sezioni di Censimento/R20_DatiCPA_1991.csv\n",
      "INFO | 47484 | 2024-10-10 17:56:30,738 | root | Salvataggio dei dati in /home/max/Desktop/census_tutorial/preprocessing/census_1991/data/Sezioni di Censimento/R20_DatiCPA_1991.csv\n",
      "INFO | 47484 | 2024-10-10 17:56:30,738 | root | Salvataggio dei dati in /home/max/Desktop/census_tutorial/preprocessing/census_1991/data/Sezioni di Censimento/R20_DatiCPA_1991.csv\n"
     ]
    },
    {
     "name": "stderr",
     "output_type": "stream",
     "text": [
      "\n"
     ]
    },
    {
     "name": "stdout",
     "output_type": "stream",
     "text": [
      "INFO | 47484 | 2024-10-10 17:56:30,892 | root | Lettura del file Excel da /home/max/Desktop/census_tutorial/preprocessing/census_1991/data/dati-cpa_1991\\R10_DatiCPA_1991.xls\n",
      "INFO | 47484 | 2024-10-10 17:56:30,892 | root | Lettura del file Excel da /home/max/Desktop/census_tutorial/preprocessing/census_1991/data/dati-cpa_1991\\R10_DatiCPA_1991.xls\n",
      "INFO | 47484 | 2024-10-10 17:56:30,892 | root | Lettura del file Excel da /home/max/Desktop/census_tutorial/preprocessing/census_1991/data/dati-cpa_1991\\R10_DatiCPA_1991.xls\n",
      "INFO | 47484 | 2024-10-10 17:56:30,892 | root | Lettura del file Excel da /home/max/Desktop/census_tutorial/preprocessing/census_1991/data/dati-cpa_1991\\R10_DatiCPA_1991.xls\n",
      "INFO | 47484 | 2024-10-10 17:56:30,892 | root | Lettura del file Excel da /home/max/Desktop/census_tutorial/preprocessing/census_1991/data/dati-cpa_1991\\R10_DatiCPA_1991.xls\n",
      "INFO | 47484 | 2024-10-10 17:56:30,892 | root | Lettura del file Excel da /home/max/Desktop/census_tutorial/preprocessing/census_1991/data/dati-cpa_1991\\R10_DatiCPA_1991.xls\n",
      "INFO | 47484 | 2024-10-10 17:56:30,892 | root | Lettura del file Excel da /home/max/Desktop/census_tutorial/preprocessing/census_1991/data/dati-cpa_1991\\R10_DatiCPA_1991.xls\n",
      "INFO | 47484 | 2024-10-10 17:56:30,892 | root | Lettura del file Excel da /home/max/Desktop/census_tutorial/preprocessing/census_1991/data/dati-cpa_1991\\R10_DatiCPA_1991.xls\n"
     ]
    },
    {
     "name": "stderr",
     "output_type": "stream",
     "text": [
      "Lettura righe...: 100%|██████████| 5997/5997 [00:00<00:00, 387276.80it/s]"
     ]
    },
    {
     "name": "stdout",
     "output_type": "stream",
     "text": [
      "INFO | 47484 | 2024-10-10 17:56:31,910 | root | Salvataggio dei dati in /home/max/Desktop/census_tutorial/preprocessing/census_1991/data/Sezioni di Censimento/R10_DatiCPA_1991.csv\n",
      "INFO | 47484 | 2024-10-10 17:56:31,910 | root | Salvataggio dei dati in /home/max/Desktop/census_tutorial/preprocessing/census_1991/data/Sezioni di Censimento/R10_DatiCPA_1991.csv\n",
      "INFO | 47484 | 2024-10-10 17:56:31,910 | root | Salvataggio dei dati in /home/max/Desktop/census_tutorial/preprocessing/census_1991/data/Sezioni di Censimento/R10_DatiCPA_1991.csv\n",
      "INFO | 47484 | 2024-10-10 17:56:31,910 | root | Salvataggio dei dati in /home/max/Desktop/census_tutorial/preprocessing/census_1991/data/Sezioni di Censimento/R10_DatiCPA_1991.csv\n",
      "INFO | 47484 | 2024-10-10 17:56:31,910 | root | Salvataggio dei dati in /home/max/Desktop/census_tutorial/preprocessing/census_1991/data/Sezioni di Censimento/R10_DatiCPA_1991.csv\n",
      "INFO | 47484 | 2024-10-10 17:56:31,910 | root | Salvataggio dei dati in /home/max/Desktop/census_tutorial/preprocessing/census_1991/data/Sezioni di Censimento/R10_DatiCPA_1991.csv\n",
      "INFO | 47484 | 2024-10-10 17:56:31,910 | root | Salvataggio dei dati in /home/max/Desktop/census_tutorial/preprocessing/census_1991/data/Sezioni di Censimento/R10_DatiCPA_1991.csv\n",
      "INFO | 47484 | 2024-10-10 17:56:31,910 | root | Salvataggio dei dati in /home/max/Desktop/census_tutorial/preprocessing/census_1991/data/Sezioni di Censimento/R10_DatiCPA_1991.csv\n"
     ]
    },
    {
     "name": "stderr",
     "output_type": "stream",
     "text": [
      "\n"
     ]
    },
    {
     "name": "stdout",
     "output_type": "stream",
     "text": [
      "INFO | 47484 | 2024-10-10 17:56:32,118 | root | Lettura del file Excel da /home/max/Desktop/census_tutorial/preprocessing/census_1991/data/dati-cpa_1991\\R15_DatiCPA_1991.xls\n",
      "INFO | 47484 | 2024-10-10 17:56:32,118 | root | Lettura del file Excel da /home/max/Desktop/census_tutorial/preprocessing/census_1991/data/dati-cpa_1991\\R15_DatiCPA_1991.xls\n",
      "INFO | 47484 | 2024-10-10 17:56:32,118 | root | Lettura del file Excel da /home/max/Desktop/census_tutorial/preprocessing/census_1991/data/dati-cpa_1991\\R15_DatiCPA_1991.xls\n",
      "INFO | 47484 | 2024-10-10 17:56:32,118 | root | Lettura del file Excel da /home/max/Desktop/census_tutorial/preprocessing/census_1991/data/dati-cpa_1991\\R15_DatiCPA_1991.xls\n",
      "INFO | 47484 | 2024-10-10 17:56:32,118 | root | Lettura del file Excel da /home/max/Desktop/census_tutorial/preprocessing/census_1991/data/dati-cpa_1991\\R15_DatiCPA_1991.xls\n",
      "INFO | 47484 | 2024-10-10 17:56:32,118 | root | Lettura del file Excel da /home/max/Desktop/census_tutorial/preprocessing/census_1991/data/dati-cpa_1991\\R15_DatiCPA_1991.xls\n",
      "INFO | 47484 | 2024-10-10 17:56:32,118 | root | Lettura del file Excel da /home/max/Desktop/census_tutorial/preprocessing/census_1991/data/dati-cpa_1991\\R15_DatiCPA_1991.xls\n",
      "INFO | 47484 | 2024-10-10 17:56:32,118 | root | Lettura del file Excel da /home/max/Desktop/census_tutorial/preprocessing/census_1991/data/dati-cpa_1991\\R15_DatiCPA_1991.xls\n"
     ]
    },
    {
     "name": "stderr",
     "output_type": "stream",
     "text": [
      "Lettura righe...: 100%|██████████| 19317/19317 [00:00<00:00, 432552.29it/s]\n"
     ]
    },
    {
     "name": "stdout",
     "output_type": "stream",
     "text": [
      "INFO | 47484 | 2024-10-10 17:56:35,347 | root | Salvataggio dei dati in /home/max/Desktop/census_tutorial/preprocessing/census_1991/data/Sezioni di Censimento/R15_DatiCPA_1991.csv\n",
      "INFO | 47484 | 2024-10-10 17:56:35,347 | root | Salvataggio dei dati in /home/max/Desktop/census_tutorial/preprocessing/census_1991/data/Sezioni di Censimento/R15_DatiCPA_1991.csv\n",
      "INFO | 47484 | 2024-10-10 17:56:35,347 | root | Salvataggio dei dati in /home/max/Desktop/census_tutorial/preprocessing/census_1991/data/Sezioni di Censimento/R15_DatiCPA_1991.csv\n",
      "INFO | 47484 | 2024-10-10 17:56:35,347 | root | Salvataggio dei dati in /home/max/Desktop/census_tutorial/preprocessing/census_1991/data/Sezioni di Censimento/R15_DatiCPA_1991.csv\n",
      "INFO | 47484 | 2024-10-10 17:56:35,347 | root | Salvataggio dei dati in /home/max/Desktop/census_tutorial/preprocessing/census_1991/data/Sezioni di Censimento/R15_DatiCPA_1991.csv\n",
      "INFO | 47484 | 2024-10-10 17:56:35,347 | root | Salvataggio dei dati in /home/max/Desktop/census_tutorial/preprocessing/census_1991/data/Sezioni di Censimento/R15_DatiCPA_1991.csv\n",
      "INFO | 47484 | 2024-10-10 17:56:35,347 | root | Salvataggio dei dati in /home/max/Desktop/census_tutorial/preprocessing/census_1991/data/Sezioni di Censimento/R15_DatiCPA_1991.csv\n",
      "INFO | 47484 | 2024-10-10 17:56:35,347 | root | Salvataggio dei dati in /home/max/Desktop/census_tutorial/preprocessing/census_1991/data/Sezioni di Censimento/R15_DatiCPA_1991.csv\n",
      "INFO | 47484 | 2024-10-10 17:56:35,822 | root | Lettura del file Excel da /home/max/Desktop/census_tutorial/preprocessing/census_1991/data/dati-cpa_1991\\R13_DatiCPA_1991.xls\n",
      "INFO | 47484 | 2024-10-10 17:56:35,822 | root | Lettura del file Excel da /home/max/Desktop/census_tutorial/preprocessing/census_1991/data/dati-cpa_1991\\R13_DatiCPA_1991.xls\n",
      "INFO | 47484 | 2024-10-10 17:56:35,822 | root | Lettura del file Excel da /home/max/Desktop/census_tutorial/preprocessing/census_1991/data/dati-cpa_1991\\R13_DatiCPA_1991.xls\n",
      "INFO | 47484 | 2024-10-10 17:56:35,822 | root | Lettura del file Excel da /home/max/Desktop/census_tutorial/preprocessing/census_1991/data/dati-cpa_1991\\R13_DatiCPA_1991.xls\n",
      "INFO | 47484 | 2024-10-10 17:56:35,822 | root | Lettura del file Excel da /home/max/Desktop/census_tutorial/preprocessing/census_1991/data/dati-cpa_1991\\R13_DatiCPA_1991.xls\n",
      "INFO | 47484 | 2024-10-10 17:56:35,822 | root | Lettura del file Excel da /home/max/Desktop/census_tutorial/preprocessing/census_1991/data/dati-cpa_1991\\R13_DatiCPA_1991.xls\n",
      "INFO | 47484 | 2024-10-10 17:56:35,822 | root | Lettura del file Excel da /home/max/Desktop/census_tutorial/preprocessing/census_1991/data/dati-cpa_1991\\R13_DatiCPA_1991.xls\n",
      "INFO | 47484 | 2024-10-10 17:56:35,822 | root | Lettura del file Excel da /home/max/Desktop/census_tutorial/preprocessing/census_1991/data/dati-cpa_1991\\R13_DatiCPA_1991.xls\n"
     ]
    },
    {
     "name": "stderr",
     "output_type": "stream",
     "text": [
      "Lettura righe...: 100%|██████████| 7293/7293 [00:00<00:00, 432580.42it/s]"
     ]
    },
    {
     "name": "stdout",
     "output_type": "stream",
     "text": [
      "INFO | 47484 | 2024-10-10 17:56:37,062 | root | Salvataggio dei dati in /home/max/Desktop/census_tutorial/preprocessing/census_1991/data/Sezioni di Censimento/R13_DatiCPA_1991.csv\n",
      "INFO | 47484 | 2024-10-10 17:56:37,062 | root | Salvataggio dei dati in /home/max/Desktop/census_tutorial/preprocessing/census_1991/data/Sezioni di Censimento/R13_DatiCPA_1991.csv\n",
      "INFO | 47484 | 2024-10-10 17:56:37,062 | root | Salvataggio dei dati in /home/max/Desktop/census_tutorial/preprocessing/census_1991/data/Sezioni di Censimento/R13_DatiCPA_1991.csv\n",
      "INFO | 47484 | 2024-10-10 17:56:37,062 | root | Salvataggio dei dati in /home/max/Desktop/census_tutorial/preprocessing/census_1991/data/Sezioni di Censimento/R13_DatiCPA_1991.csv\n",
      "INFO | 47484 | 2024-10-10 17:56:37,062 | root | Salvataggio dei dati in /home/max/Desktop/census_tutorial/preprocessing/census_1991/data/Sezioni di Censimento/R13_DatiCPA_1991.csv\n",
      "INFO | 47484 | 2024-10-10 17:56:37,062 | root | Salvataggio dei dati in /home/max/Desktop/census_tutorial/preprocessing/census_1991/data/Sezioni di Censimento/R13_DatiCPA_1991.csv\n",
      "INFO | 47484 | 2024-10-10 17:56:37,062 | root | Salvataggio dei dati in /home/max/Desktop/census_tutorial/preprocessing/census_1991/data/Sezioni di Censimento/R13_DatiCPA_1991.csv\n",
      "INFO | 47484 | 2024-10-10 17:56:37,062 | root | Salvataggio dei dati in /home/max/Desktop/census_tutorial/preprocessing/census_1991/data/Sezioni di Censimento/R13_DatiCPA_1991.csv\n"
     ]
    },
    {
     "name": "stderr",
     "output_type": "stream",
     "text": [
      "\n"
     ]
    },
    {
     "name": "stdout",
     "output_type": "stream",
     "text": [
      "INFO | 47484 | 2024-10-10 17:56:37,217 | root | Lettura del file Excel da /home/max/Desktop/census_tutorial/preprocessing/census_1991/data/dati-cpa_1991\\R17_DatiCPA_1991.xls\n",
      "INFO | 47484 | 2024-10-10 17:56:37,217 | root | Lettura del file Excel da /home/max/Desktop/census_tutorial/preprocessing/census_1991/data/dati-cpa_1991\\R17_DatiCPA_1991.xls\n",
      "INFO | 47484 | 2024-10-10 17:56:37,217 | root | Lettura del file Excel da /home/max/Desktop/census_tutorial/preprocessing/census_1991/data/dati-cpa_1991\\R17_DatiCPA_1991.xls\n",
      "INFO | 47484 | 2024-10-10 17:56:37,217 | root | Lettura del file Excel da /home/max/Desktop/census_tutorial/preprocessing/census_1991/data/dati-cpa_1991\\R17_DatiCPA_1991.xls\n",
      "INFO | 47484 | 2024-10-10 17:56:37,217 | root | Lettura del file Excel da /home/max/Desktop/census_tutorial/preprocessing/census_1991/data/dati-cpa_1991\\R17_DatiCPA_1991.xls\n",
      "INFO | 47484 | 2024-10-10 17:56:37,217 | root | Lettura del file Excel da /home/max/Desktop/census_tutorial/preprocessing/census_1991/data/dati-cpa_1991\\R17_DatiCPA_1991.xls\n",
      "INFO | 47484 | 2024-10-10 17:56:37,217 | root | Lettura del file Excel da /home/max/Desktop/census_tutorial/preprocessing/census_1991/data/dati-cpa_1991\\R17_DatiCPA_1991.xls\n",
      "INFO | 47484 | 2024-10-10 17:56:37,217 | root | Lettura del file Excel da /home/max/Desktop/census_tutorial/preprocessing/census_1991/data/dati-cpa_1991\\R17_DatiCPA_1991.xls\n"
     ]
    }
   ],
   "execution_count": null
  },
  {
   "cell_type": "markdown",
   "source": [
    "## Conclusione"
   ],
   "metadata": {
    "collapsed": false
   }
  },
  {
   "cell_type": "markdown",
   "source": [
    "Al termine del processo di download tutti i dati grezzi saranno visibili nel path di destinazione."
   ],
   "metadata": {
    "collapsed": false
   }
  }
 ],
 "metadata": {
  "kernelspec": {
   "display_name": "Python 3",
   "language": "python",
   "name": "python3"
  },
  "language_info": {
   "codemirror_mode": {
    "name": "ipython",
    "version": 2
   },
   "file_extension": ".py",
   "mimetype": "text/x-python",
   "name": "python",
   "nbconvert_exporter": "python",
   "pygments_lexer": "ipython2",
   "version": "2.7.6"
  }
 },
 "nbformat": 4,
 "nbformat_minor": 0
}
