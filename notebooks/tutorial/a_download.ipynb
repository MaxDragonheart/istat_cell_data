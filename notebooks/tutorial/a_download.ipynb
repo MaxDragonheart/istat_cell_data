{
 "cells": [
  {
   "cell_type": "markdown",
   "source": [
    "# DOWNLOAD dei dati censuari grezzi"
   ],
   "metadata": {
    "collapsed": false
   }
  },
  {
   "cell_type": "markdown",
   "source": [
    "L'installazione di ISTAT Cell Data si effettua con il classico `pip install istatcelldata`. Se si ha la necessità di installare una versione specifica si può fare riferimento [qui](istatcelldata)."
   ],
   "metadata": {
    "collapsed": false
   }
  },
  {
   "cell_type": "markdown",
   "source": [
    "## Import delle librerie"
   ],
   "metadata": {
    "collapsed": false
   }
  },
  {
   "cell_type": "code",
   "source": [
    "from pathlib import Path\n",
    "from istatcelldata.executor.download import download_census"
   ],
   "metadata": {
    "collapsed": false,
    "ExecuteTime": {
     "end_time": "2024-10-10T15:56:00.162829Z",
     "start_time": "2024-10-10T15:55:59.890946Z"
    }
   },
   "outputs": [],
   "execution_count": 1
  },
  {
   "cell_type": "markdown",
   "source": [
    "## Definizione del path di destinazione dei dati"
   ],
   "metadata": {
    "collapsed": false
   }
  },
  {
   "cell_type": "code",
   "source": "output_path = Path('/home/max/Desktop/census_tutorial')",
   "metadata": {
    "collapsed": false,
    "ExecuteTime": {
     "end_time": "2024-10-10T15:56:00.173577Z",
     "start_time": "2024-10-10T15:56:00.170682Z"
    }
   },
   "outputs": [],
   "execution_count": 2
  },
  {
   "cell_type": "markdown",
   "source": [
    "## Download"
   ],
   "metadata": {
    "collapsed": false
   }
  },
  {
   "cell_type": "code",
   "source": [
    "%%time\n",
    "\n",
    "download_census(years=[1991, 2001, 2011, 2021], region_list=[15], output_data_folder=output_path)"
   ],
   "metadata": {
    "collapsed": false,
    "ExecuteTime": {
     "end_time": "2024-10-10T16:06:05.958452Z",
     "start_time": "2024-10-10T15:56:00.287850Z"
    }
   },
   "outputs": [
    {
     "name": "stdout",
     "output_type": "stream",
     "text": [
      "INFO | 47484 | 2024-10-10 17:56:00,288 | root | Inizio dell'analisi alle 2024-10-10 17:56:00.288777\n",
      "INFO | 47484 | 2024-10-10 17:56:00,288 | root | Inizio dell'analisi alle 2024-10-10 17:56:00.288777\n",
      "INFO | 47484 | 2024-10-10 17:56:00,288 | root | Inizio dell'analisi alle 2024-10-10 17:56:00.288777\n",
      "INFO | 47484 | 2024-10-10 17:56:00,288 | root | Inizio dell'analisi alle 2024-10-10 17:56:00.288777\n",
      "INFO | 47484 | 2024-10-10 17:56:00,288 | root | Inizio dell'analisi alle 2024-10-10 17:56:00.288777\n",
      "INFO | 47484 | 2024-10-10 17:56:00,288 | root | Inizio dell'analisi alle 2024-10-10 17:56:00.288777\n",
      "INFO | 47484 | 2024-10-10 17:56:00,288 | root | Inizio dell'analisi alle 2024-10-10 17:56:00.288777\n",
      "INFO | 47484 | 2024-10-10 17:56:00,288 | root | Inizio dell'analisi alle 2024-10-10 17:56:00.288777\n",
      "INFO | 47484 | 2024-10-10 17:56:00,291 | root | Scarico i dati per il censimento del 1991\n",
      "INFO | 47484 | 2024-10-10 17:56:00,291 | root | Scarico i dati per il censimento del 1991\n",
      "INFO | 47484 | 2024-10-10 17:56:00,291 | root | Scarico i dati per il censimento del 1991\n",
      "INFO | 47484 | 2024-10-10 17:56:00,291 | root | Scarico i dati per il censimento del 1991\n",
      "INFO | 47484 | 2024-10-10 17:56:00,291 | root | Scarico i dati per il censimento del 1991\n",
      "INFO | 47484 | 2024-10-10 17:56:00,291 | root | Scarico i dati per il censimento del 1991\n",
      "INFO | 47484 | 2024-10-10 17:56:00,291 | root | Scarico i dati per il censimento del 1991\n",
      "INFO | 47484 | 2024-10-10 17:56:00,291 | root | Scarico i dati per il censimento del 1991\n",
      "INFO | 47484 | 2024-10-10 17:56:00,293 | root | Creazione della cartella di destinazione per i dati in /home/max/Desktop/census_tutorial/preprocessing\n",
      "INFO | 47484 | 2024-10-10 17:56:00,293 | root | Creazione della cartella di destinazione per i dati in /home/max/Desktop/census_tutorial/preprocessing\n",
      "INFO | 47484 | 2024-10-10 17:56:00,293 | root | Creazione della cartella di destinazione per i dati in /home/max/Desktop/census_tutorial/preprocessing\n",
      "INFO | 47484 | 2024-10-10 17:56:00,293 | root | Creazione della cartella di destinazione per i dati in /home/max/Desktop/census_tutorial/preprocessing\n",
      "INFO | 47484 | 2024-10-10 17:56:00,293 | root | Creazione della cartella di destinazione per i dati in /home/max/Desktop/census_tutorial/preprocessing\n",
      "INFO | 47484 | 2024-10-10 17:56:00,293 | root | Creazione della cartella di destinazione per i dati in /home/max/Desktop/census_tutorial/preprocessing\n",
      "INFO | 47484 | 2024-10-10 17:56:00,293 | root | Creazione della cartella di destinazione per i dati in /home/max/Desktop/census_tutorial/preprocessing\n",
      "INFO | 47484 | 2024-10-10 17:56:00,293 | root | Creazione della cartella di destinazione per i dati in /home/max/Desktop/census_tutorial/preprocessing\n",
      "INFO | 47484 | 2024-10-10 17:56:00,296 | root | Creazione della cartella per i dati del censimento 1991.\n",
      "INFO | 47484 | 2024-10-10 17:56:00,296 | root | Creazione della cartella per i dati del censimento 1991.\n",
      "INFO | 47484 | 2024-10-10 17:56:00,296 | root | Creazione della cartella per i dati del censimento 1991.\n",
      "INFO | 47484 | 2024-10-10 17:56:00,296 | root | Creazione della cartella per i dati del censimento 1991.\n",
      "INFO | 47484 | 2024-10-10 17:56:00,296 | root | Creazione della cartella per i dati del censimento 1991.\n",
      "INFO | 47484 | 2024-10-10 17:56:00,296 | root | Creazione della cartella per i dati del censimento 1991.\n",
      "INFO | 47484 | 2024-10-10 17:56:00,296 | root | Creazione della cartella per i dati del censimento 1991.\n",
      "INFO | 47484 | 2024-10-10 17:56:00,296 | root | Creazione della cartella per i dati del censimento 1991.\n",
      "INFO | 47484 | 2024-10-10 17:56:00,298 | root | Cartella creata o già esistente: /home/max/Desktop/census_tutorial/preprocessing/census_1991\n",
      "INFO | 47484 | 2024-10-10 17:56:00,298 | root | Cartella creata o già esistente: /home/max/Desktop/census_tutorial/preprocessing/census_1991\n",
      "INFO | 47484 | 2024-10-10 17:56:00,298 | root | Cartella creata o già esistente: /home/max/Desktop/census_tutorial/preprocessing/census_1991\n",
      "INFO | 47484 | 2024-10-10 17:56:00,298 | root | Cartella creata o già esistente: /home/max/Desktop/census_tutorial/preprocessing/census_1991\n",
      "INFO | 47484 | 2024-10-10 17:56:00,298 | root | Cartella creata o già esistente: /home/max/Desktop/census_tutorial/preprocessing/census_1991\n",
      "INFO | 47484 | 2024-10-10 17:56:00,298 | root | Cartella creata o già esistente: /home/max/Desktop/census_tutorial/preprocessing/census_1991\n",
      "INFO | 47484 | 2024-10-10 17:56:00,298 | root | Cartella creata o già esistente: /home/max/Desktop/census_tutorial/preprocessing/census_1991\n",
      "INFO | 47484 | 2024-10-10 17:56:00,298 | root | Cartella creata o già esistente: /home/max/Desktop/census_tutorial/preprocessing/census_1991\n",
      "INFO | 47484 | 2024-10-10 17:56:00,300 | root | Download dei dati da https://www.istat.it/storage/cartografia/variabili-censuarie/dati-cpa_1991.zip\n",
      "INFO | 47484 | 2024-10-10 17:56:00,300 | root | Download dei dati da https://www.istat.it/storage/cartografia/variabili-censuarie/dati-cpa_1991.zip\n",
      "INFO | 47484 | 2024-10-10 17:56:00,300 | root | Download dei dati da https://www.istat.it/storage/cartografia/variabili-censuarie/dati-cpa_1991.zip\n",
      "INFO | 47484 | 2024-10-10 17:56:00,300 | root | Download dei dati da https://www.istat.it/storage/cartografia/variabili-censuarie/dati-cpa_1991.zip\n",
      "INFO | 47484 | 2024-10-10 17:56:00,300 | root | Download dei dati da https://www.istat.it/storage/cartografia/variabili-censuarie/dati-cpa_1991.zip\n",
      "INFO | 47484 | 2024-10-10 17:56:00,300 | root | Download dei dati da https://www.istat.it/storage/cartografia/variabili-censuarie/dati-cpa_1991.zip\n",
      "INFO | 47484 | 2024-10-10 17:56:00,300 | root | Download dei dati da https://www.istat.it/storage/cartografia/variabili-censuarie/dati-cpa_1991.zip\n",
      "INFO | 47484 | 2024-10-10 17:56:00,300 | root | Download dei dati da https://www.istat.it/storage/cartografia/variabili-censuarie/dati-cpa_1991.zip\n",
      "INFO | 47484 | 2024-10-10 17:56:00,302 | root | Inizio download dei dati dal link: https://www.istat.it/storage/cartografia/variabili-censuarie/dati-cpa_1991.zip\n",
      "INFO | 47484 | 2024-10-10 17:56:00,302 | root | Inizio download dei dati dal link: https://www.istat.it/storage/cartografia/variabili-censuarie/dati-cpa_1991.zip\n",
      "INFO | 47484 | 2024-10-10 17:56:00,302 | root | Inizio download dei dati dal link: https://www.istat.it/storage/cartografia/variabili-censuarie/dati-cpa_1991.zip\n",
      "INFO | 47484 | 2024-10-10 17:56:00,302 | root | Inizio download dei dati dal link: https://www.istat.it/storage/cartografia/variabili-censuarie/dati-cpa_1991.zip\n",
      "INFO | 47484 | 2024-10-10 17:56:00,302 | root | Inizio download dei dati dal link: https://www.istat.it/storage/cartografia/variabili-censuarie/dati-cpa_1991.zip\n",
      "INFO | 47484 | 2024-10-10 17:56:00,302 | root | Inizio download dei dati dal link: https://www.istat.it/storage/cartografia/variabili-censuarie/dati-cpa_1991.zip\n",
      "INFO | 47484 | 2024-10-10 17:56:00,302 | root | Inizio download dei dati dal link: https://www.istat.it/storage/cartografia/variabili-censuarie/dati-cpa_1991.zip\n",
      "INFO | 47484 | 2024-10-10 17:56:00,302 | root | Inizio download dei dati dal link: https://www.istat.it/storage/cartografia/variabili-censuarie/dati-cpa_1991.zip\n"
     ]
    },
    {
     "name": "stderr",
     "output_type": "stream",
     "text": [
      "In download...: 100%|██████████| 61.0M/61.0M [00:07<00:00, 8.91MB/s]"
     ]
    },
    {
     "name": "stdout",
     "output_type": "stream",
     "text": [
      "INFO | 47484 | 2024-10-10 17:56:07,599 | root | Download completato con successo in 7.30 secondi.\n",
      "INFO | 47484 | 2024-10-10 17:56:07,599 | root | Download completato con successo in 7.30 secondi.\n",
      "INFO | 47484 | 2024-10-10 17:56:07,599 | root | Download completato con successo in 7.30 secondi.\n",
      "INFO | 47484 | 2024-10-10 17:56:07,599 | root | Download completato con successo in 7.30 secondi.\n",
      "INFO | 47484 | 2024-10-10 17:56:07,599 | root | Download completato con successo in 7.30 secondi.\n",
      "INFO | 47484 | 2024-10-10 17:56:07,599 | root | Download completato con successo in 7.30 secondi.\n",
      "INFO | 47484 | 2024-10-10 17:56:07,599 | root | Download completato con successo in 7.30 secondi.\n",
      "INFO | 47484 | 2024-10-10 17:56:07,599 | root | Download completato con successo in 7.30 secondi.\n",
      "INFO | 47484 | 2024-10-10 17:56:07,602 | root | Inizio estrazione del file ZIP.\n",
      "INFO | 47484 | 2024-10-10 17:56:07,602 | root | Inizio estrazione del file ZIP.\n",
      "INFO | 47484 | 2024-10-10 17:56:07,602 | root | Inizio estrazione del file ZIP.\n",
      "INFO | 47484 | 2024-10-10 17:56:07,602 | root | Inizio estrazione del file ZIP.\n",
      "INFO | 47484 | 2024-10-10 17:56:07,602 | root | Inizio estrazione del file ZIP.\n",
      "INFO | 47484 | 2024-10-10 17:56:07,602 | root | Inizio estrazione del file ZIP.\n",
      "INFO | 47484 | 2024-10-10 17:56:07,602 | root | Inizio estrazione del file ZIP.\n",
      "INFO | 47484 | 2024-10-10 17:56:07,602 | root | Inizio estrazione del file ZIP.\n",
      "INFO | 47484 | 2024-10-10 17:56:07,604 | root | Decompressione del file /home/max/Desktop/census_tutorial/preprocessing/census_1991/data/dati-cpa_1991.zip nella cartella /home/max/Desktop/census_tutorial/preprocessing/census_1991/data.\n",
      "INFO | 47484 | 2024-10-10 17:56:07,604 | root | Decompressione del file /home/max/Desktop/census_tutorial/preprocessing/census_1991/data/dati-cpa_1991.zip nella cartella /home/max/Desktop/census_tutorial/preprocessing/census_1991/data.\n",
      "INFO | 47484 | 2024-10-10 17:56:07,604 | root | Decompressione del file /home/max/Desktop/census_tutorial/preprocessing/census_1991/data/dati-cpa_1991.zip nella cartella /home/max/Desktop/census_tutorial/preprocessing/census_1991/data.\n",
      "INFO | 47484 | 2024-10-10 17:56:07,604 | root | Decompressione del file /home/max/Desktop/census_tutorial/preprocessing/census_1991/data/dati-cpa_1991.zip nella cartella /home/max/Desktop/census_tutorial/preprocessing/census_1991/data.\n",
      "INFO | 47484 | 2024-10-10 17:56:07,604 | root | Decompressione del file /home/max/Desktop/census_tutorial/preprocessing/census_1991/data/dati-cpa_1991.zip nella cartella /home/max/Desktop/census_tutorial/preprocessing/census_1991/data.\n",
      "INFO | 47484 | 2024-10-10 17:56:07,604 | root | Decompressione del file /home/max/Desktop/census_tutorial/preprocessing/census_1991/data/dati-cpa_1991.zip nella cartella /home/max/Desktop/census_tutorial/preprocessing/census_1991/data.\n",
      "INFO | 47484 | 2024-10-10 17:56:07,604 | root | Decompressione del file /home/max/Desktop/census_tutorial/preprocessing/census_1991/data/dati-cpa_1991.zip nella cartella /home/max/Desktop/census_tutorial/preprocessing/census_1991/data.\n",
      "INFO | 47484 | 2024-10-10 17:56:07,604 | root | Decompressione del file /home/max/Desktop/census_tutorial/preprocessing/census_1991/data/dati-cpa_1991.zip nella cartella /home/max/Desktop/census_tutorial/preprocessing/census_1991/data.\n"
     ]
    },
    {
     "name": "stderr",
     "output_type": "stream",
     "text": [
      "\n"
     ]
    },
    {
     "name": "stdout",
     "output_type": "stream",
     "text": [
      "INFO | 47484 | 2024-10-10 17:56:08,726 | root | Decompressione completata. File estratti in /home/max/Desktop/census_tutorial/preprocessing/census_1991/data.\n",
      "INFO | 47484 | 2024-10-10 17:56:08,726 | root | Decompressione completata. File estratti in /home/max/Desktop/census_tutorial/preprocessing/census_1991/data.\n",
      "INFO | 47484 | 2024-10-10 17:56:08,726 | root | Decompressione completata. File estratti in /home/max/Desktop/census_tutorial/preprocessing/census_1991/data.\n",
      "INFO | 47484 | 2024-10-10 17:56:08,726 | root | Decompressione completata. File estratti in /home/max/Desktop/census_tutorial/preprocessing/census_1991/data.\n",
      "INFO | 47484 | 2024-10-10 17:56:08,726 | root | Decompressione completata. File estratti in /home/max/Desktop/census_tutorial/preprocessing/census_1991/data.\n",
      "INFO | 47484 | 2024-10-10 17:56:08,726 | root | Decompressione completata. File estratti in /home/max/Desktop/census_tutorial/preprocessing/census_1991/data.\n",
      "INFO | 47484 | 2024-10-10 17:56:08,726 | root | Decompressione completata. File estratti in /home/max/Desktop/census_tutorial/preprocessing/census_1991/data.\n",
      "INFO | 47484 | 2024-10-10 17:56:08,726 | root | Decompressione completata. File estratti in /home/max/Desktop/census_tutorial/preprocessing/census_1991/data.\n",
      "INFO | 47484 | 2024-10-10 17:56:08,729 | root | Eliminazione del file ZIP | /home/max/Desktop/census_tutorial/preprocessing/census_1991/data/dati-cpa_1991.zip\n",
      "INFO | 47484 | 2024-10-10 17:56:08,729 | root | Eliminazione del file ZIP | /home/max/Desktop/census_tutorial/preprocessing/census_1991/data/dati-cpa_1991.zip\n",
      "INFO | 47484 | 2024-10-10 17:56:08,729 | root | Eliminazione del file ZIP | /home/max/Desktop/census_tutorial/preprocessing/census_1991/data/dati-cpa_1991.zip\n",
      "INFO | 47484 | 2024-10-10 17:56:08,729 | root | Eliminazione del file ZIP | /home/max/Desktop/census_tutorial/preprocessing/census_1991/data/dati-cpa_1991.zip\n",
      "INFO | 47484 | 2024-10-10 17:56:08,729 | root | Eliminazione del file ZIP | /home/max/Desktop/census_tutorial/preprocessing/census_1991/data/dati-cpa_1991.zip\n",
      "INFO | 47484 | 2024-10-10 17:56:08,729 | root | Eliminazione del file ZIP | /home/max/Desktop/census_tutorial/preprocessing/census_1991/data/dati-cpa_1991.zip\n",
      "INFO | 47484 | 2024-10-10 17:56:08,729 | root | Eliminazione del file ZIP | /home/max/Desktop/census_tutorial/preprocessing/census_1991/data/dati-cpa_1991.zip\n",
      "INFO | 47484 | 2024-10-10 17:56:08,729 | root | Eliminazione del file ZIP | /home/max/Desktop/census_tutorial/preprocessing/census_1991/data/dati-cpa_1991.zip\n",
      "INFO | 47484 | 2024-10-10 17:56:08,736 | root | File ZIP eliminato con successo.\n",
      "INFO | 47484 | 2024-10-10 17:56:08,736 | root | File ZIP eliminato con successo.\n",
      "INFO | 47484 | 2024-10-10 17:56:08,736 | root | File ZIP eliminato con successo.\n",
      "INFO | 47484 | 2024-10-10 17:56:08,736 | root | File ZIP eliminato con successo.\n",
      "INFO | 47484 | 2024-10-10 17:56:08,736 | root | File ZIP eliminato con successo.\n",
      "INFO | 47484 | 2024-10-10 17:56:08,736 | root | File ZIP eliminato con successo.\n",
      "INFO | 47484 | 2024-10-10 17:56:08,736 | root | File ZIP eliminato con successo.\n",
      "INFO | 47484 | 2024-10-10 17:56:08,736 | root | File ZIP eliminato con successo.\n",
      "INFO | 47484 | 2024-10-10 17:56:08,739 | root | Download dei dati censuari completato e salvato in /home/max/Desktop/census_tutorial/preprocessing/census_1991\n",
      "INFO | 47484 | 2024-10-10 17:56:08,739 | root | Download dei dati censuari completato e salvato in /home/max/Desktop/census_tutorial/preprocessing/census_1991\n",
      "INFO | 47484 | 2024-10-10 17:56:08,739 | root | Download dei dati censuari completato e salvato in /home/max/Desktop/census_tutorial/preprocessing/census_1991\n",
      "INFO | 47484 | 2024-10-10 17:56:08,739 | root | Download dei dati censuari completato e salvato in /home/max/Desktop/census_tutorial/preprocessing/census_1991\n",
      "INFO | 47484 | 2024-10-10 17:56:08,739 | root | Download dei dati censuari completato e salvato in /home/max/Desktop/census_tutorial/preprocessing/census_1991\n",
      "INFO | 47484 | 2024-10-10 17:56:08,739 | root | Download dei dati censuari completato e salvato in /home/max/Desktop/census_tutorial/preprocessing/census_1991\n",
      "INFO | 47484 | 2024-10-10 17:56:08,739 | root | Download dei dati censuari completato e salvato in /home/max/Desktop/census_tutorial/preprocessing/census_1991\n",
      "INFO | 47484 | 2024-10-10 17:56:08,739 | root | Download dei dati censuari completato e salvato in /home/max/Desktop/census_tutorial/preprocessing/census_1991\n",
      "INFO | 47484 | 2024-10-10 17:56:08,742 | root | Estrazione dei dati censuari in formato xls e conversione in csv.\n",
      "INFO | 47484 | 2024-10-10 17:56:08,742 | root | Estrazione dei dati censuari in formato xls e conversione in csv.\n",
      "INFO | 47484 | 2024-10-10 17:56:08,742 | root | Estrazione dei dati censuari in formato xls e conversione in csv.\n",
      "INFO | 47484 | 2024-10-10 17:56:08,742 | root | Estrazione dei dati censuari in formato xls e conversione in csv.\n",
      "INFO | 47484 | 2024-10-10 17:56:08,742 | root | Estrazione dei dati censuari in formato xls e conversione in csv.\n",
      "INFO | 47484 | 2024-10-10 17:56:08,742 | root | Estrazione dei dati censuari in formato xls e conversione in csv.\n",
      "INFO | 47484 | 2024-10-10 17:56:08,742 | root | Estrazione dei dati censuari in formato xls e conversione in csv.\n",
      "INFO | 47484 | 2024-10-10 17:56:08,742 | root | Estrazione dei dati censuari in formato xls e conversione in csv.\n",
      "INFO | 47484 | 2024-10-10 17:56:08,745 | root | Lettura del file Excel da /home/max/Desktop/census_tutorial/preprocessing/census_1991/data/dati-cpa_1991\\R05_DatiCPA_1991.xls\n",
      "INFO | 47484 | 2024-10-10 17:56:08,745 | root | Lettura del file Excel da /home/max/Desktop/census_tutorial/preprocessing/census_1991/data/dati-cpa_1991\\R05_DatiCPA_1991.xls\n",
      "INFO | 47484 | 2024-10-10 17:56:08,745 | root | Lettura del file Excel da /home/max/Desktop/census_tutorial/preprocessing/census_1991/data/dati-cpa_1991\\R05_DatiCPA_1991.xls\n",
      "INFO | 47484 | 2024-10-10 17:56:08,745 | root | Lettura del file Excel da /home/max/Desktop/census_tutorial/preprocessing/census_1991/data/dati-cpa_1991\\R05_DatiCPA_1991.xls\n",
      "INFO | 47484 | 2024-10-10 17:56:08,745 | root | Lettura del file Excel da /home/max/Desktop/census_tutorial/preprocessing/census_1991/data/dati-cpa_1991\\R05_DatiCPA_1991.xls\n",
      "INFO | 47484 | 2024-10-10 17:56:08,745 | root | Lettura del file Excel da /home/max/Desktop/census_tutorial/preprocessing/census_1991/data/dati-cpa_1991\\R05_DatiCPA_1991.xls\n",
      "INFO | 47484 | 2024-10-10 17:56:08,745 | root | Lettura del file Excel da /home/max/Desktop/census_tutorial/preprocessing/census_1991/data/dati-cpa_1991\\R05_DatiCPA_1991.xls\n",
      "INFO | 47484 | 2024-10-10 17:56:08,745 | root | Lettura del file Excel da /home/max/Desktop/census_tutorial/preprocessing/census_1991/data/dati-cpa_1991\\R05_DatiCPA_1991.xls\n"
     ]
    },
    {
     "name": "stderr",
     "output_type": "stream",
     "text": [
      "Lettura righe...: 100%|██████████| 27713/27713 [00:00<00:00, 354989.65it/s]\n"
     ]
    },
    {
     "name": "stdout",
     "output_type": "stream",
     "text": [
      "INFO | 47484 | 2024-10-10 17:56:13,520 | root | Salvataggio dei dati in /home/max/Desktop/census_tutorial/preprocessing/census_1991/data/Sezioni di Censimento/R05_DatiCPA_1991.csv\n",
      "INFO | 47484 | 2024-10-10 17:56:13,520 | root | Salvataggio dei dati in /home/max/Desktop/census_tutorial/preprocessing/census_1991/data/Sezioni di Censimento/R05_DatiCPA_1991.csv\n",
      "INFO | 47484 | 2024-10-10 17:56:13,520 | root | Salvataggio dei dati in /home/max/Desktop/census_tutorial/preprocessing/census_1991/data/Sezioni di Censimento/R05_DatiCPA_1991.csv\n",
      "INFO | 47484 | 2024-10-10 17:56:13,520 | root | Salvataggio dei dati in /home/max/Desktop/census_tutorial/preprocessing/census_1991/data/Sezioni di Censimento/R05_DatiCPA_1991.csv\n",
      "INFO | 47484 | 2024-10-10 17:56:13,520 | root | Salvataggio dei dati in /home/max/Desktop/census_tutorial/preprocessing/census_1991/data/Sezioni di Censimento/R05_DatiCPA_1991.csv\n",
      "INFO | 47484 | 2024-10-10 17:56:13,520 | root | Salvataggio dei dati in /home/max/Desktop/census_tutorial/preprocessing/census_1991/data/Sezioni di Censimento/R05_DatiCPA_1991.csv\n",
      "INFO | 47484 | 2024-10-10 17:56:13,520 | root | Salvataggio dei dati in /home/max/Desktop/census_tutorial/preprocessing/census_1991/data/Sezioni di Censimento/R05_DatiCPA_1991.csv\n",
      "INFO | 47484 | 2024-10-10 17:56:13,520 | root | Salvataggio dei dati in /home/max/Desktop/census_tutorial/preprocessing/census_1991/data/Sezioni di Censimento/R05_DatiCPA_1991.csv\n",
      "INFO | 47484 | 2024-10-10 17:56:14,145 | root | Lettura del file Excel da /home/max/Desktop/census_tutorial/preprocessing/census_1991/data/dati-cpa_1991\\R07_DatiCPA_1991.xls\n",
      "INFO | 47484 | 2024-10-10 17:56:14,145 | root | Lettura del file Excel da /home/max/Desktop/census_tutorial/preprocessing/census_1991/data/dati-cpa_1991\\R07_DatiCPA_1991.xls\n",
      "INFO | 47484 | 2024-10-10 17:56:14,145 | root | Lettura del file Excel da /home/max/Desktop/census_tutorial/preprocessing/census_1991/data/dati-cpa_1991\\R07_DatiCPA_1991.xls\n",
      "INFO | 47484 | 2024-10-10 17:56:14,145 | root | Lettura del file Excel da /home/max/Desktop/census_tutorial/preprocessing/census_1991/data/dati-cpa_1991\\R07_DatiCPA_1991.xls\n",
      "INFO | 47484 | 2024-10-10 17:56:14,145 | root | Lettura del file Excel da /home/max/Desktop/census_tutorial/preprocessing/census_1991/data/dati-cpa_1991\\R07_DatiCPA_1991.xls\n",
      "INFO | 47484 | 2024-10-10 17:56:14,145 | root | Lettura del file Excel da /home/max/Desktop/census_tutorial/preprocessing/census_1991/data/dati-cpa_1991\\R07_DatiCPA_1991.xls\n",
      "INFO | 47484 | 2024-10-10 17:56:14,145 | root | Lettura del file Excel da /home/max/Desktop/census_tutorial/preprocessing/census_1991/data/dati-cpa_1991\\R07_DatiCPA_1991.xls\n",
      "INFO | 47484 | 2024-10-10 17:56:14,145 | root | Lettura del file Excel da /home/max/Desktop/census_tutorial/preprocessing/census_1991/data/dati-cpa_1991\\R07_DatiCPA_1991.xls\n"
     ]
    },
    {
     "name": "stderr",
     "output_type": "stream",
     "text": [
      "Lettura righe...: 100%|██████████| 9664/9664 [00:00<00:00, 391566.16it/s]"
     ]
    },
    {
     "name": "stdout",
     "output_type": "stream",
     "text": [
      "INFO | 47484 | 2024-10-10 17:56:15,804 | root | Salvataggio dei dati in /home/max/Desktop/census_tutorial/preprocessing/census_1991/data/Sezioni di Censimento/R07_DatiCPA_1991.csv\n",
      "INFO | 47484 | 2024-10-10 17:56:15,804 | root | Salvataggio dei dati in /home/max/Desktop/census_tutorial/preprocessing/census_1991/data/Sezioni di Censimento/R07_DatiCPA_1991.csv\n",
      "INFO | 47484 | 2024-10-10 17:56:15,804 | root | Salvataggio dei dati in /home/max/Desktop/census_tutorial/preprocessing/census_1991/data/Sezioni di Censimento/R07_DatiCPA_1991.csv\n",
      "INFO | 47484 | 2024-10-10 17:56:15,804 | root | Salvataggio dei dati in /home/max/Desktop/census_tutorial/preprocessing/census_1991/data/Sezioni di Censimento/R07_DatiCPA_1991.csv\n",
      "INFO | 47484 | 2024-10-10 17:56:15,804 | root | Salvataggio dei dati in /home/max/Desktop/census_tutorial/preprocessing/census_1991/data/Sezioni di Censimento/R07_DatiCPA_1991.csv\n",
      "INFO | 47484 | 2024-10-10 17:56:15,804 | root | Salvataggio dei dati in /home/max/Desktop/census_tutorial/preprocessing/census_1991/data/Sezioni di Censimento/R07_DatiCPA_1991.csv\n",
      "INFO | 47484 | 2024-10-10 17:56:15,804 | root | Salvataggio dei dati in /home/max/Desktop/census_tutorial/preprocessing/census_1991/data/Sezioni di Censimento/R07_DatiCPA_1991.csv\n",
      "INFO | 47484 | 2024-10-10 17:56:15,804 | root | Salvataggio dei dati in /home/max/Desktop/census_tutorial/preprocessing/census_1991/data/Sezioni di Censimento/R07_DatiCPA_1991.csv\n"
     ]
    },
    {
     "name": "stderr",
     "output_type": "stream",
     "text": [
      "\n"
     ]
    },
    {
     "name": "stdout",
     "output_type": "stream",
     "text": [
      "INFO | 47484 | 2024-10-10 17:56:16,007 | root | Lettura del file Excel da /home/max/Desktop/census_tutorial/preprocessing/census_1991/data/dati-cpa_1991\\R14_DatiCPA_1991.xls\n",
      "INFO | 47484 | 2024-10-10 17:56:16,007 | root | Lettura del file Excel da /home/max/Desktop/census_tutorial/preprocessing/census_1991/data/dati-cpa_1991\\R14_DatiCPA_1991.xls\n",
      "INFO | 47484 | 2024-10-10 17:56:16,007 | root | Lettura del file Excel da /home/max/Desktop/census_tutorial/preprocessing/census_1991/data/dati-cpa_1991\\R14_DatiCPA_1991.xls\n",
      "INFO | 47484 | 2024-10-10 17:56:16,007 | root | Lettura del file Excel da /home/max/Desktop/census_tutorial/preprocessing/census_1991/data/dati-cpa_1991\\R14_DatiCPA_1991.xls\n",
      "INFO | 47484 | 2024-10-10 17:56:16,007 | root | Lettura del file Excel da /home/max/Desktop/census_tutorial/preprocessing/census_1991/data/dati-cpa_1991\\R14_DatiCPA_1991.xls\n",
      "INFO | 47484 | 2024-10-10 17:56:16,007 | root | Lettura del file Excel da /home/max/Desktop/census_tutorial/preprocessing/census_1991/data/dati-cpa_1991\\R14_DatiCPA_1991.xls\n",
      "INFO | 47484 | 2024-10-10 17:56:16,007 | root | Lettura del file Excel da /home/max/Desktop/census_tutorial/preprocessing/census_1991/data/dati-cpa_1991\\R14_DatiCPA_1991.xls\n",
      "INFO | 47484 | 2024-10-10 17:56:16,007 | root | Lettura del file Excel da /home/max/Desktop/census_tutorial/preprocessing/census_1991/data/dati-cpa_1991\\R14_DatiCPA_1991.xls\n"
     ]
    },
    {
     "name": "stderr",
     "output_type": "stream",
     "text": [
      "Lettura righe...: 100%|██████████| 1602/1602 [00:00<00:00, 659075.53it/s]"
     ]
    },
    {
     "name": "stdout",
     "output_type": "stream",
     "text": [
      "INFO | 47484 | 2024-10-10 17:56:16,405 | root | Salvataggio dei dati in /home/max/Desktop/census_tutorial/preprocessing/census_1991/data/Sezioni di Censimento/R14_DatiCPA_1991.csv\n",
      "INFO | 47484 | 2024-10-10 17:56:16,405 | root | Salvataggio dei dati in /home/max/Desktop/census_tutorial/preprocessing/census_1991/data/Sezioni di Censimento/R14_DatiCPA_1991.csv\n",
      "INFO | 47484 | 2024-10-10 17:56:16,405 | root | Salvataggio dei dati in /home/max/Desktop/census_tutorial/preprocessing/census_1991/data/Sezioni di Censimento/R14_DatiCPA_1991.csv\n",
      "INFO | 47484 | 2024-10-10 17:56:16,405 | root | Salvataggio dei dati in /home/max/Desktop/census_tutorial/preprocessing/census_1991/data/Sezioni di Censimento/R14_DatiCPA_1991.csv\n",
      "INFO | 47484 | 2024-10-10 17:56:16,405 | root | Salvataggio dei dati in /home/max/Desktop/census_tutorial/preprocessing/census_1991/data/Sezioni di Censimento/R14_DatiCPA_1991.csv\n",
      "INFO | 47484 | 2024-10-10 17:56:16,405 | root | Salvataggio dei dati in /home/max/Desktop/census_tutorial/preprocessing/census_1991/data/Sezioni di Censimento/R14_DatiCPA_1991.csv\n",
      "INFO | 47484 | 2024-10-10 17:56:16,405 | root | Salvataggio dei dati in /home/max/Desktop/census_tutorial/preprocessing/census_1991/data/Sezioni di Censimento/R14_DatiCPA_1991.csv\n",
      "INFO | 47484 | 2024-10-10 17:56:16,405 | root | Salvataggio dei dati in /home/max/Desktop/census_tutorial/preprocessing/census_1991/data/Sezioni di Censimento/R14_DatiCPA_1991.csv\n",
      "INFO | 47484 | 2024-10-10 17:56:16,445 | root | Lettura del file Excel da /home/max/Desktop/census_tutorial/preprocessing/census_1991/data/dati-cpa_1991\\R12_DatiCPA_1991.xls\n",
      "INFO | 47484 | 2024-10-10 17:56:16,445 | root | Lettura del file Excel da /home/max/Desktop/census_tutorial/preprocessing/census_1991/data/dati-cpa_1991\\R12_DatiCPA_1991.xls\n",
      "INFO | 47484 | 2024-10-10 17:56:16,445 | root | Lettura del file Excel da /home/max/Desktop/census_tutorial/preprocessing/census_1991/data/dati-cpa_1991\\R12_DatiCPA_1991.xls\n",
      "INFO | 47484 | 2024-10-10 17:56:16,445 | root | Lettura del file Excel da /home/max/Desktop/census_tutorial/preprocessing/census_1991/data/dati-cpa_1991\\R12_DatiCPA_1991.xls\n",
      "INFO | 47484 | 2024-10-10 17:56:16,445 | root | Lettura del file Excel da /home/max/Desktop/census_tutorial/preprocessing/census_1991/data/dati-cpa_1991\\R12_DatiCPA_1991.xls\n",
      "INFO | 47484 | 2024-10-10 17:56:16,445 | root | Lettura del file Excel da /home/max/Desktop/census_tutorial/preprocessing/census_1991/data/dati-cpa_1991\\R12_DatiCPA_1991.xls\n",
      "INFO | 47484 | 2024-10-10 17:56:16,445 | root | Lettura del file Excel da /home/max/Desktop/census_tutorial/preprocessing/census_1991/data/dati-cpa_1991\\R12_DatiCPA_1991.xls\n",
      "INFO | 47484 | 2024-10-10 17:56:16,445 | root | Lettura del file Excel da /home/max/Desktop/census_tutorial/preprocessing/census_1991/data/dati-cpa_1991\\R12_DatiCPA_1991.xls\n"
     ]
    },
    {
     "name": "stderr",
     "output_type": "stream",
     "text": [
      "\n",
      "Lettura righe...: 100%|██████████| 22477/22477 [00:00<00:00, 375295.56it/s]\n"
     ]
    },
    {
     "name": "stdout",
     "output_type": "stream",
     "text": [
      "INFO | 47484 | 2024-10-10 17:56:20,293 | root | Salvataggio dei dati in /home/max/Desktop/census_tutorial/preprocessing/census_1991/data/Sezioni di Censimento/R12_DatiCPA_1991.csv\n",
      "INFO | 47484 | 2024-10-10 17:56:20,293 | root | Salvataggio dei dati in /home/max/Desktop/census_tutorial/preprocessing/census_1991/data/Sezioni di Censimento/R12_DatiCPA_1991.csv\n",
      "INFO | 47484 | 2024-10-10 17:56:20,293 | root | Salvataggio dei dati in /home/max/Desktop/census_tutorial/preprocessing/census_1991/data/Sezioni di Censimento/R12_DatiCPA_1991.csv\n",
      "INFO | 47484 | 2024-10-10 17:56:20,293 | root | Salvataggio dei dati in /home/max/Desktop/census_tutorial/preprocessing/census_1991/data/Sezioni di Censimento/R12_DatiCPA_1991.csv\n",
      "INFO | 47484 | 2024-10-10 17:56:20,293 | root | Salvataggio dei dati in /home/max/Desktop/census_tutorial/preprocessing/census_1991/data/Sezioni di Censimento/R12_DatiCPA_1991.csv\n",
      "INFO | 47484 | 2024-10-10 17:56:20,293 | root | Salvataggio dei dati in /home/max/Desktop/census_tutorial/preprocessing/census_1991/data/Sezioni di Censimento/R12_DatiCPA_1991.csv\n",
      "INFO | 47484 | 2024-10-10 17:56:20,293 | root | Salvataggio dei dati in /home/max/Desktop/census_tutorial/preprocessing/census_1991/data/Sezioni di Censimento/R12_DatiCPA_1991.csv\n",
      "INFO | 47484 | 2024-10-10 17:56:20,293 | root | Salvataggio dei dati in /home/max/Desktop/census_tutorial/preprocessing/census_1991/data/Sezioni di Censimento/R12_DatiCPA_1991.csv\n",
      "INFO | 47484 | 2024-10-10 17:56:20,816 | root | Lettura del file Excel da /home/max/Desktop/census_tutorial/preprocessing/census_1991/data/dati-cpa_1991\\R11_DatiCPA_1991.xls\n",
      "INFO | 47484 | 2024-10-10 17:56:20,816 | root | Lettura del file Excel da /home/max/Desktop/census_tutorial/preprocessing/census_1991/data/dati-cpa_1991\\R11_DatiCPA_1991.xls\n",
      "INFO | 47484 | 2024-10-10 17:56:20,816 | root | Lettura del file Excel da /home/max/Desktop/census_tutorial/preprocessing/census_1991/data/dati-cpa_1991\\R11_DatiCPA_1991.xls\n",
      "INFO | 47484 | 2024-10-10 17:56:20,816 | root | Lettura del file Excel da /home/max/Desktop/census_tutorial/preprocessing/census_1991/data/dati-cpa_1991\\R11_DatiCPA_1991.xls\n",
      "INFO | 47484 | 2024-10-10 17:56:20,816 | root | Lettura del file Excel da /home/max/Desktop/census_tutorial/preprocessing/census_1991/data/dati-cpa_1991\\R11_DatiCPA_1991.xls\n",
      "INFO | 47484 | 2024-10-10 17:56:20,816 | root | Lettura del file Excel da /home/max/Desktop/census_tutorial/preprocessing/census_1991/data/dati-cpa_1991\\R11_DatiCPA_1991.xls\n",
      "INFO | 47484 | 2024-10-10 17:56:20,816 | root | Lettura del file Excel da /home/max/Desktop/census_tutorial/preprocessing/census_1991/data/dati-cpa_1991\\R11_DatiCPA_1991.xls\n",
      "INFO | 47484 | 2024-10-10 17:56:20,816 | root | Lettura del file Excel da /home/max/Desktop/census_tutorial/preprocessing/census_1991/data/dati-cpa_1991\\R11_DatiCPA_1991.xls\n"
     ]
    },
    {
     "name": "stderr",
     "output_type": "stream",
     "text": [
      "Lettura righe...: 100%|██████████| 9606/9606 [00:00<00:00, 319877.45it/s]"
     ]
    },
    {
     "name": "stdout",
     "output_type": "stream",
     "text": [
      "INFO | 47484 | 2024-10-10 17:56:22,440 | root | Salvataggio dei dati in /home/max/Desktop/census_tutorial/preprocessing/census_1991/data/Sezioni di Censimento/R11_DatiCPA_1991.csv\n",
      "INFO | 47484 | 2024-10-10 17:56:22,440 | root | Salvataggio dei dati in /home/max/Desktop/census_tutorial/preprocessing/census_1991/data/Sezioni di Censimento/R11_DatiCPA_1991.csv\n",
      "INFO | 47484 | 2024-10-10 17:56:22,440 | root | Salvataggio dei dati in /home/max/Desktop/census_tutorial/preprocessing/census_1991/data/Sezioni di Censimento/R11_DatiCPA_1991.csv\n",
      "INFO | 47484 | 2024-10-10 17:56:22,440 | root | Salvataggio dei dati in /home/max/Desktop/census_tutorial/preprocessing/census_1991/data/Sezioni di Censimento/R11_DatiCPA_1991.csv\n",
      "INFO | 47484 | 2024-10-10 17:56:22,440 | root | Salvataggio dei dati in /home/max/Desktop/census_tutorial/preprocessing/census_1991/data/Sezioni di Censimento/R11_DatiCPA_1991.csv\n",
      "INFO | 47484 | 2024-10-10 17:56:22,440 | root | Salvataggio dei dati in /home/max/Desktop/census_tutorial/preprocessing/census_1991/data/Sezioni di Censimento/R11_DatiCPA_1991.csv\n",
      "INFO | 47484 | 2024-10-10 17:56:22,440 | root | Salvataggio dei dati in /home/max/Desktop/census_tutorial/preprocessing/census_1991/data/Sezioni di Censimento/R11_DatiCPA_1991.csv\n",
      "INFO | 47484 | 2024-10-10 17:56:22,440 | root | Salvataggio dei dati in /home/max/Desktop/census_tutorial/preprocessing/census_1991/data/Sezioni di Censimento/R11_DatiCPA_1991.csv\n"
     ]
    },
    {
     "name": "stderr",
     "output_type": "stream",
     "text": [
      "\n"
     ]
    },
    {
     "name": "stdout",
     "output_type": "stream",
     "text": [
      "INFO | 47484 | 2024-10-10 17:56:22,755 | root | Lettura del file Excel da /home/max/Desktop/census_tutorial/preprocessing/census_1991/data/dati-cpa_1991\\R01_DatiCPA_1991.xls\n",
      "INFO | 47484 | 2024-10-10 17:56:22,755 | root | Lettura del file Excel da /home/max/Desktop/census_tutorial/preprocessing/census_1991/data/dati-cpa_1991\\R01_DatiCPA_1991.xls\n",
      "INFO | 47484 | 2024-10-10 17:56:22,755 | root | Lettura del file Excel da /home/max/Desktop/census_tutorial/preprocessing/census_1991/data/dati-cpa_1991\\R01_DatiCPA_1991.xls\n",
      "INFO | 47484 | 2024-10-10 17:56:22,755 | root | Lettura del file Excel da /home/max/Desktop/census_tutorial/preprocessing/census_1991/data/dati-cpa_1991\\R01_DatiCPA_1991.xls\n",
      "INFO | 47484 | 2024-10-10 17:56:22,755 | root | Lettura del file Excel da /home/max/Desktop/census_tutorial/preprocessing/census_1991/data/dati-cpa_1991\\R01_DatiCPA_1991.xls\n",
      "INFO | 47484 | 2024-10-10 17:56:22,755 | root | Lettura del file Excel da /home/max/Desktop/census_tutorial/preprocessing/census_1991/data/dati-cpa_1991\\R01_DatiCPA_1991.xls\n",
      "INFO | 47484 | 2024-10-10 17:56:22,755 | root | Lettura del file Excel da /home/max/Desktop/census_tutorial/preprocessing/census_1991/data/dati-cpa_1991\\R01_DatiCPA_1991.xls\n",
      "INFO | 47484 | 2024-10-10 17:56:22,755 | root | Lettura del file Excel da /home/max/Desktop/census_tutorial/preprocessing/census_1991/data/dati-cpa_1991\\R01_DatiCPA_1991.xls\n"
     ]
    },
    {
     "name": "stderr",
     "output_type": "stream",
     "text": [
      "Lettura righe...: 100%|██████████| 25658/25658 [00:00<00:00, 361224.51it/s]\n"
     ]
    },
    {
     "name": "stdout",
     "output_type": "stream",
     "text": [
      "INFO | 47484 | 2024-10-10 17:56:27,168 | root | Salvataggio dei dati in /home/max/Desktop/census_tutorial/preprocessing/census_1991/data/Sezioni di Censimento/R01_DatiCPA_1991.csv\n",
      "INFO | 47484 | 2024-10-10 17:56:27,168 | root | Salvataggio dei dati in /home/max/Desktop/census_tutorial/preprocessing/census_1991/data/Sezioni di Censimento/R01_DatiCPA_1991.csv\n",
      "INFO | 47484 | 2024-10-10 17:56:27,168 | root | Salvataggio dei dati in /home/max/Desktop/census_tutorial/preprocessing/census_1991/data/Sezioni di Censimento/R01_DatiCPA_1991.csv\n",
      "INFO | 47484 | 2024-10-10 17:56:27,168 | root | Salvataggio dei dati in /home/max/Desktop/census_tutorial/preprocessing/census_1991/data/Sezioni di Censimento/R01_DatiCPA_1991.csv\n",
      "INFO | 47484 | 2024-10-10 17:56:27,168 | root | Salvataggio dei dati in /home/max/Desktop/census_tutorial/preprocessing/census_1991/data/Sezioni di Censimento/R01_DatiCPA_1991.csv\n",
      "INFO | 47484 | 2024-10-10 17:56:27,168 | root | Salvataggio dei dati in /home/max/Desktop/census_tutorial/preprocessing/census_1991/data/Sezioni di Censimento/R01_DatiCPA_1991.csv\n",
      "INFO | 47484 | 2024-10-10 17:56:27,168 | root | Salvataggio dei dati in /home/max/Desktop/census_tutorial/preprocessing/census_1991/data/Sezioni di Censimento/R01_DatiCPA_1991.csv\n",
      "INFO | 47484 | 2024-10-10 17:56:27,168 | root | Salvataggio dei dati in /home/max/Desktop/census_tutorial/preprocessing/census_1991/data/Sezioni di Censimento/R01_DatiCPA_1991.csv\n",
      "INFO | 47484 | 2024-10-10 17:56:27,786 | root | Lettura del file Excel da /home/max/Desktop/census_tutorial/preprocessing/census_1991/data/dati-cpa_1991\\R04_DatiCPA_1991.xls\n",
      "INFO | 47484 | 2024-10-10 17:56:27,786 | root | Lettura del file Excel da /home/max/Desktop/census_tutorial/preprocessing/census_1991/data/dati-cpa_1991\\R04_DatiCPA_1991.xls\n",
      "INFO | 47484 | 2024-10-10 17:56:27,786 | root | Lettura del file Excel da /home/max/Desktop/census_tutorial/preprocessing/census_1991/data/dati-cpa_1991\\R04_DatiCPA_1991.xls\n",
      "INFO | 47484 | 2024-10-10 17:56:27,786 | root | Lettura del file Excel da /home/max/Desktop/census_tutorial/preprocessing/census_1991/data/dati-cpa_1991\\R04_DatiCPA_1991.xls\n",
      "INFO | 47484 | 2024-10-10 17:56:27,786 | root | Lettura del file Excel da /home/max/Desktop/census_tutorial/preprocessing/census_1991/data/dati-cpa_1991\\R04_DatiCPA_1991.xls\n",
      "INFO | 47484 | 2024-10-10 17:56:27,786 | root | Lettura del file Excel da /home/max/Desktop/census_tutorial/preprocessing/census_1991/data/dati-cpa_1991\\R04_DatiCPA_1991.xls\n",
      "INFO | 47484 | 2024-10-10 17:56:27,786 | root | Lettura del file Excel da /home/max/Desktop/census_tutorial/preprocessing/census_1991/data/dati-cpa_1991\\R04_DatiCPA_1991.xls\n",
      "INFO | 47484 | 2024-10-10 17:56:27,786 | root | Lettura del file Excel da /home/max/Desktop/census_tutorial/preprocessing/census_1991/data/dati-cpa_1991\\R04_DatiCPA_1991.xls\n"
     ]
    },
    {
     "name": "stderr",
     "output_type": "stream",
     "text": [
      "Lettura righe...: 100%|██████████| 8424/8424 [00:00<00:00, 412679.77it/s]"
     ]
    },
    {
     "name": "stdout",
     "output_type": "stream",
     "text": [
      "INFO | 47484 | 2024-10-10 17:56:29,236 | root | Salvataggio dei dati in /home/max/Desktop/census_tutorial/preprocessing/census_1991/data/Sezioni di Censimento/R04_DatiCPA_1991.csv\n",
      "INFO | 47484 | 2024-10-10 17:56:29,236 | root | Salvataggio dei dati in /home/max/Desktop/census_tutorial/preprocessing/census_1991/data/Sezioni di Censimento/R04_DatiCPA_1991.csv\n",
      "INFO | 47484 | 2024-10-10 17:56:29,236 | root | Salvataggio dei dati in /home/max/Desktop/census_tutorial/preprocessing/census_1991/data/Sezioni di Censimento/R04_DatiCPA_1991.csv\n",
      "INFO | 47484 | 2024-10-10 17:56:29,236 | root | Salvataggio dei dati in /home/max/Desktop/census_tutorial/preprocessing/census_1991/data/Sezioni di Censimento/R04_DatiCPA_1991.csv\n",
      "INFO | 47484 | 2024-10-10 17:56:29,236 | root | Salvataggio dei dati in /home/max/Desktop/census_tutorial/preprocessing/census_1991/data/Sezioni di Censimento/R04_DatiCPA_1991.csv\n",
      "INFO | 47484 | 2024-10-10 17:56:29,236 | root | Salvataggio dei dati in /home/max/Desktop/census_tutorial/preprocessing/census_1991/data/Sezioni di Censimento/R04_DatiCPA_1991.csv\n",
      "INFO | 47484 | 2024-10-10 17:56:29,236 | root | Salvataggio dei dati in /home/max/Desktop/census_tutorial/preprocessing/census_1991/data/Sezioni di Censimento/R04_DatiCPA_1991.csv\n",
      "INFO | 47484 | 2024-10-10 17:56:29,236 | root | Salvataggio dei dati in /home/max/Desktop/census_tutorial/preprocessing/census_1991/data/Sezioni di Censimento/R04_DatiCPA_1991.csv\n"
     ]
    },
    {
     "name": "stderr",
     "output_type": "stream",
     "text": [
      "\n"
     ]
    },
    {
     "name": "stdout",
     "output_type": "stream",
     "text": [
      "INFO | 47484 | 2024-10-10 17:56:29,520 | root | Lettura del file Excel da /home/max/Desktop/census_tutorial/preprocessing/census_1991/data/dati-cpa_1991\\R20_DatiCPA_1991.xls\n",
      "INFO | 47484 | 2024-10-10 17:56:29,520 | root | Lettura del file Excel da /home/max/Desktop/census_tutorial/preprocessing/census_1991/data/dati-cpa_1991\\R20_DatiCPA_1991.xls\n",
      "INFO | 47484 | 2024-10-10 17:56:29,520 | root | Lettura del file Excel da /home/max/Desktop/census_tutorial/preprocessing/census_1991/data/dati-cpa_1991\\R20_DatiCPA_1991.xls\n",
      "INFO | 47484 | 2024-10-10 17:56:29,520 | root | Lettura del file Excel da /home/max/Desktop/census_tutorial/preprocessing/census_1991/data/dati-cpa_1991\\R20_DatiCPA_1991.xls\n",
      "INFO | 47484 | 2024-10-10 17:56:29,520 | root | Lettura del file Excel da /home/max/Desktop/census_tutorial/preprocessing/census_1991/data/dati-cpa_1991\\R20_DatiCPA_1991.xls\n",
      "INFO | 47484 | 2024-10-10 17:56:29,520 | root | Lettura del file Excel da /home/max/Desktop/census_tutorial/preprocessing/census_1991/data/dati-cpa_1991\\R20_DatiCPA_1991.xls\n",
      "INFO | 47484 | 2024-10-10 17:56:29,520 | root | Lettura del file Excel da /home/max/Desktop/census_tutorial/preprocessing/census_1991/data/dati-cpa_1991\\R20_DatiCPA_1991.xls\n",
      "INFO | 47484 | 2024-10-10 17:56:29,520 | root | Lettura del file Excel da /home/max/Desktop/census_tutorial/preprocessing/census_1991/data/dati-cpa_1991\\R20_DatiCPA_1991.xls\n"
     ]
    },
    {
     "name": "stderr",
     "output_type": "stream",
     "text": [
      "Lettura righe...: 100%|██████████| 7197/7197 [00:00<00:00, 353073.90it/s]"
     ]
    },
    {
     "name": "stdout",
     "output_type": "stream",
     "text": [
      "INFO | 47484 | 2024-10-10 17:56:30,738 | root | Salvataggio dei dati in /home/max/Desktop/census_tutorial/preprocessing/census_1991/data/Sezioni di Censimento/R20_DatiCPA_1991.csv\n",
      "INFO | 47484 | 2024-10-10 17:56:30,738 | root | Salvataggio dei dati in /home/max/Desktop/census_tutorial/preprocessing/census_1991/data/Sezioni di Censimento/R20_DatiCPA_1991.csv\n",
      "INFO | 47484 | 2024-10-10 17:56:30,738 | root | Salvataggio dei dati in /home/max/Desktop/census_tutorial/preprocessing/census_1991/data/Sezioni di Censimento/R20_DatiCPA_1991.csv\n",
      "INFO | 47484 | 2024-10-10 17:56:30,738 | root | Salvataggio dei dati in /home/max/Desktop/census_tutorial/preprocessing/census_1991/data/Sezioni di Censimento/R20_DatiCPA_1991.csv\n",
      "INFO | 47484 | 2024-10-10 17:56:30,738 | root | Salvataggio dei dati in /home/max/Desktop/census_tutorial/preprocessing/census_1991/data/Sezioni di Censimento/R20_DatiCPA_1991.csv\n",
      "INFO | 47484 | 2024-10-10 17:56:30,738 | root | Salvataggio dei dati in /home/max/Desktop/census_tutorial/preprocessing/census_1991/data/Sezioni di Censimento/R20_DatiCPA_1991.csv\n",
      "INFO | 47484 | 2024-10-10 17:56:30,738 | root | Salvataggio dei dati in /home/max/Desktop/census_tutorial/preprocessing/census_1991/data/Sezioni di Censimento/R20_DatiCPA_1991.csv\n",
      "INFO | 47484 | 2024-10-10 17:56:30,738 | root | Salvataggio dei dati in /home/max/Desktop/census_tutorial/preprocessing/census_1991/data/Sezioni di Censimento/R20_DatiCPA_1991.csv\n"
     ]
    },
    {
     "name": "stderr",
     "output_type": "stream",
     "text": [
      "\n"
     ]
    },
    {
     "name": "stdout",
     "output_type": "stream",
     "text": [
      "INFO | 47484 | 2024-10-10 17:56:30,892 | root | Lettura del file Excel da /home/max/Desktop/census_tutorial/preprocessing/census_1991/data/dati-cpa_1991\\R10_DatiCPA_1991.xls\n",
      "INFO | 47484 | 2024-10-10 17:56:30,892 | root | Lettura del file Excel da /home/max/Desktop/census_tutorial/preprocessing/census_1991/data/dati-cpa_1991\\R10_DatiCPA_1991.xls\n",
      "INFO | 47484 | 2024-10-10 17:56:30,892 | root | Lettura del file Excel da /home/max/Desktop/census_tutorial/preprocessing/census_1991/data/dati-cpa_1991\\R10_DatiCPA_1991.xls\n",
      "INFO | 47484 | 2024-10-10 17:56:30,892 | root | Lettura del file Excel da /home/max/Desktop/census_tutorial/preprocessing/census_1991/data/dati-cpa_1991\\R10_DatiCPA_1991.xls\n",
      "INFO | 47484 | 2024-10-10 17:56:30,892 | root | Lettura del file Excel da /home/max/Desktop/census_tutorial/preprocessing/census_1991/data/dati-cpa_1991\\R10_DatiCPA_1991.xls\n",
      "INFO | 47484 | 2024-10-10 17:56:30,892 | root | Lettura del file Excel da /home/max/Desktop/census_tutorial/preprocessing/census_1991/data/dati-cpa_1991\\R10_DatiCPA_1991.xls\n",
      "INFO | 47484 | 2024-10-10 17:56:30,892 | root | Lettura del file Excel da /home/max/Desktop/census_tutorial/preprocessing/census_1991/data/dati-cpa_1991\\R10_DatiCPA_1991.xls\n",
      "INFO | 47484 | 2024-10-10 17:56:30,892 | root | Lettura del file Excel da /home/max/Desktop/census_tutorial/preprocessing/census_1991/data/dati-cpa_1991\\R10_DatiCPA_1991.xls\n"
     ]
    },
    {
     "name": "stderr",
     "output_type": "stream",
     "text": [
      "Lettura righe...: 100%|██████████| 5997/5997 [00:00<00:00, 387276.80it/s]"
     ]
    },
    {
     "name": "stdout",
     "output_type": "stream",
     "text": [
      "INFO | 47484 | 2024-10-10 17:56:31,910 | root | Salvataggio dei dati in /home/max/Desktop/census_tutorial/preprocessing/census_1991/data/Sezioni di Censimento/R10_DatiCPA_1991.csv\n",
      "INFO | 47484 | 2024-10-10 17:56:31,910 | root | Salvataggio dei dati in /home/max/Desktop/census_tutorial/preprocessing/census_1991/data/Sezioni di Censimento/R10_DatiCPA_1991.csv\n",
      "INFO | 47484 | 2024-10-10 17:56:31,910 | root | Salvataggio dei dati in /home/max/Desktop/census_tutorial/preprocessing/census_1991/data/Sezioni di Censimento/R10_DatiCPA_1991.csv\n",
      "INFO | 47484 | 2024-10-10 17:56:31,910 | root | Salvataggio dei dati in /home/max/Desktop/census_tutorial/preprocessing/census_1991/data/Sezioni di Censimento/R10_DatiCPA_1991.csv\n",
      "INFO | 47484 | 2024-10-10 17:56:31,910 | root | Salvataggio dei dati in /home/max/Desktop/census_tutorial/preprocessing/census_1991/data/Sezioni di Censimento/R10_DatiCPA_1991.csv\n",
      "INFO | 47484 | 2024-10-10 17:56:31,910 | root | Salvataggio dei dati in /home/max/Desktop/census_tutorial/preprocessing/census_1991/data/Sezioni di Censimento/R10_DatiCPA_1991.csv\n",
      "INFO | 47484 | 2024-10-10 17:56:31,910 | root | Salvataggio dei dati in /home/max/Desktop/census_tutorial/preprocessing/census_1991/data/Sezioni di Censimento/R10_DatiCPA_1991.csv\n",
      "INFO | 47484 | 2024-10-10 17:56:31,910 | root | Salvataggio dei dati in /home/max/Desktop/census_tutorial/preprocessing/census_1991/data/Sezioni di Censimento/R10_DatiCPA_1991.csv\n"
     ]
    },
    {
     "name": "stderr",
     "output_type": "stream",
     "text": [
      "\n"
     ]
    },
    {
     "name": "stdout",
     "output_type": "stream",
     "text": [
      "INFO | 47484 | 2024-10-10 17:56:32,118 | root | Lettura del file Excel da /home/max/Desktop/census_tutorial/preprocessing/census_1991/data/dati-cpa_1991\\R15_DatiCPA_1991.xls\n",
      "INFO | 47484 | 2024-10-10 17:56:32,118 | root | Lettura del file Excel da /home/max/Desktop/census_tutorial/preprocessing/census_1991/data/dati-cpa_1991\\R15_DatiCPA_1991.xls\n",
      "INFO | 47484 | 2024-10-10 17:56:32,118 | root | Lettura del file Excel da /home/max/Desktop/census_tutorial/preprocessing/census_1991/data/dati-cpa_1991\\R15_DatiCPA_1991.xls\n",
      "INFO | 47484 | 2024-10-10 17:56:32,118 | root | Lettura del file Excel da /home/max/Desktop/census_tutorial/preprocessing/census_1991/data/dati-cpa_1991\\R15_DatiCPA_1991.xls\n",
      "INFO | 47484 | 2024-10-10 17:56:32,118 | root | Lettura del file Excel da /home/max/Desktop/census_tutorial/preprocessing/census_1991/data/dati-cpa_1991\\R15_DatiCPA_1991.xls\n",
      "INFO | 47484 | 2024-10-10 17:56:32,118 | root | Lettura del file Excel da /home/max/Desktop/census_tutorial/preprocessing/census_1991/data/dati-cpa_1991\\R15_DatiCPA_1991.xls\n",
      "INFO | 47484 | 2024-10-10 17:56:32,118 | root | Lettura del file Excel da /home/max/Desktop/census_tutorial/preprocessing/census_1991/data/dati-cpa_1991\\R15_DatiCPA_1991.xls\n",
      "INFO | 47484 | 2024-10-10 17:56:32,118 | root | Lettura del file Excel da /home/max/Desktop/census_tutorial/preprocessing/census_1991/data/dati-cpa_1991\\R15_DatiCPA_1991.xls\n"
     ]
    },
    {
     "name": "stderr",
     "output_type": "stream",
     "text": [
      "Lettura righe...: 100%|██████████| 19317/19317 [00:00<00:00, 432552.29it/s]\n"
     ]
    },
    {
     "name": "stdout",
     "output_type": "stream",
     "text": [
      "INFO | 47484 | 2024-10-10 17:56:35,347 | root | Salvataggio dei dati in /home/max/Desktop/census_tutorial/preprocessing/census_1991/data/Sezioni di Censimento/R15_DatiCPA_1991.csv\n",
      "INFO | 47484 | 2024-10-10 17:56:35,347 | root | Salvataggio dei dati in /home/max/Desktop/census_tutorial/preprocessing/census_1991/data/Sezioni di Censimento/R15_DatiCPA_1991.csv\n",
      "INFO | 47484 | 2024-10-10 17:56:35,347 | root | Salvataggio dei dati in /home/max/Desktop/census_tutorial/preprocessing/census_1991/data/Sezioni di Censimento/R15_DatiCPA_1991.csv\n",
      "INFO | 47484 | 2024-10-10 17:56:35,347 | root | Salvataggio dei dati in /home/max/Desktop/census_tutorial/preprocessing/census_1991/data/Sezioni di Censimento/R15_DatiCPA_1991.csv\n",
      "INFO | 47484 | 2024-10-10 17:56:35,347 | root | Salvataggio dei dati in /home/max/Desktop/census_tutorial/preprocessing/census_1991/data/Sezioni di Censimento/R15_DatiCPA_1991.csv\n",
      "INFO | 47484 | 2024-10-10 17:56:35,347 | root | Salvataggio dei dati in /home/max/Desktop/census_tutorial/preprocessing/census_1991/data/Sezioni di Censimento/R15_DatiCPA_1991.csv\n",
      "INFO | 47484 | 2024-10-10 17:56:35,347 | root | Salvataggio dei dati in /home/max/Desktop/census_tutorial/preprocessing/census_1991/data/Sezioni di Censimento/R15_DatiCPA_1991.csv\n",
      "INFO | 47484 | 2024-10-10 17:56:35,347 | root | Salvataggio dei dati in /home/max/Desktop/census_tutorial/preprocessing/census_1991/data/Sezioni di Censimento/R15_DatiCPA_1991.csv\n",
      "INFO | 47484 | 2024-10-10 17:56:35,822 | root | Lettura del file Excel da /home/max/Desktop/census_tutorial/preprocessing/census_1991/data/dati-cpa_1991\\R13_DatiCPA_1991.xls\n",
      "INFO | 47484 | 2024-10-10 17:56:35,822 | root | Lettura del file Excel da /home/max/Desktop/census_tutorial/preprocessing/census_1991/data/dati-cpa_1991\\R13_DatiCPA_1991.xls\n",
      "INFO | 47484 | 2024-10-10 17:56:35,822 | root | Lettura del file Excel da /home/max/Desktop/census_tutorial/preprocessing/census_1991/data/dati-cpa_1991\\R13_DatiCPA_1991.xls\n",
      "INFO | 47484 | 2024-10-10 17:56:35,822 | root | Lettura del file Excel da /home/max/Desktop/census_tutorial/preprocessing/census_1991/data/dati-cpa_1991\\R13_DatiCPA_1991.xls\n",
      "INFO | 47484 | 2024-10-10 17:56:35,822 | root | Lettura del file Excel da /home/max/Desktop/census_tutorial/preprocessing/census_1991/data/dati-cpa_1991\\R13_DatiCPA_1991.xls\n",
      "INFO | 47484 | 2024-10-10 17:56:35,822 | root | Lettura del file Excel da /home/max/Desktop/census_tutorial/preprocessing/census_1991/data/dati-cpa_1991\\R13_DatiCPA_1991.xls\n",
      "INFO | 47484 | 2024-10-10 17:56:35,822 | root | Lettura del file Excel da /home/max/Desktop/census_tutorial/preprocessing/census_1991/data/dati-cpa_1991\\R13_DatiCPA_1991.xls\n",
      "INFO | 47484 | 2024-10-10 17:56:35,822 | root | Lettura del file Excel da /home/max/Desktop/census_tutorial/preprocessing/census_1991/data/dati-cpa_1991\\R13_DatiCPA_1991.xls\n"
     ]
    },
    {
     "name": "stderr",
     "output_type": "stream",
     "text": [
      "Lettura righe...: 100%|██████████| 7293/7293 [00:00<00:00, 432580.42it/s]"
     ]
    },
    {
     "name": "stdout",
     "output_type": "stream",
     "text": [
      "INFO | 47484 | 2024-10-10 17:56:37,062 | root | Salvataggio dei dati in /home/max/Desktop/census_tutorial/preprocessing/census_1991/data/Sezioni di Censimento/R13_DatiCPA_1991.csv\n",
      "INFO | 47484 | 2024-10-10 17:56:37,062 | root | Salvataggio dei dati in /home/max/Desktop/census_tutorial/preprocessing/census_1991/data/Sezioni di Censimento/R13_DatiCPA_1991.csv\n",
      "INFO | 47484 | 2024-10-10 17:56:37,062 | root | Salvataggio dei dati in /home/max/Desktop/census_tutorial/preprocessing/census_1991/data/Sezioni di Censimento/R13_DatiCPA_1991.csv\n",
      "INFO | 47484 | 2024-10-10 17:56:37,062 | root | Salvataggio dei dati in /home/max/Desktop/census_tutorial/preprocessing/census_1991/data/Sezioni di Censimento/R13_DatiCPA_1991.csv\n",
      "INFO | 47484 | 2024-10-10 17:56:37,062 | root | Salvataggio dei dati in /home/max/Desktop/census_tutorial/preprocessing/census_1991/data/Sezioni di Censimento/R13_DatiCPA_1991.csv\n",
      "INFO | 47484 | 2024-10-10 17:56:37,062 | root | Salvataggio dei dati in /home/max/Desktop/census_tutorial/preprocessing/census_1991/data/Sezioni di Censimento/R13_DatiCPA_1991.csv\n",
      "INFO | 47484 | 2024-10-10 17:56:37,062 | root | Salvataggio dei dati in /home/max/Desktop/census_tutorial/preprocessing/census_1991/data/Sezioni di Censimento/R13_DatiCPA_1991.csv\n",
      "INFO | 47484 | 2024-10-10 17:56:37,062 | root | Salvataggio dei dati in /home/max/Desktop/census_tutorial/preprocessing/census_1991/data/Sezioni di Censimento/R13_DatiCPA_1991.csv\n"
     ]
    },
    {
     "name": "stderr",
     "output_type": "stream",
     "text": [
      "\n"
     ]
    },
    {
     "name": "stdout",
     "output_type": "stream",
     "text": [
      "INFO | 47484 | 2024-10-10 17:56:37,217 | root | Lettura del file Excel da /home/max/Desktop/census_tutorial/preprocessing/census_1991/data/dati-cpa_1991\\R17_DatiCPA_1991.xls\n",
      "INFO | 47484 | 2024-10-10 17:56:37,217 | root | Lettura del file Excel da /home/max/Desktop/census_tutorial/preprocessing/census_1991/data/dati-cpa_1991\\R17_DatiCPA_1991.xls\n",
      "INFO | 47484 | 2024-10-10 17:56:37,217 | root | Lettura del file Excel da /home/max/Desktop/census_tutorial/preprocessing/census_1991/data/dati-cpa_1991\\R17_DatiCPA_1991.xls\n",
      "INFO | 47484 | 2024-10-10 17:56:37,217 | root | Lettura del file Excel da /home/max/Desktop/census_tutorial/preprocessing/census_1991/data/dati-cpa_1991\\R17_DatiCPA_1991.xls\n",
      "INFO | 47484 | 2024-10-10 17:56:37,217 | root | Lettura del file Excel da /home/max/Desktop/census_tutorial/preprocessing/census_1991/data/dati-cpa_1991\\R17_DatiCPA_1991.xls\n",
      "INFO | 47484 | 2024-10-10 17:56:37,217 | root | Lettura del file Excel da /home/max/Desktop/census_tutorial/preprocessing/census_1991/data/dati-cpa_1991\\R17_DatiCPA_1991.xls\n",
      "INFO | 47484 | 2024-10-10 17:56:37,217 | root | Lettura del file Excel da /home/max/Desktop/census_tutorial/preprocessing/census_1991/data/dati-cpa_1991\\R17_DatiCPA_1991.xls\n",
      "INFO | 47484 | 2024-10-10 17:56:37,217 | root | Lettura del file Excel da /home/max/Desktop/census_tutorial/preprocessing/census_1991/data/dati-cpa_1991\\R17_DatiCPA_1991.xls\n"
     ]
    },
    {
     "name": "stderr",
     "output_type": "stream",
     "text": [
      "Lettura righe...: 100%|██████████| 3204/3204 [00:00<00:00, 526547.68it/s]"
     ]
    },
    {
     "name": "stdout",
     "output_type": "stream",
     "text": [
      "INFO | 47484 | 2024-10-10 17:56:37,862 | root | Salvataggio dei dati in /home/max/Desktop/census_tutorial/preprocessing/census_1991/data/Sezioni di Censimento/R17_DatiCPA_1991.csv\n",
      "INFO | 47484 | 2024-10-10 17:56:37,862 | root | Salvataggio dei dati in /home/max/Desktop/census_tutorial/preprocessing/census_1991/data/Sezioni di Censimento/R17_DatiCPA_1991.csv\n",
      "INFO | 47484 | 2024-10-10 17:56:37,862 | root | Salvataggio dei dati in /home/max/Desktop/census_tutorial/preprocessing/census_1991/data/Sezioni di Censimento/R17_DatiCPA_1991.csv\n",
      "INFO | 47484 | 2024-10-10 17:56:37,862 | root | Salvataggio dei dati in /home/max/Desktop/census_tutorial/preprocessing/census_1991/data/Sezioni di Censimento/R17_DatiCPA_1991.csv\n",
      "INFO | 47484 | 2024-10-10 17:56:37,862 | root | Salvataggio dei dati in /home/max/Desktop/census_tutorial/preprocessing/census_1991/data/Sezioni di Censimento/R17_DatiCPA_1991.csv\n",
      "INFO | 47484 | 2024-10-10 17:56:37,862 | root | Salvataggio dei dati in /home/max/Desktop/census_tutorial/preprocessing/census_1991/data/Sezioni di Censimento/R17_DatiCPA_1991.csv\n",
      "INFO | 47484 | 2024-10-10 17:56:37,862 | root | Salvataggio dei dati in /home/max/Desktop/census_tutorial/preprocessing/census_1991/data/Sezioni di Censimento/R17_DatiCPA_1991.csv\n",
      "INFO | 47484 | 2024-10-10 17:56:37,862 | root | Salvataggio dei dati in /home/max/Desktop/census_tutorial/preprocessing/census_1991/data/Sezioni di Censimento/R17_DatiCPA_1991.csv\n"
     ]
    },
    {
     "name": "stderr",
     "output_type": "stream",
     "text": [
      "\n"
     ]
    },
    {
     "name": "stdout",
     "output_type": "stream",
     "text": [
      "INFO | 47484 | 2024-10-10 17:56:37,934 | root | Lettura del file Excel da /home/max/Desktop/census_tutorial/preprocessing/census_1991/data/dati-cpa_1991\\R19_DatiCPA_1991.xls\n",
      "INFO | 47484 | 2024-10-10 17:56:37,934 | root | Lettura del file Excel da /home/max/Desktop/census_tutorial/preprocessing/census_1991/data/dati-cpa_1991\\R19_DatiCPA_1991.xls\n",
      "INFO | 47484 | 2024-10-10 17:56:37,934 | root | Lettura del file Excel da /home/max/Desktop/census_tutorial/preprocessing/census_1991/data/dati-cpa_1991\\R19_DatiCPA_1991.xls\n",
      "INFO | 47484 | 2024-10-10 17:56:37,934 | root | Lettura del file Excel da /home/max/Desktop/census_tutorial/preprocessing/census_1991/data/dati-cpa_1991\\R19_DatiCPA_1991.xls\n",
      "INFO | 47484 | 2024-10-10 17:56:37,934 | root | Lettura del file Excel da /home/max/Desktop/census_tutorial/preprocessing/census_1991/data/dati-cpa_1991\\R19_DatiCPA_1991.xls\n",
      "INFO | 47484 | 2024-10-10 17:56:37,934 | root | Lettura del file Excel da /home/max/Desktop/census_tutorial/preprocessing/census_1991/data/dati-cpa_1991\\R19_DatiCPA_1991.xls\n",
      "INFO | 47484 | 2024-10-10 17:56:37,934 | root | Lettura del file Excel da /home/max/Desktop/census_tutorial/preprocessing/census_1991/data/dati-cpa_1991\\R19_DatiCPA_1991.xls\n",
      "INFO | 47484 | 2024-10-10 17:56:37,934 | root | Lettura del file Excel da /home/max/Desktop/census_tutorial/preprocessing/census_1991/data/dati-cpa_1991\\R19_DatiCPA_1991.xls\n"
     ]
    },
    {
     "name": "stderr",
     "output_type": "stream",
     "text": [
      "Lettura righe...: 100%|██████████| 27546/27546 [00:00<00:00, 148747.24it/s]\n"
     ]
    },
    {
     "name": "stdout",
     "output_type": "stream",
     "text": [
      "INFO | 47484 | 2024-10-10 17:56:42,675 | root | Salvataggio dei dati in /home/max/Desktop/census_tutorial/preprocessing/census_1991/data/Sezioni di Censimento/R19_DatiCPA_1991.csv\n",
      "INFO | 47484 | 2024-10-10 17:56:42,675 | root | Salvataggio dei dati in /home/max/Desktop/census_tutorial/preprocessing/census_1991/data/Sezioni di Censimento/R19_DatiCPA_1991.csv\n",
      "INFO | 47484 | 2024-10-10 17:56:42,675 | root | Salvataggio dei dati in /home/max/Desktop/census_tutorial/preprocessing/census_1991/data/Sezioni di Censimento/R19_DatiCPA_1991.csv\n",
      "INFO | 47484 | 2024-10-10 17:56:42,675 | root | Salvataggio dei dati in /home/max/Desktop/census_tutorial/preprocessing/census_1991/data/Sezioni di Censimento/R19_DatiCPA_1991.csv\n",
      "INFO | 47484 | 2024-10-10 17:56:42,675 | root | Salvataggio dei dati in /home/max/Desktop/census_tutorial/preprocessing/census_1991/data/Sezioni di Censimento/R19_DatiCPA_1991.csv\n",
      "INFO | 47484 | 2024-10-10 17:56:42,675 | root | Salvataggio dei dati in /home/max/Desktop/census_tutorial/preprocessing/census_1991/data/Sezioni di Censimento/R19_DatiCPA_1991.csv\n",
      "INFO | 47484 | 2024-10-10 17:56:42,675 | root | Salvataggio dei dati in /home/max/Desktop/census_tutorial/preprocessing/census_1991/data/Sezioni di Censimento/R19_DatiCPA_1991.csv\n",
      "INFO | 47484 | 2024-10-10 17:56:42,675 | root | Salvataggio dei dati in /home/max/Desktop/census_tutorial/preprocessing/census_1991/data/Sezioni di Censimento/R19_DatiCPA_1991.csv\n",
      "INFO | 47484 | 2024-10-10 17:56:43,234 | root | Lettura del file Excel da /home/max/Desktop/census_tutorial/preprocessing/census_1991/data/dati-cpa_1991\\R06_DatiCPA_1991.xls\n",
      "INFO | 47484 | 2024-10-10 17:56:43,234 | root | Lettura del file Excel da /home/max/Desktop/census_tutorial/preprocessing/census_1991/data/dati-cpa_1991\\R06_DatiCPA_1991.xls\n",
      "INFO | 47484 | 2024-10-10 17:56:43,234 | root | Lettura del file Excel da /home/max/Desktop/census_tutorial/preprocessing/census_1991/data/dati-cpa_1991\\R06_DatiCPA_1991.xls\n",
      "INFO | 47484 | 2024-10-10 17:56:43,234 | root | Lettura del file Excel da /home/max/Desktop/census_tutorial/preprocessing/census_1991/data/dati-cpa_1991\\R06_DatiCPA_1991.xls\n",
      "INFO | 47484 | 2024-10-10 17:56:43,234 | root | Lettura del file Excel da /home/max/Desktop/census_tutorial/preprocessing/census_1991/data/dati-cpa_1991\\R06_DatiCPA_1991.xls\n",
      "INFO | 47484 | 2024-10-10 17:56:43,234 | root | Lettura del file Excel da /home/max/Desktop/census_tutorial/preprocessing/census_1991/data/dati-cpa_1991\\R06_DatiCPA_1991.xls\n",
      "INFO | 47484 | 2024-10-10 17:56:43,234 | root | Lettura del file Excel da /home/max/Desktop/census_tutorial/preprocessing/census_1991/data/dati-cpa_1991\\R06_DatiCPA_1991.xls\n",
      "INFO | 47484 | 2024-10-10 17:56:43,234 | root | Lettura del file Excel da /home/max/Desktop/census_tutorial/preprocessing/census_1991/data/dati-cpa_1991\\R06_DatiCPA_1991.xls\n"
     ]
    },
    {
     "name": "stderr",
     "output_type": "stream",
     "text": [
      "Lettura righe...: 100%|██████████| 5688/5688 [00:00<00:00, 381825.18it/s]"
     ]
    },
    {
     "name": "stdout",
     "output_type": "stream",
     "text": [
      "INFO | 47484 | 2024-10-10 17:56:44,211 | root | Salvataggio dei dati in /home/max/Desktop/census_tutorial/preprocessing/census_1991/data/Sezioni di Censimento/R06_DatiCPA_1991.csv\n",
      "INFO | 47484 | 2024-10-10 17:56:44,211 | root | Salvataggio dei dati in /home/max/Desktop/census_tutorial/preprocessing/census_1991/data/Sezioni di Censimento/R06_DatiCPA_1991.csv\n",
      "INFO | 47484 | 2024-10-10 17:56:44,211 | root | Salvataggio dei dati in /home/max/Desktop/census_tutorial/preprocessing/census_1991/data/Sezioni di Censimento/R06_DatiCPA_1991.csv\n",
      "INFO | 47484 | 2024-10-10 17:56:44,211 | root | Salvataggio dei dati in /home/max/Desktop/census_tutorial/preprocessing/census_1991/data/Sezioni di Censimento/R06_DatiCPA_1991.csv\n",
      "INFO | 47484 | 2024-10-10 17:56:44,211 | root | Salvataggio dei dati in /home/max/Desktop/census_tutorial/preprocessing/census_1991/data/Sezioni di Censimento/R06_DatiCPA_1991.csv\n",
      "INFO | 47484 | 2024-10-10 17:56:44,211 | root | Salvataggio dei dati in /home/max/Desktop/census_tutorial/preprocessing/census_1991/data/Sezioni di Censimento/R06_DatiCPA_1991.csv\n",
      "INFO | 47484 | 2024-10-10 17:56:44,211 | root | Salvataggio dei dati in /home/max/Desktop/census_tutorial/preprocessing/census_1991/data/Sezioni di Censimento/R06_DatiCPA_1991.csv\n",
      "INFO | 47484 | 2024-10-10 17:56:44,211 | root | Salvataggio dei dati in /home/max/Desktop/census_tutorial/preprocessing/census_1991/data/Sezioni di Censimento/R06_DatiCPA_1991.csv\n"
     ]
    },
    {
     "name": "stderr",
     "output_type": "stream",
     "text": [
      "\n"
     ]
    },
    {
     "name": "stdout",
     "output_type": "stream",
     "text": [
      "INFO | 47484 | 2024-10-10 17:56:44,331 | root | Lettura del file Excel da /home/max/Desktop/census_tutorial/preprocessing/census_1991/data/dati-cpa_1991\\R08_DatiCPA_1991.xls\n",
      "INFO | 47484 | 2024-10-10 17:56:44,331 | root | Lettura del file Excel da /home/max/Desktop/census_tutorial/preprocessing/census_1991/data/dati-cpa_1991\\R08_DatiCPA_1991.xls\n",
      "INFO | 47484 | 2024-10-10 17:56:44,331 | root | Lettura del file Excel da /home/max/Desktop/census_tutorial/preprocessing/census_1991/data/dati-cpa_1991\\R08_DatiCPA_1991.xls\n",
      "INFO | 47484 | 2024-10-10 17:56:44,331 | root | Lettura del file Excel da /home/max/Desktop/census_tutorial/preprocessing/census_1991/data/dati-cpa_1991\\R08_DatiCPA_1991.xls\n",
      "INFO | 47484 | 2024-10-10 17:56:44,331 | root | Lettura del file Excel da /home/max/Desktop/census_tutorial/preprocessing/census_1991/data/dati-cpa_1991\\R08_DatiCPA_1991.xls\n",
      "INFO | 47484 | 2024-10-10 17:56:44,331 | root | Lettura del file Excel da /home/max/Desktop/census_tutorial/preprocessing/census_1991/data/dati-cpa_1991\\R08_DatiCPA_1991.xls\n",
      "INFO | 47484 | 2024-10-10 17:56:44,331 | root | Lettura del file Excel da /home/max/Desktop/census_tutorial/preprocessing/census_1991/data/dati-cpa_1991\\R08_DatiCPA_1991.xls\n",
      "INFO | 47484 | 2024-10-10 17:56:44,331 | root | Lettura del file Excel da /home/max/Desktop/census_tutorial/preprocessing/census_1991/data/dati-cpa_1991\\R08_DatiCPA_1991.xls\n"
     ]
    },
    {
     "name": "stderr",
     "output_type": "stream",
     "text": [
      "Lettura righe...: 100%|██████████| 30766/30766 [00:00<00:00, 376272.66it/s]\n"
     ]
    },
    {
     "name": "stdout",
     "output_type": "stream",
     "text": [
      "INFO | 47484 | 2024-10-10 17:56:49,595 | root | Salvataggio dei dati in /home/max/Desktop/census_tutorial/preprocessing/census_1991/data/Sezioni di Censimento/R08_DatiCPA_1991.csv\n",
      "INFO | 47484 | 2024-10-10 17:56:49,595 | root | Salvataggio dei dati in /home/max/Desktop/census_tutorial/preprocessing/census_1991/data/Sezioni di Censimento/R08_DatiCPA_1991.csv\n",
      "INFO | 47484 | 2024-10-10 17:56:49,595 | root | Salvataggio dei dati in /home/max/Desktop/census_tutorial/preprocessing/census_1991/data/Sezioni di Censimento/R08_DatiCPA_1991.csv\n",
      "INFO | 47484 | 2024-10-10 17:56:49,595 | root | Salvataggio dei dati in /home/max/Desktop/census_tutorial/preprocessing/census_1991/data/Sezioni di Censimento/R08_DatiCPA_1991.csv\n",
      "INFO | 47484 | 2024-10-10 17:56:49,595 | root | Salvataggio dei dati in /home/max/Desktop/census_tutorial/preprocessing/census_1991/data/Sezioni di Censimento/R08_DatiCPA_1991.csv\n",
      "INFO | 47484 | 2024-10-10 17:56:49,595 | root | Salvataggio dei dati in /home/max/Desktop/census_tutorial/preprocessing/census_1991/data/Sezioni di Censimento/R08_DatiCPA_1991.csv\n",
      "INFO | 47484 | 2024-10-10 17:56:49,595 | root | Salvataggio dei dati in /home/max/Desktop/census_tutorial/preprocessing/census_1991/data/Sezioni di Censimento/R08_DatiCPA_1991.csv\n",
      "INFO | 47484 | 2024-10-10 17:56:49,595 | root | Salvataggio dei dati in /home/max/Desktop/census_tutorial/preprocessing/census_1991/data/Sezioni di Censimento/R08_DatiCPA_1991.csv\n",
      "INFO | 47484 | 2024-10-10 17:56:50,289 | root | Lettura del file Excel da /home/max/Desktop/census_tutorial/preprocessing/census_1991/data/dati-cpa_1991\\R18_DatiCPA_1991.xls\n",
      "INFO | 47484 | 2024-10-10 17:56:50,289 | root | Lettura del file Excel da /home/max/Desktop/census_tutorial/preprocessing/census_1991/data/dati-cpa_1991\\R18_DatiCPA_1991.xls\n",
      "INFO | 47484 | 2024-10-10 17:56:50,289 | root | Lettura del file Excel da /home/max/Desktop/census_tutorial/preprocessing/census_1991/data/dati-cpa_1991\\R18_DatiCPA_1991.xls\n",
      "INFO | 47484 | 2024-10-10 17:56:50,289 | root | Lettura del file Excel da /home/max/Desktop/census_tutorial/preprocessing/census_1991/data/dati-cpa_1991\\R18_DatiCPA_1991.xls\n",
      "INFO | 47484 | 2024-10-10 17:56:50,289 | root | Lettura del file Excel da /home/max/Desktop/census_tutorial/preprocessing/census_1991/data/dati-cpa_1991\\R18_DatiCPA_1991.xls\n",
      "INFO | 47484 | 2024-10-10 17:56:50,289 | root | Lettura del file Excel da /home/max/Desktop/census_tutorial/preprocessing/census_1991/data/dati-cpa_1991\\R18_DatiCPA_1991.xls\n",
      "INFO | 47484 | 2024-10-10 17:56:50,289 | root | Lettura del file Excel da /home/max/Desktop/census_tutorial/preprocessing/census_1991/data/dati-cpa_1991\\R18_DatiCPA_1991.xls\n",
      "INFO | 47484 | 2024-10-10 17:56:50,289 | root | Lettura del file Excel da /home/max/Desktop/census_tutorial/preprocessing/census_1991/data/dati-cpa_1991\\R18_DatiCPA_1991.xls\n"
     ]
    },
    {
     "name": "stderr",
     "output_type": "stream",
     "text": [
      "Lettura righe...: 100%|██████████| 8782/8782 [00:00<00:00, 408621.61it/s]"
     ]
    },
    {
     "name": "stdout",
     "output_type": "stream",
     "text": [
      "INFO | 47484 | 2024-10-10 17:56:51,848 | root | Salvataggio dei dati in /home/max/Desktop/census_tutorial/preprocessing/census_1991/data/Sezioni di Censimento/R18_DatiCPA_1991.csv\n",
      "INFO | 47484 | 2024-10-10 17:56:51,848 | root | Salvataggio dei dati in /home/max/Desktop/census_tutorial/preprocessing/census_1991/data/Sezioni di Censimento/R18_DatiCPA_1991.csv\n",
      "INFO | 47484 | 2024-10-10 17:56:51,848 | root | Salvataggio dei dati in /home/max/Desktop/census_tutorial/preprocessing/census_1991/data/Sezioni di Censimento/R18_DatiCPA_1991.csv\n",
      "INFO | 47484 | 2024-10-10 17:56:51,848 | root | Salvataggio dei dati in /home/max/Desktop/census_tutorial/preprocessing/census_1991/data/Sezioni di Censimento/R18_DatiCPA_1991.csv\n",
      "INFO | 47484 | 2024-10-10 17:56:51,848 | root | Salvataggio dei dati in /home/max/Desktop/census_tutorial/preprocessing/census_1991/data/Sezioni di Censimento/R18_DatiCPA_1991.csv\n",
      "INFO | 47484 | 2024-10-10 17:56:51,848 | root | Salvataggio dei dati in /home/max/Desktop/census_tutorial/preprocessing/census_1991/data/Sezioni di Censimento/R18_DatiCPA_1991.csv\n",
      "INFO | 47484 | 2024-10-10 17:56:51,848 | root | Salvataggio dei dati in /home/max/Desktop/census_tutorial/preprocessing/census_1991/data/Sezioni di Censimento/R18_DatiCPA_1991.csv\n",
      "INFO | 47484 | 2024-10-10 17:56:51,848 | root | Salvataggio dei dati in /home/max/Desktop/census_tutorial/preprocessing/census_1991/data/Sezioni di Censimento/R18_DatiCPA_1991.csv\n"
     ]
    },
    {
     "name": "stderr",
     "output_type": "stream",
     "text": [
      "\n"
     ]
    },
    {
     "name": "stdout",
     "output_type": "stream",
     "text": [
      "INFO | 47484 | 2024-10-10 17:56:52,161 | root | Lettura del file Excel da /home/max/Desktop/census_tutorial/preprocessing/census_1991/data/dati-cpa_1991\\R02_DatiCPA_1991.xls\n",
      "INFO | 47484 | 2024-10-10 17:56:52,161 | root | Lettura del file Excel da /home/max/Desktop/census_tutorial/preprocessing/census_1991/data/dati-cpa_1991\\R02_DatiCPA_1991.xls\n",
      "INFO | 47484 | 2024-10-10 17:56:52,161 | root | Lettura del file Excel da /home/max/Desktop/census_tutorial/preprocessing/census_1991/data/dati-cpa_1991\\R02_DatiCPA_1991.xls\n",
      "INFO | 47484 | 2024-10-10 17:56:52,161 | root | Lettura del file Excel da /home/max/Desktop/census_tutorial/preprocessing/census_1991/data/dati-cpa_1991\\R02_DatiCPA_1991.xls\n",
      "INFO | 47484 | 2024-10-10 17:56:52,161 | root | Lettura del file Excel da /home/max/Desktop/census_tutorial/preprocessing/census_1991/data/dati-cpa_1991\\R02_DatiCPA_1991.xls\n",
      "INFO | 47484 | 2024-10-10 17:56:52,161 | root | Lettura del file Excel da /home/max/Desktop/census_tutorial/preprocessing/census_1991/data/dati-cpa_1991\\R02_DatiCPA_1991.xls\n",
      "INFO | 47484 | 2024-10-10 17:56:52,161 | root | Lettura del file Excel da /home/max/Desktop/census_tutorial/preprocessing/census_1991/data/dati-cpa_1991\\R02_DatiCPA_1991.xls\n",
      "INFO | 47484 | 2024-10-10 17:56:52,161 | root | Lettura del file Excel da /home/max/Desktop/census_tutorial/preprocessing/census_1991/data/dati-cpa_1991\\R02_DatiCPA_1991.xls\n"
     ]
    },
    {
     "name": "stderr",
     "output_type": "stream",
     "text": [
      "Lettura righe...: 100%|██████████| 1163/1163 [00:00<00:00, 390675.60it/s]"
     ]
    },
    {
     "name": "stdout",
     "output_type": "stream",
     "text": [
      "INFO | 47484 | 2024-10-10 17:56:52,364 | root | Salvataggio dei dati in /home/max/Desktop/census_tutorial/preprocessing/census_1991/data/Sezioni di Censimento/R02_DatiCPA_1991.csv\n",
      "INFO | 47484 | 2024-10-10 17:56:52,364 | root | Salvataggio dei dati in /home/max/Desktop/census_tutorial/preprocessing/census_1991/data/Sezioni di Censimento/R02_DatiCPA_1991.csv\n",
      "INFO | 47484 | 2024-10-10 17:56:52,364 | root | Salvataggio dei dati in /home/max/Desktop/census_tutorial/preprocessing/census_1991/data/Sezioni di Censimento/R02_DatiCPA_1991.csv\n",
      "INFO | 47484 | 2024-10-10 17:56:52,364 | root | Salvataggio dei dati in /home/max/Desktop/census_tutorial/preprocessing/census_1991/data/Sezioni di Censimento/R02_DatiCPA_1991.csv\n",
      "INFO | 47484 | 2024-10-10 17:56:52,364 | root | Salvataggio dei dati in /home/max/Desktop/census_tutorial/preprocessing/census_1991/data/Sezioni di Censimento/R02_DatiCPA_1991.csv\n",
      "INFO | 47484 | 2024-10-10 17:56:52,364 | root | Salvataggio dei dati in /home/max/Desktop/census_tutorial/preprocessing/census_1991/data/Sezioni di Censimento/R02_DatiCPA_1991.csv\n",
      "INFO | 47484 | 2024-10-10 17:56:52,364 | root | Salvataggio dei dati in /home/max/Desktop/census_tutorial/preprocessing/census_1991/data/Sezioni di Censimento/R02_DatiCPA_1991.csv\n",
      "INFO | 47484 | 2024-10-10 17:56:52,364 | root | Salvataggio dei dati in /home/max/Desktop/census_tutorial/preprocessing/census_1991/data/Sezioni di Censimento/R02_DatiCPA_1991.csv\n",
      "INFO | 47484 | 2024-10-10 17:56:52,395 | root | Lettura del file Excel da /home/max/Desktop/census_tutorial/preprocessing/census_1991/data/dati-cpa_1991\\R09_DatiCPA_1991.xls\n",
      "INFO | 47484 | 2024-10-10 17:56:52,395 | root | Lettura del file Excel da /home/max/Desktop/census_tutorial/preprocessing/census_1991/data/dati-cpa_1991\\R09_DatiCPA_1991.xls\n",
      "INFO | 47484 | 2024-10-10 17:56:52,395 | root | Lettura del file Excel da /home/max/Desktop/census_tutorial/preprocessing/census_1991/data/dati-cpa_1991\\R09_DatiCPA_1991.xls\n",
      "INFO | 47484 | 2024-10-10 17:56:52,395 | root | Lettura del file Excel da /home/max/Desktop/census_tutorial/preprocessing/census_1991/data/dati-cpa_1991\\R09_DatiCPA_1991.xls\n",
      "INFO | 47484 | 2024-10-10 17:56:52,395 | root | Lettura del file Excel da /home/max/Desktop/census_tutorial/preprocessing/census_1991/data/dati-cpa_1991\\R09_DatiCPA_1991.xls\n",
      "INFO | 47484 | 2024-10-10 17:56:52,395 | root | Lettura del file Excel da /home/max/Desktop/census_tutorial/preprocessing/census_1991/data/dati-cpa_1991\\R09_DatiCPA_1991.xls\n",
      "INFO | 47484 | 2024-10-10 17:56:52,395 | root | Lettura del file Excel da /home/max/Desktop/census_tutorial/preprocessing/census_1991/data/dati-cpa_1991\\R09_DatiCPA_1991.xls\n",
      "INFO | 47484 | 2024-10-10 17:56:52,395 | root | Lettura del file Excel da /home/max/Desktop/census_tutorial/preprocessing/census_1991/data/dati-cpa_1991\\R09_DatiCPA_1991.xls\n"
     ]
    },
    {
     "name": "stderr",
     "output_type": "stream",
     "text": [
      "\n",
      "Lettura righe...: 100%|██████████| 22875/22875 [00:00<00:00, 407966.32it/s]\n"
     ]
    },
    {
     "name": "stdout",
     "output_type": "stream",
     "text": [
      "INFO | 47484 | 2024-10-10 17:56:56,225 | root | Salvataggio dei dati in /home/max/Desktop/census_tutorial/preprocessing/census_1991/data/Sezioni di Censimento/R09_DatiCPA_1991.csv\n",
      "INFO | 47484 | 2024-10-10 17:56:56,225 | root | Salvataggio dei dati in /home/max/Desktop/census_tutorial/preprocessing/census_1991/data/Sezioni di Censimento/R09_DatiCPA_1991.csv\n",
      "INFO | 47484 | 2024-10-10 17:56:56,225 | root | Salvataggio dei dati in /home/max/Desktop/census_tutorial/preprocessing/census_1991/data/Sezioni di Censimento/R09_DatiCPA_1991.csv\n",
      "INFO | 47484 | 2024-10-10 17:56:56,225 | root | Salvataggio dei dati in /home/max/Desktop/census_tutorial/preprocessing/census_1991/data/Sezioni di Censimento/R09_DatiCPA_1991.csv\n",
      "INFO | 47484 | 2024-10-10 17:56:56,225 | root | Salvataggio dei dati in /home/max/Desktop/census_tutorial/preprocessing/census_1991/data/Sezioni di Censimento/R09_DatiCPA_1991.csv\n",
      "INFO | 47484 | 2024-10-10 17:56:56,225 | root | Salvataggio dei dati in /home/max/Desktop/census_tutorial/preprocessing/census_1991/data/Sezioni di Censimento/R09_DatiCPA_1991.csv\n",
      "INFO | 47484 | 2024-10-10 17:56:56,225 | root | Salvataggio dei dati in /home/max/Desktop/census_tutorial/preprocessing/census_1991/data/Sezioni di Censimento/R09_DatiCPA_1991.csv\n",
      "INFO | 47484 | 2024-10-10 17:56:56,225 | root | Salvataggio dei dati in /home/max/Desktop/census_tutorial/preprocessing/census_1991/data/Sezioni di Censimento/R09_DatiCPA_1991.csv\n",
      "INFO | 47484 | 2024-10-10 17:56:56,793 | root | Lettura del file Excel da /home/max/Desktop/census_tutorial/preprocessing/census_1991/data/dati-cpa_1991\\R03_DatiCPA_1991.xls\n",
      "INFO | 47484 | 2024-10-10 17:56:56,793 | root | Lettura del file Excel da /home/max/Desktop/census_tutorial/preprocessing/census_1991/data/dati-cpa_1991\\R03_DatiCPA_1991.xls\n",
      "INFO | 47484 | 2024-10-10 17:56:56,793 | root | Lettura del file Excel da /home/max/Desktop/census_tutorial/preprocessing/census_1991/data/dati-cpa_1991\\R03_DatiCPA_1991.xls\n",
      "INFO | 47484 | 2024-10-10 17:56:56,793 | root | Lettura del file Excel da /home/max/Desktop/census_tutorial/preprocessing/census_1991/data/dati-cpa_1991\\R03_DatiCPA_1991.xls\n",
      "INFO | 47484 | 2024-10-10 17:56:56,793 | root | Lettura del file Excel da /home/max/Desktop/census_tutorial/preprocessing/census_1991/data/dati-cpa_1991\\R03_DatiCPA_1991.xls\n",
      "INFO | 47484 | 2024-10-10 17:56:56,793 | root | Lettura del file Excel da /home/max/Desktop/census_tutorial/preprocessing/census_1991/data/dati-cpa_1991\\R03_DatiCPA_1991.xls\n",
      "INFO | 47484 | 2024-10-10 17:56:56,793 | root | Lettura del file Excel da /home/max/Desktop/census_tutorial/preprocessing/census_1991/data/dati-cpa_1991\\R03_DatiCPA_1991.xls\n",
      "INFO | 47484 | 2024-10-10 17:56:56,793 | root | Lettura del file Excel da /home/max/Desktop/census_tutorial/preprocessing/census_1991/data/dati-cpa_1991\\R03_DatiCPA_1991.xls\n"
     ]
    },
    {
     "name": "stderr",
     "output_type": "stream",
     "text": [
      "Lettura righe...: 100%|██████████| 37967/37967 [00:00<00:00, 375708.42it/s]\n"
     ]
    },
    {
     "name": "stdout",
     "output_type": "stream",
     "text": [
      "INFO | 47484 | 2024-10-10 17:57:03,372 | root | Salvataggio dei dati in /home/max/Desktop/census_tutorial/preprocessing/census_1991/data/Sezioni di Censimento/R03_DatiCPA_1991.csv\n",
      "INFO | 47484 | 2024-10-10 17:57:03,372 | root | Salvataggio dei dati in /home/max/Desktop/census_tutorial/preprocessing/census_1991/data/Sezioni di Censimento/R03_DatiCPA_1991.csv\n",
      "INFO | 47484 | 2024-10-10 17:57:03,372 | root | Salvataggio dei dati in /home/max/Desktop/census_tutorial/preprocessing/census_1991/data/Sezioni di Censimento/R03_DatiCPA_1991.csv\n",
      "INFO | 47484 | 2024-10-10 17:57:03,372 | root | Salvataggio dei dati in /home/max/Desktop/census_tutorial/preprocessing/census_1991/data/Sezioni di Censimento/R03_DatiCPA_1991.csv\n",
      "INFO | 47484 | 2024-10-10 17:57:03,372 | root | Salvataggio dei dati in /home/max/Desktop/census_tutorial/preprocessing/census_1991/data/Sezioni di Censimento/R03_DatiCPA_1991.csv\n",
      "INFO | 47484 | 2024-10-10 17:57:03,372 | root | Salvataggio dei dati in /home/max/Desktop/census_tutorial/preprocessing/census_1991/data/Sezioni di Censimento/R03_DatiCPA_1991.csv\n",
      "INFO | 47484 | 2024-10-10 17:57:03,372 | root | Salvataggio dei dati in /home/max/Desktop/census_tutorial/preprocessing/census_1991/data/Sezioni di Censimento/R03_DatiCPA_1991.csv\n",
      "INFO | 47484 | 2024-10-10 17:57:03,372 | root | Salvataggio dei dati in /home/max/Desktop/census_tutorial/preprocessing/census_1991/data/Sezioni di Censimento/R03_DatiCPA_1991.csv\n",
      "INFO | 47484 | 2024-10-10 17:57:04,235 | root | Lettura del file Excel da /home/max/Desktop/census_tutorial/preprocessing/census_1991/data/dati-cpa_1991\\R16_DatiCPA_1991.xls\n",
      "INFO | 47484 | 2024-10-10 17:57:04,235 | root | Lettura del file Excel da /home/max/Desktop/census_tutorial/preprocessing/census_1991/data/dati-cpa_1991\\R16_DatiCPA_1991.xls\n",
      "INFO | 47484 | 2024-10-10 17:57:04,235 | root | Lettura del file Excel da /home/max/Desktop/census_tutorial/preprocessing/census_1991/data/dati-cpa_1991\\R16_DatiCPA_1991.xls\n",
      "INFO | 47484 | 2024-10-10 17:57:04,235 | root | Lettura del file Excel da /home/max/Desktop/census_tutorial/preprocessing/census_1991/data/dati-cpa_1991\\R16_DatiCPA_1991.xls\n",
      "INFO | 47484 | 2024-10-10 17:57:04,235 | root | Lettura del file Excel da /home/max/Desktop/census_tutorial/preprocessing/census_1991/data/dati-cpa_1991\\R16_DatiCPA_1991.xls\n",
      "INFO | 47484 | 2024-10-10 17:57:04,235 | root | Lettura del file Excel da /home/max/Desktop/census_tutorial/preprocessing/census_1991/data/dati-cpa_1991\\R16_DatiCPA_1991.xls\n",
      "INFO | 47484 | 2024-10-10 17:57:04,235 | root | Lettura del file Excel da /home/max/Desktop/census_tutorial/preprocessing/census_1991/data/dati-cpa_1991\\R16_DatiCPA_1991.xls\n",
      "INFO | 47484 | 2024-10-10 17:57:04,235 | root | Lettura del file Excel da /home/max/Desktop/census_tutorial/preprocessing/census_1991/data/dati-cpa_1991\\R16_DatiCPA_1991.xls\n"
     ]
    },
    {
     "name": "stderr",
     "output_type": "stream",
     "text": [
      "Lettura righe...: 100%|██████████| 17046/17046 [00:00<00:00, 83857.15it/s]"
     ]
    },
    {
     "name": "stdout",
     "output_type": "stream",
     "text": [
      "INFO | 47484 | 2024-10-10 17:57:07,259 | root | Salvataggio dei dati in /home/max/Desktop/census_tutorial/preprocessing/census_1991/data/Sezioni di Censimento/R16_DatiCPA_1991.csv\n",
      "INFO | 47484 | 2024-10-10 17:57:07,259 | root | Salvataggio dei dati in /home/max/Desktop/census_tutorial/preprocessing/census_1991/data/Sezioni di Censimento/R16_DatiCPA_1991.csv\n",
      "INFO | 47484 | 2024-10-10 17:57:07,259 | root | Salvataggio dei dati in /home/max/Desktop/census_tutorial/preprocessing/census_1991/data/Sezioni di Censimento/R16_DatiCPA_1991.csv\n",
      "INFO | 47484 | 2024-10-10 17:57:07,259 | root | Salvataggio dei dati in /home/max/Desktop/census_tutorial/preprocessing/census_1991/data/Sezioni di Censimento/R16_DatiCPA_1991.csv\n",
      "INFO | 47484 | 2024-10-10 17:57:07,259 | root | Salvataggio dei dati in /home/max/Desktop/census_tutorial/preprocessing/census_1991/data/Sezioni di Censimento/R16_DatiCPA_1991.csv\n",
      "INFO | 47484 | 2024-10-10 17:57:07,259 | root | Salvataggio dei dati in /home/max/Desktop/census_tutorial/preprocessing/census_1991/data/Sezioni di Censimento/R16_DatiCPA_1991.csv\n",
      "INFO | 47484 | 2024-10-10 17:57:07,259 | root | Salvataggio dei dati in /home/max/Desktop/census_tutorial/preprocessing/census_1991/data/Sezioni di Censimento/R16_DatiCPA_1991.csv\n",
      "INFO | 47484 | 2024-10-10 17:57:07,259 | root | Salvataggio dei dati in /home/max/Desktop/census_tutorial/preprocessing/census_1991/data/Sezioni di Censimento/R16_DatiCPA_1991.csv\n"
     ]
    },
    {
     "name": "stderr",
     "output_type": "stream",
     "text": [
      "\n"
     ]
    },
    {
     "name": "stdout",
     "output_type": "stream",
     "text": [
      "INFO | 47484 | 2024-10-10 17:57:07,609 | root | Estrazione del tracciamento dei dati dal file /home/max/Desktop/census_tutorial/preprocessing/census_1991/data/dati-cpa_1991\\R05_DatiCPA_1991.xls\n",
      "INFO | 47484 | 2024-10-10 17:57:07,609 | root | Estrazione del tracciamento dei dati dal file /home/max/Desktop/census_tutorial/preprocessing/census_1991/data/dati-cpa_1991\\R05_DatiCPA_1991.xls\n",
      "INFO | 47484 | 2024-10-10 17:57:07,609 | root | Estrazione del tracciamento dei dati dal file /home/max/Desktop/census_tutorial/preprocessing/census_1991/data/dati-cpa_1991\\R05_DatiCPA_1991.xls\n",
      "INFO | 47484 | 2024-10-10 17:57:07,609 | root | Estrazione del tracciamento dei dati dal file /home/max/Desktop/census_tutorial/preprocessing/census_1991/data/dati-cpa_1991\\R05_DatiCPA_1991.xls\n",
      "INFO | 47484 | 2024-10-10 17:57:07,609 | root | Estrazione del tracciamento dei dati dal file /home/max/Desktop/census_tutorial/preprocessing/census_1991/data/dati-cpa_1991\\R05_DatiCPA_1991.xls\n",
      "INFO | 47484 | 2024-10-10 17:57:07,609 | root | Estrazione del tracciamento dei dati dal file /home/max/Desktop/census_tutorial/preprocessing/census_1991/data/dati-cpa_1991\\R05_DatiCPA_1991.xls\n",
      "INFO | 47484 | 2024-10-10 17:57:07,609 | root | Estrazione del tracciamento dei dati dal file /home/max/Desktop/census_tutorial/preprocessing/census_1991/data/dati-cpa_1991\\R05_DatiCPA_1991.xls\n",
      "INFO | 47484 | 2024-10-10 17:57:07,609 | root | Estrazione del tracciamento dei dati dal file /home/max/Desktop/census_tutorial/preprocessing/census_1991/data/dati-cpa_1991\\R05_DatiCPA_1991.xls\n",
      "INFO | 47484 | 2024-10-10 17:57:07,613 | root | Lettura dei dati da /home/max/Desktop/census_tutorial/preprocessing/census_1991/data/dati-cpa_1991\\R05_DatiCPA_1991.xls\n",
      "INFO | 47484 | 2024-10-10 17:57:07,613 | root | Lettura dei dati da /home/max/Desktop/census_tutorial/preprocessing/census_1991/data/dati-cpa_1991\\R05_DatiCPA_1991.xls\n",
      "INFO | 47484 | 2024-10-10 17:57:07,613 | root | Lettura dei dati da /home/max/Desktop/census_tutorial/preprocessing/census_1991/data/dati-cpa_1991\\R05_DatiCPA_1991.xls\n",
      "INFO | 47484 | 2024-10-10 17:57:07,613 | root | Lettura dei dati da /home/max/Desktop/census_tutorial/preprocessing/census_1991/data/dati-cpa_1991\\R05_DatiCPA_1991.xls\n",
      "INFO | 47484 | 2024-10-10 17:57:07,613 | root | Lettura dei dati da /home/max/Desktop/census_tutorial/preprocessing/census_1991/data/dati-cpa_1991\\R05_DatiCPA_1991.xls\n",
      "INFO | 47484 | 2024-10-10 17:57:07,613 | root | Lettura dei dati da /home/max/Desktop/census_tutorial/preprocessing/census_1991/data/dati-cpa_1991\\R05_DatiCPA_1991.xls\n",
      "INFO | 47484 | 2024-10-10 17:57:07,613 | root | Lettura dei dati da /home/max/Desktop/census_tutorial/preprocessing/census_1991/data/dati-cpa_1991\\R05_DatiCPA_1991.xls\n",
      "INFO | 47484 | 2024-10-10 17:57:07,613 | root | Lettura dei dati da /home/max/Desktop/census_tutorial/preprocessing/census_1991/data/dati-cpa_1991\\R05_DatiCPA_1991.xls\n",
      "INFO | 47484 | 2024-10-10 17:57:11,993 | root | Dati letti con successo.\n",
      "INFO | 47484 | 2024-10-10 17:57:11,993 | root | Dati letti con successo.\n",
      "INFO | 47484 | 2024-10-10 17:57:11,993 | root | Dati letti con successo.\n",
      "INFO | 47484 | 2024-10-10 17:57:11,993 | root | Dati letti con successo.\n",
      "INFO | 47484 | 2024-10-10 17:57:11,993 | root | Dati letti con successo.\n",
      "INFO | 47484 | 2024-10-10 17:57:11,993 | root | Dati letti con successo.\n",
      "INFO | 47484 | 2024-10-10 17:57:11,993 | root | Dati letti con successo.\n",
      "INFO | 47484 | 2024-10-10 17:57:11,993 | root | Dati letti con successo.\n",
      "INFO | 47484 | 2024-10-10 17:57:11,997 | root | Salvataggio dei dati in /home/max/Desktop/census_tutorial/preprocessing/census_1991/data/Sezioni di Censimento/tracciato_1991_sezioni.csv\n",
      "INFO | 47484 | 2024-10-10 17:57:11,997 | root | Salvataggio dei dati in /home/max/Desktop/census_tutorial/preprocessing/census_1991/data/Sezioni di Censimento/tracciato_1991_sezioni.csv\n",
      "INFO | 47484 | 2024-10-10 17:57:11,997 | root | Salvataggio dei dati in /home/max/Desktop/census_tutorial/preprocessing/census_1991/data/Sezioni di Censimento/tracciato_1991_sezioni.csv\n",
      "INFO | 47484 | 2024-10-10 17:57:11,997 | root | Salvataggio dei dati in /home/max/Desktop/census_tutorial/preprocessing/census_1991/data/Sezioni di Censimento/tracciato_1991_sezioni.csv\n",
      "INFO | 47484 | 2024-10-10 17:57:11,997 | root | Salvataggio dei dati in /home/max/Desktop/census_tutorial/preprocessing/census_1991/data/Sezioni di Censimento/tracciato_1991_sezioni.csv\n",
      "INFO | 47484 | 2024-10-10 17:57:11,997 | root | Salvataggio dei dati in /home/max/Desktop/census_tutorial/preprocessing/census_1991/data/Sezioni di Censimento/tracciato_1991_sezioni.csv\n",
      "INFO | 47484 | 2024-10-10 17:57:11,997 | root | Salvataggio dei dati in /home/max/Desktop/census_tutorial/preprocessing/census_1991/data/Sezioni di Censimento/tracciato_1991_sezioni.csv\n",
      "INFO | 47484 | 2024-10-10 17:57:11,997 | root | Salvataggio dei dati in /home/max/Desktop/census_tutorial/preprocessing/census_1991/data/Sezioni di Censimento/tracciato_1991_sezioni.csv\n",
      "INFO | 47484 | 2024-10-10 17:57:12,000 | root | Rimozione dei file XLS dalla cartella /home/max/Desktop/census_tutorial/preprocessing/census_1991\n",
      "INFO | 47484 | 2024-10-10 17:57:12,000 | root | Rimozione dei file XLS dalla cartella /home/max/Desktop/census_tutorial/preprocessing/census_1991\n",
      "INFO | 47484 | 2024-10-10 17:57:12,000 | root | Rimozione dei file XLS dalla cartella /home/max/Desktop/census_tutorial/preprocessing/census_1991\n",
      "INFO | 47484 | 2024-10-10 17:57:12,000 | root | Rimozione dei file XLS dalla cartella /home/max/Desktop/census_tutorial/preprocessing/census_1991\n",
      "INFO | 47484 | 2024-10-10 17:57:12,000 | root | Rimozione dei file XLS dalla cartella /home/max/Desktop/census_tutorial/preprocessing/census_1991\n",
      "INFO | 47484 | 2024-10-10 17:57:12,000 | root | Rimozione dei file XLS dalla cartella /home/max/Desktop/census_tutorial/preprocessing/census_1991\n",
      "INFO | 47484 | 2024-10-10 17:57:12,000 | root | Rimozione dei file XLS dalla cartella /home/max/Desktop/census_tutorial/preprocessing/census_1991\n",
      "INFO | 47484 | 2024-10-10 17:57:12,000 | root | Rimozione dei file XLS dalla cartella /home/max/Desktop/census_tutorial/preprocessing/census_1991\n",
      "INFO | 47484 | 2024-10-10 17:57:12,027 | root | Download dei dati censuari completato e salvato in /home/max/Desktop/census_tutorial/preprocessing/census_1991\n",
      "INFO | 47484 | 2024-10-10 17:57:12,027 | root | Download dei dati censuari completato e salvato in /home/max/Desktop/census_tutorial/preprocessing/census_1991\n",
      "INFO | 47484 | 2024-10-10 17:57:12,027 | root | Download dei dati censuari completato e salvato in /home/max/Desktop/census_tutorial/preprocessing/census_1991\n",
      "INFO | 47484 | 2024-10-10 17:57:12,027 | root | Download dei dati censuari completato e salvato in /home/max/Desktop/census_tutorial/preprocessing/census_1991\n",
      "INFO | 47484 | 2024-10-10 17:57:12,027 | root | Download dei dati censuari completato e salvato in /home/max/Desktop/census_tutorial/preprocessing/census_1991\n",
      "INFO | 47484 | 2024-10-10 17:57:12,027 | root | Download dei dati censuari completato e salvato in /home/max/Desktop/census_tutorial/preprocessing/census_1991\n",
      "INFO | 47484 | 2024-10-10 17:57:12,027 | root | Download dei dati censuari completato e salvato in /home/max/Desktop/census_tutorial/preprocessing/census_1991\n",
      "INFO | 47484 | 2024-10-10 17:57:12,027 | root | Download dei dati censuari completato e salvato in /home/max/Desktop/census_tutorial/preprocessing/census_1991\n",
      "INFO | 47484 | 2024-10-10 17:57:12,031 | root | Creazione della cartella per i dati del censimento 1991.\n",
      "INFO | 47484 | 2024-10-10 17:57:12,031 | root | Creazione della cartella per i dati del censimento 1991.\n",
      "INFO | 47484 | 2024-10-10 17:57:12,031 | root | Creazione della cartella per i dati del censimento 1991.\n",
      "INFO | 47484 | 2024-10-10 17:57:12,031 | root | Creazione della cartella per i dati del censimento 1991.\n",
      "INFO | 47484 | 2024-10-10 17:57:12,031 | root | Creazione della cartella per i dati del censimento 1991.\n",
      "INFO | 47484 | 2024-10-10 17:57:12,031 | root | Creazione della cartella per i dati del censimento 1991.\n",
      "INFO | 47484 | 2024-10-10 17:57:12,031 | root | Creazione della cartella per i dati del censimento 1991.\n",
      "INFO | 47484 | 2024-10-10 17:57:12,031 | root | Creazione della cartella per i dati del censimento 1991.\n",
      "INFO | 47484 | 2024-10-10 17:57:12,033 | root | Cartella creata o già esistente: /home/max/Desktop/census_tutorial/preprocessing/census_1991\n",
      "INFO | 47484 | 2024-10-10 17:57:12,033 | root | Cartella creata o già esistente: /home/max/Desktop/census_tutorial/preprocessing/census_1991\n",
      "INFO | 47484 | 2024-10-10 17:57:12,033 | root | Cartella creata o già esistente: /home/max/Desktop/census_tutorial/preprocessing/census_1991\n",
      "INFO | 47484 | 2024-10-10 17:57:12,033 | root | Cartella creata o già esistente: /home/max/Desktop/census_tutorial/preprocessing/census_1991\n",
      "INFO | 47484 | 2024-10-10 17:57:12,033 | root | Cartella creata o già esistente: /home/max/Desktop/census_tutorial/preprocessing/census_1991\n",
      "INFO | 47484 | 2024-10-10 17:57:12,033 | root | Cartella creata o già esistente: /home/max/Desktop/census_tutorial/preprocessing/census_1991\n",
      "INFO | 47484 | 2024-10-10 17:57:12,033 | root | Cartella creata o già esistente: /home/max/Desktop/census_tutorial/preprocessing/census_1991\n",
      "INFO | 47484 | 2024-10-10 17:57:12,033 | root | Cartella creata o già esistente: /home/max/Desktop/census_tutorial/preprocessing/census_1991\n",
      "INFO | 47484 | 2024-10-10 17:57:12,035 | root | Percorso del file di destinazione: /home/max/Desktop/census_tutorial/preprocessing/census_1991/geodata/R15_91_WGS84.zip\n",
      "INFO | 47484 | 2024-10-10 17:57:12,035 | root | Percorso del file di destinazione: /home/max/Desktop/census_tutorial/preprocessing/census_1991/geodata/R15_91_WGS84.zip\n",
      "INFO | 47484 | 2024-10-10 17:57:12,035 | root | Percorso del file di destinazione: /home/max/Desktop/census_tutorial/preprocessing/census_1991/geodata/R15_91_WGS84.zip\n",
      "INFO | 47484 | 2024-10-10 17:57:12,035 | root | Percorso del file di destinazione: /home/max/Desktop/census_tutorial/preprocessing/census_1991/geodata/R15_91_WGS84.zip\n",
      "INFO | 47484 | 2024-10-10 17:57:12,035 | root | Percorso del file di destinazione: /home/max/Desktop/census_tutorial/preprocessing/census_1991/geodata/R15_91_WGS84.zip\n",
      "INFO | 47484 | 2024-10-10 17:57:12,035 | root | Percorso del file di destinazione: /home/max/Desktop/census_tutorial/preprocessing/census_1991/geodata/R15_91_WGS84.zip\n",
      "INFO | 47484 | 2024-10-10 17:57:12,035 | root | Percorso del file di destinazione: /home/max/Desktop/census_tutorial/preprocessing/census_1991/geodata/R15_91_WGS84.zip\n",
      "INFO | 47484 | 2024-10-10 17:57:12,035 | root | Percorso del file di destinazione: /home/max/Desktop/census_tutorial/preprocessing/census_1991/geodata/R15_91_WGS84.zip\n",
      "INFO | 47484 | 2024-10-10 17:57:12,038 | root | Inizio download dei dati dal link: https://www.istat.it/storage/cartografia/basi_territoriali/WGS_84_UTM/1991/R15_91_WGS84.zip\n",
      "INFO | 47484 | 2024-10-10 17:57:12,038 | root | Inizio download dei dati dal link: https://www.istat.it/storage/cartografia/basi_territoriali/WGS_84_UTM/1991/R15_91_WGS84.zip\n",
      "INFO | 47484 | 2024-10-10 17:57:12,038 | root | Inizio download dei dati dal link: https://www.istat.it/storage/cartografia/basi_territoriali/WGS_84_UTM/1991/R15_91_WGS84.zip\n",
      "INFO | 47484 | 2024-10-10 17:57:12,038 | root | Inizio download dei dati dal link: https://www.istat.it/storage/cartografia/basi_territoriali/WGS_84_UTM/1991/R15_91_WGS84.zip\n",
      "INFO | 47484 | 2024-10-10 17:57:12,038 | root | Inizio download dei dati dal link: https://www.istat.it/storage/cartografia/basi_territoriali/WGS_84_UTM/1991/R15_91_WGS84.zip\n",
      "INFO | 47484 | 2024-10-10 17:57:12,038 | root | Inizio download dei dati dal link: https://www.istat.it/storage/cartografia/basi_territoriali/WGS_84_UTM/1991/R15_91_WGS84.zip\n",
      "INFO | 47484 | 2024-10-10 17:57:12,038 | root | Inizio download dei dati dal link: https://www.istat.it/storage/cartografia/basi_territoriali/WGS_84_UTM/1991/R15_91_WGS84.zip\n",
      "INFO | 47484 | 2024-10-10 17:57:12,038 | root | Inizio download dei dati dal link: https://www.istat.it/storage/cartografia/basi_territoriali/WGS_84_UTM/1991/R15_91_WGS84.zip\n"
     ]
    },
    {
     "name": "stderr",
     "output_type": "stream",
     "text": [
      "In download...: 100%|██████████| 10.5M/10.5M [00:04<00:00, 2.21MB/s]"
     ]
    },
    {
     "name": "stdout",
     "output_type": "stream",
     "text": [
      "INFO | 47484 | 2024-10-10 17:57:17,176 | root | Download completato con successo in 5.14 secondi.\n",
      "INFO | 47484 | 2024-10-10 17:57:17,176 | root | Download completato con successo in 5.14 secondi.\n",
      "INFO | 47484 | 2024-10-10 17:57:17,176 | root | Download completato con successo in 5.14 secondi.\n",
      "INFO | 47484 | 2024-10-10 17:57:17,176 | root | Download completato con successo in 5.14 secondi.\n",
      "INFO | 47484 | 2024-10-10 17:57:17,176 | root | Download completato con successo in 5.14 secondi.\n",
      "INFO | 47484 | 2024-10-10 17:57:17,176 | root | Download completato con successo in 5.14 secondi.\n",
      "INFO | 47484 | 2024-10-10 17:57:17,176 | root | Download completato con successo in 5.14 secondi.\n",
      "INFO | 47484 | 2024-10-10 17:57:17,176 | root | Download completato con successo in 5.14 secondi.\n",
      "INFO | 47484 | 2024-10-10 17:57:17,179 | root | Inizio estrazione del file ZIP.\n",
      "INFO | 47484 | 2024-10-10 17:57:17,179 | root | Inizio estrazione del file ZIP.\n",
      "INFO | 47484 | 2024-10-10 17:57:17,179 | root | Inizio estrazione del file ZIP.\n",
      "INFO | 47484 | 2024-10-10 17:57:17,179 | root | Inizio estrazione del file ZIP.\n",
      "INFO | 47484 | 2024-10-10 17:57:17,179 | root | Inizio estrazione del file ZIP.\n",
      "INFO | 47484 | 2024-10-10 17:57:17,179 | root | Inizio estrazione del file ZIP.\n",
      "INFO | 47484 | 2024-10-10 17:57:17,179 | root | Inizio estrazione del file ZIP.\n",
      "INFO | 47484 | 2024-10-10 17:57:17,179 | root | Inizio estrazione del file ZIP.\n",
      "INFO | 47484 | 2024-10-10 17:57:17,180 | root | Decompressione del file /home/max/Desktop/census_tutorial/preprocessing/census_1991/geodata/R15_91_WGS84.zip nella cartella /home/max/Desktop/census_tutorial/preprocessing/census_1991/geodata.\n",
      "INFO | 47484 | 2024-10-10 17:57:17,180 | root | Decompressione del file /home/max/Desktop/census_tutorial/preprocessing/census_1991/geodata/R15_91_WGS84.zip nella cartella /home/max/Desktop/census_tutorial/preprocessing/census_1991/geodata.\n",
      "INFO | 47484 | 2024-10-10 17:57:17,180 | root | Decompressione del file /home/max/Desktop/census_tutorial/preprocessing/census_1991/geodata/R15_91_WGS84.zip nella cartella /home/max/Desktop/census_tutorial/preprocessing/census_1991/geodata.\n",
      "INFO | 47484 | 2024-10-10 17:57:17,180 | root | Decompressione del file /home/max/Desktop/census_tutorial/preprocessing/census_1991/geodata/R15_91_WGS84.zip nella cartella /home/max/Desktop/census_tutorial/preprocessing/census_1991/geodata.\n",
      "INFO | 47484 | 2024-10-10 17:57:17,180 | root | Decompressione del file /home/max/Desktop/census_tutorial/preprocessing/census_1991/geodata/R15_91_WGS84.zip nella cartella /home/max/Desktop/census_tutorial/preprocessing/census_1991/geodata.\n",
      "INFO | 47484 | 2024-10-10 17:57:17,180 | root | Decompressione del file /home/max/Desktop/census_tutorial/preprocessing/census_1991/geodata/R15_91_WGS84.zip nella cartella /home/max/Desktop/census_tutorial/preprocessing/census_1991/geodata.\n",
      "INFO | 47484 | 2024-10-10 17:57:17,180 | root | Decompressione del file /home/max/Desktop/census_tutorial/preprocessing/census_1991/geodata/R15_91_WGS84.zip nella cartella /home/max/Desktop/census_tutorial/preprocessing/census_1991/geodata.\n",
      "INFO | 47484 | 2024-10-10 17:57:17,180 | root | Decompressione del file /home/max/Desktop/census_tutorial/preprocessing/census_1991/geodata/R15_91_WGS84.zip nella cartella /home/max/Desktop/census_tutorial/preprocessing/census_1991/geodata.\n"
     ]
    },
    {
     "name": "stderr",
     "output_type": "stream",
     "text": [
      "\n"
     ]
    },
    {
     "name": "stdout",
     "output_type": "stream",
     "text": [
      "INFO | 47484 | 2024-10-10 17:57:17,300 | root | Decompressione completata. File estratti in /home/max/Desktop/census_tutorial/preprocessing/census_1991/geodata.\n",
      "INFO | 47484 | 2024-10-10 17:57:17,300 | root | Decompressione completata. File estratti in /home/max/Desktop/census_tutorial/preprocessing/census_1991/geodata.\n",
      "INFO | 47484 | 2024-10-10 17:57:17,300 | root | Decompressione completata. File estratti in /home/max/Desktop/census_tutorial/preprocessing/census_1991/geodata.\n",
      "INFO | 47484 | 2024-10-10 17:57:17,300 | root | Decompressione completata. File estratti in /home/max/Desktop/census_tutorial/preprocessing/census_1991/geodata.\n",
      "INFO | 47484 | 2024-10-10 17:57:17,300 | root | Decompressione completata. File estratti in /home/max/Desktop/census_tutorial/preprocessing/census_1991/geodata.\n",
      "INFO | 47484 | 2024-10-10 17:57:17,300 | root | Decompressione completata. File estratti in /home/max/Desktop/census_tutorial/preprocessing/census_1991/geodata.\n",
      "INFO | 47484 | 2024-10-10 17:57:17,300 | root | Decompressione completata. File estratti in /home/max/Desktop/census_tutorial/preprocessing/census_1991/geodata.\n",
      "INFO | 47484 | 2024-10-10 17:57:17,300 | root | Decompressione completata. File estratti in /home/max/Desktop/census_tutorial/preprocessing/census_1991/geodata.\n",
      "INFO | 47484 | 2024-10-10 17:57:17,303 | root | Eliminazione del file ZIP | /home/max/Desktop/census_tutorial/preprocessing/census_1991/geodata/R15_91_WGS84.zip\n",
      "INFO | 47484 | 2024-10-10 17:57:17,303 | root | Eliminazione del file ZIP | /home/max/Desktop/census_tutorial/preprocessing/census_1991/geodata/R15_91_WGS84.zip\n",
      "INFO | 47484 | 2024-10-10 17:57:17,303 | root | Eliminazione del file ZIP | /home/max/Desktop/census_tutorial/preprocessing/census_1991/geodata/R15_91_WGS84.zip\n",
      "INFO | 47484 | 2024-10-10 17:57:17,303 | root | Eliminazione del file ZIP | /home/max/Desktop/census_tutorial/preprocessing/census_1991/geodata/R15_91_WGS84.zip\n",
      "INFO | 47484 | 2024-10-10 17:57:17,303 | root | Eliminazione del file ZIP | /home/max/Desktop/census_tutorial/preprocessing/census_1991/geodata/R15_91_WGS84.zip\n",
      "INFO | 47484 | 2024-10-10 17:57:17,303 | root | Eliminazione del file ZIP | /home/max/Desktop/census_tutorial/preprocessing/census_1991/geodata/R15_91_WGS84.zip\n",
      "INFO | 47484 | 2024-10-10 17:57:17,303 | root | Eliminazione del file ZIP | /home/max/Desktop/census_tutorial/preprocessing/census_1991/geodata/R15_91_WGS84.zip\n",
      "INFO | 47484 | 2024-10-10 17:57:17,303 | root | Eliminazione del file ZIP | /home/max/Desktop/census_tutorial/preprocessing/census_1991/geodata/R15_91_WGS84.zip\n",
      "INFO | 47484 | 2024-10-10 17:57:17,307 | root | File ZIP eliminato con successo.\n",
      "INFO | 47484 | 2024-10-10 17:57:17,307 | root | File ZIP eliminato con successo.\n",
      "INFO | 47484 | 2024-10-10 17:57:17,307 | root | File ZIP eliminato con successo.\n",
      "INFO | 47484 | 2024-10-10 17:57:17,307 | root | File ZIP eliminato con successo.\n",
      "INFO | 47484 | 2024-10-10 17:57:17,307 | root | File ZIP eliminato con successo.\n",
      "INFO | 47484 | 2024-10-10 17:57:17,307 | root | File ZIP eliminato con successo.\n",
      "INFO | 47484 | 2024-10-10 17:57:17,307 | root | File ZIP eliminato con successo.\n",
      "INFO | 47484 | 2024-10-10 17:57:17,307 | root | File ZIP eliminato con successo.\n",
      "INFO | 47484 | 2024-10-10 17:57:17,309 | root | Creazione della cartella per i dati del censimento in /home/max/Desktop/census_tutorial/preprocessing\n",
      "INFO | 47484 | 2024-10-10 17:57:17,309 | root | Creazione della cartella per i dati del censimento in /home/max/Desktop/census_tutorial/preprocessing\n",
      "INFO | 47484 | 2024-10-10 17:57:17,309 | root | Creazione della cartella per i dati del censimento in /home/max/Desktop/census_tutorial/preprocessing\n",
      "INFO | 47484 | 2024-10-10 17:57:17,309 | root | Creazione della cartella per i dati del censimento in /home/max/Desktop/census_tutorial/preprocessing\n",
      "INFO | 47484 | 2024-10-10 17:57:17,309 | root | Creazione della cartella per i dati del censimento in /home/max/Desktop/census_tutorial/preprocessing\n",
      "INFO | 47484 | 2024-10-10 17:57:17,309 | root | Creazione della cartella per i dati del censimento in /home/max/Desktop/census_tutorial/preprocessing\n",
      "INFO | 47484 | 2024-10-10 17:57:17,309 | root | Creazione della cartella per i dati del censimento in /home/max/Desktop/census_tutorial/preprocessing\n",
      "INFO | 47484 | 2024-10-10 17:57:17,309 | root | Creazione della cartella per i dati del censimento in /home/max/Desktop/census_tutorial/preprocessing\n",
      "INFO | 47484 | 2024-10-10 17:57:17,311 | root | Creazione della cartella per i dati del censimento 1991.\n",
      "INFO | 47484 | 2024-10-10 17:57:17,311 | root | Creazione della cartella per i dati del censimento 1991.\n",
      "INFO | 47484 | 2024-10-10 17:57:17,311 | root | Creazione della cartella per i dati del censimento 1991.\n",
      "INFO | 47484 | 2024-10-10 17:57:17,311 | root | Creazione della cartella per i dati del censimento 1991.\n",
      "INFO | 47484 | 2024-10-10 17:57:17,311 | root | Creazione della cartella per i dati del censimento 1991.\n",
      "INFO | 47484 | 2024-10-10 17:57:17,311 | root | Creazione della cartella per i dati del censimento 1991.\n",
      "INFO | 47484 | 2024-10-10 17:57:17,311 | root | Creazione della cartella per i dati del censimento 1991.\n",
      "INFO | 47484 | 2024-10-10 17:57:17,311 | root | Creazione della cartella per i dati del censimento 1991.\n",
      "INFO | 47484 | 2024-10-10 17:57:17,313 | root | Cartella creata o già esistente: /home/max/Desktop/census_tutorial/preprocessing/census_1991\n",
      "INFO | 47484 | 2024-10-10 17:57:17,313 | root | Cartella creata o già esistente: /home/max/Desktop/census_tutorial/preprocessing/census_1991\n",
      "INFO | 47484 | 2024-10-10 17:57:17,313 | root | Cartella creata o già esistente: /home/max/Desktop/census_tutorial/preprocessing/census_1991\n",
      "INFO | 47484 | 2024-10-10 17:57:17,313 | root | Cartella creata o già esistente: /home/max/Desktop/census_tutorial/preprocessing/census_1991\n",
      "INFO | 47484 | 2024-10-10 17:57:17,313 | root | Cartella creata o già esistente: /home/max/Desktop/census_tutorial/preprocessing/census_1991\n",
      "INFO | 47484 | 2024-10-10 17:57:17,313 | root | Cartella creata o già esistente: /home/max/Desktop/census_tutorial/preprocessing/census_1991\n",
      "INFO | 47484 | 2024-10-10 17:57:17,313 | root | Cartella creata o già esistente: /home/max/Desktop/census_tutorial/preprocessing/census_1991\n",
      "INFO | 47484 | 2024-10-10 17:57:17,313 | root | Cartella creata o già esistente: /home/max/Desktop/census_tutorial/preprocessing/census_1991\n",
      "INFO | 47484 | 2024-10-10 17:57:17,315 | root | Scaricamento dei confini amministrativi da https://www.istat.it/storage/cartografia/confini_amministrativi/non_generalizzati/Limiti1991.zip\n",
      "INFO | 47484 | 2024-10-10 17:57:17,315 | root | Scaricamento dei confini amministrativi da https://www.istat.it/storage/cartografia/confini_amministrativi/non_generalizzati/Limiti1991.zip\n",
      "INFO | 47484 | 2024-10-10 17:57:17,315 | root | Scaricamento dei confini amministrativi da https://www.istat.it/storage/cartografia/confini_amministrativi/non_generalizzati/Limiti1991.zip\n",
      "INFO | 47484 | 2024-10-10 17:57:17,315 | root | Scaricamento dei confini amministrativi da https://www.istat.it/storage/cartografia/confini_amministrativi/non_generalizzati/Limiti1991.zip\n",
      "INFO | 47484 | 2024-10-10 17:57:17,315 | root | Scaricamento dei confini amministrativi da https://www.istat.it/storage/cartografia/confini_amministrativi/non_generalizzati/Limiti1991.zip\n",
      "INFO | 47484 | 2024-10-10 17:57:17,315 | root | Scaricamento dei confini amministrativi da https://www.istat.it/storage/cartografia/confini_amministrativi/non_generalizzati/Limiti1991.zip\n",
      "INFO | 47484 | 2024-10-10 17:57:17,315 | root | Scaricamento dei confini amministrativi da https://www.istat.it/storage/cartografia/confini_amministrativi/non_generalizzati/Limiti1991.zip\n",
      "INFO | 47484 | 2024-10-10 17:57:17,315 | root | Scaricamento dei confini amministrativi da https://www.istat.it/storage/cartografia/confini_amministrativi/non_generalizzati/Limiti1991.zip\n",
      "INFO | 47484 | 2024-10-10 17:57:17,317 | root | Inizio download dei dati dal link: https://www.istat.it/storage/cartografia/confini_amministrativi/non_generalizzati/Limiti1991.zip\n",
      "INFO | 47484 | 2024-10-10 17:57:17,317 | root | Inizio download dei dati dal link: https://www.istat.it/storage/cartografia/confini_amministrativi/non_generalizzati/Limiti1991.zip\n",
      "INFO | 47484 | 2024-10-10 17:57:17,317 | root | Inizio download dei dati dal link: https://www.istat.it/storage/cartografia/confini_amministrativi/non_generalizzati/Limiti1991.zip\n",
      "INFO | 47484 | 2024-10-10 17:57:17,317 | root | Inizio download dei dati dal link: https://www.istat.it/storage/cartografia/confini_amministrativi/non_generalizzati/Limiti1991.zip\n",
      "INFO | 47484 | 2024-10-10 17:57:17,317 | root | Inizio download dei dati dal link: https://www.istat.it/storage/cartografia/confini_amministrativi/non_generalizzati/Limiti1991.zip\n",
      "INFO | 47484 | 2024-10-10 17:57:17,317 | root | Inizio download dei dati dal link: https://www.istat.it/storage/cartografia/confini_amministrativi/non_generalizzati/Limiti1991.zip\n",
      "INFO | 47484 | 2024-10-10 17:57:17,317 | root | Inizio download dei dati dal link: https://www.istat.it/storage/cartografia/confini_amministrativi/non_generalizzati/Limiti1991.zip\n",
      "INFO | 47484 | 2024-10-10 17:57:17,317 | root | Inizio download dei dati dal link: https://www.istat.it/storage/cartografia/confini_amministrativi/non_generalizzati/Limiti1991.zip\n"
     ]
    },
    {
     "name": "stderr",
     "output_type": "stream",
     "text": [
      "In download...: 100%|██████████| 52.1M/52.1M [00:10<00:00, 5.16MB/s]"
     ]
    },
    {
     "name": "stdout",
     "output_type": "stream",
     "text": [
      "INFO | 47484 | 2024-10-10 17:57:27,999 | root | Download completato con successo in 10.68 secondi.\n",
      "INFO | 47484 | 2024-10-10 17:57:27,999 | root | Download completato con successo in 10.68 secondi.\n",
      "INFO | 47484 | 2024-10-10 17:57:27,999 | root | Download completato con successo in 10.68 secondi.\n",
      "INFO | 47484 | 2024-10-10 17:57:27,999 | root | Download completato con successo in 10.68 secondi.\n",
      "INFO | 47484 | 2024-10-10 17:57:27,999 | root | Download completato con successo in 10.68 secondi.\n",
      "INFO | 47484 | 2024-10-10 17:57:27,999 | root | Download completato con successo in 10.68 secondi.\n",
      "INFO | 47484 | 2024-10-10 17:57:27,999 | root | Download completato con successo in 10.68 secondi.\n",
      "INFO | 47484 | 2024-10-10 17:57:27,999 | root | Download completato con successo in 10.68 secondi.\n",
      "INFO | 47484 | 2024-10-10 17:57:28,001 | root | Inizio estrazione del file ZIP.\n",
      "INFO | 47484 | 2024-10-10 17:57:28,001 | root | Inizio estrazione del file ZIP.\n",
      "INFO | 47484 | 2024-10-10 17:57:28,001 | root | Inizio estrazione del file ZIP.\n",
      "INFO | 47484 | 2024-10-10 17:57:28,001 | root | Inizio estrazione del file ZIP.\n",
      "INFO | 47484 | 2024-10-10 17:57:28,001 | root | Inizio estrazione del file ZIP.\n",
      "INFO | 47484 | 2024-10-10 17:57:28,001 | root | Inizio estrazione del file ZIP.\n",
      "INFO | 47484 | 2024-10-10 17:57:28,001 | root | Inizio estrazione del file ZIP.\n",
      "INFO | 47484 | 2024-10-10 17:57:28,001 | root | Inizio estrazione del file ZIP.\n",
      "INFO | 47484 | 2024-10-10 17:57:28,004 | root | Decompressione del file /home/max/Desktop/census_tutorial/preprocessing/census_1991/administrative_boundaries/Limiti1991.zip nella cartella /home/max/Desktop/census_tutorial/preprocessing/census_1991/administrative_boundaries.\n",
      "INFO | 47484 | 2024-10-10 17:57:28,004 | root | Decompressione del file /home/max/Desktop/census_tutorial/preprocessing/census_1991/administrative_boundaries/Limiti1991.zip nella cartella /home/max/Desktop/census_tutorial/preprocessing/census_1991/administrative_boundaries.\n",
      "INFO | 47484 | 2024-10-10 17:57:28,004 | root | Decompressione del file /home/max/Desktop/census_tutorial/preprocessing/census_1991/administrative_boundaries/Limiti1991.zip nella cartella /home/max/Desktop/census_tutorial/preprocessing/census_1991/administrative_boundaries.\n",
      "INFO | 47484 | 2024-10-10 17:57:28,004 | root | Decompressione del file /home/max/Desktop/census_tutorial/preprocessing/census_1991/administrative_boundaries/Limiti1991.zip nella cartella /home/max/Desktop/census_tutorial/preprocessing/census_1991/administrative_boundaries.\n",
      "INFO | 47484 | 2024-10-10 17:57:28,004 | root | Decompressione del file /home/max/Desktop/census_tutorial/preprocessing/census_1991/administrative_boundaries/Limiti1991.zip nella cartella /home/max/Desktop/census_tutorial/preprocessing/census_1991/administrative_boundaries.\n",
      "INFO | 47484 | 2024-10-10 17:57:28,004 | root | Decompressione del file /home/max/Desktop/census_tutorial/preprocessing/census_1991/administrative_boundaries/Limiti1991.zip nella cartella /home/max/Desktop/census_tutorial/preprocessing/census_1991/administrative_boundaries.\n",
      "INFO | 47484 | 2024-10-10 17:57:28,004 | root | Decompressione del file /home/max/Desktop/census_tutorial/preprocessing/census_1991/administrative_boundaries/Limiti1991.zip nella cartella /home/max/Desktop/census_tutorial/preprocessing/census_1991/administrative_boundaries.\n",
      "INFO | 47484 | 2024-10-10 17:57:28,004 | root | Decompressione del file /home/max/Desktop/census_tutorial/preprocessing/census_1991/administrative_boundaries/Limiti1991.zip nella cartella /home/max/Desktop/census_tutorial/preprocessing/census_1991/administrative_boundaries.\n"
     ]
    },
    {
     "name": "stderr",
     "output_type": "stream",
     "text": [
      "\n"
     ]
    },
    {
     "name": "stdout",
     "output_type": "stream",
     "text": [
      "INFO | 47484 | 2024-10-10 17:57:28,591 | root | Decompressione completata. File estratti in /home/max/Desktop/census_tutorial/preprocessing/census_1991/administrative_boundaries.\n",
      "INFO | 47484 | 2024-10-10 17:57:28,591 | root | Decompressione completata. File estratti in /home/max/Desktop/census_tutorial/preprocessing/census_1991/administrative_boundaries.\n",
      "INFO | 47484 | 2024-10-10 17:57:28,591 | root | Decompressione completata. File estratti in /home/max/Desktop/census_tutorial/preprocessing/census_1991/administrative_boundaries.\n",
      "INFO | 47484 | 2024-10-10 17:57:28,591 | root | Decompressione completata. File estratti in /home/max/Desktop/census_tutorial/preprocessing/census_1991/administrative_boundaries.\n",
      "INFO | 47484 | 2024-10-10 17:57:28,591 | root | Decompressione completata. File estratti in /home/max/Desktop/census_tutorial/preprocessing/census_1991/administrative_boundaries.\n",
      "INFO | 47484 | 2024-10-10 17:57:28,591 | root | Decompressione completata. File estratti in /home/max/Desktop/census_tutorial/preprocessing/census_1991/administrative_boundaries.\n",
      "INFO | 47484 | 2024-10-10 17:57:28,591 | root | Decompressione completata. File estratti in /home/max/Desktop/census_tutorial/preprocessing/census_1991/administrative_boundaries.\n",
      "INFO | 47484 | 2024-10-10 17:57:28,591 | root | Decompressione completata. File estratti in /home/max/Desktop/census_tutorial/preprocessing/census_1991/administrative_boundaries.\n",
      "INFO | 47484 | 2024-10-10 17:57:28,593 | root | Eliminazione del file ZIP | /home/max/Desktop/census_tutorial/preprocessing/census_1991/administrative_boundaries/Limiti1991.zip\n",
      "INFO | 47484 | 2024-10-10 17:57:28,593 | root | Eliminazione del file ZIP | /home/max/Desktop/census_tutorial/preprocessing/census_1991/administrative_boundaries/Limiti1991.zip\n",
      "INFO | 47484 | 2024-10-10 17:57:28,593 | root | Eliminazione del file ZIP | /home/max/Desktop/census_tutorial/preprocessing/census_1991/administrative_boundaries/Limiti1991.zip\n",
      "INFO | 47484 | 2024-10-10 17:57:28,593 | root | Eliminazione del file ZIP | /home/max/Desktop/census_tutorial/preprocessing/census_1991/administrative_boundaries/Limiti1991.zip\n",
      "INFO | 47484 | 2024-10-10 17:57:28,593 | root | Eliminazione del file ZIP | /home/max/Desktop/census_tutorial/preprocessing/census_1991/administrative_boundaries/Limiti1991.zip\n",
      "INFO | 47484 | 2024-10-10 17:57:28,593 | root | Eliminazione del file ZIP | /home/max/Desktop/census_tutorial/preprocessing/census_1991/administrative_boundaries/Limiti1991.zip\n",
      "INFO | 47484 | 2024-10-10 17:57:28,593 | root | Eliminazione del file ZIP | /home/max/Desktop/census_tutorial/preprocessing/census_1991/administrative_boundaries/Limiti1991.zip\n",
      "INFO | 47484 | 2024-10-10 17:57:28,593 | root | Eliminazione del file ZIP | /home/max/Desktop/census_tutorial/preprocessing/census_1991/administrative_boundaries/Limiti1991.zip\n",
      "INFO | 47484 | 2024-10-10 17:57:28,601 | root | File ZIP eliminato con successo.\n",
      "INFO | 47484 | 2024-10-10 17:57:28,601 | root | File ZIP eliminato con successo.\n",
      "INFO | 47484 | 2024-10-10 17:57:28,601 | root | File ZIP eliminato con successo.\n",
      "INFO | 47484 | 2024-10-10 17:57:28,601 | root | File ZIP eliminato con successo.\n",
      "INFO | 47484 | 2024-10-10 17:57:28,601 | root | File ZIP eliminato con successo.\n",
      "INFO | 47484 | 2024-10-10 17:57:28,601 | root | File ZIP eliminato con successo.\n",
      "INFO | 47484 | 2024-10-10 17:57:28,601 | root | File ZIP eliminato con successo.\n",
      "INFO | 47484 | 2024-10-10 17:57:28,601 | root | File ZIP eliminato con successo.\n",
      "INFO | 47484 | 2024-10-10 17:57:28,603 | root | Download dei confini amministrativi completato e salvato in /home/max/Desktop/census_tutorial/preprocessing/census_1991\n",
      "INFO | 47484 | 2024-10-10 17:57:28,603 | root | Download dei confini amministrativi completato e salvato in /home/max/Desktop/census_tutorial/preprocessing/census_1991\n",
      "INFO | 47484 | 2024-10-10 17:57:28,603 | root | Download dei confini amministrativi completato e salvato in /home/max/Desktop/census_tutorial/preprocessing/census_1991\n",
      "INFO | 47484 | 2024-10-10 17:57:28,603 | root | Download dei confini amministrativi completato e salvato in /home/max/Desktop/census_tutorial/preprocessing/census_1991\n",
      "INFO | 47484 | 2024-10-10 17:57:28,603 | root | Download dei confini amministrativi completato e salvato in /home/max/Desktop/census_tutorial/preprocessing/census_1991\n",
      "INFO | 47484 | 2024-10-10 17:57:28,603 | root | Download dei confini amministrativi completato e salvato in /home/max/Desktop/census_tutorial/preprocessing/census_1991\n",
      "INFO | 47484 | 2024-10-10 17:57:28,603 | root | Download dei confini amministrativi completato e salvato in /home/max/Desktop/census_tutorial/preprocessing/census_1991\n",
      "INFO | 47484 | 2024-10-10 17:57:28,603 | root | Download dei confini amministrativi completato e salvato in /home/max/Desktop/census_tutorial/preprocessing/census_1991\n",
      "INFO | 47484 | 2024-10-10 17:57:28,605 | root | Scarico i dati per il censimento del 2001\n",
      "INFO | 47484 | 2024-10-10 17:57:28,605 | root | Scarico i dati per il censimento del 2001\n",
      "INFO | 47484 | 2024-10-10 17:57:28,605 | root | Scarico i dati per il censimento del 2001\n",
      "INFO | 47484 | 2024-10-10 17:57:28,605 | root | Scarico i dati per il censimento del 2001\n",
      "INFO | 47484 | 2024-10-10 17:57:28,605 | root | Scarico i dati per il censimento del 2001\n",
      "INFO | 47484 | 2024-10-10 17:57:28,605 | root | Scarico i dati per il censimento del 2001\n",
      "INFO | 47484 | 2024-10-10 17:57:28,605 | root | Scarico i dati per il censimento del 2001\n",
      "INFO | 47484 | 2024-10-10 17:57:28,605 | root | Scarico i dati per il censimento del 2001\n",
      "INFO | 47484 | 2024-10-10 17:57:28,608 | root | Creazione della cartella di destinazione per i dati in /home/max/Desktop/census_tutorial/preprocessing\n",
      "INFO | 47484 | 2024-10-10 17:57:28,608 | root | Creazione della cartella di destinazione per i dati in /home/max/Desktop/census_tutorial/preprocessing\n",
      "INFO | 47484 | 2024-10-10 17:57:28,608 | root | Creazione della cartella di destinazione per i dati in /home/max/Desktop/census_tutorial/preprocessing\n",
      "INFO | 47484 | 2024-10-10 17:57:28,608 | root | Creazione della cartella di destinazione per i dati in /home/max/Desktop/census_tutorial/preprocessing\n",
      "INFO | 47484 | 2024-10-10 17:57:28,608 | root | Creazione della cartella di destinazione per i dati in /home/max/Desktop/census_tutorial/preprocessing\n",
      "INFO | 47484 | 2024-10-10 17:57:28,608 | root | Creazione della cartella di destinazione per i dati in /home/max/Desktop/census_tutorial/preprocessing\n",
      "INFO | 47484 | 2024-10-10 17:57:28,608 | root | Creazione della cartella di destinazione per i dati in /home/max/Desktop/census_tutorial/preprocessing\n",
      "INFO | 47484 | 2024-10-10 17:57:28,608 | root | Creazione della cartella di destinazione per i dati in /home/max/Desktop/census_tutorial/preprocessing\n",
      "INFO | 47484 | 2024-10-10 17:57:28,610 | root | Creazione della cartella per i dati del censimento 2001.\n",
      "INFO | 47484 | 2024-10-10 17:57:28,610 | root | Creazione della cartella per i dati del censimento 2001.\n",
      "INFO | 47484 | 2024-10-10 17:57:28,610 | root | Creazione della cartella per i dati del censimento 2001.\n",
      "INFO | 47484 | 2024-10-10 17:57:28,610 | root | Creazione della cartella per i dati del censimento 2001.\n",
      "INFO | 47484 | 2024-10-10 17:57:28,610 | root | Creazione della cartella per i dati del censimento 2001.\n",
      "INFO | 47484 | 2024-10-10 17:57:28,610 | root | Creazione della cartella per i dati del censimento 2001.\n",
      "INFO | 47484 | 2024-10-10 17:57:28,610 | root | Creazione della cartella per i dati del censimento 2001.\n",
      "INFO | 47484 | 2024-10-10 17:57:28,610 | root | Creazione della cartella per i dati del censimento 2001.\n",
      "INFO | 47484 | 2024-10-10 17:57:28,612 | root | Cartella creata o già esistente: /home/max/Desktop/census_tutorial/preprocessing/census_2001\n",
      "INFO | 47484 | 2024-10-10 17:57:28,612 | root | Cartella creata o già esistente: /home/max/Desktop/census_tutorial/preprocessing/census_2001\n",
      "INFO | 47484 | 2024-10-10 17:57:28,612 | root | Cartella creata o già esistente: /home/max/Desktop/census_tutorial/preprocessing/census_2001\n",
      "INFO | 47484 | 2024-10-10 17:57:28,612 | root | Cartella creata o già esistente: /home/max/Desktop/census_tutorial/preprocessing/census_2001\n",
      "INFO | 47484 | 2024-10-10 17:57:28,612 | root | Cartella creata o già esistente: /home/max/Desktop/census_tutorial/preprocessing/census_2001\n",
      "INFO | 47484 | 2024-10-10 17:57:28,612 | root | Cartella creata o già esistente: /home/max/Desktop/census_tutorial/preprocessing/census_2001\n",
      "INFO | 47484 | 2024-10-10 17:57:28,612 | root | Cartella creata o già esistente: /home/max/Desktop/census_tutorial/preprocessing/census_2001\n",
      "INFO | 47484 | 2024-10-10 17:57:28,612 | root | Cartella creata o già esistente: /home/max/Desktop/census_tutorial/preprocessing/census_2001\n",
      "INFO | 47484 | 2024-10-10 17:57:28,615 | root | Download dei dati da https://www.istat.it/storage/cartografia/variabili-censuarie/dati-cpa_2001.zip\n",
      "INFO | 47484 | 2024-10-10 17:57:28,615 | root | Download dei dati da https://www.istat.it/storage/cartografia/variabili-censuarie/dati-cpa_2001.zip\n",
      "INFO | 47484 | 2024-10-10 17:57:28,615 | root | Download dei dati da https://www.istat.it/storage/cartografia/variabili-censuarie/dati-cpa_2001.zip\n",
      "INFO | 47484 | 2024-10-10 17:57:28,615 | root | Download dei dati da https://www.istat.it/storage/cartografia/variabili-censuarie/dati-cpa_2001.zip\n",
      "INFO | 47484 | 2024-10-10 17:57:28,615 | root | Download dei dati da https://www.istat.it/storage/cartografia/variabili-censuarie/dati-cpa_2001.zip\n",
      "INFO | 47484 | 2024-10-10 17:57:28,615 | root | Download dei dati da https://www.istat.it/storage/cartografia/variabili-censuarie/dati-cpa_2001.zip\n",
      "INFO | 47484 | 2024-10-10 17:57:28,615 | root | Download dei dati da https://www.istat.it/storage/cartografia/variabili-censuarie/dati-cpa_2001.zip\n",
      "INFO | 47484 | 2024-10-10 17:57:28,615 | root | Download dei dati da https://www.istat.it/storage/cartografia/variabili-censuarie/dati-cpa_2001.zip\n",
      "INFO | 47484 | 2024-10-10 17:57:28,616 | root | Inizio download dei dati dal link: https://www.istat.it/storage/cartografia/variabili-censuarie/dati-cpa_2001.zip\n",
      "INFO | 47484 | 2024-10-10 17:57:28,616 | root | Inizio download dei dati dal link: https://www.istat.it/storage/cartografia/variabili-censuarie/dati-cpa_2001.zip\n",
      "INFO | 47484 | 2024-10-10 17:57:28,616 | root | Inizio download dei dati dal link: https://www.istat.it/storage/cartografia/variabili-censuarie/dati-cpa_2001.zip\n",
      "INFO | 47484 | 2024-10-10 17:57:28,616 | root | Inizio download dei dati dal link: https://www.istat.it/storage/cartografia/variabili-censuarie/dati-cpa_2001.zip\n",
      "INFO | 47484 | 2024-10-10 17:57:28,616 | root | Inizio download dei dati dal link: https://www.istat.it/storage/cartografia/variabili-censuarie/dati-cpa_2001.zip\n",
      "INFO | 47484 | 2024-10-10 17:57:28,616 | root | Inizio download dei dati dal link: https://www.istat.it/storage/cartografia/variabili-censuarie/dati-cpa_2001.zip\n",
      "INFO | 47484 | 2024-10-10 17:57:28,616 | root | Inizio download dei dati dal link: https://www.istat.it/storage/cartografia/variabili-censuarie/dati-cpa_2001.zip\n",
      "INFO | 47484 | 2024-10-10 17:57:28,616 | root | Inizio download dei dati dal link: https://www.istat.it/storage/cartografia/variabili-censuarie/dati-cpa_2001.zip\n"
     ]
    },
    {
     "name": "stderr",
     "output_type": "stream",
     "text": [
      "In download...: 100%|██████████| 70.8M/70.8M [00:09<00:00, 7.93MB/s]"
     ]
    },
    {
     "name": "stdout",
     "output_type": "stream",
     "text": [
      "INFO | 47484 | 2024-10-10 17:57:38,076 | root | Download completato con successo in 9.46 secondi.\n",
      "INFO | 47484 | 2024-10-10 17:57:38,076 | root | Download completato con successo in 9.46 secondi.\n",
      "INFO | 47484 | 2024-10-10 17:57:38,076 | root | Download completato con successo in 9.46 secondi.\n",
      "INFO | 47484 | 2024-10-10 17:57:38,076 | root | Download completato con successo in 9.46 secondi.\n",
      "INFO | 47484 | 2024-10-10 17:57:38,076 | root | Download completato con successo in 9.46 secondi.\n",
      "INFO | 47484 | 2024-10-10 17:57:38,076 | root | Download completato con successo in 9.46 secondi.\n",
      "INFO | 47484 | 2024-10-10 17:57:38,076 | root | Download completato con successo in 9.46 secondi.\n",
      "INFO | 47484 | 2024-10-10 17:57:38,076 | root | Download completato con successo in 9.46 secondi.\n",
      "INFO | 47484 | 2024-10-10 17:57:38,078 | root | Inizio estrazione del file ZIP.\n",
      "INFO | 47484 | 2024-10-10 17:57:38,078 | root | Inizio estrazione del file ZIP.\n",
      "INFO | 47484 | 2024-10-10 17:57:38,078 | root | Inizio estrazione del file ZIP.\n",
      "INFO | 47484 | 2024-10-10 17:57:38,078 | root | Inizio estrazione del file ZIP.\n",
      "INFO | 47484 | 2024-10-10 17:57:38,078 | root | Inizio estrazione del file ZIP.\n",
      "INFO | 47484 | 2024-10-10 17:57:38,078 | root | Inizio estrazione del file ZIP.\n",
      "INFO | 47484 | 2024-10-10 17:57:38,078 | root | Inizio estrazione del file ZIP.\n",
      "INFO | 47484 | 2024-10-10 17:57:38,078 | root | Inizio estrazione del file ZIP.\n",
      "INFO | 47484 | 2024-10-10 17:57:38,080 | root | Decompressione del file /home/max/Desktop/census_tutorial/preprocessing/census_2001/data/dati-cpa_2001.zip nella cartella /home/max/Desktop/census_tutorial/preprocessing/census_2001/data.\n",
      "INFO | 47484 | 2024-10-10 17:57:38,080 | root | Decompressione del file /home/max/Desktop/census_tutorial/preprocessing/census_2001/data/dati-cpa_2001.zip nella cartella /home/max/Desktop/census_tutorial/preprocessing/census_2001/data.\n",
      "INFO | 47484 | 2024-10-10 17:57:38,080 | root | Decompressione del file /home/max/Desktop/census_tutorial/preprocessing/census_2001/data/dati-cpa_2001.zip nella cartella /home/max/Desktop/census_tutorial/preprocessing/census_2001/data.\n",
      "INFO | 47484 | 2024-10-10 17:57:38,080 | root | Decompressione del file /home/max/Desktop/census_tutorial/preprocessing/census_2001/data/dati-cpa_2001.zip nella cartella /home/max/Desktop/census_tutorial/preprocessing/census_2001/data.\n",
      "INFO | 47484 | 2024-10-10 17:57:38,080 | root | Decompressione del file /home/max/Desktop/census_tutorial/preprocessing/census_2001/data/dati-cpa_2001.zip nella cartella /home/max/Desktop/census_tutorial/preprocessing/census_2001/data.\n",
      "INFO | 47484 | 2024-10-10 17:57:38,080 | root | Decompressione del file /home/max/Desktop/census_tutorial/preprocessing/census_2001/data/dati-cpa_2001.zip nella cartella /home/max/Desktop/census_tutorial/preprocessing/census_2001/data.\n",
      "INFO | 47484 | 2024-10-10 17:57:38,080 | root | Decompressione del file /home/max/Desktop/census_tutorial/preprocessing/census_2001/data/dati-cpa_2001.zip nella cartella /home/max/Desktop/census_tutorial/preprocessing/census_2001/data.\n",
      "INFO | 47484 | 2024-10-10 17:57:38,080 | root | Decompressione del file /home/max/Desktop/census_tutorial/preprocessing/census_2001/data/dati-cpa_2001.zip nella cartella /home/max/Desktop/census_tutorial/preprocessing/census_2001/data.\n"
     ]
    },
    {
     "name": "stderr",
     "output_type": "stream",
     "text": [
      "\n"
     ]
    },
    {
     "name": "stdout",
     "output_type": "stream",
     "text": [
      "INFO | 47484 | 2024-10-10 17:57:39,369 | root | Decompressione completata. File estratti in /home/max/Desktop/census_tutorial/preprocessing/census_2001/data.\n",
      "INFO | 47484 | 2024-10-10 17:57:39,369 | root | Decompressione completata. File estratti in /home/max/Desktop/census_tutorial/preprocessing/census_2001/data.\n",
      "INFO | 47484 | 2024-10-10 17:57:39,369 | root | Decompressione completata. File estratti in /home/max/Desktop/census_tutorial/preprocessing/census_2001/data.\n",
      "INFO | 47484 | 2024-10-10 17:57:39,369 | root | Decompressione completata. File estratti in /home/max/Desktop/census_tutorial/preprocessing/census_2001/data.\n",
      "INFO | 47484 | 2024-10-10 17:57:39,369 | root | Decompressione completata. File estratti in /home/max/Desktop/census_tutorial/preprocessing/census_2001/data.\n",
      "INFO | 47484 | 2024-10-10 17:57:39,369 | root | Decompressione completata. File estratti in /home/max/Desktop/census_tutorial/preprocessing/census_2001/data.\n",
      "INFO | 47484 | 2024-10-10 17:57:39,369 | root | Decompressione completata. File estratti in /home/max/Desktop/census_tutorial/preprocessing/census_2001/data.\n",
      "INFO | 47484 | 2024-10-10 17:57:39,369 | root | Decompressione completata. File estratti in /home/max/Desktop/census_tutorial/preprocessing/census_2001/data.\n",
      "INFO | 47484 | 2024-10-10 17:57:39,372 | root | Eliminazione del file ZIP | /home/max/Desktop/census_tutorial/preprocessing/census_2001/data/dati-cpa_2001.zip\n",
      "INFO | 47484 | 2024-10-10 17:57:39,372 | root | Eliminazione del file ZIP | /home/max/Desktop/census_tutorial/preprocessing/census_2001/data/dati-cpa_2001.zip\n",
      "INFO | 47484 | 2024-10-10 17:57:39,372 | root | Eliminazione del file ZIP | /home/max/Desktop/census_tutorial/preprocessing/census_2001/data/dati-cpa_2001.zip\n",
      "INFO | 47484 | 2024-10-10 17:57:39,372 | root | Eliminazione del file ZIP | /home/max/Desktop/census_tutorial/preprocessing/census_2001/data/dati-cpa_2001.zip\n",
      "INFO | 47484 | 2024-10-10 17:57:39,372 | root | Eliminazione del file ZIP | /home/max/Desktop/census_tutorial/preprocessing/census_2001/data/dati-cpa_2001.zip\n",
      "INFO | 47484 | 2024-10-10 17:57:39,372 | root | Eliminazione del file ZIP | /home/max/Desktop/census_tutorial/preprocessing/census_2001/data/dati-cpa_2001.zip\n",
      "INFO | 47484 | 2024-10-10 17:57:39,372 | root | Eliminazione del file ZIP | /home/max/Desktop/census_tutorial/preprocessing/census_2001/data/dati-cpa_2001.zip\n",
      "INFO | 47484 | 2024-10-10 17:57:39,372 | root | Eliminazione del file ZIP | /home/max/Desktop/census_tutorial/preprocessing/census_2001/data/dati-cpa_2001.zip\n",
      "INFO | 47484 | 2024-10-10 17:57:39,381 | root | File ZIP eliminato con successo.\n",
      "INFO | 47484 | 2024-10-10 17:57:39,381 | root | File ZIP eliminato con successo.\n",
      "INFO | 47484 | 2024-10-10 17:57:39,381 | root | File ZIP eliminato con successo.\n",
      "INFO | 47484 | 2024-10-10 17:57:39,381 | root | File ZIP eliminato con successo.\n",
      "INFO | 47484 | 2024-10-10 17:57:39,381 | root | File ZIP eliminato con successo.\n",
      "INFO | 47484 | 2024-10-10 17:57:39,381 | root | File ZIP eliminato con successo.\n",
      "INFO | 47484 | 2024-10-10 17:57:39,381 | root | File ZIP eliminato con successo.\n",
      "INFO | 47484 | 2024-10-10 17:57:39,381 | root | File ZIP eliminato con successo.\n",
      "INFO | 47484 | 2024-10-10 17:57:39,383 | root | Download dei dati censuari completato e salvato in /home/max/Desktop/census_tutorial/preprocessing/census_2001\n",
      "INFO | 47484 | 2024-10-10 17:57:39,383 | root | Download dei dati censuari completato e salvato in /home/max/Desktop/census_tutorial/preprocessing/census_2001\n",
      "INFO | 47484 | 2024-10-10 17:57:39,383 | root | Download dei dati censuari completato e salvato in /home/max/Desktop/census_tutorial/preprocessing/census_2001\n",
      "INFO | 47484 | 2024-10-10 17:57:39,383 | root | Download dei dati censuari completato e salvato in /home/max/Desktop/census_tutorial/preprocessing/census_2001\n",
      "INFO | 47484 | 2024-10-10 17:57:39,383 | root | Download dei dati censuari completato e salvato in /home/max/Desktop/census_tutorial/preprocessing/census_2001\n",
      "INFO | 47484 | 2024-10-10 17:57:39,383 | root | Download dei dati censuari completato e salvato in /home/max/Desktop/census_tutorial/preprocessing/census_2001\n",
      "INFO | 47484 | 2024-10-10 17:57:39,383 | root | Download dei dati censuari completato e salvato in /home/max/Desktop/census_tutorial/preprocessing/census_2001\n",
      "INFO | 47484 | 2024-10-10 17:57:39,383 | root | Download dei dati censuari completato e salvato in /home/max/Desktop/census_tutorial/preprocessing/census_2001\n",
      "INFO | 47484 | 2024-10-10 17:57:39,386 | root | Estrazione dei dati censuari in formato xls e conversione in csv.\n",
      "INFO | 47484 | 2024-10-10 17:57:39,386 | root | Estrazione dei dati censuari in formato xls e conversione in csv.\n",
      "INFO | 47484 | 2024-10-10 17:57:39,386 | root | Estrazione dei dati censuari in formato xls e conversione in csv.\n",
      "INFO | 47484 | 2024-10-10 17:57:39,386 | root | Estrazione dei dati censuari in formato xls e conversione in csv.\n",
      "INFO | 47484 | 2024-10-10 17:57:39,386 | root | Estrazione dei dati censuari in formato xls e conversione in csv.\n",
      "INFO | 47484 | 2024-10-10 17:57:39,386 | root | Estrazione dei dati censuari in formato xls e conversione in csv.\n",
      "INFO | 47484 | 2024-10-10 17:57:39,386 | root | Estrazione dei dati censuari in formato xls e conversione in csv.\n",
      "INFO | 47484 | 2024-10-10 17:57:39,386 | root | Estrazione dei dati censuari in formato xls e conversione in csv.\n",
      "INFO | 47484 | 2024-10-10 17:57:39,388 | root | Lettura del file Excel da /home/max/Desktop/census_tutorial/preprocessing/census_2001/data/dati-cpa_2001\\R20_DatiCPA_2001.xls\n",
      "INFO | 47484 | 2024-10-10 17:57:39,388 | root | Lettura del file Excel da /home/max/Desktop/census_tutorial/preprocessing/census_2001/data/dati-cpa_2001\\R20_DatiCPA_2001.xls\n",
      "INFO | 47484 | 2024-10-10 17:57:39,388 | root | Lettura del file Excel da /home/max/Desktop/census_tutorial/preprocessing/census_2001/data/dati-cpa_2001\\R20_DatiCPA_2001.xls\n",
      "INFO | 47484 | 2024-10-10 17:57:39,388 | root | Lettura del file Excel da /home/max/Desktop/census_tutorial/preprocessing/census_2001/data/dati-cpa_2001\\R20_DatiCPA_2001.xls\n",
      "INFO | 47484 | 2024-10-10 17:57:39,388 | root | Lettura del file Excel da /home/max/Desktop/census_tutorial/preprocessing/census_2001/data/dati-cpa_2001\\R20_DatiCPA_2001.xls\n",
      "INFO | 47484 | 2024-10-10 17:57:39,388 | root | Lettura del file Excel da /home/max/Desktop/census_tutorial/preprocessing/census_2001/data/dati-cpa_2001\\R20_DatiCPA_2001.xls\n",
      "INFO | 47484 | 2024-10-10 17:57:39,388 | root | Lettura del file Excel da /home/max/Desktop/census_tutorial/preprocessing/census_2001/data/dati-cpa_2001\\R20_DatiCPA_2001.xls\n",
      "INFO | 47484 | 2024-10-10 17:57:39,388 | root | Lettura del file Excel da /home/max/Desktop/census_tutorial/preprocessing/census_2001/data/dati-cpa_2001\\R20_DatiCPA_2001.xls\n"
     ]
    },
    {
     "name": "stderr",
     "output_type": "stream",
     "text": [
      "Lettura righe...: 100%|██████████| 10296/10296 [00:00<00:00, 377095.10it/s]"
     ]
    },
    {
     "name": "stdout",
     "output_type": "stream",
     "text": [
      "INFO | 47484 | 2024-10-10 17:57:41,073 | root | Salvataggio dei dati in /home/max/Desktop/census_tutorial/preprocessing/census_2001/data/Sezioni di Censimento/R20_DatiCPA_2001.csv\n",
      "INFO | 47484 | 2024-10-10 17:57:41,073 | root | Salvataggio dei dati in /home/max/Desktop/census_tutorial/preprocessing/census_2001/data/Sezioni di Censimento/R20_DatiCPA_2001.csv\n",
      "INFO | 47484 | 2024-10-10 17:57:41,073 | root | Salvataggio dei dati in /home/max/Desktop/census_tutorial/preprocessing/census_2001/data/Sezioni di Censimento/R20_DatiCPA_2001.csv\n",
      "INFO | 47484 | 2024-10-10 17:57:41,073 | root | Salvataggio dei dati in /home/max/Desktop/census_tutorial/preprocessing/census_2001/data/Sezioni di Censimento/R20_DatiCPA_2001.csv\n",
      "INFO | 47484 | 2024-10-10 17:57:41,073 | root | Salvataggio dei dati in /home/max/Desktop/census_tutorial/preprocessing/census_2001/data/Sezioni di Censimento/R20_DatiCPA_2001.csv\n",
      "INFO | 47484 | 2024-10-10 17:57:41,073 | root | Salvataggio dei dati in /home/max/Desktop/census_tutorial/preprocessing/census_2001/data/Sezioni di Censimento/R20_DatiCPA_2001.csv\n",
      "INFO | 47484 | 2024-10-10 17:57:41,073 | root | Salvataggio dei dati in /home/max/Desktop/census_tutorial/preprocessing/census_2001/data/Sezioni di Censimento/R20_DatiCPA_2001.csv\n",
      "INFO | 47484 | 2024-10-10 17:57:41,073 | root | Salvataggio dei dati in /home/max/Desktop/census_tutorial/preprocessing/census_2001/data/Sezioni di Censimento/R20_DatiCPA_2001.csv\n"
     ]
    },
    {
     "name": "stderr",
     "output_type": "stream",
     "text": [
      "\n"
     ]
    },
    {
     "name": "stdout",
     "output_type": "stream",
     "text": [
      "INFO | 47484 | 2024-10-10 17:57:41,287 | root | Lettura del file Excel da /home/max/Desktop/census_tutorial/preprocessing/census_2001/data/dati-cpa_2001\\R12_DatiCPA_2001.xls\n",
      "INFO | 47484 | 2024-10-10 17:57:41,287 | root | Lettura del file Excel da /home/max/Desktop/census_tutorial/preprocessing/census_2001/data/dati-cpa_2001\\R12_DatiCPA_2001.xls\n",
      "INFO | 47484 | 2024-10-10 17:57:41,287 | root | Lettura del file Excel da /home/max/Desktop/census_tutorial/preprocessing/census_2001/data/dati-cpa_2001\\R12_DatiCPA_2001.xls\n",
      "INFO | 47484 | 2024-10-10 17:57:41,287 | root | Lettura del file Excel da /home/max/Desktop/census_tutorial/preprocessing/census_2001/data/dati-cpa_2001\\R12_DatiCPA_2001.xls\n",
      "INFO | 47484 | 2024-10-10 17:57:41,287 | root | Lettura del file Excel da /home/max/Desktop/census_tutorial/preprocessing/census_2001/data/dati-cpa_2001\\R12_DatiCPA_2001.xls\n",
      "INFO | 47484 | 2024-10-10 17:57:41,287 | root | Lettura del file Excel da /home/max/Desktop/census_tutorial/preprocessing/census_2001/data/dati-cpa_2001\\R12_DatiCPA_2001.xls\n",
      "INFO | 47484 | 2024-10-10 17:57:41,287 | root | Lettura del file Excel da /home/max/Desktop/census_tutorial/preprocessing/census_2001/data/dati-cpa_2001\\R12_DatiCPA_2001.xls\n",
      "INFO | 47484 | 2024-10-10 17:57:41,287 | root | Lettura del file Excel da /home/max/Desktop/census_tutorial/preprocessing/census_2001/data/dati-cpa_2001\\R12_DatiCPA_2001.xls\n"
     ]
    },
    {
     "name": "stderr",
     "output_type": "stream",
     "text": [
      "Lettura righe...: 100%|██████████| 27876/27876 [00:00<00:00, 371881.92it/s]\n"
     ]
    },
    {
     "name": "stdout",
     "output_type": "stream",
     "text": [
      "INFO | 47484 | 2024-10-10 17:57:45,996 | root | Salvataggio dei dati in /home/max/Desktop/census_tutorial/preprocessing/census_2001/data/Sezioni di Censimento/R12_DatiCPA_2001.csv\n",
      "INFO | 47484 | 2024-10-10 17:57:45,996 | root | Salvataggio dei dati in /home/max/Desktop/census_tutorial/preprocessing/census_2001/data/Sezioni di Censimento/R12_DatiCPA_2001.csv\n",
      "INFO | 47484 | 2024-10-10 17:57:45,996 | root | Salvataggio dei dati in /home/max/Desktop/census_tutorial/preprocessing/census_2001/data/Sezioni di Censimento/R12_DatiCPA_2001.csv\n",
      "INFO | 47484 | 2024-10-10 17:57:45,996 | root | Salvataggio dei dati in /home/max/Desktop/census_tutorial/preprocessing/census_2001/data/Sezioni di Censimento/R12_DatiCPA_2001.csv\n",
      "INFO | 47484 | 2024-10-10 17:57:45,996 | root | Salvataggio dei dati in /home/max/Desktop/census_tutorial/preprocessing/census_2001/data/Sezioni di Censimento/R12_DatiCPA_2001.csv\n",
      "INFO | 47484 | 2024-10-10 17:57:45,996 | root | Salvataggio dei dati in /home/max/Desktop/census_tutorial/preprocessing/census_2001/data/Sezioni di Censimento/R12_DatiCPA_2001.csv\n",
      "INFO | 47484 | 2024-10-10 17:57:45,996 | root | Salvataggio dei dati in /home/max/Desktop/census_tutorial/preprocessing/census_2001/data/Sezioni di Censimento/R12_DatiCPA_2001.csv\n",
      "INFO | 47484 | 2024-10-10 17:57:45,996 | root | Salvataggio dei dati in /home/max/Desktop/census_tutorial/preprocessing/census_2001/data/Sezioni di Censimento/R12_DatiCPA_2001.csv\n",
      "INFO | 47484 | 2024-10-10 17:57:46,654 | root | Lettura del file Excel da /home/max/Desktop/census_tutorial/preprocessing/census_2001/data/dati-cpa_2001\\R18_DatiCPA_2001.xls\n",
      "INFO | 47484 | 2024-10-10 17:57:46,654 | root | Lettura del file Excel da /home/max/Desktop/census_tutorial/preprocessing/census_2001/data/dati-cpa_2001\\R18_DatiCPA_2001.xls\n",
      "INFO | 47484 | 2024-10-10 17:57:46,654 | root | Lettura del file Excel da /home/max/Desktop/census_tutorial/preprocessing/census_2001/data/dati-cpa_2001\\R18_DatiCPA_2001.xls\n",
      "INFO | 47484 | 2024-10-10 17:57:46,654 | root | Lettura del file Excel da /home/max/Desktop/census_tutorial/preprocessing/census_2001/data/dati-cpa_2001\\R18_DatiCPA_2001.xls\n",
      "INFO | 47484 | 2024-10-10 17:57:46,654 | root | Lettura del file Excel da /home/max/Desktop/census_tutorial/preprocessing/census_2001/data/dati-cpa_2001\\R18_DatiCPA_2001.xls\n",
      "INFO | 47484 | 2024-10-10 17:57:46,654 | root | Lettura del file Excel da /home/max/Desktop/census_tutorial/preprocessing/census_2001/data/dati-cpa_2001\\R18_DatiCPA_2001.xls\n",
      "INFO | 47484 | 2024-10-10 17:57:46,654 | root | Lettura del file Excel da /home/max/Desktop/census_tutorial/preprocessing/census_2001/data/dati-cpa_2001\\R18_DatiCPA_2001.xls\n",
      "INFO | 47484 | 2024-10-10 17:57:46,654 | root | Lettura del file Excel da /home/max/Desktop/census_tutorial/preprocessing/census_2001/data/dati-cpa_2001\\R18_DatiCPA_2001.xls\n"
     ]
    },
    {
     "name": "stderr",
     "output_type": "stream",
     "text": [
      "Lettura righe...: 100%|██████████| 11258/11258 [00:00<00:00, 415719.28it/s]"
     ]
    },
    {
     "name": "stdout",
     "output_type": "stream",
     "text": [
      "INFO | 47484 | 2024-10-10 17:57:48,508 | root | Salvataggio dei dati in /home/max/Desktop/census_tutorial/preprocessing/census_2001/data/Sezioni di Censimento/R18_DatiCPA_2001.csv\n",
      "INFO | 47484 | 2024-10-10 17:57:48,508 | root | Salvataggio dei dati in /home/max/Desktop/census_tutorial/preprocessing/census_2001/data/Sezioni di Censimento/R18_DatiCPA_2001.csv\n",
      "INFO | 47484 | 2024-10-10 17:57:48,508 | root | Salvataggio dei dati in /home/max/Desktop/census_tutorial/preprocessing/census_2001/data/Sezioni di Censimento/R18_DatiCPA_2001.csv\n",
      "INFO | 47484 | 2024-10-10 17:57:48,508 | root | Salvataggio dei dati in /home/max/Desktop/census_tutorial/preprocessing/census_2001/data/Sezioni di Censimento/R18_DatiCPA_2001.csv\n",
      "INFO | 47484 | 2024-10-10 17:57:48,508 | root | Salvataggio dei dati in /home/max/Desktop/census_tutorial/preprocessing/census_2001/data/Sezioni di Censimento/R18_DatiCPA_2001.csv\n",
      "INFO | 47484 | 2024-10-10 17:57:48,508 | root | Salvataggio dei dati in /home/max/Desktop/census_tutorial/preprocessing/census_2001/data/Sezioni di Censimento/R18_DatiCPA_2001.csv\n",
      "INFO | 47484 | 2024-10-10 17:57:48,508 | root | Salvataggio dei dati in /home/max/Desktop/census_tutorial/preprocessing/census_2001/data/Sezioni di Censimento/R18_DatiCPA_2001.csv\n",
      "INFO | 47484 | 2024-10-10 17:57:48,508 | root | Salvataggio dei dati in /home/max/Desktop/census_tutorial/preprocessing/census_2001/data/Sezioni di Censimento/R18_DatiCPA_2001.csv\n"
     ]
    },
    {
     "name": "stderr",
     "output_type": "stream",
     "text": [
      "\n"
     ]
    },
    {
     "name": "stdout",
     "output_type": "stream",
     "text": [
      "INFO | 47484 | 2024-10-10 17:57:48,854 | root | Lettura del file Excel da /home/max/Desktop/census_tutorial/preprocessing/census_2001/data/dati-cpa_2001\\R15_DatiCPA_2001.xls\n",
      "INFO | 47484 | 2024-10-10 17:57:48,854 | root | Lettura del file Excel da /home/max/Desktop/census_tutorial/preprocessing/census_2001/data/dati-cpa_2001\\R15_DatiCPA_2001.xls\n",
      "INFO | 47484 | 2024-10-10 17:57:48,854 | root | Lettura del file Excel da /home/max/Desktop/census_tutorial/preprocessing/census_2001/data/dati-cpa_2001\\R15_DatiCPA_2001.xls\n",
      "INFO | 47484 | 2024-10-10 17:57:48,854 | root | Lettura del file Excel da /home/max/Desktop/census_tutorial/preprocessing/census_2001/data/dati-cpa_2001\\R15_DatiCPA_2001.xls\n",
      "INFO | 47484 | 2024-10-10 17:57:48,854 | root | Lettura del file Excel da /home/max/Desktop/census_tutorial/preprocessing/census_2001/data/dati-cpa_2001\\R15_DatiCPA_2001.xls\n",
      "INFO | 47484 | 2024-10-10 17:57:48,854 | root | Lettura del file Excel da /home/max/Desktop/census_tutorial/preprocessing/census_2001/data/dati-cpa_2001\\R15_DatiCPA_2001.xls\n",
      "INFO | 47484 | 2024-10-10 17:57:48,854 | root | Lettura del file Excel da /home/max/Desktop/census_tutorial/preprocessing/census_2001/data/dati-cpa_2001\\R15_DatiCPA_2001.xls\n",
      "INFO | 47484 | 2024-10-10 17:57:48,854 | root | Lettura del file Excel da /home/max/Desktop/census_tutorial/preprocessing/census_2001/data/dati-cpa_2001\\R15_DatiCPA_2001.xls\n"
     ]
    },
    {
     "name": "stderr",
     "output_type": "stream",
     "text": [
      "Lettura righe...: 100%|██████████| 21632/21632 [00:00<00:00, 316585.49it/s]\n"
     ]
    },
    {
     "name": "stdout",
     "output_type": "stream",
     "text": [
      "INFO | 47484 | 2024-10-10 17:57:52,425 | root | Salvataggio dei dati in /home/max/Desktop/census_tutorial/preprocessing/census_2001/data/Sezioni di Censimento/R15_DatiCPA_2001.csv\n",
      "INFO | 47484 | 2024-10-10 17:57:52,425 | root | Salvataggio dei dati in /home/max/Desktop/census_tutorial/preprocessing/census_2001/data/Sezioni di Censimento/R15_DatiCPA_2001.csv\n",
      "INFO | 47484 | 2024-10-10 17:57:52,425 | root | Salvataggio dei dati in /home/max/Desktop/census_tutorial/preprocessing/census_2001/data/Sezioni di Censimento/R15_DatiCPA_2001.csv\n",
      "INFO | 47484 | 2024-10-10 17:57:52,425 | root | Salvataggio dei dati in /home/max/Desktop/census_tutorial/preprocessing/census_2001/data/Sezioni di Censimento/R15_DatiCPA_2001.csv\n",
      "INFO | 47484 | 2024-10-10 17:57:52,425 | root | Salvataggio dei dati in /home/max/Desktop/census_tutorial/preprocessing/census_2001/data/Sezioni di Censimento/R15_DatiCPA_2001.csv\n",
      "INFO | 47484 | 2024-10-10 17:57:52,425 | root | Salvataggio dei dati in /home/max/Desktop/census_tutorial/preprocessing/census_2001/data/Sezioni di Censimento/R15_DatiCPA_2001.csv\n",
      "INFO | 47484 | 2024-10-10 17:57:52,425 | root | Salvataggio dei dati in /home/max/Desktop/census_tutorial/preprocessing/census_2001/data/Sezioni di Censimento/R15_DatiCPA_2001.csv\n",
      "INFO | 47484 | 2024-10-10 17:57:52,425 | root | Salvataggio dei dati in /home/max/Desktop/census_tutorial/preprocessing/census_2001/data/Sezioni di Censimento/R15_DatiCPA_2001.csv\n",
      "INFO | 47484 | 2024-10-10 17:57:52,955 | root | Lettura del file Excel da /home/max/Desktop/census_tutorial/preprocessing/census_2001/data/dati-cpa_2001\\R04_DatiCPA_2001.xls\n",
      "INFO | 47484 | 2024-10-10 17:57:52,955 | root | Lettura del file Excel da /home/max/Desktop/census_tutorial/preprocessing/census_2001/data/dati-cpa_2001\\R04_DatiCPA_2001.xls\n",
      "INFO | 47484 | 2024-10-10 17:57:52,955 | root | Lettura del file Excel da /home/max/Desktop/census_tutorial/preprocessing/census_2001/data/dati-cpa_2001\\R04_DatiCPA_2001.xls\n",
      "INFO | 47484 | 2024-10-10 17:57:52,955 | root | Lettura del file Excel da /home/max/Desktop/census_tutorial/preprocessing/census_2001/data/dati-cpa_2001\\R04_DatiCPA_2001.xls\n",
      "INFO | 47484 | 2024-10-10 17:57:52,955 | root | Lettura del file Excel da /home/max/Desktop/census_tutorial/preprocessing/census_2001/data/dati-cpa_2001\\R04_DatiCPA_2001.xls\n",
      "INFO | 47484 | 2024-10-10 17:57:52,955 | root | Lettura del file Excel da /home/max/Desktop/census_tutorial/preprocessing/census_2001/data/dati-cpa_2001\\R04_DatiCPA_2001.xls\n",
      "INFO | 47484 | 2024-10-10 17:57:52,955 | root | Lettura del file Excel da /home/max/Desktop/census_tutorial/preprocessing/census_2001/data/dati-cpa_2001\\R04_DatiCPA_2001.xls\n",
      "INFO | 47484 | 2024-10-10 17:57:52,955 | root | Lettura del file Excel da /home/max/Desktop/census_tutorial/preprocessing/census_2001/data/dati-cpa_2001\\R04_DatiCPA_2001.xls\n"
     ]
    },
    {
     "name": "stderr",
     "output_type": "stream",
     "text": [
      "Lettura righe...: 100%|██████████| 9805/9805 [00:00<00:00, 345345.73it/s]"
     ]
    },
    {
     "name": "stdout",
     "output_type": "stream",
     "text": [
      "INFO | 47484 | 2024-10-10 17:57:54,585 | root | Salvataggio dei dati in /home/max/Desktop/census_tutorial/preprocessing/census_2001/data/Sezioni di Censimento/R04_DatiCPA_2001.csv\n",
      "INFO | 47484 | 2024-10-10 17:57:54,585 | root | Salvataggio dei dati in /home/max/Desktop/census_tutorial/preprocessing/census_2001/data/Sezioni di Censimento/R04_DatiCPA_2001.csv\n",
      "INFO | 47484 | 2024-10-10 17:57:54,585 | root | Salvataggio dei dati in /home/max/Desktop/census_tutorial/preprocessing/census_2001/data/Sezioni di Censimento/R04_DatiCPA_2001.csv\n",
      "INFO | 47484 | 2024-10-10 17:57:54,585 | root | Salvataggio dei dati in /home/max/Desktop/census_tutorial/preprocessing/census_2001/data/Sezioni di Censimento/R04_DatiCPA_2001.csv\n",
      "INFO | 47484 | 2024-10-10 17:57:54,585 | root | Salvataggio dei dati in /home/max/Desktop/census_tutorial/preprocessing/census_2001/data/Sezioni di Censimento/R04_DatiCPA_2001.csv\n",
      "INFO | 47484 | 2024-10-10 17:57:54,585 | root | Salvataggio dei dati in /home/max/Desktop/census_tutorial/preprocessing/census_2001/data/Sezioni di Censimento/R04_DatiCPA_2001.csv\n",
      "INFO | 47484 | 2024-10-10 17:57:54,585 | root | Salvataggio dei dati in /home/max/Desktop/census_tutorial/preprocessing/census_2001/data/Sezioni di Censimento/R04_DatiCPA_2001.csv\n",
      "INFO | 47484 | 2024-10-10 17:57:54,585 | root | Salvataggio dei dati in /home/max/Desktop/census_tutorial/preprocessing/census_2001/data/Sezioni di Censimento/R04_DatiCPA_2001.csv\n"
     ]
    },
    {
     "name": "stderr",
     "output_type": "stream",
     "text": [
      "\n"
     ]
    },
    {
     "name": "stdout",
     "output_type": "stream",
     "text": [
      "INFO | 47484 | 2024-10-10 17:57:54,884 | root | Lettura del file Excel da /home/max/Desktop/census_tutorial/preprocessing/census_2001/data/dati-cpa_2001\\R19_DatiCPA_2001.xls\n",
      "INFO | 47484 | 2024-10-10 17:57:54,884 | root | Lettura del file Excel da /home/max/Desktop/census_tutorial/preprocessing/census_2001/data/dati-cpa_2001\\R19_DatiCPA_2001.xls\n",
      "INFO | 47484 | 2024-10-10 17:57:54,884 | root | Lettura del file Excel da /home/max/Desktop/census_tutorial/preprocessing/census_2001/data/dati-cpa_2001\\R19_DatiCPA_2001.xls\n",
      "INFO | 47484 | 2024-10-10 17:57:54,884 | root | Lettura del file Excel da /home/max/Desktop/census_tutorial/preprocessing/census_2001/data/dati-cpa_2001\\R19_DatiCPA_2001.xls\n",
      "INFO | 47484 | 2024-10-10 17:57:54,884 | root | Lettura del file Excel da /home/max/Desktop/census_tutorial/preprocessing/census_2001/data/dati-cpa_2001\\R19_DatiCPA_2001.xls\n",
      "INFO | 47484 | 2024-10-10 17:57:54,884 | root | Lettura del file Excel da /home/max/Desktop/census_tutorial/preprocessing/census_2001/data/dati-cpa_2001\\R19_DatiCPA_2001.xls\n",
      "INFO | 47484 | 2024-10-10 17:57:54,884 | root | Lettura del file Excel da /home/max/Desktop/census_tutorial/preprocessing/census_2001/data/dati-cpa_2001\\R19_DatiCPA_2001.xls\n",
      "INFO | 47484 | 2024-10-10 17:57:54,884 | root | Lettura del file Excel da /home/max/Desktop/census_tutorial/preprocessing/census_2001/data/dati-cpa_2001\\R19_DatiCPA_2001.xls\n"
     ]
    },
    {
     "name": "stderr",
     "output_type": "stream",
     "text": [
      "Lettura righe...: 100%|██████████| 33129/33129 [00:00<00:00, 180835.97it/s]\n"
     ]
    },
    {
     "name": "stdout",
     "output_type": "stream",
     "text": [
      "INFO | 47484 | 2024-10-10 17:58:00,501 | root | Salvataggio dei dati in /home/max/Desktop/census_tutorial/preprocessing/census_2001/data/Sezioni di Censimento/R19_DatiCPA_2001.csv\n",
      "INFO | 47484 | 2024-10-10 17:58:00,501 | root | Salvataggio dei dati in /home/max/Desktop/census_tutorial/preprocessing/census_2001/data/Sezioni di Censimento/R19_DatiCPA_2001.csv\n",
      "INFO | 47484 | 2024-10-10 17:58:00,501 | root | Salvataggio dei dati in /home/max/Desktop/census_tutorial/preprocessing/census_2001/data/Sezioni di Censimento/R19_DatiCPA_2001.csv\n",
      "INFO | 47484 | 2024-10-10 17:58:00,501 | root | Salvataggio dei dati in /home/max/Desktop/census_tutorial/preprocessing/census_2001/data/Sezioni di Censimento/R19_DatiCPA_2001.csv\n",
      "INFO | 47484 | 2024-10-10 17:58:00,501 | root | Salvataggio dei dati in /home/max/Desktop/census_tutorial/preprocessing/census_2001/data/Sezioni di Censimento/R19_DatiCPA_2001.csv\n",
      "INFO | 47484 | 2024-10-10 17:58:00,501 | root | Salvataggio dei dati in /home/max/Desktop/census_tutorial/preprocessing/census_2001/data/Sezioni di Censimento/R19_DatiCPA_2001.csv\n",
      "INFO | 47484 | 2024-10-10 17:58:00,501 | root | Salvataggio dei dati in /home/max/Desktop/census_tutorial/preprocessing/census_2001/data/Sezioni di Censimento/R19_DatiCPA_2001.csv\n",
      "INFO | 47484 | 2024-10-10 17:58:00,501 | root | Salvataggio dei dati in /home/max/Desktop/census_tutorial/preprocessing/census_2001/data/Sezioni di Censimento/R19_DatiCPA_2001.csv\n",
      "INFO | 47484 | 2024-10-10 17:58:01,135 | root | Lettura del file Excel da /home/max/Desktop/census_tutorial/preprocessing/census_2001/data/dati-cpa_2001\\R08_DatiCPA_2001.xls\n",
      "INFO | 47484 | 2024-10-10 17:58:01,135 | root | Lettura del file Excel da /home/max/Desktop/census_tutorial/preprocessing/census_2001/data/dati-cpa_2001\\R08_DatiCPA_2001.xls\n",
      "INFO | 47484 | 2024-10-10 17:58:01,135 | root | Lettura del file Excel da /home/max/Desktop/census_tutorial/preprocessing/census_2001/data/dati-cpa_2001\\R08_DatiCPA_2001.xls\n",
      "INFO | 47484 | 2024-10-10 17:58:01,135 | root | Lettura del file Excel da /home/max/Desktop/census_tutorial/preprocessing/census_2001/data/dati-cpa_2001\\R08_DatiCPA_2001.xls\n",
      "INFO | 47484 | 2024-10-10 17:58:01,135 | root | Lettura del file Excel da /home/max/Desktop/census_tutorial/preprocessing/census_2001/data/dati-cpa_2001\\R08_DatiCPA_2001.xls\n",
      "INFO | 47484 | 2024-10-10 17:58:01,135 | root | Lettura del file Excel da /home/max/Desktop/census_tutorial/preprocessing/census_2001/data/dati-cpa_2001\\R08_DatiCPA_2001.xls\n",
      "INFO | 47484 | 2024-10-10 17:58:01,135 | root | Lettura del file Excel da /home/max/Desktop/census_tutorial/preprocessing/census_2001/data/dati-cpa_2001\\R08_DatiCPA_2001.xls\n",
      "INFO | 47484 | 2024-10-10 17:58:01,135 | root | Lettura del file Excel da /home/max/Desktop/census_tutorial/preprocessing/census_2001/data/dati-cpa_2001\\R08_DatiCPA_2001.xls\n"
     ]
    },
    {
     "name": "stderr",
     "output_type": "stream",
     "text": [
      "Lettura righe...: 100%|██████████| 34921/34921 [00:00<00:00, 167602.64it/s]\n"
     ]
    },
    {
     "name": "stdout",
     "output_type": "stream",
     "text": [
      "INFO | 47484 | 2024-10-10 17:58:07,116 | root | Salvataggio dei dati in /home/max/Desktop/census_tutorial/preprocessing/census_2001/data/Sezioni di Censimento/R08_DatiCPA_2001.csv\n",
      "INFO | 47484 | 2024-10-10 17:58:07,116 | root | Salvataggio dei dati in /home/max/Desktop/census_tutorial/preprocessing/census_2001/data/Sezioni di Censimento/R08_DatiCPA_2001.csv\n",
      "INFO | 47484 | 2024-10-10 17:58:07,116 | root | Salvataggio dei dati in /home/max/Desktop/census_tutorial/preprocessing/census_2001/data/Sezioni di Censimento/R08_DatiCPA_2001.csv\n",
      "INFO | 47484 | 2024-10-10 17:58:07,116 | root | Salvataggio dei dati in /home/max/Desktop/census_tutorial/preprocessing/census_2001/data/Sezioni di Censimento/R08_DatiCPA_2001.csv\n",
      "INFO | 47484 | 2024-10-10 17:58:07,116 | root | Salvataggio dei dati in /home/max/Desktop/census_tutorial/preprocessing/census_2001/data/Sezioni di Censimento/R08_DatiCPA_2001.csv\n",
      "INFO | 47484 | 2024-10-10 17:58:07,116 | root | Salvataggio dei dati in /home/max/Desktop/census_tutorial/preprocessing/census_2001/data/Sezioni di Censimento/R08_DatiCPA_2001.csv\n",
      "INFO | 47484 | 2024-10-10 17:58:07,116 | root | Salvataggio dei dati in /home/max/Desktop/census_tutorial/preprocessing/census_2001/data/Sezioni di Censimento/R08_DatiCPA_2001.csv\n",
      "INFO | 47484 | 2024-10-10 17:58:07,116 | root | Salvataggio dei dati in /home/max/Desktop/census_tutorial/preprocessing/census_2001/data/Sezioni di Censimento/R08_DatiCPA_2001.csv\n",
      "INFO | 47484 | 2024-10-10 17:58:07,780 | root | Lettura del file Excel da /home/max/Desktop/census_tutorial/preprocessing/census_2001/data/dati-cpa_2001\\R07_DatiCPA_2001.xls\n",
      "INFO | 47484 | 2024-10-10 17:58:07,780 | root | Lettura del file Excel da /home/max/Desktop/census_tutorial/preprocessing/census_2001/data/dati-cpa_2001\\R07_DatiCPA_2001.xls\n",
      "INFO | 47484 | 2024-10-10 17:58:07,780 | root | Lettura del file Excel da /home/max/Desktop/census_tutorial/preprocessing/census_2001/data/dati-cpa_2001\\R07_DatiCPA_2001.xls\n",
      "INFO | 47484 | 2024-10-10 17:58:07,780 | root | Lettura del file Excel da /home/max/Desktop/census_tutorial/preprocessing/census_2001/data/dati-cpa_2001\\R07_DatiCPA_2001.xls\n",
      "INFO | 47484 | 2024-10-10 17:58:07,780 | root | Lettura del file Excel da /home/max/Desktop/census_tutorial/preprocessing/census_2001/data/dati-cpa_2001\\R07_DatiCPA_2001.xls\n",
      "INFO | 47484 | 2024-10-10 17:58:07,780 | root | Lettura del file Excel da /home/max/Desktop/census_tutorial/preprocessing/census_2001/data/dati-cpa_2001\\R07_DatiCPA_2001.xls\n",
      "INFO | 47484 | 2024-10-10 17:58:07,780 | root | Lettura del file Excel da /home/max/Desktop/census_tutorial/preprocessing/census_2001/data/dati-cpa_2001\\R07_DatiCPA_2001.xls\n",
      "INFO | 47484 | 2024-10-10 17:58:07,780 | root | Lettura del file Excel da /home/max/Desktop/census_tutorial/preprocessing/census_2001/data/dati-cpa_2001\\R07_DatiCPA_2001.xls\n"
     ]
    },
    {
     "name": "stderr",
     "output_type": "stream",
     "text": [
      "Lettura righe...: 100%|██████████| 10192/10192 [00:00<00:00, 407177.52it/s]"
     ]
    },
    {
     "name": "stdout",
     "output_type": "stream",
     "text": [
      "INFO | 47484 | 2024-10-10 17:58:09,478 | root | Salvataggio dei dati in /home/max/Desktop/census_tutorial/preprocessing/census_2001/data/Sezioni di Censimento/R07_DatiCPA_2001.csv\n",
      "INFO | 47484 | 2024-10-10 17:58:09,478 | root | Salvataggio dei dati in /home/max/Desktop/census_tutorial/preprocessing/census_2001/data/Sezioni di Censimento/R07_DatiCPA_2001.csv\n",
      "INFO | 47484 | 2024-10-10 17:58:09,478 | root | Salvataggio dei dati in /home/max/Desktop/census_tutorial/preprocessing/census_2001/data/Sezioni di Censimento/R07_DatiCPA_2001.csv\n",
      "INFO | 47484 | 2024-10-10 17:58:09,478 | root | Salvataggio dei dati in /home/max/Desktop/census_tutorial/preprocessing/census_2001/data/Sezioni di Censimento/R07_DatiCPA_2001.csv\n",
      "INFO | 47484 | 2024-10-10 17:58:09,478 | root | Salvataggio dei dati in /home/max/Desktop/census_tutorial/preprocessing/census_2001/data/Sezioni di Censimento/R07_DatiCPA_2001.csv\n",
      "INFO | 47484 | 2024-10-10 17:58:09,478 | root | Salvataggio dei dati in /home/max/Desktop/census_tutorial/preprocessing/census_2001/data/Sezioni di Censimento/R07_DatiCPA_2001.csv\n",
      "INFO | 47484 | 2024-10-10 17:58:09,478 | root | Salvataggio dei dati in /home/max/Desktop/census_tutorial/preprocessing/census_2001/data/Sezioni di Censimento/R07_DatiCPA_2001.csv\n",
      "INFO | 47484 | 2024-10-10 17:58:09,478 | root | Salvataggio dei dati in /home/max/Desktop/census_tutorial/preprocessing/census_2001/data/Sezioni di Censimento/R07_DatiCPA_2001.csv\n"
     ]
    },
    {
     "name": "stderr",
     "output_type": "stream",
     "text": [
      "\n"
     ]
    },
    {
     "name": "stdout",
     "output_type": "stream",
     "text": [
      "INFO | 47484 | 2024-10-10 17:58:09,685 | root | Lettura del file Excel da /home/max/Desktop/census_tutorial/preprocessing/census_2001/data/dati-cpa_2001\\R02_DatiCPA_2001.xls\n",
      "INFO | 47484 | 2024-10-10 17:58:09,685 | root | Lettura del file Excel da /home/max/Desktop/census_tutorial/preprocessing/census_2001/data/dati-cpa_2001\\R02_DatiCPA_2001.xls\n",
      "INFO | 47484 | 2024-10-10 17:58:09,685 | root | Lettura del file Excel da /home/max/Desktop/census_tutorial/preprocessing/census_2001/data/dati-cpa_2001\\R02_DatiCPA_2001.xls\n",
      "INFO | 47484 | 2024-10-10 17:58:09,685 | root | Lettura del file Excel da /home/max/Desktop/census_tutorial/preprocessing/census_2001/data/dati-cpa_2001\\R02_DatiCPA_2001.xls\n",
      "INFO | 47484 | 2024-10-10 17:58:09,685 | root | Lettura del file Excel da /home/max/Desktop/census_tutorial/preprocessing/census_2001/data/dati-cpa_2001\\R02_DatiCPA_2001.xls\n",
      "INFO | 47484 | 2024-10-10 17:58:09,685 | root | Lettura del file Excel da /home/max/Desktop/census_tutorial/preprocessing/census_2001/data/dati-cpa_2001\\R02_DatiCPA_2001.xls\n",
      "INFO | 47484 | 2024-10-10 17:58:09,685 | root | Lettura del file Excel da /home/max/Desktop/census_tutorial/preprocessing/census_2001/data/dati-cpa_2001\\R02_DatiCPA_2001.xls\n",
      "INFO | 47484 | 2024-10-10 17:58:09,685 | root | Lettura del file Excel da /home/max/Desktop/census_tutorial/preprocessing/census_2001/data/dati-cpa_2001\\R02_DatiCPA_2001.xls\n"
     ]
    },
    {
     "name": "stderr",
     "output_type": "stream",
     "text": [
      "Lettura righe...: 100%|██████████| 1463/1463 [00:00<00:00, 773901.72it/s]"
     ]
    },
    {
     "name": "stdout",
     "output_type": "stream",
     "text": [
      "INFO | 47484 | 2024-10-10 17:58:09,932 | root | Salvataggio dei dati in /home/max/Desktop/census_tutorial/preprocessing/census_2001/data/Sezioni di Censimento/R02_DatiCPA_2001.csv\n",
      "INFO | 47484 | 2024-10-10 17:58:09,932 | root | Salvataggio dei dati in /home/max/Desktop/census_tutorial/preprocessing/census_2001/data/Sezioni di Censimento/R02_DatiCPA_2001.csv\n",
      "INFO | 47484 | 2024-10-10 17:58:09,932 | root | Salvataggio dei dati in /home/max/Desktop/census_tutorial/preprocessing/census_2001/data/Sezioni di Censimento/R02_DatiCPA_2001.csv\n",
      "INFO | 47484 | 2024-10-10 17:58:09,932 | root | Salvataggio dei dati in /home/max/Desktop/census_tutorial/preprocessing/census_2001/data/Sezioni di Censimento/R02_DatiCPA_2001.csv\n",
      "INFO | 47484 | 2024-10-10 17:58:09,932 | root | Salvataggio dei dati in /home/max/Desktop/census_tutorial/preprocessing/census_2001/data/Sezioni di Censimento/R02_DatiCPA_2001.csv\n",
      "INFO | 47484 | 2024-10-10 17:58:09,932 | root | Salvataggio dei dati in /home/max/Desktop/census_tutorial/preprocessing/census_2001/data/Sezioni di Censimento/R02_DatiCPA_2001.csv\n",
      "INFO | 47484 | 2024-10-10 17:58:09,932 | root | Salvataggio dei dati in /home/max/Desktop/census_tutorial/preprocessing/census_2001/data/Sezioni di Censimento/R02_DatiCPA_2001.csv\n",
      "INFO | 47484 | 2024-10-10 17:58:09,932 | root | Salvataggio dei dati in /home/max/Desktop/census_tutorial/preprocessing/census_2001/data/Sezioni di Censimento/R02_DatiCPA_2001.csv\n",
      "INFO | 47484 | 2024-10-10 17:58:10,099 | root | Lettura del file Excel da /home/max/Desktop/census_tutorial/preprocessing/census_2001/data/dati-cpa_2001\\R09_DatiCPA_2001.xls\n",
      "INFO | 47484 | 2024-10-10 17:58:10,099 | root | Lettura del file Excel da /home/max/Desktop/census_tutorial/preprocessing/census_2001/data/dati-cpa_2001\\R09_DatiCPA_2001.xls\n",
      "INFO | 47484 | 2024-10-10 17:58:10,099 | root | Lettura del file Excel da /home/max/Desktop/census_tutorial/preprocessing/census_2001/data/dati-cpa_2001\\R09_DatiCPA_2001.xls\n",
      "INFO | 47484 | 2024-10-10 17:58:10,099 | root | Lettura del file Excel da /home/max/Desktop/census_tutorial/preprocessing/census_2001/data/dati-cpa_2001\\R09_DatiCPA_2001.xls\n",
      "INFO | 47484 | 2024-10-10 17:58:10,099 | root | Lettura del file Excel da /home/max/Desktop/census_tutorial/preprocessing/census_2001/data/dati-cpa_2001\\R09_DatiCPA_2001.xls\n",
      "INFO | 47484 | 2024-10-10 17:58:10,099 | root | Lettura del file Excel da /home/max/Desktop/census_tutorial/preprocessing/census_2001/data/dati-cpa_2001\\R09_DatiCPA_2001.xls\n",
      "INFO | 47484 | 2024-10-10 17:58:10,099 | root | Lettura del file Excel da /home/max/Desktop/census_tutorial/preprocessing/census_2001/data/dati-cpa_2001\\R09_DatiCPA_2001.xls\n",
      "INFO | 47484 | 2024-10-10 17:58:10,099 | root | Lettura del file Excel da /home/max/Desktop/census_tutorial/preprocessing/census_2001/data/dati-cpa_2001\\R09_DatiCPA_2001.xls\n"
     ]
    },
    {
     "name": "stderr",
     "output_type": "stream",
     "text": [
      "\n",
      "Lettura righe...: 100%|██████████| 27081/27081 [00:00<00:00, 368814.28it/s]\n"
     ]
    },
    {
     "name": "stdout",
     "output_type": "stream",
     "text": [
      "INFO | 47484 | 2024-10-10 17:58:14,738 | root | Salvataggio dei dati in /home/max/Desktop/census_tutorial/preprocessing/census_2001/data/Sezioni di Censimento/R09_DatiCPA_2001.csv\n",
      "INFO | 47484 | 2024-10-10 17:58:14,738 | root | Salvataggio dei dati in /home/max/Desktop/census_tutorial/preprocessing/census_2001/data/Sezioni di Censimento/R09_DatiCPA_2001.csv\n",
      "INFO | 47484 | 2024-10-10 17:58:14,738 | root | Salvataggio dei dati in /home/max/Desktop/census_tutorial/preprocessing/census_2001/data/Sezioni di Censimento/R09_DatiCPA_2001.csv\n",
      "INFO | 47484 | 2024-10-10 17:58:14,738 | root | Salvataggio dei dati in /home/max/Desktop/census_tutorial/preprocessing/census_2001/data/Sezioni di Censimento/R09_DatiCPA_2001.csv\n",
      "INFO | 47484 | 2024-10-10 17:58:14,738 | root | Salvataggio dei dati in /home/max/Desktop/census_tutorial/preprocessing/census_2001/data/Sezioni di Censimento/R09_DatiCPA_2001.csv\n",
      "INFO | 47484 | 2024-10-10 17:58:14,738 | root | Salvataggio dei dati in /home/max/Desktop/census_tutorial/preprocessing/census_2001/data/Sezioni di Censimento/R09_DatiCPA_2001.csv\n",
      "INFO | 47484 | 2024-10-10 17:58:14,738 | root | Salvataggio dei dati in /home/max/Desktop/census_tutorial/preprocessing/census_2001/data/Sezioni di Censimento/R09_DatiCPA_2001.csv\n",
      "INFO | 47484 | 2024-10-10 17:58:14,738 | root | Salvataggio dei dati in /home/max/Desktop/census_tutorial/preprocessing/census_2001/data/Sezioni di Censimento/R09_DatiCPA_2001.csv\n",
      "INFO | 47484 | 2024-10-10 17:58:15,367 | root | Lettura del file Excel da /home/max/Desktop/census_tutorial/preprocessing/census_2001/data/dati-cpa_2001\\R14_DatiCPA_2001.xls\n",
      "INFO | 47484 | 2024-10-10 17:58:15,367 | root | Lettura del file Excel da /home/max/Desktop/census_tutorial/preprocessing/census_2001/data/dati-cpa_2001\\R14_DatiCPA_2001.xls\n",
      "INFO | 47484 | 2024-10-10 17:58:15,367 | root | Lettura del file Excel da /home/max/Desktop/census_tutorial/preprocessing/census_2001/data/dati-cpa_2001\\R14_DatiCPA_2001.xls\n",
      "INFO | 47484 | 2024-10-10 17:58:15,367 | root | Lettura del file Excel da /home/max/Desktop/census_tutorial/preprocessing/census_2001/data/dati-cpa_2001\\R14_DatiCPA_2001.xls\n",
      "INFO | 47484 | 2024-10-10 17:58:15,367 | root | Lettura del file Excel da /home/max/Desktop/census_tutorial/preprocessing/census_2001/data/dati-cpa_2001\\R14_DatiCPA_2001.xls\n",
      "INFO | 47484 | 2024-10-10 17:58:15,367 | root | Lettura del file Excel da /home/max/Desktop/census_tutorial/preprocessing/census_2001/data/dati-cpa_2001\\R14_DatiCPA_2001.xls\n",
      "INFO | 47484 | 2024-10-10 17:58:15,367 | root | Lettura del file Excel da /home/max/Desktop/census_tutorial/preprocessing/census_2001/data/dati-cpa_2001\\R14_DatiCPA_2001.xls\n",
      "INFO | 47484 | 2024-10-10 17:58:15,367 | root | Lettura del file Excel da /home/max/Desktop/census_tutorial/preprocessing/census_2001/data/dati-cpa_2001\\R14_DatiCPA_2001.xls\n"
     ]
    },
    {
     "name": "stderr",
     "output_type": "stream",
     "text": [
      "Lettura righe...: 100%|██████████| 2226/2226 [00:00<00:00, 585105.01it/s]"
     ]
    },
    {
     "name": "stdout",
     "output_type": "stream",
     "text": [
      "INFO | 47484 | 2024-10-10 17:58:15,742 | root | Salvataggio dei dati in /home/max/Desktop/census_tutorial/preprocessing/census_2001/data/Sezioni di Censimento/R14_DatiCPA_2001.csv\n",
      "INFO | 47484 | 2024-10-10 17:58:15,742 | root | Salvataggio dei dati in /home/max/Desktop/census_tutorial/preprocessing/census_2001/data/Sezioni di Censimento/R14_DatiCPA_2001.csv\n",
      "INFO | 47484 | 2024-10-10 17:58:15,742 | root | Salvataggio dei dati in /home/max/Desktop/census_tutorial/preprocessing/census_2001/data/Sezioni di Censimento/R14_DatiCPA_2001.csv\n",
      "INFO | 47484 | 2024-10-10 17:58:15,742 | root | Salvataggio dei dati in /home/max/Desktop/census_tutorial/preprocessing/census_2001/data/Sezioni di Censimento/R14_DatiCPA_2001.csv\n",
      "INFO | 47484 | 2024-10-10 17:58:15,742 | root | Salvataggio dei dati in /home/max/Desktop/census_tutorial/preprocessing/census_2001/data/Sezioni di Censimento/R14_DatiCPA_2001.csv\n",
      "INFO | 47484 | 2024-10-10 17:58:15,742 | root | Salvataggio dei dati in /home/max/Desktop/census_tutorial/preprocessing/census_2001/data/Sezioni di Censimento/R14_DatiCPA_2001.csv\n",
      "INFO | 47484 | 2024-10-10 17:58:15,742 | root | Salvataggio dei dati in /home/max/Desktop/census_tutorial/preprocessing/census_2001/data/Sezioni di Censimento/R14_DatiCPA_2001.csv\n",
      "INFO | 47484 | 2024-10-10 17:58:15,742 | root | Salvataggio dei dati in /home/max/Desktop/census_tutorial/preprocessing/census_2001/data/Sezioni di Censimento/R14_DatiCPA_2001.csv\n",
      "INFO | 47484 | 2024-10-10 17:58:15,791 | root | Lettura del file Excel da /home/max/Desktop/census_tutorial/preprocessing/census_2001/data/dati-cpa_2001\\R01_DatiCPA_2001.xls\n",
      "INFO | 47484 | 2024-10-10 17:58:15,791 | root | Lettura del file Excel da /home/max/Desktop/census_tutorial/preprocessing/census_2001/data/dati-cpa_2001\\R01_DatiCPA_2001.xls\n",
      "INFO | 47484 | 2024-10-10 17:58:15,791 | root | Lettura del file Excel da /home/max/Desktop/census_tutorial/preprocessing/census_2001/data/dati-cpa_2001\\R01_DatiCPA_2001.xls\n",
      "INFO | 47484 | 2024-10-10 17:58:15,791 | root | Lettura del file Excel da /home/max/Desktop/census_tutorial/preprocessing/census_2001/data/dati-cpa_2001\\R01_DatiCPA_2001.xls\n",
      "INFO | 47484 | 2024-10-10 17:58:15,791 | root | Lettura del file Excel da /home/max/Desktop/census_tutorial/preprocessing/census_2001/data/dati-cpa_2001\\R01_DatiCPA_2001.xls\n",
      "INFO | 47484 | 2024-10-10 17:58:15,791 | root | Lettura del file Excel da /home/max/Desktop/census_tutorial/preprocessing/census_2001/data/dati-cpa_2001\\R01_DatiCPA_2001.xls\n",
      "INFO | 47484 | 2024-10-10 17:58:15,791 | root | Lettura del file Excel da /home/max/Desktop/census_tutorial/preprocessing/census_2001/data/dati-cpa_2001\\R01_DatiCPA_2001.xls\n",
      "INFO | 47484 | 2024-10-10 17:58:15,791 | root | Lettura del file Excel da /home/max/Desktop/census_tutorial/preprocessing/census_2001/data/dati-cpa_2001\\R01_DatiCPA_2001.xls\n"
     ]
    },
    {
     "name": "stderr",
     "output_type": "stream",
     "text": [
      "\n",
      "Lettura righe...: 100%|██████████| 29805/29805 [00:00<00:00, 412258.58it/s]\n"
     ]
    },
    {
     "name": "stdout",
     "output_type": "stream",
     "text": [
      "INFO | 47484 | 2024-10-10 17:58:20,839 | root | Salvataggio dei dati in /home/max/Desktop/census_tutorial/preprocessing/census_2001/data/Sezioni di Censimento/R01_DatiCPA_2001.csv\n",
      "INFO | 47484 | 2024-10-10 17:58:20,839 | root | Salvataggio dei dati in /home/max/Desktop/census_tutorial/preprocessing/census_2001/data/Sezioni di Censimento/R01_DatiCPA_2001.csv\n",
      "INFO | 47484 | 2024-10-10 17:58:20,839 | root | Salvataggio dei dati in /home/max/Desktop/census_tutorial/preprocessing/census_2001/data/Sezioni di Censimento/R01_DatiCPA_2001.csv\n",
      "INFO | 47484 | 2024-10-10 17:58:20,839 | root | Salvataggio dei dati in /home/max/Desktop/census_tutorial/preprocessing/census_2001/data/Sezioni di Censimento/R01_DatiCPA_2001.csv\n",
      "INFO | 47484 | 2024-10-10 17:58:20,839 | root | Salvataggio dei dati in /home/max/Desktop/census_tutorial/preprocessing/census_2001/data/Sezioni di Censimento/R01_DatiCPA_2001.csv\n",
      "INFO | 47484 | 2024-10-10 17:58:20,839 | root | Salvataggio dei dati in /home/max/Desktop/census_tutorial/preprocessing/census_2001/data/Sezioni di Censimento/R01_DatiCPA_2001.csv\n",
      "INFO | 47484 | 2024-10-10 17:58:20,839 | root | Salvataggio dei dati in /home/max/Desktop/census_tutorial/preprocessing/census_2001/data/Sezioni di Censimento/R01_DatiCPA_2001.csv\n",
      "INFO | 47484 | 2024-10-10 17:58:20,839 | root | Salvataggio dei dati in /home/max/Desktop/census_tutorial/preprocessing/census_2001/data/Sezioni di Censimento/R01_DatiCPA_2001.csv\n",
      "INFO | 47484 | 2024-10-10 17:58:21,505 | root | Lettura del file Excel da /home/max/Desktop/census_tutorial/preprocessing/census_2001/data/dati-cpa_2001\\R16_DatiCPA_2001.xls\n",
      "INFO | 47484 | 2024-10-10 17:58:21,505 | root | Lettura del file Excel da /home/max/Desktop/census_tutorial/preprocessing/census_2001/data/dati-cpa_2001\\R16_DatiCPA_2001.xls\n",
      "INFO | 47484 | 2024-10-10 17:58:21,505 | root | Lettura del file Excel da /home/max/Desktop/census_tutorial/preprocessing/census_2001/data/dati-cpa_2001\\R16_DatiCPA_2001.xls\n",
      "INFO | 47484 | 2024-10-10 17:58:21,505 | root | Lettura del file Excel da /home/max/Desktop/census_tutorial/preprocessing/census_2001/data/dati-cpa_2001\\R16_DatiCPA_2001.xls\n",
      "INFO | 47484 | 2024-10-10 17:58:21,505 | root | Lettura del file Excel da /home/max/Desktop/census_tutorial/preprocessing/census_2001/data/dati-cpa_2001\\R16_DatiCPA_2001.xls\n",
      "INFO | 47484 | 2024-10-10 17:58:21,505 | root | Lettura del file Excel da /home/max/Desktop/census_tutorial/preprocessing/census_2001/data/dati-cpa_2001\\R16_DatiCPA_2001.xls\n",
      "INFO | 47484 | 2024-10-10 17:58:21,505 | root | Lettura del file Excel da /home/max/Desktop/census_tutorial/preprocessing/census_2001/data/dati-cpa_2001\\R16_DatiCPA_2001.xls\n",
      "INFO | 47484 | 2024-10-10 17:58:21,505 | root | Lettura del file Excel da /home/max/Desktop/census_tutorial/preprocessing/census_2001/data/dati-cpa_2001\\R16_DatiCPA_2001.xls\n"
     ]
    },
    {
     "name": "stderr",
     "output_type": "stream",
     "text": [
      "Lettura righe...: 100%|██████████| 20050/20050 [00:00<00:00, 362722.65it/s]\n"
     ]
    },
    {
     "name": "stdout",
     "output_type": "stream",
     "text": [
      "INFO | 47484 | 2024-10-10 17:58:24,807 | root | Salvataggio dei dati in /home/max/Desktop/census_tutorial/preprocessing/census_2001/data/Sezioni di Censimento/R16_DatiCPA_2001.csv\n",
      "INFO | 47484 | 2024-10-10 17:58:24,807 | root | Salvataggio dei dati in /home/max/Desktop/census_tutorial/preprocessing/census_2001/data/Sezioni di Censimento/R16_DatiCPA_2001.csv\n",
      "INFO | 47484 | 2024-10-10 17:58:24,807 | root | Salvataggio dei dati in /home/max/Desktop/census_tutorial/preprocessing/census_2001/data/Sezioni di Censimento/R16_DatiCPA_2001.csv\n",
      "INFO | 47484 | 2024-10-10 17:58:24,807 | root | Salvataggio dei dati in /home/max/Desktop/census_tutorial/preprocessing/census_2001/data/Sezioni di Censimento/R16_DatiCPA_2001.csv\n",
      "INFO | 47484 | 2024-10-10 17:58:24,807 | root | Salvataggio dei dati in /home/max/Desktop/census_tutorial/preprocessing/census_2001/data/Sezioni di Censimento/R16_DatiCPA_2001.csv\n",
      "INFO | 47484 | 2024-10-10 17:58:24,807 | root | Salvataggio dei dati in /home/max/Desktop/census_tutorial/preprocessing/census_2001/data/Sezioni di Censimento/R16_DatiCPA_2001.csv\n",
      "INFO | 47484 | 2024-10-10 17:58:24,807 | root | Salvataggio dei dati in /home/max/Desktop/census_tutorial/preprocessing/census_2001/data/Sezioni di Censimento/R16_DatiCPA_2001.csv\n",
      "INFO | 47484 | 2024-10-10 17:58:24,807 | root | Salvataggio dei dati in /home/max/Desktop/census_tutorial/preprocessing/census_2001/data/Sezioni di Censimento/R16_DatiCPA_2001.csv\n",
      "INFO | 47484 | 2024-10-10 17:58:25,332 | root | Lettura del file Excel da /home/max/Desktop/census_tutorial/preprocessing/census_2001/data/dati-cpa_2001\\R05_DatiCPA_2001.xls\n",
      "INFO | 47484 | 2024-10-10 17:58:25,332 | root | Lettura del file Excel da /home/max/Desktop/census_tutorial/preprocessing/census_2001/data/dati-cpa_2001\\R05_DatiCPA_2001.xls\n",
      "INFO | 47484 | 2024-10-10 17:58:25,332 | root | Lettura del file Excel da /home/max/Desktop/census_tutorial/preprocessing/census_2001/data/dati-cpa_2001\\R05_DatiCPA_2001.xls\n",
      "INFO | 47484 | 2024-10-10 17:58:25,332 | root | Lettura del file Excel da /home/max/Desktop/census_tutorial/preprocessing/census_2001/data/dati-cpa_2001\\R05_DatiCPA_2001.xls\n",
      "INFO | 47484 | 2024-10-10 17:58:25,332 | root | Lettura del file Excel da /home/max/Desktop/census_tutorial/preprocessing/census_2001/data/dati-cpa_2001\\R05_DatiCPA_2001.xls\n",
      "INFO | 47484 | 2024-10-10 17:58:25,332 | root | Lettura del file Excel da /home/max/Desktop/census_tutorial/preprocessing/census_2001/data/dati-cpa_2001\\R05_DatiCPA_2001.xls\n",
      "INFO | 47484 | 2024-10-10 17:58:25,332 | root | Lettura del file Excel da /home/max/Desktop/census_tutorial/preprocessing/census_2001/data/dati-cpa_2001\\R05_DatiCPA_2001.xls\n",
      "INFO | 47484 | 2024-10-10 17:58:25,332 | root | Lettura del file Excel da /home/max/Desktop/census_tutorial/preprocessing/census_2001/data/dati-cpa_2001\\R05_DatiCPA_2001.xls\n"
     ]
    },
    {
     "name": "stderr",
     "output_type": "stream",
     "text": [
      "Lettura righe...: 100%|██████████| 30645/30645 [00:00<00:00, 141337.66it/s]\n"
     ]
    },
    {
     "name": "stdout",
     "output_type": "stream",
     "text": [
      "INFO | 47484 | 2024-10-10 17:58:30,465 | root | Salvataggio dei dati in /home/max/Desktop/census_tutorial/preprocessing/census_2001/data/Sezioni di Censimento/R05_DatiCPA_2001.csv\n",
      "INFO | 47484 | 2024-10-10 17:58:30,465 | root | Salvataggio dei dati in /home/max/Desktop/census_tutorial/preprocessing/census_2001/data/Sezioni di Censimento/R05_DatiCPA_2001.csv\n",
      "INFO | 47484 | 2024-10-10 17:58:30,465 | root | Salvataggio dei dati in /home/max/Desktop/census_tutorial/preprocessing/census_2001/data/Sezioni di Censimento/R05_DatiCPA_2001.csv\n",
      "INFO | 47484 | 2024-10-10 17:58:30,465 | root | Salvataggio dei dati in /home/max/Desktop/census_tutorial/preprocessing/census_2001/data/Sezioni di Censimento/R05_DatiCPA_2001.csv\n",
      "INFO | 47484 | 2024-10-10 17:58:30,465 | root | Salvataggio dei dati in /home/max/Desktop/census_tutorial/preprocessing/census_2001/data/Sezioni di Censimento/R05_DatiCPA_2001.csv\n",
      "INFO | 47484 | 2024-10-10 17:58:30,465 | root | Salvataggio dei dati in /home/max/Desktop/census_tutorial/preprocessing/census_2001/data/Sezioni di Censimento/R05_DatiCPA_2001.csv\n",
      "INFO | 47484 | 2024-10-10 17:58:30,465 | root | Salvataggio dei dati in /home/max/Desktop/census_tutorial/preprocessing/census_2001/data/Sezioni di Censimento/R05_DatiCPA_2001.csv\n",
      "INFO | 47484 | 2024-10-10 17:58:30,465 | root | Salvataggio dei dati in /home/max/Desktop/census_tutorial/preprocessing/census_2001/data/Sezioni di Censimento/R05_DatiCPA_2001.csv\n",
      "INFO | 47484 | 2024-10-10 17:58:31,058 | root | Lettura del file Excel da /home/max/Desktop/census_tutorial/preprocessing/census_2001/data/dati-cpa_2001\\R03_DatiCPA_2001.xls\n",
      "INFO | 47484 | 2024-10-10 17:58:31,058 | root | Lettura del file Excel da /home/max/Desktop/census_tutorial/preprocessing/census_2001/data/dati-cpa_2001\\R03_DatiCPA_2001.xls\n",
      "INFO | 47484 | 2024-10-10 17:58:31,058 | root | Lettura del file Excel da /home/max/Desktop/census_tutorial/preprocessing/census_2001/data/dati-cpa_2001\\R03_DatiCPA_2001.xls\n",
      "INFO | 47484 | 2024-10-10 17:58:31,058 | root | Lettura del file Excel da /home/max/Desktop/census_tutorial/preprocessing/census_2001/data/dati-cpa_2001\\R03_DatiCPA_2001.xls\n",
      "INFO | 47484 | 2024-10-10 17:58:31,058 | root | Lettura del file Excel da /home/max/Desktop/census_tutorial/preprocessing/census_2001/data/dati-cpa_2001\\R03_DatiCPA_2001.xls\n",
      "INFO | 47484 | 2024-10-10 17:58:31,058 | root | Lettura del file Excel da /home/max/Desktop/census_tutorial/preprocessing/census_2001/data/dati-cpa_2001\\R03_DatiCPA_2001.xls\n",
      "INFO | 47484 | 2024-10-10 17:58:31,058 | root | Lettura del file Excel da /home/max/Desktop/census_tutorial/preprocessing/census_2001/data/dati-cpa_2001\\R03_DatiCPA_2001.xls\n",
      "INFO | 47484 | 2024-10-10 17:58:31,058 | root | Lettura del file Excel da /home/max/Desktop/census_tutorial/preprocessing/census_2001/data/dati-cpa_2001\\R03_DatiCPA_2001.xls\n"
     ]
    },
    {
     "name": "stderr",
     "output_type": "stream",
     "text": [
      "Lettura righe...: 100%|██████████| 45129/45129 [00:00<00:00, 197791.36it/s]\n"
     ]
    },
    {
     "name": "stdout",
     "output_type": "stream",
     "text": [
      "INFO | 47484 | 2024-10-10 17:58:38,845 | root | Salvataggio dei dati in /home/max/Desktop/census_tutorial/preprocessing/census_2001/data/Sezioni di Censimento/R03_DatiCPA_2001.csv\n",
      "INFO | 47484 | 2024-10-10 17:58:38,845 | root | Salvataggio dei dati in /home/max/Desktop/census_tutorial/preprocessing/census_2001/data/Sezioni di Censimento/R03_DatiCPA_2001.csv\n",
      "INFO | 47484 | 2024-10-10 17:58:38,845 | root | Salvataggio dei dati in /home/max/Desktop/census_tutorial/preprocessing/census_2001/data/Sezioni di Censimento/R03_DatiCPA_2001.csv\n",
      "INFO | 47484 | 2024-10-10 17:58:38,845 | root | Salvataggio dei dati in /home/max/Desktop/census_tutorial/preprocessing/census_2001/data/Sezioni di Censimento/R03_DatiCPA_2001.csv\n",
      "INFO | 47484 | 2024-10-10 17:58:38,845 | root | Salvataggio dei dati in /home/max/Desktop/census_tutorial/preprocessing/census_2001/data/Sezioni di Censimento/R03_DatiCPA_2001.csv\n",
      "INFO | 47484 | 2024-10-10 17:58:38,845 | root | Salvataggio dei dati in /home/max/Desktop/census_tutorial/preprocessing/census_2001/data/Sezioni di Censimento/R03_DatiCPA_2001.csv\n",
      "INFO | 47484 | 2024-10-10 17:58:38,845 | root | Salvataggio dei dati in /home/max/Desktop/census_tutorial/preprocessing/census_2001/data/Sezioni di Censimento/R03_DatiCPA_2001.csv\n",
      "INFO | 47484 | 2024-10-10 17:58:38,845 | root | Salvataggio dei dati in /home/max/Desktop/census_tutorial/preprocessing/census_2001/data/Sezioni di Censimento/R03_DatiCPA_2001.csv\n",
      "INFO | 47484 | 2024-10-10 17:58:39,713 | root | Lettura del file Excel da /home/max/Desktop/census_tutorial/preprocessing/census_2001/data/dati-cpa_2001\\R06_DatiCPA_2001.xls\n",
      "INFO | 47484 | 2024-10-10 17:58:39,713 | root | Lettura del file Excel da /home/max/Desktop/census_tutorial/preprocessing/census_2001/data/dati-cpa_2001\\R06_DatiCPA_2001.xls\n",
      "INFO | 47484 | 2024-10-10 17:58:39,713 | root | Lettura del file Excel da /home/max/Desktop/census_tutorial/preprocessing/census_2001/data/dati-cpa_2001\\R06_DatiCPA_2001.xls\n",
      "INFO | 47484 | 2024-10-10 17:58:39,713 | root | Lettura del file Excel da /home/max/Desktop/census_tutorial/preprocessing/census_2001/data/dati-cpa_2001\\R06_DatiCPA_2001.xls\n",
      "INFO | 47484 | 2024-10-10 17:58:39,713 | root | Lettura del file Excel da /home/max/Desktop/census_tutorial/preprocessing/census_2001/data/dati-cpa_2001\\R06_DatiCPA_2001.xls\n",
      "INFO | 47484 | 2024-10-10 17:58:39,713 | root | Lettura del file Excel da /home/max/Desktop/census_tutorial/preprocessing/census_2001/data/dati-cpa_2001\\R06_DatiCPA_2001.xls\n",
      "INFO | 47484 | 2024-10-10 17:58:39,713 | root | Lettura del file Excel da /home/max/Desktop/census_tutorial/preprocessing/census_2001/data/dati-cpa_2001\\R06_DatiCPA_2001.xls\n",
      "INFO | 47484 | 2024-10-10 17:58:39,713 | root | Lettura del file Excel da /home/max/Desktop/census_tutorial/preprocessing/census_2001/data/dati-cpa_2001\\R06_DatiCPA_2001.xls\n"
     ]
    },
    {
     "name": "stderr",
     "output_type": "stream",
     "text": [
      "Lettura righe...: 100%|██████████| 6933/6933 [00:00<00:00, 351027.40it/s]"
     ]
    },
    {
     "name": "stdout",
     "output_type": "stream",
     "text": [
      "INFO | 47484 | 2024-10-10 17:58:40,978 | root | Salvataggio dei dati in /home/max/Desktop/census_tutorial/preprocessing/census_2001/data/Sezioni di Censimento/R06_DatiCPA_2001.csv\n",
      "INFO | 47484 | 2024-10-10 17:58:40,978 | root | Salvataggio dei dati in /home/max/Desktop/census_tutorial/preprocessing/census_2001/data/Sezioni di Censimento/R06_DatiCPA_2001.csv\n",
      "INFO | 47484 | 2024-10-10 17:58:40,978 | root | Salvataggio dei dati in /home/max/Desktop/census_tutorial/preprocessing/census_2001/data/Sezioni di Censimento/R06_DatiCPA_2001.csv\n",
      "INFO | 47484 | 2024-10-10 17:58:40,978 | root | Salvataggio dei dati in /home/max/Desktop/census_tutorial/preprocessing/census_2001/data/Sezioni di Censimento/R06_DatiCPA_2001.csv\n",
      "INFO | 47484 | 2024-10-10 17:58:40,978 | root | Salvataggio dei dati in /home/max/Desktop/census_tutorial/preprocessing/census_2001/data/Sezioni di Censimento/R06_DatiCPA_2001.csv\n",
      "INFO | 47484 | 2024-10-10 17:58:40,978 | root | Salvataggio dei dati in /home/max/Desktop/census_tutorial/preprocessing/census_2001/data/Sezioni di Censimento/R06_DatiCPA_2001.csv\n",
      "INFO | 47484 | 2024-10-10 17:58:40,978 | root | Salvataggio dei dati in /home/max/Desktop/census_tutorial/preprocessing/census_2001/data/Sezioni di Censimento/R06_DatiCPA_2001.csv\n",
      "INFO | 47484 | 2024-10-10 17:58:40,978 | root | Salvataggio dei dati in /home/max/Desktop/census_tutorial/preprocessing/census_2001/data/Sezioni di Censimento/R06_DatiCPA_2001.csv\n"
     ]
    },
    {
     "name": "stderr",
     "output_type": "stream",
     "text": [
      "\n"
     ]
    },
    {
     "name": "stdout",
     "output_type": "stream",
     "text": [
      "INFO | 47484 | 2024-10-10 17:58:41,124 | root | Lettura del file Excel da /home/max/Desktop/census_tutorial/preprocessing/census_2001/data/dati-cpa_2001\\R10_DatiCPA_2001.xls\n",
      "INFO | 47484 | 2024-10-10 17:58:41,124 | root | Lettura del file Excel da /home/max/Desktop/census_tutorial/preprocessing/census_2001/data/dati-cpa_2001\\R10_DatiCPA_2001.xls\n",
      "INFO | 47484 | 2024-10-10 17:58:41,124 | root | Lettura del file Excel da /home/max/Desktop/census_tutorial/preprocessing/census_2001/data/dati-cpa_2001\\R10_DatiCPA_2001.xls\n",
      "INFO | 47484 | 2024-10-10 17:58:41,124 | root | Lettura del file Excel da /home/max/Desktop/census_tutorial/preprocessing/census_2001/data/dati-cpa_2001\\R10_DatiCPA_2001.xls\n",
      "INFO | 47484 | 2024-10-10 17:58:41,124 | root | Lettura del file Excel da /home/max/Desktop/census_tutorial/preprocessing/census_2001/data/dati-cpa_2001\\R10_DatiCPA_2001.xls\n",
      "INFO | 47484 | 2024-10-10 17:58:41,124 | root | Lettura del file Excel da /home/max/Desktop/census_tutorial/preprocessing/census_2001/data/dati-cpa_2001\\R10_DatiCPA_2001.xls\n",
      "INFO | 47484 | 2024-10-10 17:58:41,124 | root | Lettura del file Excel da /home/max/Desktop/census_tutorial/preprocessing/census_2001/data/dati-cpa_2001\\R10_DatiCPA_2001.xls\n",
      "INFO | 47484 | 2024-10-10 17:58:41,124 | root | Lettura del file Excel da /home/max/Desktop/census_tutorial/preprocessing/census_2001/data/dati-cpa_2001\\R10_DatiCPA_2001.xls\n"
     ]
    },
    {
     "name": "stderr",
     "output_type": "stream",
     "text": [
      "Lettura righe...: 100%|██████████| 6808/6808 [00:00<00:00, 438165.72it/s]"
     ]
    },
    {
     "name": "stdout",
     "output_type": "stream",
     "text": [
      "INFO | 47484 | 2024-10-10 17:58:42,229 | root | Salvataggio dei dati in /home/max/Desktop/census_tutorial/preprocessing/census_2001/data/Sezioni di Censimento/R10_DatiCPA_2001.csv\n",
      "INFO | 47484 | 2024-10-10 17:58:42,229 | root | Salvataggio dei dati in /home/max/Desktop/census_tutorial/preprocessing/census_2001/data/Sezioni di Censimento/R10_DatiCPA_2001.csv\n",
      "INFO | 47484 | 2024-10-10 17:58:42,229 | root | Salvataggio dei dati in /home/max/Desktop/census_tutorial/preprocessing/census_2001/data/Sezioni di Censimento/R10_DatiCPA_2001.csv\n",
      "INFO | 47484 | 2024-10-10 17:58:42,229 | root | Salvataggio dei dati in /home/max/Desktop/census_tutorial/preprocessing/census_2001/data/Sezioni di Censimento/R10_DatiCPA_2001.csv\n",
      "INFO | 47484 | 2024-10-10 17:58:42,229 | root | Salvataggio dei dati in /home/max/Desktop/census_tutorial/preprocessing/census_2001/data/Sezioni di Censimento/R10_DatiCPA_2001.csv\n",
      "INFO | 47484 | 2024-10-10 17:58:42,229 | root | Salvataggio dei dati in /home/max/Desktop/census_tutorial/preprocessing/census_2001/data/Sezioni di Censimento/R10_DatiCPA_2001.csv\n",
      "INFO | 47484 | 2024-10-10 17:58:42,229 | root | Salvataggio dei dati in /home/max/Desktop/census_tutorial/preprocessing/census_2001/data/Sezioni di Censimento/R10_DatiCPA_2001.csv\n",
      "INFO | 47484 | 2024-10-10 17:58:42,229 | root | Salvataggio dei dati in /home/max/Desktop/census_tutorial/preprocessing/census_2001/data/Sezioni di Censimento/R10_DatiCPA_2001.csv\n"
     ]
    },
    {
     "name": "stderr",
     "output_type": "stream",
     "text": [
      "\n"
     ]
    },
    {
     "name": "stdout",
     "output_type": "stream",
     "text": [
      "INFO | 47484 | 2024-10-10 17:58:42,370 | root | Lettura del file Excel da /home/max/Desktop/census_tutorial/preprocessing/census_2001/data/dati-cpa_2001\\R13_DatiCPA_2001.xls\n",
      "INFO | 47484 | 2024-10-10 17:58:42,370 | root | Lettura del file Excel da /home/max/Desktop/census_tutorial/preprocessing/census_2001/data/dati-cpa_2001\\R13_DatiCPA_2001.xls\n",
      "INFO | 47484 | 2024-10-10 17:58:42,370 | root | Lettura del file Excel da /home/max/Desktop/census_tutorial/preprocessing/census_2001/data/dati-cpa_2001\\R13_DatiCPA_2001.xls\n",
      "INFO | 47484 | 2024-10-10 17:58:42,370 | root | Lettura del file Excel da /home/max/Desktop/census_tutorial/preprocessing/census_2001/data/dati-cpa_2001\\R13_DatiCPA_2001.xls\n",
      "INFO | 47484 | 2024-10-10 17:58:42,370 | root | Lettura del file Excel da /home/max/Desktop/census_tutorial/preprocessing/census_2001/data/dati-cpa_2001\\R13_DatiCPA_2001.xls\n",
      "INFO | 47484 | 2024-10-10 17:58:42,370 | root | Lettura del file Excel da /home/max/Desktop/census_tutorial/preprocessing/census_2001/data/dati-cpa_2001\\R13_DatiCPA_2001.xls\n",
      "INFO | 47484 | 2024-10-10 17:58:42,370 | root | Lettura del file Excel da /home/max/Desktop/census_tutorial/preprocessing/census_2001/data/dati-cpa_2001\\R13_DatiCPA_2001.xls\n",
      "INFO | 47484 | 2024-10-10 17:58:42,370 | root | Lettura del file Excel da /home/max/Desktop/census_tutorial/preprocessing/census_2001/data/dati-cpa_2001\\R13_DatiCPA_2001.xls\n"
     ]
    },
    {
     "name": "stderr",
     "output_type": "stream",
     "text": [
      "Lettura righe...: 100%|██████████| 7972/7972 [00:00<00:00, 80038.57it/s]\n"
     ]
    },
    {
     "name": "stdout",
     "output_type": "stream",
     "text": [
      "INFO | 47484 | 2024-10-10 17:58:43,831 | root | Salvataggio dei dati in /home/max/Desktop/census_tutorial/preprocessing/census_2001/data/Sezioni di Censimento/R13_DatiCPA_2001.csv\n",
      "INFO | 47484 | 2024-10-10 17:58:43,831 | root | Salvataggio dei dati in /home/max/Desktop/census_tutorial/preprocessing/census_2001/data/Sezioni di Censimento/R13_DatiCPA_2001.csv\n",
      "INFO | 47484 | 2024-10-10 17:58:43,831 | root | Salvataggio dei dati in /home/max/Desktop/census_tutorial/preprocessing/census_2001/data/Sezioni di Censimento/R13_DatiCPA_2001.csv\n",
      "INFO | 47484 | 2024-10-10 17:58:43,831 | root | Salvataggio dei dati in /home/max/Desktop/census_tutorial/preprocessing/census_2001/data/Sezioni di Censimento/R13_DatiCPA_2001.csv\n",
      "INFO | 47484 | 2024-10-10 17:58:43,831 | root | Salvataggio dei dati in /home/max/Desktop/census_tutorial/preprocessing/census_2001/data/Sezioni di Censimento/R13_DatiCPA_2001.csv\n",
      "INFO | 47484 | 2024-10-10 17:58:43,831 | root | Salvataggio dei dati in /home/max/Desktop/census_tutorial/preprocessing/census_2001/data/Sezioni di Censimento/R13_DatiCPA_2001.csv\n",
      "INFO | 47484 | 2024-10-10 17:58:43,831 | root | Salvataggio dei dati in /home/max/Desktop/census_tutorial/preprocessing/census_2001/data/Sezioni di Censimento/R13_DatiCPA_2001.csv\n",
      "INFO | 47484 | 2024-10-10 17:58:43,831 | root | Salvataggio dei dati in /home/max/Desktop/census_tutorial/preprocessing/census_2001/data/Sezioni di Censimento/R13_DatiCPA_2001.csv\n",
      "INFO | 47484 | 2024-10-10 17:58:43,998 | root | Lettura del file Excel da /home/max/Desktop/census_tutorial/preprocessing/census_2001/data/dati-cpa_2001\\R17_DatiCPA_2001.xls\n",
      "INFO | 47484 | 2024-10-10 17:58:43,998 | root | Lettura del file Excel da /home/max/Desktop/census_tutorial/preprocessing/census_2001/data/dati-cpa_2001\\R17_DatiCPA_2001.xls\n",
      "INFO | 47484 | 2024-10-10 17:58:43,998 | root | Lettura del file Excel da /home/max/Desktop/census_tutorial/preprocessing/census_2001/data/dati-cpa_2001\\R17_DatiCPA_2001.xls\n",
      "INFO | 47484 | 2024-10-10 17:58:43,998 | root | Lettura del file Excel da /home/max/Desktop/census_tutorial/preprocessing/census_2001/data/dati-cpa_2001\\R17_DatiCPA_2001.xls\n",
      "INFO | 47484 | 2024-10-10 17:58:43,998 | root | Lettura del file Excel da /home/max/Desktop/census_tutorial/preprocessing/census_2001/data/dati-cpa_2001\\R17_DatiCPA_2001.xls\n",
      "INFO | 47484 | 2024-10-10 17:58:43,998 | root | Lettura del file Excel da /home/max/Desktop/census_tutorial/preprocessing/census_2001/data/dati-cpa_2001\\R17_DatiCPA_2001.xls\n",
      "INFO | 47484 | 2024-10-10 17:58:43,998 | root | Lettura del file Excel da /home/max/Desktop/census_tutorial/preprocessing/census_2001/data/dati-cpa_2001\\R17_DatiCPA_2001.xls\n",
      "INFO | 47484 | 2024-10-10 17:58:43,998 | root | Lettura del file Excel da /home/max/Desktop/census_tutorial/preprocessing/census_2001/data/dati-cpa_2001\\R17_DatiCPA_2001.xls\n"
     ]
    },
    {
     "name": "stderr",
     "output_type": "stream",
     "text": [
      "Lettura righe...: 100%|██████████| 4284/4284 [00:00<00:00, 599846.38it/s]"
     ]
    },
    {
     "name": "stdout",
     "output_type": "stream",
     "text": [
      "INFO | 47484 | 2024-10-10 17:58:44,701 | root | Salvataggio dei dati in /home/max/Desktop/census_tutorial/preprocessing/census_2001/data/Sezioni di Censimento/R17_DatiCPA_2001.csv\n",
      "INFO | 47484 | 2024-10-10 17:58:44,701 | root | Salvataggio dei dati in /home/max/Desktop/census_tutorial/preprocessing/census_2001/data/Sezioni di Censimento/R17_DatiCPA_2001.csv\n",
      "INFO | 47484 | 2024-10-10 17:58:44,701 | root | Salvataggio dei dati in /home/max/Desktop/census_tutorial/preprocessing/census_2001/data/Sezioni di Censimento/R17_DatiCPA_2001.csv\n",
      "INFO | 47484 | 2024-10-10 17:58:44,701 | root | Salvataggio dei dati in /home/max/Desktop/census_tutorial/preprocessing/census_2001/data/Sezioni di Censimento/R17_DatiCPA_2001.csv\n",
      "INFO | 47484 | 2024-10-10 17:58:44,701 | root | Salvataggio dei dati in /home/max/Desktop/census_tutorial/preprocessing/census_2001/data/Sezioni di Censimento/R17_DatiCPA_2001.csv\n",
      "INFO | 47484 | 2024-10-10 17:58:44,701 | root | Salvataggio dei dati in /home/max/Desktop/census_tutorial/preprocessing/census_2001/data/Sezioni di Censimento/R17_DatiCPA_2001.csv\n",
      "INFO | 47484 | 2024-10-10 17:58:44,701 | root | Salvataggio dei dati in /home/max/Desktop/census_tutorial/preprocessing/census_2001/data/Sezioni di Censimento/R17_DatiCPA_2001.csv\n",
      "INFO | 47484 | 2024-10-10 17:58:44,701 | root | Salvataggio dei dati in /home/max/Desktop/census_tutorial/preprocessing/census_2001/data/Sezioni di Censimento/R17_DatiCPA_2001.csv\n",
      "INFO | 47484 | 2024-10-10 17:58:44,787 | root | Lettura del file Excel da /home/max/Desktop/census_tutorial/preprocessing/census_2001/data/dati-cpa_2001\\R11_DatiCPA_2001.xls\n",
      "INFO | 47484 | 2024-10-10 17:58:44,787 | root | Lettura del file Excel da /home/max/Desktop/census_tutorial/preprocessing/census_2001/data/dati-cpa_2001\\R11_DatiCPA_2001.xls\n",
      "INFO | 47484 | 2024-10-10 17:58:44,787 | root | Lettura del file Excel da /home/max/Desktop/census_tutorial/preprocessing/census_2001/data/dati-cpa_2001\\R11_DatiCPA_2001.xls\n",
      "INFO | 47484 | 2024-10-10 17:58:44,787 | root | Lettura del file Excel da /home/max/Desktop/census_tutorial/preprocessing/census_2001/data/dati-cpa_2001\\R11_DatiCPA_2001.xls\n",
      "INFO | 47484 | 2024-10-10 17:58:44,787 | root | Lettura del file Excel da /home/max/Desktop/census_tutorial/preprocessing/census_2001/data/dati-cpa_2001\\R11_DatiCPA_2001.xls\n",
      "INFO | 47484 | 2024-10-10 17:58:44,787 | root | Lettura del file Excel da /home/max/Desktop/census_tutorial/preprocessing/census_2001/data/dati-cpa_2001\\R11_DatiCPA_2001.xls\n",
      "INFO | 47484 | 2024-10-10 17:58:44,787 | root | Lettura del file Excel da /home/max/Desktop/census_tutorial/preprocessing/census_2001/data/dati-cpa_2001\\R11_DatiCPA_2001.xls\n",
      "INFO | 47484 | 2024-10-10 17:58:44,787 | root | Lettura del file Excel da /home/max/Desktop/census_tutorial/preprocessing/census_2001/data/dati-cpa_2001\\R11_DatiCPA_2001.xls\n"
     ]
    },
    {
     "name": "stderr",
     "output_type": "stream",
     "text": [
      "\n",
      "Lettura righe...: 100%|██████████| 10653/10653 [00:00<00:00, 441695.54it/s]"
     ]
    },
    {
     "name": "stdout",
     "output_type": "stream",
     "text": [
      "INFO | 47484 | 2024-10-10 17:58:46,544 | root | Salvataggio dei dati in /home/max/Desktop/census_tutorial/preprocessing/census_2001/data/Sezioni di Censimento/R11_DatiCPA_2001.csv\n",
      "INFO | 47484 | 2024-10-10 17:58:46,544 | root | Salvataggio dei dati in /home/max/Desktop/census_tutorial/preprocessing/census_2001/data/Sezioni di Censimento/R11_DatiCPA_2001.csv\n",
      "INFO | 47484 | 2024-10-10 17:58:46,544 | root | Salvataggio dei dati in /home/max/Desktop/census_tutorial/preprocessing/census_2001/data/Sezioni di Censimento/R11_DatiCPA_2001.csv\n",
      "INFO | 47484 | 2024-10-10 17:58:46,544 | root | Salvataggio dei dati in /home/max/Desktop/census_tutorial/preprocessing/census_2001/data/Sezioni di Censimento/R11_DatiCPA_2001.csv\n",
      "INFO | 47484 | 2024-10-10 17:58:46,544 | root | Salvataggio dei dati in /home/max/Desktop/census_tutorial/preprocessing/census_2001/data/Sezioni di Censimento/R11_DatiCPA_2001.csv\n",
      "INFO | 47484 | 2024-10-10 17:58:46,544 | root | Salvataggio dei dati in /home/max/Desktop/census_tutorial/preprocessing/census_2001/data/Sezioni di Censimento/R11_DatiCPA_2001.csv\n",
      "INFO | 47484 | 2024-10-10 17:58:46,544 | root | Salvataggio dei dati in /home/max/Desktop/census_tutorial/preprocessing/census_2001/data/Sezioni di Censimento/R11_DatiCPA_2001.csv\n",
      "INFO | 47484 | 2024-10-10 17:58:46,544 | root | Salvataggio dei dati in /home/max/Desktop/census_tutorial/preprocessing/census_2001/data/Sezioni di Censimento/R11_DatiCPA_2001.csv\n"
     ]
    },
    {
     "name": "stderr",
     "output_type": "stream",
     "text": [
      "\n"
     ]
    },
    {
     "name": "stdout",
     "output_type": "stream",
     "text": [
      "INFO | 47484 | 2024-10-10 17:58:46,844 | root | Estrazione del tracciamento dei dati dal file /home/max/Desktop/census_tutorial/preprocessing/census_2001/data/dati-cpa_2001\\R20_DatiCPA_2001.xls\n",
      "INFO | 47484 | 2024-10-10 17:58:46,844 | root | Estrazione del tracciamento dei dati dal file /home/max/Desktop/census_tutorial/preprocessing/census_2001/data/dati-cpa_2001\\R20_DatiCPA_2001.xls\n",
      "INFO | 47484 | 2024-10-10 17:58:46,844 | root | Estrazione del tracciamento dei dati dal file /home/max/Desktop/census_tutorial/preprocessing/census_2001/data/dati-cpa_2001\\R20_DatiCPA_2001.xls\n",
      "INFO | 47484 | 2024-10-10 17:58:46,844 | root | Estrazione del tracciamento dei dati dal file /home/max/Desktop/census_tutorial/preprocessing/census_2001/data/dati-cpa_2001\\R20_DatiCPA_2001.xls\n",
      "INFO | 47484 | 2024-10-10 17:58:46,844 | root | Estrazione del tracciamento dei dati dal file /home/max/Desktop/census_tutorial/preprocessing/census_2001/data/dati-cpa_2001\\R20_DatiCPA_2001.xls\n",
      "INFO | 47484 | 2024-10-10 17:58:46,844 | root | Estrazione del tracciamento dei dati dal file /home/max/Desktop/census_tutorial/preprocessing/census_2001/data/dati-cpa_2001\\R20_DatiCPA_2001.xls\n",
      "INFO | 47484 | 2024-10-10 17:58:46,844 | root | Estrazione del tracciamento dei dati dal file /home/max/Desktop/census_tutorial/preprocessing/census_2001/data/dati-cpa_2001\\R20_DatiCPA_2001.xls\n",
      "INFO | 47484 | 2024-10-10 17:58:46,844 | root | Estrazione del tracciamento dei dati dal file /home/max/Desktop/census_tutorial/preprocessing/census_2001/data/dati-cpa_2001\\R20_DatiCPA_2001.xls\n",
      "INFO | 47484 | 2024-10-10 17:58:46,848 | root | Lettura dei dati da /home/max/Desktop/census_tutorial/preprocessing/census_2001/data/dati-cpa_2001\\R20_DatiCPA_2001.xls\n",
      "INFO | 47484 | 2024-10-10 17:58:46,848 | root | Lettura dei dati da /home/max/Desktop/census_tutorial/preprocessing/census_2001/data/dati-cpa_2001\\R20_DatiCPA_2001.xls\n",
      "INFO | 47484 | 2024-10-10 17:58:46,848 | root | Lettura dei dati da /home/max/Desktop/census_tutorial/preprocessing/census_2001/data/dati-cpa_2001\\R20_DatiCPA_2001.xls\n",
      "INFO | 47484 | 2024-10-10 17:58:46,848 | root | Lettura dei dati da /home/max/Desktop/census_tutorial/preprocessing/census_2001/data/dati-cpa_2001\\R20_DatiCPA_2001.xls\n",
      "INFO | 47484 | 2024-10-10 17:58:46,848 | root | Lettura dei dati da /home/max/Desktop/census_tutorial/preprocessing/census_2001/data/dati-cpa_2001\\R20_DatiCPA_2001.xls\n",
      "INFO | 47484 | 2024-10-10 17:58:46,848 | root | Lettura dei dati da /home/max/Desktop/census_tutorial/preprocessing/census_2001/data/dati-cpa_2001\\R20_DatiCPA_2001.xls\n",
      "INFO | 47484 | 2024-10-10 17:58:46,848 | root | Lettura dei dati da /home/max/Desktop/census_tutorial/preprocessing/census_2001/data/dati-cpa_2001\\R20_DatiCPA_2001.xls\n",
      "INFO | 47484 | 2024-10-10 17:58:46,848 | root | Lettura dei dati da /home/max/Desktop/census_tutorial/preprocessing/census_2001/data/dati-cpa_2001\\R20_DatiCPA_2001.xls\n",
      "INFO | 47484 | 2024-10-10 17:58:48,430 | root | Dati letti con successo.\n",
      "INFO | 47484 | 2024-10-10 17:58:48,430 | root | Dati letti con successo.\n",
      "INFO | 47484 | 2024-10-10 17:58:48,430 | root | Dati letti con successo.\n",
      "INFO | 47484 | 2024-10-10 17:58:48,430 | root | Dati letti con successo.\n",
      "INFO | 47484 | 2024-10-10 17:58:48,430 | root | Dati letti con successo.\n",
      "INFO | 47484 | 2024-10-10 17:58:48,430 | root | Dati letti con successo.\n",
      "INFO | 47484 | 2024-10-10 17:58:48,430 | root | Dati letti con successo.\n",
      "INFO | 47484 | 2024-10-10 17:58:48,430 | root | Dati letti con successo.\n",
      "INFO | 47484 | 2024-10-10 17:58:48,434 | root | Salvataggio dei dati in /home/max/Desktop/census_tutorial/preprocessing/census_2001/data/Sezioni di Censimento/tracciato_2001_sezioni.csv\n",
      "INFO | 47484 | 2024-10-10 17:58:48,434 | root | Salvataggio dei dati in /home/max/Desktop/census_tutorial/preprocessing/census_2001/data/Sezioni di Censimento/tracciato_2001_sezioni.csv\n",
      "INFO | 47484 | 2024-10-10 17:58:48,434 | root | Salvataggio dei dati in /home/max/Desktop/census_tutorial/preprocessing/census_2001/data/Sezioni di Censimento/tracciato_2001_sezioni.csv\n",
      "INFO | 47484 | 2024-10-10 17:58:48,434 | root | Salvataggio dei dati in /home/max/Desktop/census_tutorial/preprocessing/census_2001/data/Sezioni di Censimento/tracciato_2001_sezioni.csv\n",
      "INFO | 47484 | 2024-10-10 17:58:48,434 | root | Salvataggio dei dati in /home/max/Desktop/census_tutorial/preprocessing/census_2001/data/Sezioni di Censimento/tracciato_2001_sezioni.csv\n",
      "INFO | 47484 | 2024-10-10 17:58:48,434 | root | Salvataggio dei dati in /home/max/Desktop/census_tutorial/preprocessing/census_2001/data/Sezioni di Censimento/tracciato_2001_sezioni.csv\n",
      "INFO | 47484 | 2024-10-10 17:58:48,434 | root | Salvataggio dei dati in /home/max/Desktop/census_tutorial/preprocessing/census_2001/data/Sezioni di Censimento/tracciato_2001_sezioni.csv\n",
      "INFO | 47484 | 2024-10-10 17:58:48,434 | root | Salvataggio dei dati in /home/max/Desktop/census_tutorial/preprocessing/census_2001/data/Sezioni di Censimento/tracciato_2001_sezioni.csv\n",
      "INFO | 47484 | 2024-10-10 17:58:48,437 | root | Rimozione dei file XLS dalla cartella /home/max/Desktop/census_tutorial/preprocessing/census_2001\n",
      "INFO | 47484 | 2024-10-10 17:58:48,437 | root | Rimozione dei file XLS dalla cartella /home/max/Desktop/census_tutorial/preprocessing/census_2001\n",
      "INFO | 47484 | 2024-10-10 17:58:48,437 | root | Rimozione dei file XLS dalla cartella /home/max/Desktop/census_tutorial/preprocessing/census_2001\n",
      "INFO | 47484 | 2024-10-10 17:58:48,437 | root | Rimozione dei file XLS dalla cartella /home/max/Desktop/census_tutorial/preprocessing/census_2001\n",
      "INFO | 47484 | 2024-10-10 17:58:48,437 | root | Rimozione dei file XLS dalla cartella /home/max/Desktop/census_tutorial/preprocessing/census_2001\n",
      "INFO | 47484 | 2024-10-10 17:58:48,437 | root | Rimozione dei file XLS dalla cartella /home/max/Desktop/census_tutorial/preprocessing/census_2001\n",
      "INFO | 47484 | 2024-10-10 17:58:48,437 | root | Rimozione dei file XLS dalla cartella /home/max/Desktop/census_tutorial/preprocessing/census_2001\n",
      "INFO | 47484 | 2024-10-10 17:58:48,437 | root | Rimozione dei file XLS dalla cartella /home/max/Desktop/census_tutorial/preprocessing/census_2001\n",
      "INFO | 47484 | 2024-10-10 17:58:48,471 | root | Download dei dati censuari completato e salvato in /home/max/Desktop/census_tutorial/preprocessing/census_2001\n",
      "INFO | 47484 | 2024-10-10 17:58:48,471 | root | Download dei dati censuari completato e salvato in /home/max/Desktop/census_tutorial/preprocessing/census_2001\n",
      "INFO | 47484 | 2024-10-10 17:58:48,471 | root | Download dei dati censuari completato e salvato in /home/max/Desktop/census_tutorial/preprocessing/census_2001\n",
      "INFO | 47484 | 2024-10-10 17:58:48,471 | root | Download dei dati censuari completato e salvato in /home/max/Desktop/census_tutorial/preprocessing/census_2001\n",
      "INFO | 47484 | 2024-10-10 17:58:48,471 | root | Download dei dati censuari completato e salvato in /home/max/Desktop/census_tutorial/preprocessing/census_2001\n",
      "INFO | 47484 | 2024-10-10 17:58:48,471 | root | Download dei dati censuari completato e salvato in /home/max/Desktop/census_tutorial/preprocessing/census_2001\n",
      "INFO | 47484 | 2024-10-10 17:58:48,471 | root | Download dei dati censuari completato e salvato in /home/max/Desktop/census_tutorial/preprocessing/census_2001\n",
      "INFO | 47484 | 2024-10-10 17:58:48,471 | root | Download dei dati censuari completato e salvato in /home/max/Desktop/census_tutorial/preprocessing/census_2001\n",
      "INFO | 47484 | 2024-10-10 17:58:48,474 | root | Creazione della cartella per i dati del censimento 2001.\n",
      "INFO | 47484 | 2024-10-10 17:58:48,474 | root | Creazione della cartella per i dati del censimento 2001.\n",
      "INFO | 47484 | 2024-10-10 17:58:48,474 | root | Creazione della cartella per i dati del censimento 2001.\n",
      "INFO | 47484 | 2024-10-10 17:58:48,474 | root | Creazione della cartella per i dati del censimento 2001.\n",
      "INFO | 47484 | 2024-10-10 17:58:48,474 | root | Creazione della cartella per i dati del censimento 2001.\n",
      "INFO | 47484 | 2024-10-10 17:58:48,474 | root | Creazione della cartella per i dati del censimento 2001.\n",
      "INFO | 47484 | 2024-10-10 17:58:48,474 | root | Creazione della cartella per i dati del censimento 2001.\n",
      "INFO | 47484 | 2024-10-10 17:58:48,474 | root | Creazione della cartella per i dati del censimento 2001.\n",
      "INFO | 47484 | 2024-10-10 17:58:48,476 | root | Cartella creata o già esistente: /home/max/Desktop/census_tutorial/preprocessing/census_2001\n",
      "INFO | 47484 | 2024-10-10 17:58:48,476 | root | Cartella creata o già esistente: /home/max/Desktop/census_tutorial/preprocessing/census_2001\n",
      "INFO | 47484 | 2024-10-10 17:58:48,476 | root | Cartella creata o già esistente: /home/max/Desktop/census_tutorial/preprocessing/census_2001\n",
      "INFO | 47484 | 2024-10-10 17:58:48,476 | root | Cartella creata o già esistente: /home/max/Desktop/census_tutorial/preprocessing/census_2001\n",
      "INFO | 47484 | 2024-10-10 17:58:48,476 | root | Cartella creata o già esistente: /home/max/Desktop/census_tutorial/preprocessing/census_2001\n",
      "INFO | 47484 | 2024-10-10 17:58:48,476 | root | Cartella creata o già esistente: /home/max/Desktop/census_tutorial/preprocessing/census_2001\n",
      "INFO | 47484 | 2024-10-10 17:58:48,476 | root | Cartella creata o già esistente: /home/max/Desktop/census_tutorial/preprocessing/census_2001\n",
      "INFO | 47484 | 2024-10-10 17:58:48,476 | root | Cartella creata o già esistente: /home/max/Desktop/census_tutorial/preprocessing/census_2001\n",
      "INFO | 47484 | 2024-10-10 17:58:48,479 | root | Percorso del file di destinazione: /home/max/Desktop/census_tutorial/preprocessing/census_2001/geodata/R15_01_WGS84.zip\n",
      "INFO | 47484 | 2024-10-10 17:58:48,479 | root | Percorso del file di destinazione: /home/max/Desktop/census_tutorial/preprocessing/census_2001/geodata/R15_01_WGS84.zip\n",
      "INFO | 47484 | 2024-10-10 17:58:48,479 | root | Percorso del file di destinazione: /home/max/Desktop/census_tutorial/preprocessing/census_2001/geodata/R15_01_WGS84.zip\n",
      "INFO | 47484 | 2024-10-10 17:58:48,479 | root | Percorso del file di destinazione: /home/max/Desktop/census_tutorial/preprocessing/census_2001/geodata/R15_01_WGS84.zip\n",
      "INFO | 47484 | 2024-10-10 17:58:48,479 | root | Percorso del file di destinazione: /home/max/Desktop/census_tutorial/preprocessing/census_2001/geodata/R15_01_WGS84.zip\n",
      "INFO | 47484 | 2024-10-10 17:58:48,479 | root | Percorso del file di destinazione: /home/max/Desktop/census_tutorial/preprocessing/census_2001/geodata/R15_01_WGS84.zip\n",
      "INFO | 47484 | 2024-10-10 17:58:48,479 | root | Percorso del file di destinazione: /home/max/Desktop/census_tutorial/preprocessing/census_2001/geodata/R15_01_WGS84.zip\n",
      "INFO | 47484 | 2024-10-10 17:58:48,479 | root | Percorso del file di destinazione: /home/max/Desktop/census_tutorial/preprocessing/census_2001/geodata/R15_01_WGS84.zip\n",
      "INFO | 47484 | 2024-10-10 17:58:48,482 | root | Inizio download dei dati dal link: https://www.istat.it/storage/cartografia/basi_territoriali/WGS_84_UTM/2001/R15_01_WGS84.zip\n",
      "INFO | 47484 | 2024-10-10 17:58:48,482 | root | Inizio download dei dati dal link: https://www.istat.it/storage/cartografia/basi_territoriali/WGS_84_UTM/2001/R15_01_WGS84.zip\n",
      "INFO | 47484 | 2024-10-10 17:58:48,482 | root | Inizio download dei dati dal link: https://www.istat.it/storage/cartografia/basi_territoriali/WGS_84_UTM/2001/R15_01_WGS84.zip\n",
      "INFO | 47484 | 2024-10-10 17:58:48,482 | root | Inizio download dei dati dal link: https://www.istat.it/storage/cartografia/basi_territoriali/WGS_84_UTM/2001/R15_01_WGS84.zip\n",
      "INFO | 47484 | 2024-10-10 17:58:48,482 | root | Inizio download dei dati dal link: https://www.istat.it/storage/cartografia/basi_territoriali/WGS_84_UTM/2001/R15_01_WGS84.zip\n",
      "INFO | 47484 | 2024-10-10 17:58:48,482 | root | Inizio download dei dati dal link: https://www.istat.it/storage/cartografia/basi_territoriali/WGS_84_UTM/2001/R15_01_WGS84.zip\n",
      "INFO | 47484 | 2024-10-10 17:58:48,482 | root | Inizio download dei dati dal link: https://www.istat.it/storage/cartografia/basi_territoriali/WGS_84_UTM/2001/R15_01_WGS84.zip\n",
      "INFO | 47484 | 2024-10-10 17:58:48,482 | root | Inizio download dei dati dal link: https://www.istat.it/storage/cartografia/basi_territoriali/WGS_84_UTM/2001/R15_01_WGS84.zip\n"
     ]
    },
    {
     "name": "stderr",
     "output_type": "stream",
     "text": [
      "In download...: 100%|██████████| 18.5M/18.5M [00:05<00:00, 3.55MB/s]"
     ]
    },
    {
     "name": "stdout",
     "output_type": "stream",
     "text": [
      "INFO | 47484 | 2024-10-10 17:58:54,065 | root | Download completato con successo in 5.58 secondi.\n",
      "INFO | 47484 | 2024-10-10 17:58:54,065 | root | Download completato con successo in 5.58 secondi.\n",
      "INFO | 47484 | 2024-10-10 17:58:54,065 | root | Download completato con successo in 5.58 secondi.\n",
      "INFO | 47484 | 2024-10-10 17:58:54,065 | root | Download completato con successo in 5.58 secondi.\n",
      "INFO | 47484 | 2024-10-10 17:58:54,065 | root | Download completato con successo in 5.58 secondi.\n",
      "INFO | 47484 | 2024-10-10 17:58:54,065 | root | Download completato con successo in 5.58 secondi.\n",
      "INFO | 47484 | 2024-10-10 17:58:54,065 | root | Download completato con successo in 5.58 secondi.\n",
      "INFO | 47484 | 2024-10-10 17:58:54,065 | root | Download completato con successo in 5.58 secondi.\n",
      "INFO | 47484 | 2024-10-10 17:58:54,067 | root | Inizio estrazione del file ZIP.\n",
      "INFO | 47484 | 2024-10-10 17:58:54,067 | root | Inizio estrazione del file ZIP.\n",
      "INFO | 47484 | 2024-10-10 17:58:54,067 | root | Inizio estrazione del file ZIP.\n",
      "INFO | 47484 | 2024-10-10 17:58:54,067 | root | Inizio estrazione del file ZIP.\n",
      "INFO | 47484 | 2024-10-10 17:58:54,067 | root | Inizio estrazione del file ZIP.\n",
      "INFO | 47484 | 2024-10-10 17:58:54,067 | root | Inizio estrazione del file ZIP.\n",
      "INFO | 47484 | 2024-10-10 17:58:54,067 | root | Inizio estrazione del file ZIP.\n",
      "INFO | 47484 | 2024-10-10 17:58:54,067 | root | Inizio estrazione del file ZIP.\n",
      "INFO | 47484 | 2024-10-10 17:58:54,068 | root | Decompressione del file /home/max/Desktop/census_tutorial/preprocessing/census_2001/geodata/R15_01_WGS84.zip nella cartella /home/max/Desktop/census_tutorial/preprocessing/census_2001/geodata.\n",
      "INFO | 47484 | 2024-10-10 17:58:54,068 | root | Decompressione del file /home/max/Desktop/census_tutorial/preprocessing/census_2001/geodata/R15_01_WGS84.zip nella cartella /home/max/Desktop/census_tutorial/preprocessing/census_2001/geodata.\n",
      "INFO | 47484 | 2024-10-10 17:58:54,068 | root | Decompressione del file /home/max/Desktop/census_tutorial/preprocessing/census_2001/geodata/R15_01_WGS84.zip nella cartella /home/max/Desktop/census_tutorial/preprocessing/census_2001/geodata.\n",
      "INFO | 47484 | 2024-10-10 17:58:54,068 | root | Decompressione del file /home/max/Desktop/census_tutorial/preprocessing/census_2001/geodata/R15_01_WGS84.zip nella cartella /home/max/Desktop/census_tutorial/preprocessing/census_2001/geodata.\n",
      "INFO | 47484 | 2024-10-10 17:58:54,068 | root | Decompressione del file /home/max/Desktop/census_tutorial/preprocessing/census_2001/geodata/R15_01_WGS84.zip nella cartella /home/max/Desktop/census_tutorial/preprocessing/census_2001/geodata.\n",
      "INFO | 47484 | 2024-10-10 17:58:54,068 | root | Decompressione del file /home/max/Desktop/census_tutorial/preprocessing/census_2001/geodata/R15_01_WGS84.zip nella cartella /home/max/Desktop/census_tutorial/preprocessing/census_2001/geodata.\n",
      "INFO | 47484 | 2024-10-10 17:58:54,068 | root | Decompressione del file /home/max/Desktop/census_tutorial/preprocessing/census_2001/geodata/R15_01_WGS84.zip nella cartella /home/max/Desktop/census_tutorial/preprocessing/census_2001/geodata.\n",
      "INFO | 47484 | 2024-10-10 17:58:54,068 | root | Decompressione del file /home/max/Desktop/census_tutorial/preprocessing/census_2001/geodata/R15_01_WGS84.zip nella cartella /home/max/Desktop/census_tutorial/preprocessing/census_2001/geodata.\n"
     ]
    },
    {
     "name": "stderr",
     "output_type": "stream",
     "text": [
      "\n"
     ]
    },
    {
     "name": "stdout",
     "output_type": "stream",
     "text": [
      "INFO | 47484 | 2024-10-10 17:58:54,253 | root | Decompressione completata. File estratti in /home/max/Desktop/census_tutorial/preprocessing/census_2001/geodata.\n",
      "INFO | 47484 | 2024-10-10 17:58:54,253 | root | Decompressione completata. File estratti in /home/max/Desktop/census_tutorial/preprocessing/census_2001/geodata.\n",
      "INFO | 47484 | 2024-10-10 17:58:54,253 | root | Decompressione completata. File estratti in /home/max/Desktop/census_tutorial/preprocessing/census_2001/geodata.\n",
      "INFO | 47484 | 2024-10-10 17:58:54,253 | root | Decompressione completata. File estratti in /home/max/Desktop/census_tutorial/preprocessing/census_2001/geodata.\n",
      "INFO | 47484 | 2024-10-10 17:58:54,253 | root | Decompressione completata. File estratti in /home/max/Desktop/census_tutorial/preprocessing/census_2001/geodata.\n",
      "INFO | 47484 | 2024-10-10 17:58:54,253 | root | Decompressione completata. File estratti in /home/max/Desktop/census_tutorial/preprocessing/census_2001/geodata.\n",
      "INFO | 47484 | 2024-10-10 17:58:54,253 | root | Decompressione completata. File estratti in /home/max/Desktop/census_tutorial/preprocessing/census_2001/geodata.\n",
      "INFO | 47484 | 2024-10-10 17:58:54,253 | root | Decompressione completata. File estratti in /home/max/Desktop/census_tutorial/preprocessing/census_2001/geodata.\n",
      "INFO | 47484 | 2024-10-10 17:58:54,256 | root | Eliminazione del file ZIP | /home/max/Desktop/census_tutorial/preprocessing/census_2001/geodata/R15_01_WGS84.zip\n",
      "INFO | 47484 | 2024-10-10 17:58:54,256 | root | Eliminazione del file ZIP | /home/max/Desktop/census_tutorial/preprocessing/census_2001/geodata/R15_01_WGS84.zip\n",
      "INFO | 47484 | 2024-10-10 17:58:54,256 | root | Eliminazione del file ZIP | /home/max/Desktop/census_tutorial/preprocessing/census_2001/geodata/R15_01_WGS84.zip\n",
      "INFO | 47484 | 2024-10-10 17:58:54,256 | root | Eliminazione del file ZIP | /home/max/Desktop/census_tutorial/preprocessing/census_2001/geodata/R15_01_WGS84.zip\n",
      "INFO | 47484 | 2024-10-10 17:58:54,256 | root | Eliminazione del file ZIP | /home/max/Desktop/census_tutorial/preprocessing/census_2001/geodata/R15_01_WGS84.zip\n",
      "INFO | 47484 | 2024-10-10 17:58:54,256 | root | Eliminazione del file ZIP | /home/max/Desktop/census_tutorial/preprocessing/census_2001/geodata/R15_01_WGS84.zip\n",
      "INFO | 47484 | 2024-10-10 17:58:54,256 | root | Eliminazione del file ZIP | /home/max/Desktop/census_tutorial/preprocessing/census_2001/geodata/R15_01_WGS84.zip\n",
      "INFO | 47484 | 2024-10-10 17:58:54,256 | root | Eliminazione del file ZIP | /home/max/Desktop/census_tutorial/preprocessing/census_2001/geodata/R15_01_WGS84.zip\n",
      "INFO | 47484 | 2024-10-10 17:58:54,260 | root | File ZIP eliminato con successo.\n",
      "INFO | 47484 | 2024-10-10 17:58:54,260 | root | File ZIP eliminato con successo.\n",
      "INFO | 47484 | 2024-10-10 17:58:54,260 | root | File ZIP eliminato con successo.\n",
      "INFO | 47484 | 2024-10-10 17:58:54,260 | root | File ZIP eliminato con successo.\n",
      "INFO | 47484 | 2024-10-10 17:58:54,260 | root | File ZIP eliminato con successo.\n",
      "INFO | 47484 | 2024-10-10 17:58:54,260 | root | File ZIP eliminato con successo.\n",
      "INFO | 47484 | 2024-10-10 17:58:54,260 | root | File ZIP eliminato con successo.\n",
      "INFO | 47484 | 2024-10-10 17:58:54,260 | root | File ZIP eliminato con successo.\n",
      "INFO | 47484 | 2024-10-10 17:58:54,263 | root | Creazione della cartella per i dati del censimento in /home/max/Desktop/census_tutorial/preprocessing\n",
      "INFO | 47484 | 2024-10-10 17:58:54,263 | root | Creazione della cartella per i dati del censimento in /home/max/Desktop/census_tutorial/preprocessing\n",
      "INFO | 47484 | 2024-10-10 17:58:54,263 | root | Creazione della cartella per i dati del censimento in /home/max/Desktop/census_tutorial/preprocessing\n",
      "INFO | 47484 | 2024-10-10 17:58:54,263 | root | Creazione della cartella per i dati del censimento in /home/max/Desktop/census_tutorial/preprocessing\n",
      "INFO | 47484 | 2024-10-10 17:58:54,263 | root | Creazione della cartella per i dati del censimento in /home/max/Desktop/census_tutorial/preprocessing\n",
      "INFO | 47484 | 2024-10-10 17:58:54,263 | root | Creazione della cartella per i dati del censimento in /home/max/Desktop/census_tutorial/preprocessing\n",
      "INFO | 47484 | 2024-10-10 17:58:54,263 | root | Creazione della cartella per i dati del censimento in /home/max/Desktop/census_tutorial/preprocessing\n",
      "INFO | 47484 | 2024-10-10 17:58:54,263 | root | Creazione della cartella per i dati del censimento in /home/max/Desktop/census_tutorial/preprocessing\n",
      "INFO | 47484 | 2024-10-10 17:58:54,266 | root | Creazione della cartella per i dati del censimento 2001.\n",
      "INFO | 47484 | 2024-10-10 17:58:54,266 | root | Creazione della cartella per i dati del censimento 2001.\n",
      "INFO | 47484 | 2024-10-10 17:58:54,266 | root | Creazione della cartella per i dati del censimento 2001.\n",
      "INFO | 47484 | 2024-10-10 17:58:54,266 | root | Creazione della cartella per i dati del censimento 2001.\n",
      "INFO | 47484 | 2024-10-10 17:58:54,266 | root | Creazione della cartella per i dati del censimento 2001.\n",
      "INFO | 47484 | 2024-10-10 17:58:54,266 | root | Creazione della cartella per i dati del censimento 2001.\n",
      "INFO | 47484 | 2024-10-10 17:58:54,266 | root | Creazione della cartella per i dati del censimento 2001.\n",
      "INFO | 47484 | 2024-10-10 17:58:54,266 | root | Creazione della cartella per i dati del censimento 2001.\n",
      "INFO | 47484 | 2024-10-10 17:58:54,269 | root | Cartella creata o già esistente: /home/max/Desktop/census_tutorial/preprocessing/census_2001\n",
      "INFO | 47484 | 2024-10-10 17:58:54,269 | root | Cartella creata o già esistente: /home/max/Desktop/census_tutorial/preprocessing/census_2001\n",
      "INFO | 47484 | 2024-10-10 17:58:54,269 | root | Cartella creata o già esistente: /home/max/Desktop/census_tutorial/preprocessing/census_2001\n",
      "INFO | 47484 | 2024-10-10 17:58:54,269 | root | Cartella creata o già esistente: /home/max/Desktop/census_tutorial/preprocessing/census_2001\n",
      "INFO | 47484 | 2024-10-10 17:58:54,269 | root | Cartella creata o già esistente: /home/max/Desktop/census_tutorial/preprocessing/census_2001\n",
      "INFO | 47484 | 2024-10-10 17:58:54,269 | root | Cartella creata o già esistente: /home/max/Desktop/census_tutorial/preprocessing/census_2001\n",
      "INFO | 47484 | 2024-10-10 17:58:54,269 | root | Cartella creata o già esistente: /home/max/Desktop/census_tutorial/preprocessing/census_2001\n",
      "INFO | 47484 | 2024-10-10 17:58:54,269 | root | Cartella creata o già esistente: /home/max/Desktop/census_tutorial/preprocessing/census_2001\n",
      "INFO | 47484 | 2024-10-10 17:58:54,271 | root | Scaricamento dei confini amministrativi da https://www.istat.it/storage/cartografia/confini_amministrativi/non_generalizzati/Limiti2001.zip\n",
      "INFO | 47484 | 2024-10-10 17:58:54,271 | root | Scaricamento dei confini amministrativi da https://www.istat.it/storage/cartografia/confini_amministrativi/non_generalizzati/Limiti2001.zip\n",
      "INFO | 47484 | 2024-10-10 17:58:54,271 | root | Scaricamento dei confini amministrativi da https://www.istat.it/storage/cartografia/confini_amministrativi/non_generalizzati/Limiti2001.zip\n",
      "INFO | 47484 | 2024-10-10 17:58:54,271 | root | Scaricamento dei confini amministrativi da https://www.istat.it/storage/cartografia/confini_amministrativi/non_generalizzati/Limiti2001.zip\n",
      "INFO | 47484 | 2024-10-10 17:58:54,271 | root | Scaricamento dei confini amministrativi da https://www.istat.it/storage/cartografia/confini_amministrativi/non_generalizzati/Limiti2001.zip\n",
      "INFO | 47484 | 2024-10-10 17:58:54,271 | root | Scaricamento dei confini amministrativi da https://www.istat.it/storage/cartografia/confini_amministrativi/non_generalizzati/Limiti2001.zip\n",
      "INFO | 47484 | 2024-10-10 17:58:54,271 | root | Scaricamento dei confini amministrativi da https://www.istat.it/storage/cartografia/confini_amministrativi/non_generalizzati/Limiti2001.zip\n",
      "INFO | 47484 | 2024-10-10 17:58:54,271 | root | Scaricamento dei confini amministrativi da https://www.istat.it/storage/cartografia/confini_amministrativi/non_generalizzati/Limiti2001.zip\n",
      "INFO | 47484 | 2024-10-10 17:58:54,272 | root | Inizio download dei dati dal link: https://www.istat.it/storage/cartografia/confini_amministrativi/non_generalizzati/Limiti2001.zip\n",
      "INFO | 47484 | 2024-10-10 17:58:54,272 | root | Inizio download dei dati dal link: https://www.istat.it/storage/cartografia/confini_amministrativi/non_generalizzati/Limiti2001.zip\n",
      "INFO | 47484 | 2024-10-10 17:58:54,272 | root | Inizio download dei dati dal link: https://www.istat.it/storage/cartografia/confini_amministrativi/non_generalizzati/Limiti2001.zip\n",
      "INFO | 47484 | 2024-10-10 17:58:54,272 | root | Inizio download dei dati dal link: https://www.istat.it/storage/cartografia/confini_amministrativi/non_generalizzati/Limiti2001.zip\n",
      "INFO | 47484 | 2024-10-10 17:58:54,272 | root | Inizio download dei dati dal link: https://www.istat.it/storage/cartografia/confini_amministrativi/non_generalizzati/Limiti2001.zip\n",
      "INFO | 47484 | 2024-10-10 17:58:54,272 | root | Inizio download dei dati dal link: https://www.istat.it/storage/cartografia/confini_amministrativi/non_generalizzati/Limiti2001.zip\n",
      "INFO | 47484 | 2024-10-10 17:58:54,272 | root | Inizio download dei dati dal link: https://www.istat.it/storage/cartografia/confini_amministrativi/non_generalizzati/Limiti2001.zip\n",
      "INFO | 47484 | 2024-10-10 17:58:54,272 | root | Inizio download dei dati dal link: https://www.istat.it/storage/cartografia/confini_amministrativi/non_generalizzati/Limiti2001.zip\n"
     ]
    },
    {
     "name": "stderr",
     "output_type": "stream",
     "text": [
      "In download...: 100%|██████████| 73.2M/73.2M [00:09<00:00, 8.15MB/s]"
     ]
    },
    {
     "name": "stdout",
     "output_type": "stream",
     "text": [
      "INFO | 47484 | 2024-10-10 17:59:03,793 | root | Download completato con successo in 9.52 secondi.\n",
      "INFO | 47484 | 2024-10-10 17:59:03,793 | root | Download completato con successo in 9.52 secondi.\n",
      "INFO | 47484 | 2024-10-10 17:59:03,793 | root | Download completato con successo in 9.52 secondi.\n",
      "INFO | 47484 | 2024-10-10 17:59:03,793 | root | Download completato con successo in 9.52 secondi.\n",
      "INFO | 47484 | 2024-10-10 17:59:03,793 | root | Download completato con successo in 9.52 secondi.\n",
      "INFO | 47484 | 2024-10-10 17:59:03,793 | root | Download completato con successo in 9.52 secondi.\n",
      "INFO | 47484 | 2024-10-10 17:59:03,793 | root | Download completato con successo in 9.52 secondi.\n",
      "INFO | 47484 | 2024-10-10 17:59:03,793 | root | Download completato con successo in 9.52 secondi.\n",
      "INFO | 47484 | 2024-10-10 17:59:03,795 | root | Inizio estrazione del file ZIP.\n",
      "INFO | 47484 | 2024-10-10 17:59:03,795 | root | Inizio estrazione del file ZIP.\n",
      "INFO | 47484 | 2024-10-10 17:59:03,795 | root | Inizio estrazione del file ZIP.\n",
      "INFO | 47484 | 2024-10-10 17:59:03,795 | root | Inizio estrazione del file ZIP.\n",
      "INFO | 47484 | 2024-10-10 17:59:03,795 | root | Inizio estrazione del file ZIP.\n",
      "INFO | 47484 | 2024-10-10 17:59:03,795 | root | Inizio estrazione del file ZIP.\n",
      "INFO | 47484 | 2024-10-10 17:59:03,795 | root | Inizio estrazione del file ZIP.\n",
      "INFO | 47484 | 2024-10-10 17:59:03,795 | root | Inizio estrazione del file ZIP.\n",
      "INFO | 47484 | 2024-10-10 17:59:03,798 | root | Decompressione del file /home/max/Desktop/census_tutorial/preprocessing/census_2001/administrative_boundaries/Limiti2001.zip nella cartella /home/max/Desktop/census_tutorial/preprocessing/census_2001/administrative_boundaries.\n",
      "INFO | 47484 | 2024-10-10 17:59:03,798 | root | Decompressione del file /home/max/Desktop/census_tutorial/preprocessing/census_2001/administrative_boundaries/Limiti2001.zip nella cartella /home/max/Desktop/census_tutorial/preprocessing/census_2001/administrative_boundaries.\n",
      "INFO | 47484 | 2024-10-10 17:59:03,798 | root | Decompressione del file /home/max/Desktop/census_tutorial/preprocessing/census_2001/administrative_boundaries/Limiti2001.zip nella cartella /home/max/Desktop/census_tutorial/preprocessing/census_2001/administrative_boundaries.\n",
      "INFO | 47484 | 2024-10-10 17:59:03,798 | root | Decompressione del file /home/max/Desktop/census_tutorial/preprocessing/census_2001/administrative_boundaries/Limiti2001.zip nella cartella /home/max/Desktop/census_tutorial/preprocessing/census_2001/administrative_boundaries.\n",
      "INFO | 47484 | 2024-10-10 17:59:03,798 | root | Decompressione del file /home/max/Desktop/census_tutorial/preprocessing/census_2001/administrative_boundaries/Limiti2001.zip nella cartella /home/max/Desktop/census_tutorial/preprocessing/census_2001/administrative_boundaries.\n",
      "INFO | 47484 | 2024-10-10 17:59:03,798 | root | Decompressione del file /home/max/Desktop/census_tutorial/preprocessing/census_2001/administrative_boundaries/Limiti2001.zip nella cartella /home/max/Desktop/census_tutorial/preprocessing/census_2001/administrative_boundaries.\n",
      "INFO | 47484 | 2024-10-10 17:59:03,798 | root | Decompressione del file /home/max/Desktop/census_tutorial/preprocessing/census_2001/administrative_boundaries/Limiti2001.zip nella cartella /home/max/Desktop/census_tutorial/preprocessing/census_2001/administrative_boundaries.\n",
      "INFO | 47484 | 2024-10-10 17:59:03,798 | root | Decompressione del file /home/max/Desktop/census_tutorial/preprocessing/census_2001/administrative_boundaries/Limiti2001.zip nella cartella /home/max/Desktop/census_tutorial/preprocessing/census_2001/administrative_boundaries.\n"
     ]
    },
    {
     "name": "stderr",
     "output_type": "stream",
     "text": [
      "\n"
     ]
    },
    {
     "name": "stdout",
     "output_type": "stream",
     "text": [
      "INFO | 47484 | 2024-10-10 17:59:04,452 | root | Decompressione completata. File estratti in /home/max/Desktop/census_tutorial/preprocessing/census_2001/administrative_boundaries.\n",
      "INFO | 47484 | 2024-10-10 17:59:04,452 | root | Decompressione completata. File estratti in /home/max/Desktop/census_tutorial/preprocessing/census_2001/administrative_boundaries.\n",
      "INFO | 47484 | 2024-10-10 17:59:04,452 | root | Decompressione completata. File estratti in /home/max/Desktop/census_tutorial/preprocessing/census_2001/administrative_boundaries.\n",
      "INFO | 47484 | 2024-10-10 17:59:04,452 | root | Decompressione completata. File estratti in /home/max/Desktop/census_tutorial/preprocessing/census_2001/administrative_boundaries.\n",
      "INFO | 47484 | 2024-10-10 17:59:04,452 | root | Decompressione completata. File estratti in /home/max/Desktop/census_tutorial/preprocessing/census_2001/administrative_boundaries.\n",
      "INFO | 47484 | 2024-10-10 17:59:04,452 | root | Decompressione completata. File estratti in /home/max/Desktop/census_tutorial/preprocessing/census_2001/administrative_boundaries.\n",
      "INFO | 47484 | 2024-10-10 17:59:04,452 | root | Decompressione completata. File estratti in /home/max/Desktop/census_tutorial/preprocessing/census_2001/administrative_boundaries.\n",
      "INFO | 47484 | 2024-10-10 17:59:04,452 | root | Decompressione completata. File estratti in /home/max/Desktop/census_tutorial/preprocessing/census_2001/administrative_boundaries.\n",
      "INFO | 47484 | 2024-10-10 17:59:04,454 | root | Eliminazione del file ZIP | /home/max/Desktop/census_tutorial/preprocessing/census_2001/administrative_boundaries/Limiti2001.zip\n",
      "INFO | 47484 | 2024-10-10 17:59:04,454 | root | Eliminazione del file ZIP | /home/max/Desktop/census_tutorial/preprocessing/census_2001/administrative_boundaries/Limiti2001.zip\n",
      "INFO | 47484 | 2024-10-10 17:59:04,454 | root | Eliminazione del file ZIP | /home/max/Desktop/census_tutorial/preprocessing/census_2001/administrative_boundaries/Limiti2001.zip\n",
      "INFO | 47484 | 2024-10-10 17:59:04,454 | root | Eliminazione del file ZIP | /home/max/Desktop/census_tutorial/preprocessing/census_2001/administrative_boundaries/Limiti2001.zip\n",
      "INFO | 47484 | 2024-10-10 17:59:04,454 | root | Eliminazione del file ZIP | /home/max/Desktop/census_tutorial/preprocessing/census_2001/administrative_boundaries/Limiti2001.zip\n",
      "INFO | 47484 | 2024-10-10 17:59:04,454 | root | Eliminazione del file ZIP | /home/max/Desktop/census_tutorial/preprocessing/census_2001/administrative_boundaries/Limiti2001.zip\n",
      "INFO | 47484 | 2024-10-10 17:59:04,454 | root | Eliminazione del file ZIP | /home/max/Desktop/census_tutorial/preprocessing/census_2001/administrative_boundaries/Limiti2001.zip\n",
      "INFO | 47484 | 2024-10-10 17:59:04,454 | root | Eliminazione del file ZIP | /home/max/Desktop/census_tutorial/preprocessing/census_2001/administrative_boundaries/Limiti2001.zip\n",
      "INFO | 47484 | 2024-10-10 17:59:04,465 | root | File ZIP eliminato con successo.\n",
      "INFO | 47484 | 2024-10-10 17:59:04,465 | root | File ZIP eliminato con successo.\n",
      "INFO | 47484 | 2024-10-10 17:59:04,465 | root | File ZIP eliminato con successo.\n",
      "INFO | 47484 | 2024-10-10 17:59:04,465 | root | File ZIP eliminato con successo.\n",
      "INFO | 47484 | 2024-10-10 17:59:04,465 | root | File ZIP eliminato con successo.\n",
      "INFO | 47484 | 2024-10-10 17:59:04,465 | root | File ZIP eliminato con successo.\n",
      "INFO | 47484 | 2024-10-10 17:59:04,465 | root | File ZIP eliminato con successo.\n",
      "INFO | 47484 | 2024-10-10 17:59:04,465 | root | File ZIP eliminato con successo.\n",
      "INFO | 47484 | 2024-10-10 17:59:04,468 | root | Download dei confini amministrativi completato e salvato in /home/max/Desktop/census_tutorial/preprocessing/census_2001\n",
      "INFO | 47484 | 2024-10-10 17:59:04,468 | root | Download dei confini amministrativi completato e salvato in /home/max/Desktop/census_tutorial/preprocessing/census_2001\n",
      "INFO | 47484 | 2024-10-10 17:59:04,468 | root | Download dei confini amministrativi completato e salvato in /home/max/Desktop/census_tutorial/preprocessing/census_2001\n",
      "INFO | 47484 | 2024-10-10 17:59:04,468 | root | Download dei confini amministrativi completato e salvato in /home/max/Desktop/census_tutorial/preprocessing/census_2001\n",
      "INFO | 47484 | 2024-10-10 17:59:04,468 | root | Download dei confini amministrativi completato e salvato in /home/max/Desktop/census_tutorial/preprocessing/census_2001\n",
      "INFO | 47484 | 2024-10-10 17:59:04,468 | root | Download dei confini amministrativi completato e salvato in /home/max/Desktop/census_tutorial/preprocessing/census_2001\n",
      "INFO | 47484 | 2024-10-10 17:59:04,468 | root | Download dei confini amministrativi completato e salvato in /home/max/Desktop/census_tutorial/preprocessing/census_2001\n",
      "INFO | 47484 | 2024-10-10 17:59:04,468 | root | Download dei confini amministrativi completato e salvato in /home/max/Desktop/census_tutorial/preprocessing/census_2001\n",
      "INFO | 47484 | 2024-10-10 17:59:04,471 | root | Scarico i dati per il censimento del 2011\n",
      "INFO | 47484 | 2024-10-10 17:59:04,471 | root | Scarico i dati per il censimento del 2011\n",
      "INFO | 47484 | 2024-10-10 17:59:04,471 | root | Scarico i dati per il censimento del 2011\n",
      "INFO | 47484 | 2024-10-10 17:59:04,471 | root | Scarico i dati per il censimento del 2011\n",
      "INFO | 47484 | 2024-10-10 17:59:04,471 | root | Scarico i dati per il censimento del 2011\n",
      "INFO | 47484 | 2024-10-10 17:59:04,471 | root | Scarico i dati per il censimento del 2011\n",
      "INFO | 47484 | 2024-10-10 17:59:04,471 | root | Scarico i dati per il censimento del 2011\n",
      "INFO | 47484 | 2024-10-10 17:59:04,471 | root | Scarico i dati per il censimento del 2011\n",
      "INFO | 47484 | 2024-10-10 17:59:04,475 | root | Creazione della cartella di destinazione per i dati in /home/max/Desktop/census_tutorial/preprocessing\n",
      "INFO | 47484 | 2024-10-10 17:59:04,475 | root | Creazione della cartella di destinazione per i dati in /home/max/Desktop/census_tutorial/preprocessing\n",
      "INFO | 47484 | 2024-10-10 17:59:04,475 | root | Creazione della cartella di destinazione per i dati in /home/max/Desktop/census_tutorial/preprocessing\n",
      "INFO | 47484 | 2024-10-10 17:59:04,475 | root | Creazione della cartella di destinazione per i dati in /home/max/Desktop/census_tutorial/preprocessing\n",
      "INFO | 47484 | 2024-10-10 17:59:04,475 | root | Creazione della cartella di destinazione per i dati in /home/max/Desktop/census_tutorial/preprocessing\n",
      "INFO | 47484 | 2024-10-10 17:59:04,475 | root | Creazione della cartella di destinazione per i dati in /home/max/Desktop/census_tutorial/preprocessing\n",
      "INFO | 47484 | 2024-10-10 17:59:04,475 | root | Creazione della cartella di destinazione per i dati in /home/max/Desktop/census_tutorial/preprocessing\n",
      "INFO | 47484 | 2024-10-10 17:59:04,475 | root | Creazione della cartella di destinazione per i dati in /home/max/Desktop/census_tutorial/preprocessing\n",
      "INFO | 47484 | 2024-10-10 17:59:04,477 | root | Creazione della cartella per i dati del censimento 2011.\n",
      "INFO | 47484 | 2024-10-10 17:59:04,477 | root | Creazione della cartella per i dati del censimento 2011.\n",
      "INFO | 47484 | 2024-10-10 17:59:04,477 | root | Creazione della cartella per i dati del censimento 2011.\n",
      "INFO | 47484 | 2024-10-10 17:59:04,477 | root | Creazione della cartella per i dati del censimento 2011.\n",
      "INFO | 47484 | 2024-10-10 17:59:04,477 | root | Creazione della cartella per i dati del censimento 2011.\n",
      "INFO | 47484 | 2024-10-10 17:59:04,477 | root | Creazione della cartella per i dati del censimento 2011.\n",
      "INFO | 47484 | 2024-10-10 17:59:04,477 | root | Creazione della cartella per i dati del censimento 2011.\n",
      "INFO | 47484 | 2024-10-10 17:59:04,477 | root | Creazione della cartella per i dati del censimento 2011.\n",
      "INFO | 47484 | 2024-10-10 17:59:04,481 | root | Cartella creata o già esistente: /home/max/Desktop/census_tutorial/preprocessing/census_2011\n",
      "INFO | 47484 | 2024-10-10 17:59:04,481 | root | Cartella creata o già esistente: /home/max/Desktop/census_tutorial/preprocessing/census_2011\n",
      "INFO | 47484 | 2024-10-10 17:59:04,481 | root | Cartella creata o già esistente: /home/max/Desktop/census_tutorial/preprocessing/census_2011\n",
      "INFO | 47484 | 2024-10-10 17:59:04,481 | root | Cartella creata o già esistente: /home/max/Desktop/census_tutorial/preprocessing/census_2011\n",
      "INFO | 47484 | 2024-10-10 17:59:04,481 | root | Cartella creata o già esistente: /home/max/Desktop/census_tutorial/preprocessing/census_2011\n",
      "INFO | 47484 | 2024-10-10 17:59:04,481 | root | Cartella creata o già esistente: /home/max/Desktop/census_tutorial/preprocessing/census_2011\n",
      "INFO | 47484 | 2024-10-10 17:59:04,481 | root | Cartella creata o già esistente: /home/max/Desktop/census_tutorial/preprocessing/census_2011\n",
      "INFO | 47484 | 2024-10-10 17:59:04,481 | root | Cartella creata o già esistente: /home/max/Desktop/census_tutorial/preprocessing/census_2011\n",
      "INFO | 47484 | 2024-10-10 17:59:04,486 | root | Download dei dati da https://www.istat.it/storage/cartografia/variabili-censuarie/dati-cpa_2011.zip\n",
      "INFO | 47484 | 2024-10-10 17:59:04,486 | root | Download dei dati da https://www.istat.it/storage/cartografia/variabili-censuarie/dati-cpa_2011.zip\n",
      "INFO | 47484 | 2024-10-10 17:59:04,486 | root | Download dei dati da https://www.istat.it/storage/cartografia/variabili-censuarie/dati-cpa_2011.zip\n",
      "INFO | 47484 | 2024-10-10 17:59:04,486 | root | Download dei dati da https://www.istat.it/storage/cartografia/variabili-censuarie/dati-cpa_2011.zip\n",
      "INFO | 47484 | 2024-10-10 17:59:04,486 | root | Download dei dati da https://www.istat.it/storage/cartografia/variabili-censuarie/dati-cpa_2011.zip\n",
      "INFO | 47484 | 2024-10-10 17:59:04,486 | root | Download dei dati da https://www.istat.it/storage/cartografia/variabili-censuarie/dati-cpa_2011.zip\n",
      "INFO | 47484 | 2024-10-10 17:59:04,486 | root | Download dei dati da https://www.istat.it/storage/cartografia/variabili-censuarie/dati-cpa_2011.zip\n",
      "INFO | 47484 | 2024-10-10 17:59:04,486 | root | Download dei dati da https://www.istat.it/storage/cartografia/variabili-censuarie/dati-cpa_2011.zip\n",
      "INFO | 47484 | 2024-10-10 17:59:04,488 | root | Inizio download dei dati dal link: https://www.istat.it/storage/cartografia/variabili-censuarie/dati-cpa_2011.zip\n",
      "INFO | 47484 | 2024-10-10 17:59:04,488 | root | Inizio download dei dati dal link: https://www.istat.it/storage/cartografia/variabili-censuarie/dati-cpa_2011.zip\n",
      "INFO | 47484 | 2024-10-10 17:59:04,488 | root | Inizio download dei dati dal link: https://www.istat.it/storage/cartografia/variabili-censuarie/dati-cpa_2011.zip\n",
      "INFO | 47484 | 2024-10-10 17:59:04,488 | root | Inizio download dei dati dal link: https://www.istat.it/storage/cartografia/variabili-censuarie/dati-cpa_2011.zip\n",
      "INFO | 47484 | 2024-10-10 17:59:04,488 | root | Inizio download dei dati dal link: https://www.istat.it/storage/cartografia/variabili-censuarie/dati-cpa_2011.zip\n",
      "INFO | 47484 | 2024-10-10 17:59:04,488 | root | Inizio download dei dati dal link: https://www.istat.it/storage/cartografia/variabili-censuarie/dati-cpa_2011.zip\n",
      "INFO | 47484 | 2024-10-10 17:59:04,488 | root | Inizio download dei dati dal link: https://www.istat.it/storage/cartografia/variabili-censuarie/dati-cpa_2011.zip\n",
      "INFO | 47484 | 2024-10-10 17:59:04,488 | root | Inizio download dei dati dal link: https://www.istat.it/storage/cartografia/variabili-censuarie/dati-cpa_2011.zip\n"
     ]
    },
    {
     "name": "stderr",
     "output_type": "stream",
     "text": [
      "In download...: 100%|██████████| 50.0M/50.0M [00:06<00:00, 8.03MB/s]"
     ]
    },
    {
     "name": "stdout",
     "output_type": "stream",
     "text": [
      "INFO | 47484 | 2024-10-10 17:59:11,130 | root | Download completato con successo in 6.64 secondi.\n",
      "INFO | 47484 | 2024-10-10 17:59:11,130 | root | Download completato con successo in 6.64 secondi.\n",
      "INFO | 47484 | 2024-10-10 17:59:11,130 | root | Download completato con successo in 6.64 secondi.\n",
      "INFO | 47484 | 2024-10-10 17:59:11,130 | root | Download completato con successo in 6.64 secondi.\n",
      "INFO | 47484 | 2024-10-10 17:59:11,130 | root | Download completato con successo in 6.64 secondi.\n",
      "INFO | 47484 | 2024-10-10 17:59:11,130 | root | Download completato con successo in 6.64 secondi.\n",
      "INFO | 47484 | 2024-10-10 17:59:11,130 | root | Download completato con successo in 6.64 secondi.\n",
      "INFO | 47484 | 2024-10-10 17:59:11,130 | root | Download completato con successo in 6.64 secondi.\n",
      "INFO | 47484 | 2024-10-10 17:59:11,133 | root | Inizio estrazione del file ZIP.\n",
      "INFO | 47484 | 2024-10-10 17:59:11,133 | root | Inizio estrazione del file ZIP.\n",
      "INFO | 47484 | 2024-10-10 17:59:11,133 | root | Inizio estrazione del file ZIP.\n",
      "INFO | 47484 | 2024-10-10 17:59:11,133 | root | Inizio estrazione del file ZIP.\n",
      "INFO | 47484 | 2024-10-10 17:59:11,133 | root | Inizio estrazione del file ZIP.\n",
      "INFO | 47484 | 2024-10-10 17:59:11,133 | root | Inizio estrazione del file ZIP.\n",
      "INFO | 47484 | 2024-10-10 17:59:11,133 | root | Inizio estrazione del file ZIP.\n",
      "INFO | 47484 | 2024-10-10 17:59:11,133 | root | Inizio estrazione del file ZIP.\n",
      "INFO | 47484 | 2024-10-10 17:59:11,136 | root | Decompressione del file /home/max/Desktop/census_tutorial/preprocessing/census_2011/data/dati-cpa_2011.zip nella cartella /home/max/Desktop/census_tutorial/preprocessing/census_2011/data.\n",
      "INFO | 47484 | 2024-10-10 17:59:11,136 | root | Decompressione del file /home/max/Desktop/census_tutorial/preprocessing/census_2011/data/dati-cpa_2011.zip nella cartella /home/max/Desktop/census_tutorial/preprocessing/census_2011/data.\n",
      "INFO | 47484 | 2024-10-10 17:59:11,136 | root | Decompressione del file /home/max/Desktop/census_tutorial/preprocessing/census_2011/data/dati-cpa_2011.zip nella cartella /home/max/Desktop/census_tutorial/preprocessing/census_2011/data.\n",
      "INFO | 47484 | 2024-10-10 17:59:11,136 | root | Decompressione del file /home/max/Desktop/census_tutorial/preprocessing/census_2011/data/dati-cpa_2011.zip nella cartella /home/max/Desktop/census_tutorial/preprocessing/census_2011/data.\n",
      "INFO | 47484 | 2024-10-10 17:59:11,136 | root | Decompressione del file /home/max/Desktop/census_tutorial/preprocessing/census_2011/data/dati-cpa_2011.zip nella cartella /home/max/Desktop/census_tutorial/preprocessing/census_2011/data.\n",
      "INFO | 47484 | 2024-10-10 17:59:11,136 | root | Decompressione del file /home/max/Desktop/census_tutorial/preprocessing/census_2011/data/dati-cpa_2011.zip nella cartella /home/max/Desktop/census_tutorial/preprocessing/census_2011/data.\n",
      "INFO | 47484 | 2024-10-10 17:59:11,136 | root | Decompressione del file /home/max/Desktop/census_tutorial/preprocessing/census_2011/data/dati-cpa_2011.zip nella cartella /home/max/Desktop/census_tutorial/preprocessing/census_2011/data.\n",
      "INFO | 47484 | 2024-10-10 17:59:11,136 | root | Decompressione del file /home/max/Desktop/census_tutorial/preprocessing/census_2011/data/dati-cpa_2011.zip nella cartella /home/max/Desktop/census_tutorial/preprocessing/census_2011/data.\n"
     ]
    },
    {
     "name": "stderr",
     "output_type": "stream",
     "text": [
      "\n"
     ]
    },
    {
     "name": "stdout",
     "output_type": "stream",
     "text": [
      "INFO | 47484 | 2024-10-10 17:59:11,873 | root | Decompressione completata. File estratti in /home/max/Desktop/census_tutorial/preprocessing/census_2011/data.\n",
      "INFO | 47484 | 2024-10-10 17:59:11,873 | root | Decompressione completata. File estratti in /home/max/Desktop/census_tutorial/preprocessing/census_2011/data.\n",
      "INFO | 47484 | 2024-10-10 17:59:11,873 | root | Decompressione completata. File estratti in /home/max/Desktop/census_tutorial/preprocessing/census_2011/data.\n",
      "INFO | 47484 | 2024-10-10 17:59:11,873 | root | Decompressione completata. File estratti in /home/max/Desktop/census_tutorial/preprocessing/census_2011/data.\n",
      "INFO | 47484 | 2024-10-10 17:59:11,873 | root | Decompressione completata. File estratti in /home/max/Desktop/census_tutorial/preprocessing/census_2011/data.\n",
      "INFO | 47484 | 2024-10-10 17:59:11,873 | root | Decompressione completata. File estratti in /home/max/Desktop/census_tutorial/preprocessing/census_2011/data.\n",
      "INFO | 47484 | 2024-10-10 17:59:11,873 | root | Decompressione completata. File estratti in /home/max/Desktop/census_tutorial/preprocessing/census_2011/data.\n",
      "INFO | 47484 | 2024-10-10 17:59:11,873 | root | Decompressione completata. File estratti in /home/max/Desktop/census_tutorial/preprocessing/census_2011/data.\n",
      "INFO | 47484 | 2024-10-10 17:59:11,875 | root | Eliminazione del file ZIP | /home/max/Desktop/census_tutorial/preprocessing/census_2011/data/dati-cpa_2011.zip\n",
      "INFO | 47484 | 2024-10-10 17:59:11,875 | root | Eliminazione del file ZIP | /home/max/Desktop/census_tutorial/preprocessing/census_2011/data/dati-cpa_2011.zip\n",
      "INFO | 47484 | 2024-10-10 17:59:11,875 | root | Eliminazione del file ZIP | /home/max/Desktop/census_tutorial/preprocessing/census_2011/data/dati-cpa_2011.zip\n",
      "INFO | 47484 | 2024-10-10 17:59:11,875 | root | Eliminazione del file ZIP | /home/max/Desktop/census_tutorial/preprocessing/census_2011/data/dati-cpa_2011.zip\n",
      "INFO | 47484 | 2024-10-10 17:59:11,875 | root | Eliminazione del file ZIP | /home/max/Desktop/census_tutorial/preprocessing/census_2011/data/dati-cpa_2011.zip\n",
      "INFO | 47484 | 2024-10-10 17:59:11,875 | root | Eliminazione del file ZIP | /home/max/Desktop/census_tutorial/preprocessing/census_2011/data/dati-cpa_2011.zip\n",
      "INFO | 47484 | 2024-10-10 17:59:11,875 | root | Eliminazione del file ZIP | /home/max/Desktop/census_tutorial/preprocessing/census_2011/data/dati-cpa_2011.zip\n",
      "INFO | 47484 | 2024-10-10 17:59:11,875 | root | Eliminazione del file ZIP | /home/max/Desktop/census_tutorial/preprocessing/census_2011/data/dati-cpa_2011.zip\n",
      "INFO | 47484 | 2024-10-10 17:59:11,882 | root | File ZIP eliminato con successo.\n",
      "INFO | 47484 | 2024-10-10 17:59:11,882 | root | File ZIP eliminato con successo.\n",
      "INFO | 47484 | 2024-10-10 17:59:11,882 | root | File ZIP eliminato con successo.\n",
      "INFO | 47484 | 2024-10-10 17:59:11,882 | root | File ZIP eliminato con successo.\n",
      "INFO | 47484 | 2024-10-10 17:59:11,882 | root | File ZIP eliminato con successo.\n",
      "INFO | 47484 | 2024-10-10 17:59:11,882 | root | File ZIP eliminato con successo.\n",
      "INFO | 47484 | 2024-10-10 17:59:11,882 | root | File ZIP eliminato con successo.\n",
      "INFO | 47484 | 2024-10-10 17:59:11,882 | root | File ZIP eliminato con successo.\n",
      "INFO | 47484 | 2024-10-10 17:59:11,884 | root | Download dei dati censuari completato e salvato in /home/max/Desktop/census_tutorial/preprocessing/census_2011\n",
      "INFO | 47484 | 2024-10-10 17:59:11,884 | root | Download dei dati censuari completato e salvato in /home/max/Desktop/census_tutorial/preprocessing/census_2011\n",
      "INFO | 47484 | 2024-10-10 17:59:11,884 | root | Download dei dati censuari completato e salvato in /home/max/Desktop/census_tutorial/preprocessing/census_2011\n",
      "INFO | 47484 | 2024-10-10 17:59:11,884 | root | Download dei dati censuari completato e salvato in /home/max/Desktop/census_tutorial/preprocessing/census_2011\n",
      "INFO | 47484 | 2024-10-10 17:59:11,884 | root | Download dei dati censuari completato e salvato in /home/max/Desktop/census_tutorial/preprocessing/census_2011\n",
      "INFO | 47484 | 2024-10-10 17:59:11,884 | root | Download dei dati censuari completato e salvato in /home/max/Desktop/census_tutorial/preprocessing/census_2011\n",
      "INFO | 47484 | 2024-10-10 17:59:11,884 | root | Download dei dati censuari completato e salvato in /home/max/Desktop/census_tutorial/preprocessing/census_2011\n",
      "INFO | 47484 | 2024-10-10 17:59:11,884 | root | Download dei dati censuari completato e salvato in /home/max/Desktop/census_tutorial/preprocessing/census_2011\n",
      "INFO | 47484 | 2024-10-10 17:59:11,885 | root | Creazione della cartella per i dati del censimento 2011.\n",
      "INFO | 47484 | 2024-10-10 17:59:11,885 | root | Creazione della cartella per i dati del censimento 2011.\n",
      "INFO | 47484 | 2024-10-10 17:59:11,885 | root | Creazione della cartella per i dati del censimento 2011.\n",
      "INFO | 47484 | 2024-10-10 17:59:11,885 | root | Creazione della cartella per i dati del censimento 2011.\n",
      "INFO | 47484 | 2024-10-10 17:59:11,885 | root | Creazione della cartella per i dati del censimento 2011.\n",
      "INFO | 47484 | 2024-10-10 17:59:11,885 | root | Creazione della cartella per i dati del censimento 2011.\n",
      "INFO | 47484 | 2024-10-10 17:59:11,885 | root | Creazione della cartella per i dati del censimento 2011.\n",
      "INFO | 47484 | 2024-10-10 17:59:11,885 | root | Creazione della cartella per i dati del censimento 2011.\n",
      "INFO | 47484 | 2024-10-10 17:59:11,888 | root | Cartella creata o già esistente: /home/max/Desktop/census_tutorial/preprocessing/census_2011\n",
      "INFO | 47484 | 2024-10-10 17:59:11,888 | root | Cartella creata o già esistente: /home/max/Desktop/census_tutorial/preprocessing/census_2011\n",
      "INFO | 47484 | 2024-10-10 17:59:11,888 | root | Cartella creata o già esistente: /home/max/Desktop/census_tutorial/preprocessing/census_2011\n",
      "INFO | 47484 | 2024-10-10 17:59:11,888 | root | Cartella creata o già esistente: /home/max/Desktop/census_tutorial/preprocessing/census_2011\n",
      "INFO | 47484 | 2024-10-10 17:59:11,888 | root | Cartella creata o già esistente: /home/max/Desktop/census_tutorial/preprocessing/census_2011\n",
      "INFO | 47484 | 2024-10-10 17:59:11,888 | root | Cartella creata o già esistente: /home/max/Desktop/census_tutorial/preprocessing/census_2011\n",
      "INFO | 47484 | 2024-10-10 17:59:11,888 | root | Cartella creata o già esistente: /home/max/Desktop/census_tutorial/preprocessing/census_2011\n",
      "INFO | 47484 | 2024-10-10 17:59:11,888 | root | Cartella creata o già esistente: /home/max/Desktop/census_tutorial/preprocessing/census_2011\n",
      "INFO | 47484 | 2024-10-10 17:59:11,890 | root | Percorso del file di destinazione: /home/max/Desktop/census_tutorial/preprocessing/census_2011/geodata/R15_11_WGS84.zip\n",
      "INFO | 47484 | 2024-10-10 17:59:11,890 | root | Percorso del file di destinazione: /home/max/Desktop/census_tutorial/preprocessing/census_2011/geodata/R15_11_WGS84.zip\n",
      "INFO | 47484 | 2024-10-10 17:59:11,890 | root | Percorso del file di destinazione: /home/max/Desktop/census_tutorial/preprocessing/census_2011/geodata/R15_11_WGS84.zip\n",
      "INFO | 47484 | 2024-10-10 17:59:11,890 | root | Percorso del file di destinazione: /home/max/Desktop/census_tutorial/preprocessing/census_2011/geodata/R15_11_WGS84.zip\n",
      "INFO | 47484 | 2024-10-10 17:59:11,890 | root | Percorso del file di destinazione: /home/max/Desktop/census_tutorial/preprocessing/census_2011/geodata/R15_11_WGS84.zip\n",
      "INFO | 47484 | 2024-10-10 17:59:11,890 | root | Percorso del file di destinazione: /home/max/Desktop/census_tutorial/preprocessing/census_2011/geodata/R15_11_WGS84.zip\n",
      "INFO | 47484 | 2024-10-10 17:59:11,890 | root | Percorso del file di destinazione: /home/max/Desktop/census_tutorial/preprocessing/census_2011/geodata/R15_11_WGS84.zip\n",
      "INFO | 47484 | 2024-10-10 17:59:11,890 | root | Percorso del file di destinazione: /home/max/Desktop/census_tutorial/preprocessing/census_2011/geodata/R15_11_WGS84.zip\n",
      "INFO | 47484 | 2024-10-10 17:59:11,893 | root | Inizio download dei dati dal link: https://www.istat.it/storage/cartografia/basi_territoriali/WGS_84_UTM/2011/R15_11_WGS84.zip\n",
      "INFO | 47484 | 2024-10-10 17:59:11,893 | root | Inizio download dei dati dal link: https://www.istat.it/storage/cartografia/basi_territoriali/WGS_84_UTM/2011/R15_11_WGS84.zip\n",
      "INFO | 47484 | 2024-10-10 17:59:11,893 | root | Inizio download dei dati dal link: https://www.istat.it/storage/cartografia/basi_territoriali/WGS_84_UTM/2011/R15_11_WGS84.zip\n",
      "INFO | 47484 | 2024-10-10 17:59:11,893 | root | Inizio download dei dati dal link: https://www.istat.it/storage/cartografia/basi_territoriali/WGS_84_UTM/2011/R15_11_WGS84.zip\n",
      "INFO | 47484 | 2024-10-10 17:59:11,893 | root | Inizio download dei dati dal link: https://www.istat.it/storage/cartografia/basi_territoriali/WGS_84_UTM/2011/R15_11_WGS84.zip\n",
      "INFO | 47484 | 2024-10-10 17:59:11,893 | root | Inizio download dei dati dal link: https://www.istat.it/storage/cartografia/basi_territoriali/WGS_84_UTM/2011/R15_11_WGS84.zip\n",
      "INFO | 47484 | 2024-10-10 17:59:11,893 | root | Inizio download dei dati dal link: https://www.istat.it/storage/cartografia/basi_territoriali/WGS_84_UTM/2011/R15_11_WGS84.zip\n",
      "INFO | 47484 | 2024-10-10 17:59:11,893 | root | Inizio download dei dati dal link: https://www.istat.it/storage/cartografia/basi_territoriali/WGS_84_UTM/2011/R15_11_WGS84.zip\n"
     ]
    },
    {
     "name": "stderr",
     "output_type": "stream",
     "text": [
      "In download...: 100%|██████████| 20.9M/20.9M [00:02<00:00, 9.01MB/s]"
     ]
    },
    {
     "name": "stdout",
     "output_type": "stream",
     "text": [
      "INFO | 47484 | 2024-10-10 17:59:14,432 | root | Download completato con successo in 2.54 secondi.\n",
      "INFO | 47484 | 2024-10-10 17:59:14,432 | root | Download completato con successo in 2.54 secondi.\n",
      "INFO | 47484 | 2024-10-10 17:59:14,432 | root | Download completato con successo in 2.54 secondi.\n",
      "INFO | 47484 | 2024-10-10 17:59:14,432 | root | Download completato con successo in 2.54 secondi.\n",
      "INFO | 47484 | 2024-10-10 17:59:14,432 | root | Download completato con successo in 2.54 secondi.\n",
      "INFO | 47484 | 2024-10-10 17:59:14,432 | root | Download completato con successo in 2.54 secondi.\n",
      "INFO | 47484 | 2024-10-10 17:59:14,432 | root | Download completato con successo in 2.54 secondi.\n",
      "INFO | 47484 | 2024-10-10 17:59:14,432 | root | Download completato con successo in 2.54 secondi.\n",
      "INFO | 47484 | 2024-10-10 17:59:14,436 | root | Inizio estrazione del file ZIP.\n",
      "INFO | 47484 | 2024-10-10 17:59:14,436 | root | Inizio estrazione del file ZIP.\n",
      "INFO | 47484 | 2024-10-10 17:59:14,436 | root | Inizio estrazione del file ZIP.\n",
      "INFO | 47484 | 2024-10-10 17:59:14,436 | root | Inizio estrazione del file ZIP.\n",
      "INFO | 47484 | 2024-10-10 17:59:14,436 | root | Inizio estrazione del file ZIP.\n",
      "INFO | 47484 | 2024-10-10 17:59:14,436 | root | Inizio estrazione del file ZIP.\n",
      "INFO | 47484 | 2024-10-10 17:59:14,436 | root | Inizio estrazione del file ZIP.\n",
      "INFO | 47484 | 2024-10-10 17:59:14,436 | root | Inizio estrazione del file ZIP.\n",
      "INFO | 47484 | 2024-10-10 17:59:14,440 | root | Decompressione del file /home/max/Desktop/census_tutorial/preprocessing/census_2011/geodata/R15_11_WGS84.zip nella cartella /home/max/Desktop/census_tutorial/preprocessing/census_2011/geodata.\n",
      "INFO | 47484 | 2024-10-10 17:59:14,440 | root | Decompressione del file /home/max/Desktop/census_tutorial/preprocessing/census_2011/geodata/R15_11_WGS84.zip nella cartella /home/max/Desktop/census_tutorial/preprocessing/census_2011/geodata.\n",
      "INFO | 47484 | 2024-10-10 17:59:14,440 | root | Decompressione del file /home/max/Desktop/census_tutorial/preprocessing/census_2011/geodata/R15_11_WGS84.zip nella cartella /home/max/Desktop/census_tutorial/preprocessing/census_2011/geodata.\n",
      "INFO | 47484 | 2024-10-10 17:59:14,440 | root | Decompressione del file /home/max/Desktop/census_tutorial/preprocessing/census_2011/geodata/R15_11_WGS84.zip nella cartella /home/max/Desktop/census_tutorial/preprocessing/census_2011/geodata.\n",
      "INFO | 47484 | 2024-10-10 17:59:14,440 | root | Decompressione del file /home/max/Desktop/census_tutorial/preprocessing/census_2011/geodata/R15_11_WGS84.zip nella cartella /home/max/Desktop/census_tutorial/preprocessing/census_2011/geodata.\n",
      "INFO | 47484 | 2024-10-10 17:59:14,440 | root | Decompressione del file /home/max/Desktop/census_tutorial/preprocessing/census_2011/geodata/R15_11_WGS84.zip nella cartella /home/max/Desktop/census_tutorial/preprocessing/census_2011/geodata.\n",
      "INFO | 47484 | 2024-10-10 17:59:14,440 | root | Decompressione del file /home/max/Desktop/census_tutorial/preprocessing/census_2011/geodata/R15_11_WGS84.zip nella cartella /home/max/Desktop/census_tutorial/preprocessing/census_2011/geodata.\n",
      "INFO | 47484 | 2024-10-10 17:59:14,440 | root | Decompressione del file /home/max/Desktop/census_tutorial/preprocessing/census_2011/geodata/R15_11_WGS84.zip nella cartella /home/max/Desktop/census_tutorial/preprocessing/census_2011/geodata.\n"
     ]
    },
    {
     "name": "stderr",
     "output_type": "stream",
     "text": [
      "\n"
     ]
    },
    {
     "name": "stdout",
     "output_type": "stream",
     "text": [
      "INFO | 47484 | 2024-10-10 17:59:14,630 | root | Decompressione completata. File estratti in /home/max/Desktop/census_tutorial/preprocessing/census_2011/geodata.\n",
      "INFO | 47484 | 2024-10-10 17:59:14,630 | root | Decompressione completata. File estratti in /home/max/Desktop/census_tutorial/preprocessing/census_2011/geodata.\n",
      "INFO | 47484 | 2024-10-10 17:59:14,630 | root | Decompressione completata. File estratti in /home/max/Desktop/census_tutorial/preprocessing/census_2011/geodata.\n",
      "INFO | 47484 | 2024-10-10 17:59:14,630 | root | Decompressione completata. File estratti in /home/max/Desktop/census_tutorial/preprocessing/census_2011/geodata.\n",
      "INFO | 47484 | 2024-10-10 17:59:14,630 | root | Decompressione completata. File estratti in /home/max/Desktop/census_tutorial/preprocessing/census_2011/geodata.\n",
      "INFO | 47484 | 2024-10-10 17:59:14,630 | root | Decompressione completata. File estratti in /home/max/Desktop/census_tutorial/preprocessing/census_2011/geodata.\n",
      "INFO | 47484 | 2024-10-10 17:59:14,630 | root | Decompressione completata. File estratti in /home/max/Desktop/census_tutorial/preprocessing/census_2011/geodata.\n",
      "INFO | 47484 | 2024-10-10 17:59:14,630 | root | Decompressione completata. File estratti in /home/max/Desktop/census_tutorial/preprocessing/census_2011/geodata.\n",
      "INFO | 47484 | 2024-10-10 17:59:14,634 | root | Eliminazione del file ZIP | /home/max/Desktop/census_tutorial/preprocessing/census_2011/geodata/R15_11_WGS84.zip\n",
      "INFO | 47484 | 2024-10-10 17:59:14,634 | root | Eliminazione del file ZIP | /home/max/Desktop/census_tutorial/preprocessing/census_2011/geodata/R15_11_WGS84.zip\n",
      "INFO | 47484 | 2024-10-10 17:59:14,634 | root | Eliminazione del file ZIP | /home/max/Desktop/census_tutorial/preprocessing/census_2011/geodata/R15_11_WGS84.zip\n",
      "INFO | 47484 | 2024-10-10 17:59:14,634 | root | Eliminazione del file ZIP | /home/max/Desktop/census_tutorial/preprocessing/census_2011/geodata/R15_11_WGS84.zip\n",
      "INFO | 47484 | 2024-10-10 17:59:14,634 | root | Eliminazione del file ZIP | /home/max/Desktop/census_tutorial/preprocessing/census_2011/geodata/R15_11_WGS84.zip\n",
      "INFO | 47484 | 2024-10-10 17:59:14,634 | root | Eliminazione del file ZIP | /home/max/Desktop/census_tutorial/preprocessing/census_2011/geodata/R15_11_WGS84.zip\n",
      "INFO | 47484 | 2024-10-10 17:59:14,634 | root | Eliminazione del file ZIP | /home/max/Desktop/census_tutorial/preprocessing/census_2011/geodata/R15_11_WGS84.zip\n",
      "INFO | 47484 | 2024-10-10 17:59:14,634 | root | Eliminazione del file ZIP | /home/max/Desktop/census_tutorial/preprocessing/census_2011/geodata/R15_11_WGS84.zip\n",
      "INFO | 47484 | 2024-10-10 17:59:14,640 | root | File ZIP eliminato con successo.\n",
      "INFO | 47484 | 2024-10-10 17:59:14,640 | root | File ZIP eliminato con successo.\n",
      "INFO | 47484 | 2024-10-10 17:59:14,640 | root | File ZIP eliminato con successo.\n",
      "INFO | 47484 | 2024-10-10 17:59:14,640 | root | File ZIP eliminato con successo.\n",
      "INFO | 47484 | 2024-10-10 17:59:14,640 | root | File ZIP eliminato con successo.\n",
      "INFO | 47484 | 2024-10-10 17:59:14,640 | root | File ZIP eliminato con successo.\n",
      "INFO | 47484 | 2024-10-10 17:59:14,640 | root | File ZIP eliminato con successo.\n",
      "INFO | 47484 | 2024-10-10 17:59:14,640 | root | File ZIP eliminato con successo.\n",
      "INFO | 47484 | 2024-10-10 17:59:14,642 | root | Creazione della cartella per i dati del censimento in /home/max/Desktop/census_tutorial/preprocessing\n",
      "INFO | 47484 | 2024-10-10 17:59:14,642 | root | Creazione della cartella per i dati del censimento in /home/max/Desktop/census_tutorial/preprocessing\n",
      "INFO | 47484 | 2024-10-10 17:59:14,642 | root | Creazione della cartella per i dati del censimento in /home/max/Desktop/census_tutorial/preprocessing\n",
      "INFO | 47484 | 2024-10-10 17:59:14,642 | root | Creazione della cartella per i dati del censimento in /home/max/Desktop/census_tutorial/preprocessing\n",
      "INFO | 47484 | 2024-10-10 17:59:14,642 | root | Creazione della cartella per i dati del censimento in /home/max/Desktop/census_tutorial/preprocessing\n",
      "INFO | 47484 | 2024-10-10 17:59:14,642 | root | Creazione della cartella per i dati del censimento in /home/max/Desktop/census_tutorial/preprocessing\n",
      "INFO | 47484 | 2024-10-10 17:59:14,642 | root | Creazione della cartella per i dati del censimento in /home/max/Desktop/census_tutorial/preprocessing\n",
      "INFO | 47484 | 2024-10-10 17:59:14,642 | root | Creazione della cartella per i dati del censimento in /home/max/Desktop/census_tutorial/preprocessing\n",
      "INFO | 47484 | 2024-10-10 17:59:14,644 | root | Creazione della cartella per i dati del censimento 2011.\n",
      "INFO | 47484 | 2024-10-10 17:59:14,644 | root | Creazione della cartella per i dati del censimento 2011.\n",
      "INFO | 47484 | 2024-10-10 17:59:14,644 | root | Creazione della cartella per i dati del censimento 2011.\n",
      "INFO | 47484 | 2024-10-10 17:59:14,644 | root | Creazione della cartella per i dati del censimento 2011.\n",
      "INFO | 47484 | 2024-10-10 17:59:14,644 | root | Creazione della cartella per i dati del censimento 2011.\n",
      "INFO | 47484 | 2024-10-10 17:59:14,644 | root | Creazione della cartella per i dati del censimento 2011.\n",
      "INFO | 47484 | 2024-10-10 17:59:14,644 | root | Creazione della cartella per i dati del censimento 2011.\n",
      "INFO | 47484 | 2024-10-10 17:59:14,644 | root | Creazione della cartella per i dati del censimento 2011.\n",
      "INFO | 47484 | 2024-10-10 17:59:14,646 | root | Cartella creata o già esistente: /home/max/Desktop/census_tutorial/preprocessing/census_2011\n",
      "INFO | 47484 | 2024-10-10 17:59:14,646 | root | Cartella creata o già esistente: /home/max/Desktop/census_tutorial/preprocessing/census_2011\n",
      "INFO | 47484 | 2024-10-10 17:59:14,646 | root | Cartella creata o già esistente: /home/max/Desktop/census_tutorial/preprocessing/census_2011\n",
      "INFO | 47484 | 2024-10-10 17:59:14,646 | root | Cartella creata o già esistente: /home/max/Desktop/census_tutorial/preprocessing/census_2011\n",
      "INFO | 47484 | 2024-10-10 17:59:14,646 | root | Cartella creata o già esistente: /home/max/Desktop/census_tutorial/preprocessing/census_2011\n",
      "INFO | 47484 | 2024-10-10 17:59:14,646 | root | Cartella creata o già esistente: /home/max/Desktop/census_tutorial/preprocessing/census_2011\n",
      "INFO | 47484 | 2024-10-10 17:59:14,646 | root | Cartella creata o già esistente: /home/max/Desktop/census_tutorial/preprocessing/census_2011\n",
      "INFO | 47484 | 2024-10-10 17:59:14,646 | root | Cartella creata o già esistente: /home/max/Desktop/census_tutorial/preprocessing/census_2011\n",
      "INFO | 47484 | 2024-10-10 17:59:14,648 | root | Scaricamento dei confini amministrativi da https://www.istat.it/storage/cartografia/confini_amministrativi/non_generalizzati/2011/Limiti_2011_WGS84.zip\n",
      "INFO | 47484 | 2024-10-10 17:59:14,648 | root | Scaricamento dei confini amministrativi da https://www.istat.it/storage/cartografia/confini_amministrativi/non_generalizzati/2011/Limiti_2011_WGS84.zip\n",
      "INFO | 47484 | 2024-10-10 17:59:14,648 | root | Scaricamento dei confini amministrativi da https://www.istat.it/storage/cartografia/confini_amministrativi/non_generalizzati/2011/Limiti_2011_WGS84.zip\n",
      "INFO | 47484 | 2024-10-10 17:59:14,648 | root | Scaricamento dei confini amministrativi da https://www.istat.it/storage/cartografia/confini_amministrativi/non_generalizzati/2011/Limiti_2011_WGS84.zip\n",
      "INFO | 47484 | 2024-10-10 17:59:14,648 | root | Scaricamento dei confini amministrativi da https://www.istat.it/storage/cartografia/confini_amministrativi/non_generalizzati/2011/Limiti_2011_WGS84.zip\n",
      "INFO | 47484 | 2024-10-10 17:59:14,648 | root | Scaricamento dei confini amministrativi da https://www.istat.it/storage/cartografia/confini_amministrativi/non_generalizzati/2011/Limiti_2011_WGS84.zip\n",
      "INFO | 47484 | 2024-10-10 17:59:14,648 | root | Scaricamento dei confini amministrativi da https://www.istat.it/storage/cartografia/confini_amministrativi/non_generalizzati/2011/Limiti_2011_WGS84.zip\n",
      "INFO | 47484 | 2024-10-10 17:59:14,648 | root | Scaricamento dei confini amministrativi da https://www.istat.it/storage/cartografia/confini_amministrativi/non_generalizzati/2011/Limiti_2011_WGS84.zip\n",
      "INFO | 47484 | 2024-10-10 17:59:14,650 | root | Inizio download dei dati dal link: https://www.istat.it/storage/cartografia/confini_amministrativi/non_generalizzati/2011/Limiti_2011_WGS84.zip\n",
      "INFO | 47484 | 2024-10-10 17:59:14,650 | root | Inizio download dei dati dal link: https://www.istat.it/storage/cartografia/confini_amministrativi/non_generalizzati/2011/Limiti_2011_WGS84.zip\n",
      "INFO | 47484 | 2024-10-10 17:59:14,650 | root | Inizio download dei dati dal link: https://www.istat.it/storage/cartografia/confini_amministrativi/non_generalizzati/2011/Limiti_2011_WGS84.zip\n",
      "INFO | 47484 | 2024-10-10 17:59:14,650 | root | Inizio download dei dati dal link: https://www.istat.it/storage/cartografia/confini_amministrativi/non_generalizzati/2011/Limiti_2011_WGS84.zip\n",
      "INFO | 47484 | 2024-10-10 17:59:14,650 | root | Inizio download dei dati dal link: https://www.istat.it/storage/cartografia/confini_amministrativi/non_generalizzati/2011/Limiti_2011_WGS84.zip\n",
      "INFO | 47484 | 2024-10-10 17:59:14,650 | root | Inizio download dei dati dal link: https://www.istat.it/storage/cartografia/confini_amministrativi/non_generalizzati/2011/Limiti_2011_WGS84.zip\n",
      "INFO | 47484 | 2024-10-10 17:59:14,650 | root | Inizio download dei dati dal link: https://www.istat.it/storage/cartografia/confini_amministrativi/non_generalizzati/2011/Limiti_2011_WGS84.zip\n",
      "INFO | 47484 | 2024-10-10 17:59:14,650 | root | Inizio download dei dati dal link: https://www.istat.it/storage/cartografia/confini_amministrativi/non_generalizzati/2011/Limiti_2011_WGS84.zip\n"
     ]
    },
    {
     "name": "stderr",
     "output_type": "stream",
     "text": [
      "In download...: 100%|██████████| 75.4M/75.4M [00:08<00:00, 9.53MB/s]"
     ]
    },
    {
     "name": "stdout",
     "output_type": "stream",
     "text": [
      "INFO | 47484 | 2024-10-10 17:59:23,039 | root | Download completato con successo in 8.39 secondi.\n",
      "INFO | 47484 | 2024-10-10 17:59:23,039 | root | Download completato con successo in 8.39 secondi.\n",
      "INFO | 47484 | 2024-10-10 17:59:23,039 | root | Download completato con successo in 8.39 secondi.\n",
      "INFO | 47484 | 2024-10-10 17:59:23,039 | root | Download completato con successo in 8.39 secondi.\n",
      "INFO | 47484 | 2024-10-10 17:59:23,039 | root | Download completato con successo in 8.39 secondi.\n",
      "INFO | 47484 | 2024-10-10 17:59:23,039 | root | Download completato con successo in 8.39 secondi.\n",
      "INFO | 47484 | 2024-10-10 17:59:23,039 | root | Download completato con successo in 8.39 secondi.\n",
      "INFO | 47484 | 2024-10-10 17:59:23,039 | root | Download completato con successo in 8.39 secondi.\n",
      "INFO | 47484 | 2024-10-10 17:59:23,041 | root | Inizio estrazione del file ZIP.\n",
      "INFO | 47484 | 2024-10-10 17:59:23,041 | root | Inizio estrazione del file ZIP.\n",
      "INFO | 47484 | 2024-10-10 17:59:23,041 | root | Inizio estrazione del file ZIP.\n",
      "INFO | 47484 | 2024-10-10 17:59:23,041 | root | Inizio estrazione del file ZIP.\n",
      "INFO | 47484 | 2024-10-10 17:59:23,041 | root | Inizio estrazione del file ZIP.\n",
      "INFO | 47484 | 2024-10-10 17:59:23,041 | root | Inizio estrazione del file ZIP.\n",
      "INFO | 47484 | 2024-10-10 17:59:23,041 | root | Inizio estrazione del file ZIP.\n",
      "INFO | 47484 | 2024-10-10 17:59:23,041 | root | Inizio estrazione del file ZIP.\n",
      "INFO | 47484 | 2024-10-10 17:59:23,044 | root | Decompressione del file /home/max/Desktop/census_tutorial/preprocessing/census_2011/administrative_boundaries/Limiti_2011_WGS84.zip nella cartella /home/max/Desktop/census_tutorial/preprocessing/census_2011/administrative_boundaries.\n",
      "INFO | 47484 | 2024-10-10 17:59:23,044 | root | Decompressione del file /home/max/Desktop/census_tutorial/preprocessing/census_2011/administrative_boundaries/Limiti_2011_WGS84.zip nella cartella /home/max/Desktop/census_tutorial/preprocessing/census_2011/administrative_boundaries.\n",
      "INFO | 47484 | 2024-10-10 17:59:23,044 | root | Decompressione del file /home/max/Desktop/census_tutorial/preprocessing/census_2011/administrative_boundaries/Limiti_2011_WGS84.zip nella cartella /home/max/Desktop/census_tutorial/preprocessing/census_2011/administrative_boundaries.\n",
      "INFO | 47484 | 2024-10-10 17:59:23,044 | root | Decompressione del file /home/max/Desktop/census_tutorial/preprocessing/census_2011/administrative_boundaries/Limiti_2011_WGS84.zip nella cartella /home/max/Desktop/census_tutorial/preprocessing/census_2011/administrative_boundaries.\n",
      "INFO | 47484 | 2024-10-10 17:59:23,044 | root | Decompressione del file /home/max/Desktop/census_tutorial/preprocessing/census_2011/administrative_boundaries/Limiti_2011_WGS84.zip nella cartella /home/max/Desktop/census_tutorial/preprocessing/census_2011/administrative_boundaries.\n",
      "INFO | 47484 | 2024-10-10 17:59:23,044 | root | Decompressione del file /home/max/Desktop/census_tutorial/preprocessing/census_2011/administrative_boundaries/Limiti_2011_WGS84.zip nella cartella /home/max/Desktop/census_tutorial/preprocessing/census_2011/administrative_boundaries.\n",
      "INFO | 47484 | 2024-10-10 17:59:23,044 | root | Decompressione del file /home/max/Desktop/census_tutorial/preprocessing/census_2011/administrative_boundaries/Limiti_2011_WGS84.zip nella cartella /home/max/Desktop/census_tutorial/preprocessing/census_2011/administrative_boundaries.\n",
      "INFO | 47484 | 2024-10-10 17:59:23,044 | root | Decompressione del file /home/max/Desktop/census_tutorial/preprocessing/census_2011/administrative_boundaries/Limiti_2011_WGS84.zip nella cartella /home/max/Desktop/census_tutorial/preprocessing/census_2011/administrative_boundaries.\n"
     ]
    },
    {
     "name": "stderr",
     "output_type": "stream",
     "text": [
      "\n"
     ]
    },
    {
     "name": "stdout",
     "output_type": "stream",
     "text": [
      "INFO | 47484 | 2024-10-10 17:59:23,636 | root | Decompressione completata. File estratti in /home/max/Desktop/census_tutorial/preprocessing/census_2011/administrative_boundaries.\n",
      "INFO | 47484 | 2024-10-10 17:59:23,636 | root | Decompressione completata. File estratti in /home/max/Desktop/census_tutorial/preprocessing/census_2011/administrative_boundaries.\n",
      "INFO | 47484 | 2024-10-10 17:59:23,636 | root | Decompressione completata. File estratti in /home/max/Desktop/census_tutorial/preprocessing/census_2011/administrative_boundaries.\n",
      "INFO | 47484 | 2024-10-10 17:59:23,636 | root | Decompressione completata. File estratti in /home/max/Desktop/census_tutorial/preprocessing/census_2011/administrative_boundaries.\n",
      "INFO | 47484 | 2024-10-10 17:59:23,636 | root | Decompressione completata. File estratti in /home/max/Desktop/census_tutorial/preprocessing/census_2011/administrative_boundaries.\n",
      "INFO | 47484 | 2024-10-10 17:59:23,636 | root | Decompressione completata. File estratti in /home/max/Desktop/census_tutorial/preprocessing/census_2011/administrative_boundaries.\n",
      "INFO | 47484 | 2024-10-10 17:59:23,636 | root | Decompressione completata. File estratti in /home/max/Desktop/census_tutorial/preprocessing/census_2011/administrative_boundaries.\n",
      "INFO | 47484 | 2024-10-10 17:59:23,636 | root | Decompressione completata. File estratti in /home/max/Desktop/census_tutorial/preprocessing/census_2011/administrative_boundaries.\n",
      "INFO | 47484 | 2024-10-10 17:59:23,638 | root | Eliminazione del file ZIP | /home/max/Desktop/census_tutorial/preprocessing/census_2011/administrative_boundaries/Limiti_2011_WGS84.zip\n",
      "INFO | 47484 | 2024-10-10 17:59:23,638 | root | Eliminazione del file ZIP | /home/max/Desktop/census_tutorial/preprocessing/census_2011/administrative_boundaries/Limiti_2011_WGS84.zip\n",
      "INFO | 47484 | 2024-10-10 17:59:23,638 | root | Eliminazione del file ZIP | /home/max/Desktop/census_tutorial/preprocessing/census_2011/administrative_boundaries/Limiti_2011_WGS84.zip\n",
      "INFO | 47484 | 2024-10-10 17:59:23,638 | root | Eliminazione del file ZIP | /home/max/Desktop/census_tutorial/preprocessing/census_2011/administrative_boundaries/Limiti_2011_WGS84.zip\n",
      "INFO | 47484 | 2024-10-10 17:59:23,638 | root | Eliminazione del file ZIP | /home/max/Desktop/census_tutorial/preprocessing/census_2011/administrative_boundaries/Limiti_2011_WGS84.zip\n",
      "INFO | 47484 | 2024-10-10 17:59:23,638 | root | Eliminazione del file ZIP | /home/max/Desktop/census_tutorial/preprocessing/census_2011/administrative_boundaries/Limiti_2011_WGS84.zip\n",
      "INFO | 47484 | 2024-10-10 17:59:23,638 | root | Eliminazione del file ZIP | /home/max/Desktop/census_tutorial/preprocessing/census_2011/administrative_boundaries/Limiti_2011_WGS84.zip\n",
      "INFO | 47484 | 2024-10-10 17:59:23,638 | root | Eliminazione del file ZIP | /home/max/Desktop/census_tutorial/preprocessing/census_2011/administrative_boundaries/Limiti_2011_WGS84.zip\n",
      "INFO | 47484 | 2024-10-10 17:59:23,653 | root | File ZIP eliminato con successo.\n",
      "INFO | 47484 | 2024-10-10 17:59:23,653 | root | File ZIP eliminato con successo.\n",
      "INFO | 47484 | 2024-10-10 17:59:23,653 | root | File ZIP eliminato con successo.\n",
      "INFO | 47484 | 2024-10-10 17:59:23,653 | root | File ZIP eliminato con successo.\n",
      "INFO | 47484 | 2024-10-10 17:59:23,653 | root | File ZIP eliminato con successo.\n",
      "INFO | 47484 | 2024-10-10 17:59:23,653 | root | File ZIP eliminato con successo.\n",
      "INFO | 47484 | 2024-10-10 17:59:23,653 | root | File ZIP eliminato con successo.\n",
      "INFO | 47484 | 2024-10-10 17:59:23,653 | root | File ZIP eliminato con successo.\n",
      "INFO | 47484 | 2024-10-10 17:59:23,657 | root | Download dei confini amministrativi completato e salvato in /home/max/Desktop/census_tutorial/preprocessing/census_2011\n",
      "INFO | 47484 | 2024-10-10 17:59:23,657 | root | Download dei confini amministrativi completato e salvato in /home/max/Desktop/census_tutorial/preprocessing/census_2011\n",
      "INFO | 47484 | 2024-10-10 17:59:23,657 | root | Download dei confini amministrativi completato e salvato in /home/max/Desktop/census_tutorial/preprocessing/census_2011\n",
      "INFO | 47484 | 2024-10-10 17:59:23,657 | root | Download dei confini amministrativi completato e salvato in /home/max/Desktop/census_tutorial/preprocessing/census_2011\n",
      "INFO | 47484 | 2024-10-10 17:59:23,657 | root | Download dei confini amministrativi completato e salvato in /home/max/Desktop/census_tutorial/preprocessing/census_2011\n",
      "INFO | 47484 | 2024-10-10 17:59:23,657 | root | Download dei confini amministrativi completato e salvato in /home/max/Desktop/census_tutorial/preprocessing/census_2011\n",
      "INFO | 47484 | 2024-10-10 17:59:23,657 | root | Download dei confini amministrativi completato e salvato in /home/max/Desktop/census_tutorial/preprocessing/census_2011\n",
      "INFO | 47484 | 2024-10-10 17:59:23,657 | root | Download dei confini amministrativi completato e salvato in /home/max/Desktop/census_tutorial/preprocessing/census_2011\n",
      "INFO | 47484 | 2024-10-10 17:59:23,660 | root | Scarico i dati per il censimento del 2021\n",
      "INFO | 47484 | 2024-10-10 17:59:23,660 | root | Scarico i dati per il censimento del 2021\n",
      "INFO | 47484 | 2024-10-10 17:59:23,660 | root | Scarico i dati per il censimento del 2021\n",
      "INFO | 47484 | 2024-10-10 17:59:23,660 | root | Scarico i dati per il censimento del 2021\n",
      "INFO | 47484 | 2024-10-10 17:59:23,660 | root | Scarico i dati per il censimento del 2021\n",
      "INFO | 47484 | 2024-10-10 17:59:23,660 | root | Scarico i dati per il censimento del 2021\n",
      "INFO | 47484 | 2024-10-10 17:59:23,660 | root | Scarico i dati per il censimento del 2021\n",
      "INFO | 47484 | 2024-10-10 17:59:23,660 | root | Scarico i dati per il censimento del 2021\n",
      "INFO | 47484 | 2024-10-10 17:59:23,665 | root | Creazione della cartella di destinazione per i dati in /home/max/Desktop/census_tutorial/preprocessing\n",
      "INFO | 47484 | 2024-10-10 17:59:23,665 | root | Creazione della cartella di destinazione per i dati in /home/max/Desktop/census_tutorial/preprocessing\n",
      "INFO | 47484 | 2024-10-10 17:59:23,665 | root | Creazione della cartella di destinazione per i dati in /home/max/Desktop/census_tutorial/preprocessing\n",
      "INFO | 47484 | 2024-10-10 17:59:23,665 | root | Creazione della cartella di destinazione per i dati in /home/max/Desktop/census_tutorial/preprocessing\n",
      "INFO | 47484 | 2024-10-10 17:59:23,665 | root | Creazione della cartella di destinazione per i dati in /home/max/Desktop/census_tutorial/preprocessing\n",
      "INFO | 47484 | 2024-10-10 17:59:23,665 | root | Creazione della cartella di destinazione per i dati in /home/max/Desktop/census_tutorial/preprocessing\n",
      "INFO | 47484 | 2024-10-10 17:59:23,665 | root | Creazione della cartella di destinazione per i dati in /home/max/Desktop/census_tutorial/preprocessing\n",
      "INFO | 47484 | 2024-10-10 17:59:23,665 | root | Creazione della cartella di destinazione per i dati in /home/max/Desktop/census_tutorial/preprocessing\n",
      "INFO | 47484 | 2024-10-10 17:59:23,668 | root | Creazione della cartella per i dati del censimento 2021.\n",
      "INFO | 47484 | 2024-10-10 17:59:23,668 | root | Creazione della cartella per i dati del censimento 2021.\n",
      "INFO | 47484 | 2024-10-10 17:59:23,668 | root | Creazione della cartella per i dati del censimento 2021.\n",
      "INFO | 47484 | 2024-10-10 17:59:23,668 | root | Creazione della cartella per i dati del censimento 2021.\n",
      "INFO | 47484 | 2024-10-10 17:59:23,668 | root | Creazione della cartella per i dati del censimento 2021.\n",
      "INFO | 47484 | 2024-10-10 17:59:23,668 | root | Creazione della cartella per i dati del censimento 2021.\n",
      "INFO | 47484 | 2024-10-10 17:59:23,668 | root | Creazione della cartella per i dati del censimento 2021.\n",
      "INFO | 47484 | 2024-10-10 17:59:23,668 | root | Creazione della cartella per i dati del censimento 2021.\n",
      "INFO | 47484 | 2024-10-10 17:59:23,671 | root | Cartella creata o già esistente: /home/max/Desktop/census_tutorial/preprocessing/census_2021\n",
      "INFO | 47484 | 2024-10-10 17:59:23,671 | root | Cartella creata o già esistente: /home/max/Desktop/census_tutorial/preprocessing/census_2021\n",
      "INFO | 47484 | 2024-10-10 17:59:23,671 | root | Cartella creata o già esistente: /home/max/Desktop/census_tutorial/preprocessing/census_2021\n",
      "INFO | 47484 | 2024-10-10 17:59:23,671 | root | Cartella creata o già esistente: /home/max/Desktop/census_tutorial/preprocessing/census_2021\n",
      "INFO | 47484 | 2024-10-10 17:59:23,671 | root | Cartella creata o già esistente: /home/max/Desktop/census_tutorial/preprocessing/census_2021\n",
      "INFO | 47484 | 2024-10-10 17:59:23,671 | root | Cartella creata o già esistente: /home/max/Desktop/census_tutorial/preprocessing/census_2021\n",
      "INFO | 47484 | 2024-10-10 17:59:23,671 | root | Cartella creata o già esistente: /home/max/Desktop/census_tutorial/preprocessing/census_2021\n",
      "INFO | 47484 | 2024-10-10 17:59:23,671 | root | Cartella creata o già esistente: /home/max/Desktop/census_tutorial/preprocessing/census_2021\n",
      "INFO | 47484 | 2024-10-10 17:59:23,674 | root | Download dei dati da https://esploradati.censimentopopolazione.istat.it/databrowser/DWL/PERMPOP/SUBCOM/Dati_regionali_2021.zip\n",
      "INFO | 47484 | 2024-10-10 17:59:23,674 | root | Download dei dati da https://esploradati.censimentopopolazione.istat.it/databrowser/DWL/PERMPOP/SUBCOM/Dati_regionali_2021.zip\n",
      "INFO | 47484 | 2024-10-10 17:59:23,674 | root | Download dei dati da https://esploradati.censimentopopolazione.istat.it/databrowser/DWL/PERMPOP/SUBCOM/Dati_regionali_2021.zip\n",
      "INFO | 47484 | 2024-10-10 17:59:23,674 | root | Download dei dati da https://esploradati.censimentopopolazione.istat.it/databrowser/DWL/PERMPOP/SUBCOM/Dati_regionali_2021.zip\n",
      "INFO | 47484 | 2024-10-10 17:59:23,674 | root | Download dei dati da https://esploradati.censimentopopolazione.istat.it/databrowser/DWL/PERMPOP/SUBCOM/Dati_regionali_2021.zip\n",
      "INFO | 47484 | 2024-10-10 17:59:23,674 | root | Download dei dati da https://esploradati.censimentopopolazione.istat.it/databrowser/DWL/PERMPOP/SUBCOM/Dati_regionali_2021.zip\n",
      "INFO | 47484 | 2024-10-10 17:59:23,674 | root | Download dei dati da https://esploradati.censimentopopolazione.istat.it/databrowser/DWL/PERMPOP/SUBCOM/Dati_regionali_2021.zip\n",
      "INFO | 47484 | 2024-10-10 17:59:23,674 | root | Download dei dati da https://esploradati.censimentopopolazione.istat.it/databrowser/DWL/PERMPOP/SUBCOM/Dati_regionali_2021.zip\n",
      "INFO | 47484 | 2024-10-10 17:59:23,676 | root | Inizio download dei dati dal link: https://esploradati.censimentopopolazione.istat.it/databrowser/DWL/PERMPOP/SUBCOM/Dati_regionali_2021.zip\n",
      "INFO | 47484 | 2024-10-10 17:59:23,676 | root | Inizio download dei dati dal link: https://esploradati.censimentopopolazione.istat.it/databrowser/DWL/PERMPOP/SUBCOM/Dati_regionali_2021.zip\n",
      "INFO | 47484 | 2024-10-10 17:59:23,676 | root | Inizio download dei dati dal link: https://esploradati.censimentopopolazione.istat.it/databrowser/DWL/PERMPOP/SUBCOM/Dati_regionali_2021.zip\n",
      "INFO | 47484 | 2024-10-10 17:59:23,676 | root | Inizio download dei dati dal link: https://esploradati.censimentopopolazione.istat.it/databrowser/DWL/PERMPOP/SUBCOM/Dati_regionali_2021.zip\n",
      "INFO | 47484 | 2024-10-10 17:59:23,676 | root | Inizio download dei dati dal link: https://esploradati.censimentopopolazione.istat.it/databrowser/DWL/PERMPOP/SUBCOM/Dati_regionali_2021.zip\n",
      "INFO | 47484 | 2024-10-10 17:59:23,676 | root | Inizio download dei dati dal link: https://esploradati.censimentopopolazione.istat.it/databrowser/DWL/PERMPOP/SUBCOM/Dati_regionali_2021.zip\n",
      "INFO | 47484 | 2024-10-10 17:59:23,676 | root | Inizio download dei dati dal link: https://esploradati.censimentopopolazione.istat.it/databrowser/DWL/PERMPOP/SUBCOM/Dati_regionali_2021.zip\n",
      "INFO | 47484 | 2024-10-10 17:59:23,676 | root | Inizio download dei dati dal link: https://esploradati.censimentopopolazione.istat.it/databrowser/DWL/PERMPOP/SUBCOM/Dati_regionali_2021.zip\n"
     ]
    },
    {
     "name": "stderr",
     "output_type": "stream",
     "text": [
      "In download...: 100%|██████████| 223M/223M [01:09<00:00, 3.39MB/s] "
     ]
    },
    {
     "name": "stdout",
     "output_type": "stream",
     "text": [
      "INFO | 47484 | 2024-10-10 18:00:32,828 | root | Download completato con successo in 69.15 secondi.\n",
      "INFO | 47484 | 2024-10-10 18:00:32,828 | root | Download completato con successo in 69.15 secondi.\n",
      "INFO | 47484 | 2024-10-10 18:00:32,828 | root | Download completato con successo in 69.15 secondi.\n",
      "INFO | 47484 | 2024-10-10 18:00:32,828 | root | Download completato con successo in 69.15 secondi.\n",
      "INFO | 47484 | 2024-10-10 18:00:32,828 | root | Download completato con successo in 69.15 secondi.\n",
      "INFO | 47484 | 2024-10-10 18:00:32,828 | root | Download completato con successo in 69.15 secondi.\n",
      "INFO | 47484 | 2024-10-10 18:00:32,828 | root | Download completato con successo in 69.15 secondi.\n",
      "INFO | 47484 | 2024-10-10 18:00:32,828 | root | Download completato con successo in 69.15 secondi.\n",
      "INFO | 47484 | 2024-10-10 18:00:32,830 | root | Inizio estrazione del file ZIP.\n",
      "INFO | 47484 | 2024-10-10 18:00:32,830 | root | Inizio estrazione del file ZIP.\n",
      "INFO | 47484 | 2024-10-10 18:00:32,830 | root | Inizio estrazione del file ZIP.\n",
      "INFO | 47484 | 2024-10-10 18:00:32,830 | root | Inizio estrazione del file ZIP.\n",
      "INFO | 47484 | 2024-10-10 18:00:32,830 | root | Inizio estrazione del file ZIP.\n",
      "INFO | 47484 | 2024-10-10 18:00:32,830 | root | Inizio estrazione del file ZIP.\n",
      "INFO | 47484 | 2024-10-10 18:00:32,830 | root | Inizio estrazione del file ZIP.\n",
      "INFO | 47484 | 2024-10-10 18:00:32,830 | root | Inizio estrazione del file ZIP.\n",
      "INFO | 47484 | 2024-10-10 18:00:32,831 | root | Decompressione del file /home/max/Desktop/census_tutorial/preprocessing/census_2021/data/Dati_regionali_2021.zip nella cartella /home/max/Desktop/census_tutorial/preprocessing/census_2021/data.\n",
      "INFO | 47484 | 2024-10-10 18:00:32,831 | root | Decompressione del file /home/max/Desktop/census_tutorial/preprocessing/census_2021/data/Dati_regionali_2021.zip nella cartella /home/max/Desktop/census_tutorial/preprocessing/census_2021/data.\n",
      "INFO | 47484 | 2024-10-10 18:00:32,831 | root | Decompressione del file /home/max/Desktop/census_tutorial/preprocessing/census_2021/data/Dati_regionali_2021.zip nella cartella /home/max/Desktop/census_tutorial/preprocessing/census_2021/data.\n",
      "INFO | 47484 | 2024-10-10 18:00:32,831 | root | Decompressione del file /home/max/Desktop/census_tutorial/preprocessing/census_2021/data/Dati_regionali_2021.zip nella cartella /home/max/Desktop/census_tutorial/preprocessing/census_2021/data.\n",
      "INFO | 47484 | 2024-10-10 18:00:32,831 | root | Decompressione del file /home/max/Desktop/census_tutorial/preprocessing/census_2021/data/Dati_regionali_2021.zip nella cartella /home/max/Desktop/census_tutorial/preprocessing/census_2021/data.\n",
      "INFO | 47484 | 2024-10-10 18:00:32,831 | root | Decompressione del file /home/max/Desktop/census_tutorial/preprocessing/census_2021/data/Dati_regionali_2021.zip nella cartella /home/max/Desktop/census_tutorial/preprocessing/census_2021/data.\n",
      "INFO | 47484 | 2024-10-10 18:00:32,831 | root | Decompressione del file /home/max/Desktop/census_tutorial/preprocessing/census_2021/data/Dati_regionali_2021.zip nella cartella /home/max/Desktop/census_tutorial/preprocessing/census_2021/data.\n",
      "INFO | 47484 | 2024-10-10 18:00:32,831 | root | Decompressione del file /home/max/Desktop/census_tutorial/preprocessing/census_2021/data/Dati_regionali_2021.zip nella cartella /home/max/Desktop/census_tutorial/preprocessing/census_2021/data.\n"
     ]
    },
    {
     "name": "stderr",
     "output_type": "stream",
     "text": [
      "\n"
     ]
    },
    {
     "name": "stdout",
     "output_type": "stream",
     "text": [
      "INFO | 47484 | 2024-10-10 18:00:34,219 | root | Decompressione completata. File estratti in /home/max/Desktop/census_tutorial/preprocessing/census_2021/data.\n",
      "INFO | 47484 | 2024-10-10 18:00:34,219 | root | Decompressione completata. File estratti in /home/max/Desktop/census_tutorial/preprocessing/census_2021/data.\n",
      "INFO | 47484 | 2024-10-10 18:00:34,219 | root | Decompressione completata. File estratti in /home/max/Desktop/census_tutorial/preprocessing/census_2021/data.\n",
      "INFO | 47484 | 2024-10-10 18:00:34,219 | root | Decompressione completata. File estratti in /home/max/Desktop/census_tutorial/preprocessing/census_2021/data.\n",
      "INFO | 47484 | 2024-10-10 18:00:34,219 | root | Decompressione completata. File estratti in /home/max/Desktop/census_tutorial/preprocessing/census_2021/data.\n",
      "INFO | 47484 | 2024-10-10 18:00:34,219 | root | Decompressione completata. File estratti in /home/max/Desktop/census_tutorial/preprocessing/census_2021/data.\n",
      "INFO | 47484 | 2024-10-10 18:00:34,219 | root | Decompressione completata. File estratti in /home/max/Desktop/census_tutorial/preprocessing/census_2021/data.\n",
      "INFO | 47484 | 2024-10-10 18:00:34,219 | root | Decompressione completata. File estratti in /home/max/Desktop/census_tutorial/preprocessing/census_2021/data.\n",
      "INFO | 47484 | 2024-10-10 18:00:34,222 | root | Eliminazione del file ZIP | /home/max/Desktop/census_tutorial/preprocessing/census_2021/data/Dati_regionali_2021.zip\n",
      "INFO | 47484 | 2024-10-10 18:00:34,222 | root | Eliminazione del file ZIP | /home/max/Desktop/census_tutorial/preprocessing/census_2021/data/Dati_regionali_2021.zip\n",
      "INFO | 47484 | 2024-10-10 18:00:34,222 | root | Eliminazione del file ZIP | /home/max/Desktop/census_tutorial/preprocessing/census_2021/data/Dati_regionali_2021.zip\n",
      "INFO | 47484 | 2024-10-10 18:00:34,222 | root | Eliminazione del file ZIP | /home/max/Desktop/census_tutorial/preprocessing/census_2021/data/Dati_regionali_2021.zip\n",
      "INFO | 47484 | 2024-10-10 18:00:34,222 | root | Eliminazione del file ZIP | /home/max/Desktop/census_tutorial/preprocessing/census_2021/data/Dati_regionali_2021.zip\n",
      "INFO | 47484 | 2024-10-10 18:00:34,222 | root | Eliminazione del file ZIP | /home/max/Desktop/census_tutorial/preprocessing/census_2021/data/Dati_regionali_2021.zip\n",
      "INFO | 47484 | 2024-10-10 18:00:34,222 | root | Eliminazione del file ZIP | /home/max/Desktop/census_tutorial/preprocessing/census_2021/data/Dati_regionali_2021.zip\n",
      "INFO | 47484 | 2024-10-10 18:00:34,222 | root | Eliminazione del file ZIP | /home/max/Desktop/census_tutorial/preprocessing/census_2021/data/Dati_regionali_2021.zip\n",
      "INFO | 47484 | 2024-10-10 18:00:34,247 | root | File ZIP eliminato con successo.\n",
      "INFO | 47484 | 2024-10-10 18:00:34,247 | root | File ZIP eliminato con successo.\n",
      "INFO | 47484 | 2024-10-10 18:00:34,247 | root | File ZIP eliminato con successo.\n",
      "INFO | 47484 | 2024-10-10 18:00:34,247 | root | File ZIP eliminato con successo.\n",
      "INFO | 47484 | 2024-10-10 18:00:34,247 | root | File ZIP eliminato con successo.\n",
      "INFO | 47484 | 2024-10-10 18:00:34,247 | root | File ZIP eliminato con successo.\n",
      "INFO | 47484 | 2024-10-10 18:00:34,247 | root | File ZIP eliminato con successo.\n",
      "INFO | 47484 | 2024-10-10 18:00:34,247 | root | File ZIP eliminato con successo.\n",
      "INFO | 47484 | 2024-10-10 18:00:34,250 | root | Download dei dati censuari completato e salvato in /home/max/Desktop/census_tutorial/preprocessing/census_2021\n",
      "INFO | 47484 | 2024-10-10 18:00:34,250 | root | Download dei dati censuari completato e salvato in /home/max/Desktop/census_tutorial/preprocessing/census_2021\n",
      "INFO | 47484 | 2024-10-10 18:00:34,250 | root | Download dei dati censuari completato e salvato in /home/max/Desktop/census_tutorial/preprocessing/census_2021\n",
      "INFO | 47484 | 2024-10-10 18:00:34,250 | root | Download dei dati censuari completato e salvato in /home/max/Desktop/census_tutorial/preprocessing/census_2021\n",
      "INFO | 47484 | 2024-10-10 18:00:34,250 | root | Download dei dati censuari completato e salvato in /home/max/Desktop/census_tutorial/preprocessing/census_2021\n",
      "INFO | 47484 | 2024-10-10 18:00:34,250 | root | Download dei dati censuari completato e salvato in /home/max/Desktop/census_tutorial/preprocessing/census_2021\n",
      "INFO | 47484 | 2024-10-10 18:00:34,250 | root | Download dei dati censuari completato e salvato in /home/max/Desktop/census_tutorial/preprocessing/census_2021\n",
      "INFO | 47484 | 2024-10-10 18:00:34,250 | root | Download dei dati censuari completato e salvato in /home/max/Desktop/census_tutorial/preprocessing/census_2021\n",
      "INFO | 47484 | 2024-10-10 18:00:34,253 | root | Estrazione dei dati censuari in formato xlsx e conversione in csv.\n",
      "INFO | 47484 | 2024-10-10 18:00:34,253 | root | Estrazione dei dati censuari in formato xlsx e conversione in csv.\n",
      "INFO | 47484 | 2024-10-10 18:00:34,253 | root | Estrazione dei dati censuari in formato xlsx e conversione in csv.\n",
      "INFO | 47484 | 2024-10-10 18:00:34,253 | root | Estrazione dei dati censuari in formato xlsx e conversione in csv.\n",
      "INFO | 47484 | 2024-10-10 18:00:34,253 | root | Estrazione dei dati censuari in formato xlsx e conversione in csv.\n",
      "INFO | 47484 | 2024-10-10 18:00:34,253 | root | Estrazione dei dati censuari in formato xlsx e conversione in csv.\n",
      "INFO | 47484 | 2024-10-10 18:00:34,253 | root | Estrazione dei dati censuari in formato xlsx e conversione in csv.\n",
      "INFO | 47484 | 2024-10-10 18:00:34,253 | root | Estrazione dei dati censuari in formato xlsx e conversione in csv.\n",
      "INFO | 47484 | 2024-10-10 18:00:34,255 | root | Lettura del file Excel da /home/max/Desktop/census_tutorial/preprocessing/census_2021/data/R16_indicatori_2021_sezioni.xlsx\n",
      "INFO | 47484 | 2024-10-10 18:00:34,255 | root | Lettura del file Excel da /home/max/Desktop/census_tutorial/preprocessing/census_2021/data/R16_indicatori_2021_sezioni.xlsx\n",
      "INFO | 47484 | 2024-10-10 18:00:34,255 | root | Lettura del file Excel da /home/max/Desktop/census_tutorial/preprocessing/census_2021/data/R16_indicatori_2021_sezioni.xlsx\n",
      "INFO | 47484 | 2024-10-10 18:00:34,255 | root | Lettura del file Excel da /home/max/Desktop/census_tutorial/preprocessing/census_2021/data/R16_indicatori_2021_sezioni.xlsx\n",
      "INFO | 47484 | 2024-10-10 18:00:34,255 | root | Lettura del file Excel da /home/max/Desktop/census_tutorial/preprocessing/census_2021/data/R16_indicatori_2021_sezioni.xlsx\n",
      "INFO | 47484 | 2024-10-10 18:00:34,255 | root | Lettura del file Excel da /home/max/Desktop/census_tutorial/preprocessing/census_2021/data/R16_indicatori_2021_sezioni.xlsx\n",
      "INFO | 47484 | 2024-10-10 18:00:34,255 | root | Lettura del file Excel da /home/max/Desktop/census_tutorial/preprocessing/census_2021/data/R16_indicatori_2021_sezioni.xlsx\n",
      "INFO | 47484 | 2024-10-10 18:00:34,255 | root | Lettura del file Excel da /home/max/Desktop/census_tutorial/preprocessing/census_2021/data/R16_indicatori_2021_sezioni.xlsx\n",
      "INFO | 47484 | 2024-10-10 18:00:49,714 | root | Salvataggio dei dati in formato CSV in /home/max/Desktop/census_tutorial/preprocessing/census_2021/data/Sezioni di Censimento/R16_indicatori_2021_sezioni.csv\n",
      "INFO | 47484 | 2024-10-10 18:00:49,714 | root | Salvataggio dei dati in formato CSV in /home/max/Desktop/census_tutorial/preprocessing/census_2021/data/Sezioni di Censimento/R16_indicatori_2021_sezioni.csv\n",
      "INFO | 47484 | 2024-10-10 18:00:49,714 | root | Salvataggio dei dati in formato CSV in /home/max/Desktop/census_tutorial/preprocessing/census_2021/data/Sezioni di Censimento/R16_indicatori_2021_sezioni.csv\n",
      "INFO | 47484 | 2024-10-10 18:00:49,714 | root | Salvataggio dei dati in formato CSV in /home/max/Desktop/census_tutorial/preprocessing/census_2021/data/Sezioni di Censimento/R16_indicatori_2021_sezioni.csv\n",
      "INFO | 47484 | 2024-10-10 18:00:49,714 | root | Salvataggio dei dati in formato CSV in /home/max/Desktop/census_tutorial/preprocessing/census_2021/data/Sezioni di Censimento/R16_indicatori_2021_sezioni.csv\n",
      "INFO | 47484 | 2024-10-10 18:00:49,714 | root | Salvataggio dei dati in formato CSV in /home/max/Desktop/census_tutorial/preprocessing/census_2021/data/Sezioni di Censimento/R16_indicatori_2021_sezioni.csv\n",
      "INFO | 47484 | 2024-10-10 18:00:49,714 | root | Salvataggio dei dati in formato CSV in /home/max/Desktop/census_tutorial/preprocessing/census_2021/data/Sezioni di Censimento/R16_indicatori_2021_sezioni.csv\n",
      "INFO | 47484 | 2024-10-10 18:00:49,714 | root | Salvataggio dei dati in formato CSV in /home/max/Desktop/census_tutorial/preprocessing/census_2021/data/Sezioni di Censimento/R16_indicatori_2021_sezioni.csv\n",
      "INFO | 47484 | 2024-10-10 18:00:49,950 | root | Dati salvati correttamente in /home/max/Desktop/census_tutorial/preprocessing/census_2021/data/Sezioni di Censimento/R16_indicatori_2021_sezioni.csv\n",
      "INFO | 47484 | 2024-10-10 18:00:49,950 | root | Dati salvati correttamente in /home/max/Desktop/census_tutorial/preprocessing/census_2021/data/Sezioni di Censimento/R16_indicatori_2021_sezioni.csv\n",
      "INFO | 47484 | 2024-10-10 18:00:49,950 | root | Dati salvati correttamente in /home/max/Desktop/census_tutorial/preprocessing/census_2021/data/Sezioni di Censimento/R16_indicatori_2021_sezioni.csv\n",
      "INFO | 47484 | 2024-10-10 18:00:49,950 | root | Dati salvati correttamente in /home/max/Desktop/census_tutorial/preprocessing/census_2021/data/Sezioni di Censimento/R16_indicatori_2021_sezioni.csv\n",
      "INFO | 47484 | 2024-10-10 18:00:49,950 | root | Dati salvati correttamente in /home/max/Desktop/census_tutorial/preprocessing/census_2021/data/Sezioni di Censimento/R16_indicatori_2021_sezioni.csv\n",
      "INFO | 47484 | 2024-10-10 18:00:49,950 | root | Dati salvati correttamente in /home/max/Desktop/census_tutorial/preprocessing/census_2021/data/Sezioni di Censimento/R16_indicatori_2021_sezioni.csv\n",
      "INFO | 47484 | 2024-10-10 18:00:49,950 | root | Dati salvati correttamente in /home/max/Desktop/census_tutorial/preprocessing/census_2021/data/Sezioni di Censimento/R16_indicatori_2021_sezioni.csv\n",
      "INFO | 47484 | 2024-10-10 18:00:49,950 | root | Dati salvati correttamente in /home/max/Desktop/census_tutorial/preprocessing/census_2021/data/Sezioni di Censimento/R16_indicatori_2021_sezioni.csv\n",
      "INFO | 47484 | 2024-10-10 18:00:49,953 | root | Lettura del file Excel da /home/max/Desktop/census_tutorial/preprocessing/census_2021/data/R01_indicatori_2021_sezioni.xlsx\n",
      "INFO | 47484 | 2024-10-10 18:00:49,953 | root | Lettura del file Excel da /home/max/Desktop/census_tutorial/preprocessing/census_2021/data/R01_indicatori_2021_sezioni.xlsx\n",
      "INFO | 47484 | 2024-10-10 18:00:49,953 | root | Lettura del file Excel da /home/max/Desktop/census_tutorial/preprocessing/census_2021/data/R01_indicatori_2021_sezioni.xlsx\n",
      "INFO | 47484 | 2024-10-10 18:00:49,953 | root | Lettura del file Excel da /home/max/Desktop/census_tutorial/preprocessing/census_2021/data/R01_indicatori_2021_sezioni.xlsx\n",
      "INFO | 47484 | 2024-10-10 18:00:49,953 | root | Lettura del file Excel da /home/max/Desktop/census_tutorial/preprocessing/census_2021/data/R01_indicatori_2021_sezioni.xlsx\n",
      "INFO | 47484 | 2024-10-10 18:00:49,953 | root | Lettura del file Excel da /home/max/Desktop/census_tutorial/preprocessing/census_2021/data/R01_indicatori_2021_sezioni.xlsx\n",
      "INFO | 47484 | 2024-10-10 18:00:49,953 | root | Lettura del file Excel da /home/max/Desktop/census_tutorial/preprocessing/census_2021/data/R01_indicatori_2021_sezioni.xlsx\n",
      "INFO | 47484 | 2024-10-10 18:00:49,953 | root | Lettura del file Excel da /home/max/Desktop/census_tutorial/preprocessing/census_2021/data/R01_indicatori_2021_sezioni.xlsx\n",
      "INFO | 47484 | 2024-10-10 18:01:20,168 | root | Salvataggio dei dati in formato CSV in /home/max/Desktop/census_tutorial/preprocessing/census_2021/data/Sezioni di Censimento/R01_indicatori_2021_sezioni.csv\n",
      "INFO | 47484 | 2024-10-10 18:01:20,168 | root | Salvataggio dei dati in formato CSV in /home/max/Desktop/census_tutorial/preprocessing/census_2021/data/Sezioni di Censimento/R01_indicatori_2021_sezioni.csv\n",
      "INFO | 47484 | 2024-10-10 18:01:20,168 | root | Salvataggio dei dati in formato CSV in /home/max/Desktop/census_tutorial/preprocessing/census_2021/data/Sezioni di Censimento/R01_indicatori_2021_sezioni.csv\n",
      "INFO | 47484 | 2024-10-10 18:01:20,168 | root | Salvataggio dei dati in formato CSV in /home/max/Desktop/census_tutorial/preprocessing/census_2021/data/Sezioni di Censimento/R01_indicatori_2021_sezioni.csv\n",
      "INFO | 47484 | 2024-10-10 18:01:20,168 | root | Salvataggio dei dati in formato CSV in /home/max/Desktop/census_tutorial/preprocessing/census_2021/data/Sezioni di Censimento/R01_indicatori_2021_sezioni.csv\n",
      "INFO | 47484 | 2024-10-10 18:01:20,168 | root | Salvataggio dei dati in formato CSV in /home/max/Desktop/census_tutorial/preprocessing/census_2021/data/Sezioni di Censimento/R01_indicatori_2021_sezioni.csv\n",
      "INFO | 47484 | 2024-10-10 18:01:20,168 | root | Salvataggio dei dati in formato CSV in /home/max/Desktop/census_tutorial/preprocessing/census_2021/data/Sezioni di Censimento/R01_indicatori_2021_sezioni.csv\n",
      "INFO | 47484 | 2024-10-10 18:01:20,168 | root | Salvataggio dei dati in formato CSV in /home/max/Desktop/census_tutorial/preprocessing/census_2021/data/Sezioni di Censimento/R01_indicatori_2021_sezioni.csv\n",
      "INFO | 47484 | 2024-10-10 18:01:20,619 | root | Dati salvati correttamente in /home/max/Desktop/census_tutorial/preprocessing/census_2021/data/Sezioni di Censimento/R01_indicatori_2021_sezioni.csv\n",
      "INFO | 47484 | 2024-10-10 18:01:20,619 | root | Dati salvati correttamente in /home/max/Desktop/census_tutorial/preprocessing/census_2021/data/Sezioni di Censimento/R01_indicatori_2021_sezioni.csv\n",
      "INFO | 47484 | 2024-10-10 18:01:20,619 | root | Dati salvati correttamente in /home/max/Desktop/census_tutorial/preprocessing/census_2021/data/Sezioni di Censimento/R01_indicatori_2021_sezioni.csv\n",
      "INFO | 47484 | 2024-10-10 18:01:20,619 | root | Dati salvati correttamente in /home/max/Desktop/census_tutorial/preprocessing/census_2021/data/Sezioni di Censimento/R01_indicatori_2021_sezioni.csv\n",
      "INFO | 47484 | 2024-10-10 18:01:20,619 | root | Dati salvati correttamente in /home/max/Desktop/census_tutorial/preprocessing/census_2021/data/Sezioni di Censimento/R01_indicatori_2021_sezioni.csv\n",
      "INFO | 47484 | 2024-10-10 18:01:20,619 | root | Dati salvati correttamente in /home/max/Desktop/census_tutorial/preprocessing/census_2021/data/Sezioni di Censimento/R01_indicatori_2021_sezioni.csv\n",
      "INFO | 47484 | 2024-10-10 18:01:20,619 | root | Dati salvati correttamente in /home/max/Desktop/census_tutorial/preprocessing/census_2021/data/Sezioni di Censimento/R01_indicatori_2021_sezioni.csv\n",
      "INFO | 47484 | 2024-10-10 18:01:20,619 | root | Dati salvati correttamente in /home/max/Desktop/census_tutorial/preprocessing/census_2021/data/Sezioni di Censimento/R01_indicatori_2021_sezioni.csv\n",
      "INFO | 47484 | 2024-10-10 18:01:20,622 | root | Lettura del file Excel da /home/max/Desktop/census_tutorial/preprocessing/census_2021/data/R03_indicatori_2021_sezioni.xlsx\n",
      "INFO | 47484 | 2024-10-10 18:01:20,622 | root | Lettura del file Excel da /home/max/Desktop/census_tutorial/preprocessing/census_2021/data/R03_indicatori_2021_sezioni.xlsx\n",
      "INFO | 47484 | 2024-10-10 18:01:20,622 | root | Lettura del file Excel da /home/max/Desktop/census_tutorial/preprocessing/census_2021/data/R03_indicatori_2021_sezioni.xlsx\n",
      "INFO | 47484 | 2024-10-10 18:01:20,622 | root | Lettura del file Excel da /home/max/Desktop/census_tutorial/preprocessing/census_2021/data/R03_indicatori_2021_sezioni.xlsx\n",
      "INFO | 47484 | 2024-10-10 18:01:20,622 | root | Lettura del file Excel da /home/max/Desktop/census_tutorial/preprocessing/census_2021/data/R03_indicatori_2021_sezioni.xlsx\n",
      "INFO | 47484 | 2024-10-10 18:01:20,622 | root | Lettura del file Excel da /home/max/Desktop/census_tutorial/preprocessing/census_2021/data/R03_indicatori_2021_sezioni.xlsx\n",
      "INFO | 47484 | 2024-10-10 18:01:20,622 | root | Lettura del file Excel da /home/max/Desktop/census_tutorial/preprocessing/census_2021/data/R03_indicatori_2021_sezioni.xlsx\n",
      "INFO | 47484 | 2024-10-10 18:01:20,622 | root | Lettura del file Excel da /home/max/Desktop/census_tutorial/preprocessing/census_2021/data/R03_indicatori_2021_sezioni.xlsx\n",
      "INFO | 47484 | 2024-10-10 18:02:04,328 | root | Salvataggio dei dati in formato CSV in /home/max/Desktop/census_tutorial/preprocessing/census_2021/data/Sezioni di Censimento/R03_indicatori_2021_sezioni.csv\n",
      "INFO | 47484 | 2024-10-10 18:02:04,328 | root | Salvataggio dei dati in formato CSV in /home/max/Desktop/census_tutorial/preprocessing/census_2021/data/Sezioni di Censimento/R03_indicatori_2021_sezioni.csv\n",
      "INFO | 47484 | 2024-10-10 18:02:04,328 | root | Salvataggio dei dati in formato CSV in /home/max/Desktop/census_tutorial/preprocessing/census_2021/data/Sezioni di Censimento/R03_indicatori_2021_sezioni.csv\n",
      "INFO | 47484 | 2024-10-10 18:02:04,328 | root | Salvataggio dei dati in formato CSV in /home/max/Desktop/census_tutorial/preprocessing/census_2021/data/Sezioni di Censimento/R03_indicatori_2021_sezioni.csv\n",
      "INFO | 47484 | 2024-10-10 18:02:04,328 | root | Salvataggio dei dati in formato CSV in /home/max/Desktop/census_tutorial/preprocessing/census_2021/data/Sezioni di Censimento/R03_indicatori_2021_sezioni.csv\n",
      "INFO | 47484 | 2024-10-10 18:02:04,328 | root | Salvataggio dei dati in formato CSV in /home/max/Desktop/census_tutorial/preprocessing/census_2021/data/Sezioni di Censimento/R03_indicatori_2021_sezioni.csv\n",
      "INFO | 47484 | 2024-10-10 18:02:04,328 | root | Salvataggio dei dati in formato CSV in /home/max/Desktop/census_tutorial/preprocessing/census_2021/data/Sezioni di Censimento/R03_indicatori_2021_sezioni.csv\n",
      "INFO | 47484 | 2024-10-10 18:02:04,328 | root | Salvataggio dei dati in formato CSV in /home/max/Desktop/census_tutorial/preprocessing/census_2021/data/Sezioni di Censimento/R03_indicatori_2021_sezioni.csv\n",
      "INFO | 47484 | 2024-10-10 18:02:04,970 | root | Dati salvati correttamente in /home/max/Desktop/census_tutorial/preprocessing/census_2021/data/Sezioni di Censimento/R03_indicatori_2021_sezioni.csv\n",
      "INFO | 47484 | 2024-10-10 18:02:04,970 | root | Dati salvati correttamente in /home/max/Desktop/census_tutorial/preprocessing/census_2021/data/Sezioni di Censimento/R03_indicatori_2021_sezioni.csv\n",
      "INFO | 47484 | 2024-10-10 18:02:04,970 | root | Dati salvati correttamente in /home/max/Desktop/census_tutorial/preprocessing/census_2021/data/Sezioni di Censimento/R03_indicatori_2021_sezioni.csv\n",
      "INFO | 47484 | 2024-10-10 18:02:04,970 | root | Dati salvati correttamente in /home/max/Desktop/census_tutorial/preprocessing/census_2021/data/Sezioni di Censimento/R03_indicatori_2021_sezioni.csv\n",
      "INFO | 47484 | 2024-10-10 18:02:04,970 | root | Dati salvati correttamente in /home/max/Desktop/census_tutorial/preprocessing/census_2021/data/Sezioni di Censimento/R03_indicatori_2021_sezioni.csv\n",
      "INFO | 47484 | 2024-10-10 18:02:04,970 | root | Dati salvati correttamente in /home/max/Desktop/census_tutorial/preprocessing/census_2021/data/Sezioni di Censimento/R03_indicatori_2021_sezioni.csv\n",
      "INFO | 47484 | 2024-10-10 18:02:04,970 | root | Dati salvati correttamente in /home/max/Desktop/census_tutorial/preprocessing/census_2021/data/Sezioni di Censimento/R03_indicatori_2021_sezioni.csv\n",
      "INFO | 47484 | 2024-10-10 18:02:04,970 | root | Dati salvati correttamente in /home/max/Desktop/census_tutorial/preprocessing/census_2021/data/Sezioni di Censimento/R03_indicatori_2021_sezioni.csv\n",
      "INFO | 47484 | 2024-10-10 18:02:04,973 | root | Lettura del file Excel da /home/max/Desktop/census_tutorial/preprocessing/census_2021/data/R12_indicatori_2021_sezioni.xlsx\n",
      "INFO | 47484 | 2024-10-10 18:02:04,973 | root | Lettura del file Excel da /home/max/Desktop/census_tutorial/preprocessing/census_2021/data/R12_indicatori_2021_sezioni.xlsx\n",
      "INFO | 47484 | 2024-10-10 18:02:04,973 | root | Lettura del file Excel da /home/max/Desktop/census_tutorial/preprocessing/census_2021/data/R12_indicatori_2021_sezioni.xlsx\n",
      "INFO | 47484 | 2024-10-10 18:02:04,973 | root | Lettura del file Excel da /home/max/Desktop/census_tutorial/preprocessing/census_2021/data/R12_indicatori_2021_sezioni.xlsx\n",
      "INFO | 47484 | 2024-10-10 18:02:04,973 | root | Lettura del file Excel da /home/max/Desktop/census_tutorial/preprocessing/census_2021/data/R12_indicatori_2021_sezioni.xlsx\n",
      "INFO | 47484 | 2024-10-10 18:02:04,973 | root | Lettura del file Excel da /home/max/Desktop/census_tutorial/preprocessing/census_2021/data/R12_indicatori_2021_sezioni.xlsx\n",
      "INFO | 47484 | 2024-10-10 18:02:04,973 | root | Lettura del file Excel da /home/max/Desktop/census_tutorial/preprocessing/census_2021/data/R12_indicatori_2021_sezioni.xlsx\n",
      "INFO | 47484 | 2024-10-10 18:02:04,973 | root | Lettura del file Excel da /home/max/Desktop/census_tutorial/preprocessing/census_2021/data/R12_indicatori_2021_sezioni.xlsx\n",
      "INFO | 47484 | 2024-10-10 18:02:30,700 | root | Salvataggio dei dati in formato CSV in /home/max/Desktop/census_tutorial/preprocessing/census_2021/data/Sezioni di Censimento/R12_indicatori_2021_sezioni.csv\n",
      "INFO | 47484 | 2024-10-10 18:02:30,700 | root | Salvataggio dei dati in formato CSV in /home/max/Desktop/census_tutorial/preprocessing/census_2021/data/Sezioni di Censimento/R12_indicatori_2021_sezioni.csv\n",
      "INFO | 47484 | 2024-10-10 18:02:30,700 | root | Salvataggio dei dati in formato CSV in /home/max/Desktop/census_tutorial/preprocessing/census_2021/data/Sezioni di Censimento/R12_indicatori_2021_sezioni.csv\n",
      "INFO | 47484 | 2024-10-10 18:02:30,700 | root | Salvataggio dei dati in formato CSV in /home/max/Desktop/census_tutorial/preprocessing/census_2021/data/Sezioni di Censimento/R12_indicatori_2021_sezioni.csv\n",
      "INFO | 47484 | 2024-10-10 18:02:30,700 | root | Salvataggio dei dati in formato CSV in /home/max/Desktop/census_tutorial/preprocessing/census_2021/data/Sezioni di Censimento/R12_indicatori_2021_sezioni.csv\n",
      "INFO | 47484 | 2024-10-10 18:02:30,700 | root | Salvataggio dei dati in formato CSV in /home/max/Desktop/census_tutorial/preprocessing/census_2021/data/Sezioni di Censimento/R12_indicatori_2021_sezioni.csv\n",
      "INFO | 47484 | 2024-10-10 18:02:30,700 | root | Salvataggio dei dati in formato CSV in /home/max/Desktop/census_tutorial/preprocessing/census_2021/data/Sezioni di Censimento/R12_indicatori_2021_sezioni.csv\n",
      "INFO | 47484 | 2024-10-10 18:02:30,700 | root | Salvataggio dei dati in formato CSV in /home/max/Desktop/census_tutorial/preprocessing/census_2021/data/Sezioni di Censimento/R12_indicatori_2021_sezioni.csv\n",
      "INFO | 47484 | 2024-10-10 18:02:31,090 | root | Dati salvati correttamente in /home/max/Desktop/census_tutorial/preprocessing/census_2021/data/Sezioni di Censimento/R12_indicatori_2021_sezioni.csv\n",
      "INFO | 47484 | 2024-10-10 18:02:31,090 | root | Dati salvati correttamente in /home/max/Desktop/census_tutorial/preprocessing/census_2021/data/Sezioni di Censimento/R12_indicatori_2021_sezioni.csv\n",
      "INFO | 47484 | 2024-10-10 18:02:31,090 | root | Dati salvati correttamente in /home/max/Desktop/census_tutorial/preprocessing/census_2021/data/Sezioni di Censimento/R12_indicatori_2021_sezioni.csv\n",
      "INFO | 47484 | 2024-10-10 18:02:31,090 | root | Dati salvati correttamente in /home/max/Desktop/census_tutorial/preprocessing/census_2021/data/Sezioni di Censimento/R12_indicatori_2021_sezioni.csv\n",
      "INFO | 47484 | 2024-10-10 18:02:31,090 | root | Dati salvati correttamente in /home/max/Desktop/census_tutorial/preprocessing/census_2021/data/Sezioni di Censimento/R12_indicatori_2021_sezioni.csv\n",
      "INFO | 47484 | 2024-10-10 18:02:31,090 | root | Dati salvati correttamente in /home/max/Desktop/census_tutorial/preprocessing/census_2021/data/Sezioni di Censimento/R12_indicatori_2021_sezioni.csv\n",
      "INFO | 47484 | 2024-10-10 18:02:31,090 | root | Dati salvati correttamente in /home/max/Desktop/census_tutorial/preprocessing/census_2021/data/Sezioni di Censimento/R12_indicatori_2021_sezioni.csv\n",
      "INFO | 47484 | 2024-10-10 18:02:31,090 | root | Dati salvati correttamente in /home/max/Desktop/census_tutorial/preprocessing/census_2021/data/Sezioni di Censimento/R12_indicatori_2021_sezioni.csv\n",
      "INFO | 47484 | 2024-10-10 18:02:31,093 | root | Lettura del file Excel da /home/max/Desktop/census_tutorial/preprocessing/census_2021/data/R09_indicatori_2021_sezioni.xlsx\n",
      "INFO | 47484 | 2024-10-10 18:02:31,093 | root | Lettura del file Excel da /home/max/Desktop/census_tutorial/preprocessing/census_2021/data/R09_indicatori_2021_sezioni.xlsx\n",
      "INFO | 47484 | 2024-10-10 18:02:31,093 | root | Lettura del file Excel da /home/max/Desktop/census_tutorial/preprocessing/census_2021/data/R09_indicatori_2021_sezioni.xlsx\n",
      "INFO | 47484 | 2024-10-10 18:02:31,093 | root | Lettura del file Excel da /home/max/Desktop/census_tutorial/preprocessing/census_2021/data/R09_indicatori_2021_sezioni.xlsx\n",
      "INFO | 47484 | 2024-10-10 18:02:31,093 | root | Lettura del file Excel da /home/max/Desktop/census_tutorial/preprocessing/census_2021/data/R09_indicatori_2021_sezioni.xlsx\n",
      "INFO | 47484 | 2024-10-10 18:02:31,093 | root | Lettura del file Excel da /home/max/Desktop/census_tutorial/preprocessing/census_2021/data/R09_indicatori_2021_sezioni.xlsx\n",
      "INFO | 47484 | 2024-10-10 18:02:31,093 | root | Lettura del file Excel da /home/max/Desktop/census_tutorial/preprocessing/census_2021/data/R09_indicatori_2021_sezioni.xlsx\n",
      "INFO | 47484 | 2024-10-10 18:02:31,093 | root | Lettura del file Excel da /home/max/Desktop/census_tutorial/preprocessing/census_2021/data/R09_indicatori_2021_sezioni.xlsx\n",
      "INFO | 47484 | 2024-10-10 18:02:52,345 | root | Salvataggio dei dati in formato CSV in /home/max/Desktop/census_tutorial/preprocessing/census_2021/data/Sezioni di Censimento/R09_indicatori_2021_sezioni.csv\n",
      "INFO | 47484 | 2024-10-10 18:02:52,345 | root | Salvataggio dei dati in formato CSV in /home/max/Desktop/census_tutorial/preprocessing/census_2021/data/Sezioni di Censimento/R09_indicatori_2021_sezioni.csv\n",
      "INFO | 47484 | 2024-10-10 18:02:52,345 | root | Salvataggio dei dati in formato CSV in /home/max/Desktop/census_tutorial/preprocessing/census_2021/data/Sezioni di Censimento/R09_indicatori_2021_sezioni.csv\n",
      "INFO | 47484 | 2024-10-10 18:02:52,345 | root | Salvataggio dei dati in formato CSV in /home/max/Desktop/census_tutorial/preprocessing/census_2021/data/Sezioni di Censimento/R09_indicatori_2021_sezioni.csv\n",
      "INFO | 47484 | 2024-10-10 18:02:52,345 | root | Salvataggio dei dati in formato CSV in /home/max/Desktop/census_tutorial/preprocessing/census_2021/data/Sezioni di Censimento/R09_indicatori_2021_sezioni.csv\n",
      "INFO | 47484 | 2024-10-10 18:02:52,345 | root | Salvataggio dei dati in formato CSV in /home/max/Desktop/census_tutorial/preprocessing/census_2021/data/Sezioni di Censimento/R09_indicatori_2021_sezioni.csv\n",
      "INFO | 47484 | 2024-10-10 18:02:52,345 | root | Salvataggio dei dati in formato CSV in /home/max/Desktop/census_tutorial/preprocessing/census_2021/data/Sezioni di Censimento/R09_indicatori_2021_sezioni.csv\n",
      "INFO | 47484 | 2024-10-10 18:02:52,345 | root | Salvataggio dei dati in formato CSV in /home/max/Desktop/census_tutorial/preprocessing/census_2021/data/Sezioni di Censimento/R09_indicatori_2021_sezioni.csv\n",
      "INFO | 47484 | 2024-10-10 18:02:52,670 | root | Dati salvati correttamente in /home/max/Desktop/census_tutorial/preprocessing/census_2021/data/Sezioni di Censimento/R09_indicatori_2021_sezioni.csv\n",
      "INFO | 47484 | 2024-10-10 18:02:52,670 | root | Dati salvati correttamente in /home/max/Desktop/census_tutorial/preprocessing/census_2021/data/Sezioni di Censimento/R09_indicatori_2021_sezioni.csv\n",
      "INFO | 47484 | 2024-10-10 18:02:52,670 | root | Dati salvati correttamente in /home/max/Desktop/census_tutorial/preprocessing/census_2021/data/Sezioni di Censimento/R09_indicatori_2021_sezioni.csv\n",
      "INFO | 47484 | 2024-10-10 18:02:52,670 | root | Dati salvati correttamente in /home/max/Desktop/census_tutorial/preprocessing/census_2021/data/Sezioni di Censimento/R09_indicatori_2021_sezioni.csv\n",
      "INFO | 47484 | 2024-10-10 18:02:52,670 | root | Dati salvati correttamente in /home/max/Desktop/census_tutorial/preprocessing/census_2021/data/Sezioni di Censimento/R09_indicatori_2021_sezioni.csv\n",
      "INFO | 47484 | 2024-10-10 18:02:52,670 | root | Dati salvati correttamente in /home/max/Desktop/census_tutorial/preprocessing/census_2021/data/Sezioni di Censimento/R09_indicatori_2021_sezioni.csv\n",
      "INFO | 47484 | 2024-10-10 18:02:52,670 | root | Dati salvati correttamente in /home/max/Desktop/census_tutorial/preprocessing/census_2021/data/Sezioni di Censimento/R09_indicatori_2021_sezioni.csv\n",
      "INFO | 47484 | 2024-10-10 18:02:52,670 | root | Dati salvati correttamente in /home/max/Desktop/census_tutorial/preprocessing/census_2021/data/Sezioni di Censimento/R09_indicatori_2021_sezioni.csv\n",
      "INFO | 47484 | 2024-10-10 18:02:52,677 | root | Lettura del file Excel da /home/max/Desktop/census_tutorial/preprocessing/census_2021/data/R11_indicatori_2021_sezioni.xlsx\n",
      "INFO | 47484 | 2024-10-10 18:02:52,677 | root | Lettura del file Excel da /home/max/Desktop/census_tutorial/preprocessing/census_2021/data/R11_indicatori_2021_sezioni.xlsx\n",
      "INFO | 47484 | 2024-10-10 18:02:52,677 | root | Lettura del file Excel da /home/max/Desktop/census_tutorial/preprocessing/census_2021/data/R11_indicatori_2021_sezioni.xlsx\n",
      "INFO | 47484 | 2024-10-10 18:02:52,677 | root | Lettura del file Excel da /home/max/Desktop/census_tutorial/preprocessing/census_2021/data/R11_indicatori_2021_sezioni.xlsx\n",
      "INFO | 47484 | 2024-10-10 18:02:52,677 | root | Lettura del file Excel da /home/max/Desktop/census_tutorial/preprocessing/census_2021/data/R11_indicatori_2021_sezioni.xlsx\n",
      "INFO | 47484 | 2024-10-10 18:02:52,677 | root | Lettura del file Excel da /home/max/Desktop/census_tutorial/preprocessing/census_2021/data/R11_indicatori_2021_sezioni.xlsx\n",
      "INFO | 47484 | 2024-10-10 18:02:52,677 | root | Lettura del file Excel da /home/max/Desktop/census_tutorial/preprocessing/census_2021/data/R11_indicatori_2021_sezioni.xlsx\n",
      "INFO | 47484 | 2024-10-10 18:02:52,677 | root | Lettura del file Excel da /home/max/Desktop/census_tutorial/preprocessing/census_2021/data/R11_indicatori_2021_sezioni.xlsx\n",
      "INFO | 47484 | 2024-10-10 18:03:01,527 | root | Salvataggio dei dati in formato CSV in /home/max/Desktop/census_tutorial/preprocessing/census_2021/data/Sezioni di Censimento/R11_indicatori_2021_sezioni.csv\n",
      "INFO | 47484 | 2024-10-10 18:03:01,527 | root | Salvataggio dei dati in formato CSV in /home/max/Desktop/census_tutorial/preprocessing/census_2021/data/Sezioni di Censimento/R11_indicatori_2021_sezioni.csv\n",
      "INFO | 47484 | 2024-10-10 18:03:01,527 | root | Salvataggio dei dati in formato CSV in /home/max/Desktop/census_tutorial/preprocessing/census_2021/data/Sezioni di Censimento/R11_indicatori_2021_sezioni.csv\n",
      "INFO | 47484 | 2024-10-10 18:03:01,527 | root | Salvataggio dei dati in formato CSV in /home/max/Desktop/census_tutorial/preprocessing/census_2021/data/Sezioni di Censimento/R11_indicatori_2021_sezioni.csv\n",
      "INFO | 47484 | 2024-10-10 18:03:01,527 | root | Salvataggio dei dati in formato CSV in /home/max/Desktop/census_tutorial/preprocessing/census_2021/data/Sezioni di Censimento/R11_indicatori_2021_sezioni.csv\n",
      "INFO | 47484 | 2024-10-10 18:03:01,527 | root | Salvataggio dei dati in formato CSV in /home/max/Desktop/census_tutorial/preprocessing/census_2021/data/Sezioni di Censimento/R11_indicatori_2021_sezioni.csv\n",
      "INFO | 47484 | 2024-10-10 18:03:01,527 | root | Salvataggio dei dati in formato CSV in /home/max/Desktop/census_tutorial/preprocessing/census_2021/data/Sezioni di Censimento/R11_indicatori_2021_sezioni.csv\n",
      "INFO | 47484 | 2024-10-10 18:03:01,527 | root | Salvataggio dei dati in formato CSV in /home/max/Desktop/census_tutorial/preprocessing/census_2021/data/Sezioni di Censimento/R11_indicatori_2021_sezioni.csv\n",
      "INFO | 47484 | 2024-10-10 18:03:01,666 | root | Dati salvati correttamente in /home/max/Desktop/census_tutorial/preprocessing/census_2021/data/Sezioni di Censimento/R11_indicatori_2021_sezioni.csv\n",
      "INFO | 47484 | 2024-10-10 18:03:01,666 | root | Dati salvati correttamente in /home/max/Desktop/census_tutorial/preprocessing/census_2021/data/Sezioni di Censimento/R11_indicatori_2021_sezioni.csv\n",
      "INFO | 47484 | 2024-10-10 18:03:01,666 | root | Dati salvati correttamente in /home/max/Desktop/census_tutorial/preprocessing/census_2021/data/Sezioni di Censimento/R11_indicatori_2021_sezioni.csv\n",
      "INFO | 47484 | 2024-10-10 18:03:01,666 | root | Dati salvati correttamente in /home/max/Desktop/census_tutorial/preprocessing/census_2021/data/Sezioni di Censimento/R11_indicatori_2021_sezioni.csv\n",
      "INFO | 47484 | 2024-10-10 18:03:01,666 | root | Dati salvati correttamente in /home/max/Desktop/census_tutorial/preprocessing/census_2021/data/Sezioni di Censimento/R11_indicatori_2021_sezioni.csv\n",
      "INFO | 47484 | 2024-10-10 18:03:01,666 | root | Dati salvati correttamente in /home/max/Desktop/census_tutorial/preprocessing/census_2021/data/Sezioni di Censimento/R11_indicatori_2021_sezioni.csv\n",
      "INFO | 47484 | 2024-10-10 18:03:01,666 | root | Dati salvati correttamente in /home/max/Desktop/census_tutorial/preprocessing/census_2021/data/Sezioni di Censimento/R11_indicatori_2021_sezioni.csv\n",
      "INFO | 47484 | 2024-10-10 18:03:01,666 | root | Dati salvati correttamente in /home/max/Desktop/census_tutorial/preprocessing/census_2021/data/Sezioni di Censimento/R11_indicatori_2021_sezioni.csv\n",
      "INFO | 47484 | 2024-10-10 18:03:01,669 | root | Lettura del file Excel da /home/max/Desktop/census_tutorial/preprocessing/census_2021/data/R15_indicatori_2021_sezioni.xlsx\n",
      "INFO | 47484 | 2024-10-10 18:03:01,669 | root | Lettura del file Excel da /home/max/Desktop/census_tutorial/preprocessing/census_2021/data/R15_indicatori_2021_sezioni.xlsx\n",
      "INFO | 47484 | 2024-10-10 18:03:01,669 | root | Lettura del file Excel da /home/max/Desktop/census_tutorial/preprocessing/census_2021/data/R15_indicatori_2021_sezioni.xlsx\n",
      "INFO | 47484 | 2024-10-10 18:03:01,669 | root | Lettura del file Excel da /home/max/Desktop/census_tutorial/preprocessing/census_2021/data/R15_indicatori_2021_sezioni.xlsx\n",
      "INFO | 47484 | 2024-10-10 18:03:01,669 | root | Lettura del file Excel da /home/max/Desktop/census_tutorial/preprocessing/census_2021/data/R15_indicatori_2021_sezioni.xlsx\n",
      "INFO | 47484 | 2024-10-10 18:03:01,669 | root | Lettura del file Excel da /home/max/Desktop/census_tutorial/preprocessing/census_2021/data/R15_indicatori_2021_sezioni.xlsx\n",
      "INFO | 47484 | 2024-10-10 18:03:01,669 | root | Lettura del file Excel da /home/max/Desktop/census_tutorial/preprocessing/census_2021/data/R15_indicatori_2021_sezioni.xlsx\n",
      "INFO | 47484 | 2024-10-10 18:03:01,669 | root | Lettura del file Excel da /home/max/Desktop/census_tutorial/preprocessing/census_2021/data/R15_indicatori_2021_sezioni.xlsx\n",
      "INFO | 47484 | 2024-10-10 18:03:22,700 | root | Salvataggio dei dati in formato CSV in /home/max/Desktop/census_tutorial/preprocessing/census_2021/data/Sezioni di Censimento/R15_indicatori_2021_sezioni.csv\n",
      "INFO | 47484 | 2024-10-10 18:03:22,700 | root | Salvataggio dei dati in formato CSV in /home/max/Desktop/census_tutorial/preprocessing/census_2021/data/Sezioni di Censimento/R15_indicatori_2021_sezioni.csv\n",
      "INFO | 47484 | 2024-10-10 18:03:22,700 | root | Salvataggio dei dati in formato CSV in /home/max/Desktop/census_tutorial/preprocessing/census_2021/data/Sezioni di Censimento/R15_indicatori_2021_sezioni.csv\n",
      "INFO | 47484 | 2024-10-10 18:03:22,700 | root | Salvataggio dei dati in formato CSV in /home/max/Desktop/census_tutorial/preprocessing/census_2021/data/Sezioni di Censimento/R15_indicatori_2021_sezioni.csv\n",
      "INFO | 47484 | 2024-10-10 18:03:22,700 | root | Salvataggio dei dati in formato CSV in /home/max/Desktop/census_tutorial/preprocessing/census_2021/data/Sezioni di Censimento/R15_indicatori_2021_sezioni.csv\n",
      "INFO | 47484 | 2024-10-10 18:03:22,700 | root | Salvataggio dei dati in formato CSV in /home/max/Desktop/census_tutorial/preprocessing/census_2021/data/Sezioni di Censimento/R15_indicatori_2021_sezioni.csv\n",
      "INFO | 47484 | 2024-10-10 18:03:22,700 | root | Salvataggio dei dati in formato CSV in /home/max/Desktop/census_tutorial/preprocessing/census_2021/data/Sezioni di Censimento/R15_indicatori_2021_sezioni.csv\n",
      "INFO | 47484 | 2024-10-10 18:03:22,700 | root | Salvataggio dei dati in formato CSV in /home/max/Desktop/census_tutorial/preprocessing/census_2021/data/Sezioni di Censimento/R15_indicatori_2021_sezioni.csv\n",
      "INFO | 47484 | 2024-10-10 18:03:23,023 | root | Dati salvati correttamente in /home/max/Desktop/census_tutorial/preprocessing/census_2021/data/Sezioni di Censimento/R15_indicatori_2021_sezioni.csv\n",
      "INFO | 47484 | 2024-10-10 18:03:23,023 | root | Dati salvati correttamente in /home/max/Desktop/census_tutorial/preprocessing/census_2021/data/Sezioni di Censimento/R15_indicatori_2021_sezioni.csv\n",
      "INFO | 47484 | 2024-10-10 18:03:23,023 | root | Dati salvati correttamente in /home/max/Desktop/census_tutorial/preprocessing/census_2021/data/Sezioni di Censimento/R15_indicatori_2021_sezioni.csv\n",
      "INFO | 47484 | 2024-10-10 18:03:23,023 | root | Dati salvati correttamente in /home/max/Desktop/census_tutorial/preprocessing/census_2021/data/Sezioni di Censimento/R15_indicatori_2021_sezioni.csv\n",
      "INFO | 47484 | 2024-10-10 18:03:23,023 | root | Dati salvati correttamente in /home/max/Desktop/census_tutorial/preprocessing/census_2021/data/Sezioni di Censimento/R15_indicatori_2021_sezioni.csv\n",
      "INFO | 47484 | 2024-10-10 18:03:23,023 | root | Dati salvati correttamente in /home/max/Desktop/census_tutorial/preprocessing/census_2021/data/Sezioni di Censimento/R15_indicatori_2021_sezioni.csv\n",
      "INFO | 47484 | 2024-10-10 18:03:23,023 | root | Dati salvati correttamente in /home/max/Desktop/census_tutorial/preprocessing/census_2021/data/Sezioni di Censimento/R15_indicatori_2021_sezioni.csv\n",
      "INFO | 47484 | 2024-10-10 18:03:23,023 | root | Dati salvati correttamente in /home/max/Desktop/census_tutorial/preprocessing/census_2021/data/Sezioni di Censimento/R15_indicatori_2021_sezioni.csv\n",
      "INFO | 47484 | 2024-10-10 18:03:23,026 | root | Lettura del file Excel da /home/max/Desktop/census_tutorial/preprocessing/census_2021/data/TRACCIATO FILE REGIONALI.xlsx\n",
      "INFO | 47484 | 2024-10-10 18:03:23,026 | root | Lettura del file Excel da /home/max/Desktop/census_tutorial/preprocessing/census_2021/data/TRACCIATO FILE REGIONALI.xlsx\n",
      "INFO | 47484 | 2024-10-10 18:03:23,026 | root | Lettura del file Excel da /home/max/Desktop/census_tutorial/preprocessing/census_2021/data/TRACCIATO FILE REGIONALI.xlsx\n",
      "INFO | 47484 | 2024-10-10 18:03:23,026 | root | Lettura del file Excel da /home/max/Desktop/census_tutorial/preprocessing/census_2021/data/TRACCIATO FILE REGIONALI.xlsx\n",
      "INFO | 47484 | 2024-10-10 18:03:23,026 | root | Lettura del file Excel da /home/max/Desktop/census_tutorial/preprocessing/census_2021/data/TRACCIATO FILE REGIONALI.xlsx\n",
      "INFO | 47484 | 2024-10-10 18:03:23,026 | root | Lettura del file Excel da /home/max/Desktop/census_tutorial/preprocessing/census_2021/data/TRACCIATO FILE REGIONALI.xlsx\n",
      "INFO | 47484 | 2024-10-10 18:03:23,026 | root | Lettura del file Excel da /home/max/Desktop/census_tutorial/preprocessing/census_2021/data/TRACCIATO FILE REGIONALI.xlsx\n",
      "INFO | 47484 | 2024-10-10 18:03:23,026 | root | Lettura del file Excel da /home/max/Desktop/census_tutorial/preprocessing/census_2021/data/TRACCIATO FILE REGIONALI.xlsx\n",
      "INFO | 47484 | 2024-10-10 18:03:23,049 | root | Salvataggio dei dati del tracciato in /home/max/Desktop/census_tutorial/preprocessing/census_2021/data/Sezioni di Censimento/tracciato_2021_sezioni.csv\n",
      "INFO | 47484 | 2024-10-10 18:03:23,049 | root | Salvataggio dei dati del tracciato in /home/max/Desktop/census_tutorial/preprocessing/census_2021/data/Sezioni di Censimento/tracciato_2021_sezioni.csv\n",
      "INFO | 47484 | 2024-10-10 18:03:23,049 | root | Salvataggio dei dati del tracciato in /home/max/Desktop/census_tutorial/preprocessing/census_2021/data/Sezioni di Censimento/tracciato_2021_sezioni.csv\n",
      "INFO | 47484 | 2024-10-10 18:03:23,049 | root | Salvataggio dei dati del tracciato in /home/max/Desktop/census_tutorial/preprocessing/census_2021/data/Sezioni di Censimento/tracciato_2021_sezioni.csv\n",
      "INFO | 47484 | 2024-10-10 18:03:23,049 | root | Salvataggio dei dati del tracciato in /home/max/Desktop/census_tutorial/preprocessing/census_2021/data/Sezioni di Censimento/tracciato_2021_sezioni.csv\n",
      "INFO | 47484 | 2024-10-10 18:03:23,049 | root | Salvataggio dei dati del tracciato in /home/max/Desktop/census_tutorial/preprocessing/census_2021/data/Sezioni di Censimento/tracciato_2021_sezioni.csv\n",
      "INFO | 47484 | 2024-10-10 18:03:23,049 | root | Salvataggio dei dati del tracciato in /home/max/Desktop/census_tutorial/preprocessing/census_2021/data/Sezioni di Censimento/tracciato_2021_sezioni.csv\n",
      "INFO | 47484 | 2024-10-10 18:03:23,049 | root | Salvataggio dei dati del tracciato in /home/max/Desktop/census_tutorial/preprocessing/census_2021/data/Sezioni di Censimento/tracciato_2021_sezioni.csv\n",
      "INFO | 47484 | 2024-10-10 18:03:23,055 | root | Dati salvati correttamente in /home/max/Desktop/census_tutorial/preprocessing/census_2021/data/Sezioni di Censimento/tracciato_2021_sezioni.csv\n",
      "INFO | 47484 | 2024-10-10 18:03:23,055 | root | Dati salvati correttamente in /home/max/Desktop/census_tutorial/preprocessing/census_2021/data/Sezioni di Censimento/tracciato_2021_sezioni.csv\n",
      "INFO | 47484 | 2024-10-10 18:03:23,055 | root | Dati salvati correttamente in /home/max/Desktop/census_tutorial/preprocessing/census_2021/data/Sezioni di Censimento/tracciato_2021_sezioni.csv\n",
      "INFO | 47484 | 2024-10-10 18:03:23,055 | root | Dati salvati correttamente in /home/max/Desktop/census_tutorial/preprocessing/census_2021/data/Sezioni di Censimento/tracciato_2021_sezioni.csv\n",
      "INFO | 47484 | 2024-10-10 18:03:23,055 | root | Dati salvati correttamente in /home/max/Desktop/census_tutorial/preprocessing/census_2021/data/Sezioni di Censimento/tracciato_2021_sezioni.csv\n",
      "INFO | 47484 | 2024-10-10 18:03:23,055 | root | Dati salvati correttamente in /home/max/Desktop/census_tutorial/preprocessing/census_2021/data/Sezioni di Censimento/tracciato_2021_sezioni.csv\n",
      "INFO | 47484 | 2024-10-10 18:03:23,055 | root | Dati salvati correttamente in /home/max/Desktop/census_tutorial/preprocessing/census_2021/data/Sezioni di Censimento/tracciato_2021_sezioni.csv\n",
      "INFO | 47484 | 2024-10-10 18:03:23,055 | root | Dati salvati correttamente in /home/max/Desktop/census_tutorial/preprocessing/census_2021/data/Sezioni di Censimento/tracciato_2021_sezioni.csv\n",
      "INFO | 47484 | 2024-10-10 18:03:23,057 | root | Lettura del file Excel da /home/max/Desktop/census_tutorial/preprocessing/census_2021/data/R14_indicatori_2021_sezioni.xlsx\n",
      "INFO | 47484 | 2024-10-10 18:03:23,057 | root | Lettura del file Excel da /home/max/Desktop/census_tutorial/preprocessing/census_2021/data/R14_indicatori_2021_sezioni.xlsx\n",
      "INFO | 47484 | 2024-10-10 18:03:23,057 | root | Lettura del file Excel da /home/max/Desktop/census_tutorial/preprocessing/census_2021/data/R14_indicatori_2021_sezioni.xlsx\n",
      "INFO | 47484 | 2024-10-10 18:03:23,057 | root | Lettura del file Excel da /home/max/Desktop/census_tutorial/preprocessing/census_2021/data/R14_indicatori_2021_sezioni.xlsx\n",
      "INFO | 47484 | 2024-10-10 18:03:23,057 | root | Lettura del file Excel da /home/max/Desktop/census_tutorial/preprocessing/census_2021/data/R14_indicatori_2021_sezioni.xlsx\n",
      "INFO | 47484 | 2024-10-10 18:03:23,057 | root | Lettura del file Excel da /home/max/Desktop/census_tutorial/preprocessing/census_2021/data/R14_indicatori_2021_sezioni.xlsx\n",
      "INFO | 47484 | 2024-10-10 18:03:23,057 | root | Lettura del file Excel da /home/max/Desktop/census_tutorial/preprocessing/census_2021/data/R14_indicatori_2021_sezioni.xlsx\n",
      "INFO | 47484 | 2024-10-10 18:03:23,057 | root | Lettura del file Excel da /home/max/Desktop/census_tutorial/preprocessing/census_2021/data/R14_indicatori_2021_sezioni.xlsx\n",
      "INFO | 47484 | 2024-10-10 18:03:25,348 | root | Salvataggio dei dati in formato CSV in /home/max/Desktop/census_tutorial/preprocessing/census_2021/data/Sezioni di Censimento/R14_indicatori_2021_sezioni.csv\n",
      "INFO | 47484 | 2024-10-10 18:03:25,348 | root | Salvataggio dei dati in formato CSV in /home/max/Desktop/census_tutorial/preprocessing/census_2021/data/Sezioni di Censimento/R14_indicatori_2021_sezioni.csv\n",
      "INFO | 47484 | 2024-10-10 18:03:25,348 | root | Salvataggio dei dati in formato CSV in /home/max/Desktop/census_tutorial/preprocessing/census_2021/data/Sezioni di Censimento/R14_indicatori_2021_sezioni.csv\n",
      "INFO | 47484 | 2024-10-10 18:03:25,348 | root | Salvataggio dei dati in formato CSV in /home/max/Desktop/census_tutorial/preprocessing/census_2021/data/Sezioni di Censimento/R14_indicatori_2021_sezioni.csv\n",
      "INFO | 47484 | 2024-10-10 18:03:25,348 | root | Salvataggio dei dati in formato CSV in /home/max/Desktop/census_tutorial/preprocessing/census_2021/data/Sezioni di Censimento/R14_indicatori_2021_sezioni.csv\n",
      "INFO | 47484 | 2024-10-10 18:03:25,348 | root | Salvataggio dei dati in formato CSV in /home/max/Desktop/census_tutorial/preprocessing/census_2021/data/Sezioni di Censimento/R14_indicatori_2021_sezioni.csv\n",
      "INFO | 47484 | 2024-10-10 18:03:25,348 | root | Salvataggio dei dati in formato CSV in /home/max/Desktop/census_tutorial/preprocessing/census_2021/data/Sezioni di Censimento/R14_indicatori_2021_sezioni.csv\n",
      "INFO | 47484 | 2024-10-10 18:03:25,348 | root | Salvataggio dei dati in formato CSV in /home/max/Desktop/census_tutorial/preprocessing/census_2021/data/Sezioni di Censimento/R14_indicatori_2021_sezioni.csv\n",
      "INFO | 47484 | 2024-10-10 18:03:25,385 | root | Dati salvati correttamente in /home/max/Desktop/census_tutorial/preprocessing/census_2021/data/Sezioni di Censimento/R14_indicatori_2021_sezioni.csv\n",
      "INFO | 47484 | 2024-10-10 18:03:25,385 | root | Dati salvati correttamente in /home/max/Desktop/census_tutorial/preprocessing/census_2021/data/Sezioni di Censimento/R14_indicatori_2021_sezioni.csv\n",
      "INFO | 47484 | 2024-10-10 18:03:25,385 | root | Dati salvati correttamente in /home/max/Desktop/census_tutorial/preprocessing/census_2021/data/Sezioni di Censimento/R14_indicatori_2021_sezioni.csv\n",
      "INFO | 47484 | 2024-10-10 18:03:25,385 | root | Dati salvati correttamente in /home/max/Desktop/census_tutorial/preprocessing/census_2021/data/Sezioni di Censimento/R14_indicatori_2021_sezioni.csv\n",
      "INFO | 47484 | 2024-10-10 18:03:25,385 | root | Dati salvati correttamente in /home/max/Desktop/census_tutorial/preprocessing/census_2021/data/Sezioni di Censimento/R14_indicatori_2021_sezioni.csv\n",
      "INFO | 47484 | 2024-10-10 18:03:25,385 | root | Dati salvati correttamente in /home/max/Desktop/census_tutorial/preprocessing/census_2021/data/Sezioni di Censimento/R14_indicatori_2021_sezioni.csv\n",
      "INFO | 47484 | 2024-10-10 18:03:25,385 | root | Dati salvati correttamente in /home/max/Desktop/census_tutorial/preprocessing/census_2021/data/Sezioni di Censimento/R14_indicatori_2021_sezioni.csv\n",
      "INFO | 47484 | 2024-10-10 18:03:25,385 | root | Dati salvati correttamente in /home/max/Desktop/census_tutorial/preprocessing/census_2021/data/Sezioni di Censimento/R14_indicatori_2021_sezioni.csv\n",
      "INFO | 47484 | 2024-10-10 18:03:25,388 | root | Lettura del file Excel da /home/max/Desktop/census_tutorial/preprocessing/census_2021/data/R20_indicatori_2021_sezioni.xlsx\n",
      "INFO | 47484 | 2024-10-10 18:03:25,388 | root | Lettura del file Excel da /home/max/Desktop/census_tutorial/preprocessing/census_2021/data/R20_indicatori_2021_sezioni.xlsx\n",
      "INFO | 47484 | 2024-10-10 18:03:25,388 | root | Lettura del file Excel da /home/max/Desktop/census_tutorial/preprocessing/census_2021/data/R20_indicatori_2021_sezioni.xlsx\n",
      "INFO | 47484 | 2024-10-10 18:03:25,388 | root | Lettura del file Excel da /home/max/Desktop/census_tutorial/preprocessing/census_2021/data/R20_indicatori_2021_sezioni.xlsx\n",
      "INFO | 47484 | 2024-10-10 18:03:25,388 | root | Lettura del file Excel da /home/max/Desktop/census_tutorial/preprocessing/census_2021/data/R20_indicatori_2021_sezioni.xlsx\n",
      "INFO | 47484 | 2024-10-10 18:03:25,388 | root | Lettura del file Excel da /home/max/Desktop/census_tutorial/preprocessing/census_2021/data/R20_indicatori_2021_sezioni.xlsx\n",
      "INFO | 47484 | 2024-10-10 18:03:25,388 | root | Lettura del file Excel da /home/max/Desktop/census_tutorial/preprocessing/census_2021/data/R20_indicatori_2021_sezioni.xlsx\n",
      "INFO | 47484 | 2024-10-10 18:03:25,388 | root | Lettura del file Excel da /home/max/Desktop/census_tutorial/preprocessing/census_2021/data/R20_indicatori_2021_sezioni.xlsx\n",
      "INFO | 47484 | 2024-10-10 18:03:33,508 | root | Salvataggio dei dati in formato CSV in /home/max/Desktop/census_tutorial/preprocessing/census_2021/data/Sezioni di Censimento/R20_indicatori_2021_sezioni.csv\n",
      "INFO | 47484 | 2024-10-10 18:03:33,508 | root | Salvataggio dei dati in formato CSV in /home/max/Desktop/census_tutorial/preprocessing/census_2021/data/Sezioni di Censimento/R20_indicatori_2021_sezioni.csv\n",
      "INFO | 47484 | 2024-10-10 18:03:33,508 | root | Salvataggio dei dati in formato CSV in /home/max/Desktop/census_tutorial/preprocessing/census_2021/data/Sezioni di Censimento/R20_indicatori_2021_sezioni.csv\n",
      "INFO | 47484 | 2024-10-10 18:03:33,508 | root | Salvataggio dei dati in formato CSV in /home/max/Desktop/census_tutorial/preprocessing/census_2021/data/Sezioni di Censimento/R20_indicatori_2021_sezioni.csv\n",
      "INFO | 47484 | 2024-10-10 18:03:33,508 | root | Salvataggio dei dati in formato CSV in /home/max/Desktop/census_tutorial/preprocessing/census_2021/data/Sezioni di Censimento/R20_indicatori_2021_sezioni.csv\n",
      "INFO | 47484 | 2024-10-10 18:03:33,508 | root | Salvataggio dei dati in formato CSV in /home/max/Desktop/census_tutorial/preprocessing/census_2021/data/Sezioni di Censimento/R20_indicatori_2021_sezioni.csv\n",
      "INFO | 47484 | 2024-10-10 18:03:33,508 | root | Salvataggio dei dati in formato CSV in /home/max/Desktop/census_tutorial/preprocessing/census_2021/data/Sezioni di Censimento/R20_indicatori_2021_sezioni.csv\n",
      "INFO | 47484 | 2024-10-10 18:03:33,508 | root | Salvataggio dei dati in formato CSV in /home/max/Desktop/census_tutorial/preprocessing/census_2021/data/Sezioni di Censimento/R20_indicatori_2021_sezioni.csv\n",
      "INFO | 47484 | 2024-10-10 18:03:33,635 | root | Dati salvati correttamente in /home/max/Desktop/census_tutorial/preprocessing/census_2021/data/Sezioni di Censimento/R20_indicatori_2021_sezioni.csv\n",
      "INFO | 47484 | 2024-10-10 18:03:33,635 | root | Dati salvati correttamente in /home/max/Desktop/census_tutorial/preprocessing/census_2021/data/Sezioni di Censimento/R20_indicatori_2021_sezioni.csv\n",
      "INFO | 47484 | 2024-10-10 18:03:33,635 | root | Dati salvati correttamente in /home/max/Desktop/census_tutorial/preprocessing/census_2021/data/Sezioni di Censimento/R20_indicatori_2021_sezioni.csv\n",
      "INFO | 47484 | 2024-10-10 18:03:33,635 | root | Dati salvati correttamente in /home/max/Desktop/census_tutorial/preprocessing/census_2021/data/Sezioni di Censimento/R20_indicatori_2021_sezioni.csv\n",
      "INFO | 47484 | 2024-10-10 18:03:33,635 | root | Dati salvati correttamente in /home/max/Desktop/census_tutorial/preprocessing/census_2021/data/Sezioni di Censimento/R20_indicatori_2021_sezioni.csv\n",
      "INFO | 47484 | 2024-10-10 18:03:33,635 | root | Dati salvati correttamente in /home/max/Desktop/census_tutorial/preprocessing/census_2021/data/Sezioni di Censimento/R20_indicatori_2021_sezioni.csv\n",
      "INFO | 47484 | 2024-10-10 18:03:33,635 | root | Dati salvati correttamente in /home/max/Desktop/census_tutorial/preprocessing/census_2021/data/Sezioni di Censimento/R20_indicatori_2021_sezioni.csv\n",
      "INFO | 47484 | 2024-10-10 18:03:33,635 | root | Dati salvati correttamente in /home/max/Desktop/census_tutorial/preprocessing/census_2021/data/Sezioni di Censimento/R20_indicatori_2021_sezioni.csv\n",
      "INFO | 47484 | 2024-10-10 18:03:33,639 | root | Lettura del file Excel da /home/max/Desktop/census_tutorial/preprocessing/census_2021/data/R07_indicatori_2021_sezioni.xlsx\n",
      "INFO | 47484 | 2024-10-10 18:03:33,639 | root | Lettura del file Excel da /home/max/Desktop/census_tutorial/preprocessing/census_2021/data/R07_indicatori_2021_sezioni.xlsx\n",
      "INFO | 47484 | 2024-10-10 18:03:33,639 | root | Lettura del file Excel da /home/max/Desktop/census_tutorial/preprocessing/census_2021/data/R07_indicatori_2021_sezioni.xlsx\n",
      "INFO | 47484 | 2024-10-10 18:03:33,639 | root | Lettura del file Excel da /home/max/Desktop/census_tutorial/preprocessing/census_2021/data/R07_indicatori_2021_sezioni.xlsx\n",
      "INFO | 47484 | 2024-10-10 18:03:33,639 | root | Lettura del file Excel da /home/max/Desktop/census_tutorial/preprocessing/census_2021/data/R07_indicatori_2021_sezioni.xlsx\n",
      "INFO | 47484 | 2024-10-10 18:03:33,639 | root | Lettura del file Excel da /home/max/Desktop/census_tutorial/preprocessing/census_2021/data/R07_indicatori_2021_sezioni.xlsx\n",
      "INFO | 47484 | 2024-10-10 18:03:33,639 | root | Lettura del file Excel da /home/max/Desktop/census_tutorial/preprocessing/census_2021/data/R07_indicatori_2021_sezioni.xlsx\n",
      "INFO | 47484 | 2024-10-10 18:03:33,639 | root | Lettura del file Excel da /home/max/Desktop/census_tutorial/preprocessing/census_2021/data/R07_indicatori_2021_sezioni.xlsx\n",
      "INFO | 47484 | 2024-10-10 18:03:42,002 | root | Salvataggio dei dati in formato CSV in /home/max/Desktop/census_tutorial/preprocessing/census_2021/data/Sezioni di Censimento/R07_indicatori_2021_sezioni.csv\n",
      "INFO | 47484 | 2024-10-10 18:03:42,002 | root | Salvataggio dei dati in formato CSV in /home/max/Desktop/census_tutorial/preprocessing/census_2021/data/Sezioni di Censimento/R07_indicatori_2021_sezioni.csv\n",
      "INFO | 47484 | 2024-10-10 18:03:42,002 | root | Salvataggio dei dati in formato CSV in /home/max/Desktop/census_tutorial/preprocessing/census_2021/data/Sezioni di Censimento/R07_indicatori_2021_sezioni.csv\n",
      "INFO | 47484 | 2024-10-10 18:03:42,002 | root | Salvataggio dei dati in formato CSV in /home/max/Desktop/census_tutorial/preprocessing/census_2021/data/Sezioni di Censimento/R07_indicatori_2021_sezioni.csv\n",
      "INFO | 47484 | 2024-10-10 18:03:42,002 | root | Salvataggio dei dati in formato CSV in /home/max/Desktop/census_tutorial/preprocessing/census_2021/data/Sezioni di Censimento/R07_indicatori_2021_sezioni.csv\n",
      "INFO | 47484 | 2024-10-10 18:03:42,002 | root | Salvataggio dei dati in formato CSV in /home/max/Desktop/census_tutorial/preprocessing/census_2021/data/Sezioni di Censimento/R07_indicatori_2021_sezioni.csv\n",
      "INFO | 47484 | 2024-10-10 18:03:42,002 | root | Salvataggio dei dati in formato CSV in /home/max/Desktop/census_tutorial/preprocessing/census_2021/data/Sezioni di Censimento/R07_indicatori_2021_sezioni.csv\n",
      "INFO | 47484 | 2024-10-10 18:03:42,002 | root | Salvataggio dei dati in formato CSV in /home/max/Desktop/census_tutorial/preprocessing/census_2021/data/Sezioni di Censimento/R07_indicatori_2021_sezioni.csv\n",
      "INFO | 47484 | 2024-10-10 18:03:42,135 | root | Dati salvati correttamente in /home/max/Desktop/census_tutorial/preprocessing/census_2021/data/Sezioni di Censimento/R07_indicatori_2021_sezioni.csv\n",
      "INFO | 47484 | 2024-10-10 18:03:42,135 | root | Dati salvati correttamente in /home/max/Desktop/census_tutorial/preprocessing/census_2021/data/Sezioni di Censimento/R07_indicatori_2021_sezioni.csv\n",
      "INFO | 47484 | 2024-10-10 18:03:42,135 | root | Dati salvati correttamente in /home/max/Desktop/census_tutorial/preprocessing/census_2021/data/Sezioni di Censimento/R07_indicatori_2021_sezioni.csv\n",
      "INFO | 47484 | 2024-10-10 18:03:42,135 | root | Dati salvati correttamente in /home/max/Desktop/census_tutorial/preprocessing/census_2021/data/Sezioni di Censimento/R07_indicatori_2021_sezioni.csv\n",
      "INFO | 47484 | 2024-10-10 18:03:42,135 | root | Dati salvati correttamente in /home/max/Desktop/census_tutorial/preprocessing/census_2021/data/Sezioni di Censimento/R07_indicatori_2021_sezioni.csv\n",
      "INFO | 47484 | 2024-10-10 18:03:42,135 | root | Dati salvati correttamente in /home/max/Desktop/census_tutorial/preprocessing/census_2021/data/Sezioni di Censimento/R07_indicatori_2021_sezioni.csv\n",
      "INFO | 47484 | 2024-10-10 18:03:42,135 | root | Dati salvati correttamente in /home/max/Desktop/census_tutorial/preprocessing/census_2021/data/Sezioni di Censimento/R07_indicatori_2021_sezioni.csv\n",
      "INFO | 47484 | 2024-10-10 18:03:42,135 | root | Dati salvati correttamente in /home/max/Desktop/census_tutorial/preprocessing/census_2021/data/Sezioni di Censimento/R07_indicatori_2021_sezioni.csv\n",
      "INFO | 47484 | 2024-10-10 18:03:42,138 | root | Lettura del file Excel da /home/max/Desktop/census_tutorial/preprocessing/census_2021/data/R08_indicatori_2021_sezioni.xlsx\n",
      "INFO | 47484 | 2024-10-10 18:03:42,138 | root | Lettura del file Excel da /home/max/Desktop/census_tutorial/preprocessing/census_2021/data/R08_indicatori_2021_sezioni.xlsx\n",
      "INFO | 47484 | 2024-10-10 18:03:42,138 | root | Lettura del file Excel da /home/max/Desktop/census_tutorial/preprocessing/census_2021/data/R08_indicatori_2021_sezioni.xlsx\n",
      "INFO | 47484 | 2024-10-10 18:03:42,138 | root | Lettura del file Excel da /home/max/Desktop/census_tutorial/preprocessing/census_2021/data/R08_indicatori_2021_sezioni.xlsx\n",
      "INFO | 47484 | 2024-10-10 18:03:42,138 | root | Lettura del file Excel da /home/max/Desktop/census_tutorial/preprocessing/census_2021/data/R08_indicatori_2021_sezioni.xlsx\n",
      "INFO | 47484 | 2024-10-10 18:03:42,138 | root | Lettura del file Excel da /home/max/Desktop/census_tutorial/preprocessing/census_2021/data/R08_indicatori_2021_sezioni.xlsx\n",
      "INFO | 47484 | 2024-10-10 18:03:42,138 | root | Lettura del file Excel da /home/max/Desktop/census_tutorial/preprocessing/census_2021/data/R08_indicatori_2021_sezioni.xlsx\n",
      "INFO | 47484 | 2024-10-10 18:03:42,138 | root | Lettura del file Excel da /home/max/Desktop/census_tutorial/preprocessing/census_2021/data/R08_indicatori_2021_sezioni.xlsx\n",
      "INFO | 47484 | 2024-10-10 18:04:10,540 | root | Salvataggio dei dati in formato CSV in /home/max/Desktop/census_tutorial/preprocessing/census_2021/data/Sezioni di Censimento/R08_indicatori_2021_sezioni.csv\n",
      "INFO | 47484 | 2024-10-10 18:04:10,540 | root | Salvataggio dei dati in formato CSV in /home/max/Desktop/census_tutorial/preprocessing/census_2021/data/Sezioni di Censimento/R08_indicatori_2021_sezioni.csv\n",
      "INFO | 47484 | 2024-10-10 18:04:10,540 | root | Salvataggio dei dati in formato CSV in /home/max/Desktop/census_tutorial/preprocessing/census_2021/data/Sezioni di Censimento/R08_indicatori_2021_sezioni.csv\n",
      "INFO | 47484 | 2024-10-10 18:04:10,540 | root | Salvataggio dei dati in formato CSV in /home/max/Desktop/census_tutorial/preprocessing/census_2021/data/Sezioni di Censimento/R08_indicatori_2021_sezioni.csv\n",
      "INFO | 47484 | 2024-10-10 18:04:10,540 | root | Salvataggio dei dati in formato CSV in /home/max/Desktop/census_tutorial/preprocessing/census_2021/data/Sezioni di Censimento/R08_indicatori_2021_sezioni.csv\n",
      "INFO | 47484 | 2024-10-10 18:04:10,540 | root | Salvataggio dei dati in formato CSV in /home/max/Desktop/census_tutorial/preprocessing/census_2021/data/Sezioni di Censimento/R08_indicatori_2021_sezioni.csv\n",
      "INFO | 47484 | 2024-10-10 18:04:10,540 | root | Salvataggio dei dati in formato CSV in /home/max/Desktop/census_tutorial/preprocessing/census_2021/data/Sezioni di Censimento/R08_indicatori_2021_sezioni.csv\n",
      "INFO | 47484 | 2024-10-10 18:04:10,540 | root | Salvataggio dei dati in formato CSV in /home/max/Desktop/census_tutorial/preprocessing/census_2021/data/Sezioni di Censimento/R08_indicatori_2021_sezioni.csv\n",
      "INFO | 47484 | 2024-10-10 18:04:10,972 | root | Dati salvati correttamente in /home/max/Desktop/census_tutorial/preprocessing/census_2021/data/Sezioni di Censimento/R08_indicatori_2021_sezioni.csv\n",
      "INFO | 47484 | 2024-10-10 18:04:10,972 | root | Dati salvati correttamente in /home/max/Desktop/census_tutorial/preprocessing/census_2021/data/Sezioni di Censimento/R08_indicatori_2021_sezioni.csv\n",
      "INFO | 47484 | 2024-10-10 18:04:10,972 | root | Dati salvati correttamente in /home/max/Desktop/census_tutorial/preprocessing/census_2021/data/Sezioni di Censimento/R08_indicatori_2021_sezioni.csv\n",
      "INFO | 47484 | 2024-10-10 18:04:10,972 | root | Dati salvati correttamente in /home/max/Desktop/census_tutorial/preprocessing/census_2021/data/Sezioni di Censimento/R08_indicatori_2021_sezioni.csv\n",
      "INFO | 47484 | 2024-10-10 18:04:10,972 | root | Dati salvati correttamente in /home/max/Desktop/census_tutorial/preprocessing/census_2021/data/Sezioni di Censimento/R08_indicatori_2021_sezioni.csv\n",
      "INFO | 47484 | 2024-10-10 18:04:10,972 | root | Dati salvati correttamente in /home/max/Desktop/census_tutorial/preprocessing/census_2021/data/Sezioni di Censimento/R08_indicatori_2021_sezioni.csv\n",
      "INFO | 47484 | 2024-10-10 18:04:10,972 | root | Dati salvati correttamente in /home/max/Desktop/census_tutorial/preprocessing/census_2021/data/Sezioni di Censimento/R08_indicatori_2021_sezioni.csv\n",
      "INFO | 47484 | 2024-10-10 18:04:10,972 | root | Dati salvati correttamente in /home/max/Desktop/census_tutorial/preprocessing/census_2021/data/Sezioni di Censimento/R08_indicatori_2021_sezioni.csv\n",
      "INFO | 47484 | 2024-10-10 18:04:10,975 | root | Lettura del file Excel da /home/max/Desktop/census_tutorial/preprocessing/census_2021/data/R17_indicatori_2021_sezioni.xlsx\n",
      "INFO | 47484 | 2024-10-10 18:04:10,975 | root | Lettura del file Excel da /home/max/Desktop/census_tutorial/preprocessing/census_2021/data/R17_indicatori_2021_sezioni.xlsx\n",
      "INFO | 47484 | 2024-10-10 18:04:10,975 | root | Lettura del file Excel da /home/max/Desktop/census_tutorial/preprocessing/census_2021/data/R17_indicatori_2021_sezioni.xlsx\n",
      "INFO | 47484 | 2024-10-10 18:04:10,975 | root | Lettura del file Excel da /home/max/Desktop/census_tutorial/preprocessing/census_2021/data/R17_indicatori_2021_sezioni.xlsx\n",
      "INFO | 47484 | 2024-10-10 18:04:10,975 | root | Lettura del file Excel da /home/max/Desktop/census_tutorial/preprocessing/census_2021/data/R17_indicatori_2021_sezioni.xlsx\n",
      "INFO | 47484 | 2024-10-10 18:04:10,975 | root | Lettura del file Excel da /home/max/Desktop/census_tutorial/preprocessing/census_2021/data/R17_indicatori_2021_sezioni.xlsx\n",
      "INFO | 47484 | 2024-10-10 18:04:10,975 | root | Lettura del file Excel da /home/max/Desktop/census_tutorial/preprocessing/census_2021/data/R17_indicatori_2021_sezioni.xlsx\n",
      "INFO | 47484 | 2024-10-10 18:04:10,975 | root | Lettura del file Excel da /home/max/Desktop/census_tutorial/preprocessing/census_2021/data/R17_indicatori_2021_sezioni.xlsx\n",
      "INFO | 47484 | 2024-10-10 18:04:14,396 | root | Salvataggio dei dati in formato CSV in /home/max/Desktop/census_tutorial/preprocessing/census_2021/data/Sezioni di Censimento/R17_indicatori_2021_sezioni.csv\n",
      "INFO | 47484 | 2024-10-10 18:04:14,396 | root | Salvataggio dei dati in formato CSV in /home/max/Desktop/census_tutorial/preprocessing/census_2021/data/Sezioni di Censimento/R17_indicatori_2021_sezioni.csv\n",
      "INFO | 47484 | 2024-10-10 18:04:14,396 | root | Salvataggio dei dati in formato CSV in /home/max/Desktop/census_tutorial/preprocessing/census_2021/data/Sezioni di Censimento/R17_indicatori_2021_sezioni.csv\n",
      "INFO | 47484 | 2024-10-10 18:04:14,396 | root | Salvataggio dei dati in formato CSV in /home/max/Desktop/census_tutorial/preprocessing/census_2021/data/Sezioni di Censimento/R17_indicatori_2021_sezioni.csv\n",
      "INFO | 47484 | 2024-10-10 18:04:14,396 | root | Salvataggio dei dati in formato CSV in /home/max/Desktop/census_tutorial/preprocessing/census_2021/data/Sezioni di Censimento/R17_indicatori_2021_sezioni.csv\n",
      "INFO | 47484 | 2024-10-10 18:04:14,396 | root | Salvataggio dei dati in formato CSV in /home/max/Desktop/census_tutorial/preprocessing/census_2021/data/Sezioni di Censimento/R17_indicatori_2021_sezioni.csv\n",
      "INFO | 47484 | 2024-10-10 18:04:14,396 | root | Salvataggio dei dati in formato CSV in /home/max/Desktop/census_tutorial/preprocessing/census_2021/data/Sezioni di Censimento/R17_indicatori_2021_sezioni.csv\n",
      "INFO | 47484 | 2024-10-10 18:04:14,396 | root | Salvataggio dei dati in formato CSV in /home/max/Desktop/census_tutorial/preprocessing/census_2021/data/Sezioni di Censimento/R17_indicatori_2021_sezioni.csv\n",
      "INFO | 47484 | 2024-10-10 18:04:14,457 | root | Dati salvati correttamente in /home/max/Desktop/census_tutorial/preprocessing/census_2021/data/Sezioni di Censimento/R17_indicatori_2021_sezioni.csv\n",
      "INFO | 47484 | 2024-10-10 18:04:14,457 | root | Dati salvati correttamente in /home/max/Desktop/census_tutorial/preprocessing/census_2021/data/Sezioni di Censimento/R17_indicatori_2021_sezioni.csv\n",
      "INFO | 47484 | 2024-10-10 18:04:14,457 | root | Dati salvati correttamente in /home/max/Desktop/census_tutorial/preprocessing/census_2021/data/Sezioni di Censimento/R17_indicatori_2021_sezioni.csv\n",
      "INFO | 47484 | 2024-10-10 18:04:14,457 | root | Dati salvati correttamente in /home/max/Desktop/census_tutorial/preprocessing/census_2021/data/Sezioni di Censimento/R17_indicatori_2021_sezioni.csv\n",
      "INFO | 47484 | 2024-10-10 18:04:14,457 | root | Dati salvati correttamente in /home/max/Desktop/census_tutorial/preprocessing/census_2021/data/Sezioni di Censimento/R17_indicatori_2021_sezioni.csv\n",
      "INFO | 47484 | 2024-10-10 18:04:14,457 | root | Dati salvati correttamente in /home/max/Desktop/census_tutorial/preprocessing/census_2021/data/Sezioni di Censimento/R17_indicatori_2021_sezioni.csv\n",
      "INFO | 47484 | 2024-10-10 18:04:14,457 | root | Dati salvati correttamente in /home/max/Desktop/census_tutorial/preprocessing/census_2021/data/Sezioni di Censimento/R17_indicatori_2021_sezioni.csv\n",
      "INFO | 47484 | 2024-10-10 18:04:14,457 | root | Dati salvati correttamente in /home/max/Desktop/census_tutorial/preprocessing/census_2021/data/Sezioni di Censimento/R17_indicatori_2021_sezioni.csv\n",
      "INFO | 47484 | 2024-10-10 18:04:14,460 | root | Lettura del file Excel da /home/max/Desktop/census_tutorial/preprocessing/census_2021/data/R02_indicatori_2021_sezioni.xlsx\n",
      "INFO | 47484 | 2024-10-10 18:04:14,460 | root | Lettura del file Excel da /home/max/Desktop/census_tutorial/preprocessing/census_2021/data/R02_indicatori_2021_sezioni.xlsx\n",
      "INFO | 47484 | 2024-10-10 18:04:14,460 | root | Lettura del file Excel da /home/max/Desktop/census_tutorial/preprocessing/census_2021/data/R02_indicatori_2021_sezioni.xlsx\n",
      "INFO | 47484 | 2024-10-10 18:04:14,460 | root | Lettura del file Excel da /home/max/Desktop/census_tutorial/preprocessing/census_2021/data/R02_indicatori_2021_sezioni.xlsx\n",
      "INFO | 47484 | 2024-10-10 18:04:14,460 | root | Lettura del file Excel da /home/max/Desktop/census_tutorial/preprocessing/census_2021/data/R02_indicatori_2021_sezioni.xlsx\n",
      "INFO | 47484 | 2024-10-10 18:04:14,460 | root | Lettura del file Excel da /home/max/Desktop/census_tutorial/preprocessing/census_2021/data/R02_indicatori_2021_sezioni.xlsx\n",
      "INFO | 47484 | 2024-10-10 18:04:14,460 | root | Lettura del file Excel da /home/max/Desktop/census_tutorial/preprocessing/census_2021/data/R02_indicatori_2021_sezioni.xlsx\n",
      "INFO | 47484 | 2024-10-10 18:04:14,460 | root | Lettura del file Excel da /home/max/Desktop/census_tutorial/preprocessing/census_2021/data/R02_indicatori_2021_sezioni.xlsx\n",
      "INFO | 47484 | 2024-10-10 18:04:15,802 | root | Salvataggio dei dati in formato CSV in /home/max/Desktop/census_tutorial/preprocessing/census_2021/data/Sezioni di Censimento/R02_indicatori_2021_sezioni.csv\n",
      "INFO | 47484 | 2024-10-10 18:04:15,802 | root | Salvataggio dei dati in formato CSV in /home/max/Desktop/census_tutorial/preprocessing/census_2021/data/Sezioni di Censimento/R02_indicatori_2021_sezioni.csv\n",
      "INFO | 47484 | 2024-10-10 18:04:15,802 | root | Salvataggio dei dati in formato CSV in /home/max/Desktop/census_tutorial/preprocessing/census_2021/data/Sezioni di Censimento/R02_indicatori_2021_sezioni.csv\n",
      "INFO | 47484 | 2024-10-10 18:04:15,802 | root | Salvataggio dei dati in formato CSV in /home/max/Desktop/census_tutorial/preprocessing/census_2021/data/Sezioni di Censimento/R02_indicatori_2021_sezioni.csv\n",
      "INFO | 47484 | 2024-10-10 18:04:15,802 | root | Salvataggio dei dati in formato CSV in /home/max/Desktop/census_tutorial/preprocessing/census_2021/data/Sezioni di Censimento/R02_indicatori_2021_sezioni.csv\n",
      "INFO | 47484 | 2024-10-10 18:04:15,802 | root | Salvataggio dei dati in formato CSV in /home/max/Desktop/census_tutorial/preprocessing/census_2021/data/Sezioni di Censimento/R02_indicatori_2021_sezioni.csv\n",
      "INFO | 47484 | 2024-10-10 18:04:15,802 | root | Salvataggio dei dati in formato CSV in /home/max/Desktop/census_tutorial/preprocessing/census_2021/data/Sezioni di Censimento/R02_indicatori_2021_sezioni.csv\n",
      "INFO | 47484 | 2024-10-10 18:04:15,802 | root | Salvataggio dei dati in formato CSV in /home/max/Desktop/census_tutorial/preprocessing/census_2021/data/Sezioni di Censimento/R02_indicatori_2021_sezioni.csv\n",
      "INFO | 47484 | 2024-10-10 18:04:15,827 | root | Dati salvati correttamente in /home/max/Desktop/census_tutorial/preprocessing/census_2021/data/Sezioni di Censimento/R02_indicatori_2021_sezioni.csv\n",
      "INFO | 47484 | 2024-10-10 18:04:15,827 | root | Dati salvati correttamente in /home/max/Desktop/census_tutorial/preprocessing/census_2021/data/Sezioni di Censimento/R02_indicatori_2021_sezioni.csv\n",
      "INFO | 47484 | 2024-10-10 18:04:15,827 | root | Dati salvati correttamente in /home/max/Desktop/census_tutorial/preprocessing/census_2021/data/Sezioni di Censimento/R02_indicatori_2021_sezioni.csv\n",
      "INFO | 47484 | 2024-10-10 18:04:15,827 | root | Dati salvati correttamente in /home/max/Desktop/census_tutorial/preprocessing/census_2021/data/Sezioni di Censimento/R02_indicatori_2021_sezioni.csv\n",
      "INFO | 47484 | 2024-10-10 18:04:15,827 | root | Dati salvati correttamente in /home/max/Desktop/census_tutorial/preprocessing/census_2021/data/Sezioni di Censimento/R02_indicatori_2021_sezioni.csv\n",
      "INFO | 47484 | 2024-10-10 18:04:15,827 | root | Dati salvati correttamente in /home/max/Desktop/census_tutorial/preprocessing/census_2021/data/Sezioni di Censimento/R02_indicatori_2021_sezioni.csv\n",
      "INFO | 47484 | 2024-10-10 18:04:15,827 | root | Dati salvati correttamente in /home/max/Desktop/census_tutorial/preprocessing/census_2021/data/Sezioni di Censimento/R02_indicatori_2021_sezioni.csv\n",
      "INFO | 47484 | 2024-10-10 18:04:15,827 | root | Dati salvati correttamente in /home/max/Desktop/census_tutorial/preprocessing/census_2021/data/Sezioni di Censimento/R02_indicatori_2021_sezioni.csv\n",
      "INFO | 47484 | 2024-10-10 18:04:15,830 | root | Lettura del file Excel da /home/max/Desktop/census_tutorial/preprocessing/census_2021/data/R10_indicatori_2021_sezioni.xlsx\n",
      "INFO | 47484 | 2024-10-10 18:04:15,830 | root | Lettura del file Excel da /home/max/Desktop/census_tutorial/preprocessing/census_2021/data/R10_indicatori_2021_sezioni.xlsx\n",
      "INFO | 47484 | 2024-10-10 18:04:15,830 | root | Lettura del file Excel da /home/max/Desktop/census_tutorial/preprocessing/census_2021/data/R10_indicatori_2021_sezioni.xlsx\n",
      "INFO | 47484 | 2024-10-10 18:04:15,830 | root | Lettura del file Excel da /home/max/Desktop/census_tutorial/preprocessing/census_2021/data/R10_indicatori_2021_sezioni.xlsx\n",
      "INFO | 47484 | 2024-10-10 18:04:15,830 | root | Lettura del file Excel da /home/max/Desktop/census_tutorial/preprocessing/census_2021/data/R10_indicatori_2021_sezioni.xlsx\n",
      "INFO | 47484 | 2024-10-10 18:04:15,830 | root | Lettura del file Excel da /home/max/Desktop/census_tutorial/preprocessing/census_2021/data/R10_indicatori_2021_sezioni.xlsx\n",
      "INFO | 47484 | 2024-10-10 18:04:15,830 | root | Lettura del file Excel da /home/max/Desktop/census_tutorial/preprocessing/census_2021/data/R10_indicatori_2021_sezioni.xlsx\n",
      "INFO | 47484 | 2024-10-10 18:04:15,830 | root | Lettura del file Excel da /home/max/Desktop/census_tutorial/preprocessing/census_2021/data/R10_indicatori_2021_sezioni.xlsx\n",
      "INFO | 47484 | 2024-10-10 18:04:21,321 | root | Salvataggio dei dati in formato CSV in /home/max/Desktop/census_tutorial/preprocessing/census_2021/data/Sezioni di Censimento/R10_indicatori_2021_sezioni.csv\n",
      "INFO | 47484 | 2024-10-10 18:04:21,321 | root | Salvataggio dei dati in formato CSV in /home/max/Desktop/census_tutorial/preprocessing/census_2021/data/Sezioni di Censimento/R10_indicatori_2021_sezioni.csv\n",
      "INFO | 47484 | 2024-10-10 18:04:21,321 | root | Salvataggio dei dati in formato CSV in /home/max/Desktop/census_tutorial/preprocessing/census_2021/data/Sezioni di Censimento/R10_indicatori_2021_sezioni.csv\n",
      "INFO | 47484 | 2024-10-10 18:04:21,321 | root | Salvataggio dei dati in formato CSV in /home/max/Desktop/census_tutorial/preprocessing/census_2021/data/Sezioni di Censimento/R10_indicatori_2021_sezioni.csv\n",
      "INFO | 47484 | 2024-10-10 18:04:21,321 | root | Salvataggio dei dati in formato CSV in /home/max/Desktop/census_tutorial/preprocessing/census_2021/data/Sezioni di Censimento/R10_indicatori_2021_sezioni.csv\n",
      "INFO | 47484 | 2024-10-10 18:04:21,321 | root | Salvataggio dei dati in formato CSV in /home/max/Desktop/census_tutorial/preprocessing/census_2021/data/Sezioni di Censimento/R10_indicatori_2021_sezioni.csv\n",
      "INFO | 47484 | 2024-10-10 18:04:21,321 | root | Salvataggio dei dati in formato CSV in /home/max/Desktop/census_tutorial/preprocessing/census_2021/data/Sezioni di Censimento/R10_indicatori_2021_sezioni.csv\n",
      "INFO | 47484 | 2024-10-10 18:04:21,321 | root | Salvataggio dei dati in formato CSV in /home/max/Desktop/census_tutorial/preprocessing/census_2021/data/Sezioni di Censimento/R10_indicatori_2021_sezioni.csv\n",
      "INFO | 47484 | 2024-10-10 18:04:21,407 | root | Dati salvati correttamente in /home/max/Desktop/census_tutorial/preprocessing/census_2021/data/Sezioni di Censimento/R10_indicatori_2021_sezioni.csv\n",
      "INFO | 47484 | 2024-10-10 18:04:21,407 | root | Dati salvati correttamente in /home/max/Desktop/census_tutorial/preprocessing/census_2021/data/Sezioni di Censimento/R10_indicatori_2021_sezioni.csv\n",
      "INFO | 47484 | 2024-10-10 18:04:21,407 | root | Dati salvati correttamente in /home/max/Desktop/census_tutorial/preprocessing/census_2021/data/Sezioni di Censimento/R10_indicatori_2021_sezioni.csv\n",
      "INFO | 47484 | 2024-10-10 18:04:21,407 | root | Dati salvati correttamente in /home/max/Desktop/census_tutorial/preprocessing/census_2021/data/Sezioni di Censimento/R10_indicatori_2021_sezioni.csv\n",
      "INFO | 47484 | 2024-10-10 18:04:21,407 | root | Dati salvati correttamente in /home/max/Desktop/census_tutorial/preprocessing/census_2021/data/Sezioni di Censimento/R10_indicatori_2021_sezioni.csv\n",
      "INFO | 47484 | 2024-10-10 18:04:21,407 | root | Dati salvati correttamente in /home/max/Desktop/census_tutorial/preprocessing/census_2021/data/Sezioni di Censimento/R10_indicatori_2021_sezioni.csv\n",
      "INFO | 47484 | 2024-10-10 18:04:21,407 | root | Dati salvati correttamente in /home/max/Desktop/census_tutorial/preprocessing/census_2021/data/Sezioni di Censimento/R10_indicatori_2021_sezioni.csv\n",
      "INFO | 47484 | 2024-10-10 18:04:21,407 | root | Dati salvati correttamente in /home/max/Desktop/census_tutorial/preprocessing/census_2021/data/Sezioni di Censimento/R10_indicatori_2021_sezioni.csv\n",
      "INFO | 47484 | 2024-10-10 18:04:21,409 | root | Lettura del file Excel da /home/max/Desktop/census_tutorial/preprocessing/census_2021/data/R13_indicatori_2021_sezioni.xlsx\n",
      "INFO | 47484 | 2024-10-10 18:04:21,409 | root | Lettura del file Excel da /home/max/Desktop/census_tutorial/preprocessing/census_2021/data/R13_indicatori_2021_sezioni.xlsx\n",
      "INFO | 47484 | 2024-10-10 18:04:21,409 | root | Lettura del file Excel da /home/max/Desktop/census_tutorial/preprocessing/census_2021/data/R13_indicatori_2021_sezioni.xlsx\n",
      "INFO | 47484 | 2024-10-10 18:04:21,409 | root | Lettura del file Excel da /home/max/Desktop/census_tutorial/preprocessing/census_2021/data/R13_indicatori_2021_sezioni.xlsx\n",
      "INFO | 47484 | 2024-10-10 18:04:21,409 | root | Lettura del file Excel da /home/max/Desktop/census_tutorial/preprocessing/census_2021/data/R13_indicatori_2021_sezioni.xlsx\n",
      "INFO | 47484 | 2024-10-10 18:04:21,409 | root | Lettura del file Excel da /home/max/Desktop/census_tutorial/preprocessing/census_2021/data/R13_indicatori_2021_sezioni.xlsx\n",
      "INFO | 47484 | 2024-10-10 18:04:21,409 | root | Lettura del file Excel da /home/max/Desktop/census_tutorial/preprocessing/census_2021/data/R13_indicatori_2021_sezioni.xlsx\n",
      "INFO | 47484 | 2024-10-10 18:04:21,409 | root | Lettura del file Excel da /home/max/Desktop/census_tutorial/preprocessing/census_2021/data/R13_indicatori_2021_sezioni.xlsx\n",
      "INFO | 47484 | 2024-10-10 18:04:28,047 | root | Salvataggio dei dati in formato CSV in /home/max/Desktop/census_tutorial/preprocessing/census_2021/data/Sezioni di Censimento/R13_indicatori_2021_sezioni.csv\n",
      "INFO | 47484 | 2024-10-10 18:04:28,047 | root | Salvataggio dei dati in formato CSV in /home/max/Desktop/census_tutorial/preprocessing/census_2021/data/Sezioni di Censimento/R13_indicatori_2021_sezioni.csv\n",
      "INFO | 47484 | 2024-10-10 18:04:28,047 | root | Salvataggio dei dati in formato CSV in /home/max/Desktop/census_tutorial/preprocessing/census_2021/data/Sezioni di Censimento/R13_indicatori_2021_sezioni.csv\n",
      "INFO | 47484 | 2024-10-10 18:04:28,047 | root | Salvataggio dei dati in formato CSV in /home/max/Desktop/census_tutorial/preprocessing/census_2021/data/Sezioni di Censimento/R13_indicatori_2021_sezioni.csv\n",
      "INFO | 47484 | 2024-10-10 18:04:28,047 | root | Salvataggio dei dati in formato CSV in /home/max/Desktop/census_tutorial/preprocessing/census_2021/data/Sezioni di Censimento/R13_indicatori_2021_sezioni.csv\n",
      "INFO | 47484 | 2024-10-10 18:04:28,047 | root | Salvataggio dei dati in formato CSV in /home/max/Desktop/census_tutorial/preprocessing/census_2021/data/Sezioni di Censimento/R13_indicatori_2021_sezioni.csv\n",
      "INFO | 47484 | 2024-10-10 18:04:28,047 | root | Salvataggio dei dati in formato CSV in /home/max/Desktop/census_tutorial/preprocessing/census_2021/data/Sezioni di Censimento/R13_indicatori_2021_sezioni.csv\n",
      "INFO | 47484 | 2024-10-10 18:04:28,047 | root | Salvataggio dei dati in formato CSV in /home/max/Desktop/census_tutorial/preprocessing/census_2021/data/Sezioni di Censimento/R13_indicatori_2021_sezioni.csv\n",
      "INFO | 47484 | 2024-10-10 18:04:28,153 | root | Dati salvati correttamente in /home/max/Desktop/census_tutorial/preprocessing/census_2021/data/Sezioni di Censimento/R13_indicatori_2021_sezioni.csv\n",
      "INFO | 47484 | 2024-10-10 18:04:28,153 | root | Dati salvati correttamente in /home/max/Desktop/census_tutorial/preprocessing/census_2021/data/Sezioni di Censimento/R13_indicatori_2021_sezioni.csv\n",
      "INFO | 47484 | 2024-10-10 18:04:28,153 | root | Dati salvati correttamente in /home/max/Desktop/census_tutorial/preprocessing/census_2021/data/Sezioni di Censimento/R13_indicatori_2021_sezioni.csv\n",
      "INFO | 47484 | 2024-10-10 18:04:28,153 | root | Dati salvati correttamente in /home/max/Desktop/census_tutorial/preprocessing/census_2021/data/Sezioni di Censimento/R13_indicatori_2021_sezioni.csv\n",
      "INFO | 47484 | 2024-10-10 18:04:28,153 | root | Dati salvati correttamente in /home/max/Desktop/census_tutorial/preprocessing/census_2021/data/Sezioni di Censimento/R13_indicatori_2021_sezioni.csv\n",
      "INFO | 47484 | 2024-10-10 18:04:28,153 | root | Dati salvati correttamente in /home/max/Desktop/census_tutorial/preprocessing/census_2021/data/Sezioni di Censimento/R13_indicatori_2021_sezioni.csv\n",
      "INFO | 47484 | 2024-10-10 18:04:28,153 | root | Dati salvati correttamente in /home/max/Desktop/census_tutorial/preprocessing/census_2021/data/Sezioni di Censimento/R13_indicatori_2021_sezioni.csv\n",
      "INFO | 47484 | 2024-10-10 18:04:28,153 | root | Dati salvati correttamente in /home/max/Desktop/census_tutorial/preprocessing/census_2021/data/Sezioni di Censimento/R13_indicatori_2021_sezioni.csv\n",
      "INFO | 47484 | 2024-10-10 18:04:28,156 | root | Lettura del file Excel da /home/max/Desktop/census_tutorial/preprocessing/census_2021/data/R05_indicatori_2021_sezioni.xlsx\n",
      "INFO | 47484 | 2024-10-10 18:04:28,156 | root | Lettura del file Excel da /home/max/Desktop/census_tutorial/preprocessing/census_2021/data/R05_indicatori_2021_sezioni.xlsx\n",
      "INFO | 47484 | 2024-10-10 18:04:28,156 | root | Lettura del file Excel da /home/max/Desktop/census_tutorial/preprocessing/census_2021/data/R05_indicatori_2021_sezioni.xlsx\n",
      "INFO | 47484 | 2024-10-10 18:04:28,156 | root | Lettura del file Excel da /home/max/Desktop/census_tutorial/preprocessing/census_2021/data/R05_indicatori_2021_sezioni.xlsx\n",
      "INFO | 47484 | 2024-10-10 18:04:28,156 | root | Lettura del file Excel da /home/max/Desktop/census_tutorial/preprocessing/census_2021/data/R05_indicatori_2021_sezioni.xlsx\n",
      "INFO | 47484 | 2024-10-10 18:04:28,156 | root | Lettura del file Excel da /home/max/Desktop/census_tutorial/preprocessing/census_2021/data/R05_indicatori_2021_sezioni.xlsx\n",
      "INFO | 47484 | 2024-10-10 18:04:28,156 | root | Lettura del file Excel da /home/max/Desktop/census_tutorial/preprocessing/census_2021/data/R05_indicatori_2021_sezioni.xlsx\n",
      "INFO | 47484 | 2024-10-10 18:04:28,156 | root | Lettura del file Excel da /home/max/Desktop/census_tutorial/preprocessing/census_2021/data/R05_indicatori_2021_sezioni.xlsx\n",
      "INFO | 47484 | 2024-10-10 18:04:57,926 | root | Salvataggio dei dati in formato CSV in /home/max/Desktop/census_tutorial/preprocessing/census_2021/data/Sezioni di Censimento/R05_indicatori_2021_sezioni.csv\n",
      "INFO | 47484 | 2024-10-10 18:04:57,926 | root | Salvataggio dei dati in formato CSV in /home/max/Desktop/census_tutorial/preprocessing/census_2021/data/Sezioni di Censimento/R05_indicatori_2021_sezioni.csv\n",
      "INFO | 47484 | 2024-10-10 18:04:57,926 | root | Salvataggio dei dati in formato CSV in /home/max/Desktop/census_tutorial/preprocessing/census_2021/data/Sezioni di Censimento/R05_indicatori_2021_sezioni.csv\n",
      "INFO | 47484 | 2024-10-10 18:04:57,926 | root | Salvataggio dei dati in formato CSV in /home/max/Desktop/census_tutorial/preprocessing/census_2021/data/Sezioni di Censimento/R05_indicatori_2021_sezioni.csv\n",
      "INFO | 47484 | 2024-10-10 18:04:57,926 | root | Salvataggio dei dati in formato CSV in /home/max/Desktop/census_tutorial/preprocessing/census_2021/data/Sezioni di Censimento/R05_indicatori_2021_sezioni.csv\n",
      "INFO | 47484 | 2024-10-10 18:04:57,926 | root | Salvataggio dei dati in formato CSV in /home/max/Desktop/census_tutorial/preprocessing/census_2021/data/Sezioni di Censimento/R05_indicatori_2021_sezioni.csv\n",
      "INFO | 47484 | 2024-10-10 18:04:57,926 | root | Salvataggio dei dati in formato CSV in /home/max/Desktop/census_tutorial/preprocessing/census_2021/data/Sezioni di Censimento/R05_indicatori_2021_sezioni.csv\n",
      "INFO | 47484 | 2024-10-10 18:04:57,926 | root | Salvataggio dei dati in formato CSV in /home/max/Desktop/census_tutorial/preprocessing/census_2021/data/Sezioni di Censimento/R05_indicatori_2021_sezioni.csv\n",
      "INFO | 47484 | 2024-10-10 18:04:58,381 | root | Dati salvati correttamente in /home/max/Desktop/census_tutorial/preprocessing/census_2021/data/Sezioni di Censimento/R05_indicatori_2021_sezioni.csv\n",
      "INFO | 47484 | 2024-10-10 18:04:58,381 | root | Dati salvati correttamente in /home/max/Desktop/census_tutorial/preprocessing/census_2021/data/Sezioni di Censimento/R05_indicatori_2021_sezioni.csv\n",
      "INFO | 47484 | 2024-10-10 18:04:58,381 | root | Dati salvati correttamente in /home/max/Desktop/census_tutorial/preprocessing/census_2021/data/Sezioni di Censimento/R05_indicatori_2021_sezioni.csv\n",
      "INFO | 47484 | 2024-10-10 18:04:58,381 | root | Dati salvati correttamente in /home/max/Desktop/census_tutorial/preprocessing/census_2021/data/Sezioni di Censimento/R05_indicatori_2021_sezioni.csv\n",
      "INFO | 47484 | 2024-10-10 18:04:58,381 | root | Dati salvati correttamente in /home/max/Desktop/census_tutorial/preprocessing/census_2021/data/Sezioni di Censimento/R05_indicatori_2021_sezioni.csv\n",
      "INFO | 47484 | 2024-10-10 18:04:58,381 | root | Dati salvati correttamente in /home/max/Desktop/census_tutorial/preprocessing/census_2021/data/Sezioni di Censimento/R05_indicatori_2021_sezioni.csv\n",
      "INFO | 47484 | 2024-10-10 18:04:58,381 | root | Dati salvati correttamente in /home/max/Desktop/census_tutorial/preprocessing/census_2021/data/Sezioni di Censimento/R05_indicatori_2021_sezioni.csv\n",
      "INFO | 47484 | 2024-10-10 18:04:58,381 | root | Dati salvati correttamente in /home/max/Desktop/census_tutorial/preprocessing/census_2021/data/Sezioni di Censimento/R05_indicatori_2021_sezioni.csv\n",
      "INFO | 47484 | 2024-10-10 18:04:58,383 | root | Lettura del file Excel da /home/max/Desktop/census_tutorial/preprocessing/census_2021/data/R18_indicatori_2021_sezioni.xlsx\n",
      "INFO | 47484 | 2024-10-10 18:04:58,383 | root | Lettura del file Excel da /home/max/Desktop/census_tutorial/preprocessing/census_2021/data/R18_indicatori_2021_sezioni.xlsx\n",
      "INFO | 47484 | 2024-10-10 18:04:58,383 | root | Lettura del file Excel da /home/max/Desktop/census_tutorial/preprocessing/census_2021/data/R18_indicatori_2021_sezioni.xlsx\n",
      "INFO | 47484 | 2024-10-10 18:04:58,383 | root | Lettura del file Excel da /home/max/Desktop/census_tutorial/preprocessing/census_2021/data/R18_indicatori_2021_sezioni.xlsx\n",
      "INFO | 47484 | 2024-10-10 18:04:58,383 | root | Lettura del file Excel da /home/max/Desktop/census_tutorial/preprocessing/census_2021/data/R18_indicatori_2021_sezioni.xlsx\n",
      "INFO | 47484 | 2024-10-10 18:04:58,383 | root | Lettura del file Excel da /home/max/Desktop/census_tutorial/preprocessing/census_2021/data/R18_indicatori_2021_sezioni.xlsx\n",
      "INFO | 47484 | 2024-10-10 18:04:58,383 | root | Lettura del file Excel da /home/max/Desktop/census_tutorial/preprocessing/census_2021/data/R18_indicatori_2021_sezioni.xlsx\n",
      "INFO | 47484 | 2024-10-10 18:04:58,383 | root | Lettura del file Excel da /home/max/Desktop/census_tutorial/preprocessing/census_2021/data/R18_indicatori_2021_sezioni.xlsx\n",
      "INFO | 47484 | 2024-10-10 18:05:08,836 | root | Salvataggio dei dati in formato CSV in /home/max/Desktop/census_tutorial/preprocessing/census_2021/data/Sezioni di Censimento/R18_indicatori_2021_sezioni.csv\n",
      "INFO | 47484 | 2024-10-10 18:05:08,836 | root | Salvataggio dei dati in formato CSV in /home/max/Desktop/census_tutorial/preprocessing/census_2021/data/Sezioni di Censimento/R18_indicatori_2021_sezioni.csv\n",
      "INFO | 47484 | 2024-10-10 18:05:08,836 | root | Salvataggio dei dati in formato CSV in /home/max/Desktop/census_tutorial/preprocessing/census_2021/data/Sezioni di Censimento/R18_indicatori_2021_sezioni.csv\n",
      "INFO | 47484 | 2024-10-10 18:05:08,836 | root | Salvataggio dei dati in formato CSV in /home/max/Desktop/census_tutorial/preprocessing/census_2021/data/Sezioni di Censimento/R18_indicatori_2021_sezioni.csv\n",
      "INFO | 47484 | 2024-10-10 18:05:08,836 | root | Salvataggio dei dati in formato CSV in /home/max/Desktop/census_tutorial/preprocessing/census_2021/data/Sezioni di Censimento/R18_indicatori_2021_sezioni.csv\n",
      "INFO | 47484 | 2024-10-10 18:05:08,836 | root | Salvataggio dei dati in formato CSV in /home/max/Desktop/census_tutorial/preprocessing/census_2021/data/Sezioni di Censimento/R18_indicatori_2021_sezioni.csv\n",
      "INFO | 47484 | 2024-10-10 18:05:08,836 | root | Salvataggio dei dati in formato CSV in /home/max/Desktop/census_tutorial/preprocessing/census_2021/data/Sezioni di Censimento/R18_indicatori_2021_sezioni.csv\n",
      "INFO | 47484 | 2024-10-10 18:05:08,836 | root | Salvataggio dei dati in formato CSV in /home/max/Desktop/census_tutorial/preprocessing/census_2021/data/Sezioni di Censimento/R18_indicatori_2021_sezioni.csv\n",
      "INFO | 47484 | 2024-10-10 18:05:09,003 | root | Dati salvati correttamente in /home/max/Desktop/census_tutorial/preprocessing/census_2021/data/Sezioni di Censimento/R18_indicatori_2021_sezioni.csv\n",
      "INFO | 47484 | 2024-10-10 18:05:09,003 | root | Dati salvati correttamente in /home/max/Desktop/census_tutorial/preprocessing/census_2021/data/Sezioni di Censimento/R18_indicatori_2021_sezioni.csv\n",
      "INFO | 47484 | 2024-10-10 18:05:09,003 | root | Dati salvati correttamente in /home/max/Desktop/census_tutorial/preprocessing/census_2021/data/Sezioni di Censimento/R18_indicatori_2021_sezioni.csv\n",
      "INFO | 47484 | 2024-10-10 18:05:09,003 | root | Dati salvati correttamente in /home/max/Desktop/census_tutorial/preprocessing/census_2021/data/Sezioni di Censimento/R18_indicatori_2021_sezioni.csv\n",
      "INFO | 47484 | 2024-10-10 18:05:09,003 | root | Dati salvati correttamente in /home/max/Desktop/census_tutorial/preprocessing/census_2021/data/Sezioni di Censimento/R18_indicatori_2021_sezioni.csv\n",
      "INFO | 47484 | 2024-10-10 18:05:09,003 | root | Dati salvati correttamente in /home/max/Desktop/census_tutorial/preprocessing/census_2021/data/Sezioni di Censimento/R18_indicatori_2021_sezioni.csv\n",
      "INFO | 47484 | 2024-10-10 18:05:09,003 | root | Dati salvati correttamente in /home/max/Desktop/census_tutorial/preprocessing/census_2021/data/Sezioni di Censimento/R18_indicatori_2021_sezioni.csv\n",
      "INFO | 47484 | 2024-10-10 18:05:09,003 | root | Dati salvati correttamente in /home/max/Desktop/census_tutorial/preprocessing/census_2021/data/Sezioni di Censimento/R18_indicatori_2021_sezioni.csv\n",
      "INFO | 47484 | 2024-10-10 18:05:09,005 | root | Lettura del file Excel da /home/max/Desktop/census_tutorial/preprocessing/census_2021/data/R06_indicatori_2021_sezioni.xlsx\n",
      "INFO | 47484 | 2024-10-10 18:05:09,005 | root | Lettura del file Excel da /home/max/Desktop/census_tutorial/preprocessing/census_2021/data/R06_indicatori_2021_sezioni.xlsx\n",
      "INFO | 47484 | 2024-10-10 18:05:09,005 | root | Lettura del file Excel da /home/max/Desktop/census_tutorial/preprocessing/census_2021/data/R06_indicatori_2021_sezioni.xlsx\n",
      "INFO | 47484 | 2024-10-10 18:05:09,005 | root | Lettura del file Excel da /home/max/Desktop/census_tutorial/preprocessing/census_2021/data/R06_indicatori_2021_sezioni.xlsx\n",
      "INFO | 47484 | 2024-10-10 18:05:09,005 | root | Lettura del file Excel da /home/max/Desktop/census_tutorial/preprocessing/census_2021/data/R06_indicatori_2021_sezioni.xlsx\n",
      "INFO | 47484 | 2024-10-10 18:05:09,005 | root | Lettura del file Excel da /home/max/Desktop/census_tutorial/preprocessing/census_2021/data/R06_indicatori_2021_sezioni.xlsx\n",
      "INFO | 47484 | 2024-10-10 18:05:09,005 | root | Lettura del file Excel da /home/max/Desktop/census_tutorial/preprocessing/census_2021/data/R06_indicatori_2021_sezioni.xlsx\n",
      "INFO | 47484 | 2024-10-10 18:05:09,005 | root | Lettura del file Excel da /home/max/Desktop/census_tutorial/preprocessing/census_2021/data/R06_indicatori_2021_sezioni.xlsx\n",
      "INFO | 47484 | 2024-10-10 18:05:15,409 | root | Salvataggio dei dati in formato CSV in /home/max/Desktop/census_tutorial/preprocessing/census_2021/data/Sezioni di Censimento/R06_indicatori_2021_sezioni.csv\n",
      "INFO | 47484 | 2024-10-10 18:05:15,409 | root | Salvataggio dei dati in formato CSV in /home/max/Desktop/census_tutorial/preprocessing/census_2021/data/Sezioni di Censimento/R06_indicatori_2021_sezioni.csv\n",
      "INFO | 47484 | 2024-10-10 18:05:15,409 | root | Salvataggio dei dati in formato CSV in /home/max/Desktop/census_tutorial/preprocessing/census_2021/data/Sezioni di Censimento/R06_indicatori_2021_sezioni.csv\n",
      "INFO | 47484 | 2024-10-10 18:05:15,409 | root | Salvataggio dei dati in formato CSV in /home/max/Desktop/census_tutorial/preprocessing/census_2021/data/Sezioni di Censimento/R06_indicatori_2021_sezioni.csv\n",
      "INFO | 47484 | 2024-10-10 18:05:15,409 | root | Salvataggio dei dati in formato CSV in /home/max/Desktop/census_tutorial/preprocessing/census_2021/data/Sezioni di Censimento/R06_indicatori_2021_sezioni.csv\n",
      "INFO | 47484 | 2024-10-10 18:05:15,409 | root | Salvataggio dei dati in formato CSV in /home/max/Desktop/census_tutorial/preprocessing/census_2021/data/Sezioni di Censimento/R06_indicatori_2021_sezioni.csv\n",
      "INFO | 47484 | 2024-10-10 18:05:15,409 | root | Salvataggio dei dati in formato CSV in /home/max/Desktop/census_tutorial/preprocessing/census_2021/data/Sezioni di Censimento/R06_indicatori_2021_sezioni.csv\n",
      "INFO | 47484 | 2024-10-10 18:05:15,409 | root | Salvataggio dei dati in formato CSV in /home/max/Desktop/census_tutorial/preprocessing/census_2021/data/Sezioni di Censimento/R06_indicatori_2021_sezioni.csv\n",
      "INFO | 47484 | 2024-10-10 18:05:15,513 | root | Dati salvati correttamente in /home/max/Desktop/census_tutorial/preprocessing/census_2021/data/Sezioni di Censimento/R06_indicatori_2021_sezioni.csv\n",
      "INFO | 47484 | 2024-10-10 18:05:15,513 | root | Dati salvati correttamente in /home/max/Desktop/census_tutorial/preprocessing/census_2021/data/Sezioni di Censimento/R06_indicatori_2021_sezioni.csv\n",
      "INFO | 47484 | 2024-10-10 18:05:15,513 | root | Dati salvati correttamente in /home/max/Desktop/census_tutorial/preprocessing/census_2021/data/Sezioni di Censimento/R06_indicatori_2021_sezioni.csv\n",
      "INFO | 47484 | 2024-10-10 18:05:15,513 | root | Dati salvati correttamente in /home/max/Desktop/census_tutorial/preprocessing/census_2021/data/Sezioni di Censimento/R06_indicatori_2021_sezioni.csv\n",
      "INFO | 47484 | 2024-10-10 18:05:15,513 | root | Dati salvati correttamente in /home/max/Desktop/census_tutorial/preprocessing/census_2021/data/Sezioni di Censimento/R06_indicatori_2021_sezioni.csv\n",
      "INFO | 47484 | 2024-10-10 18:05:15,513 | root | Dati salvati correttamente in /home/max/Desktop/census_tutorial/preprocessing/census_2021/data/Sezioni di Censimento/R06_indicatori_2021_sezioni.csv\n",
      "INFO | 47484 | 2024-10-10 18:05:15,513 | root | Dati salvati correttamente in /home/max/Desktop/census_tutorial/preprocessing/census_2021/data/Sezioni di Censimento/R06_indicatori_2021_sezioni.csv\n",
      "INFO | 47484 | 2024-10-10 18:05:15,513 | root | Dati salvati correttamente in /home/max/Desktop/census_tutorial/preprocessing/census_2021/data/Sezioni di Censimento/R06_indicatori_2021_sezioni.csv\n",
      "INFO | 47484 | 2024-10-10 18:05:15,516 | root | Lettura del file Excel da /home/max/Desktop/census_tutorial/preprocessing/census_2021/data/R04_indicatori_2021_sezioni.xlsx\n",
      "INFO | 47484 | 2024-10-10 18:05:15,516 | root | Lettura del file Excel da /home/max/Desktop/census_tutorial/preprocessing/census_2021/data/R04_indicatori_2021_sezioni.xlsx\n",
      "INFO | 47484 | 2024-10-10 18:05:15,516 | root | Lettura del file Excel da /home/max/Desktop/census_tutorial/preprocessing/census_2021/data/R04_indicatori_2021_sezioni.xlsx\n",
      "INFO | 47484 | 2024-10-10 18:05:15,516 | root | Lettura del file Excel da /home/max/Desktop/census_tutorial/preprocessing/census_2021/data/R04_indicatori_2021_sezioni.xlsx\n",
      "INFO | 47484 | 2024-10-10 18:05:15,516 | root | Lettura del file Excel da /home/max/Desktop/census_tutorial/preprocessing/census_2021/data/R04_indicatori_2021_sezioni.xlsx\n",
      "INFO | 47484 | 2024-10-10 18:05:15,516 | root | Lettura del file Excel da /home/max/Desktop/census_tutorial/preprocessing/census_2021/data/R04_indicatori_2021_sezioni.xlsx\n",
      "INFO | 47484 | 2024-10-10 18:05:15,516 | root | Lettura del file Excel da /home/max/Desktop/census_tutorial/preprocessing/census_2021/data/R04_indicatori_2021_sezioni.xlsx\n",
      "INFO | 47484 | 2024-10-10 18:05:15,516 | root | Lettura del file Excel da /home/max/Desktop/census_tutorial/preprocessing/census_2021/data/R04_indicatori_2021_sezioni.xlsx\n",
      "INFO | 47484 | 2024-10-10 18:05:23,518 | root | Salvataggio dei dati in formato CSV in /home/max/Desktop/census_tutorial/preprocessing/census_2021/data/Sezioni di Censimento/R04_indicatori_2021_sezioni.csv\n",
      "INFO | 47484 | 2024-10-10 18:05:23,518 | root | Salvataggio dei dati in formato CSV in /home/max/Desktop/census_tutorial/preprocessing/census_2021/data/Sezioni di Censimento/R04_indicatori_2021_sezioni.csv\n",
      "INFO | 47484 | 2024-10-10 18:05:23,518 | root | Salvataggio dei dati in formato CSV in /home/max/Desktop/census_tutorial/preprocessing/census_2021/data/Sezioni di Censimento/R04_indicatori_2021_sezioni.csv\n",
      "INFO | 47484 | 2024-10-10 18:05:23,518 | root | Salvataggio dei dati in formato CSV in /home/max/Desktop/census_tutorial/preprocessing/census_2021/data/Sezioni di Censimento/R04_indicatori_2021_sezioni.csv\n",
      "INFO | 47484 | 2024-10-10 18:05:23,518 | root | Salvataggio dei dati in formato CSV in /home/max/Desktop/census_tutorial/preprocessing/census_2021/data/Sezioni di Censimento/R04_indicatori_2021_sezioni.csv\n",
      "INFO | 47484 | 2024-10-10 18:05:23,518 | root | Salvataggio dei dati in formato CSV in /home/max/Desktop/census_tutorial/preprocessing/census_2021/data/Sezioni di Censimento/R04_indicatori_2021_sezioni.csv\n",
      "INFO | 47484 | 2024-10-10 18:05:23,518 | root | Salvataggio dei dati in formato CSV in /home/max/Desktop/census_tutorial/preprocessing/census_2021/data/Sezioni di Censimento/R04_indicatori_2021_sezioni.csv\n",
      "INFO | 47484 | 2024-10-10 18:05:23,518 | root | Salvataggio dei dati in formato CSV in /home/max/Desktop/census_tutorial/preprocessing/census_2021/data/Sezioni di Censimento/R04_indicatori_2021_sezioni.csv\n",
      "INFO | 47484 | 2024-10-10 18:05:23,650 | root | Dati salvati correttamente in /home/max/Desktop/census_tutorial/preprocessing/census_2021/data/Sezioni di Censimento/R04_indicatori_2021_sezioni.csv\n",
      "INFO | 47484 | 2024-10-10 18:05:23,650 | root | Dati salvati correttamente in /home/max/Desktop/census_tutorial/preprocessing/census_2021/data/Sezioni di Censimento/R04_indicatori_2021_sezioni.csv\n",
      "INFO | 47484 | 2024-10-10 18:05:23,650 | root | Dati salvati correttamente in /home/max/Desktop/census_tutorial/preprocessing/census_2021/data/Sezioni di Censimento/R04_indicatori_2021_sezioni.csv\n",
      "INFO | 47484 | 2024-10-10 18:05:23,650 | root | Dati salvati correttamente in /home/max/Desktop/census_tutorial/preprocessing/census_2021/data/Sezioni di Censimento/R04_indicatori_2021_sezioni.csv\n",
      "INFO | 47484 | 2024-10-10 18:05:23,650 | root | Dati salvati correttamente in /home/max/Desktop/census_tutorial/preprocessing/census_2021/data/Sezioni di Censimento/R04_indicatori_2021_sezioni.csv\n",
      "INFO | 47484 | 2024-10-10 18:05:23,650 | root | Dati salvati correttamente in /home/max/Desktop/census_tutorial/preprocessing/census_2021/data/Sezioni di Censimento/R04_indicatori_2021_sezioni.csv\n",
      "INFO | 47484 | 2024-10-10 18:05:23,650 | root | Dati salvati correttamente in /home/max/Desktop/census_tutorial/preprocessing/census_2021/data/Sezioni di Censimento/R04_indicatori_2021_sezioni.csv\n",
      "INFO | 47484 | 2024-10-10 18:05:23,650 | root | Dati salvati correttamente in /home/max/Desktop/census_tutorial/preprocessing/census_2021/data/Sezioni di Censimento/R04_indicatori_2021_sezioni.csv\n",
      "INFO | 47484 | 2024-10-10 18:05:23,653 | root | Lettura del file Excel da /home/max/Desktop/census_tutorial/preprocessing/census_2021/data/R19_indicatori_2021_sezioni.xlsx\n",
      "INFO | 47484 | 2024-10-10 18:05:23,653 | root | Lettura del file Excel da /home/max/Desktop/census_tutorial/preprocessing/census_2021/data/R19_indicatori_2021_sezioni.xlsx\n",
      "INFO | 47484 | 2024-10-10 18:05:23,653 | root | Lettura del file Excel da /home/max/Desktop/census_tutorial/preprocessing/census_2021/data/R19_indicatori_2021_sezioni.xlsx\n",
      "INFO | 47484 | 2024-10-10 18:05:23,653 | root | Lettura del file Excel da /home/max/Desktop/census_tutorial/preprocessing/census_2021/data/R19_indicatori_2021_sezioni.xlsx\n",
      "INFO | 47484 | 2024-10-10 18:05:23,653 | root | Lettura del file Excel da /home/max/Desktop/census_tutorial/preprocessing/census_2021/data/R19_indicatori_2021_sezioni.xlsx\n",
      "INFO | 47484 | 2024-10-10 18:05:23,653 | root | Lettura del file Excel da /home/max/Desktop/census_tutorial/preprocessing/census_2021/data/R19_indicatori_2021_sezioni.xlsx\n",
      "INFO | 47484 | 2024-10-10 18:05:23,653 | root | Lettura del file Excel da /home/max/Desktop/census_tutorial/preprocessing/census_2021/data/R19_indicatori_2021_sezioni.xlsx\n",
      "INFO | 47484 | 2024-10-10 18:05:23,653 | root | Lettura del file Excel da /home/max/Desktop/census_tutorial/preprocessing/census_2021/data/R19_indicatori_2021_sezioni.xlsx\n",
      "INFO | 47484 | 2024-10-10 18:05:49,028 | root | Salvataggio dei dati in formato CSV in /home/max/Desktop/census_tutorial/preprocessing/census_2021/data/Sezioni di Censimento/R19_indicatori_2021_sezioni.csv\n",
      "INFO | 47484 | 2024-10-10 18:05:49,028 | root | Salvataggio dei dati in formato CSV in /home/max/Desktop/census_tutorial/preprocessing/census_2021/data/Sezioni di Censimento/R19_indicatori_2021_sezioni.csv\n",
      "INFO | 47484 | 2024-10-10 18:05:49,028 | root | Salvataggio dei dati in formato CSV in /home/max/Desktop/census_tutorial/preprocessing/census_2021/data/Sezioni di Censimento/R19_indicatori_2021_sezioni.csv\n",
      "INFO | 47484 | 2024-10-10 18:05:49,028 | root | Salvataggio dei dati in formato CSV in /home/max/Desktop/census_tutorial/preprocessing/census_2021/data/Sezioni di Censimento/R19_indicatori_2021_sezioni.csv\n",
      "INFO | 47484 | 2024-10-10 18:05:49,028 | root | Salvataggio dei dati in formato CSV in /home/max/Desktop/census_tutorial/preprocessing/census_2021/data/Sezioni di Censimento/R19_indicatori_2021_sezioni.csv\n",
      "INFO | 47484 | 2024-10-10 18:05:49,028 | root | Salvataggio dei dati in formato CSV in /home/max/Desktop/census_tutorial/preprocessing/census_2021/data/Sezioni di Censimento/R19_indicatori_2021_sezioni.csv\n",
      "INFO | 47484 | 2024-10-10 18:05:49,028 | root | Salvataggio dei dati in formato CSV in /home/max/Desktop/census_tutorial/preprocessing/census_2021/data/Sezioni di Censimento/R19_indicatori_2021_sezioni.csv\n",
      "INFO | 47484 | 2024-10-10 18:05:49,028 | root | Salvataggio dei dati in formato CSV in /home/max/Desktop/census_tutorial/preprocessing/census_2021/data/Sezioni di Censimento/R19_indicatori_2021_sezioni.csv\n",
      "INFO | 47484 | 2024-10-10 18:05:49,421 | root | Dati salvati correttamente in /home/max/Desktop/census_tutorial/preprocessing/census_2021/data/Sezioni di Censimento/R19_indicatori_2021_sezioni.csv\n",
      "INFO | 47484 | 2024-10-10 18:05:49,421 | root | Dati salvati correttamente in /home/max/Desktop/census_tutorial/preprocessing/census_2021/data/Sezioni di Censimento/R19_indicatori_2021_sezioni.csv\n",
      "INFO | 47484 | 2024-10-10 18:05:49,421 | root | Dati salvati correttamente in /home/max/Desktop/census_tutorial/preprocessing/census_2021/data/Sezioni di Censimento/R19_indicatori_2021_sezioni.csv\n",
      "INFO | 47484 | 2024-10-10 18:05:49,421 | root | Dati salvati correttamente in /home/max/Desktop/census_tutorial/preprocessing/census_2021/data/Sezioni di Censimento/R19_indicatori_2021_sezioni.csv\n",
      "INFO | 47484 | 2024-10-10 18:05:49,421 | root | Dati salvati correttamente in /home/max/Desktop/census_tutorial/preprocessing/census_2021/data/Sezioni di Censimento/R19_indicatori_2021_sezioni.csv\n",
      "INFO | 47484 | 2024-10-10 18:05:49,421 | root | Dati salvati correttamente in /home/max/Desktop/census_tutorial/preprocessing/census_2021/data/Sezioni di Censimento/R19_indicatori_2021_sezioni.csv\n",
      "INFO | 47484 | 2024-10-10 18:05:49,421 | root | Dati salvati correttamente in /home/max/Desktop/census_tutorial/preprocessing/census_2021/data/Sezioni di Censimento/R19_indicatori_2021_sezioni.csv\n",
      "INFO | 47484 | 2024-10-10 18:05:49,421 | root | Dati salvati correttamente in /home/max/Desktop/census_tutorial/preprocessing/census_2021/data/Sezioni di Censimento/R19_indicatori_2021_sezioni.csv\n",
      "INFO | 47484 | 2024-10-10 18:05:49,424 | root | Rimozione dei file XLS dalla cartella /home/max/Desktop/census_tutorial/preprocessing/census_2021\n",
      "INFO | 47484 | 2024-10-10 18:05:49,424 | root | Rimozione dei file XLS dalla cartella /home/max/Desktop/census_tutorial/preprocessing/census_2021\n",
      "INFO | 47484 | 2024-10-10 18:05:49,424 | root | Rimozione dei file XLS dalla cartella /home/max/Desktop/census_tutorial/preprocessing/census_2021\n",
      "INFO | 47484 | 2024-10-10 18:05:49,424 | root | Rimozione dei file XLS dalla cartella /home/max/Desktop/census_tutorial/preprocessing/census_2021\n",
      "INFO | 47484 | 2024-10-10 18:05:49,424 | root | Rimozione dei file XLS dalla cartella /home/max/Desktop/census_tutorial/preprocessing/census_2021\n",
      "INFO | 47484 | 2024-10-10 18:05:49,424 | root | Rimozione dei file XLS dalla cartella /home/max/Desktop/census_tutorial/preprocessing/census_2021\n",
      "INFO | 47484 | 2024-10-10 18:05:49,424 | root | Rimozione dei file XLS dalla cartella /home/max/Desktop/census_tutorial/preprocessing/census_2021\n",
      "INFO | 47484 | 2024-10-10 18:05:49,424 | root | Rimozione dei file XLS dalla cartella /home/max/Desktop/census_tutorial/preprocessing/census_2021\n",
      "INFO | 47484 | 2024-10-10 18:05:49,440 | root | Download dei dati censuari completato e salvato in /home/max/Desktop/census_tutorial/preprocessing/census_2021\n",
      "INFO | 47484 | 2024-10-10 18:05:49,440 | root | Download dei dati censuari completato e salvato in /home/max/Desktop/census_tutorial/preprocessing/census_2021\n",
      "INFO | 47484 | 2024-10-10 18:05:49,440 | root | Download dei dati censuari completato e salvato in /home/max/Desktop/census_tutorial/preprocessing/census_2021\n",
      "INFO | 47484 | 2024-10-10 18:05:49,440 | root | Download dei dati censuari completato e salvato in /home/max/Desktop/census_tutorial/preprocessing/census_2021\n",
      "INFO | 47484 | 2024-10-10 18:05:49,440 | root | Download dei dati censuari completato e salvato in /home/max/Desktop/census_tutorial/preprocessing/census_2021\n",
      "INFO | 47484 | 2024-10-10 18:05:49,440 | root | Download dei dati censuari completato e salvato in /home/max/Desktop/census_tutorial/preprocessing/census_2021\n",
      "INFO | 47484 | 2024-10-10 18:05:49,440 | root | Download dei dati censuari completato e salvato in /home/max/Desktop/census_tutorial/preprocessing/census_2021\n",
      "INFO | 47484 | 2024-10-10 18:05:49,440 | root | Download dei dati censuari completato e salvato in /home/max/Desktop/census_tutorial/preprocessing/census_2021\n",
      "INFO | 47484 | 2024-10-10 18:05:49,443 | root | Creazione della cartella per i dati del censimento 2021.\n",
      "INFO | 47484 | 2024-10-10 18:05:49,443 | root | Creazione della cartella per i dati del censimento 2021.\n",
      "INFO | 47484 | 2024-10-10 18:05:49,443 | root | Creazione della cartella per i dati del censimento 2021.\n",
      "INFO | 47484 | 2024-10-10 18:05:49,443 | root | Creazione della cartella per i dati del censimento 2021.\n",
      "INFO | 47484 | 2024-10-10 18:05:49,443 | root | Creazione della cartella per i dati del censimento 2021.\n",
      "INFO | 47484 | 2024-10-10 18:05:49,443 | root | Creazione della cartella per i dati del censimento 2021.\n",
      "INFO | 47484 | 2024-10-10 18:05:49,443 | root | Creazione della cartella per i dati del censimento 2021.\n",
      "INFO | 47484 | 2024-10-10 18:05:49,443 | root | Creazione della cartella per i dati del censimento 2021.\n",
      "INFO | 47484 | 2024-10-10 18:05:49,445 | root | Cartella creata o già esistente: /home/max/Desktop/census_tutorial/preprocessing/census_2021\n",
      "INFO | 47484 | 2024-10-10 18:05:49,445 | root | Cartella creata o già esistente: /home/max/Desktop/census_tutorial/preprocessing/census_2021\n",
      "INFO | 47484 | 2024-10-10 18:05:49,445 | root | Cartella creata o già esistente: /home/max/Desktop/census_tutorial/preprocessing/census_2021\n",
      "INFO | 47484 | 2024-10-10 18:05:49,445 | root | Cartella creata o già esistente: /home/max/Desktop/census_tutorial/preprocessing/census_2021\n",
      "INFO | 47484 | 2024-10-10 18:05:49,445 | root | Cartella creata o già esistente: /home/max/Desktop/census_tutorial/preprocessing/census_2021\n",
      "INFO | 47484 | 2024-10-10 18:05:49,445 | root | Cartella creata o già esistente: /home/max/Desktop/census_tutorial/preprocessing/census_2021\n",
      "INFO | 47484 | 2024-10-10 18:05:49,445 | root | Cartella creata o già esistente: /home/max/Desktop/census_tutorial/preprocessing/census_2021\n",
      "INFO | 47484 | 2024-10-10 18:05:49,445 | root | Cartella creata o già esistente: /home/max/Desktop/census_tutorial/preprocessing/census_2021\n",
      "INFO | 47484 | 2024-10-10 18:05:49,447 | root | Percorso del file di destinazione: /home/max/Desktop/census_tutorial/preprocessing/census_2021/geodata/R15_21.zip\n",
      "INFO | 47484 | 2024-10-10 18:05:49,447 | root | Percorso del file di destinazione: /home/max/Desktop/census_tutorial/preprocessing/census_2021/geodata/R15_21.zip\n",
      "INFO | 47484 | 2024-10-10 18:05:49,447 | root | Percorso del file di destinazione: /home/max/Desktop/census_tutorial/preprocessing/census_2021/geodata/R15_21.zip\n",
      "INFO | 47484 | 2024-10-10 18:05:49,447 | root | Percorso del file di destinazione: /home/max/Desktop/census_tutorial/preprocessing/census_2021/geodata/R15_21.zip\n",
      "INFO | 47484 | 2024-10-10 18:05:49,447 | root | Percorso del file di destinazione: /home/max/Desktop/census_tutorial/preprocessing/census_2021/geodata/R15_21.zip\n",
      "INFO | 47484 | 2024-10-10 18:05:49,447 | root | Percorso del file di destinazione: /home/max/Desktop/census_tutorial/preprocessing/census_2021/geodata/R15_21.zip\n",
      "INFO | 47484 | 2024-10-10 18:05:49,447 | root | Percorso del file di destinazione: /home/max/Desktop/census_tutorial/preprocessing/census_2021/geodata/R15_21.zip\n",
      "INFO | 47484 | 2024-10-10 18:05:49,447 | root | Percorso del file di destinazione: /home/max/Desktop/census_tutorial/preprocessing/census_2021/geodata/R15_21.zip\n",
      "INFO | 47484 | 2024-10-10 18:05:49,450 | root | Inizio download dei dati dal link: https://www.istat.it/storage/cartografia/basi_territoriali/2021/R15_21.zip\n",
      "INFO | 47484 | 2024-10-10 18:05:49,450 | root | Inizio download dei dati dal link: https://www.istat.it/storage/cartografia/basi_territoriali/2021/R15_21.zip\n",
      "INFO | 47484 | 2024-10-10 18:05:49,450 | root | Inizio download dei dati dal link: https://www.istat.it/storage/cartografia/basi_territoriali/2021/R15_21.zip\n",
      "INFO | 47484 | 2024-10-10 18:05:49,450 | root | Inizio download dei dati dal link: https://www.istat.it/storage/cartografia/basi_territoriali/2021/R15_21.zip\n",
      "INFO | 47484 | 2024-10-10 18:05:49,450 | root | Inizio download dei dati dal link: https://www.istat.it/storage/cartografia/basi_territoriali/2021/R15_21.zip\n",
      "INFO | 47484 | 2024-10-10 18:05:49,450 | root | Inizio download dei dati dal link: https://www.istat.it/storage/cartografia/basi_territoriali/2021/R15_21.zip\n",
      "INFO | 47484 | 2024-10-10 18:05:49,450 | root | Inizio download dei dati dal link: https://www.istat.it/storage/cartografia/basi_territoriali/2021/R15_21.zip\n",
      "INFO | 47484 | 2024-10-10 18:05:49,450 | root | Inizio download dei dati dal link: https://www.istat.it/storage/cartografia/basi_territoriali/2021/R15_21.zip\n"
     ]
    },
    {
     "name": "stderr",
     "output_type": "stream",
     "text": [
      "In download...: 100%|██████████| 34.2M/34.2M [00:04<00:00, 8.38MB/s]"
     ]
    },
    {
     "name": "stdout",
     "output_type": "stream",
     "text": [
      "INFO | 47484 | 2024-10-10 18:05:53,897 | root | Download completato con successo in 4.45 secondi.\n",
      "INFO | 47484 | 2024-10-10 18:05:53,897 | root | Download completato con successo in 4.45 secondi.\n",
      "INFO | 47484 | 2024-10-10 18:05:53,897 | root | Download completato con successo in 4.45 secondi.\n",
      "INFO | 47484 | 2024-10-10 18:05:53,897 | root | Download completato con successo in 4.45 secondi.\n",
      "INFO | 47484 | 2024-10-10 18:05:53,897 | root | Download completato con successo in 4.45 secondi.\n",
      "INFO | 47484 | 2024-10-10 18:05:53,897 | root | Download completato con successo in 4.45 secondi.\n",
      "INFO | 47484 | 2024-10-10 18:05:53,897 | root | Download completato con successo in 4.45 secondi.\n",
      "INFO | 47484 | 2024-10-10 18:05:53,897 | root | Download completato con successo in 4.45 secondi.\n",
      "INFO | 47484 | 2024-10-10 18:05:53,903 | root | Inizio estrazione del file ZIP.\n",
      "INFO | 47484 | 2024-10-10 18:05:53,903 | root | Inizio estrazione del file ZIP.\n",
      "INFO | 47484 | 2024-10-10 18:05:53,903 | root | Inizio estrazione del file ZIP.\n",
      "INFO | 47484 | 2024-10-10 18:05:53,903 | root | Inizio estrazione del file ZIP.\n",
      "INFO | 47484 | 2024-10-10 18:05:53,903 | root | Inizio estrazione del file ZIP.\n",
      "INFO | 47484 | 2024-10-10 18:05:53,903 | root | Inizio estrazione del file ZIP.\n",
      "INFO | 47484 | 2024-10-10 18:05:53,903 | root | Inizio estrazione del file ZIP.\n",
      "INFO | 47484 | 2024-10-10 18:05:53,903 | root | Inizio estrazione del file ZIP.\n",
      "INFO | 47484 | 2024-10-10 18:05:53,907 | root | Decompressione del file /home/max/Desktop/census_tutorial/preprocessing/census_2021/geodata/R15_21.zip nella cartella /home/max/Desktop/census_tutorial/preprocessing/census_2021/geodata.\n",
      "INFO | 47484 | 2024-10-10 18:05:53,907 | root | Decompressione del file /home/max/Desktop/census_tutorial/preprocessing/census_2021/geodata/R15_21.zip nella cartella /home/max/Desktop/census_tutorial/preprocessing/census_2021/geodata.\n",
      "INFO | 47484 | 2024-10-10 18:05:53,907 | root | Decompressione del file /home/max/Desktop/census_tutorial/preprocessing/census_2021/geodata/R15_21.zip nella cartella /home/max/Desktop/census_tutorial/preprocessing/census_2021/geodata.\n",
      "INFO | 47484 | 2024-10-10 18:05:53,907 | root | Decompressione del file /home/max/Desktop/census_tutorial/preprocessing/census_2021/geodata/R15_21.zip nella cartella /home/max/Desktop/census_tutorial/preprocessing/census_2021/geodata.\n",
      "INFO | 47484 | 2024-10-10 18:05:53,907 | root | Decompressione del file /home/max/Desktop/census_tutorial/preprocessing/census_2021/geodata/R15_21.zip nella cartella /home/max/Desktop/census_tutorial/preprocessing/census_2021/geodata.\n",
      "INFO | 47484 | 2024-10-10 18:05:53,907 | root | Decompressione del file /home/max/Desktop/census_tutorial/preprocessing/census_2021/geodata/R15_21.zip nella cartella /home/max/Desktop/census_tutorial/preprocessing/census_2021/geodata.\n",
      "INFO | 47484 | 2024-10-10 18:05:53,907 | root | Decompressione del file /home/max/Desktop/census_tutorial/preprocessing/census_2021/geodata/R15_21.zip nella cartella /home/max/Desktop/census_tutorial/preprocessing/census_2021/geodata.\n",
      "INFO | 47484 | 2024-10-10 18:05:53,907 | root | Decompressione del file /home/max/Desktop/census_tutorial/preprocessing/census_2021/geodata/R15_21.zip nella cartella /home/max/Desktop/census_tutorial/preprocessing/census_2021/geodata.\n"
     ]
    },
    {
     "name": "stderr",
     "output_type": "stream",
     "text": [
      "\n"
     ]
    },
    {
     "name": "stdout",
     "output_type": "stream",
     "text": [
      "INFO | 47484 | 2024-10-10 18:05:54,257 | root | Decompressione completata. File estratti in /home/max/Desktop/census_tutorial/preprocessing/census_2021/geodata.\n",
      "INFO | 47484 | 2024-10-10 18:05:54,257 | root | Decompressione completata. File estratti in /home/max/Desktop/census_tutorial/preprocessing/census_2021/geodata.\n",
      "INFO | 47484 | 2024-10-10 18:05:54,257 | root | Decompressione completata. File estratti in /home/max/Desktop/census_tutorial/preprocessing/census_2021/geodata.\n",
      "INFO | 47484 | 2024-10-10 18:05:54,257 | root | Decompressione completata. File estratti in /home/max/Desktop/census_tutorial/preprocessing/census_2021/geodata.\n",
      "INFO | 47484 | 2024-10-10 18:05:54,257 | root | Decompressione completata. File estratti in /home/max/Desktop/census_tutorial/preprocessing/census_2021/geodata.\n",
      "INFO | 47484 | 2024-10-10 18:05:54,257 | root | Decompressione completata. File estratti in /home/max/Desktop/census_tutorial/preprocessing/census_2021/geodata.\n",
      "INFO | 47484 | 2024-10-10 18:05:54,257 | root | Decompressione completata. File estratti in /home/max/Desktop/census_tutorial/preprocessing/census_2021/geodata.\n",
      "INFO | 47484 | 2024-10-10 18:05:54,257 | root | Decompressione completata. File estratti in /home/max/Desktop/census_tutorial/preprocessing/census_2021/geodata.\n",
      "INFO | 47484 | 2024-10-10 18:05:54,259 | root | Eliminazione del file ZIP | /home/max/Desktop/census_tutorial/preprocessing/census_2021/geodata/R15_21.zip\n",
      "INFO | 47484 | 2024-10-10 18:05:54,259 | root | Eliminazione del file ZIP | /home/max/Desktop/census_tutorial/preprocessing/census_2021/geodata/R15_21.zip\n",
      "INFO | 47484 | 2024-10-10 18:05:54,259 | root | Eliminazione del file ZIP | /home/max/Desktop/census_tutorial/preprocessing/census_2021/geodata/R15_21.zip\n",
      "INFO | 47484 | 2024-10-10 18:05:54,259 | root | Eliminazione del file ZIP | /home/max/Desktop/census_tutorial/preprocessing/census_2021/geodata/R15_21.zip\n",
      "INFO | 47484 | 2024-10-10 18:05:54,259 | root | Eliminazione del file ZIP | /home/max/Desktop/census_tutorial/preprocessing/census_2021/geodata/R15_21.zip\n",
      "INFO | 47484 | 2024-10-10 18:05:54,259 | root | Eliminazione del file ZIP | /home/max/Desktop/census_tutorial/preprocessing/census_2021/geodata/R15_21.zip\n",
      "INFO | 47484 | 2024-10-10 18:05:54,259 | root | Eliminazione del file ZIP | /home/max/Desktop/census_tutorial/preprocessing/census_2021/geodata/R15_21.zip\n",
      "INFO | 47484 | 2024-10-10 18:05:54,259 | root | Eliminazione del file ZIP | /home/max/Desktop/census_tutorial/preprocessing/census_2021/geodata/R15_21.zip\n",
      "INFO | 47484 | 2024-10-10 18:05:54,264 | root | File ZIP eliminato con successo.\n",
      "INFO | 47484 | 2024-10-10 18:05:54,264 | root | File ZIP eliminato con successo.\n",
      "INFO | 47484 | 2024-10-10 18:05:54,264 | root | File ZIP eliminato con successo.\n",
      "INFO | 47484 | 2024-10-10 18:05:54,264 | root | File ZIP eliminato con successo.\n",
      "INFO | 47484 | 2024-10-10 18:05:54,264 | root | File ZIP eliminato con successo.\n",
      "INFO | 47484 | 2024-10-10 18:05:54,264 | root | File ZIP eliminato con successo.\n",
      "INFO | 47484 | 2024-10-10 18:05:54,264 | root | File ZIP eliminato con successo.\n",
      "INFO | 47484 | 2024-10-10 18:05:54,264 | root | File ZIP eliminato con successo.\n",
      "INFO | 47484 | 2024-10-10 18:05:54,267 | root | Creazione della cartella per i dati del censimento in /home/max/Desktop/census_tutorial/preprocessing\n",
      "INFO | 47484 | 2024-10-10 18:05:54,267 | root | Creazione della cartella per i dati del censimento in /home/max/Desktop/census_tutorial/preprocessing\n",
      "INFO | 47484 | 2024-10-10 18:05:54,267 | root | Creazione della cartella per i dati del censimento in /home/max/Desktop/census_tutorial/preprocessing\n",
      "INFO | 47484 | 2024-10-10 18:05:54,267 | root | Creazione della cartella per i dati del censimento in /home/max/Desktop/census_tutorial/preprocessing\n",
      "INFO | 47484 | 2024-10-10 18:05:54,267 | root | Creazione della cartella per i dati del censimento in /home/max/Desktop/census_tutorial/preprocessing\n",
      "INFO | 47484 | 2024-10-10 18:05:54,267 | root | Creazione della cartella per i dati del censimento in /home/max/Desktop/census_tutorial/preprocessing\n",
      "INFO | 47484 | 2024-10-10 18:05:54,267 | root | Creazione della cartella per i dati del censimento in /home/max/Desktop/census_tutorial/preprocessing\n",
      "INFO | 47484 | 2024-10-10 18:05:54,267 | root | Creazione della cartella per i dati del censimento in /home/max/Desktop/census_tutorial/preprocessing\n",
      "INFO | 47484 | 2024-10-10 18:05:54,269 | root | Creazione della cartella per i dati del censimento 2021.\n",
      "INFO | 47484 | 2024-10-10 18:05:54,269 | root | Creazione della cartella per i dati del censimento 2021.\n",
      "INFO | 47484 | 2024-10-10 18:05:54,269 | root | Creazione della cartella per i dati del censimento 2021.\n",
      "INFO | 47484 | 2024-10-10 18:05:54,269 | root | Creazione della cartella per i dati del censimento 2021.\n",
      "INFO | 47484 | 2024-10-10 18:05:54,269 | root | Creazione della cartella per i dati del censimento 2021.\n",
      "INFO | 47484 | 2024-10-10 18:05:54,269 | root | Creazione della cartella per i dati del censimento 2021.\n",
      "INFO | 47484 | 2024-10-10 18:05:54,269 | root | Creazione della cartella per i dati del censimento 2021.\n",
      "INFO | 47484 | 2024-10-10 18:05:54,269 | root | Creazione della cartella per i dati del censimento 2021.\n",
      "INFO | 47484 | 2024-10-10 18:05:54,271 | root | Cartella creata o già esistente: /home/max/Desktop/census_tutorial/preprocessing/census_2021\n",
      "INFO | 47484 | 2024-10-10 18:05:54,271 | root | Cartella creata o già esistente: /home/max/Desktop/census_tutorial/preprocessing/census_2021\n",
      "INFO | 47484 | 2024-10-10 18:05:54,271 | root | Cartella creata o già esistente: /home/max/Desktop/census_tutorial/preprocessing/census_2021\n",
      "INFO | 47484 | 2024-10-10 18:05:54,271 | root | Cartella creata o già esistente: /home/max/Desktop/census_tutorial/preprocessing/census_2021\n",
      "INFO | 47484 | 2024-10-10 18:05:54,271 | root | Cartella creata o già esistente: /home/max/Desktop/census_tutorial/preprocessing/census_2021\n",
      "INFO | 47484 | 2024-10-10 18:05:54,271 | root | Cartella creata o già esistente: /home/max/Desktop/census_tutorial/preprocessing/census_2021\n",
      "INFO | 47484 | 2024-10-10 18:05:54,271 | root | Cartella creata o già esistente: /home/max/Desktop/census_tutorial/preprocessing/census_2021\n",
      "INFO | 47484 | 2024-10-10 18:05:54,271 | root | Cartella creata o già esistente: /home/max/Desktop/census_tutorial/preprocessing/census_2021\n",
      "INFO | 47484 | 2024-10-10 18:05:54,273 | root | Scaricamento dei confini amministrativi da https://www.istat.it/storage/cartografia/confini_amministrativi/non_generalizzati/Limiti2021.zip\n",
      "INFO | 47484 | 2024-10-10 18:05:54,273 | root | Scaricamento dei confini amministrativi da https://www.istat.it/storage/cartografia/confini_amministrativi/non_generalizzati/Limiti2021.zip\n",
      "INFO | 47484 | 2024-10-10 18:05:54,273 | root | Scaricamento dei confini amministrativi da https://www.istat.it/storage/cartografia/confini_amministrativi/non_generalizzati/Limiti2021.zip\n",
      "INFO | 47484 | 2024-10-10 18:05:54,273 | root | Scaricamento dei confini amministrativi da https://www.istat.it/storage/cartografia/confini_amministrativi/non_generalizzati/Limiti2021.zip\n",
      "INFO | 47484 | 2024-10-10 18:05:54,273 | root | Scaricamento dei confini amministrativi da https://www.istat.it/storage/cartografia/confini_amministrativi/non_generalizzati/Limiti2021.zip\n",
      "INFO | 47484 | 2024-10-10 18:05:54,273 | root | Scaricamento dei confini amministrativi da https://www.istat.it/storage/cartografia/confini_amministrativi/non_generalizzati/Limiti2021.zip\n",
      "INFO | 47484 | 2024-10-10 18:05:54,273 | root | Scaricamento dei confini amministrativi da https://www.istat.it/storage/cartografia/confini_amministrativi/non_generalizzati/Limiti2021.zip\n",
      "INFO | 47484 | 2024-10-10 18:05:54,273 | root | Scaricamento dei confini amministrativi da https://www.istat.it/storage/cartografia/confini_amministrativi/non_generalizzati/Limiti2021.zip\n",
      "INFO | 47484 | 2024-10-10 18:05:54,274 | root | Inizio download dei dati dal link: https://www.istat.it/storage/cartografia/confini_amministrativi/non_generalizzati/Limiti2021.zip\n",
      "INFO | 47484 | 2024-10-10 18:05:54,274 | root | Inizio download dei dati dal link: https://www.istat.it/storage/cartografia/confini_amministrativi/non_generalizzati/Limiti2021.zip\n",
      "INFO | 47484 | 2024-10-10 18:05:54,274 | root | Inizio download dei dati dal link: https://www.istat.it/storage/cartografia/confini_amministrativi/non_generalizzati/Limiti2021.zip\n",
      "INFO | 47484 | 2024-10-10 18:05:54,274 | root | Inizio download dei dati dal link: https://www.istat.it/storage/cartografia/confini_amministrativi/non_generalizzati/Limiti2021.zip\n",
      "INFO | 47484 | 2024-10-10 18:05:54,274 | root | Inizio download dei dati dal link: https://www.istat.it/storage/cartografia/confini_amministrativi/non_generalizzati/Limiti2021.zip\n",
      "INFO | 47484 | 2024-10-10 18:05:54,274 | root | Inizio download dei dati dal link: https://www.istat.it/storage/cartografia/confini_amministrativi/non_generalizzati/Limiti2021.zip\n",
      "INFO | 47484 | 2024-10-10 18:05:54,274 | root | Inizio download dei dati dal link: https://www.istat.it/storage/cartografia/confini_amministrativi/non_generalizzati/Limiti2021.zip\n",
      "INFO | 47484 | 2024-10-10 18:05:54,274 | root | Inizio download dei dati dal link: https://www.istat.it/storage/cartografia/confini_amministrativi/non_generalizzati/Limiti2021.zip\n"
     ]
    },
    {
     "name": "stderr",
     "output_type": "stream",
     "text": [
      "In download...: 100%|██████████| 97.9M/97.9M [00:10<00:00, 9.63MB/s]"
     ]
    },
    {
     "name": "stdout",
     "output_type": "stream",
     "text": [
      "INFO | 47484 | 2024-10-10 18:06:05,036 | root | Download completato con successo in 10.76 secondi.\n",
      "INFO | 47484 | 2024-10-10 18:06:05,036 | root | Download completato con successo in 10.76 secondi.\n",
      "INFO | 47484 | 2024-10-10 18:06:05,036 | root | Download completato con successo in 10.76 secondi.\n",
      "INFO | 47484 | 2024-10-10 18:06:05,036 | root | Download completato con successo in 10.76 secondi.\n",
      "INFO | 47484 | 2024-10-10 18:06:05,036 | root | Download completato con successo in 10.76 secondi.\n",
      "INFO | 47484 | 2024-10-10 18:06:05,036 | root | Download completato con successo in 10.76 secondi.\n",
      "INFO | 47484 | 2024-10-10 18:06:05,036 | root | Download completato con successo in 10.76 secondi.\n",
      "INFO | 47484 | 2024-10-10 18:06:05,036 | root | Download completato con successo in 10.76 secondi.\n",
      "INFO | 47484 | 2024-10-10 18:06:05,039 | root | Inizio estrazione del file ZIP.\n",
      "INFO | 47484 | 2024-10-10 18:06:05,039 | root | Inizio estrazione del file ZIP.\n",
      "INFO | 47484 | 2024-10-10 18:06:05,039 | root | Inizio estrazione del file ZIP.\n",
      "INFO | 47484 | 2024-10-10 18:06:05,039 | root | Inizio estrazione del file ZIP.\n",
      "INFO | 47484 | 2024-10-10 18:06:05,039 | root | Inizio estrazione del file ZIP.\n",
      "INFO | 47484 | 2024-10-10 18:06:05,039 | root | Inizio estrazione del file ZIP.\n",
      "INFO | 47484 | 2024-10-10 18:06:05,039 | root | Inizio estrazione del file ZIP.\n",
      "INFO | 47484 | 2024-10-10 18:06:05,039 | root | Inizio estrazione del file ZIP.\n",
      "INFO | 47484 | 2024-10-10 18:06:05,042 | root | Decompressione del file /home/max/Desktop/census_tutorial/preprocessing/census_2021/administrative_boundaries/Limiti2021.zip nella cartella /home/max/Desktop/census_tutorial/preprocessing/census_2021/administrative_boundaries.\n",
      "INFO | 47484 | 2024-10-10 18:06:05,042 | root | Decompressione del file /home/max/Desktop/census_tutorial/preprocessing/census_2021/administrative_boundaries/Limiti2021.zip nella cartella /home/max/Desktop/census_tutorial/preprocessing/census_2021/administrative_boundaries.\n",
      "INFO | 47484 | 2024-10-10 18:06:05,042 | root | Decompressione del file /home/max/Desktop/census_tutorial/preprocessing/census_2021/administrative_boundaries/Limiti2021.zip nella cartella /home/max/Desktop/census_tutorial/preprocessing/census_2021/administrative_boundaries.\n",
      "INFO | 47484 | 2024-10-10 18:06:05,042 | root | Decompressione del file /home/max/Desktop/census_tutorial/preprocessing/census_2021/administrative_boundaries/Limiti2021.zip nella cartella /home/max/Desktop/census_tutorial/preprocessing/census_2021/administrative_boundaries.\n",
      "INFO | 47484 | 2024-10-10 18:06:05,042 | root | Decompressione del file /home/max/Desktop/census_tutorial/preprocessing/census_2021/administrative_boundaries/Limiti2021.zip nella cartella /home/max/Desktop/census_tutorial/preprocessing/census_2021/administrative_boundaries.\n",
      "INFO | 47484 | 2024-10-10 18:06:05,042 | root | Decompressione del file /home/max/Desktop/census_tutorial/preprocessing/census_2021/administrative_boundaries/Limiti2021.zip nella cartella /home/max/Desktop/census_tutorial/preprocessing/census_2021/administrative_boundaries.\n",
      "INFO | 47484 | 2024-10-10 18:06:05,042 | root | Decompressione del file /home/max/Desktop/census_tutorial/preprocessing/census_2021/administrative_boundaries/Limiti2021.zip nella cartella /home/max/Desktop/census_tutorial/preprocessing/census_2021/administrative_boundaries.\n",
      "INFO | 47484 | 2024-10-10 18:06:05,042 | root | Decompressione del file /home/max/Desktop/census_tutorial/preprocessing/census_2021/administrative_boundaries/Limiti2021.zip nella cartella /home/max/Desktop/census_tutorial/preprocessing/census_2021/administrative_boundaries.\n"
     ]
    },
    {
     "name": "stderr",
     "output_type": "stream",
     "text": [
      "\n"
     ]
    },
    {
     "name": "stdout",
     "output_type": "stream",
     "text": [
      "INFO | 47484 | 2024-10-10 18:06:05,932 | root | Decompressione completata. File estratti in /home/max/Desktop/census_tutorial/preprocessing/census_2021/administrative_boundaries.\n",
      "INFO | 47484 | 2024-10-10 18:06:05,932 | root | Decompressione completata. File estratti in /home/max/Desktop/census_tutorial/preprocessing/census_2021/administrative_boundaries.\n",
      "INFO | 47484 | 2024-10-10 18:06:05,932 | root | Decompressione completata. File estratti in /home/max/Desktop/census_tutorial/preprocessing/census_2021/administrative_boundaries.\n",
      "INFO | 47484 | 2024-10-10 18:06:05,932 | root | Decompressione completata. File estratti in /home/max/Desktop/census_tutorial/preprocessing/census_2021/administrative_boundaries.\n",
      "INFO | 47484 | 2024-10-10 18:06:05,932 | root | Decompressione completata. File estratti in /home/max/Desktop/census_tutorial/preprocessing/census_2021/administrative_boundaries.\n",
      "INFO | 47484 | 2024-10-10 18:06:05,932 | root | Decompressione completata. File estratti in /home/max/Desktop/census_tutorial/preprocessing/census_2021/administrative_boundaries.\n",
      "INFO | 47484 | 2024-10-10 18:06:05,932 | root | Decompressione completata. File estratti in /home/max/Desktop/census_tutorial/preprocessing/census_2021/administrative_boundaries.\n",
      "INFO | 47484 | 2024-10-10 18:06:05,932 | root | Decompressione completata. File estratti in /home/max/Desktop/census_tutorial/preprocessing/census_2021/administrative_boundaries.\n",
      "INFO | 47484 | 2024-10-10 18:06:05,936 | root | Eliminazione del file ZIP | /home/max/Desktop/census_tutorial/preprocessing/census_2021/administrative_boundaries/Limiti2021.zip\n",
      "INFO | 47484 | 2024-10-10 18:06:05,936 | root | Eliminazione del file ZIP | /home/max/Desktop/census_tutorial/preprocessing/census_2021/administrative_boundaries/Limiti2021.zip\n",
      "INFO | 47484 | 2024-10-10 18:06:05,936 | root | Eliminazione del file ZIP | /home/max/Desktop/census_tutorial/preprocessing/census_2021/administrative_boundaries/Limiti2021.zip\n",
      "INFO | 47484 | 2024-10-10 18:06:05,936 | root | Eliminazione del file ZIP | /home/max/Desktop/census_tutorial/preprocessing/census_2021/administrative_boundaries/Limiti2021.zip\n",
      "INFO | 47484 | 2024-10-10 18:06:05,936 | root | Eliminazione del file ZIP | /home/max/Desktop/census_tutorial/preprocessing/census_2021/administrative_boundaries/Limiti2021.zip\n",
      "INFO | 47484 | 2024-10-10 18:06:05,936 | root | Eliminazione del file ZIP | /home/max/Desktop/census_tutorial/preprocessing/census_2021/administrative_boundaries/Limiti2021.zip\n",
      "INFO | 47484 | 2024-10-10 18:06:05,936 | root | Eliminazione del file ZIP | /home/max/Desktop/census_tutorial/preprocessing/census_2021/administrative_boundaries/Limiti2021.zip\n",
      "INFO | 47484 | 2024-10-10 18:06:05,936 | root | Eliminazione del file ZIP | /home/max/Desktop/census_tutorial/preprocessing/census_2021/administrative_boundaries/Limiti2021.zip\n",
      "INFO | 47484 | 2024-10-10 18:06:05,950 | root | File ZIP eliminato con successo.\n",
      "INFO | 47484 | 2024-10-10 18:06:05,950 | root | File ZIP eliminato con successo.\n",
      "INFO | 47484 | 2024-10-10 18:06:05,950 | root | File ZIP eliminato con successo.\n",
      "INFO | 47484 | 2024-10-10 18:06:05,950 | root | File ZIP eliminato con successo.\n",
      "INFO | 47484 | 2024-10-10 18:06:05,950 | root | File ZIP eliminato con successo.\n",
      "INFO | 47484 | 2024-10-10 18:06:05,950 | root | File ZIP eliminato con successo.\n",
      "INFO | 47484 | 2024-10-10 18:06:05,950 | root | File ZIP eliminato con successo.\n",
      "INFO | 47484 | 2024-10-10 18:06:05,950 | root | File ZIP eliminato con successo.\n",
      "INFO | 47484 | 2024-10-10 18:06:05,953 | root | Download dei confini amministrativi completato e salvato in /home/max/Desktop/census_tutorial/preprocessing/census_2021\n",
      "INFO | 47484 | 2024-10-10 18:06:05,953 | root | Download dei confini amministrativi completato e salvato in /home/max/Desktop/census_tutorial/preprocessing/census_2021\n",
      "INFO | 47484 | 2024-10-10 18:06:05,953 | root | Download dei confini amministrativi completato e salvato in /home/max/Desktop/census_tutorial/preprocessing/census_2021\n",
      "INFO | 47484 | 2024-10-10 18:06:05,953 | root | Download dei confini amministrativi completato e salvato in /home/max/Desktop/census_tutorial/preprocessing/census_2021\n",
      "INFO | 47484 | 2024-10-10 18:06:05,953 | root | Download dei confini amministrativi completato e salvato in /home/max/Desktop/census_tutorial/preprocessing/census_2021\n",
      "INFO | 47484 | 2024-10-10 18:06:05,953 | root | Download dei confini amministrativi completato e salvato in /home/max/Desktop/census_tutorial/preprocessing/census_2021\n",
      "INFO | 47484 | 2024-10-10 18:06:05,953 | root | Download dei confini amministrativi completato e salvato in /home/max/Desktop/census_tutorial/preprocessing/census_2021\n",
      "INFO | 47484 | 2024-10-10 18:06:05,953 | root | Download dei confini amministrativi completato e salvato in /home/max/Desktop/census_tutorial/preprocessing/census_2021\n",
      "INFO | 47484 | 2024-10-10 18:06:05,955 | root | Analisi completata in 0:10:05.666441\n",
      "INFO | 47484 | 2024-10-10 18:06:05,955 | root | Analisi completata in 0:10:05.666441\n",
      "INFO | 47484 | 2024-10-10 18:06:05,955 | root | Analisi completata in 0:10:05.666441\n",
      "INFO | 47484 | 2024-10-10 18:06:05,955 | root | Analisi completata in 0:10:05.666441\n",
      "INFO | 47484 | 2024-10-10 18:06:05,955 | root | Analisi completata in 0:10:05.666441\n",
      "INFO | 47484 | 2024-10-10 18:06:05,955 | root | Analisi completata in 0:10:05.666441\n",
      "INFO | 47484 | 2024-10-10 18:06:05,955 | root | Analisi completata in 0:10:05.666441\n",
      "INFO | 47484 | 2024-10-10 18:06:05,955 | root | Analisi completata in 0:10:05.666441\n",
      "CPU times: user 7min 42s, sys: 7.99 s, total: 7min 50s\n",
      "Wall time: 10min 5s\n"
     ]
    }
   ],
   "execution_count": 3
  },
  {
   "cell_type": "markdown",
   "source": [
    "## Conclusione"
   ],
   "metadata": {
    "collapsed": false
   }
  },
  {
   "cell_type": "markdown",
   "source": [
    "Al termine del processo di download tutti i dati grezzi saranno visibili nel path di destinazione."
   ],
   "metadata": {
    "collapsed": false
   }
  }
 ],
 "metadata": {
  "kernelspec": {
   "display_name": "Python 3",
   "language": "python",
   "name": "python3"
  },
  "language_info": {
   "codemirror_mode": {
    "name": "ipython",
    "version": 2
   },
   "file_extension": ".py",
   "mimetype": "text/x-python",
   "name": "python",
   "nbconvert_exporter": "python",
   "pygments_lexer": "ipython2",
   "version": "2.7.6"
  }
 },
 "nbformat": 4,
 "nbformat_minor": 0
}
