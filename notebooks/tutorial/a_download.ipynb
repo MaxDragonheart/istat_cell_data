{
 "cells": [
  {
   "cell_type": "markdown",
   "source": [
    "# DOWNLOAD dei dati censuari grezzi"
   ],
   "metadata": {
    "collapsed": false
   }
  },
  {
   "cell_type": "markdown",
   "source": [
    "L'installazione di ISTAT Cell Data si effettua con il classico `pip install istatcelldata`. Se si ha la necessità di installare una versione specifica si può fare riferimento [qui](istatcelldata)."
   ],
   "metadata": {
    "collapsed": false
   }
  },
  {
   "cell_type": "markdown",
   "source": [
    "## Import delle librerie"
   ],
   "metadata": {
    "collapsed": false
   }
  },
  {
   "cell_type": "code",
   "execution_count": 1,
   "source": [
    "from pathlib import Path\n",
    "from istatcelldata.processes import download_raw_data"
   ],
   "metadata": {
    "collapsed": false,
    "ExecuteTime": {
     "end_time": "2023-05-06T18:56:11.289434658Z",
     "start_time": "2023-05-06T18:56:10.938536065Z"
    }
   },
   "outputs": []
  },
  {
   "cell_type": "markdown",
   "source": [
    "## Definizione del path di destinazione dei dati"
   ],
   "metadata": {
    "collapsed": false
   }
  },
  {
   "cell_type": "code",
   "execution_count": 2,
   "source": [
    "output_path = Path('/home/max/Desktop')"
   ],
   "metadata": {
    "collapsed": false,
    "ExecuteTime": {
     "end_time": "2023-05-06T18:56:11.291948914Z",
     "start_time": "2023-05-06T18:56:11.289910027Z"
    }
   },
   "outputs": []
  },
  {
   "cell_type": "markdown",
   "source": [
    "## Download"
   ],
   "metadata": {
    "collapsed": false
   }
  },
  {
   "cell_type": "code",
   "execution_count": 3,
   "source": [
    "download_raw_data(output_data_folder=output_path, year_list=[2011], region_list=[15, 17])"
   ],
   "metadata": {
    "collapsed": false,
    "ExecuteTime": {
     "end_time": "2023-05-06T18:56:40.342709029Z",
     "start_time": "2023-05-06T18:56:11.293364595Z"
    }
   },
   "outputs": []
  },
  {
   "cell_type": "markdown",
   "source": [
    "## Conclusione"
   ],
   "metadata": {
    "collapsed": false
   }
  },
  {
   "cell_type": "markdown",
   "source": [
    "Al termine del processo di download tutti i dati grezzi saranno visibili nel path di destinazione."
   ],
   "metadata": {
    "collapsed": false
   }
  }
 ],
 "metadata": {
  "kernelspec": {
   "display_name": "Python 3",
   "language": "python",
   "name": "python3"
  },
  "language_info": {
   "codemirror_mode": {
    "name": "ipython",
    "version": 2
   },
   "file_extension": ".py",
   "mimetype": "text/x-python",
   "name": "python",
   "nbconvert_exporter": "python",
   "pygments_lexer": "ipython2",
   "version": "2.7.6"
  }
 },
 "nbformat": 4,
 "nbformat_minor": 0
}
