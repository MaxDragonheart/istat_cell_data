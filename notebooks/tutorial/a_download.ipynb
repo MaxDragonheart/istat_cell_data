{
 "cells": [
  {
   "cell_type": "markdown",
   "source": [
    "# DOWNLOAD dei dati censuari grezzi"
   ],
   "metadata": {
    "collapsed": false
   }
  },
  {
   "cell_type": "markdown",
   "source": [
    "L'installazione di ISTAT Cell Data si effettua con il classico `pip install istatcelldata`. Se si ha la necessità di installare una versione specifica si può fare riferimento [qui](istatcelldata)."
   ],
   "metadata": {
    "collapsed": false
   }
  },
  {
   "cell_type": "markdown",
   "source": [
    "## Import delle librerie"
   ],
   "metadata": {
    "collapsed": false
   }
  },
  {
   "cell_type": "code",
   "execution_count": 1,
   "outputs": [],
   "source": [
    "from pathlib import Path\n",
    "from istatcelldata.processes import download_raw_data"
   ],
   "metadata": {
    "collapsed": false,
    "ExecuteTime": {
     "end_time": "2023-05-06T18:56:11.289434658Z",
     "start_time": "2023-05-06T18:56:10.938536065Z"
    }
   }
  },
  {
   "cell_type": "markdown",
   "source": [
    "## Definizione del path di destinazione dei dati"
   ],
   "metadata": {
    "collapsed": false
   }
  },
  {
   "cell_type": "code",
   "execution_count": 2,
   "outputs": [],
   "source": [
    "output_path = Path('/home/max/Desktop')"
   ],
   "metadata": {
    "collapsed": false,
    "ExecuteTime": {
     "end_time": "2023-05-06T18:56:11.291948914Z",
     "start_time": "2023-05-06T18:56:11.289910027Z"
    }
   }
  },
  {
   "cell_type": "markdown",
   "source": [
    "## Download"
   ],
   "metadata": {
    "collapsed": false
   }
  },
  {
   "cell_type": "code",
   "execution_count": 3,
   "outputs": [
    {
     "name": "stderr",
     "output_type": "stream",
     "text": [
      "2023-05-06 20:56:11,297 | 27856 - Start analysis at 2023-05-06 20:56:11.297747\n",
      "2023-05-06 20:56:11,298 | 27856 - Start download census data for year 2011\n",
      "2023-05-06 20:56:11,298 | 27856 - Make folder for 2011' census data and geodata.\n",
      "2023-05-06 20:56:11,301 | 27856 - Download census data\n",
      "2023-05-06 20:56:11,302 | 27856 - Download census data | https://www.istat.it/storage/cartografia/variabili-censuarie/dati-cpa_2011.zip\n"
     ]
    },
    {
     "data": {
      "text/plain": "Downloading...:   0%|          | 0/52442848 [00:00<?, ?it/s]",
      "application/vnd.jupyter.widget-view+json": {
       "version_major": 2,
       "version_minor": 0,
       "model_id": "8d81514a9533484192012f20821c1668"
      }
     },
     "metadata": {},
     "output_type": "display_data"
    },
    {
     "name": "stderr",
     "output_type": "stream",
     "text": [
      "2023-05-06 20:56:21,780 | 27856 - Download completed\n",
      "2023-05-06 20:56:21,781 | 27856 - Unzip file\n",
      "2023-05-06 20:56:22,593 | 27856 - Deleting zip file | /home/max/Desktop/preprocessing/census_2011/data/dati-cpa_2011.zip\n",
      "2023-05-06 20:56:22,601 | 27856 - File deleted\n",
      "2023-05-06 20:56:22,605 | 27856 - Download census data completed\n",
      "2023-05-06 20:56:22,605 | 27856 - Make folder for 2011' census data and geodata.\n",
      "2023-05-06 20:56:22,606 | 27856 - Download census geodata\n",
      "2023-05-06 20:56:22,606 | 27856 - Download census data | https://www.istat.it/storage/cartografia/basi_territoriali/WGS_84_UTM/2011/R15_11_WGS84.zip\n"
     ]
    },
    {
     "data": {
      "text/plain": "Downloading...:   0%|          | 0/21913253 [00:00<?, ?it/s]",
      "application/vnd.jupyter.widget-view+json": {
       "version_major": 2,
       "version_minor": 0,
       "model_id": "c67522a4f6814a25813db6379c3e42ff"
      }
     },
     "metadata": {},
     "output_type": "display_data"
    },
    {
     "name": "stderr",
     "output_type": "stream",
     "text": [
      "2023-05-06 20:56:26,011 | 27856 - Download completed\n",
      "2023-05-06 20:56:26,012 | 27856 - Unzip file\n",
      "2023-05-06 20:56:26,205 | 27856 - Deleting zip file | /home/max/Desktop/preprocessing/census_2011/geodata/R15_11_WGS84.zip\n",
      "2023-05-06 20:56:26,209 | 27856 - File deleted\n",
      "2023-05-06 20:56:26,210 | 27856 - Download census data | https://www.istat.it/storage/cartografia/basi_territoriali/WGS_84_UTM/2011/R17_11_WGS84.zip\n"
     ]
    },
    {
     "data": {
      "text/plain": "Downloading...:   0%|          | 0/7721311 [00:00<?, ?it/s]",
      "application/vnd.jupyter.widget-view+json": {
       "version_major": 2,
       "version_minor": 0,
       "model_id": "e284fffd61b84661b2083fb1cab722c1"
      }
     },
     "metadata": {},
     "output_type": "display_data"
    },
    {
     "name": "stderr",
     "output_type": "stream",
     "text": [
      "2023-05-06 20:56:27,805 | 27856 - Download completed\n",
      "2023-05-06 20:56:27,806 | 27856 - Unzip file\n",
      "2023-05-06 20:56:27,876 | 27856 - Deleting zip file | /home/max/Desktop/preprocessing/census_2011/geodata/R17_11_WGS84.zip\n",
      "2023-05-06 20:56:27,877 | 27856 - File deleted\n",
      "2023-05-06 20:56:27,878 | 27856 - Download census geodata completed\n",
      "2023-05-06 20:56:27,879 | 27856 - Make folder for 2011' census data and geodata.\n",
      "2023-05-06 20:56:27,881 | 27856 - Download administrative boundaries\n",
      "2023-05-06 20:56:27,881 | 27856 - Download census data | https://www.istat.it/storage/cartografia/confini_amministrativi/non_generalizzati/Limiti2011.zip\n"
     ]
    },
    {
     "data": {
      "text/plain": "Downloading...:   0%|          | 0/67263737 [00:00<?, ?it/s]",
      "application/vnd.jupyter.widget-view+json": {
       "version_major": 2,
       "version_minor": 0,
       "model_id": "a69e4a39cc254611ac1381e82da9357f"
      }
     },
     "metadata": {},
     "output_type": "display_data"
    },
    {
     "name": "stderr",
     "output_type": "stream",
     "text": [
      "2023-05-06 20:56:39,568 | 27856 - Download completed\n",
      "2023-05-06 20:56:39,569 | 27856 - Unzip file\n",
      "2023-05-06 20:56:40,327 | 27856 - Deleting zip file | /home/max/Desktop/preprocessing/census_2011/administrative_boundaries/Limiti2011.zip\n",
      "2023-05-06 20:56:40,335 | 27856 - File deleted\n",
      "2023-05-06 20:56:40,338 | 27856 - Download administrative boundaries completed\n",
      "2023-05-06 20:56:40,339 | 27856 - End analysis in 0:00:29.041591\n"
     ]
    }
   ],
   "source": [
    "download_raw_data(output_data_folder=output_path, year_list=[2011], region_list=[15, 17])"
   ],
   "metadata": {
    "collapsed": false,
    "ExecuteTime": {
     "end_time": "2023-05-06T18:56:40.342709029Z",
     "start_time": "2023-05-06T18:56:11.293364595Z"
    }
   }
  },
  {
   "cell_type": "markdown",
   "source": [
    "## Conclusione"
   ],
   "metadata": {
    "collapsed": false
   }
  },
  {
   "cell_type": "markdown",
   "source": [
    "Al termine del processo di download tutti i dati grezzi saranno visibili nel path di destinazione."
   ],
   "metadata": {
    "collapsed": false
   }
  }
 ],
 "metadata": {
  "kernelspec": {
   "display_name": "Python 3",
   "language": "python",
   "name": "python3"
  },
  "language_info": {
   "codemirror_mode": {
    "name": "ipython",
    "version": 2
   },
   "file_extension": ".py",
   "mimetype": "text/x-python",
   "name": "python",
   "nbconvert_exporter": "python",
   "pygments_lexer": "ipython2",
   "version": "2.7.6"
  }
 },
 "nbformat": 4,
 "nbformat_minor": 0
}
